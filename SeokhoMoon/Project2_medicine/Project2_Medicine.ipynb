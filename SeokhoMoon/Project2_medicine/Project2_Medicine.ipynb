{
  "nbformat": 4,
  "nbformat_minor": 0,
  "metadata": {
    "colab": {
      "provenance": [],
      "authorship_tag": "ABX9TyN9noHz1clFstx9jd1p87uq",
      "include_colab_link": true
    },
    "kernelspec": {
      "name": "python3",
      "display_name": "Python 3"
    },
    "language_info": {
      "name": "python"
    }
  },
  "cells": [
    {
      "cell_type": "markdown",
      "metadata": {
        "id": "view-in-github",
        "colab_type": "text"
      },
      "source": [
        "<a href=\"https://colab.research.google.com/github/JJay1010/K-software_-/blob/main/SeokhoMoon/Project2_medicine/Project2_Medicine.ipynb\" target=\"_parent\"><img src=\"https://colab.research.google.com/assets/colab-badge.svg\" alt=\"Open In Colab\"/></a>"
      ]
    },
    {
      "cell_type": "markdown",
      "source": [
        "<h1>방향을 못 잡는 사람들은</h1>\n",
        "<h5>Validation, 경구약재조합 5000종을 데이터로 잡을 것</h5>\n",
        "<h5>데이터 전처리 및 이미지에서 bbox(개체 구별하는 박스) 좌표를 이용한 crop해보기를 목표로 할 것</h5>"
      ],
      "metadata": {
        "id": "AEc0Yj6ayx1r"
      }
    },
    {
      "cell_type": "code",
      "execution_count": 30,
      "metadata": {
        "id": "FL86vxAs-cBv",
        "colab": {
          "base_uri": "https://localhost:8080/",
          "height": 35
        },
        "outputId": "ea485a9f-6db4-42ce-ef97-1b8f2f3d357a"
      },
      "outputs": [
        {
          "output_type": "execute_result",
          "data": {
            "text/plain": [
              "'sample_data/K-016235-027733-029667-031885_0_2_0_2_70_000_200.png'"
            ],
            "application/vnd.google.colaboratory.intrinsic+json": {
              "type": "string"
            }
          },
          "metadata": {},
          "execution_count": 30
        }
      ],
      "source": [
        "import json\n",
        "import matplotlib.pyplot as plt\n",
        "import pandas as pd\n",
        "import numpy as np\n",
        "\n",
        "# json 불러오기\n",
        "# 파일 이름: K-016235-027733-029667-031885_0_2_0_2_70_000_200\n",
        "# with open(json_file_path,'r') as j: # open : r - 읽기모드, w-쓰기모드, a-추가모드\n",
        "#   contents=json.loads(j.read())  \n",
        "\n",
        "mother_path=\"sample_data/\"\n",
        "json_file_name=\"K-016235-027733-029667-031885_0_2_0_2_70_000_200.json\"\n",
        "json_file_path=mother_path + json_file_name\n",
        "json_file = json.load(open(json_file_path))\n",
        "\n",
        "img_file_name = mother_path + json_file.get('images')[0]['file_name']\n",
        "img_file_name"
      ]
    },
    {
      "cell_type": "code",
      "source": [
        "import cv2\n",
        "cv2.__version__\n",
        "\n",
        "# 이미지 로드 및 확인\n",
        "img_file = cv2.imread(img_file_name, cv2.IMREAD_COLOR)\n",
        "img_rgb = cv2.cvtColor(img_file,cv2.COLOR_BGR2RGB)\n",
        "plt.imshow(img_file), plt.axis(\"off\")\n",
        "plt.show\n"
      ],
      "metadata": {
        "id": "q8dKkrbw1_yi"
      },
      "execution_count": 32,
      "outputs": []
    },
    {
      "cell_type": "code",
      "source": [],
      "metadata": {
        "id": "AcM0PVkP2atJ"
      },
      "execution_count": null,
      "outputs": []
    }
  ]
}