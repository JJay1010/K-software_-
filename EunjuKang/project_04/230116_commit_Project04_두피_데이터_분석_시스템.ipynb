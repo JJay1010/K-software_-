{
  "nbformat": 4,
  "nbformat_minor": 0,
  "metadata": {
    "colab": {
      "provenance": [],
      "authorship_tag": "ABX9TyMki0NFp+uhnP4GCQShvDPa",
      "include_colab_link": true
    },
    "kernelspec": {
      "name": "python3",
      "display_name": "Python 3"
    },
    "language_info": {
      "name": "python"
    }
  },
  "cells": [
    {
      "cell_type": "markdown",
      "metadata": {
        "id": "view-in-github",
        "colab_type": "text"
      },
      "source": [
        "<a href=\"https://colab.research.google.com/github/JJay1010/K-software_-/blob/main/EunjuKang/project_04/230116_commit_Project04_%EB%91%90%ED%94%BC_%EB%8D%B0%EC%9D%B4%ED%84%B0_%EB%B6%84%EC%84%9D_%EC%8B%9C%EC%8A%A4%ED%85%9C.ipynb\" target=\"_parent\"><img src=\"https://colab.research.google.com/assets/colab-badge.svg\" alt=\"Open In Colab\"/></a>"
      ]
    },
    {
      "cell_type": "markdown",
      "source": [
        "# Project04.두피 데이터 분석 시스템"
      ],
      "metadata": {
        "id": "nbK60fqMSUrr"
      }
    },
    {
      "cell_type": "markdown",
      "source": [
        "주어진 데이터가 어떻게 구성되어 있고 어느 부분을 어떻게 활용할지 생각해봐야함 \n"
      ],
      "metadata": {
        "id": "3Jpt7Iarb6_R"
      }
    },
    {
      "cell_type": "markdown",
      "source": [
        "1. Validation set: 원천데이터와 라벨링데이터\n",
        "\n",
        "  미세각질 피지과다 모낭사이홍반 모낭홍반농포 비듬 탈모 6종류가 0-3로 분류되어 있음\n",
        "\n",
        "2. Meta data: 각 사람에 대한 정보"
      ],
      "metadata": {
        "id": "fl1d29Qm-QSG"
      }
    },
    {
      "cell_type": "markdown",
      "source": [
        "데이터 구조 정리\n",
        "\n",
        "Meta Data 디렉토리 안에는 \n",
        "\n",
        "  0013_A2LEBJJDE00060O_1602578303771_2_TH_META.json -> 5개\n",
        "\n",
        "  0013_A2LEBJJDE00060O_1602578303771_3_TH\n",
        "\n",
        "  0013_A2LEBJJDE00060O_1602578303771_4_LH\n",
        "\n",
        "  0013_A2LEBJJDE00060O_1602578303771_5_RH\n",
        "\n",
        "  0013_A2LEBJJDE00060O_1602578303771_6_BH\n",
        "\n",
        "위와 같이 한 사람에 대해 json 파일이 다섯개 있으며 \n",
        "\n",
        "'0013_A2LEBJJDE00060O_1602578303771_' 가 사람마다의 고유한 값, \n",
        "위를 기준으로 디렉토리를 새로 정리하기로 계획함\n",
        "\n",
        "\n",
        "\n"
      ],
      "metadata": {
        "id": "OsAo-Mmv_UIn"
      }
    },
    {
      "cell_type": "markdown",
      "source": [
        "한 증상에 대해 양호인 경우는 다른 증상들에 대해서도 양호를 보이는 경우가 많음 -> 이를 그래프로 시각화하여 서로 연관성을 확인해보고자 함\n",
        "\n",
        "펌, 염색 여부에 따른 증상 분포 시각화"
      ],
      "metadata": {
        "id": "gX7AWGLm_7lL"
      }
    },
    {
      "cell_type": "markdown",
      "source": [
        "각 증상에 대한 중증도 0~3을 모두 분류하기보단 0(양호): 없음 / 1-3(경증, 중등도,중증) : 있음으로 분류 -> sigmoid 함수를 통해 나오는 확률값으로 결과를 예측하고자 함 \n",
        "ex. 0.78, 0.22 -> 탈모가 있을 확률이 22% 입니다. "
      ],
      "metadata": {
        "id": "7TYs-xBxAGfa"
      }
    },
    {
      "cell_type": "markdown",
      "source": [
        "모델링 목표: 새로운 사진이 입력되면 증상별로 위험도를 예측하고 사람이 성별 및 나이, 추천을 원하는지 여부를 파악하여 제품 추천\n",
        "\n",
        "- 추가 검색이 필요한 정보들 \n",
        "\n",
        "  남성/여성별 발병률이 높은 증상\n",
        "\n",
        "  연령대에 따른 증상의 발병률\n",
        "\n",
        "  펌, 염색 여부에 따른 분류 (펌, 염색은 모발 손상에 큰 영향)\n",
        "\n",
        "  각 증상 완화에 도움이 되는 제품 조사\n"
      ],
      "metadata": {
        "id": "ms7yBohnA3HF"
      }
    },
    {
      "cell_type": "markdown",
      "source": [
        "데이터의 용량을 고려하여 압축률을 최대로 하여 업로드"
      ],
      "metadata": {
        "id": "0EvEGJJ8CBx3"
      }
    },
    {
      "cell_type": "code",
      "source": [
        "# 구글 드라이브가 아닌 곳에 디렉토리 만들어보기\n",
        "\n",
        "%%writefile test/test.txt\n",
        "test"
      ],
      "metadata": {
        "colab": {
          "base_uri": "https://localhost:8080/"
        },
        "id": "oVkcr-FMWc5s",
        "outputId": "d04410eb-e034-4db8-980f-76d28035b971"
      },
      "execution_count": 5,
      "outputs": [
        {
          "output_type": "stream",
          "name": "stdout",
          "text": [
            "Writing test/test.txt\n"
          ]
        }
      ]
    },
    {
      "cell_type": "code",
      "source": [
        "!cat test/test.txt"
      ],
      "metadata": {
        "colab": {
          "base_uri": "https://localhost:8080/"
        },
        "id": "Rzzpaxz8WjMX",
        "outputId": "75cbacf0-d219-4c41-bd1c-d63917d0de46"
      },
      "execution_count": 6,
      "outputs": [
        {
          "output_type": "stream",
          "name": "stdout",
          "text": [
            "test\n"
          ]
        }
      ]
    },
    {
      "cell_type": "code",
      "source": [
        "from google.colab import files\n",
        "files.download('test/test.txt')"
      ],
      "metadata": {
        "colab": {
          "base_uri": "https://localhost:8080/",
          "height": 17
        },
        "id": "eUpo3aX5WlWD",
        "outputId": "6a62d34f-a9c9-43ba-8701-4e7fb9341b9a"
      },
      "execution_count": 7,
      "outputs": [
        {
          "output_type": "display_data",
          "data": {
            "text/plain": [
              "<IPython.core.display.Javascript object>"
            ],
            "application/javascript": [
              "\n",
              "    async function download(id, filename, size) {\n",
              "      if (!google.colab.kernel.accessAllowed) {\n",
              "        return;\n",
              "      }\n",
              "      const div = document.createElement('div');\n",
              "      const label = document.createElement('label');\n",
              "      label.textContent = `Downloading \"${filename}\": `;\n",
              "      div.appendChild(label);\n",
              "      const progress = document.createElement('progress');\n",
              "      progress.max = size;\n",
              "      div.appendChild(progress);\n",
              "      document.body.appendChild(div);\n",
              "\n",
              "      const buffers = [];\n",
              "      let downloaded = 0;\n",
              "\n",
              "      const channel = await google.colab.kernel.comms.open(id);\n",
              "      // Send a message to notify the kernel that we're ready.\n",
              "      channel.send({})\n",
              "\n",
              "      for await (const message of channel.messages) {\n",
              "        // Send a message to notify the kernel that we're ready.\n",
              "        channel.send({})\n",
              "        if (message.buffers) {\n",
              "          for (const buffer of message.buffers) {\n",
              "            buffers.push(buffer);\n",
              "            downloaded += buffer.byteLength;\n",
              "            progress.value = downloaded;\n",
              "          }\n",
              "        }\n",
              "      }\n",
              "      const blob = new Blob(buffers, {type: 'application/binary'});\n",
              "      const a = document.createElement('a');\n",
              "      a.href = window.URL.createObjectURL(blob);\n",
              "      a.download = filename;\n",
              "      div.appendChild(a);\n",
              "      a.click();\n",
              "      div.remove();\n",
              "    }\n",
              "  "
            ]
          },
          "metadata": {}
        },
        {
          "output_type": "display_data",
          "data": {
            "text/plain": [
              "<IPython.core.display.Javascript object>"
            ],
            "application/javascript": [
              "download(\"download_492cf133-4cf4-4226-ab35-af35c85abfb1\", \"test.txt\", 5)"
            ]
          },
          "metadata": {}
        }
      ]
    },
    {
      "cell_type": "code",
      "source": [],
      "metadata": {
        "id": "laB17-tZWvoe"
      },
      "execution_count": null,
      "outputs": []
    }
  ]
}