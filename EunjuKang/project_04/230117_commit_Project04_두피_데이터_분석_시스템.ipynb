{
  "nbformat": 4,
  "nbformat_minor": 0,
  "metadata": {
    "colab": {
      "provenance": [],
      "collapsed_sections": [
        "CFD1EJ0qzAjH"
      ],
      "toc_visible": true,
      "mount_file_id": "1SlyTB81vCaadN529icAzW2KoyUk7cpik",
      "authorship_tag": "ABX9TyOttnxfD3PJvWKuDhlZvcXP",
      "include_colab_link": true
    },
    "kernelspec": {
      "name": "python3",
      "display_name": "Python 3"
    },
    "language_info": {
      "name": "python"
    }
  },
  "cells": [
    {
      "cell_type": "markdown",
      "metadata": {
        "id": "view-in-github",
        "colab_type": "text"
      },
      "source": [
        "<a href=\"https://colab.research.google.com/github/JJay1010/K-software_-/blob/main/EunjuKang/project_04/230117_commit_Project04_%EB%91%90%ED%94%BC_%EB%8D%B0%EC%9D%B4%ED%84%B0_%EB%B6%84%EC%84%9D_%EC%8B%9C%EC%8A%A4%ED%85%9C.ipynb\" target=\"_parent\"><img src=\"https://colab.research.google.com/assets/colab-badge.svg\" alt=\"Open In Colab\"/></a>"
      ]
    },
    {
      "cell_type": "markdown",
      "source": [
        "# Project04.두피 데이터 분석 시스템"
      ],
      "metadata": {
        "id": "nbK60fqMSUrr"
      }
    },
    {
      "cell_type": "markdown",
      "source": [
        "주어진 데이터가 어떻게 구성되어 있고 어느 부분을 어떻게 활용할지 생각해봐야함 \n"
      ],
      "metadata": {
        "id": "3Jpt7Iarb6_R"
      }
    },
    {
      "cell_type": "markdown",
      "source": [
        "1. Validation set: 원천데이터와 라벨링데이터\n",
        "\n",
        "  미세각질 피지과다 모낭사이홍반 모낭홍반농포 비듬 탈모 6종류가 0-3로 분류되어 있음\n",
        "\n",
        "2. Meta data: 각 사람에 대한 정보"
      ],
      "metadata": {
        "id": "fl1d29Qm-QSG"
      }
    },
    {
      "cell_type": "markdown",
      "source": [
        "데이터 구조 정리\n",
        "\n",
        "Meta Data 디렉토리 안에는 \n",
        "\n",
        "  0013_A2LEBJJDE00060O_1602578303771_2_TH_META.json -> 5개\n",
        "\n",
        "  0013_A2LEBJJDE00060O_1602578303771_3_TH\n",
        "\n",
        "  0013_A2LEBJJDE00060O_1602578303771_4_LH\n",
        "\n",
        "  0013_A2LEBJJDE00060O_1602578303771_5_RH\n",
        "\n",
        "  0013_A2LEBJJDE00060O_1602578303771_6_BH\n",
        "\n",
        "위와 같이 한 사람에 대해 json 파일이 다섯개 있으며 \n",
        "\n",
        "'0013_A2LEBJJDE00060O_1602578303771_' 가 사람마다의 고유한 값, \n",
        "위를 기준으로 디렉토리를 새로 정리하기로 계획함\n",
        "\n",
        "\n",
        "\n"
      ],
      "metadata": {
        "id": "OsAo-Mmv_UIn"
      }
    },
    {
      "cell_type": "markdown",
      "source": [
        "한 증상에 대해 양호인 경우는 다른 증상들에 대해서도 양호를 보이는 경우가 많음 -> 이를 그래프로 시각화하여 서로 연관성을 확인해보고자 함\n",
        "\n",
        "펌, 염색 여부에 따른 증상 분포 시각화"
      ],
      "metadata": {
        "id": "gX7AWGLm_7lL"
      }
    },
    {
      "cell_type": "markdown",
      "source": [
        "각 증상에 대한 중증도 0~3을 모두 분류하기보단 0(양호): 없음 / 1-3(경증, 중등도,중증) : 있음으로 분류 -> sigmoid 함수를 통해 나오는 확률값으로 결과를 예측하고자 함 \n",
        "ex. 0.78, 0.22 -> 탈모가 있을 확률이 22% 입니다. "
      ],
      "metadata": {
        "id": "7TYs-xBxAGfa"
      }
    },
    {
      "cell_type": "markdown",
      "source": [
        "모델링 목표: 새로운 사진이 입력되면 증상별로 위험도를 예측하고 사람이 성별 및 나이, 추천을 원하는지 여부를 파악하여 제품 추천\n",
        "\n",
        "- 추가 검색이 필요한 정보들 \n",
        "\n",
        "  남성/여성별 발병률이 높은 증상\n",
        "\n",
        "  연령대에 따른 증상의 발병률\n",
        "\n",
        "  펌, 염색 여부에 따른 분류 (펌, 염색은 모발 손상에 큰 영향)\n",
        "\n",
        "  각 증상 완화에 도움이 되는 제품 조사\n"
      ],
      "metadata": {
        "id": "ms7yBohnA3HF"
      }
    },
    {
      "cell_type": "markdown",
      "source": [
        "데이터의 용량을 고려하여 압축률을 최대로 하여 업로드, zip을 풀지 않고는 파일 접근 불가능?"
      ],
      "metadata": {
        "id": "0EvEGJJ8CBx3"
      }
    },
    {
      "cell_type": "markdown",
      "source": [
        "01/17 목표: 모델 생성 완료 및 데이터 업로드 +\n",
        "1차 모델로 학습시키기 (early stopping + augmentation)"
      ],
      "metadata": {
        "id": "Kh-tXM5uHUvi"
      }
    },
    {
      "cell_type": "markdown",
      "source": [
        "## 1. 데이터 확인 및 분석"
      ],
      "metadata": {
        "id": "ylvvDuXdyF4I"
      }
    },
    {
      "cell_type": "markdown",
      "source": [
        "### 데이터 불러오기"
      ],
      "metadata": {
        "id": "4ev8ipW6Kuyj"
      }
    },
    {
      "cell_type": "markdown",
      "source": [
        "#### 원천 데이터"
      ],
      "metadata": {
        "id": "CFD1EJ0qzAjH"
      }
    },
    {
      "cell_type": "markdown",
      "source": [
        "glob 로 파일명 리스트로 받아오려고 했는데 .zip 형식 파일 경로는 !unzip 명령어에서 에러 발생 -> 직접 코드로 풀기"
      ],
      "metadata": {
        "id": "UzcsNcanZ4zf"
      }
    },
    {
      "cell_type": "code",
      "source": [
        "\"\"\"\n",
        "!mkdir /content/scalp_data/img_zip_dir # zip 파일 저장할 디렉토리\n",
        "\n",
        "%cd /content/scalp_data/img_zip_dir \n",
        "!unzip -qq '/content/drive/MyDrive/04_Scalp/value_1_img.Zip'\n",
        "\n",
        "%cd /content/scalp_data/img_data # 이미지 저장할 디렉토리\n",
        "!unzip -qq '/content/scalp_data/img_zip_dir/[원천]미세각질_0.양호.zip'\n",
        "\n",
        "%cd /content/scalp_data/img_data\n",
        "!unzip -qq '/content/scalp_data/img_zip_dir/[원천]미세각질_1.경증.zip'\n",
        "\n",
        "%cd /content/scalp_data/img_data\n",
        "!unzip -qq '/content/scalp_data/img_zip_dir/[원천]미세각질_2.중등도.zip'\n",
        "\n",
        "%cd /content/scalp_data/img_data\n",
        "!unzip -qq '/content/scalp_data/img_zip_dir/[원천]미세각질_3.중증.zip'\n",
        "\n",
        "%cd /content/scalp_data/img_zip_dir\n",
        "!unzip -qq '/content/drive/MyDrive/04_Scalp/value_2_img.Zip'\n",
        "\n",
        "%cd /content/scalp_data/img_data\n",
        "!unzip -qq '/content/scalp_data/img_zip_dir/[원천]피지과다_0.양호.zip'\n",
        "\n",
        "%cd /content/scalp_data/img_data\n",
        "!unzip -qq '/content/scalp_data/img_zip_dir/[원천]피지과다_1.경증.zip'\n",
        "\n",
        "%cd /content/scalp_data/img_data\n",
        "!unzip -qq '/content/scalp_data/img_zip_dir/[원천]피지과다_2.중등도.zip'\n",
        "\n",
        "%cd /content/scalp_data/img_data\n",
        "!unzip -qq '/content/scalp_data/img_zip_dir/[원천]피지과다_3.중증.zip'\n",
        "\n",
        "%cd /content/scalp_data/img_zip_dir\n",
        "!unzip -qq '/content/drive/MyDrive/04_Scalp/value_3_img.Zip'\n",
        "\n",
        "%cd /content/scalp_data/img_data\n",
        "!unzip -qq '/content/scalp_data/img_zip_dir/[원천]모낭사이홍반_0.양호.zip'\n",
        "\n",
        "%cd /content/scalp_data/img_data\n",
        "!unzip -qq '/content/scalp_data/img_zip_dir/[원천]모낭사이홍반_1.경증.zip'\n",
        "\n",
        "%cd /content/scalp_data/img_data\n",
        "!unzip -qq '/content/scalp_data/img_zip_dir/[원천]모낭사이홍반_2.중등도.zip'\n",
        "\n",
        "%cd /content/scalp_data/img_data\n",
        "!unzip -qq '/content/scalp_data/img_zip_dir/[원천]모낭사이홍반_3.중증.zip'\n",
        "\n",
        "%cd /content/scalp_data/img_zip_dir\n",
        "!unzip -qq '/content/drive/MyDrive/04_Scalp/value_4_img.Zip'\n",
        "\n",
        "%cd /content/scalp_data/img_data\n",
        "!unzip -qq '/content/scalp_data/img_zip_dir/[원천]모낭홍반농포_0.양호.zip'\n",
        "\n",
        "%cd /content/scalp_data/img_data\n",
        "!unzip -qq '/content/scalp_data/img_zip_dir/[원천]모낭홍반농포_1.경증.zip'\n",
        "\n",
        "%cd /content/scalp_data/img_data\n",
        "!unzip -qq '/content/scalp_data/img_zip_dir/[원천]모낭홍반농포_2.중등도.zip'\n",
        "\n",
        "%cd /content/scalp_data/img_data\n",
        "!unzip -qq '/content/scalp_data/img_zip_dir/[원천]모낭홍반농포_3.중증.zip'\n",
        "\n",
        "\n",
        "%cd /content/scalp_data/img_zip_dir\n",
        "!unzip -qq '/content/drive/MyDrive/04_Scalp/value_5_img.Zip'\n",
        "\n",
        "%cd /content/scalp_data/img_data\n",
        "!unzip -qq '/content/scalp_data/img_zip_dir/[원천]비듬_0.양호.zip'\n",
        "\n",
        "%cd /content/scalp_data/img_data\n",
        "!unzip -qq '/content/scalp_data/img_zip_dir/[원천]비듬_1.경증.zip'\n",
        "\n",
        "%cd /content/scalp_data/img_data\n",
        "!unzip -qq '/content/scalp_data/img_zip_dir/[원천]비듬_2.중등도.zip'\n",
        "\n",
        "%cd /content/scalp_data/img_data\n",
        "!unzip -qq '/content/scalp_data/img_zip_dir/[원천]비듬_3.중증.zip'\n",
        "\n",
        "%cd /content/scalp_data/img_zip_dir\n",
        "!unzip -qq '/content/drive/MyDrive/04_Scalp/value_6_img.Zip'\n",
        "\n",
        "%cd /content/scalp_data/img_data\n",
        "!unzip -qq '/content/scalp_data/img_zip_dir/[원천]탈모_0.양호.zip'\n",
        "\n",
        "%cd /content/scalp_data/img_data\n",
        "!unzip -qq '/content/scalp_data/img_zip_dir/[원천]탈모_1.경증.zip'\n",
        "\n",
        "%cd /content/scalp_data/img_data\n",
        "!unzip -qq '/content/scalp_data/img_zip_dir/[원천]탈모_2.중등도.zip'\n",
        "\n",
        "%cd /content/scalp_data/img_data\n",
        "!unzip -qq '/content/scalp_data/img_zip_dir/[원천]탈모_3.중증.zip'\n",
        "\"\"\""
      ],
      "metadata": {
        "id": "LxOki7SOXwlp"
      },
      "execution_count": null,
      "outputs": []
    },
    {
      "cell_type": "code",
      "source": [
        "# 총 23568 개의 이미지\n",
        "\n",
        "file_list = os.listdir('/content/scalp_data/img_data')\n",
        "print(len(file_list))"
      ],
      "metadata": {
        "colab": {
          "base_uri": "https://localhost:8080/"
        },
        "id": "A7GoO9vIhAtX",
        "outputId": "619c692e-15c2-4724-c0a1-c058e452cc88"
      },
      "execution_count": 71,
      "outputs": [
        {
          "output_type": "stream",
          "name": "stdout",
          "text": [
            "23568\n"
          ]
        }
      ]
    },
    {
      "cell_type": "code",
      "source": [
        "file_list.sort()"
      ],
      "metadata": {
        "id": "lwwB28-dwizJ"
      },
      "execution_count": 129,
      "outputs": []
    },
    {
      "cell_type": "markdown",
      "source": [
        "#### 라벨링 데이터"
      ],
      "metadata": {
        "id": "bzNIf53gzUiN"
      }
    },
    {
      "cell_type": "markdown",
      "source": [
        "파이썬 zipfile 모듈 이용하면 훨씬 간단하게 불러올 수 있음"
      ],
      "metadata": {
        "id": "JbdYxUFrzat5"
      }
    },
    {
      "cell_type": "code",
      "source": [
        "!mkdir /content/scalp_data/label_data"
      ],
      "metadata": {
        "colab": {
          "base_uri": "https://localhost:8080/"
        },
        "id": "YCa1oSzZlDil",
        "outputId": "1d944176-3d87-4f20-da98-c937f8d9397e"
      },
      "execution_count": 87,
      "outputs": [
        {
          "output_type": "stream",
          "name": "stdout",
          "text": [
            "shell-init: error retrieving current directory: getcwd: cannot access parent directories: No such file or directory\n"
          ]
        }
      ]
    },
    {
      "cell_type": "code",
      "source": [
        "import glob \n",
        "import zipfile \n",
        "\n",
        "path = '/content/drive/MyDrive/04_Scalp/label_zip'\n",
        "path_list = glob.glob(path+'/*')\n",
        "\n",
        "print(path_list)"
      ],
      "metadata": {
        "colab": {
          "base_uri": "https://localhost:8080/"
        },
        "id": "x9V9_FfuiBvJ",
        "outputId": "4668559c-eec2-4af9-a996-2289ae48c4ca"
      },
      "execution_count": 88,
      "outputs": [
        {
          "output_type": "stream",
          "name": "stdout",
          "text": [
            "['/content/drive/MyDrive/04_Scalp/label_zip/[라벨]피지과다_2.중등도.zip', '/content/drive/MyDrive/04_Scalp/label_zip/[라벨]피지과다_1.경증.zip', '/content/drive/MyDrive/04_Scalp/label_zip/[라벨]피지과다_3.중증.zip', '/content/drive/MyDrive/04_Scalp/label_zip/[라벨]비듬_3.중증.zip', '/content/drive/MyDrive/04_Scalp/label_zip/[라벨]피지과다_0.양호.zip', '/content/drive/MyDrive/04_Scalp/label_zip/[라벨]탈모_2.중등도.zip', '/content/drive/MyDrive/04_Scalp/label_zip/[라벨]탈모_0.양호.zip', '/content/drive/MyDrive/04_Scalp/label_zip/[라벨]탈모_3.중증.zip', '/content/drive/MyDrive/04_Scalp/label_zip/[라벨]비듬_0.양호.zip', '/content/drive/MyDrive/04_Scalp/label_zip/[라벨]탈모_1.경증.zip', '/content/drive/MyDrive/04_Scalp/label_zip/[라벨]비듬_2.중등도.zip', '/content/drive/MyDrive/04_Scalp/label_zip/[라벨]비듬_1.경증.zip', '/content/drive/MyDrive/04_Scalp/label_zip/[라벨]미세각질_2.중등도.zip', '/content/drive/MyDrive/04_Scalp/label_zip/[라벨]미세각질_1.경증.zip', '/content/drive/MyDrive/04_Scalp/label_zip/[라벨]모낭홍반농포_2.중등도.zip', '/content/drive/MyDrive/04_Scalp/label_zip/[라벨]모낭홍반농포_1.경증.zip', '/content/drive/MyDrive/04_Scalp/label_zip/[라벨]모낭홍반농포_3.중증.zip', '/content/drive/MyDrive/04_Scalp/label_zip/[라벨]미세각질_3.중증.zip', '/content/drive/MyDrive/04_Scalp/label_zip/[라벨]미세각질_0.양호.zip', '/content/drive/MyDrive/04_Scalp/label_zip/[라벨]모낭홍반농포_0.양호.zip', '/content/drive/MyDrive/04_Scalp/label_zip/[라벨]모낭사이홍반_3.중증.zip', '/content/drive/MyDrive/04_Scalp/label_zip/[라벨]모낭사이홍반_0.양호.zip', '/content/drive/MyDrive/04_Scalp/label_zip/[라벨]모낭사이홍반_2.중등도.zip', '/content/drive/MyDrive/04_Scalp/label_zip/[라벨]모낭사이홍반_1.경증.zip']\n"
          ]
        }
      ]
    },
    {
      "cell_type": "code",
      "source": [
        "for json_path in path_list:\n",
        "  json_zip = zipfile.ZipFile(json_path)\n",
        "  json_zip.extractall('/content/scalp_data/label_data')\n",
        "  json_zip.close()"
      ],
      "metadata": {
        "id": "7qXw6MyvlbJ6"
      },
      "execution_count": 90,
      "outputs": []
    },
    {
      "cell_type": "code",
      "source": [
        "# json 파일 총 23568개 : 이미지랑 개수 동일\n",
        "\n",
        "json_list = os.listdir('/content/scalp_data/label_data')\n",
        "print(len(json_list))"
      ],
      "metadata": {
        "colab": {
          "base_uri": "https://localhost:8080/"
        },
        "id": "HKXPeQiIkvvT",
        "outputId": "4710e0c8-7c7f-4d0b-c145-3b0c94acbc9c"
      },
      "execution_count": 91,
      "outputs": [
        {
          "output_type": "stream",
          "name": "stdout",
          "text": [
            "23568\n"
          ]
        }
      ]
    },
    {
      "cell_type": "code",
      "source": [
        "json_list.sort()"
      ],
      "metadata": {
        "id": "ChQyEkCWysnf"
      },
      "execution_count": 132,
      "outputs": []
    },
    {
      "cell_type": "markdown",
      "source": [
        "#### 원천 vs 라벨링 데이터 비교"
      ],
      "metadata": {
        "id": "_MqCkhbIK-ED"
      }
    },
    {
      "cell_type": "markdown",
      "source": [
        "23568/6= 3928 -> 고유한 개인이 총 3928명인지 확인하기"
      ],
      "metadata": {
        "id": "hmgBrEd8mFNT"
      }
    },
    {
      "cell_type": "code",
      "source": [
        "# 이미지 파일 : file_list\n",
        "# 라벨링 파일 : json_list\n",
        "\n",
        "print(file_list[0][:-8])\n",
        "print(json_list[0][:-9])"
      ],
      "metadata": {
        "colab": {
          "base_uri": "https://localhost:8080/"
        },
        "id": "fjQO9GTQl_t-",
        "outputId": "24dee1a6-4f49-4257-999b-05e735467a5d"
      },
      "execution_count": 94,
      "outputs": [
        {
          "output_type": "stream",
          "name": "stdout",
          "text": [
            "2278_A2LEBJJDE00181Z_1606655779534_\n",
            "8297_A2LEBJJDE001076_1607596628119_\n"
          ]
        }
      ]
    },
    {
      "cell_type": "code",
      "source": [
        "# 이미지 이름에서 얻는 개인의 id 목록\n",
        "\n",
        "id_list = []\n",
        "\n",
        "def get_person_id_from_img_name (file_name):\n",
        "  id = file_name[:-8]\n",
        "  id_list.append(id)"
      ],
      "metadata": {
        "id": "Yf1jBDyhmrbu"
      },
      "execution_count": 95,
      "outputs": []
    },
    {
      "cell_type": "code",
      "source": [
        "for img_name in file_list:\n",
        "  get_person_id_from_img_name(img_name)\n",
        "\n",
        "print(len(id_list))"
      ],
      "metadata": {
        "id": "w6Onx4-XnITO"
      },
      "execution_count": 96,
      "outputs": []
    },
    {
      "cell_type": "code",
      "source": [
        "id_set_list = list(set(id_list))\n",
        "\n",
        "print(len(id_set_list)) # 고유 id 값이 6580개"
      ],
      "metadata": {
        "id": "4fN4s1jtnVDz"
      },
      "execution_count": 114,
      "outputs": []
    },
    {
      "cell_type": "code",
      "source": [
        "id_set_list.sort()"
      ],
      "metadata": {
        "id": "s_I6BX6PoRrv"
      },
      "execution_count": 117,
      "outputs": []
    },
    {
      "cell_type": "code",
      "source": [
        "# 라벨링 이름에서 얻는 개인의 id 목록\n",
        "\n",
        "json_id_list = []\n",
        "\n",
        "def get_person_id_from_json_name (file_name):\n",
        "  id = file_name[:-9]\n",
        "  json_id_list.append(id)"
      ],
      "metadata": {
        "id": "_eHHBQNTpx-t"
      },
      "execution_count": 119,
      "outputs": []
    },
    {
      "cell_type": "code",
      "source": [
        "for json_name in json_list:\n",
        "  get_person_id_from_json_name(json_name)"
      ],
      "metadata": {
        "id": "NaE6g0WqqUyH"
      },
      "execution_count": 121,
      "outputs": []
    },
    {
      "cell_type": "code",
      "source": [
        "print(len(json_id_list))"
      ],
      "metadata": {
        "colab": {
          "base_uri": "https://localhost:8080/"
        },
        "id": "8QwPFVkGqOi9",
        "outputId": "4f4eb3f6-7b61-4e8c-c265-865afc9ea885"
      },
      "execution_count": 122,
      "outputs": [
        {
          "output_type": "stream",
          "name": "stdout",
          "text": [
            "23568\n"
          ]
        }
      ]
    },
    {
      "cell_type": "code",
      "source": [
        "json_id_set_list = list(set(json_id_list))\n",
        "json_id_list.sort()"
      ],
      "metadata": {
        "id": "6KQMZnxhqmOt"
      },
      "execution_count": 123,
      "outputs": []
    },
    {
      "cell_type": "code",
      "source": [
        "print(len(json_id_set_list))"
      ],
      "metadata": {
        "colab": {
          "base_uri": "https://localhost:8080/"
        },
        "id": "Nayu3A9kqwXM",
        "outputId": "96fc1d6e-a4ac-4f90-9c04-8905049bb1bc"
      },
      "execution_count": 124,
      "outputs": [
        {
          "output_type": "stream",
          "name": "stdout",
          "text": [
            "6580\n"
          ]
        }
      ]
    },
    {
      "cell_type": "markdown",
      "source": [
        "확인결과 총 3928명이 아닌 6580명 이었음\n"
      ],
      "metadata": {
        "id": "tx0Z_9ziicKU"
      }
    },
    {
      "cell_type": "code",
      "source": [
        "# id_set_list vs json_id_set_list 비교\n",
        "\n",
        "for name in id_set_list:\n",
        "  if name in json_id_set_list:\n",
        "    pass\n",
        "  else:\n",
        "    print(name)"
      ],
      "metadata": {
        "id": "O4V8eAa_rZ5L"
      },
      "execution_count": 128,
      "outputs": []
    },
    {
      "cell_type": "markdown",
      "source": [
        "확인결과 서로 다른 사람이 있지는 않음 -> 모든 사람이 5개의 파일을 가지고 있지는 않음 (validation 데이터만 사용해서 그런듯 함)"
      ],
      "metadata": {
        "id": "PmapUdqyvobn"
      }
    },
    {
      "cell_type": "code",
      "source": [
        "file_list[:10]"
      ],
      "metadata": {
        "colab": {
          "base_uri": "https://localhost:8080/"
        },
        "id": "ufq37HfgzyaV",
        "outputId": "70191cab-b63a-4f1a-8485-fac841b0aa4d"
      },
      "execution_count": 135,
      "outputs": [
        {
          "output_type": "execute_result",
          "data": {
            "text/plain": [
              "['0013_A2LEBJJDE00060O_1605839548962_2_TH.jpg',\n",
              " '0013_A2LEBJJDE00060O_1605943763600_3_TH.jpg',\n",
              " '0013_A2LEBJJDE00060O_1605943787774_2_TH.jpg',\n",
              " '0013_A2LEBJJDE00060O_1605943787774_6_BH.jpg',\n",
              " '0013_A2LEBJJDE00060O_1605949144786_2_TH.jpg',\n",
              " '0013_A2LEBJJDE00060O_1605949144786_6_BH.jpg',\n",
              " '0013_A2LEBJJDE00060O_1605949385518_2_TH.jpg',\n",
              " '0013_A2LEBJJDE00060O_1605949385518_6_BH.jpg',\n",
              " '0013_A2LEBJJDE00060O_1606386139601_2_TH.jpg',\n",
              " '0013_A2LEBJJDE00060O_1606386139601_3_TH.jpg']"
            ]
          },
          "metadata": {},
          "execution_count": 135
        }
      ]
    },
    {
      "cell_type": "code",
      "source": [
        "json_list[:10]"
      ],
      "metadata": {
        "colab": {
          "base_uri": "https://localhost:8080/"
        },
        "id": "sOptmSh0zzv5",
        "outputId": "efa9805c-177e-4b07-e52b-c388054d0f0b"
      },
      "execution_count": 136,
      "outputs": [
        {
          "output_type": "execute_result",
          "data": {
            "text/plain": [
              "['0013_A2LEBJJDE00060O_1605839548962_2_TH.json',\n",
              " '0013_A2LEBJJDE00060O_1605943763600_3_TH.json',\n",
              " '0013_A2LEBJJDE00060O_1605943787774_2_TH.json',\n",
              " '0013_A2LEBJJDE00060O_1605943787774_6_BH.json',\n",
              " '0013_A2LEBJJDE00060O_1605949144786_2_TH.json',\n",
              " '0013_A2LEBJJDE00060O_1605949144786_6_BH.json',\n",
              " '0013_A2LEBJJDE00060O_1605949385518_2_TH.json',\n",
              " '0013_A2LEBJJDE00060O_1605949385518_6_BH.json',\n",
              " '0013_A2LEBJJDE00060O_1606386139601_2_TH.json',\n",
              " '0013_A2LEBJJDE00060O_1606386139601_3_TH.json']"
            ]
          },
          "metadata": {},
          "execution_count": 136
        }
      ]
    },
    {
      "cell_type": "markdown",
      "source": [
        "## 2. 데이터 전처리"
      ],
      "metadata": {
        "id": "VGMgboMFyQou"
      }
    },
    {
      "cell_type": "markdown",
      "source": [
        "모델링 목표: 이미지를 입력하면 예측해서 여섯가지 증상에 대해 각자의 여부를 출력하는 모델\n",
        "\n",
        "output layer는 dense: 6, activation func: sigmoid 를 사용 -> [0.01, 0.78, 0.98, 0.89, 0.02, 0.22] \n",
        "\n",
        "-> 미세각질 없음, 피지과다 78%, 모낭사이홍반 98%, 모낭홍반/농포 89%, 비듬 2%, 탈모 22%\n"
      ],
      "metadata": {
        "id": "jD2LiqS7Lpmx"
      }
    },
    {
      "cell_type": "markdown",
      "source": [
        "이 데이터와 Meta 데이터 + 추가로 상품조사를 따로 하면 제품 추천까지 할 수 있음"
      ],
      "metadata": {
        "id": "aTWsRuwFMrsQ"
      }
    },
    {
      "cell_type": "markdown",
      "source": [
        "각 이미지의 RGB 값: x_train\n",
        "\n",
        "json 에서 해당 증상에 대한 : y_train"
      ],
      "metadata": {
        "id": "yuZ71YODz31O"
      }
    },
    {
      "cell_type": "markdown",
      "source": [
        "이미지 이름을 전달하면 해당 라벨링 파일을 불러오도록 함"
      ],
      "metadata": {
        "id": "ebPKgf_NM-K4"
      }
    },
    {
      "cell_type": "code",
      "source": [
        "# 이미지 이름: file_list\n",
        "# json 이름: json_list"
      ],
      "metadata": {
        "id": "UMWrTKQN3V6c"
      },
      "execution_count": null,
      "outputs": []
    },
    {
      "cell_type": "code",
      "source": [
        "# .jpg -> .json 으로 변환하는 함수\n",
        "\n",
        "def img_name_to_json_name(img_name):\n",
        "  file_name = img_name[:-4]\n",
        "  file_name = file_name + '.json'\n",
        "  return (file_name)"
      ],
      "metadata": {
        "id": "J3uuDjNG3jBz"
      },
      "execution_count": 142,
      "outputs": []
    },
    {
      "cell_type": "code",
      "source": [
        "# .json data를 전달하면 각 증상별 유뮤를 리스트로 반환하는 함수 ex. [0,0,0,0,0,0]\n",
        "\n",
        "# 증상이 0이면 0, 1~3이면 1\n",
        "\n",
        "def binary_div(value):\n",
        "  if int(value) == 0:\n",
        "    return 0\n",
        "  else:\n",
        "    return 1\n",
        "\n",
        "# [0,1,0,0,1,0] 같은 6차원 리스트 반환\n",
        "\n",
        "def value_list_from_json(json_data):\n",
        "  value_list = []\n",
        "  value_list.append(binary_div(json_data['value_1']))\n",
        "  value_list.append(binary_div(json_data['value_2']))\n",
        "  value_list.append(binary_div(json_data['value_3']))\n",
        "  value_list.append(binary_div(json_data['value_4']))\n",
        "  value_list.append(binary_div(json_data['value_5']))\n",
        "  value_list.append(binary_div(json_data['value_6']))\n",
        "  return value_list"
      ],
      "metadata": {
        "id": "fPOIGw_D6omG"
      },
      "execution_count": 148,
      "outputs": []
    },
    {
      "cell_type": "code",
      "source": [
        "# 확인\n",
        "\n",
        "json_path = '/content/scalp_data/label_data/0013_A2LEBJJDE00060O_1605839548962_2_TH.json'\n",
        "\n",
        "import json\n",
        "\n",
        "with open(json_path, 'r') as file:\n",
        "    data = json.load(file)\n",
        "\n",
        "print(value_list_from_json(data))"
      ],
      "metadata": {
        "colab": {
          "base_uri": "https://localhost:8080/"
        },
        "id": "VbXCs5K62z4x",
        "outputId": "2e9d6c68-1cee-40f1-cb3b-95e2734c90be"
      },
      "execution_count": 146,
      "outputs": [
        {
          "output_type": "stream",
          "name": "stdout",
          "text": [
            "<class 'dict'>\n",
            "0\n",
            "<class 'str'>\n"
          ]
        }
      ]
    },
    {
      "cell_type": "code",
      "source": [
        "print(value_list_from_json(data))"
      ],
      "metadata": {
        "colab": {
          "base_uri": "https://localhost:8080/"
        },
        "id": "DJQ6LtKu7xrE",
        "outputId": "b7d259c8-06cd-4331-f06f-a666702dfc32"
      },
      "execution_count": 149,
      "outputs": [
        {
          "output_type": "stream",
          "name": "stdout",
          "text": [
            "[0, 1, 0, 1, 0, 1]\n"
          ]
        }
      ]
    },
    {
      "cell_type": "markdown",
      "source": [
        "#### dataset 형성"
      ],
      "metadata": {
        "id": "GH_fVFGi_shS"
      }
    },
    {
      "cell_type": "code",
      "source": [
        "# dataset 만들기\n",
        "\n",
        "import PIL\n",
        "from PIL import Image\n",
        "import numpy as np\n",
        "import matplotlib.pyplot as plt\n",
        "\n",
        "data_set = []\n",
        "\n",
        "img_dir_path = '/content/scalp_data/img_data'\n",
        "# img_path: img_dir_path + '/' + img_name\n",
        "# /content/scalp_data/img_data/0013_A2LEBJJDE00060O_1605839548962_2_TH.jpg\n",
        "\n",
        "json_dir_path = '/content/scalp_data/label_data'\n",
        "# json_path : json_dir_path + '/' + img_name_to_json_name(img_name)\n",
        "# /content/scalp_data/label_data/0013_A2LEBJJDE00060O_1605839548962_2_TH.json\n",
        "\n",
        "for img_name in file_list:\n",
        "  train_set = []\n",
        "  img_path = img_dir_path + '/' + img_name\n",
        "  img = PIL.Image.open(img_path)\n",
        "  #plt.imshow(img)\n",
        "  #plt.show()\n",
        "  img = img.convert('RGB')\n",
        "  img = img.resize((75,75))\n",
        "  np_img = np.array(img)\n",
        "  np_img = np_img / 255.0\n",
        "\n",
        "  # json에서 증상별 리스트 가져오기\n",
        "  label_list = []\n",
        "  json_path = json_dir_path + '/' + img_name_to_json_name(img_name)\n",
        "  with open(json_path, 'r') as file:\n",
        "    data = json.load(file)\n",
        "    label_list = value_list_from_json(data)\n",
        "    label_list = np.array(label_list)\n",
        "\n",
        "  train_set.append(np_img)\n",
        "  train_set.append(label_list)\n",
        "  data_set.append(train_set)\n"
      ],
      "metadata": {
        "id": "63-MHr0Az3W3"
      },
      "execution_count": null,
      "outputs": []
    },
    {
      "cell_type": "code",
      "source": [
        "# shuffle 데이터 섞기 \n",
        "\n",
        "import random\n",
        "random.seed(34)\n",
        "\n",
        "random.shuffle(data_set) \n",
        "\n",
        "# x_data, y_data 분리\n",
        "\n",
        "x_data = []\n",
        "y_data = []\n",
        "\n",
        "for data in data_set:\n",
        "  x_data.append(data[0])\n",
        "  y_data.append(data[1])\n"
      ],
      "metadata": {
        "id": "Z-baRznz_yMO"
      },
      "execution_count": null,
      "outputs": []
    },
    {
      "cell_type": "markdown",
      "source": [
        "Data augmentation: 이미 데이터가 너무 많아서 augmentation은 하지 않기로 함"
      ],
      "metadata": {
        "id": "QDbeM1MxC0xj"
      }
    },
    {
      "cell_type": "code",
      "source": [
        "# train/val/test 나누기\n",
        "\n",
        "from sklearn.model_selection import train_test_split\n",
        "\n",
        "x_train, x_test, y_train, y_test = train_test_split(x_data, y_data, test_size = 0.4)\n",
        "\n",
        "\"\"\"\n",
        "#1.1 dataset 분리 train_test_split - train / test (6:4)\n",
        "x_train, x_test, y_train, y_test = train_test_split(x, y, train_size=0.6, \n",
        "                                                     random_state=1, shuffle=False)\n",
        "#1.2 dataset 분리 train_test_split - test / validation  (5:5)\n",
        "x_test, x_val, y_test, y_val = train_test_split(x_test, y_test, test_size=0.5, \n",
        "                                                 random_state=1, shuffle=False)\n",
        "\n",
        "\"\"\""
      ],
      "metadata": {
        "id": "KYY2frzjDdgb"
      },
      "execution_count": null,
      "outputs": []
    },
    {
      "cell_type": "markdown",
      "source": [
        "## 3. 학습 및 성능 확인 "
      ],
      "metadata": {
        "id": "uWuM7-V1yVAt"
      }
    },
    {
      "cell_type": "markdown",
      "source": [
        "### Model1. Mnist 모델 이용"
      ],
      "metadata": {
        "id": "k7X0iwllyejQ"
      }
    },
    {
      "cell_type": "code",
      "source": [
        "import tensorflow as tf\n",
        "from tensorflow.keras import layers\n",
        "\n",
        "def create_cnn_model ():\n",
        "  model = tf.keras.models.Sequential() # 객체 생성 \n",
        "  model.add(tf.keras.layers.Conv2D(128, (3,3), padding = 'same', activation = 'relu', input_shape = (28,28,1))) # 필터 개수 = 64개, 필터 크기 = 3*3\n",
        "  model.add(tf.keras.layers.MaxPooling2D((2,2), strides = 1, padding = 'same'))\n",
        "  # output_shape = (28,28,64)\n",
        "  model.add(tf.keras.layers.Conv2D(128, (3,3), padding = 'same', activation = 'relu')) # 필터 개수 = 64개, 필터 크기 = 3*3\n",
        "  model.add(tf.keras.layers.MaxPooling2D((2,2), strides = 1, padding = 'same'))\n",
        "  # output_shape = (28,28,64)\n",
        "  model.add(tf.keras.layers.Conv2D(128, (3,3), padding = 'same', activation = 'relu')) # 필터 개수 = 64개, 필터 크기 = 3*3\n",
        "  model.add(tf.keras.layers.MaxPooling2D((2,2), strides = 1, padding = 'same'))\n",
        "  # output_shape = (28,28,1)\n",
        "  model.add(tf.keras.layers.Flatten()) #flatten : 28 * 28 2차원 데이터를 일렬로 나열하는 것\n",
        "  model.add(tf.keras.layers.Dense(64, activation = 'relu'))\n",
        "  model.add(tf.keras.layers.Dropout(0.2)) # droupout: 너무 특정 feature에만 집중하지 않도록 설정한 부분의 weight 값을 잠시 무시하는 것\n",
        "  model.add(tf.keras.layers.Dense(6, activation = 'sigmoid')) \n",
        "  return model\n"
      ],
      "metadata": {
        "id": "laB17-tZWvoe"
      },
      "execution_count": null,
      "outputs": []
    },
    {
      "cell_type": "code",
      "source": [
        "cnn_model = create_cnn_model()"
      ],
      "metadata": {
        "id": "IJS3YfufBGaH"
      },
      "execution_count": null,
      "outputs": []
    },
    {
      "cell_type": "code",
      "source": [
        "cnn_model.compile(optimizer='adam', loss = 'sparse_categorical_crossentropy', metrics = ['accuracy'])\n",
        "history = cnn_model.fit(x_train, y_train, validation_data = (x_test, y_test), epochs = 30, batch_size = 30)"
      ],
      "metadata": {
        "id": "_jDr6ZhTBLhn"
      },
      "execution_count": null,
      "outputs": []
    },
    {
      "cell_type": "code",
      "source": [
        "cnn_model.evaluate(x_test, y_test)"
      ],
      "metadata": {
        "id": "GGFF3G9sBYIL"
      },
      "execution_count": null,
      "outputs": []
    },
    {
      "cell_type": "markdown",
      "source": [
        "### Model2. Mnist 모델 + early stopping"
      ],
      "metadata": {
        "id": "OxpvzqwkIvsa"
      }
    },
    {
      "cell_type": "markdown",
      "source": [
        "### Model3. EfficientNet을 이용한 Fine-tunning"
      ],
      "metadata": {
        "id": "JpjK6SxKI077"
      }
    }
  ]
}