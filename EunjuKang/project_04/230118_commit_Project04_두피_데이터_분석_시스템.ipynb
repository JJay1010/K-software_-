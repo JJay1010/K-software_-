{
  "nbformat": 4,
  "nbformat_minor": 0,
  "metadata": {
    "colab": {
      "provenance": [],
      "collapsed_sections": [
        "CFD1EJ0qzAjH"
      ],
      "toc_visible": true,
      "mount_file_id": "1SlyTB81vCaadN529icAzW2KoyUk7cpik",
      "authorship_tag": "ABX9TyO35LXUef43ZBFie6DHXbp8",
      "include_colab_link": true
    },
    "kernelspec": {
      "name": "python3",
      "display_name": "Python 3"
    },
    "language_info": {
      "name": "python"
    },
    "gpuClass": "standard"
  },
  "cells": [
    {
      "cell_type": "markdown",
      "metadata": {
        "id": "view-in-github",
        "colab_type": "text"
      },
      "source": [
        "<a href=\"https://colab.research.google.com/github/JJay1010/K-software_-/blob/main/EunjuKang/project_04/230118_commit_Project04_%EB%91%90%ED%94%BC_%EB%8D%B0%EC%9D%B4%ED%84%B0_%EB%B6%84%EC%84%9D_%EC%8B%9C%EC%8A%A4%ED%85%9C.ipynb\" target=\"_parent\"><img src=\"https://colab.research.google.com/assets/colab-badge.svg\" alt=\"Open In Colab\"/></a>"
      ]
    },
    {
      "cell_type": "markdown",
      "source": [
        "# Project04.두피 데이터 분석 시스템"
      ],
      "metadata": {
        "id": "nbK60fqMSUrr"
      }
    },
    {
      "cell_type": "markdown",
      "source": [
        "주어진 데이터가 어떻게 구성되어 있고 어느 부분을 어떻게 활용할지 생각해봐야함 \n"
      ],
      "metadata": {
        "id": "3Jpt7Iarb6_R"
      }
    },
    {
      "cell_type": "markdown",
      "source": [
        "AI Hub에서 다운로드 받은 데이터\n",
        "\n",
        "1. Validation set: 원천데이터와 라벨링데이터\n",
        "\n",
        "  미세각질 피지과다 모낭사이홍반 모낭홍반농포 비듬 탈모 6종류가 0-3로 분류되어 있음\n",
        "\n",
        "2. Meta data: 각 사람에 대한 정보"
      ],
      "metadata": {
        "id": "fl1d29Qm-QSG"
      }
    },
    {
      "cell_type": "markdown",
      "source": [
        "데이터 구조 정리\n",
        "\n",
        "Meta Data 디렉토리 안에는 \n",
        "\n",
        "  0013_A2LEBJJDE00060O_1602578303771_2_TH_META.json -> 5개\n",
        "\n",
        "  0013_A2LEBJJDE00060O_1602578303771_3_TH\n",
        "\n",
        "  0013_A2LEBJJDE00060O_1602578303771_4_LH\n",
        "\n",
        "  0013_A2LEBJJDE00060O_1602578303771_5_RH\n",
        "\n",
        "  0013_A2LEBJJDE00060O_1602578303771_6_BH\n",
        "\n",
        "위와 같이 한 사람에 대해 json 파일이 다섯개 있으며 \n",
        "\n",
        "'0013_A2LEBJJDE00060O_1602578303771_' 가 사람마다의 고유한 값\n",
        "\n",
        "\n"
      ],
      "metadata": {
        "id": "OsAo-Mmv_UIn"
      }
    },
    {
      "cell_type": "markdown",
      "source": [
        "한 증상에 대해 양호인 경우는 다른 증상들에 대해서도 양호를 보이는 경우가 많음 -> 이를 그래프로 시각화하여 서로 연관성을 확인해보고자 함\n",
        "\n",
        "펌, 염색 여부에 따른 증상 분포 시각화"
      ],
      "metadata": {
        "id": "gX7AWGLm_7lL"
      }
    },
    {
      "cell_type": "markdown",
      "source": [
        "각 증상에 대한 중증도 0~3을 모두 분류하기보단 0(양호): 없음 / 1-3(경증, 중등도,중증) : 있음으로 분류 -> sigmoid 함수를 통해 나오는 확률값으로 결과를 예측하고자 함 \n",
        "ex. 0.78, 0.22 -> 탈모가 있을 확률이 22% 입니다. "
      ],
      "metadata": {
        "id": "7TYs-xBxAGfa"
      }
    },
    {
      "cell_type": "markdown",
      "source": [
        "모델링 목표: 새로운 사진이 입력되면 증상별로 위험도를 예측하고 사람이 성별 및 나이, 추천을 원하는지 여부를 파악하여 제품 추천\n",
        "\n",
        "- 추가 검색이 필요한 정보들 \n",
        "\n",
        "  남성/여성별 발병률이 높은 증상\n",
        "\n",
        "  연령대에 따른 증상의 발병률\n",
        "\n",
        "  펌, 염색 여부에 따른 분류 (펌, 염색은 모발 손상에 큰 영향)\n",
        "\n",
        "  각 증상 완화에 도움이 되는 제품 조사\n"
      ],
      "metadata": {
        "id": "ms7yBohnA3HF"
      }
    },
    {
      "cell_type": "markdown",
      "source": [
        "01/18 기준 모델링 목표 수정\n",
        "\n",
        "Meta Data가 너무 커서 기간 안에 추천하는 모델까지 만드는 것은 불가능 ->\n",
        "우선 이미지를 보면 증상을 잘 예측하는 모델 형성을 먼저 완료하기로 함"
      ],
      "metadata": {
        "id": "hDRCjwWN4tDY"
      }
    },
    {
      "cell_type": "markdown",
      "source": [
        "01/19 목표: 모델 및 성능 확인, 데이터 프레임 시각화, 도커 파일 생성"
      ],
      "metadata": {
        "id": "nem4TFt4AZvB"
      }
    },
    {
      "cell_type": "markdown",
      "source": [
        "## 1. 데이터 확인 및 분석"
      ],
      "metadata": {
        "id": "ylvvDuXdyF4I"
      }
    },
    {
      "cell_type": "markdown",
      "source": [
        "### 데이터 불러오기"
      ],
      "metadata": {
        "id": "4ev8ipW6Kuyj"
      }
    },
    {
      "cell_type": "markdown",
      "source": [
        "#### 원천 데이터"
      ],
      "metadata": {
        "id": "CFD1EJ0qzAjH"
      }
    },
    {
      "cell_type": "markdown",
      "source": [
        "glob 로 파일명 리스트로 받아오려고 했는데 .zip 형식 파일 경로는 !unzip 명령어에서 에러 발생 -> 직접 코드로 풀기"
      ],
      "metadata": {
        "id": "UzcsNcanZ4zf"
      }
    },
    {
      "cell_type": "code",
      "source": [
        "\"\"\"\n",
        "!mkdir /content/scalp_data/img_zip_dir # zip 파일 저장할 디렉토리\n",
        "\n",
        "%cd /content/scalp_data/img_zip_dir \n",
        "!unzip -qq '/content/drive/MyDrive/04_Scalp/value_1_img.Zip'\n",
        "\n",
        "%cd /content/scalp_data/img_data # 이미지 저장할 디렉토리\n",
        "!unzip -qq '/content/scalp_data/img_zip_dir/[원천]미세각질_0.양호.zip'\n",
        "\n",
        "%cd /content/scalp_data/img_data\n",
        "!unzip -qq '/content/scalp_data/img_zip_dir/[원천]미세각질_1.경증.zip'\n",
        "\n",
        "%cd /content/scalp_data/img_data\n",
        "!unzip -qq '/content/scalp_data/img_zip_dir/[원천]미세각질_2.중등도.zip'\n",
        "\n",
        "%cd /content/scalp_data/img_data\n",
        "!unzip -qq '/content/scalp_data/img_zip_dir/[원천]미세각질_3.중증.zip'\n",
        "\n",
        "%cd /content/scalp_data/img_zip_dir\n",
        "!unzip -qq '/content/drive/MyDrive/04_Scalp/value_2_img.Zip'\n",
        "\n",
        "%cd /content/scalp_data/img_data\n",
        "!unzip -qq '/content/scalp_data/img_zip_dir/[원천]피지과다_0.양호.zip'\n",
        "\n",
        "%cd /content/scalp_data/img_data\n",
        "!unzip -qq '/content/scalp_data/img_zip_dir/[원천]피지과다_1.경증.zip'\n",
        "\n",
        "%cd /content/scalp_data/img_data\n",
        "!unzip -qq '/content/scalp_data/img_zip_dir/[원천]피지과다_2.중등도.zip'\n",
        "\n",
        "%cd /content/scalp_data/img_data\n",
        "!unzip -qq '/content/scalp_data/img_zip_dir/[원천]피지과다_3.중증.zip'\n",
        "\n",
        "%cd /content/scalp_data/img_zip_dir\n",
        "!unzip -qq '/content/drive/MyDrive/04_Scalp/value_3_img.Zip'\n",
        "\n",
        "%cd /content/scalp_data/img_data\n",
        "!unzip -qq '/content/scalp_data/img_zip_dir/[원천]모낭사이홍반_0.양호.zip'\n",
        "\n",
        "%cd /content/scalp_data/img_data\n",
        "!unzip -qq '/content/scalp_data/img_zip_dir/[원천]모낭사이홍반_1.경증.zip'\n",
        "\n",
        "%cd /content/scalp_data/img_data\n",
        "!unzip -qq '/content/scalp_data/img_zip_dir/[원천]모낭사이홍반_2.중등도.zip'\n",
        "\n",
        "%cd /content/scalp_data/img_data\n",
        "!unzip -qq '/content/scalp_data/img_zip_dir/[원천]모낭사이홍반_3.중증.zip'\n",
        "\n",
        "%cd /content/scalp_data/img_zip_dir\n",
        "!unzip -qq '/content/drive/MyDrive/04_Scalp/value_4_img.Zip'\n",
        "\n",
        "%cd /content/scalp_data/img_data\n",
        "!unzip -qq '/content/scalp_data/img_zip_dir/[원천]모낭홍반농포_0.양호.zip'\n",
        "\n",
        "%cd /content/scalp_data/img_data\n",
        "!unzip -qq '/content/scalp_data/img_zip_dir/[원천]모낭홍반농포_1.경증.zip'\n",
        "\n",
        "%cd /content/scalp_data/img_data\n",
        "!unzip -qq '/content/scalp_data/img_zip_dir/[원천]모낭홍반농포_2.중등도.zip'\n",
        "\n",
        "%cd /content/scalp_data/img_data\n",
        "!unzip -qq '/content/scalp_data/img_zip_dir/[원천]모낭홍반농포_3.중증.zip'\n",
        "\n",
        "\n",
        "%cd /content/scalp_data/img_zip_dir\n",
        "!unzip -qq '/content/drive/MyDrive/04_Scalp/value_5_img.Zip'\n",
        "\n",
        "%cd /content/scalp_data/img_data\n",
        "!unzip -qq '/content/scalp_data/img_zip_dir/[원천]비듬_0.양호.zip'\n",
        "\n",
        "%cd /content/scalp_data/img_data\n",
        "!unzip -qq '/content/scalp_data/img_zip_dir/[원천]비듬_1.경증.zip'\n",
        "\n",
        "%cd /content/scalp_data/img_data\n",
        "!unzip -qq '/content/scalp_data/img_zip_dir/[원천]비듬_2.중등도.zip'\n",
        "\n",
        "%cd /content/scalp_data/img_data\n",
        "!unzip -qq '/content/scalp_data/img_zip_dir/[원천]비듬_3.중증.zip'\n",
        "\n",
        "%cd /content/scalp_data/img_zip_dir\n",
        "!unzip -qq '/content/drive/MyDrive/04_Scalp/value_6_img.Zip'\n",
        "\n",
        "%cd /content/scalp_data/img_data\n",
        "!unzip -qq '/content/scalp_data/img_zip_dir/[원천]탈모_0.양호.zip'\n",
        "\n",
        "%cd /content/scalp_data/img_data\n",
        "!unzip -qq '/content/scalp_data/img_zip_dir/[원천]탈모_1.경증.zip'\n",
        "\n",
        "%cd /content/scalp_data/img_data\n",
        "!unzip -qq '/content/scalp_data/img_zip_dir/[원천]탈모_2.중등도.zip'\n",
        "\n",
        "%cd /content/scalp_data/img_data\n",
        "!unzip -qq '/content/scalp_data/img_zip_dir/[원천]탈모_3.중증.zip'\n",
        "\"\"\""
      ],
      "metadata": {
        "id": "LxOki7SOXwlp"
      },
      "execution_count": null,
      "outputs": []
    },
    {
      "cell_type": "code",
      "source": [
        "!mkdir /content/scalp_data"
      ],
      "metadata": {
        "id": "f6Ylh7iKZxtV"
      },
      "execution_count": null,
      "outputs": []
    },
    {
      "cell_type": "code",
      "source": [
        "!mkdir /content/scalp_data/img_zip_dir # zip 파일 저장할 디렉토리"
      ],
      "metadata": {
        "colab": {
          "base_uri": "https://localhost:8080/"
        },
        "id": "kEQCjP0gJVVc",
        "outputId": "58c13a92-e511-416f-b163-cbea16e46bf7"
      },
      "execution_count": null,
      "outputs": [
        {
          "output_type": "stream",
          "name": "stdout",
          "text": [
            "shell-init: error retrieving current directory: getcwd: cannot access parent directories: No such file or directory\n"
          ]
        }
      ]
    },
    {
      "cell_type": "code",
      "source": [
        "!mkdir /content/scalp_data/img_data # 이미지 파일 저장할 디렉토리"
      ],
      "metadata": {
        "id": "q4p5VcS8Jytz"
      },
      "execution_count": null,
      "outputs": []
    },
    {
      "cell_type": "code",
      "source": [
        "%cd /content/scalp_data/img_zip_dir \n",
        "\n",
        "!unzip -qq '/content/drive/MyDrive/04_Scalp/value_4_img.Zip'\n",
        "!unzip -qq '/content/drive/MyDrive/04_Scalp/value_5_img.Zip'\n",
        "!unzip -qq '/content/drive/MyDrive/04_Scalp/value_6_img.Zip'"
      ],
      "metadata": {
        "colab": {
          "base_uri": "https://localhost:8080/"
        },
        "id": "G2sdgsJ1JStJ",
        "outputId": "a8a5a2ba-fece-4423-853b-ee3cce09c824"
      },
      "execution_count": null,
      "outputs": [
        {
          "output_type": "stream",
          "name": "stdout",
          "text": [
            "/content/scalp_data/img_zip_dir\n",
            "[원천]모낭홍반농포_0.양호.zip:  mismatching \"local\" filename ([ьЫРь▓Ь]ыкиыВнэЩНы░ШыЖНэПм_0.ьЦСэШ╕.zip),\n",
            "         continuing with \"central\" filename version\n",
            "[원천]모낭홍반농포_1.경증.zip:  mismatching \"local\" filename ([ьЫРь▓Ь]ыкиыВнэЩНы░ШыЖНэПм_1.ъ▓╜ьжЭ.zip),\n",
            "         continuing with \"central\" filename version\n",
            "[원천]모낭홍반농포_2.중등도.zip:  mismatching \"local\" filename ([ьЫРь▓Ь]ыкиыВнэЩНы░ШыЖНэПм_2.ьдСыУ▒ыПД.zip),\n",
            "         continuing with \"central\" filename version\n",
            "[원천]모낭홍반농포_3.중증.zip:  mismatching \"local\" filename ([ьЫРь▓Ь]ыкиыВнэЩНы░ШыЖНэПм_3.ьдСьжЭ.zip),\n",
            "         continuing with \"central\" filename version\n",
            "[원천]비듬_0.양호.zip:  mismatching \"local\" filename ([ьЫРь▓Ь]ы╣ДыУм_0.ьЦСэШ╕.zip),\n",
            "         continuing with \"central\" filename version\n",
            "[원천]비듬_1.경증.zip:  mismatching \"local\" filename ([ьЫРь▓Ь]ы╣ДыУм_1.ъ▓╜ьжЭ.zip),\n",
            "         continuing with \"central\" filename version\n",
            "[원천]비듬_2.중등도.zip:  mismatching \"local\" filename ([ьЫРь▓Ь]ы╣ДыУм_2.ьдСыУ▒ыПД.zip),\n",
            "         continuing with \"central\" filename version\n",
            "[원천]비듬_3.중증.zip:  mismatching \"local\" filename ([ьЫРь▓Ь]ы╣ДыУм_3.ьдСьжЭ.zip),\n",
            "         continuing with \"central\" filename version\n",
            "[원천]탈모_0.양호.zip:  mismatching \"local\" filename ([ьЫРь▓Ь]эГИыки_0.ьЦСэШ╕.zip),\n",
            "         continuing with \"central\" filename version\n",
            "[원천]탈모_1.경증.zip:  mismatching \"local\" filename ([ьЫРь▓Ь]эГИыки_1.ъ▓╜ьжЭ.zip),\n",
            "         continuing with \"central\" filename version\n",
            "[원천]탈모_2.중등도.zip:  mismatching \"local\" filename ([ьЫРь▓Ь]эГИыки_2.ьдСыУ▒ыПД.zip),\n",
            "         continuing with \"central\" filename version\n",
            "[원천]탈모_3.중증.zip:  mismatching \"local\" filename ([ьЫРь▓Ь]эГИыки_3.ьдСьжЭ.zip),\n",
            "         continuing with \"central\" filename version\n"
          ]
        }
      ]
    },
    {
      "cell_type": "code",
      "source": [
        "\"\"\"\n",
        "import os\n",
        "import shutil\n",
        "\n",
        "dir_path = '/content/scalp_data/img_zip_dir'\n",
        "\n",
        "if os.path.exists(dir_path):\n",
        "    shutil.rmtree(dir_path)\n",
        "\"\"\""
      ],
      "metadata": {
        "id": "ikLJSW6hbXze"
      },
      "execution_count": null,
      "outputs": []
    },
    {
      "cell_type": "code",
      "source": [
        "import glob \n",
        "import zipfile \n",
        "\n",
        "img_path = '/content/scalp_data/img_zip_dir'\n",
        "img_path_list = glob.glob(img_path+'/*')\n"
      ],
      "metadata": {
        "id": "hEOS0Wl-TKsX"
      },
      "execution_count": null,
      "outputs": []
    },
    {
      "cell_type": "code",
      "source": [
        "print(img_path_list[:10])"
      ],
      "metadata": {
        "colab": {
          "base_uri": "https://localhost:8080/"
        },
        "id": "xJIhjZqtaWjs",
        "outputId": "64850d17-4ed2-4e95-f73b-b46677ba0178"
      },
      "execution_count": null,
      "outputs": [
        {
          "output_type": "stream",
          "name": "stdout",
          "text": [
            "['/content/scalp_data/img_zip_dir/[원천]탈모_3.중증.zip', '/content/scalp_data/img_zip_dir/[원천]탈모_0.양호.zip', '/content/scalp_data/img_zip_dir/[원천]비듬_1.경증.zip', '/content/scalp_data/img_zip_dir/[원천]모낭홍반농포_3.중증.zip', '/content/scalp_data/img_zip_dir/[원천]모낭홍반농포_1.경증.zip', '/content/scalp_data/img_zip_dir/[원천]비듬_3.중증.zip', '/content/scalp_data/img_zip_dir/[원천]비듬_0.양호.zip', '/content/scalp_data/img_zip_dir/[원천]모낭홍반농포_2.중등도.zip', '/content/scalp_data/img_zip_dir/[원천]비듬_2.중등도.zip', '/content/scalp_data/img_zip_dir/[원천]모낭홍반농포_0.양호.zip']\n"
          ]
        }
      ]
    },
    {
      "cell_type": "code",
      "source": [
        "for img_path in img_path_list:\n",
        "  img_zip =  zipfile.ZipFile(img_path)\n",
        "  img_zip.extractall('/content/scalp_data/img_data')\n",
        "  img_zip.close()"
      ],
      "metadata": {
        "id": "iKQ_rR-yJMQ4"
      },
      "execution_count": null,
      "outputs": []
    },
    {
      "cell_type": "code",
      "source": [
        "# 총 23568 개의 이미지\n",
        "\n",
        "import os\n",
        "\n",
        "file_list = os.listdir('/content/scalp_data/img_data')\n",
        "print(len(file_list))"
      ],
      "metadata": {
        "colab": {
          "base_uri": "https://localhost:8080/"
        },
        "id": "A7GoO9vIhAtX",
        "outputId": "244fa38e-26d5-4e8a-94c5-38b326d5298d"
      },
      "execution_count": null,
      "outputs": [
        {
          "output_type": "stream",
          "name": "stdout",
          "text": [
            "23568\n"
          ]
        }
      ]
    },
    {
      "cell_type": "code",
      "source": [
        "file_list.sort()"
      ],
      "metadata": {
        "id": "lwwB28-dwizJ"
      },
      "execution_count": null,
      "outputs": []
    },
    {
      "cell_type": "markdown",
      "source": [
        "#### 라벨링 데이터"
      ],
      "metadata": {
        "id": "bzNIf53gzUiN"
      }
    },
    {
      "cell_type": "markdown",
      "source": [
        "파이썬 zipfile 모듈 이용하면 훨씬 간단하게 불러올 수 있음"
      ],
      "metadata": {
        "id": "JbdYxUFrzat5"
      }
    },
    {
      "cell_type": "code",
      "source": [
        "!mkdir /content/scalp_data/label_data"
      ],
      "metadata": {
        "colab": {
          "base_uri": "https://localhost:8080/"
        },
        "id": "YCa1oSzZlDil",
        "outputId": "c2a2f079-735d-46f0-fd7d-cec9fa708f79"
      },
      "execution_count": null,
      "outputs": [
        {
          "output_type": "stream",
          "name": "stdout",
          "text": [
            "shell-init: error retrieving current directory: getcwd: cannot access parent directories: No such file or directory\n"
          ]
        }
      ]
    },
    {
      "cell_type": "code",
      "source": [
        "import glob \n",
        "import zipfile \n",
        "\n",
        "path = '/content/drive/MyDrive/04_Scalp/label_zip'\n",
        "path_list = glob.glob(path+'/*')\n",
        "\n",
        "print(path_list)"
      ],
      "metadata": {
        "colab": {
          "base_uri": "https://localhost:8080/"
        },
        "id": "x9V9_FfuiBvJ",
        "outputId": "bdad915c-2795-4c4a-a381-51c55c9a49ea"
      },
      "execution_count": null,
      "outputs": [
        {
          "output_type": "stream",
          "name": "stdout",
          "text": [
            "['/content/drive/MyDrive/04_Scalp/label_zip/[라벨]피지과다_2.중등도.zip', '/content/drive/MyDrive/04_Scalp/label_zip/[라벨]비듬_3.중증.zip', '/content/drive/MyDrive/04_Scalp/label_zip/[라벨]미세각질_2.중등도.zip', '/content/drive/MyDrive/04_Scalp/label_zip/[라벨]모낭사이홍반_3.중증.zip', '/content/drive/MyDrive/04_Scalp/label_zip/[라벨]탈모_2.중등도.zip', '/content/drive/MyDrive/04_Scalp/label_zip/[라벨]탈모_3.중증.zip', '/content/drive/MyDrive/04_Scalp/label_zip/[라벨]비듬_1.경증.zip', '/content/drive/MyDrive/04_Scalp/label_zip/[라벨]피지과다_1.경증.zip', '/content/drive/MyDrive/04_Scalp/label_zip/[라벨]모낭사이홍반_0.양호.zip', '/content/drive/MyDrive/04_Scalp/label_zip/[라벨]미세각질_3.중증.zip', '/content/drive/MyDrive/04_Scalp/label_zip/[라벨]모낭홍반농포_2.중등도.zip', '/content/drive/MyDrive/04_Scalp/label_zip/[라벨]모낭사이홍반_1.경증.zip', '/content/drive/MyDrive/04_Scalp/label_zip/[라벨]모낭사이홍반_2.중등도.zip', '/content/drive/MyDrive/04_Scalp/label_zip/[라벨]미세각질_1.경증.zip', '/content/drive/MyDrive/04_Scalp/label_zip/[라벨]피지과다_3.중증.zip', '/content/drive/MyDrive/04_Scalp/label_zip/[라벨]비듬_2.중등도.zip', '/content/drive/MyDrive/04_Scalp/label_zip/[라벨]모낭홍반농포_1.경증.zip', '/content/drive/MyDrive/04_Scalp/label_zip/[라벨]비듬_0.양호.zip', '/content/drive/MyDrive/04_Scalp/label_zip/[라벨]모낭홍반농포_3.중증.zip', '/content/drive/MyDrive/04_Scalp/label_zip/[라벨]모낭홍반농포_0.양호.zip', '/content/drive/MyDrive/04_Scalp/label_zip/[라벨]탈모_0.양호.zip', '/content/drive/MyDrive/04_Scalp/label_zip/[라벨]미세각질_0.양호.zip', '/content/drive/MyDrive/04_Scalp/label_zip/[라벨]피지과다_0.양호.zip', '/content/drive/MyDrive/04_Scalp/label_zip/[라벨]탈모_1.경증.zip']\n"
          ]
        }
      ]
    },
    {
      "cell_type": "code",
      "source": [
        "for json_path in path_list:\n",
        "  json_zip = zipfile.ZipFile(json_path)\n",
        "  json_zip.extractall('/content/scalp_data/label_data')\n",
        "  json_zip.close()"
      ],
      "metadata": {
        "id": "7qXw6MyvlbJ6"
      },
      "execution_count": null,
      "outputs": []
    },
    {
      "cell_type": "code",
      "source": [
        "# json 파일 총 23568개 : 이미지랑 개수 동일\n",
        "\n",
        "json_list = os.listdir('/content/scalp_data/label_data')\n",
        "print(len(json_list))"
      ],
      "metadata": {
        "colab": {
          "base_uri": "https://localhost:8080/"
        },
        "id": "HKXPeQiIkvvT",
        "outputId": "de24b4bc-49ca-4b22-a77a-66e415de015a"
      },
      "execution_count": null,
      "outputs": [
        {
          "output_type": "stream",
          "name": "stdout",
          "text": [
            "23568\n"
          ]
        }
      ]
    },
    {
      "cell_type": "code",
      "source": [
        "json_list.sort()"
      ],
      "metadata": {
        "id": "ChQyEkCWysnf"
      },
      "execution_count": null,
      "outputs": []
    },
    {
      "cell_type": "markdown",
      "source": [
        "#### 원천 vs 라벨링 데이터 비교"
      ],
      "metadata": {
        "id": "_MqCkhbIK-ED"
      }
    },
    {
      "cell_type": "markdown",
      "source": [
        "23568/6= 3928 -> 고유한 개인이 총 3928명인지 확인하기"
      ],
      "metadata": {
        "id": "hmgBrEd8mFNT"
      }
    },
    {
      "cell_type": "code",
      "source": [
        "# 이미지 파일 : file_list\n",
        "# 라벨링 파일 : json_list\n",
        "\n",
        "print(file_list[0][:-8])\n",
        "print(json_list[0][:-9])"
      ],
      "metadata": {
        "colab": {
          "base_uri": "https://localhost:8080/"
        },
        "id": "fjQO9GTQl_t-",
        "outputId": "24dee1a6-4f49-4257-999b-05e735467a5d"
      },
      "execution_count": null,
      "outputs": [
        {
          "output_type": "stream",
          "name": "stdout",
          "text": [
            "2278_A2LEBJJDE00181Z_1606655779534_\n",
            "8297_A2LEBJJDE001076_1607596628119_\n"
          ]
        }
      ]
    },
    {
      "cell_type": "code",
      "source": [
        "# 이미지 이름에서 얻는 개인의 id 목록\n",
        "\n",
        "id_list = []\n",
        "\n",
        "def get_person_id_from_img_name (file_name):\n",
        "  id = file_name[:-8]\n",
        "  id_list.append(id)"
      ],
      "metadata": {
        "id": "Yf1jBDyhmrbu"
      },
      "execution_count": null,
      "outputs": []
    },
    {
      "cell_type": "code",
      "source": [
        "for img_name in file_list:\n",
        "  get_person_id_from_img_name(img_name)\n",
        "\n",
        "print(len(id_list))"
      ],
      "metadata": {
        "id": "w6Onx4-XnITO",
        "colab": {
          "base_uri": "https://localhost:8080/"
        },
        "outputId": "c5db06e3-65bf-4f7f-e50a-b5d11dc84873"
      },
      "execution_count": null,
      "outputs": [
        {
          "output_type": "stream",
          "name": "stdout",
          "text": [
            "23568\n"
          ]
        }
      ]
    },
    {
      "cell_type": "code",
      "source": [
        "id_set_list = list(set(id_list))\n",
        "\n",
        "print(len(id_set_list)) # 고유 id 값이 6580개"
      ],
      "metadata": {
        "id": "4fN4s1jtnVDz",
        "colab": {
          "base_uri": "https://localhost:8080/"
        },
        "outputId": "a0fa246b-4908-410e-a694-a0360e877afa"
      },
      "execution_count": null,
      "outputs": [
        {
          "output_type": "stream",
          "name": "stdout",
          "text": [
            "6580\n"
          ]
        }
      ]
    },
    {
      "cell_type": "code",
      "source": [
        "id_set_list.sort()"
      ],
      "metadata": {
        "id": "s_I6BX6PoRrv"
      },
      "execution_count": null,
      "outputs": []
    },
    {
      "cell_type": "code",
      "source": [
        "# 라벨링 이름에서 얻는 개인의 id 목록\n",
        "\n",
        "json_id_list = []\n",
        "\n",
        "def get_person_id_from_json_name (file_name):\n",
        "  id = file_name[:-9]\n",
        "  json_id_list.append(id)"
      ],
      "metadata": {
        "id": "_eHHBQNTpx-t"
      },
      "execution_count": null,
      "outputs": []
    },
    {
      "cell_type": "code",
      "source": [
        "for json_name in json_list:\n",
        "  get_person_id_from_json_name(json_name)"
      ],
      "metadata": {
        "id": "NaE6g0WqqUyH"
      },
      "execution_count": null,
      "outputs": []
    },
    {
      "cell_type": "code",
      "source": [
        "print(len(json_id_list))"
      ],
      "metadata": {
        "colab": {
          "base_uri": "https://localhost:8080/"
        },
        "id": "8QwPFVkGqOi9",
        "outputId": "4f4eb3f6-7b61-4e8c-c265-865afc9ea885"
      },
      "execution_count": null,
      "outputs": [
        {
          "output_type": "stream",
          "name": "stdout",
          "text": [
            "23568\n"
          ]
        }
      ]
    },
    {
      "cell_type": "code",
      "source": [
        "json_id_set_list = list(set(json_id_list))\n",
        "json_id_list.sort()"
      ],
      "metadata": {
        "id": "6KQMZnxhqmOt"
      },
      "execution_count": null,
      "outputs": []
    },
    {
      "cell_type": "code",
      "source": [
        "print(len(json_id_set_list))"
      ],
      "metadata": {
        "colab": {
          "base_uri": "https://localhost:8080/"
        },
        "id": "Nayu3A9kqwXM",
        "outputId": "9a00ca85-e5b0-48c5-8d42-c7ec2f2c8d17"
      },
      "execution_count": null,
      "outputs": [
        {
          "output_type": "stream",
          "name": "stdout",
          "text": [
            "6580\n"
          ]
        }
      ]
    },
    {
      "cell_type": "markdown",
      "source": [
        "확인결과 총 3928명이 아닌 6580명 이었음\n"
      ],
      "metadata": {
        "id": "tx0Z_9ziicKU"
      }
    },
    {
      "cell_type": "code",
      "source": [
        "# id_set_list vs json_id_set_list 비교\n",
        "\n",
        "for name in id_set_list:\n",
        "  if name in json_id_set_list:\n",
        "    pass\n",
        "  else:\n",
        "    print(name)"
      ],
      "metadata": {
        "id": "O4V8eAa_rZ5L"
      },
      "execution_count": null,
      "outputs": []
    },
    {
      "cell_type": "markdown",
      "source": [
        "확인결과 서로 다른 사람이 있지는 않음 -> 모든 사람이 5개의 파일을 가지고 있지는 않음 (validation 데이터만 사용해서 그런듯 함)"
      ],
      "metadata": {
        "id": "PmapUdqyvobn"
      }
    },
    {
      "cell_type": "code",
      "source": [
        "file_list[:10]"
      ],
      "metadata": {
        "colab": {
          "base_uri": "https://localhost:8080/"
        },
        "id": "ufq37HfgzyaV",
        "outputId": "70191cab-b63a-4f1a-8485-fac841b0aa4d"
      },
      "execution_count": null,
      "outputs": [
        {
          "output_type": "execute_result",
          "data": {
            "text/plain": [
              "['0013_A2LEBJJDE00060O_1605839548962_2_TH.jpg',\n",
              " '0013_A2LEBJJDE00060O_1605943763600_3_TH.jpg',\n",
              " '0013_A2LEBJJDE00060O_1605943787774_2_TH.jpg',\n",
              " '0013_A2LEBJJDE00060O_1605943787774_6_BH.jpg',\n",
              " '0013_A2LEBJJDE00060O_1605949144786_2_TH.jpg',\n",
              " '0013_A2LEBJJDE00060O_1605949144786_6_BH.jpg',\n",
              " '0013_A2LEBJJDE00060O_1605949385518_2_TH.jpg',\n",
              " '0013_A2LEBJJDE00060O_1605949385518_6_BH.jpg',\n",
              " '0013_A2LEBJJDE00060O_1606386139601_2_TH.jpg',\n",
              " '0013_A2LEBJJDE00060O_1606386139601_3_TH.jpg']"
            ]
          },
          "metadata": {},
          "execution_count": 135
        }
      ]
    },
    {
      "cell_type": "code",
      "source": [
        "json_list[:10]"
      ],
      "metadata": {
        "colab": {
          "base_uri": "https://localhost:8080/"
        },
        "id": "sOptmSh0zzv5",
        "outputId": "efa9805c-177e-4b07-e52b-c388054d0f0b"
      },
      "execution_count": null,
      "outputs": [
        {
          "output_type": "execute_result",
          "data": {
            "text/plain": [
              "['0013_A2LEBJJDE00060O_1605839548962_2_TH.json',\n",
              " '0013_A2LEBJJDE00060O_1605943763600_3_TH.json',\n",
              " '0013_A2LEBJJDE00060O_1605943787774_2_TH.json',\n",
              " '0013_A2LEBJJDE00060O_1605943787774_6_BH.json',\n",
              " '0013_A2LEBJJDE00060O_1605949144786_2_TH.json',\n",
              " '0013_A2LEBJJDE00060O_1605949144786_6_BH.json',\n",
              " '0013_A2LEBJJDE00060O_1605949385518_2_TH.json',\n",
              " '0013_A2LEBJJDE00060O_1605949385518_6_BH.json',\n",
              " '0013_A2LEBJJDE00060O_1606386139601_2_TH.json',\n",
              " '0013_A2LEBJJDE00060O_1606386139601_3_TH.json']"
            ]
          },
          "metadata": {},
          "execution_count": 136
        }
      ]
    },
    {
      "cell_type": "markdown",
      "source": [
        "## 2. 데이터 전처리"
      ],
      "metadata": {
        "id": "VGMgboMFyQou"
      }
    },
    {
      "cell_type": "markdown",
      "source": [
        "모델링 목표: 이미지를 입력하면 예측해서 여섯가지 증상에 대해 각자의 여부를 출력하는 모델\n",
        "\n",
        "output layer는 dense: 6, activation func: sigmoid 를 사용 -> [0.01, 0.78, 0.98, 0.89, 0.02, 0.22] \n",
        "\n",
        "-> 미세각질 없음, 피지과다 78%, 모낭사이홍반 98%, 모낭홍반/농포 89%, 비듬 2%, 탈모 22%\n"
      ],
      "metadata": {
        "id": "jD2LiqS7Lpmx"
      }
    },
    {
      "cell_type": "markdown",
      "source": [
        "이 데이터와 Meta 데이터 + 추가로 상품조사를 따로 하면 제품 추천까지 할 수 있음"
      ],
      "metadata": {
        "id": "aTWsRuwFMrsQ"
      }
    },
    {
      "cell_type": "markdown",
      "source": [
        "각 이미지의 RGB 값: x_train\n",
        "\n",
        "json 에서 해당 증상에 대한 : y_train"
      ],
      "metadata": {
        "id": "yuZ71YODz31O"
      }
    },
    {
      "cell_type": "markdown",
      "source": [
        "이미지 이름을 전달하면 해당 라벨링 파일을 불러오도록 함"
      ],
      "metadata": {
        "id": "ebPKgf_NM-K4"
      }
    },
    {
      "cell_type": "code",
      "source": [
        "# 이미지 이름: file_list\n",
        "# json 이름: json_list"
      ],
      "metadata": {
        "id": "UMWrTKQN3V6c"
      },
      "execution_count": null,
      "outputs": []
    },
    {
      "cell_type": "code",
      "source": [
        "# .jpg -> .json 으로 변환하는 함수\n",
        "\n",
        "def img_name_to_json_name(img_name):\n",
        "  file_name = img_name[:-4]\n",
        "  file_name = file_name + '.json'\n",
        "  return (file_name)"
      ],
      "metadata": {
        "id": "J3uuDjNG3jBz"
      },
      "execution_count": null,
      "outputs": []
    },
    {
      "cell_type": "code",
      "source": [
        "# .json data를 전달하면 각 증상별 유뮤를 리스트로 반환하는 함수 ex. [0,0,0,0,0,0]\n",
        "\n",
        "# 증상이 0이면 0, 1~3이면 1\n",
        "\n",
        "def binary_div(value):\n",
        "  if int(value) == 0:\n",
        "    return 0\n",
        "  else:\n",
        "    return 1\n",
        "\n",
        "# [0,1,0,0,1,0] 같은 6차원 리스트 반환\n",
        "\n",
        "def value_list_from_json(json_data):\n",
        "  value_list = []\n",
        "  value_list.append(binary_div(json_data['value_1']))\n",
        "  value_list.append(binary_div(json_data['value_2']))\n",
        "  value_list.append(binary_div(json_data['value_3']))\n",
        "  value_list.append(binary_div(json_data['value_4']))\n",
        "  value_list.append(binary_div(json_data['value_5']))\n",
        "  value_list.append(binary_div(json_data['value_6']))\n",
        "  return value_list"
      ],
      "metadata": {
        "id": "fPOIGw_D6omG"
      },
      "execution_count": null,
      "outputs": []
    },
    {
      "cell_type": "code",
      "source": [
        "# 확인\n",
        "\n",
        "json_path = '/content/scalp_data/label_data/0013_A2LEBJJDE00060O_1605839548962_2_TH.json'\n",
        "\n",
        "import json\n",
        "\n",
        "with open(json_path, 'r') as file:\n",
        "    data = json.load(file)\n",
        "\n",
        "print(value_list_from_json(data))"
      ],
      "metadata": {
        "colab": {
          "base_uri": "https://localhost:8080/"
        },
        "id": "VbXCs5K62z4x",
        "outputId": "2e9d6c68-1cee-40f1-cb3b-95e2734c90be"
      },
      "execution_count": null,
      "outputs": [
        {
          "output_type": "stream",
          "name": "stdout",
          "text": [
            "<class 'dict'>\n",
            "0\n",
            "<class 'str'>\n"
          ]
        }
      ]
    },
    {
      "cell_type": "code",
      "source": [
        "print(value_list_from_json(data))"
      ],
      "metadata": {
        "colab": {
          "base_uri": "https://localhost:8080/"
        },
        "id": "DJQ6LtKu7xrE",
        "outputId": "b7d259c8-06cd-4331-f06f-a666702dfc32"
      },
      "execution_count": null,
      "outputs": [
        {
          "output_type": "stream",
          "name": "stdout",
          "text": [
            "[0, 1, 0, 1, 0, 1]\n"
          ]
        }
      ]
    },
    {
      "cell_type": "markdown",
      "source": [
        "#### dataset 형성"
      ],
      "metadata": {
        "id": "GH_fVFGi_shS"
      }
    },
    {
      "cell_type": "code",
      "source": [
        "# dataset 만들기\n",
        "\n",
        "import PIL\n",
        "from PIL import Image\n",
        "import numpy as np\n",
        "import matplotlib.pyplot as plt\n",
        "import json\n",
        "\n",
        "x_data = []\n",
        "y_data = []\n",
        "\n",
        "img_dir_path = '/content/scalp_data/img_data'\n",
        "# img_path: img_dir_path + '/' + img_name\n",
        "# /content/scalp_data/img_data/0013_A2LEBJJDE00060O_1605839548962_2_TH.jpg\n",
        "\n",
        "json_dir_path = '/content/scalp_data/label_data'\n",
        "# json_path : json_dir_path + '/' + img_name_to_json_name(img_name)\n",
        "# /content/scalp_data/label_data/0013_A2LEBJJDE00060O_1605839548962_2_TH.json\n",
        "\n",
        "for img_name in file_list:\n",
        "  img_path = img_dir_path + '/' + img_name\n",
        "  img = PIL.Image.open(img_path)\n",
        "  #plt.imshow(img)\n",
        "  #plt.show()\n",
        "  img = img.convert('RGB')\n",
        "  img = img.resize((75,75))\n",
        "  np_img = np.array(img)\n",
        "  np_img = np_img / 255.0\n",
        "  x_data.append(np_img)\n",
        "\n",
        "  # json에서 증상별 리스트 가져오기\n",
        "  label_list = []\n",
        "  json_path = json_dir_path + '/' + img_name_to_json_name(img_name)\n",
        "  with open(json_path, 'r') as file:\n",
        "    data = json.load(file)\n",
        "    label_list = value_list_from_json(data)\n",
        "    label_list = np.array(label_list)\n",
        "    y_data.append(label_list)"
      ],
      "metadata": {
        "id": "63-MHr0Az3W3"
      },
      "execution_count": null,
      "outputs": []
    },
    {
      "cell_type": "code",
      "source": [
        "x_data = np.array(x_data)\n",
        "y_data = np.array(y_data)"
      ],
      "metadata": {
        "id": "AI4ipAvtd32-"
      },
      "execution_count": null,
      "outputs": []
    },
    {
      "cell_type": "code",
      "source": [
        "x_data.shape"
      ],
      "metadata": {
        "colab": {
          "base_uri": "https://localhost:8080/"
        },
        "id": "5u53fk1uhYr3",
        "outputId": "ae2418cb-9c7b-428c-c89b-f91799e975fa"
      },
      "execution_count": null,
      "outputs": [
        {
          "output_type": "execute_result",
          "data": {
            "text/plain": [
              "(23568, 75, 75, 3)"
            ]
          },
          "metadata": {},
          "execution_count": 63
        }
      ]
    },
    {
      "cell_type": "code",
      "source": [
        "y_data.shape"
      ],
      "metadata": {
        "colab": {
          "base_uri": "https://localhost:8080/"
        },
        "id": "gnuUCEdlha2L",
        "outputId": "64993126-6483-4a45-e734-468afe845ced"
      },
      "execution_count": null,
      "outputs": [
        {
          "output_type": "execute_result",
          "data": {
            "text/plain": [
              "(23568, 6)"
            ]
          },
          "metadata": {},
          "execution_count": 64
        }
      ]
    },
    {
      "cell_type": "markdown",
      "source": [
        "Data augmentation: 이미 데이터가 너무 많아서 augmentation은 하지 않기로 함"
      ],
      "metadata": {
        "id": "QDbeM1MxC0xj"
      }
    },
    {
      "cell_type": "markdown",
      "source": [
        "매 런타임마다 데이터 전처리를 하지 않도록 전처리한 이미지와 라벨링 numpy 배열을 저장"
      ],
      "metadata": {
        "id": "J6wNeVnOPYnD"
      }
    },
    {
      "cell_type": "code",
      "source": [
        "np.save('/content/drive/MyDrive/04_Scalp/data_to_numpy/x_data.npy', x_data)"
      ],
      "metadata": {
        "id": "-L_QpQi1YVUb"
      },
      "execution_count": null,
      "outputs": []
    },
    {
      "cell_type": "code",
      "source": [
        "np.save('/content/drive/MyDrive/04_Scalp/data_to_numpy/y_data.npy', y_data)"
      ],
      "metadata": {
        "id": "1Ta4ACUChufw"
      },
      "execution_count": null,
      "outputs": []
    },
    {
      "cell_type": "markdown",
      "source": [
        "#### 매 런타임마다 여기서부터 실행하면 됨"
      ],
      "metadata": {
        "id": "x7lNUFC1lkvw"
      }
    },
    {
      "cell_type": "code",
      "source": [
        "# 저장해둔 numpy 배열 불러오기\n",
        "\n",
        "import numpy as np\n",
        "\n",
        "x_data = np.load('/content/drive/MyDrive/04_Scalp/data_to_numpy/x_data.npy')\n",
        "y_data = np.load('/content/drive/MyDrive/04_Scalp/data_to_numpy/y_data.npy')"
      ],
      "metadata": {
        "id": "1XajRaGIY7HN"
      },
      "execution_count": null,
      "outputs": []
    },
    {
      "cell_type": "code",
      "source": [
        "x_data.shape"
      ],
      "metadata": {
        "colab": {
          "base_uri": "https://localhost:8080/"
        },
        "id": "9YyY5bHZiSlT",
        "outputId": "bd75f143-8cfc-410a-ffc4-bd4f3c48465f"
      },
      "execution_count": null,
      "outputs": [
        {
          "output_type": "execute_result",
          "data": {
            "text/plain": [
              "(23568, 75, 75, 3)"
            ]
          },
          "metadata": {},
          "execution_count": 2
        }
      ]
    },
    {
      "cell_type": "code",
      "source": [
        "y_data.shape"
      ],
      "metadata": {
        "colab": {
          "base_uri": "https://localhost:8080/"
        },
        "id": "Ht0UD6_aiXbf",
        "outputId": "af7c824a-1622-41a5-8f8f-4c0b659d5dda"
      },
      "execution_count": null,
      "outputs": [
        {
          "output_type": "execute_result",
          "data": {
            "text/plain": [
              "(23568, 6)"
            ]
          },
          "metadata": {},
          "execution_count": 3
        }
      ]
    },
    {
      "cell_type": "markdown",
      "source": [
        "## 3. 학습 및 성능 확인 "
      ],
      "metadata": {
        "id": "uWuM7-V1yVAt"
      }
    },
    {
      "cell_type": "markdown",
      "source": [
        "### Model1. Mnist 모델 이용"
      ],
      "metadata": {
        "id": "k7X0iwllyejQ"
      }
    },
    {
      "cell_type": "markdown",
      "source": [
        "1번째 시도"
      ],
      "metadata": {
        "id": "2Q2UUq4YTQ6t"
      }
    },
    {
      "cell_type": "markdown",
      "source": [
        "![KakaoTalk_20230118_112528779.png](data:image/png;base64,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)"
      ],
      "metadata": {
        "id": "wCz-vKUWT1CH"
      }
    },
    {
      "cell_type": "markdown",
      "source": [
        "![KakaoTalk_20230118_112538581.png](data:image/png;base64,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)"
      ],
      "metadata": {
        "id": "mUhYUgCyT4ea"
      }
    },
    {
      "cell_type": "markdown",
      "source": [
        "accuracy & loss 가 일정하게 나오는 것을 보니 metric과 loss가 잘못 설정되었다고 추측\n",
        "\n",
        "-> metric은 accuracy가 아닌 mae 로, loss 는 sprase_categorical_crossentropy가 아닌 mse로 수정 + train, val, test도 6:2:2가 아닌 8:2로 분할 "
      ],
      "metadata": {
        "id": "Kj9G28wXT8Q4"
      }
    },
    {
      "cell_type": "markdown",
      "source": [
        "2번째 시도"
      ],
      "metadata": {
        "id": "xhqhZCmEUVwz"
      }
    },
    {
      "cell_type": "code",
      "source": [
        "# train/test 8:2 나누기\n",
        "\n",
        "from sklearn.model_selection import train_test_split\n",
        "\n",
        "x_train, x_test, y_train, y_test = train_test_split(x_data, y_data, test_size = 0.2)\n",
        "\n",
        "x_val = x_test[:2]\n",
        "x_test = x_test[2:]\n",
        "\n",
        "y_val = y_test[:2]\n",
        "y_test = y_test[2:]"
      ],
      "metadata": {
        "id": "g5otCzWat7u9"
      },
      "execution_count": null,
      "outputs": []
    },
    {
      "cell_type": "code",
      "source": [
        "from sklearn.metrics import mean_absolute_error\n",
        "\n",
        "cnn_model.compile(optimizer='adam', loss = 'mse', metrics = ['mae'])\n",
        "history = cnn_model.fit(x_train, y_train, validation_data = (x_test, y_test), epochs = 30, batch_size = 30)"
      ],
      "metadata": {
        "colab": {
          "base_uri": "https://localhost:8080/"
        },
        "id": "OTb23Da5s-aC",
        "outputId": "9e4f8f8d-ef88-4b06-8c42-5f19e243eb7a"
      },
      "execution_count": null,
      "outputs": [
        {
          "output_type": "stream",
          "name": "stdout",
          "text": [
            "Epoch 1/30\n",
            "629/629 [==============================] - 35s 41ms/step - loss: 0.1631 - mae: 0.3170 - val_loss: 0.1504 - val_mae: 0.3067\n",
            "Epoch 2/30\n",
            "629/629 [==============================] - 26s 41ms/step - loss: 0.1510 - mae: 0.2953 - val_loss: 0.1459 - val_mae: 0.3057\n",
            "Epoch 3/30\n",
            "629/629 [==============================] - 26s 41ms/step - loss: 0.1465 - mae: 0.2875 - val_loss: 0.1429 - val_mae: 0.2910\n",
            "Epoch 4/30\n",
            "629/629 [==============================] - 26s 41ms/step - loss: 0.1439 - mae: 0.2818 - val_loss: 0.1454 - val_mae: 0.2924\n",
            "Epoch 5/30\n",
            "629/629 [==============================] - 25s 41ms/step - loss: 0.1414 - mae: 0.2778 - val_loss: 0.1401 - val_mae: 0.2731\n",
            "Epoch 6/30\n",
            "629/629 [==============================] - 25s 40ms/step - loss: 0.1401 - mae: 0.2752 - val_loss: 0.1468 - val_mae: 0.2857\n",
            "Epoch 7/30\n",
            "629/629 [==============================] - 26s 41ms/step - loss: 0.1364 - mae: 0.2677 - val_loss: 0.1412 - val_mae: 0.2656\n",
            "Epoch 8/30\n",
            "629/629 [==============================] - 25s 40ms/step - loss: 0.1316 - mae: 0.2591 - val_loss: 0.1417 - val_mae: 0.2597\n",
            "Epoch 9/30\n",
            "629/629 [==============================] - 25s 40ms/step - loss: 0.1250 - mae: 0.2463 - val_loss: 0.1430 - val_mae: 0.2671\n",
            "Epoch 10/30\n",
            "629/629 [==============================] - 26s 41ms/step - loss: 0.1180 - mae: 0.2320 - val_loss: 0.1469 - val_mae: 0.2575\n",
            "Epoch 11/30\n",
            "629/629 [==============================] - 25s 40ms/step - loss: 0.1086 - mae: 0.2135 - val_loss: 0.1583 - val_mae: 0.2544\n",
            "Epoch 12/30\n",
            "629/629 [==============================] - 26s 41ms/step - loss: 0.0988 - mae: 0.1933 - val_loss: 0.1558 - val_mae: 0.2485\n",
            "Epoch 13/30\n",
            "629/629 [==============================] - 25s 40ms/step - loss: 0.0886 - mae: 0.1729 - val_loss: 0.1614 - val_mae: 0.2438\n",
            "Epoch 14/30\n",
            "629/629 [==============================] - 25s 40ms/step - loss: 0.0813 - mae: 0.1577 - val_loss: 0.1666 - val_mae: 0.2531\n",
            "Epoch 15/30\n",
            "629/629 [==============================] - 25s 40ms/step - loss: 0.0755 - mae: 0.1458 - val_loss: 0.1711 - val_mae: 0.2448\n",
            "Epoch 16/30\n",
            "629/629 [==============================] - 25s 40ms/step - loss: 0.0697 - mae: 0.1339 - val_loss: 0.1709 - val_mae: 0.2484\n",
            "Epoch 17/30\n",
            "629/629 [==============================] - 25s 40ms/step - loss: 0.0654 - mae: 0.1244 - val_loss: 0.1728 - val_mae: 0.2544\n",
            "Epoch 18/30\n",
            "629/629 [==============================] - 27s 43ms/step - loss: 0.0629 - mae: 0.1189 - val_loss: 0.1737 - val_mae: 0.2350\n",
            "Epoch 19/30\n",
            "629/629 [==============================] - 26s 42ms/step - loss: 0.0605 - mae: 0.1142 - val_loss: 0.1844 - val_mae: 0.2462\n",
            "Epoch 20/30\n",
            "629/629 [==============================] - 26s 41ms/step - loss: 0.0578 - mae: 0.1087 - val_loss: 0.1815 - val_mae: 0.2439\n",
            "Epoch 21/30\n",
            "629/629 [==============================] - 26s 41ms/step - loss: 0.0554 - mae: 0.1030 - val_loss: 0.1788 - val_mae: 0.2433\n",
            "Epoch 22/30\n",
            "629/629 [==============================] - 27s 42ms/step - loss: 0.0545 - mae: 0.1009 - val_loss: 0.1815 - val_mae: 0.2469\n",
            "Epoch 23/30\n",
            "629/629 [==============================] - 26s 41ms/step - loss: 0.0526 - mae: 0.0967 - val_loss: 0.1873 - val_mae: 0.2379\n",
            "Epoch 24/30\n",
            "629/629 [==============================] - 26s 41ms/step - loss: 0.0527 - mae: 0.0960 - val_loss: 0.1853 - val_mae: 0.2334\n",
            "Epoch 25/30\n",
            "629/629 [==============================] - 26s 41ms/step - loss: 0.0523 - mae: 0.0946 - val_loss: 0.1865 - val_mae: 0.2352\n",
            "Epoch 26/30\n",
            "629/629 [==============================] - 27s 43ms/step - loss: 0.0504 - mae: 0.0915 - val_loss: 0.1866 - val_mae: 0.2379\n",
            "Epoch 27/30\n",
            "629/629 [==============================] - 26s 42ms/step - loss: 0.0498 - mae: 0.0895 - val_loss: 0.1835 - val_mae: 0.2382\n",
            "Epoch 28/30\n",
            "629/629 [==============================] - 26s 41ms/step - loss: 0.0487 - mae: 0.0876 - val_loss: 0.1875 - val_mae: 0.2463\n",
            "Epoch 29/30\n",
            "629/629 [==============================] - 26s 41ms/step - loss: 0.0478 - mae: 0.0859 - val_loss: 0.1877 - val_mae: 0.2421\n",
            "Epoch 30/30\n",
            "629/629 [==============================] - 26s 42ms/step - loss: 0.0471 - mae: 0.0837 - val_loss: 0.1884 - val_mae: 0.2336\n"
          ]
        }
      ]
    },
    {
      "cell_type": "code",
      "source": [
        "import matplotlib.pyplot as plt\n",
        "\n",
        "plt.plot(history.history['mae'], label = 'train_mae')\n",
        "plt.plot(history.history['val_mae'], label = 'val_mae')\n",
        "plt.legend()"
      ],
      "metadata": {
        "colab": {
          "base_uri": "https://localhost:8080/",
          "height": 283
        },
        "id": "MvIFJDmhwaso",
        "outputId": "920fbf5c-1735-4e8d-a863-f871a32189a7"
      },
      "execution_count": null,
      "outputs": [
        {
          "output_type": "execute_result",
          "data": {
            "text/plain": [
              "<matplotlib.legend.Legend at 0x7fbd140c64c0>"
            ]
          },
          "metadata": {},
          "execution_count": 8
        },
        {
          "output_type": "display_data",
          "data": {
            "text/plain": [
              "<Figure size 432x288 with 1 Axes>"
            ],
            "image/png": "[encoded data removed]"
          },
          "metadata": {
            "needs_background": "light"
          }
        }
      ]
    },
    {
      "cell_type": "code",
      "source": [
        "plt.plot(history.history['loss'], label = 'train_loss')\n",
        "plt.plot(history.history['val_loss'], label = 'val_loss')\n",
        "plt.legend()"
      ],
      "metadata": {
        "colab": {
          "base_uri": "https://localhost:8080/",
          "height": 283
        },
        "id": "R0fODuCUwlIQ",
        "outputId": "cb21c65c-9cd4-4b0f-8574-b4118aae7b98"
      },
      "execution_count": null,
      "outputs": [
        {
          "output_type": "execute_result",
          "data": {
            "text/plain": [
              "<matplotlib.legend.Legend at 0x7fbd1405bd00>"
            ]
          },
          "metadata": {},
          "execution_count": 9
        },
        {
          "output_type": "display_data",
          "data": {
            "text/plain": [
              "<Figure size 432x288 with 1 Axes>"
            ],
            "image/png": "[encoded data removed]"
          },
          "metadata": {
            "needs_background": "light"
          }
        }
      ]
    },
    {
      "cell_type": "markdown",
      "source": [
        "3번째 시도 - 8:2 가 아닌 6:2:2로 분할"
      ],
      "metadata": {
        "id": "1xxss6CJTOgc"
      }
    },
    {
      "cell_type": "code",
      "source": [
        "# train/val/test 나누기 6:2:2 로 분할\n",
        "\n",
        "from sklearn.model_selection import train_test_split\n",
        "\n",
        "x_train, x_test, y_train, y_test = train_test_split(x_data, y_data, test_size = 0.4)\n",
        "\n",
        "x_test, x_val, y_test, y_val = train_test_split(x_test, y_test, test_size=0.5)"
      ],
      "metadata": {
        "id": "KYY2frzjDdgb"
      },
      "execution_count": null,
      "outputs": []
    },
    {
      "cell_type": "code",
      "source": [
        "import tensorflow as tf\n",
        "from tensorflow.keras import layers\n",
        "\n",
        "def create_cnn_model ():\n",
        "  model = tf.keras.models.Sequential() # 객체 생성 \n",
        "  model.add(tf.keras.layers.Conv2D(64, (3,3), padding = 'same', activation = 'relu', input_shape = (75, 75, 3))) # 필터 개수 = 64개, 필터 크기 = 3*3\n",
        "  model.add(tf.keras.layers.MaxPooling2D((2,2), strides = 1, padding = 'same'))\n",
        "  # output_shape = (28,28,64)\n",
        "  model.add(tf.keras.layers.Conv2D(64, (3,3), padding = 'same', activation = 'relu')) # 필터 개수 = 64개, 필터 크기 = 3*3\n",
        "  model.add(tf.keras.layers.MaxPooling2D((2,2), strides = 1, padding = 'same'))\n",
        "  # output_shape = (28,28,64)\n",
        "  model.add(tf.keras.layers.Conv2D(64, (3,3), padding = 'same', activation = 'relu')) # 필터 개수 = 64개, 필터 크기 = 3*3\n",
        "  model.add(tf.keras.layers.MaxPooling2D((2,2), strides = 1, padding = 'same'))\n",
        "  # output_shape = (28,28,1)\n",
        "  model.add(tf.keras.layers.Flatten()) #flatten : 28 * 28 2차원 데이터를 일렬로 나열하는 것\n",
        "  model.add(tf.keras.layers.Dense(64, activation = 'relu'))\n",
        "  model.add(tf.keras.layers.Dropout(0.2)) # droupout: 너무 특정 feature에만 집중하지 않도록 설정한 부분의 weight 값을 잠시 무시하는 것\n",
        "  model.add(tf.keras.layers.Dense(6, activation = 'sigmoid')) \n",
        "  return model\n"
      ],
      "metadata": {
        "id": "laB17-tZWvoe"
      },
      "execution_count": null,
      "outputs": []
    },
    {
      "cell_type": "code",
      "source": [
        "cnn_model = create_cnn_model()"
      ],
      "metadata": {
        "id": "IJS3YfufBGaH"
      },
      "execution_count": null,
      "outputs": []
    },
    {
      "cell_type": "code",
      "source": [
        "from sklearn.metrics import mean_absolute_error\n",
        "\n",
        "cnn_model.compile(optimizer='adam', loss = 'mse', metrics = ['mae'])\n",
        "history = cnn_model.fit(x_train, y_train, validation_data = (x_val, y_val), epochs = 30, batch_size = 30)"
      ],
      "metadata": {
        "id": "_jDr6ZhTBLhn",
        "colab": {
          "base_uri": "https://localhost:8080/"
        },
        "outputId": "d58e3668-1acb-43f8-d481-78f74a9bf809"
      },
      "execution_count": null,
      "outputs": [
        {
          "output_type": "stream",
          "name": "stdout",
          "text": [
            "Epoch 1/30\n",
            "472/472 [==============================] - 29s 43ms/step - loss: 0.1701 - mae: 0.3271 - val_loss: 0.1525 - val_mae: 0.3020\n",
            "Epoch 2/30\n",
            "472/472 [==============================] - 19s 41ms/step - loss: 0.1555 - mae: 0.3042 - val_loss: 0.1480 - val_mae: 0.3010\n",
            "Epoch 3/30\n",
            "472/472 [==============================] - 20s 43ms/step - loss: 0.1520 - mae: 0.2970 - val_loss: 0.1447 - val_mae: 0.2944\n",
            "Epoch 4/30\n",
            "472/472 [==============================] - 19s 41ms/step - loss: 0.1480 - mae: 0.2893 - val_loss: 0.1425 - val_mae: 0.2851\n",
            "Epoch 5/30\n",
            "472/472 [==============================] - 20s 42ms/step - loss: 0.1443 - mae: 0.2826 - val_loss: 0.1446 - val_mae: 0.2753\n",
            "Epoch 6/30\n",
            "472/472 [==============================] - 20s 43ms/step - loss: 0.1417 - mae: 0.2778 - val_loss: 0.1478 - val_mae: 0.2961\n",
            "Epoch 7/30\n",
            "472/472 [==============================] - 19s 41ms/step - loss: 0.1392 - mae: 0.2728 - val_loss: 0.1502 - val_mae: 0.2820\n",
            "Epoch 8/30\n",
            "472/472 [==============================] - 19s 41ms/step - loss: 0.1347 - mae: 0.2646 - val_loss: 0.1455 - val_mae: 0.2727\n",
            "Epoch 9/30\n",
            "472/472 [==============================] - 19s 41ms/step - loss: 0.1290 - mae: 0.2532 - val_loss: 0.1479 - val_mae: 0.2661\n",
            "Epoch 10/30\n",
            "472/472 [==============================] - 20s 43ms/step - loss: 0.1222 - mae: 0.2397 - val_loss: 0.1503 - val_mae: 0.2655\n",
            "Epoch 11/30\n",
            "472/472 [==============================] - 20s 43ms/step - loss: 0.1143 - mae: 0.2238 - val_loss: 0.1558 - val_mae: 0.2536\n",
            "Epoch 12/30\n",
            "472/472 [==============================] - 20s 42ms/step - loss: 0.1049 - mae: 0.2045 - val_loss: 0.1650 - val_mae: 0.2655\n",
            "Epoch 13/30\n",
            "472/472 [==============================] - 19s 41ms/step - loss: 0.0958 - mae: 0.1859 - val_loss: 0.1673 - val_mae: 0.2618\n",
            "Epoch 14/30\n",
            "472/472 [==============================] - 19s 41ms/step - loss: 0.0884 - mae: 0.1714 - val_loss: 0.1683 - val_mae: 0.2571\n",
            "Epoch 15/30\n",
            "472/472 [==============================] - 20s 42ms/step - loss: 0.0808 - mae: 0.1560 - val_loss: 0.1736 - val_mae: 0.2466\n",
            "Epoch 16/30\n",
            "472/472 [==============================] - 20s 41ms/step - loss: 0.0744 - mae: 0.1425 - val_loss: 0.1721 - val_mae: 0.2488\n",
            "Epoch 17/30\n",
            "472/472 [==============================] - 19s 41ms/step - loss: 0.0692 - mae: 0.1315 - val_loss: 0.1766 - val_mae: 0.2433\n",
            "Epoch 18/30\n",
            "472/472 [==============================] - 20s 42ms/step - loss: 0.0652 - mae: 0.1230 - val_loss: 0.1767 - val_mae: 0.2476\n",
            "Epoch 19/30\n",
            "472/472 [==============================] - 20s 41ms/step - loss: 0.0629 - mae: 0.1172 - val_loss: 0.1819 - val_mae: 0.2600\n",
            "Epoch 20/30\n",
            "472/472 [==============================] - 20s 43ms/step - loss: 0.0608 - mae: 0.1126 - val_loss: 0.1825 - val_mae: 0.2413\n",
            "Epoch 21/30\n",
            "472/472 [==============================] - 20s 42ms/step - loss: 0.0585 - mae: 0.1082 - val_loss: 0.1811 - val_mae: 0.2413\n",
            "Epoch 22/30\n",
            "472/472 [==============================] - 20s 42ms/step - loss: 0.0564 - mae: 0.1029 - val_loss: 0.1868 - val_mae: 0.2429\n",
            "Epoch 23/30\n",
            "472/472 [==============================] - 20s 43ms/step - loss: 0.0548 - mae: 0.0997 - val_loss: 0.1866 - val_mae: 0.2378\n",
            "Epoch 24/30\n",
            "472/472 [==============================] - 20s 42ms/step - loss: 0.0542 - mae: 0.0976 - val_loss: 0.1863 - val_mae: 0.2394\n",
            "Epoch 25/30\n",
            "472/472 [==============================] - 19s 41ms/step - loss: 0.0535 - mae: 0.0962 - val_loss: 0.1908 - val_mae: 0.2413\n",
            "Epoch 26/30\n",
            "472/472 [==============================] - 19s 41ms/step - loss: 0.0528 - mae: 0.0936 - val_loss: 0.1926 - val_mae: 0.2526\n",
            "Epoch 27/30\n",
            "472/472 [==============================] - 19s 41ms/step - loss: 0.0510 - mae: 0.0902 - val_loss: 0.1861 - val_mae: 0.2415\n",
            "Epoch 28/30\n",
            "472/472 [==============================] - 20s 42ms/step - loss: 0.0502 - mae: 0.0884 - val_loss: 0.1894 - val_mae: 0.2400\n",
            "Epoch 29/30\n",
            "472/472 [==============================] - 20s 42ms/step - loss: 0.0482 - mae: 0.0849 - val_loss: 0.1914 - val_mae: 0.2391\n",
            "Epoch 30/30\n",
            "472/472 [==============================] - 20s 42ms/step - loss: 0.0478 - mae: 0.0840 - val_loss: 0.1901 - val_mae: 0.2321\n"
          ]
        }
      ]
    },
    {
      "cell_type": "code",
      "source": [
        "import matplotlib.pyplot as plt\n",
        "\n",
        "plt.plot(history.history['mae'], label = 'train_mae')\n",
        "plt.plot(history.history['val_mae'], label = 'val_mae')\n",
        "plt.legend()"
      ],
      "metadata": {
        "colab": {
          "base_uri": "https://localhost:8080/",
          "height": 283
        },
        "id": "uPWYAV2Skre_",
        "outputId": "faa34c9a-b488-40fd-acc5-dbddec61a620"
      },
      "execution_count": null,
      "outputs": [
        {
          "output_type": "execute_result",
          "data": {
            "text/plain": [
              "<matplotlib.legend.Legend at 0x7fc844436ee0>"
            ]
          },
          "metadata": {},
          "execution_count": 8
        },
        {
          "output_type": "display_data",
          "data": {
            "text/plain": [
              "<Figure size 432x288 with 1 Axes>"
            ],
            "image/png": "[encoded data removed]"
          },
          "metadata": {
            "needs_background": "light"
          }
        }
      ]
    },
    {
      "cell_type": "code",
      "source": [
        "plt.plot(history.history['loss'], label = 'train_loss')\n",
        "plt.plot(history.history['val_loss'], label = 'val_loss')\n",
        "plt.legend()"
      ],
      "metadata": {
        "colab": {
          "base_uri": "https://localhost:8080/",
          "height": 283
        },
        "id": "Prs0N2X7ktZQ",
        "outputId": "47f5ba6f-02d1-4583-cdf7-968005faeea1"
      },
      "execution_count": null,
      "outputs": [
        {
          "output_type": "execute_result",
          "data": {
            "text/plain": [
              "<matplotlib.legend.Legend at 0x7fc8441d2f70>"
            ]
          },
          "metadata": {},
          "execution_count": 9
        },
        {
          "output_type": "display_data",
          "data": {
            "text/plain": [
              "<Figure size 432x288 with 1 Axes>"
            ],
            "image/png": "[encoded data removed]"
          },
          "metadata": {
            "needs_background": "light"
          }
        }
      ]
    },
    {
      "cell_type": "markdown",
      "source": [
        "예측해보기"
      ],
      "metadata": {
        "id": "Iw9es54LLzzn"
      }
    },
    {
      "cell_type": "code",
      "source": [
        "test_x = np.expand_dims(x_test[0], axis = 0)"
      ],
      "metadata": {
        "id": "hWX2Jz33MLYd"
      },
      "execution_count": null,
      "outputs": []
    },
    {
      "cell_type": "code",
      "source": [
        "result = cnn_model.predict(test_x)"
      ],
      "metadata": {
        "colab": {
          "base_uri": "https://localhost:8080/"
        },
        "id": "61_dFE1LL8KJ",
        "outputId": "65d06cf6-5a47-4edb-9a16-1e2ead578792"
      },
      "execution_count": null,
      "outputs": [
        {
          "output_type": "stream",
          "name": "stdout",
          "text": [
            "1/1 [==============================] - 0s 165ms/step\n"
          ]
        }
      ]
    },
    {
      "cell_type": "code",
      "source": [
        "print(result)"
      ],
      "metadata": {
        "colab": {
          "base_uri": "https://localhost:8080/"
        },
        "id": "WlrWT077MC5_",
        "outputId": "30a805d1-193b-40c3-f1d0-f6af0cef7cca"
      },
      "execution_count": null,
      "outputs": [
        {
          "output_type": "stream",
          "name": "stdout",
          "text": [
            "[[1.5265205e-07 9.9999988e-01 9.7365046e-01 9.2365519e-07 2.3832865e-02\n",
            "  2.1515000e-06]]\n"
          ]
        }
      ]
    },
    {
      "cell_type": "code",
      "source": [
        "print(y_test[0])"
      ],
      "metadata": {
        "colab": {
          "base_uri": "https://localhost:8080/"
        },
        "id": "9csOMBwNMdZE",
        "outputId": "c3cc6a8e-eb39-4330-c771-e4efdaf7f789"
      },
      "execution_count": null,
      "outputs": [
        {
          "output_type": "stream",
          "name": "stdout",
          "text": [
            "[0 1 1 0 0 0]\n"
          ]
        }
      ]
    },
    {
      "cell_type": "markdown",
      "source": [
        "[[1.5265205e-07 9.9999988e-01 9.7365046e-01 9.2365519e-07 2.3832865e-02\n",
        "  2.1515000e-06]] \n",
        "\n",
        "  -> 0% 99% 97% 2% 0% 0% vs [0 1 1 0 0 0]"
      ],
      "metadata": {
        "id": "t3ZYcqMBRVHy"
      }
    },
    {
      "cell_type": "markdown",
      "source": [
        "꽤 잘 예측해낸 것으로 생각됨"
      ],
      "metadata": {
        "id": "PkF0VYk1RprI"
      }
    },
    {
      "cell_type": "markdown",
      "source": [
        "\n",
        "\n",
        "overfitting을 막기 위해 early stopping을 도입해봄"
      ],
      "metadata": {
        "id": "elNWqAjqQoHh"
      }
    },
    {
      "cell_type": "markdown",
      "source": [
        "### Model2. Mnist 모델 + early stopping"
      ],
      "metadata": {
        "id": "OxpvzqwkIvsa"
      }
    },
    {
      "cell_type": "code",
      "source": [
        "from keras.callbacks import EarlyStopping \n",
        "early_stopping = EarlyStopping()"
      ],
      "metadata": {
        "id": "Fq3AF6gfUeNB"
      },
      "execution_count": null,
      "outputs": []
    },
    {
      "cell_type": "code",
      "source": [
        "cnn_model = create_cnn_model()"
      ],
      "metadata": {
        "id": "z3iHI-aMolGZ"
      },
      "execution_count": null,
      "outputs": []
    },
    {
      "cell_type": "code",
      "source": [
        "cnn_model.compile(optimizer='adam', loss = 'mse', metrics = ['mae'])\n",
        "history = cnn_model.fit(x_train, y_train, validation_data = (x_test, y_test), epochs = 30, batch_size = 30, callbacks = [early_stopping])"
      ],
      "metadata": {
        "id": "u9JOzdjLoo_U",
        "colab": {
          "base_uri": "https://localhost:8080/"
        },
        "outputId": "bb353b30-034b-483b-cdc4-7e5b73fd1199"
      },
      "execution_count": null,
      "outputs": [
        {
          "output_type": "stream",
          "name": "stdout",
          "text": [
            "Epoch 1/30\n",
            "629/629 [==============================] - 34s 42ms/step - loss: 0.2188 - mae: 0.2959 - val_loss: 0.1594 - val_mae: 0.3074\n",
            "Epoch 2/30\n",
            "629/629 [==============================] - 26s 41ms/step - loss: 0.1585 - mae: 0.3099 - val_loss: 0.1515 - val_mae: 0.2998\n"
          ]
        }
      ]
    },
    {
      "cell_type": "markdown",
      "source": [
        "학습 에포크가 2번하고 종료"
      ],
      "metadata": {
        "id": "Umc6WnxSQ4VJ"
      }
    },
    {
      "cell_type": "code",
      "source": [
        "import matplotlib.pyplot as plt\n",
        "\n",
        "plt.plot(history.history['mae'], label = 'train_mae')\n",
        "plt.plot(history.history['val_mae'], label = 'val_mae')\n",
        "plt.legend()"
      ],
      "metadata": {
        "colab": {
          "base_uri": "https://localhost:8080/",
          "height": 283
        },
        "id": "lfO_RNGwCViY",
        "outputId": "e5324e21-66ea-4718-c0ba-1c5015c42a82"
      },
      "execution_count": null,
      "outputs": [
        {
          "output_type": "execute_result",
          "data": {
            "text/plain": [
              "<matplotlib.legend.Legend at 0x7f8da0bd1610>"
            ]
          },
          "metadata": {},
          "execution_count": 9
        },
        {
          "output_type": "display_data",
          "data": {
            "text/plain": [
              "<Figure size 432x288 with 1 Axes>"
            ],
            "image/png": "[encoded data removed]"
          },
          "metadata": {
            "needs_background": "light"
          }
        }
      ]
    },
    {
      "cell_type": "code",
      "source": [
        "plt.plot(history.history['loss'], label = 'train_loss')\n",
        "plt.plot(history.history['val_loss'], label = 'val_loss')\n",
        "plt.legend()"
      ],
      "metadata": {
        "colab": {
          "base_uri": "https://localhost:8080/",
          "height": 283
        },
        "id": "GJ0Au47KCX3W",
        "outputId": "c3254fcc-bdf2-43de-e5a3-065138a1bf71"
      },
      "execution_count": null,
      "outputs": [
        {
          "output_type": "execute_result",
          "data": {
            "text/plain": [
              "<matplotlib.legend.Legend at 0x7f8da0068610>"
            ]
          },
          "metadata": {},
          "execution_count": 10
        },
        {
          "output_type": "display_data",
          "data": {
            "text/plain": [
              "<Figure size 432x288 with 1 Axes>"
            ],
            "image/png": "[encoded data removed]"
          },
          "metadata": {
            "needs_background": "light"
          }
        }
      ]
    },
    {
      "cell_type": "markdown",
      "source": [
        "예측해보기"
      ],
      "metadata": {
        "id": "RNyChv4tVFWK"
      }
    },
    {
      "cell_type": "code",
      "source": [
        "val_x = np.expand_dims(x_val[0], axis = 0)"
      ],
      "metadata": {
        "id": "rPQ_Y8W6FdrQ"
      },
      "execution_count": null,
      "outputs": []
    },
    {
      "cell_type": "code",
      "source": [
        "result = cnn_model.predict(val_x)"
      ],
      "metadata": {
        "colab": {
          "base_uri": "https://localhost:8080/"
        },
        "id": "tZ2upObzEjJE",
        "outputId": "ae4d63f4-69ad-4408-ae22-aecae9cc9127"
      },
      "execution_count": null,
      "outputs": [
        {
          "output_type": "stream",
          "name": "stdout",
          "text": [
            "1/1 [==============================] - 0s 148ms/step\n"
          ]
        }
      ]
    },
    {
      "cell_type": "code",
      "source": [
        "print(result)"
      ],
      "metadata": {
        "colab": {
          "base_uri": "https://localhost:8080/"
        },
        "id": "1tdx-OQiF0lk",
        "outputId": "b2ed3315-0446-4239-903a-f2065f4fd830"
      },
      "execution_count": null,
      "outputs": [
        {
          "output_type": "stream",
          "name": "stdout",
          "text": [
            "[[0.14363179 0.822696   0.93416965 0.0069321  0.3507987  0.5323654 ]]\n"
          ]
        }
      ]
    },
    {
      "cell_type": "code",
      "source": [
        "print(y_val[0])"
      ],
      "metadata": {
        "colab": {
          "base_uri": "https://localhost:8080/"
        },
        "id": "UZn3OPhRF3DO",
        "outputId": "d0459b5d-2483-4c51-bada-ff52bef41869"
      },
      "execution_count": null,
      "outputs": [
        {
          "output_type": "stream",
          "name": "stdout",
          "text": [
            "[0 1 1 1 0 0]\n"
          ]
        }
      ]
    },
    {
      "cell_type": "markdown",
      "source": [
        "[ 0.14363179 0.822696   0.93416965 0.0069321  0.3507987  0.5323654 ] \n",
        "\n",
        "-> 14% 82% 93% 0% 35% 53%  vs [0 1 1 1 0 0]"
      ],
      "metadata": {
        "id": "fVgmL-zQRDFL"
      }
    },
    {
      "cell_type": "markdown",
      "source": [
        "early stopping을 하지 않은 모델이 더 높은 적중률을 보임 -> early stopping을 도입하는건 좋지 않은 방법이라 생각됨"
      ],
      "metadata": {
        "id": "iVyoACorMnYT"
      }
    },
    {
      "cell_type": "markdown",
      "source": [
        "### Model3. EfficientNet을 이용한 Fine-tuning"
      ],
      "metadata": {
        "id": "JpjK6SxKI077"
      }
    },
    {
      "cell_type": "code",
      "source": [
        "# 다른 코랩 파일 (Project04.두피_데이터_분석_시스템_2nd)"
      ],
      "metadata": {
        "id": "BVr9BKI9okfn"
      },
      "execution_count": null,
      "outputs": []
    },
    {
      "cell_type": "markdown",
      "source": [
        "### Model4. InceptionV3 를 이용한 Fine-tuning"
      ],
      "metadata": {
        "id": "AFjsvOol1Ey4"
      }
    },
    {
      "cell_type": "markdown",
      "source": [
        "## 4. Meta 데이터 분석"
      ],
      "metadata": {
        "id": "sda3Qcciwk00"
      }
    },
    {
      "cell_type": "code",
      "source": [
        "!mkdir /content/drive/MyDrive/04_Scalp/Meta/meta_data # zip 파일 저장할 디렉토리\n",
        "\n",
        "%cd /content/drive/MyDrive/04_Scalp/Meta/meta_data \n",
        "!unzip -qq '/content/drive/MyDrive/04_Scalp/Meta/META_DATA.zip'"
      ],
      "metadata": {
        "colab": {
          "base_uri": "https://localhost:8080/"
        },
        "id": "9ok8i2uIxKvZ",
        "outputId": "aeb24eab-0e5e-4b8f-918d-534c0bfca9e7"
      },
      "execution_count": null,
      "outputs": [
        {
          "output_type": "stream",
          "name": "stdout",
          "text": [
            "/content/drive/MyDrive/04_Scalp/Meta/meta_data\n"
          ]
        }
      ]
    },
    {
      "cell_type": "code",
      "source": [
        "import glob \n",
        "\n",
        "meta_path = '/content/drive/MyDrive/04_Scalp/Meta/meta_data'\n",
        "meta_path_list = glob.glob(meta_path+'/*')"
      ],
      "metadata": {
        "id": "RxxOUXSO9ERF"
      },
      "execution_count": null,
      "outputs": []
    },
    {
      "cell_type": "code",
      "source": [
        "with open('/content/drive/MyDrive/04_Scalp/Meta/meta_data_list/meta_data_list.txt','w') as f:\n",
        "    for path in meta_path_list:\n",
        "        f.write(path)"
      ],
      "metadata": {
        "colab": {
          "base_uri": "https://localhost:8080/",
          "height": 210
        },
        "id": "EybFCwokBan6",
        "outputId": "4f99d80e-1942-4480-e8aa-637f8dedc297"
      },
      "execution_count": null,
      "outputs": [
        {
          "output_type": "error",
          "ename": "NotADirectoryError",
          "evalue": "ignored",
          "traceback": [
            "\u001b[0;31m---------------------------------------------------------------------------\u001b[0m",
            "\u001b[0;31mNotADirectoryError\u001b[0m                        Traceback (most recent call last)",
            "\u001b[0;32m<ipython-input-10-d517b223cc13>\u001b[0m in \u001b[0;36m<module>\u001b[0;34m\u001b[0m\n\u001b[0;32m----> 1\u001b[0;31m \u001b[0;32mwith\u001b[0m \u001b[0mopen\u001b[0m\u001b[0;34m(\u001b[0m\u001b[0;34m'/content/drive/MyDrive/04_Scalp/Meta/meta_data_list/meta_data_list.txt'\u001b[0m\u001b[0;34m,\u001b[0m\u001b[0;34m'w'\u001b[0m\u001b[0;34m)\u001b[0m \u001b[0;32mas\u001b[0m \u001b[0mf\u001b[0m\u001b[0;34m:\u001b[0m\u001b[0;34m\u001b[0m\u001b[0;34m\u001b[0m\u001b[0m\n\u001b[0m\u001b[1;32m      2\u001b[0m     \u001b[0;32mfor\u001b[0m \u001b[0mpath\u001b[0m \u001b[0;32min\u001b[0m \u001b[0mmeta_path_list\u001b[0m\u001b[0;34m:\u001b[0m\u001b[0;34m\u001b[0m\u001b[0;34m\u001b[0m\u001b[0m\n\u001b[1;32m      3\u001b[0m         \u001b[0mf\u001b[0m\u001b[0;34m.\u001b[0m\u001b[0mwrite\u001b[0m\u001b[0;34m(\u001b[0m\u001b[0mpath\u001b[0m\u001b[0;34m)\u001b[0m\u001b[0;34m\u001b[0m\u001b[0;34m\u001b[0m\u001b[0m\n",
            "\u001b[0;31mNotADirectoryError\u001b[0m: [Errno 20] Not a directory: '/content/drive/MyDrive/04_Scalp/Meta/meta_data_list/meta_data_list.txt'"
          ]
        }
      ]
    },
    {
      "cell_type": "code",
      "source": [
        "print(len(meta_path_list))"
      ],
      "metadata": {
        "colab": {
          "base_uri": "https://localhost:8080/"
        },
        "id": "gI-0Nxn76FiK",
        "outputId": "0776a1b1-80f0-4fc2-a8d8-b63c88ae6a68"
      },
      "execution_count": null,
      "outputs": [
        {
          "output_type": "stream",
          "name": "stdout",
          "text": [
            "101027\n"
          ]
        }
      ]
    },
    {
      "cell_type": "markdown",
      "source": [
        "메타데이터 전부를 이용하기엔 너무 json파일이 많아서 추후에 일부만 이용해서 분석하기"
      ],
      "metadata": {
        "id": "47QVsqbaVTmH"
      }
    },
    {
      "cell_type": "markdown",
      "source": [
        "## 5. 라벨링 데이터 분석 "
      ],
      "metadata": {
        "id": "ekqDdmdsPJac"
      }
    },
    {
      "cell_type": "markdown",
      "source": [
        "각 증상간에 연관성이 있는지 시각화를 통해 파악해보기"
      ],
      "metadata": {
        "id": "4B0yBvpJPMNf"
      }
    },
    {
      "cell_type": "markdown",
      "source": [
        "json 파일을 정리해서 dataframe으로 만들고 .csv로 저장하기"
      ],
      "metadata": {
        "id": "hb4fmC5B3h5E"
      }
    },
    {
      "cell_type": "markdown",
      "source": [
        "+ 라벨링 데이터 압축 해제해서 구글 드라이브에 저장"
      ],
      "metadata": {
        "id": "7T9g54HLAGvF"
      }
    },
    {
      "cell_type": "code",
      "source": [
        "# 압축해제한 파일 저장할 디렉토리\n",
        "\n",
        "!mkdir /content/drive/MyDrive/04_Scalp/label_data"
      ],
      "metadata": {
        "id": "Tzr83ArZ2w6L"
      },
      "execution_count": 1,
      "outputs": []
    },
    {
      "cell_type": "code",
      "source": [
        "# 압축 해제해서 디렉토리에 저장\n",
        "\n",
        "import glob \n",
        "import zipfile \n",
        "\n",
        "path = '/content/drive/MyDrive/04_Scalp/label_zip'\n",
        "path_list = glob.glob(path+'/*')"
      ],
      "metadata": {
        "id": "Q7j6lINz2omz"
      },
      "execution_count": 2,
      "outputs": []
    },
    {
      "cell_type": "code",
      "source": [
        "print(path_list)"
      ],
      "metadata": {
        "colab": {
          "base_uri": "https://localhost:8080/"
        },
        "id": "fKz2XbQI293U",
        "outputId": "83f512fe-a69e-4e54-b712-f8bc8cdaa705"
      },
      "execution_count": 3,
      "outputs": [
        {
          "output_type": "stream",
          "name": "stdout",
          "text": [
            "['/content/drive/MyDrive/04_Scalp/label_zip/[라벨]피지과다_2.중등도.zip', '/content/drive/MyDrive/04_Scalp/label_zip/[라벨]비듬_3.중증.zip', '/content/drive/MyDrive/04_Scalp/label_zip/[라벨]미세각질_2.중등도.zip', '/content/drive/MyDrive/04_Scalp/label_zip/[라벨]모낭사이홍반_3.중증.zip', '/content/drive/MyDrive/04_Scalp/label_zip/[라벨]탈모_2.중등도.zip', '/content/drive/MyDrive/04_Scalp/label_zip/[라벨]탈모_3.중증.zip', '/content/drive/MyDrive/04_Scalp/label_zip/[라벨]비듬_1.경증.zip', '/content/drive/MyDrive/04_Scalp/label_zip/[라벨]피지과다_1.경증.zip', '/content/drive/MyDrive/04_Scalp/label_zip/[라벨]모낭사이홍반_0.양호.zip', '/content/drive/MyDrive/04_Scalp/label_zip/[라벨]미세각질_3.중증.zip', '/content/drive/MyDrive/04_Scalp/label_zip/[라벨]모낭홍반농포_2.중등도.zip', '/content/drive/MyDrive/04_Scalp/label_zip/[라벨]모낭사이홍반_1.경증.zip', '/content/drive/MyDrive/04_Scalp/label_zip/[라벨]모낭사이홍반_2.중등도.zip', '/content/drive/MyDrive/04_Scalp/label_zip/[라벨]미세각질_1.경증.zip', '/content/drive/MyDrive/04_Scalp/label_zip/[라벨]피지과다_3.중증.zip', '/content/drive/MyDrive/04_Scalp/label_zip/[라벨]비듬_2.중등도.zip', '/content/drive/MyDrive/04_Scalp/label_zip/[라벨]모낭홍반농포_1.경증.zip', '/content/drive/MyDrive/04_Scalp/label_zip/[라벨]비듬_0.양호.zip', '/content/drive/MyDrive/04_Scalp/label_zip/[라벨]모낭홍반농포_3.중증.zip', '/content/drive/MyDrive/04_Scalp/label_zip/[라벨]모낭홍반농포_0.양호.zip', '/content/drive/MyDrive/04_Scalp/label_zip/[라벨]탈모_0.양호.zip', '/content/drive/MyDrive/04_Scalp/label_zip/[라벨]미세각질_0.양호.zip', '/content/drive/MyDrive/04_Scalp/label_zip/[라벨]피지과다_0.양호.zip', '/content/drive/MyDrive/04_Scalp/label_zip/[라벨]탈모_1.경증.zip']\n"
          ]
        }
      ]
    },
    {
      "cell_type": "code",
      "source": [
        "for json_path in path_list:\n",
        "  json_zip = zipfile.ZipFile(json_path)\n",
        "  json_zip.extractall('/content/drive/MyDrive/04_Scalp/label_data')\n",
        "  json_zip.close()"
      ],
      "metadata": {
        "id": "AWcQRVz527m5"
      },
      "execution_count": 4,
      "outputs": []
    },
    {
      "cell_type": "code",
      "source": [
        "# json 파일 총 23568개 : 이미지랑 개수 동일\n",
        "\n",
        "import os\n",
        "\n",
        "json_list = os.listdir('/content/drive/MyDrive/04_Scalp/label_data')\n",
        "print(len(json_list))"
      ],
      "metadata": {
        "colab": {
          "base_uri": "https://localhost:8080/"
        },
        "id": "BJRdSgyK3E52",
        "outputId": "507dff17-affe-4e03-a298-23fd60a59755"
      },
      "execution_count": 7,
      "outputs": [
        {
          "output_type": "stream",
          "name": "stdout",
          "text": [
            "23568\n"
          ]
        }
      ]
    },
    {
      "cell_type": "code",
      "source": [
        "json_list.sort()"
      ],
      "metadata": {
        "id": "Yf2fepWB5aUw"
      },
      "execution_count": 9,
      "outputs": []
    },
    {
      "cell_type": "code",
      "source": [
        "print(json_list[:10])"
      ],
      "metadata": {
        "colab": {
          "base_uri": "https://localhost:8080/"
        },
        "id": "NF3_tdrP5Wy3",
        "outputId": "2c1a61b6-63b4-4a31-928f-c1a460d68f0d"
      },
      "execution_count": 10,
      "outputs": [
        {
          "output_type": "stream",
          "name": "stdout",
          "text": [
            "['0013_A2LEBJJDE00060O_1605839548962_2_TH.json', '0013_A2LEBJJDE00060O_1605943763600_3_TH.json', '0013_A2LEBJJDE00060O_1605943787774_2_TH.json', '0013_A2LEBJJDE00060O_1605943787774_6_BH.json', '0013_A2LEBJJDE00060O_1605949144786_2_TH.json', '0013_A2LEBJJDE00060O_1605949144786_6_BH.json', '0013_A2LEBJJDE00060O_1605949385518_2_TH.json', '0013_A2LEBJJDE00060O_1605949385518_6_BH.json', '0013_A2LEBJJDE00060O_1606386139601_2_TH.json', '0013_A2LEBJJDE00060O_1606386139601_3_TH.json']\n"
          ]
        }
      ]
    },
    {
      "cell_type": "markdown",
      "source": [
        "+ 고유한 개인 6580명의 json 파일 한개씩 추출하기"
      ],
      "metadata": {
        "id": "Z3XQ_VsU30Hj"
      }
    },
    {
      "cell_type": "code",
      "source": [
        "json_id_list = []\n",
        "\n",
        "def get_person_id_from_json_name (file_name):\n",
        "  id = file_name[:-9]\n",
        "  json_id_list.append(id)"
      ],
      "metadata": {
        "id": "wnkwn6EL3U8-"
      },
      "execution_count": 16,
      "outputs": []
    },
    {
      "cell_type": "code",
      "source": [
        "for json_name in json_list:\n",
        "  get_person_id_from_json_name(json_name)"
      ],
      "metadata": {
        "id": "Y9kWtUDk5ngU"
      },
      "execution_count": 17,
      "outputs": []
    },
    {
      "cell_type": "code",
      "source": [
        "json_id_set_list = list(set(json_id_list))"
      ],
      "metadata": {
        "id": "XOJqCCUu5qea"
      },
      "execution_count": 18,
      "outputs": []
    },
    {
      "cell_type": "code",
      "source": [
        "json_id_list.sort()"
      ],
      "metadata": {
        "id": "SkZB5N2s6Hcw"
      },
      "execution_count": 19,
      "outputs": []
    },
    {
      "cell_type": "code",
      "source": [
        "print(len(json_id_set_list))"
      ],
      "metadata": {
        "colab": {
          "base_uri": "https://localhost:8080/"
        },
        "id": "itgJ1Tk-5tMd",
        "outputId": "d8352f66-2ea4-443c-9da7-5597c13e843e"
      },
      "execution_count": 20,
      "outputs": [
        {
          "output_type": "stream",
          "name": "stdout",
          "text": [
            "6580\n"
          ]
        }
      ]
    },
    {
      "cell_type": "code",
      "source": [
        "print(json_id_set_list[0])"
      ],
      "metadata": {
        "colab": {
          "base_uri": "https://localhost:8080/"
        },
        "id": "OFAUqsHF5xRE",
        "outputId": "d5a4e8d2-3c0b-467f-a40d-37f85fb09d97"
      },
      "execution_count": 21,
      "outputs": [
        {
          "output_type": "stream",
          "name": "stdout",
          "text": [
            "0715_A2LEBJJDE00175D_1607492696385_\n"
          ]
        }
      ]
    },
    {
      "cell_type": "code",
      "source": [
        "count = 0\n",
        "\n",
        "find_two_json = json_id_set_list.copy()\n",
        "two_exist = []\n",
        "\n",
        "for json_id in json_id_set_list:\n",
        "  name = json_id + '2_TH.json'\n",
        "  if name in json_list:\n",
        "    two_exist.append(name)\n",
        "    find_two_json.remove(json_id)\n",
        "  else:\n",
        "    count += 1"
      ],
      "metadata": {
        "id": "oxQqROcr59O3"
      },
      "execution_count": 25,
      "outputs": []
    },
    {
      "cell_type": "code",
      "source": [
        "print(count)"
      ],
      "metadata": {
        "colab": {
          "base_uri": "https://localhost:8080/"
        },
        "id": "etqZT_1_6rIE",
        "outputId": "cf487ef4-52a9-4c38-ede1-dbcd7ad00598"
      },
      "execution_count": 26,
      "outputs": [
        {
          "output_type": "stream",
          "name": "stdout",
          "text": [
            "1986\n"
          ]
        }
      ]
    },
    {
      "cell_type": "code",
      "source": [
        "print(len(two_exist))"
      ],
      "metadata": {
        "colab": {
          "base_uri": "https://localhost:8080/"
        },
        "id": "GfVUSd6D74QT",
        "outputId": "3423c976-80c9-4e1c-e766-edad5ec2bc71"
      },
      "execution_count": 27,
      "outputs": [
        {
          "output_type": "stream",
          "name": "stdout",
          "text": [
            "4594\n"
          ]
        }
      ]
    },
    {
      "cell_type": "code",
      "source": [
        "print(two_exist[:10])\n",
        "\n",
        "#two_exist: 고유한 개인의 json file 이름 4594개"
      ],
      "metadata": {
        "colab": {
          "base_uri": "https://localhost:8080/"
        },
        "id": "Y9Ue04KB78rH",
        "outputId": "fe524ece-b728-49e9-e27d-112336fe774d"
      },
      "execution_count": 28,
      "outputs": [
        {
          "output_type": "stream",
          "name": "stdout",
          "text": [
            "['0715_A2LEBJJDE00175D_1607492696385_2_TH.json', '3269_A2LEBJJDE00096Y_1608249507669_2_TH.json', '5305_A2LEBJJDE00122T_1606552377204_2_TH.json', '2720_A2LEBJJDE000401_1606455684109_2_TH.json', '5569_A2LEBJJDE001211_1606381715485_2_TH.json', '1981_A2LEBJJDE001493_1606633382957_2_TH.json', '1221_A1LCAIHDH00009X_1607750972382_2_TH.json', '1221_A1LCAIHDH00009X_1608429233627_2_TH.json', '4795_A2LEBJJDE00113S_1606441632292_2_TH.json', '2637_A2LEBJJDE00099D_1606728195064_2_TH.json']\n"
          ]
        }
      ]
    },
    {
      "cell_type": "code",
      "source": [
        "print(len(find_two_json))"
      ],
      "metadata": {
        "colab": {
          "base_uri": "https://localhost:8080/"
        },
        "id": "mDaX-q0Y8Ew-",
        "outputId": "aa4075b5-604b-4fa5-b546-726fc70ddb7f"
      },
      "execution_count": 29,
      "outputs": [
        {
          "output_type": "stream",
          "name": "stdout",
          "text": [
            "1986\n"
          ]
        }
      ]
    },
    {
      "cell_type": "code",
      "source": [
        "count = 0\n",
        "\n",
        "find_three_json = find_two_json.copy()\n",
        "\n",
        "three_exist = []\n",
        "\n",
        "for json_id in find_two_json:\n",
        "  name = json_id + '3_TH.json'\n",
        "  if name in json_list:\n",
        "    three_exist.append(name)\n",
        "    find_three_json.remove(json_id)\n",
        "  else:\n",
        "    count += 1"
      ],
      "metadata": {
        "id": "pUeYfVR98L-c"
      },
      "execution_count": 30,
      "outputs": []
    },
    {
      "cell_type": "code",
      "source": [
        "print(count)"
      ],
      "metadata": {
        "colab": {
          "base_uri": "https://localhost:8080/"
        },
        "id": "ychtUmo38kQG",
        "outputId": "420ffb38-0c4c-4c22-8166-409e96705562"
      },
      "execution_count": 31,
      "outputs": [
        {
          "output_type": "stream",
          "name": "stdout",
          "text": [
            "1117\n"
          ]
        }
      ]
    },
    {
      "cell_type": "code",
      "source": [
        "print(len(three_exist))"
      ],
      "metadata": {
        "colab": {
          "base_uri": "https://localhost:8080/"
        },
        "id": "ekfc2fOv8mtZ",
        "outputId": "5f81e8ef-791b-42e6-b41b-d4e9d44cf17f"
      },
      "execution_count": 32,
      "outputs": [
        {
          "output_type": "stream",
          "name": "stdout",
          "text": [
            "869\n"
          ]
        }
      ]
    },
    {
      "cell_type": "code",
      "source": [
        "print(three_exist[:10])\n",
        "\n",
        "# three_exist : 고유한 개인의 json file 이름 869개"
      ],
      "metadata": {
        "colab": {
          "base_uri": "https://localhost:8080/"
        },
        "id": "X35wbGFt8qUg",
        "outputId": "e38adb5a-5ab1-49b4-f555-4e9c12dfe3dc"
      },
      "execution_count": 33,
      "outputs": [
        {
          "output_type": "stream",
          "name": "stdout",
          "text": [
            "['2688_A2LEBJJDE00115E_1607585844561_3_TH.json', '6440_A2LEBJJDE001352_1606183312175_3_TH.json', '4810_A2LEBJJDE00177Y_1606091225331_3_TH.json', '3085_A2LEBJJDE00128M_1606190739155_3_TH.json', '6078_A2LEBJJDE00160J_1606098339746_3_TH.json', '7366_A2LEBJJDE00088Q_1606990428297_3_TH.json', '3006_A1LCAIHDH00007C_1608347770229_3_TH.json', '0844_A2LEBJJDE00067A_1605863056399_3_TH.json', '0770_A2LEBJJDE000865_1606541360657_3_TH.json', '9202_A2LEBJJDE00082X_1606310691658_3_TH.json']\n"
          ]
        }
      ]
    },
    {
      "cell_type": "code",
      "source": [
        "count = 0\n",
        "\n",
        "find_four_json = find_three_json.copy()\n",
        "\n",
        "four_exist = []\n",
        "\n",
        "for json_id in find_three_json:\n",
        "  name = json_id + '4_LH.json'\n",
        "  if name in json_list:\n",
        "    four_exist.append(name)\n",
        "    find_four_json.remove(json_id)\n",
        "  else:\n",
        "    count += 1"
      ],
      "metadata": {
        "id": "7ou-S2bl80He"
      },
      "execution_count": 34,
      "outputs": []
    },
    {
      "cell_type": "code",
      "source": [
        "print(len(four_exist))"
      ],
      "metadata": {
        "colab": {
          "base_uri": "https://localhost:8080/"
        },
        "id": "WhQ9V1C49Tgf",
        "outputId": "5f618528-45d9-45d5-8c0f-09f9f13fed22"
      },
      "execution_count": 35,
      "outputs": [
        {
          "output_type": "stream",
          "name": "stdout",
          "text": [
            "605\n"
          ]
        }
      ]
    },
    {
      "cell_type": "code",
      "source": [
        "print(four_exist[:10])\n",
        "\n",
        "# four_exist: 고유한 개인의 json file 이름 605개"
      ],
      "metadata": {
        "colab": {
          "base_uri": "https://localhost:8080/"
        },
        "id": "HFau-RnF9c-p",
        "outputId": "23d9f61b-011c-4e79-f33f-9afa0a2f95c2"
      },
      "execution_count": 39,
      "outputs": [
        {
          "output_type": "stream",
          "name": "stdout",
          "text": [
            "['7168_A2LEBJJDE00124F_1606277750797_4_LH.json', '7670_A1LCAIHDH000126_1607659798373_4_LH.json', '4263_A2LEBJJDE00062A_1606613447044_4_LH.json', '7851_A2LEBJJDE00074P_1607091136745_4_LH.json', '9244_A2LEBJJDE00154W_1607590354436_4_LH.json', '1142_A2LEBJJDE00024K_1606730197812_4_LH.json', '1069_A2LEBJJDE00094D_1606458258744_4_LH.json', '5619_A2LEBJJDE00002B_1606040304699_4_LH.json', '1983_A2LEBJJDE00188L_1606101773870_4_LH.json', '6995_A2LEBJJDE00104R_1606787381358_4_LH.json']\n"
          ]
        }
      ]
    },
    {
      "cell_type": "code",
      "source": [
        "print(len(find_four_json))"
      ],
      "metadata": {
        "colab": {
          "base_uri": "https://localhost:8080/"
        },
        "id": "f_jkvrPy9WR0",
        "outputId": "9de5902a-75ed-4174-b8e6-f6cd158e245f"
      },
      "execution_count": 37,
      "outputs": [
        {
          "output_type": "stream",
          "name": "stdout",
          "text": [
            "512\n"
          ]
        }
      ]
    },
    {
      "cell_type": "code",
      "source": [
        "count = 0\n",
        "\n",
        "find_five_json = find_four_json.copy()\n",
        "\n",
        "five_exist = []\n",
        "\n",
        "for json_id in find_four_json:\n",
        "  name = json_id + '5_RH.json'\n",
        "  if name in json_list:\n",
        "    five_exist.append(name)\n",
        "    find_five_json.remove(json_id)\n",
        "  else:\n",
        "    count += 1"
      ],
      "metadata": {
        "id": "qhi0RotM9o5f"
      },
      "execution_count": 40,
      "outputs": []
    },
    {
      "cell_type": "code",
      "source": [
        "print(len(five_exist))\n",
        "\n",
        "# five_exist: 고유한 개인의 json file 이름 302개"
      ],
      "metadata": {
        "colab": {
          "base_uri": "https://localhost:8080/"
        },
        "id": "gFpacI1M9117",
        "outputId": "7dc66054-956e-4934-fbb8-27966c265a14"
      },
      "execution_count": 41,
      "outputs": [
        {
          "output_type": "stream",
          "name": "stdout",
          "text": [
            "302\n"
          ]
        }
      ]
    },
    {
      "cell_type": "code",
      "source": [
        "print(five_exist[:10])"
      ],
      "metadata": {
        "colab": {
          "base_uri": "https://localhost:8080/"
        },
        "id": "44pZ4eTx94wc",
        "outputId": "92e6b55e-ce0b-4914-b776-8828b9714d57"
      },
      "execution_count": 42,
      "outputs": [
        {
          "output_type": "stream",
          "name": "stdout",
          "text": [
            "['5438_A2LEBJJDE00159W_1606266389394_5_RH.json', '2326_A2LEBJJDE001998_1609668111407_5_RH.json', '3275_A2LEBJJDE001766_1605949229215_5_RH.json', '9578_A2LEBJJDE00105K_1605946040904_5_RH.json', '3085_A2LEBJJDE00128M_1606033474941_5_RH.json', '0643_A2LEBJJDE00048F_1606632704103_5_RH.json', '1407_A2LEBJJDE001258_1605948290606_5_RH.json', '2602_A1LCAIHDH00013Y_1609579597726_5_RH.json', '8802_A2LEBJJDE00174K_1608699607350_5_RH.json', '1237_A2LEBJJDE001584_1606114699100_5_RH.json']\n"
          ]
        }
      ]
    },
    {
      "cell_type": "code",
      "source": [
        "count = 0\n",
        "\n",
        "find_six_json = find_five_json.copy()\n",
        "\n",
        "six_exist = []\n",
        "\n",
        "for json_id in find_five_json:\n",
        "  name = json_id + '6_BH.json'\n",
        "  if name in json_list:\n",
        "    six_exist.append(name)\n",
        "    find_six_json.remove(json_id)\n",
        "  else:\n",
        "    count += 1"
      ],
      "metadata": {
        "id": "Kyu2eGpR-Ay0"
      },
      "execution_count": 43,
      "outputs": []
    },
    {
      "cell_type": "code",
      "source": [
        "print(len(find_six_json))"
      ],
      "metadata": {
        "colab": {
          "base_uri": "https://localhost:8080/"
        },
        "id": "CPekh_SD-Mfi",
        "outputId": "3b0e5a39-2a59-4ce1-deb9-dc5e4d207a46"
      },
      "execution_count": 44,
      "outputs": [
        {
          "output_type": "stream",
          "name": "stdout",
          "text": [
            "0\n"
          ]
        }
      ]
    },
    {
      "cell_type": "code",
      "source": [
        "print(len(six_exist))\n",
        "\n",
        "# six_exist: 고유한 개인의 json file 이름 210개"
      ],
      "metadata": {
        "colab": {
          "base_uri": "https://localhost:8080/"
        },
        "id": "PIjUIsbH-Pgc",
        "outputId": "2023b7a6-81f2-4bcb-a9eb-ae6f4ae87123"
      },
      "execution_count": 45,
      "outputs": [
        {
          "output_type": "stream",
          "name": "stdout",
          "text": [
            "210\n"
          ]
        }
      ]
    },
    {
      "cell_type": "code",
      "source": [
        "# two_exist: 고유한 개인의 json file 이름 4594개\n",
        "# three_exist : 고유한 개인의 json file 이름 869개\n",
        "# four_exist: 고유한 개인의 json file 이름 605개\n",
        "# five_exist: 고유한 개인의 json file 이름 302개\n",
        "# six_exist: 고유한 개인의 json file 이름 210개\n",
        "# 총 6580개 "
      ],
      "metadata": {
        "id": "oqM4gSEK-Xg3"
      },
      "execution_count": null,
      "outputs": []
    },
    {
      "cell_type": "code",
      "source": [
        "print(two_exist)"
      ],
      "metadata": {
        "colab": {
          "base_uri": "https://localhost:8080/"
        },
        "id": "ykmqvj__-uGa",
        "outputId": "635c1da2-86d2-416c-a421-108ccef81310"
      },
      "execution_count": 46,
      "outputs": [
        {
          "output_type": "stream",
          "name": "stdout",
          "text": [
            "['0715_A2LEBJJDE00175D_1607492696385_2_TH.json', '3269_A2LEBJJDE00096Y_1608249507669_2_TH.json', '5305_A2LEBJJDE00122T_1606552377204_2_TH.json', '2720_A2LEBJJDE000401_1606455684109_2_TH.json', '5569_A2LEBJJDE001211_1606381715485_2_TH.json', '1981_A2LEBJJDE001493_1606633382957_2_TH.json', '1221_A1LCAIHDH00009X_1607750972382_2_TH.json', '1221_A1LCAIHDH00009X_1608429233627_2_TH.json', '4795_A2LEBJJDE00113S_1606441632292_2_TH.json', '2637_A2LEBJJDE00099D_1606728195064_2_TH.json', '3977_A2LCBJCAC000073_1607325669500_2_TH.json', '2762_A2LEBJJDE000498_1606465144496_2_TH.json', '1195_A2LEBJJDE00197M_1606803458878_2_TH.json', '3216_A1LCAIHDH00006J_1608350265926_2_TH.json', '0617_A2LEBJJDE000815_1606214032662_2_TH.json', '6570_A2LEBJJDE001675_1607392421213_2_TH.json', '6570_A2LEBJJDE001675_1607828793403_2_TH.json', '7978_A2LEBJJDE00071B_1606545187822_2_TH.json', '9244_A2LEBJJDE00154W_1607590572671_2_TH.json', '4307_A2LEBJJDE000683_1606733880262_2_TH.json', '2278_A2LEBJJDE00181Z_1606655505213_2_TH.json', '5619_A2LEBJJDE00002B_1606444578477_2_TH.json', '7851_A2LEBJJDE00074P_1606658118720_2_TH.json', '2996_A2LEBJJDE00083Q_1605946689059_2_TH.json', '3977_A2LCBJCAC000073_1608001322869_2_TH.json', '5415_A2LEBJJDE00027Y_1606295718852_2_TH.json', '7978_A2LEBJJDE00071B_1606729287625_2_TH.json', '8896_A2LEBJJDE001807_1606456574941_2_TH.json', '9338_A2LEBJJDE00101D_1606556015019_2_TH.json', '4478_A2LEBJJDE00052G_1606210259355_2_TH.json', '9527_A2LEBJJDE00110E_1606550486964_2_TH.json', '2326_A2LEBJJDE00037S_1607767840217_2_TH.json', '3977_A2LEBJJDE00161C_1606370569264_2_TH.json', '5030_A2LEBJJDE00182S_1606174656193_2_TH.json', '4795_A2LEBJJDE00113S_1607652862279_2_TH.json', '8781_A2LEBJJDE000906_541532635_2_TH.json', '0715_A2LEBJJDE00175D_1607483171676_2_TH.json', '3977_A2LCBJCAC000073_1607311798336_2_TH.json', '1145_A2LEBJJDE00119L_1606790058215_2_TH.json', '8606_A2LEBJJDE00155P_1606460829886_2_TH.json', '1221_A1LCAIHDH00009X_1607651853054_2_TH.json', '1983_A2LEBJJDE00188L_1606370302374_2_TH.json', '4717_A2LEBJJDE001208_1606208219878_2_TH.json', '9244_A2LEBJJDE00154W_1607590387532_2_TH.json', '0425_A2LEBJJDE00079P_1606739046034_2_TH.json', '6367_A2LEBJJDE00038L_1606615751064_2_TH.json', '1221_A1LCAIHDH00009X_1608370089322_2_TH.json', '4795_A2LEBJJDE00113S_1606984904328_2_TH.json', '7229_A2LEBJJDE00142H_1606546200540_2_TH.json', '7168_A2LEBJJDE00124F_1606212498917_2_TH.json', '4795_A2LEBJJDE00113S_1606362165911_2_TH.json', '9578_A2LEBJJDE00105K_1607237846230_2_TH.json', '8999_A2LEBJJDE00001I_1606036222990_2_TH.json', '5415_A2LEBJJDE00032S_1606539315659_2_TH.json', '0013_A2LEBJJDE00060O_1606551062717_2_TH.json', '9447_A2LEBJJDE001951_1606209105327_2_TH.json', '3006_A1LCAIHDH00007C_1607764986547_2_TH.json', '9338_A2LEBJJDE00101D_1606629350621_2_TH.json', '7126_A2LEBJJDE001534_1606453154422_2_TH.json', '1069_A2LEBJJDE00094D_1607228112932_2_TH.json', '4795_A2LEBJJDE00113S_1606280382538_2_TH.json', '9578_A2LEBJJDE00105K_1608453785385_2_TH.json', '6570_A2LEBJJDE001675_1607316533799_2_TH.json', '5009_A1LCAIHDH00020E_1608944251126_2_TH.json', '1237_A2LEBJJDE001584_1606114982632_2_TH.json', '4307_A2LEBJJDE000683_1606733817306_2_TH.json', '3977_A2LCBJCAC000073_1608001208755_2_TH.json', '4263_A2LEBJJDE00062A_1606547245652_2_TH.json', '0770_A2LEBJJDE000865_1607510483842_2_TH.json', '3977_A2LCBJCAC000073_1607311504190_2_TH.json', '4970_A1LCAIHDH00010K_1608364427599_2_TH.json', '1221_A1LCAIHDH00009X_1608429273888_2_TH.json', '8606_A2LEBJJDE00155P_1606461200500_2_TH.json', '5415_A2LEBJJDE00027Y_1606613839976_2_TH.json', '2800_A2LEBJJDE00036Z_1606458213550_2_TH.json', '6775_A2LEBJJDE00022Y_1607653795216_2_TH.json', '9447_A2LEBJJDE001951_1606208938240_2_TH.json', '2326_A2LEBJJDE00037S_1606030315688_2_TH.json', '7698_A2LEBJJDE00165J_1607675130914_2_TH.json', '5438_A2LEBJJDE00159W_1606267422758_2_TH.json', '8606_A2LEBJJDE00155P_1606460805911_2_TH.json', '9527_A2LEBJJDE00110E_1607237975924_2_TH.json', '0643_A2LEBJJDE00048F_1606711410681_2_TH.json', '8802_A2LEBJJDE00174K_1606867080463_2_TH.json', '2278_A2LEBJJDE00181Z_1606653362860_2_TH.json', '9578_A2LEBJJDE00105K_1606385220042_2_TH.json', '3046_A2LEBJJDE00089J_1606120937039_2_TH.json', '2278_A2LEBJJDE00181Z_1606653950589_2_TH.json', '3216_A1LCAIHDH00006J_1607661800866_2_TH.json', '9578_A2LEBJJDE00105K_1606383684299_2_TH.json', '5030_A2LEBJJDE00186Z_1606740333929_2_TH.json', '4263_A2LEBJJDE00062A_1606632779547_2_TH.json', '9244_A2LEBJJDE00154W_1606130261740_2_TH.json', '4370_A1LCAIHDH00005Q_1607760266852_2_TH.json', '9414_A2LEBJJDE00033L_1606733444568_2_TH.json', '5438_A2LEBJJDE00159W_1606266173857_2_TH.json', '8802_A2LEBJJDE00174K_1608700779897_2_TH.json', '1221_A1LCAIHDH00009X_1608968374164_2_TH.json', '1221_A1LCAIHDH00009X_1607844390554_2_TH.json', '2326_A2LEBJJDE001998_1607592801303_2_TH.json', '4795_A2LEBJJDE00113S_1607653410798_2_TH.json', '9244_A2LEBJJDE00154W_1606130097082_2_TH.json', '2720_A2LEBJJDE000401_1606386754052_2_TH.json', '3263_A1LCAIHDH00014R_1607734004742_2_TH.json', '9527_A2LEBJJDE00110E_1606396968134_2_TH.json', '8802_A2LEBJJDE00174K_1608703207403_2_TH.json', '1142_A2LEBJJDE00024K_1606459104093_2_TH.json', '0643_A2LEBJJDE00048F_1607140759189_2_TH.json', '3339_A2LEBJJDE00057G_1605796364604_2_TH.json', '5415_A2LEBJJDE00032S_1606558038158_2_TH.json', '8781_A2LEBJJDE000906_1608100762927_2_TH.json', '9578_A2LEBJJDE00105K_1607565881586_2_TH.json', '1963_A2LCBJCAC00003V_1608164049333_2_TH.json', '4370_A1LCAIHDH00005Q_1607828027320_2_TH.json', '4478_A2LEBJJDE00052G_1606464907951_2_TH.json', '5030_A2LEBJJDE00186Z_1606739362478_2_TH.json', '1459_A2LEBJJDE00025D_1606104476996_2_TH.json', '2959_A2LEBJJDE00097R_1607066130708_2_TH.json', '4810_A2LEBJJDE00177Y_1607586459456_2_TH.json', '3977_A2LEBJJDE00039E_1606217047524_2_TH.json', '6729_A2LEBJJDE00028R_1606207511191_2_TH.json', '4162_A2LEBJJDE00013X_1607649911779_2_TH.json', '6570_A2LEBJJDE001675_1607402353681_2_TH.json', '9887_A2LEBJJDE00066H_1605943853022_2_TH.json', '1069_A2LEBJJDE00094D_1608092445655_2_TH.json', '3006_A1LCAIHDH00007C_1608341903759_2_TH.json', '1963_A2LCBJCAC00003V_1607406989128_2_TH.json', '0770_A2LEBJJDE000865_1607591649777_2_TH.json', '1983_A2LEBJJDE00188L_1606370198330_2_TH.json', '4307_A2LEBJJDE000683_1606733793652_2_TH.json', '7851_A2LEBJJDE00074P_1607135932212_2_TH.json', '8297_A2LEBJJDE001076_1607596499297_2_TH.json', '2326_A2LEBJJDE00056N_1607240400234_2_TH.json', '5030_A2LEBJJDE00186Z_1606293363197_2_TH.json', '3216_A1LCAIHDH00006J_1608451235652_2_TH.json', '3006_A1LCAIHDH00007C_1608199420312_2_TH.json', '1237_A2LEBJJDE001584_1606114723182_2_TH.json', '7670_A1LCAIHDH000126_1607659491397_2_TH.json', '0643_A2LEBJJDE00048F_1606711325468_2_TH.json', '3677_A2LEBJJDE00087X_1606546308593_2_TH.json', '6440_A2LEBJJDE001352_1606205327609_2_TH.json', '7851_A2LEBJJDE00074P_1608360051752_2_TH.json', '6570_A2LEBJJDE001675_1607392039765_2_TH.json', '3269_A2LEBJJDE00096Y_1608085352428_2_TH.json', '0663_A2LEBJJDE001716_1606371767822_2_TH.json', '7698_A2LEBJJDE00165J_1606609140520_2_TH.json', '5415_A2LEBJJDE00032S_1606726088225_2_TH.json', '6570_A2LEBJJDE001675_1607832022714_2_TH.json', '3006_A1LCAIHDH00007C_1607570379639_2_TH.json', '4970_A1LCAIHDH00010K_1608187385001_2_TH.json', '5438_A2LEBJJDE00159W_1606266537523_2_TH.json', '4717_A2LEBJJDE001208_1606030879660_2_TH.json', '5849_A2LEBJJDE00015J_1606026712342_2_TH.json', '9527_A2LEBJJDE00110E_1607751679714_2_TH.json', '4307_A2LEBJJDE000683_1606733165437_2_TH.json', '7366_A2LEBJJDE00088Q_1607648310336_2_TH.json', '3755_A2LEBJJDE001857_1608270241079_2_TH.json', '9643_A2LEBJJDE00061H_1605856139914_2_TH.json', '1221_A1LCAIHDH00009X_1607650962646_2_TH.json', '9578_A2LEBJJDE00105K_1608535124757_2_TH.json', '7851_A2LEBJJDE00074P_1606658070864_2_TH.json', '7418_A2LEBJJDE00080C_1606702779107_2_TH.json', '4970_A1LCAIHDH00010K_1608187649303_2_TH.json', '7978_A2LEBJJDE00071B_1606619875193_2_TH.json', '5619_A2LEBJJDE00002B_1606353826338_2_TH.json', '3332_A2LEBJJDE00100K_1606630496584_2_TH.json', '8224_A2LEBJJDE000448_1605942679399_2_TH.json', '3085_A2LEBJJDE00128M_1606203105544_2_TH.json', '8802_A2LEBJJDE00174K_1608699665564_2_TH.json', '9202_A2LEBJJDE00082X_1606138013493_2_TH.json', '4307_A2LEBJJDE000683_1606733733673_2_TH.json', '7418_A2LEBJJDE00080C_1606703262241_2_TH.json', '2996_A2LEBJJDE00083Q_1606616319188_2_TH.json', '7978_A2LEBJJDE00071B_1606728948115_2_TH.json', '8802_A2LEBJJDE00174K_1606867006003_2_TH.json', '6570_A2LEBJJDE001675_1607319129067_2_TH.json', '3977_A2LCBJCAC000073_1607311874487_2_TH.json', '7670_A1LCAIHDH000126_1607735702125_2_TH.json', '5009_A1LCAIHDH00020E_1608268886004_2_TH.json', '8802_A2LEBJJDE00174K_1606867143654_2_TH.json', '1963_A2LCBJCAC00003V_1607403913418_2_TH.json', '5619_A2LEBJJDE00002B_1606356590121_2_TH.json', '5619_A2LEBJJDE00002B_1606721298076_2_TH.json', '4263_A2LEBJJDE00062A_1606448003625_2_TH.json', '3263_A1LCAIHDH00014R_1608370261355_2_TH.json', '8212_A2LEBJJDE00070I_1606742562660_2_TH.json', '8606_A2LEBJJDE00155P_1606461415477_2_TH.json', '9527_A2LEBJJDE00110E_1606023170097_2_TH.json', '3263_A1LCAIHDH00014R_1607830910103_2_TH.json', '2585_A2LEBJJDE001302_1607055642297_2_TH.json', '2278_A2LEBJJDE00181Z_1606656010066_2_TH.json', '4478_A2LEBJJDE00052G_1606910996747_2_TH.json', '9244_A2LEBJJDE00154W_1606788653280_2_TH.json', '3677_A2LEBJJDE00087X_1606019482570_2_TH.json', '5415_A2LEBJJDE00027Y_1606297219810_2_TH.json', '8802_A2LEBJJDE00174K_1608706379558_2_TH.json', '9244_A2LEBJJDE00154W_1607590878079_2_TH.json', '4263_A2LEBJJDE00062A_1606533847678_2_TH.json', '3977_A2LCBJCAC000073_1607325698230_2_TH.json', '1983_A2LEBJJDE00188L_1606442151346_2_TH.json', '3977_A2LCBJCAC000073_1608010168356_2_TH.json', '5214_A2LEBJJDE001399_1607590675332_2_TH.json', '0643_A2LEBJJDE00048F_1606899452117_2_TH.json', '3263_A1LCAIHDH00014R_1608181212650_2_TH.json', '3269_A2LEBJJDE00096Y_1608089637317_2_TH.json', '4133_A1LCAIHDH000035_1607677160415_2_TH.json', '4970_A1LCAIHDH00010K_1608090607468_2_TH.json', '1069_A2LEBJJDE00094D_1607581574150_2_TH.json', '1221_A1LCAIHDH00009X_1608343459169_2_TH.json', '0617_A2LEBJJDE000815_1606535911412_2_TH.json', '4810_A2LEBJJDE00177Y_1606384556060_2_TH.json', '0643_A2LEBJJDE00048F_1606711241632_2_TH.json', '3977_A2LEBJJDE00161C_1606442063074_2_TH.json', '4307_A2LEBJJDE000683_1606655902832_2_TH.json', '6995_A2LEBJJDE00104R_1606446208489_2_TH.json', '5438_A2LEBJJDE00159W_1606266948695_2_TH.json', '9202_A2LEBJJDE00082X_1606383730132_2_TH.json', '5619_A2LEBJJDE00002B_1606016923601_2_TH.json', '8802_A2LEBJJDE00174K_1608698775412_2_TH.json', '4370_A1LCAIHDH00005Q_1607827432476_2_TH.json', '3006_A1LCAIHDH00007C_1608371120419_2_TH.json', '5415_A2LEBJJDE00027Y_1606297132006_2_TH.json', '7126_A2LEBJJDE001534_1607922861564_2_TH.json', '4717_A2LEBJJDE001208_1606023754114_2_TH.json', '6367_A2LEBJJDE00038L_1606613083206_2_TH.json', '4795_A2LEBJJDE00113S_1607231875840_2_TH.json', '3046_A2LEBJJDE00089J_1606529783775_2_TH.json', '0425_A2LEBJJDE00079P_1606739411112_2_TH.json', '7418_A2LEBJJDE000724_1606023409533_2_TH.json', '7670_A1LCAIHDH000126_1608011893029_2_TH.json', '4267_A1LCAIHDH00016D_1608966150222_2_TH.json', '4263_A2LEBJJDE00062A_1606123757202_2_TH.json', '7851_A2LEBJJDE00074P_1606622288989_2_TH.json', '8781_A2LEBJJDE000906_1606029105080_2_TH.json', '2326_A2LEBJJDE001998_1608364560192_2_TH.json', '4810_A2LEBJJDE00177Y_1607588649572_2_TH.json', '3755_A2LEBJJDE001857_1608269932840_2_TH.json', '8802_A2LEBJJDE00174K_1608699341970_2_TH.json', '9338_A2LEBJJDE00101D_1606741493304_2_TH.json', '6775_A2LEBJJDE00022Y_1607664736132_2_TH.json', '4795_A2LEBJJDE00113S_1606733681964_2_TH.json', '9338_A2LEBJJDE00101D_1606539754551_2_TH.json', '4002_A2LEBJJDE00137N_1606181773121_2_TH.json', '8297_A2LEBJJDE001076_1606879290782_2_TH.json', '0643_A2LEBJJDE00048F_1606713761766_2_TH.json', '6570_A2LEBJJDE001675_1607773002297_2_TH.json', '0617_A2LEBJJDE000815_1606618240347_2_TH.json', '3977_A2LEBJJDE00039E_1606216774611_2_TH.json', '4263_A2LEBJJDE00062A_1606200867626_2_TH.json', '1963_A2LCBJCAC00003V_1607402991378_2_TH.json', '5849_A2LEBJJDE00015J_1606023704504_2_TH.json', '7978_A2LEBJJDE00071B_1606728443737_2_TH.json', '2585_A2LEBJJDE001302_1606712481239_2_TH.json', '8802_A2LEBJJDE00174K_1606867247175_2_TH.json', '2326_A2LEBJJDE001998_1606294485484_2_TH.json', '9414_A2LEBJJDE00033L_1606546998818_2_TH.json', '8297_A2LEBJJDE001076_1608011376433_2_TH.json', '6570_A2LEBJJDE001675_1607847988313_2_TH.json', '2996_A2LEBJJDE00083Q_1606275218160_2_TH.json', '3006_A1LCAIHDH00007C_1607741017094_2_TH.json', '5415_A2LEBJJDE00027Y_1606621160688_2_TH.json', '1221_A1LCAIHDH00009X_1607751191710_2_TH.json', '5619_A2LEBJJDE00002B_1606727284540_2_TH.json', '6440_A2LEBJJDE001352_1608257385020_2_TH.json', '6818_A2LEBJJDE00170D_1606612468163_2_TH.json', '5415_A2LEBJJDE00032S_1606730116379_2_TH.json', '9316_A2LEBJJDE00034E_1606210323832_2_TH.json', '9527_A2LEBJJDE00110E_1607148202934_2_TH.json', '0770_A2LEBJJDE000865_1606294590102_2_TH.json', '2469_A2LEBJJDE00019Q_1606268834687_2_TH.json', '0715_A2LEBJJDE00175D_1607495207485_2_TH.json', '4557_A2LEBJJDE00043F_1606196942963_2_TH.json', '4162_A2LEBJJDE00013X_1607652548231_2_TH.json', '3977_A2LCBJCAC000073_1608010332522_2_TH.json', '8366_A2LEBJJDE00039E_1606216614361_2_TH.json', '8802_A2LEBJJDE00174K_1608700714111_2_TH.json', '4970_A1LCAIHDH00010K_1607741489731_2_TH.json', '8606_A2LEBJJDE00155P_1606460506070_2_TH.json', '2326_A2LEBJJDE00037S_1606446359403_2_TH.json', '8212_A2LEBJJDE00070I_1606706873175_2_TH.json', '9447_A2LEBJJDE001951_1606209012564_2_TH.json', '1069_A2LEBJJDE00094D_1606717017580_2_TH.json', '9527_A2LEBJJDE00110E_1606714668910_2_TH.json', '6078_A2LEBJJDE00093K_1606526119835_2_TH.json', '4795_A2LEBJJDE00113S_1606198071240_2_TH.json', '2720_A2LEBJJDE000401_1606638079269_2_TH.json', '0663_A2LEBJJDE001716_1606285638533_2_TH.json', '1195_A2LEBJJDE00197M_1606803714478_2_TH.json', '5415_A2LEBJJDE00027Y_1606725245096_2_TH.json', '6437_A1LCAIHDH00019R_1607653213122_2_TH.json', '8606_A2LEBJJDE00155P_1606461268308_2_TH.json', '3006_A1LCAIHDH00007C_1608455958885_2_TH.json', '0733_A2LEBJJDE000084_1606272399237_2_TH.json', '2996_A2LEBJJDE00083Q_1606286801579_2_TH.json', '8102_A2LEBJJDE000633_1605944532391_2_TH.json', '3216_A1LCAIHDH00006J_1609226046223_2_TH.json', '5569_A2LEBJJDE001211_1606446485493_2_TH.json', '9578_A2LEBJJDE00105K_1606892462422_2_TH.json', '7978_A2LEBJJDE00071B_1606620148266_2_TH.json', '6818_A2LEBJJDE00170D_1606526662572_2_TH.json', '7418_A2LEBJJDE000724_1606042766090_2_TH.json', '6437_A1LCAIHDH00019R_1607650685169_2_TH.json', '3977_A2LEBJJDE00161C_1606370975639_2_TH.json', '9527_A2LEBJJDE00110E_1606561801061_2_TH.json', '3275_A2LEBJJDE001766_1606531227463_2_TH.json', '6121_A2LEBJJDE00183L_1606226329002_2_TH.json', '6367_A2LEBJJDE00038L_1606613228704_2_TH.json', '2996_A2LEBJJDE00083Q_1606274723738_2_TH.json', '0770_A2LEBJJDE000865_1606977236015_2_TH.json', '5619_A2LEBJJDE00002B_1605867872433_2_TH.json', '5009_A1LCAIHDH00020E_1608946047805_2_TH.json', '3065_A2LEBJJDE00103Y_1607857118859_2_TH.json', '7366_A2LEBJJDE00088Q_1607648828201_2_TH.json', '0663_A2LEBJJDE001716_1606365625557_2_TH.json', '5415_A2LEBJJDE00027Y_1606560444652_2_TH.json', '5030_A2LEBJJDE00182S_1606888110453_2_TH.json', '1963_A2LCBJCAC00003V_1607391188960_2_TH.json', '7418_A2LEBJJDE00080C_1606214208888_2_TH.json', '2688_A2LEBJJDE00115E_1606476301023_2_TH.json', '2800_A2LEBJJDE00036Z_1606541290239_2_TH.json', '8297_A2LEBJJDE001076_1607613115808_2_TH.json', '3006_A1LCAIHDH00007C_1607661618039_2_TH.json', '3263_A1LCAIHDH00014R_1607830446309_2_TH.json', '1407_A2LEBJJDE001258_1606212821107_2_TH.json', '8606_A2LEBJJDE00155P_1606460413128_2_TH.json', '9244_A2LEBJJDE00154W_1607590237779_2_TH.json', '4370_A1LCAIHDH00005Q_1608187186513_2_TH.json', '7670_A1LCAIHDH000126_1607668990348_2_TH.json', '6367_A2LEBJJDE00038L_1606616116617_2_TH.json', '8833_A2LEBJJDE00156I_1606015286101_2_TH.json', '9905_A2LEBJJDE00042M_1606541098293_2_TH.json', '3339_A2LEBJJDE00057G_1605690403621_2_TH.json', '1221_A1LCAIHDH00009X_1607747647881_2_TH.json', '3006_A1LCAIHDH00007C_1607734923139_2_TH.json', '4795_A2LEBJJDE00113S_1607653713123_2_TH.json', '3269_A2LEBJJDE00096Y_1607925816639_2_TH.json', '3085_A2LEBJJDE00128M_1606203531327_2_TH.json', '4370_A1LCAIHDH00005Q_1607932662149_2_TH.json', '6367_A2LEBJJDE00038L_1606026646125_2_TH.json', '4478_A2LEBJJDE00052G_1606458739550_2_TH.json', '7698_A2LEBJJDE00165J_1606280547352_2_TH.json', '3755_A2LEBJJDE001857_1608270375981_2_TH.json', '2326_A2LEBJJDE00037S_1606354157235_2_TH.json', '9414_A2LEBJJDE00033L_1607063876934_2_TH.json', '5030_A2LEBJJDE00186Z_1606293117100_2_TH.json', '4070_A2LEBJJDE000266_1606619921345_2_TH.json', '9887_A2LEBJJDE00066H_1605944041514_2_TH.json', '4970_A1LCAIHDH00010K_1607739564262_2_TH.json', '4970_A1LCAIHDH00010K_1608098141975_2_TH.json', '1221_A1LCAIHDH00009X_1608429160217_2_TH.json', '9316_A2LEBJJDE00034E_1606526130223_2_TH.json', '9578_A2LEBJJDE00105K_1608523444670_2_TH.json', '1069_A2LEBJJDE00094D_1607852485108_2_TH.json', '2983_A2LEBJJDE001261_1606725795325_2_TH.json', '3977_A2LCBJCAC000073_1608001278663_2_TH.json', '7851_A2LEBJJDE00074P_1606305432401_2_TH.json', '4478_A2LEBJJDE00052G_1606349426585_2_TH.json', '8896_A2LEBJJDE001807_1606456537479_2_TH.json', '4015_A2LEBJJDE00150P_1606699865510_2_TH.json', '4263_A2LEBJJDE00062A_1606530397653_2_TH.json', '6570_A2LEBJJDE001675_1607773086941_2_TH.json', '2326_A2LEBJJDE00056N_1608091754830_2_TH.json', '4162_A2LEBJJDE00013X_1607652360054_2_TH.json', '1069_A2LEBJJDE00094D_1607242741157_2_TH.json', '3755_A2LEBJJDE001857_1608270792347_2_TH.json', '8606_A2LEBJJDE00155P_1606460610607_2_TH.json', '2032_A2LEBJJDE00152B_1606625641285_2_TH.json', '3977_A2LCBJCAC000073_1607325971238_2_TH.json', '6570_A2LEBJJDE001675_1607830657797_2_TH.json', '4795_A2LEBJJDE00113S_1606741443506_2_TH.json', '9447_A2LEBJJDE001951_1606304517283_2_TH.json', '4263_A2LEBJJDE00062A_1606628672072_2_TH.json', '3216_A1LCAIHDH00006J_1607768899577_2_TH.json', '2278_A2LEBJJDE00181Z_1606653127989_2_TH.json', '4263_A2LEBJJDE00062A_1606477585937_2_TH.json', '5438_A2LEBJJDE00159W_1606266684636_2_TH.json', '4002_A2LEBJJDE00137N_1606303141386_2_TH.json', '1963_A2LCBJCAC00003V_1608164351503_2_TH.json', '6570_A2LEBJJDE001675_1607772936843_2_TH.json', '4263_A2LEBJJDE00062A_1606727389159_2_TH.json', '4370_A1LCAIHDH00005Q_1608186937747_2_TH.json', '4970_A1LCAIHDH00010K_1608097721741_2_TH.json', '3216_A1LCAIHDH00006J_1607661910857_2_TH.json', '7851_A2LEBJJDE00074P_1607174594695_2_TH.json', '8896_A2LEBJJDE001807_1606456549810_2_TH.json', '9244_A2LEBJJDE00154W_1607590309109_2_TH.json', '3977_A2LEBJJDE00161C_1606370936458_2_TH.json', '2326_A2LEBJJDE001998_1608537329020_2_TH.json', '8297_A2LEBJJDE001076_1607510159331_2_TH.json', '3365_A2LEBJJDE00106D_1606273345489_2_TH.json', '5415_A2LEBJJDE00032S_1606525808450_2_TH.json', '3006_A1LCAIHDH00007C_1607759444980_2_TH.json', '9414_A2LEBJJDE00033L_1605951754760_2_TH.json', '7701_A1LCAIHDH000085_1608266948731_2_TH.json', '4970_A1LCAIHDH00010K_1608627384575_2_TH.json', '5438_A2LEBJJDE00159W_1606267618508_2_TH.json', '6570_A2LEBJJDE001675_1607852477223_2_TH.json', '9578_A2LEBJJDE00105K_1608346630042_2_TH.json', '3065_A2LEBJJDE00103Y_1607835383720_2_TH.json', '5030_A2LEBJJDE00186Z_1606740978372_2_TH.json', '4370_A1LCAIHDH00005Q_1607846893010_2_TH.json', '5415_A2LEBJJDE00032S_1606629296918_2_TH.json', '3006_A1LCAIHDH00007C_1608007869503_2_TH.json', '2585_A2LEBJJDE001302_1607058026257_2_TH.json', '8337_A2LEBJJDE00109R_1605945553753_2_TH.json', '9414_A2LEBJJDE00033L_1606458623496_2_TH.json', '6570_A2LEBJJDE001675_1607408363806_2_TH.json', '0770_A2LEBJJDE000865_1607507838495_2_TH.json', '1069_A2LEBJJDE00094D_1607758290688_2_TH.json', '9874_A2LEBJJDE00123M_1607052684408_2_TH.json', '0013_A2LEBJJDE00060O_1606386486884_2_TH.json', '4370_A1LCAIHDH00005Q_1608080165232_2_TH.json', '9447_A2LEBJJDE001951_1606209207940_2_TH.json', '4370_A1LCAIHDH00005Q_1607933354325_2_TH.json', '5569_A2LEBJJDE001211_1606358026787_2_TH.json', '7229_A2LEBJJDE00142H_1606545064726_2_TH.json', '1981_A2LEBJJDE001493_1606635594657_2_TH.json', '9527_A2LEBJJDE00110E_1606742166535_2_TH.json', '0013_A2LEBJJDE00060O_1606550851385_2_TH.json', '1237_A2LEBJJDE001584_1606114404698_2_TH.json', '3339_A2LEBJJDE00057G_1606294330110_2_TH.json', '7851_A2LEBJJDE00074P_1607178764132_2_TH.json', '1221_A1LCAIHDH00009X_1608340408085_2_TH.json', '9447_A2LEBJJDE001951_1606019643824_2_TH.json', '1981_A2LEBJJDE001493_1606635160829_2_TH.json', '3977_A2LCBJCAC000073_1608000998795_2_TH.json', '2327_A2LEBJJDE00091Y_1609060512894_2_TH.json', '1983_A2LEBJJDE00188L_1606442216760_2_TH.json', '3339_A2LEBJJDE00057G_1605758104978_2_TH.json', '7229_A2LEBJJDE00142H_1606008130089_2_TH.json', '4478_A2LEBJJDE00052G_1606209773333_2_TH.json', '2326_A2LEBJJDE001998_1606194050924_2_TH.json', '3755_A2LEBJJDE001857_1607517110534_2_TH.json', '4307_A2LEBJJDE000683_1606733757701_2_TH.json', '3977_A2LCBJCAC000073_1608010213904_2_TH.json', '0617_A2LEBJJDE000815_1606648969671_2_TH.json', '3977_A2LEBJJDE00039E_1606216954050_2_TH.json', '8212_A2LEBJJDE00070I_1607602179540_2_TH.json', '3006_A1LCAIHDH00007C_1607759006089_2_TH.json', '3365_A2LEBJJDE00106D_1608279151056_2_TH.json', '5569_A2LEBJJDE001211_1609033903575_2_TH.json', '2720_A2LEBJJDE000401_1607673538469_2_TH.json', '3269_A2LEBJJDE00096Y_1608086980020_2_TH.json', '8833_A2LEBJJDE00156I_1606038487891_2_TH.json', '6570_A2LEBJJDE001675_1607404403979_2_TH.json', '4370_A1LCAIHDH00005Q_1607736018107_2_TH.json', '0425_A2LEBJJDE00079P_1606739223129_2_TH.json', '9578_A2LEBJJDE00105K_1606027794699_2_TH.json', '1069_A2LEBJJDE00094D_1608272421451_2_TH.json', '1071_A2LEBJJDE00173R_1606092786302_2_TH.json', '4370_A1LCAIHDH00005Q_1608518709777_2_TH.json', '3263_A1LCAIHDH00014R_1607930272405_2_TH.json', '4370_A1LCAIHDH00005Q_1607914671017_2_TH.json', '2278_A2LEBJJDE00181Z_1606654023388_2_TH.json', '8606_A2LEBJJDE00155P_1606461215267_2_TH.json', '4162_A2LEBJJDE00013X_1607651193254_2_TH.json', '0715_A2LEBJJDE00175D_1606195005210_2_TH.json', '7851_A2LEBJJDE00074P_1606211545150_2_TH.json', '8224_A2LEBJJDE000448_1607392779270_2_TH.json', '4307_A2LEBJJDE000683_1606733917435_2_TH.json', '0617_A2LEBJJDE000815_1606535537824_2_TH.json', '8896_A2LEBJJDE001807_1606456624675_2_TH.json', '5030_A2LEBJJDE00186Z_1606293083582_2_TH.json', '0013_A2LEBJJDE00060O_1606386266117_2_TH.json', '2326_A2LEBJJDE00037S_1606016306390_2_TH.json', '3006_A1LCAIHDH00007C_1608004484164_2_TH.json', '2327_A2LEBJJDE00091Y_1608618360924_2_TH.json', '3977_A2LEBJJDE00161C_1606442138725_2_TH.json', '0770_A2LEBJJDE000865_1606962999655_2_TH.json', '5030_A2LEBJJDE00182S_1606888157249_2_TH.json', '0643_A2LEBJJDE00048F_1606711350699_2_TH.json', '5030_A2LEBJJDE00186Z_1606294570567_2_TH.json', '4970_A1LCAIHDH00010K_1607569964016_2_TH.json', '2585_A2LEBJJDE001302_1606466975893_2_TH.json', '9244_A2LEBJJDE00154W_1606130632274_2_TH.json', '5436_A2LEBJJDE00098K_1607221471072_2_TH.json', '4795_A2LEBJJDE00113S_1607568863658_2_TH.json', '9578_A2LEBJJDE00105K_1606530619939_2_TH.json', '2996_A2LEBJJDE00083Q_1606277059032_2_TH.json', '5569_A2LEBJJDE001211_1607330249722_2_TH.json', '9527_A2LEBJJDE00110E_1607747368963_2_TH.json', '0888_A2LEBJJDE001948_1606474235825_2_TH.json', '6775_A2LEBJJDE00022Y_1607653558721_2_TH.json', '1940_A2LEBJJDE000307_1606367998467_2_TH.json', '3263_A1LCAIHDH00014R_1608258172846_2_TH.json', '3085_A2LEBJJDE00128M_1606620005665_2_TH.json', '9414_A2LEBJJDE00033L_1606560358814_2_TH.json', '1069_A2LEBJJDE00094D_1606969026065_2_TH.json', '7851_A2LEBJJDE00074P_1606304790874_2_TH.json', '6775_A2LEBJJDE00022Y_1607743200904_2_TH.json', '1237_A2LEBJJDE001584_1606114195070_2_TH.json', '6121_A2LEBJJDE00183L_1606226095065_2_TH.json', '9578_A2LEBJJDE00105K_1606186701327_2_TH.json', '0715_A2LEBJJDE00175D_1606881860916_2_TH.json', '6570_A2LEBJJDE001675_1607317595047_2_TH.json', '9338_A2LEBJJDE00101D_1606561449285_2_TH.json', '2327_A2LEBJJDE00091Y_1608956604031_2_TH.json', '9414_A2LEBJJDE00033L_1606704612466_2_TH.json', '7168_A2LEBJJDE00124F_1606294134634_2_TH.json', '8281_A2LEBJJDE00055U_1606730091644_2_TH.json', '1237_A2LEBJJDE001584_1606113769001_2_TH.json', '1195_A2LEBJJDE00197M_1607403179924_2_TH.json', '1983_A2LEBJJDE00188L_1606102205643_2_TH.json', '4795_A2LEBJJDE00113S_1606545855166_2_TH.json', '9202_A2LEBJJDE00082X_1606707760053_2_TH.json', '3216_A1LCAIHDH00006J_1607661603428_2_TH.json', '5619_A2LEBJJDE00002B_1606109922648_2_TH.json', '1743_A2LEBJJDE00031Z_1606016633430_2_TH.json', '8896_A2LEBJJDE001807_1607300491961_2_TH.json', '7851_A2LEBJJDE00074P_1607175046321_2_TH.json', '6570_A2LEBJJDE001675_1607426135515_2_TH.json', '0643_A2LEBJJDE00048F_1606711301891_2_TH.json', '2278_A2LEBJJDE00181Z_1606653460305_2_TH.json', '5619_A2LEBJJDE00002B_1606721922192_2_TH.json', '2522_A2LEBJJDE00014Q_1606986297217_2_TH.json', '5415_A2LEBJJDE00027Y_1606297115327_2_TH.json', '3263_A1LCAIHDH00014R_1607822842806_2_TH.json', '1743_A2LEBJJDE00031Z_1606641282867_2_TH.json', '0013_A2LEBJJDE00060O_1606550837776_2_TH.json', '5030_A2LEBJJDE00182S_1606888231021_2_TH.json', '8000_A2LEBJJDE000956_1606877530902_2_TH.json', '8366_A2LEBJJDE00196T_1606299565364_2_TH.json', '4717_A2LEBJJDE001208_1606187443538_2_TH.json', '8281_A2LEBJJDE00055U_1606304247763_2_TH.json', '3046_A2LEBJJDE00089J_1606120976066_2_TH.json', '6570_A2LEBJJDE001675_1607831852162_2_TH.json', '2762_A2LEBJJDE000498_1606042851351_2_TH.json', '0013_A2LEBJJDE00060O_1606386499230_2_TH.json', '1743_A2LEBJJDE00031Z_1606546129335_2_TH.json', '0770_A2LEBJJDE000865_1607242295982_2_TH.json', '1983_A2LEBJJDE00188L_1606101930149_2_TH.json', '4478_A2LEBJJDE00052G_1606383076820_2_TH.json', '3263_A1LCAIHDH00014R_1608608490646_2_TH.json', '5619_A2LEBJJDE00002B_1606638290601_2_TH.json', '0425_A2LEBJJDE00079P_1606717541878_2_TH.json', '0013_A2LEBJJDE00060O_1606386451791_2_TH.json', '3977_A2LEBJJDE00039E_1606216892987_2_TH.json', '2278_A2LEBJJDE00181Z_1606654008416_2_TH.json', '0703_A2LEBJJDE000774_1606272312407_2_TH.json', '7851_A2LEBJJDE00074P_1607142720985_2_TH.json', '0013_A2LEBJJDE00060O_1606550926595_2_TH.json', '3977_A2LCBJCAC000073_1608001096250_2_TH.json', '3269_A2LEBJJDE00096Y_1608085084117_2_TH.json', '7297_A2LEBJJDE00151I_1606358930856_2_TH.json', '3006_A1LCAIHDH00007C_1608356723591_2_TH.json', '2585_A2LEBJJDE001302_1606703184696_2_TH.json', '3006_A1LCAIHDH00007C_1607850169181_2_TH.json', '9887_A2LEBJJDE00066H_1605944072943_2_TH.json', '5415_A2LEBJJDE00032S_1606191089691_2_TH.json', '3006_A1LCAIHDH00007C_1608025200336_2_TH.json', '8896_A2LEBJJDE001807_1607300447757_2_TH.json', '8802_A2LEBJJDE00174K_1608697799166_2_TH.json', '2996_A2LEBJJDE00083Q_1606270468506_2_TH.json', '0663_A2LEBJJDE001716_1606456536146_2_TH.json', '3216_A1LCAIHDH00006J_1607841649455_2_TH.json', '6825_A1LCAIHDH00018Y_1607658769171_2_TH.json', '3977_A2LCBJCAC000073_1607325842114_2_TH.json', '4307_A2LEBJJDE000683_1606733722179_2_TH.json', '4970_A1LCAIHDH00010K_1608100761430_2_TH.json', '2996_A2LEBJJDE00083Q_1605934762761_2_TH.json', '5619_A2LEBJJDE00002B_1606706198850_2_TH.json', '2996_A2LEBJJDE00083Q_1606379523795_2_TH.json', '4370_A1LCAIHDH00005Q_1608189646044_2_TH.json', '4370_A1LCAIHDH00005Q_1607838191989_2_TH.json', '8802_A2LEBJJDE00178R_1606736114509_2_TH.json', '0770_A2LEBJJDE000865_1607677753997_2_TH.json', '2278_A2LEBJJDE00181Z_1606655640597_2_TH.json', '6825_A1LCAIHDH00018Y_1607657636428_2_TH.json', '9864_A2LEBJJDE001167_1608958829409_2_TH.json', '0616_A2LEBJJDE00004W_1606612222288_2_TH.json', '1940_A2LEBJJDE000307_1606367966801_2_TH.json', '8606_A2LEBJJDE00155P_1606460344940_2_TH.json', '1142_A2LEBJJDE00024K_1606452766065_2_TH.json', '6825_A1LCAIHDH00018Y_1607663044625_2_TH.json', '0013_A2LEBJJDE00060O_1606706923591_2_TH.json', '5415_A2LEBJJDE00032S_1606746329952_2_TH.json', '7670_A1LCAIHDH000126_1607658073776_2_TH.json', '3365_A2LEBJJDE00106D_1606612819458_2_TH.json', '0770_A2LEBJJDE000865_1608714233621_2_TH.json', '9874_A2LEBJJDE00123M_1607074352034_2_TH.json', '3755_A2LEBJJDE001857_1608272817423_2_TH.json', '1237_A2LEBJJDE001584_1606113591273_2_TH.json', '7698_A2LEBJJDE00165J_1606283323360_2_TH.json', '7698_A2LEBJJDE00165J_1606463527045_2_TH.json', '5619_A2LEBJJDE00002B_1606099841830_2_TH.json', '9578_A2LEBJJDE00105K_1606548367111_2_TH.json', '6570_A2LEBJJDE001675_1607393457078_2_TH.json', '6775_A2LEBJJDE00022Y_1606644393844_2_TH.json', '0770_A2LEBJJDE000865_1607243926807_2_TH.json', '6440_A2LEBJJDE001352_1607312657892_2_TH.json', '3977_A2LCBJCAC000073_1608001783863_2_TH.json', '1963_A2LCBJCAC00003V_1607390923885_2_TH.json', '3006_A1LCAIHDH00007C_1607678905339_2_TH.json', '1221_A1LCAIHDH00009X_1608175999845_2_TH.json', '1221_A1LCAIHDH00009X_1607650964355_2_TH.json', '5569_A2LEBJJDE001211_1606549710591_2_TH.json', '4263_A2LEBJJDE00062A_1606304174935_2_TH.json', '6367_A2LEBJJDE00038L_1606616030324_2_TH.json', '3006_A1LCAIHDH00007C_1608426310847_2_TH.json', '7851_A2LEBJJDE00074P_1607503269560_2_TH.json', '1071_A2LEBJJDE00173R_1606092520424_2_TH.json', '2326_A2LEBJJDE00037S_1606198922109_2_TH.json', '3858_A2LEBJJDE00076B_1607866423445_2_TH.json', '8102_A2LEBJJDE000633_1606283085101_2_TH.json', '4970_A1LCAIHDH00010K_1607766755480_2_TH.json', '4795_A2LEBJJDE00113S_1607157666153_2_TH.json', '4970_A1LCAIHDH00010K_1608015971083_2_TH.json', '4370_A1LCAIHDH00005Q_1607755287980_2_TH.json', '1080_A2LEBJJDE00092R_1607742796486_2_TH.json', '9578_A2LEBJJDE00105K_1608365334273_2_TH.json', '1981_A2LEBJJDE001493_1607254439020_2_TH.json', '8833_A2LEBJJDE00156I_1606275762457_2_TH.json', '2996_A2LEBJJDE00083Q_1606643898866_2_TH.json', '8802_A2LEBJJDE00174K_1606867438998_2_TH.json', '9905_A2LEBJJDE00042M_1607403224516_2_TH.json', '0663_A2LEBJJDE001716_1606370189672_2_TH.json', '2709_A2LEBJJDE000216_1606302215813_2_TH.json', '4002_A2LEBJJDE00137N_1606211300783_2_TH.json', '0617_A2LEBJJDE000815_1606214102654_2_TH.json', '2326_A2LEBJJDE00037S_1607589184928_2_TH.json', '7701_A1LCAIHDH000085_1607650852157_2_TH.json', '4133_A1LCAIHDH000035_1608177344731_2_TH.json', '8212_A2LEBJJDE00070I_1606383366068_2_TH.json', '4263_A2LEBJJDE00062A_1606534487907_2_TH.json', '2800_A2LEBJJDE00036Z_1606011736645_2_TH.json', '4478_A2LEBJJDE00052G_1606450455412_2_TH.json', '5438_A2LEBJJDE00159W_1606267438095_2_TH.json', '3365_A2LEBJJDE00106D_1606305202609_2_TH.json', '4970_A1LCAIHDH00010K_1608513617833_2_TH.json', '5305_A2LEBJJDE00122T_1606208977756_2_TH.json', '8224_A2LEBJJDE000448_1606723114400_2_TH.json', '4370_A1LCAIHDH00005Q_1607993824345_2_TH.json', '5030_A2LEBJJDE00186Z_1606293349254_2_TH.json', '2317_A2LEBJJDE00051N_1606382758357_2_TH.json', '0733_A2LEBJJDE000084_1606354138766_2_TH.json', '3977_A2LCBJCAC000073_1607325985465_2_TH.json', '7229_A2LEBJJDE00142H_1606446658867_2_TH.json', '5305_A2LEBJJDE00122T_1606553411840_2_TH.json', '1983_A2LEBJJDE00188L_1606101624272_2_TH.json', '9578_A2LEBJJDE00105K_1608024250496_2_TH.json', '1963_A2LCBJCAC00003V_1607488889623_2_TH.json', '4263_A2LEBJJDE00062A_1606216368402_2_TH.json', '9527_A2LEBJJDE00110E_1606744099841_2_TH.json', '1145_A2LEBJJDE00119L_1606737153534_2_TH.json', '1237_A2LEBJJDE001584_1606115182952_2_TH.json', '8896_A2LEBJJDE001807_1607653398984_2_TH.json', '4370_A1LCAIHDH00005Q_1608431414270_2_TH.json', '0425_A2LEBJJDE00079P_1606739382813_2_TH.json', '2326_A2LEBJJDE00037S_1606189701791_2_TH.json', '1069_A2LEBJJDE00094D_1606464912276_2_TH.json', '4370_A1LCAIHDH00005Q_1607843847655_2_TH.json', '5030_A2LEBJJDE00186Z_1606293174538_2_TH.json', '6981_A2LEBJJDE00075I_1606526914649_2_TH.json', '6570_A2LEBJJDE001675_1607852347966_2_TH.json', '1221_A1LCAIHDH00009X_1608694220976_2_TH.json', '3977_A2LCBJCAC000073_1608001039596_2_TH.json', '6718_A2LEBJJDE000451_1606032765089_2_TH.json', '4970_A1LCAIHDH00010K_1608605085797_2_TH.json', '8606_A2LEBJJDE00155P_1606460559842_2_TH.json', '7851_A2LEBJJDE00074P_1606740160973_2_TH.json', '7418_A2LEBJJDE00080C_1606202871867_2_TH.json', '6825_A1LCAIHDH00018Y_1607663375528_2_TH.json', '1069_A2LEBJJDE00094D_1607044987509_2_TH.json', '7698_A2LEBJJDE00165J_1606608693952_2_TH.json', '9578_A2LEBJJDE00105K_1608286845188_2_TH.json', '6121_A2LEBJJDE00183L_1606226473195_2_TH.json', '3977_A2LEBJJDE00039E_1606216689877_2_TH.json', '7978_A2LEBJJDE00071B_1606193623758_2_TH.json', '4970_A1LCAIHDH00010K_1608358818279_2_TH.json', '4307_A2LEBJJDE000683_1606660846042_2_TH.json', '6570_A2LEBJJDE001675_1607772794442_2_TH.json', '9202_A2LEBJJDE00082X_1605798071500_2_TH.json', '0617_A2LEBJJDE000815_1606614396591_2_TH.json', '7985_A1LCAIHDH00011D_1607753186224_2_TH.json', '2996_A2LEBJJDE00083Q_1606469349448_2_TH.json', '5438_A2LEBJJDE00159W_1606267253883_2_TH.json', '4015_A2LEBJJDE00150P_1606280146620_2_TH.json', '1981_A2LEBJJDE001493_1606875378395_2_TH.json', '4370_A1LCAIHDH00005Q_1607850811469_2_TH.json', '0643_A2LEBJJDE00048F_1606712664179_2_TH.json', '3006_A1LCAIHDH00007C_1608438925858_2_TH.json', '4133_A1LCAIHDH000035_1607674000869_2_TH.json', '4810_A2LEBJJDE00177Y_1606091198167_2_TH.json', '6078_A2LEBJJDE00160J_1606098238329_2_TH.json', '8606_A2LEBJJDE00155P_1606460701568_2_TH.json', '8802_A2LEBJJDE00174K_1608703324693_2_TH.json', '7366_A2LEBJJDE00143A_1605957744258_2_TH.json', '7126_A2LEBJJDE001534_1605944195436_2_TH.json', '3977_A2LCBJCAC000073_1607311909004_2_TH.json', '9356_A2LEBJJDE00192M_1606629154434_2_TH.json', '8297_A2LEBJJDE001076_1607508190538_2_TH.json', '4557_A2LEBJJDE00043F_1605946245550_2_TH.json', '7701_A1LCAIHDH000085_1608360815043_2_TH.json', '6570_A2LEBJJDE001675_1607317165988_2_TH.json', '6078_A2LEBJJDE00160J_1606098770441_2_TH.json', '5438_A2LEBJJDE00159W_1606267049397_2_TH.json', '4070_A2LEBJJDE000266_1606636176432_2_TH.json', '3006_A1LCAIHDH00007C_1608346091667_2_TH.json', '7851_A2LEBJJDE00074P_1607158327327_2_TH.json', '3216_A1LCAIHDH00006J_1607661354065_2_TH.json', '3006_A1LCAIHDH00007C_1608114861456_2_TH.json', '9414_A2LEBJJDE00033L_1606973612046_2_TH.json', '3332_A2LEBJJDE00100K_1606615794543_2_TH.json', '3216_A1LCAIHDH00006J_1607853653455_2_TH.json', '4162_A2LEBJJDE00013X_1607653321519_2_TH.json', '2326_A2LEBJJDE00037S_1606449484181_2_TH.json', '0013_A2LEBJJDE00060O_1606550825417_2_TH.json', '8281_A2LEBJJDE00055U_1606624122568_2_TH.json', '4015_A2LEBJJDE00150P_1606700789796_2_TH.json', '2637_A2LEBJJDE00099D_1607750877711_2_TH.json', '8606_A2LEBJJDE00155P_1606461104468_2_TH.json', '3977_A2LEBJJDE00161C_1606370912104_2_TH.json', '3216_A1LCAIHDH00006J_1607852793010_2_TH.json', '3006_A1LCAIHDH00007C_1607759316923_2_TH.json', '1963_A2LCBJCAC00003V_1608599402833_2_TH.json', '4478_A2LEBJJDE00052G_1606353693097_2_TH.json', '3006_A1LCAIHDH00007C_1607666401079_2_TH.json', '3046_A2LEBJJDE00089J_1606545922744_2_TH.json', '5619_A2LEBJJDE00002B_1606370693672_2_TH.json', '1743_A2LEBJJDE00031Z_1606295989913_2_TH.json', '3937_A2LEBJJDE00046T_1607610890816_2_TH.json', '6570_A2LEBJJDE001675_1607773108096_2_TH.json', '8606_A2LEBJJDE00155P_1606461249212_2_TH.json', '6818_A2LEBJJDE00170D_1606022038321_2_TH.json', '1069_A2LEBJJDE00094D_1607155143677_2_TH.json', '9244_A2LEBJJDE00154W_1606130421472_2_TH.json', '5030_A2LEBJJDE00186Z_1606796655849_2_TH.json', '5946_A2LEBJJDE00085C_1605935840532_2_TH.json', '3332_A2LEBJJDE00100K_1606615566197_2_TH.json', '7851_A2LEBJJDE00074P_1607154258880_2_TH.json', '7851_A2LEBJJDE00074P_1606657884489_2_TH.json', '7978_A2LEBJJDE00071B_1606705714475_2_TH.json', '1069_A2LEBJJDE00094D_1606727499118_2_TH.json', '0663_A2LEBJJDE001716_1606365788753_2_TH.json', '9578_A2LEBJJDE00105K_1608358907148_2_TH.json', '2278_A2LEBJJDE00181Z_1606656088198_2_TH.json', '8606_A2LEBJJDE00155P_1606460908330_2_TH.json', '2278_A2LEBJJDE00181Z_1606653219066_2_TH.json', '6440_A2LEBJJDE001352_1606538483371_2_TH.json', '2326_A2LEBJJDE00037S_1606042362018_2_TH.json', '4070_A2LEBJJDE000266_1606364453794_2_TH.json', '0616_A2LEBJJDE00004W_1606183421821_2_TH.json', '0617_A2LEBJJDE000815_1606649812559_2_TH.json', '5619_A2LEBJJDE00002B_1606701789646_2_TH.json', '3977_A2LCBJCAC000073_1608010182584_2_TH.json', '0013_A2LEBJJDE00060O_1606386463037_2_TH.json', '1963_A2LCBJCAC00003V_1609303946339_2_TH.json', '0643_A2LEBJJDE00048F_1606789312332_2_TH.json', '0617_A2LEBJJDE000815_1606200289374_2_TH.json', '4002_A2LEBJJDE00137N_1606284689209_2_TH.json', '7366_A2LEBJJDE00088Q_1607649004924_2_TH.json', '2326_A2LEBJJDE00037S_1607589317347_2_TH.json', '2996_A2LEBJJDE00083Q_1606544631509_2_TH.json', '5619_A2LEBJJDE00002B_1606203082871_2_TH.json', '3006_A1LCAIHDH00007C_1608711927649_2_TH.json', '6775_A2LEBJJDE00022Y_1607678986947_2_TH.json', '9244_A2LEBJJDE00154W_1607590296230_2_TH.json', '0703_A2LEBJJDE000774_1606364213492_2_TH.json', '1069_A2LEBJJDE00094D_1608431513446_2_TH.json', '2023_A2LEBJJDE00018X_1607569187021_2_TH.json', '2996_A2LEBJJDE00083Q_1606439508393_2_TH.json', '5438_A2LEBJJDE00159W_1606267205554_2_TH.json', '2800_A2LEBJJDE00036Z_1606528754208_2_TH.json', '6825_A1LCAIHDH00018Y_1607659242329_2_TH.json', '1069_A2LEBJJDE00094D_1607846408040_2_TH.json', '1743_A2LEBJJDE00031Z_1606035482930_2_TH.json', '0663_A2LEBJJDE001716_1606464389974_2_TH.json', '6367_A2LEBJJDE00038L_1606613372479_2_TH.json', '6570_A2LEBJJDE001675_1607498802545_2_TH.json', '3677_A2LEBJJDE00087X_1606290030376_2_TH.json', '2585_A2LEBJJDE001302_1606547834947_2_TH.json', '2762_A2LEBJJDE000498_1605952716247_2_TH.json', '7698_A2LEBJJDE00165J_1606609573242_2_TH.json', '0617_A2LEBJJDE000815_1606614669722_2_TH.json', '8802_A2LEBJJDE00174K_1608706328775_2_TH.json', '6818_A2LEBJJDE00170D_1606537256356_2_TH.json', '9578_A2LEBJJDE00105K_1607852045044_2_TH.json', '6570_A2LEBJJDE001675_1607773155052_2_TH.json', '6775_A2LEBJJDE00022Y_1607670181141_2_TH.json', '2820_A2LEBJJDE00179K_1607147154638_2_TH.json', '2326_A2LEBJJDE00037S_1606354636197_2_TH.json', '8606_A2LEBJJDE00155P_1606460302866_2_TH.json', '4267_A1LCAIHDH00016D_1607828123545_2_TH.json', '7851_A2LEBJJDE00074P_1606211341405_2_TH.json', '9874_A2LEBJJDE00123M_1606722343778_2_TH.json', '8224_A2LEBJJDE000448_1607392730925_2_TH.json', '2585_A2LEBJJDE001302_1607058163738_2_TH.json', '3977_A2LEBJJDE00161C_1606370582392_2_TH.json', '3977_A2LEBJJDE00161C_1606370841701_2_TH.json', '7701_A1LCAIHDH000085_1608283519206_2_TH.json', '3006_A1LCAIHDH00007C_1608347316040_2_TH.json', '5305_A2LEBJJDE00122T_1606209237395_2_TH.json', '0770_A2LEBJJDE000865_1607741457682_2_TH.json', '8802_A2LEBJJDE00174K_1606866927450_2_TH.json', '8802_A2LEBJJDE00174K_1608698882924_2_TH.json', '0770_A2LEBJJDE000865_1607590990278_2_TH.json', '7418_A2LEBJJDE00080C_1606702963977_2_TH.json', '3755_A2LEBJJDE001857_1608270230104_2_TH.json', '2032_A2LEBJJDE00152B_1606026891582_2_TH.json', '9578_A2LEBJJDE00105K_1605951254606_2_TH.json', '7418_A2LEBJJDE00080C_1606117400515_2_TH.json', '5438_A2LEBJJDE00159W_1606266595730_2_TH.json', '3263_A1LCAIHDH00014R_1608012477275_2_TH.json', '5619_A2LEBJJDE00002B_1606722715663_2_TH.json', '0770_A2LEBJJDE000865_1607664382455_2_TH.json', '0663_A2LEBJJDE001716_1606544616323_2_TH.json', '6440_A2LEBJJDE001352_1606890187925_2_TH.json', '4263_A2LEBJJDE00062A_1606545997699_2_TH.json', '3263_A1LCAIHDH00014R_1608965530946_2_TH.json', '8606_A2LEBJJDE00155P_1606460976342_2_TH.json', '2996_A2LEBJJDE00083Q_1607228163304_2_TH.json', '7701_A1LCAIHDH000085_1608360861546_2_TH.json', '8281_A2LEBJJDE00055U_1606730030225_2_TH.json', '2720_A2LEBJJDE000401_1606452851466_2_TH.json', '2820_A2LEBJJDE00179K_1607147203514_2_TH.json', '5438_A2LEBJJDE00159W_1606267163499_2_TH.json', '4370_A1LCAIHDH00005Q_1608253374815_2_TH.json', '5619_A2LEBJJDE00002B_1606721833214_2_TH.json', '7418_A2LEBJJDE00080C_1606980553168_2_TH.json', '3216_A1LCAIHDH00006J_1607733145627_2_TH.json', '6818_A2LEBJJDE00170D_1606438794645_2_TH.json', '1069_A2LEBJJDE00094D_1607158360170_2_TH.json', '7126_A2LEBJJDE001534_1606367537820_2_TH.json', '3858_A2LEBJJDE00076B_1607867092524_2_TH.json', '7670_A1LCAIHDH000126_1607657694548_2_TH.json', '4133_A1LCAIHDH000035_1607676210509_2_TH.json', '0643_A2LEBJJDE00048F_1606711282919_2_TH.json', '2996_A2LEBJJDE00083Q_1606354161037_2_TH.json', '4478_A2LEBJJDE00052G_1606210275971_2_TH.json', '5030_A2LEBJJDE00182S_1606887985548_2_TH.json', '3065_A2LEBJJDE00103Y_1607835709109_2_TH.json', '7851_A2LEBJJDE00074P_1606644332348_2_TH.json', '0616_A2LEBJJDE00004W_1606538425215_2_TH.json', '7701_A1LCAIHDH000085_1608266992207_2_TH.json', '6437_A1LCAIHDH00019R_1607655420228_2_TH.json', '0715_A2LEBJJDE00175D_1607495318032_2_TH.json', '4795_A2LEBJJDE00113S_1606534312940_2_TH.json', '1963_A2LCBJCAC00003V_1607404179787_2_TH.json', '7851_A2LEBJJDE00074P_1606536842001_2_TH.json', '3755_A2LEBJJDE001857_1608272838909_2_TH.json', '4370_A1LCAIHDH00005Q_1607941854153_2_TH.json', '3216_A1LCAIHDH00006J_1607736113160_2_TH.json', '2326_A2LEBJJDE001998_1608449981285_2_TH.json', '4370_A1LCAIHDH00005Q_1607749965750_2_TH.json', '4370_A1LCAIHDH00005Q_1608635470344_2_TH.json', '4015_A2LEBJJDE00150P_1606702510460_2_TH.json', '8896_A2LEBJJDE001807_1607654804359_2_TH.json', '8366_A2LEBJJDE00039E_1607499549770_2_TH.json', '4002_A2LEBJJDE00137N_1606440277235_2_TH.json', '4002_A2LEBJJDE00137N_1606029390827_2_TH.json', '2469_A2LEBJJDE00019Q_1606268463932_2_TH.json', '2522_A2LEBJJDE00014Q_1606708379423_2_TH.json', '4370_A1LCAIHDH00005Q_1608191808713_2_TH.json', '4478_A2LEBJJDE00052G_1606633558384_2_TH.json', '7366_A2LEBJJDE00143A_1605921468254_2_TH.json', '3755_A2LEBJJDE001857_1608269552068_2_TH.json', '4307_A2LEBJJDE000683_1606733805021_2_TH.json', '1407_A2LEBJJDE001258_1606369013366_2_TH.json', '3977_A2LCBJCAC000073_1607325623499_2_TH.json', '2326_A2LEBJJDE00037S_1606529456901_2_TH.json', '7978_A2LEBJJDE00071B_1607332626718_2_TH.json', '4263_A2LEBJJDE00062A_1606461681015_2_TH.json', '2469_A2LEBJJDE00019Q_1606269621816_2_TH.json', '9244_A2LEBJJDE00154W_1606130895533_2_TH.json', '9578_A2LEBJJDE00105K_1608001528635_2_TH.json', '9244_A2LEBJJDE00154W_1606130694827_2_TH.json', '5619_A2LEBJJDE00002B_1606700062669_2_TH.json', '6995_A2LEBJJDE00104R_1606021814194_2_TH.json', '7297_A2LEBJJDE00151I_1606280193065_2_TH.json', '3755_A2LEBJJDE001857_1608270538967_2_TH.json', '2996_A2LEBJJDE00083Q_1605946349969_2_TH.json', '3937_A2LEBJJDE00046T_1606053638416_2_TH.json', '2278_A2LEBJJDE00181Z_1606653908913_2_TH.json', '8297_A2LEBJJDE001076_1608612446097_2_TH.json', '8146_A2LEBJJDE00148A_1606464080870_2_TH.json', '3275_A2LEBJJDE001766_1606023962304_2_TH.json', '2585_A2LEBJJDE001302_1605945241198_2_TH.json', '3677_A2LEBJJDE00087X_1607758212231_2_TH.json', '9578_A2LEBJJDE00105K_1606024367960_2_TH.json', '0617_A2LEBJJDE000815_1606649589245_2_TH.json', '3006_A1LCAIHDH00007C_1608428792875_2_TH.json', '8212_A2LEBJJDE00070I_1606742805538_2_TH.json', '4002_A2LEBJJDE00137N_1606788162539_2_TH.json', '6570_A2LEBJJDE001675_1607852662423_2_TH.json', '8297_A2LEBJJDE001076_1608171769437_2_TH.json', '2709_A2LEBJJDE000216_1606112446572_2_TH.json', '2379_A2LEBJJDE00172Y_1605861829076_2_TH.json', '4370_A1LCAIHDH00005Q_1607828233831_2_TH.json', '0013_A2LEBJJDE00060O_1606550726665_2_TH.json', '3263_A1LCAIHDH00014R_1608358778385_2_TH.json', '0703_A2LEBJJDE000774_1606098988892_2_TH.json', '5569_A2LEBJJDE001211_1606624876188_2_TH.json', '4478_A2LEBJJDE00052G_1606210300377_2_TH.json', '8212_A2LEBJJDE00070I_1606383540590_2_TH.json', '4478_A2LEBJJDE00052G_1606706242268_2_TH.json', '0616_A2LEBJJDE00004W_1606266508497_2_TH.json', '9244_A2LEBJJDE00154W_1607590508023_2_TH.json', '3006_A1LCAIHDH00007C_1607678189629_2_TH.json', '0425_A2LEBJJDE00079P_1607745108008_2_TH.json', '1069_A2LEBJJDE00094D_1607334404102_2_TH.json', '1237_A2LEBJJDE001584_1606114958809_2_TH.json', '1963_A2LCBJCAC00003V_1607407261024_2_TH.json', '6818_A2LEBJJDE00170D_1606531559335_2_TH.json', '7027_A2LEBJJDE001117_1606286733639_2_TH.json', '3065_A2LEBJJDE00103Y_1606544959929_2_TH.json', '4795_A2LEBJJDE00113S_1607654683107_2_TH.json', '0617_A2LEBJJDE000815_1606690340913_2_TH.json', '5619_A2LEBJJDE00002B_1606376340626_2_TH.json', '4015_A2LEBJJDE00150P_1606705977659_2_TH.json', '5619_A2LEBJJDE00002B_1606702028469_2_TH.json', '9578_A2LEBJJDE00105K_1607414510878_2_TH.json', '4370_A1LCAIHDH00005Q_1608186214572_2_TH.json', '5030_A2LEBJJDE00182S_1606697241983_2_TH.json', '5305_A2LEBJJDE00122T_1606553672496_2_TH.json', '8896_A2LEBJJDE001807_1607653779628_2_TH.json', '9244_A2LEBJJDE00154W_1607590339774_2_TH.json', '7670_A1LCAIHDH000126_1607569556516_2_TH.json', '7701_A1LCAIHDH000085_1609665690594_2_TH.json', '3006_A1LCAIHDH00007C_1607744009555_2_TH.json', '6981_A2LEBJJDE00075I_1606471053231_2_TH.json', '8606_A2LEBJJDE00155P_1606461446811_2_TH.json', '8212_A2LEBJJDE00070I_1605936666040_2_TH.json', '7851_A2LEBJJDE00074P_1606657673289_2_TH.json', '3085_A2LEBJJDE00128M_1606192094676_2_TH.json', '9578_A2LEBJJDE00105K_1608089762033_2_TH.json', '8212_A2LEBJJDE00070I_1607593613709_2_TH.json', '1743_A2LEBJJDE00031Z_1606558606586_2_TH.json', '2996_A2LEBJJDE00083Q_1606353679909_2_TH.json', '1983_A2LEBJJDE00188L_1606101787779_2_TH.json', '8297_A2LEBJJDE001076_1608727499355_2_TH.json', '0715_A2LEBJJDE00175D_1607495393951_2_TH.json', '7851_A2LEBJJDE00074P_1607499650489_2_TH.json', '5569_A2LEBJJDE001211_1605845409534_2_TH.json', '7366_A2LEBJJDE00088Q_1607648500653_2_TH.json', '4478_A2LEBJJDE00052G_1606459764996_2_TH.json', '5939_A2LEBJJDE00129F_1606632822207_2_TH.json', '5030_A2LEBJJDE00186Z_1606741919782_2_TH.json', '2327_A2LEBJJDE00091Y_1608947059488_2_TH.json', '2996_A2LEBJJDE00083Q_1606632250811_2_TH.json', '9316_A2LEBJJDE00034E_1604119691411_2_TH.json', '8833_A2LEBJJDE00156I_1606275745397_2_TH.json', '0770_A2LEBJJDE000865_1607687053478_2_TH.json', '6440_A2LEBJJDE001352_1606526142923_2_TH.json', '1142_A2LEBJJDE00024K_1606623778971_2_TH.json', '0663_A2LEBJJDE001716_1605684322990_2_TH.json', '5619_A2LEBJJDE00002B_1606357932255_2_TH.json', '1237_A2LEBJJDE001584_1606114947976_2_TH.json', '6367_A2LEBJJDE00038L_1607408647889_2_TH.json', '8802_A2LEBJJDE00174K_1606866875898_2_TH.json', '1407_A2LEBJJDE001258_1606370459379_2_TH.json', '6367_A2LEBJJDE00038L_1606615837317_2_TH.json', '6818_A2LEBJJDE00170D_1605844793327_2_TH.json', '8297_A2LEBJJDE001076_1607613433864_2_TH.json', '9578_A2LEBJJDE00105K_1606115156328_2_TH.json', '8606_A2LEBJJDE00155P_1606460103155_2_TH.json', '0643_A2LEBJJDE00048F_1606721194938_2_TH.json', '4307_A2LEBJJDE000683_1606655306721_2_TH.json', '9447_A2LEBJJDE001951_1606209189118_2_TH.json', '0616_A2LEBJJDE00004W_1606716009120_2_TH.json', '6437_A1LCAIHDH00019R_1607648887752_2_TH.json', '1015_A2LEBJJDE000592_1607585626243_2_TH.json', '9338_A2LEBJJDE00101D_1606737958652_2_TH.json', '4002_A2LEBJJDE00137N_1606802482943_2_TH.json', '4970_A1LCAIHDH00010K_1607846268626_2_TH.json', '2983_A2LEBJJDE001261_1606300498759_2_TH.json', '9244_A2LEBJJDE00154W_1606130533973_2_TH.json', '0013_A2LEBJJDE00060O_1606386153203_2_TH.json', '0616_A2LEBJJDE00004W_1606526288638_2_TH.json', '2327_A2LEBJJDE00091Y_1608435419149_2_TH.json', '4810_A2LEBJJDE00177Y_1607588541662_2_TH.json', '3216_A1LCAIHDH00006J_1608354456056_2_TH.json', '3046_A2LEBJJDE00089J_1605954095659_2_TH.json', '8781_A2LEBJJDE000906_1606542499760_2_TH.json', '3977_A2LEBJJDE00039E_1606217018044_2_TH.json', '3006_A1LCAIHDH00007C_1607836730338_2_TH.json', '4810_A2LEBJJDE00177Y_1606091425903_2_TH.json', '2800_A2LEBJJDE00036Z_1606218737994_2_TH.json', '8297_A2LEBJJDE001076_1606879619461_2_TH.json', '4370_A1LCAIHDH00005Q_1607913254561_2_TH.json', '4810_A2LEBJJDE00177Y_1607586470987_2_TH.json', '3006_A1LCAIHDH00007C_1607755921199_2_TH.json', '1069_A2LEBJJDE00094D_1607579389669_2_TH.json', '1069_A2LEBJJDE00094D_1607146090052_2_TH.json', '4002_A2LEBJJDE00137N_1605689161885_2_TH.json', '9578_A2LEBJJDE00105K_1606107689998_2_TH.json', '3755_A2LEBJJDE001857_1608270080564_2_TH.json', '3977_A2LCBJCAC000073_1607137542160_2_TH.json', '7229_A2LEBJJDE00142H_1606737623239_2_TH.json', '5030_A2LEBJJDE00186Z_1606740693831_2_TH.json', '5849_A2LEBJJDE00015J_1605946839119_2_TH.json', '7851_A2LEBJJDE00074P_1606653729457_2_TH.json', '3006_A1LCAIHDH00007C_1608027838595_2_TH.json', '2326_A2LEBJJDE00037S_1605941787175_2_TH.json', '5619_A2LEBJJDE00002B_1606376544827_2_TH.json', '1069_A2LEBJJDE00094D_1606618342720_2_TH.json', '7366_A2LEBJJDE00088Q_1606891895638_2_TH.json', '7418_A2LEBJJDE00080C_1606115733381_2_TH.json', '7670_A1LCAIHDH000126_1609206599211_2_TH.json', '3065_A2LEBJJDE00103Y_1607856466166_2_TH.json', '4002_A2LEBJJDE00137N_1606293154651_2_TH.json', '7851_A2LEBJJDE00074P_1606538614276_2_TH.json', '4810_A2LEBJJDE00177Y_1607586177144_2_TH.json', '1069_A2LEBJJDE00094D_1607235450085_2_TH.json', '2278_A2LEBJJDE00181Z_1606655853922_2_TH.json', '5415_A2LEBJJDE00027Y_1606618198895_2_TH.json', '6775_A2LEBJJDE00022Y_1607653856882_2_TH.json', '2469_A2LEBJJDE00019Q_1606269299289_2_TH.json', '8606_A2LEBJJDE00155P_1606460620428_2_TH.json', '3269_A2LEBJJDE00096Y_1608250196660_2_TH.json', '5415_A2LEBJJDE00027Y_1606297168600_2_TH.json', '7851_A2LEBJJDE00074P_1605946961225_2_TH.json', '6570_A2LEBJJDE001675_1607839286501_2_TH.json', '7126_A2LEBJJDE001534_1606539360321_2_TH.json', '2762_A2LEBJJDE000498_1605940964047_2_TH.json', '4015_A2LEBJJDE00150P_1606702995620_2_TH.json', '7126_A2LEBJJDE001534_1606198427544_2_TH.json', '8297_A2LEBJJDE001076_1607612836203_2_TH.json', '0770_A2LEBJJDE000865_1606387121550_2_TH.json', '7297_A2LEBJJDE00151I_1606358447179_2_TH.json', '3085_A2LEBJJDE00128M_1606032253793_2_TH.json', '5939_A2LEBJJDE00129F_1606383118643_2_TH.json', '1071_A2LEBJJDE00173R_1606614995342_2_TH.json', '1221_A1LCAIHDH00009X_1609818103876_2_TH.json', '3216_A1LCAIHDH00006J_1608861197502_2_TH.json', '4970_A1LCAIHDH00010K_1608191545205_2_TH.json', '1534_A2LEBJJDE00133G_1607842998237_2_TH.json', '7698_A2LEBJJDE00165J_1606464253242_2_TH.json', '5438_A2LEBJJDE00159W_1606267238853_2_TH.json', '5939_A2LEBJJDE00129F_1606012120949_2_TH.json', '3065_A2LEBJJDE00103Y_1605945366127_2_TH.json', '9202_A2LEBJJDE00082X_1606647609850_2_TH.json', '4162_A2LEBJJDE00013X_1607651684739_2_TH.json', '9202_A2LEBJJDE00082X_1606486120919_2_TH.json', '3269_A2LEBJJDE00096Y_1608081816144_2_TH.json', '8224_A2LEBJJDE000448_1606192548219_2_TH.json', '1069_A2LEBJJDE00094D_1607579872729_2_TH.json', '1981_A2LEBJJDE001493_1606634009469_2_TH.json', '8297_A2LEBJJDE001076_1608268706577_2_TH.json', '9244_A2LEBJJDE00154W_1606130652162_2_TH.json', '8606_A2LEBJJDE00155P_1606460387230_2_TH.json', '3263_A1LCAIHDH00014R_1608192263177_2_TH.json', '9527_A2LEBJJDE00110E_1606731201817_2_TH.json', '7851_A2LEBJJDE00074P_1606528717339_2_TH.json', '9447_A2LEBJJDE001951_1606304622162_2_TH.json', '0770_A2LEBJJDE000865_1607508933367_2_TH.json', '3755_A2LEBJJDE001857_1608272806836_2_TH.json', '9244_A2LEBJJDE00154W_1606796240318_2_TH.json', '4133_A1LCAIHDH000035_1607676365508_2_TH.json', '2278_A2LEBJJDE00181Z_1606655417392_2_TH.json', '9874_A2LEBJJDE00123M_1606730321151_2_TH.json', '3365_A2LEBJJDE00106D_1608625478515_2_TH.json', '5438_A2LEBJJDE00159W_1606267086396_2_TH.json', '2278_A2LEBJJDE00181Z_1606655429233_2_TH.json', '7698_A2LEBJJDE00165J_1606465308110_2_TH.json', '3588_A2LEBJJDE00108Y_1606299468176_2_TH.json', '2996_A2LEBJJDE00083Q_1606013711452_2_TH.json', '5009_A1LCAIHDH00020E_1608269028647_2_TH.json', '0770_A2LEBJJDE000865_1607335401960_2_TH.json', '8802_A2LEBJJDE00174K_1606866854621_2_TH.json', '5436_A2LEBJJDE00098K_1606194517279_2_TH.json', '7851_A2LEBJJDE00074P_1607178562106_2_TH.json', '4267_A1LCAIHDH00016D_1607682973491_2_TH.json', '9244_A2LEBJJDE00154W_1607590636563_2_TH.json', '3006_A1LCAIHDH00007C_1608001067463_2_TH.json', '1080_A2LEBJJDE00092R_1606014953381_2_TH.json', '3365_A2LEBJJDE00106D_1606709801563_2_TH.json', '5569_A2LEBJJDE001211_1606698477751_2_TH.json', '3216_A1LCAIHDH00006J_1608427666541_2_TH.json', '3977_A2LCBJCAC000073_1607311582956_2_TH.json', '0663_A2LEBJJDE001716_1606367405148_2_TH.json', '3216_A1LCAIHDH00006J_1607852612213_2_TH.json', '4015_A2LEBJJDE00150P_1606698559968_2_TH.json', '8212_A2LEBJJDE00070I_1607659136163_2_TH.json', '0770_A2LEBJJDE000865_1606990357239_2_TH.json', '2820_A2LEBJJDE00179K_1607147223839_2_TH.json', '6570_A2LEBJJDE001675_1607772834704_2_TH.json', '7698_A2LEBJJDE00165J_1606465088842_2_TH.json', '3588_A2LEBJJDE00108Y_1605940874915_2_TH.json', '6570_A2LEBJJDE001675_1607852444359_2_TH.json', '6570_A2LEBJJDE001675_1607772543941_2_TH.json', '9414_A2LEBJJDE00033L_1608456786680_2_TH.json', '3006_A1LCAIHDH00007C_1607743750003_2_TH.json', '6570_A2LEBJJDE001675_1607399502738_2_TH.json', '4133_A1LCAIHDH000035_1607674993680_2_TH.json', '0425_A2LEBJJDE00079P_1607745302701_2_TH.json', '5619_A2LEBJJDE00002B_1606301868032_2_TH.json', '6825_A1LCAIHDH00018Y_1608354494883_2_TH.json', '9578_A2LEBJJDE00105K_1606377565067_2_TH.json', '4795_A2LEBJJDE00113S_1605947349873_2_TH.json', '9316_A2LEBJJDE00034E_1607589447091_2_TH.json', '9414_A2LEBJJDE00033L_1608103886549_2_TH.json', '8297_A2LEBJJDE001076_1606986675843_2_TH.json', '1221_A1LCAIHDH00009X_1607732871026_2_TH.json', '4370_A1LCAIHDH00005Q_1608875760731_2_TH.json', '5030_A2LEBJJDE00182S_1606733855852_2_TH.json', '9414_A2LEBJJDE00033L_1607739017700_2_TH.json', '2326_A2LEBJJDE00037S_1605860814206_2_TH.json', '1981_A2LEBJJDE001493_1606529971784_2_TH.json', '0013_A2LEBJJDE00060O_1605943787774_2_TH.json', '4478_A2LEBJJDE00052G_1606383290165_2_TH.json', '4919_A2LEBJJDE00064V_1605758778722_2_TH.json', '7126_A2LEBJJDE001534_1606718622638_2_TH.json', '4478_A2LEBJJDE00052G_1606210065152_2_TH.json', '3263_A1LCAIHDH00014R_1608362967395_2_TH.json', '8146_A2LEBJJDE00148A_1606048055965_2_TH.json', '1459_A2LEBJJDE00025D_1606555774862_2_TH.json', '9527_A2LEBJJDE00110E_1606732870059_2_TH.json', '2959_A2LEBJJDE00097R_1606106990049_2_TH.json', '8212_A2LEBJJDE00070I_1606725879290_2_TH.json', '3977_A2LEBJJDE00039E_1606216794111_2_TH.json', '8297_A2LEBJJDE001076_1607613256163_2_TH.json', '0425_A2LEBJJDE00079P_1606638071573_2_TH.json', '5438_A2LEBJJDE00159W_1606266981207_2_TH.json', '2278_A2LEBJJDE00181Z_1606652897626_2_TH.json', '7978_A2LEBJJDE00071B_1606552382771_2_TH.json', '6078_A2LEBJJDE00160J_1606098393934_2_TH.json', '4795_A2LEBJJDE00113S_1606899557899_2_TH.json', '5415_A2LEBJJDE00027Y_1606560421164_2_TH.json', '1237_A2LEBJJDE001584_1606114599479_2_TH.json', '3065_A2LEBJJDE00103Y_1606446325363_2_TH.json', '0770_A2LEBJJDE000865_1606632858500_2_TH.json', '4370_A1LCAIHDH00005Q_1607908058594_2_TH.json', '7366_A2LEBJJDE00088Q_1607648733374_2_TH.json', '4015_A2LEBJJDE00150P_1606282408270_2_TH.json', '2709_A2LEBJJDE000216_1606121890866_2_TH.json', '5438_A2LEBJJDE00159W_1606266909826_2_TH.json', '3006_A1LCAIHDH00007C_1607759300331_2_TH.json', '6718_A2LEBJJDE000451_1606364246188_2_TH.json', '5305_A2LEBJJDE00122T_1606551545074_2_TH.json', '7851_A2LEBJJDE00074P_1606627995201_2_TH.json', '9578_A2LEBJJDE00105K_1609121297814_2_TH.json', '8606_A2LEBJJDE00155P_1606460898795_2_TH.json', '3006_A1LCAIHDH00007C_1608339809108_2_TH.json', '4478_A2LEBJJDE00052G_1606209612529_2_TH.json', '7851_A2LEBJJDE00074P_1606553866101_2_TH.json', '9338_A2LEBJJDE00101D_1606738170157_2_TH.json', '3977_A2LEBJJDE00161C_1606700908851_2_TH.json', '1069_A2LEBJJDE00094D_1607241934845_2_TH.json', '3216_A1LCAIHDH00006J_1607856256238_2_TH.json', '1145_A2LEBJJDE00119L_1606026287710_2_TH.json', '3937_A2LEBJJDE00046T_1607646937267_2_TH.json', '1963_A2LCBJCAC00003V_1608164555137_2_TH.json', '5030_A2LEBJJDE00182S_1606743741157_2_TH.json', '8802_A2LEBJJDE00174K_1608698104530_2_TH.json', '1145_A2LEBJJDE00119L_1606743621823_2_TH.json', '0663_A2LEBJJDE001716_1606272119429_2_TH.json', '4970_A1LCAIHDH00010K_1608021750350_2_TH.json', '4370_A1LCAIHDH00005Q_1608524587901_2_TH.json', '0715_A2LEBJJDE00175D_1606194139653_2_TH.json', '5438_A2LEBJJDE00159W_1606267359624_2_TH.json', '5619_A2LEBJJDE00002B_1607919949838_2_TH.json', '4370_A1LCAIHDH00005Q_1608005644870_2_TH.json', '9338_A2LEBJJDE00101D_1606738361346_2_TH.json', '3365_A2LEBJJDE00106D_1606445629567_2_TH.json', '8896_A2LEBJJDE001807_1606456698146_2_TH.json', '8281_A2LEBJJDE00055U_1606643488289_2_TH.json', '2326_A2LEBJJDE001998_1607165179821_2_TH.json', '1069_A2LEBJJDE00094D_1607579277867_2_TH.json', '7698_A2LEBJJDE00165J_1606460444782_2_TH.json', '1963_A2LCBJCAC00003V_1608517916659_2_TH.json', '3977_A2LCBJCAC000073_1607311890237_2_TH.json', '5438_A2LEBJJDE00159W_1606266725632_2_TH.json', '2326_A2LEBJJDE001998_1606545062146_2_TH.json', '5619_A2LEBJJDE00002B_1605953811949_2_TH.json', '8000_A2LEBJJDE000956_1606713366506_2_TH.json', '6367_A2LEBJJDE00038L_1606616166355_2_TH.json', '3065_A2LEBJJDE00103Y_1606627829636_2_TH.json', '5030_A2LEBJJDE00182S_1606888070841_2_TH.json', '4133_A1LCAIHDH000035_1607675304334_2_TH.json', '3006_A1LCAIHDH00007C_1608288849904_2_TH.json', '1221_A1LCAIHDH00009X_1607662374475_2_TH.json', '1743_A2LEBJJDE00031Z_1606640132144_2_TH.json', '0425_A2LEBJJDE00079P_1606613870579_2_TH.json', '4307_A2LEBJJDE000683_1606659342158_2_TH.json', '2278_A2LEBJJDE00181Z_1606655759227_2_TH.json', '3006_A1LCAIHDH00007C_1607644598291_2_TH.json', '0616_A2LEBJJDE00004W_1606630006599_2_TH.json', '0425_A2LEBJJDE00079P_1606717321240_2_TH.json', '0715_A2LEBJJDE00175D_1607489135094_2_TH.json', '1407_A2LEBJJDE001258_1606123990286_2_TH.json', '4307_A2LEBJJDE000683_1606733769329_2_TH.json', '4370_A1LCAIHDH00005Q_1607935641706_2_TH.json', '8802_A2LEBJJDE00174K_1608700452035_2_TH.json', '5569_A2LEBJJDE001211_1606470032149_2_TH.json', '4370_A1LCAIHDH00005Q_1607994022090_2_TH.json', '2479_A2LEBJJDE00147H_1607649866541_2_TH.json', '5214_A2LEBJJDE001399_1607590896255_2_TH.json', '5619_A2LEBJJDE00002B_1606703003458_2_TH.json', '3269_A2LEBJJDE00096Y_1608089154426_2_TH.json', '4970_A1LCAIHDH00010K_1608199637630_2_TH.json', '2720_A2LEBJJDE000401_1606641352529_2_TH.json', '6981_A2LEBJJDE00075I_1606447264077_2_TH.json', '1069_A2LEBJJDE00094D_1607260775335_2_TH.json', '8224_A2LEBJJDE000448_1607392815703_2_TH.json', '3858_A2LEBJJDE00076B_1607866581629_2_TH.json', '8606_A2LEBJJDE00155P_1606460689725_2_TH.json', '3365_A2LEBJJDE00106D_1606736254465_2_TH.json', '0013_A2LEBJJDE00060O_1607142517669_2_TH.json', '3085_A2LEBJJDE00128M_1606192622849_2_TH.json', '2720_A2LEBJJDE000401_1607751114069_2_TH.json', '5569_A2LEBJJDE001211_1606376918197_2_TH.json', '2720_A2LEBJJDE000401_1606449631055_2_TH.json', '4370_A1LCAIHDH00005Q_1607683660259_2_TH.json', '3977_A2LCBJCAC000073_1608010262992_2_TH.json', '0643_A2LEBJJDE00048F_1606711393492_2_TH.json', '1407_A2LEBJJDE001258_1606378939107_2_TH.json', '1963_A2LCBJCAC00003V_1608180861027_2_TH.json', '8896_A2LEBJJDE001807_1607654065882_2_TH.json', '3755_A2LEBJJDE001857_1607579387223_2_TH.json', '9578_A2LEBJJDE00105K_1607845070209_2_TH.json', '8297_A2LEBJJDE001076_1608276481461_2_TH.json', '2762_A2LEBJJDE000498_1606103045908_2_TH.json', '4478_A2LEBJJDE00052G_1606222370495_2_TH.json', '5214_A2LEBJJDE001399_1608112297196_2_TH.json', '7670_A1LCAIHDH000126_1608961027366_2_TH.json', '7418_A2LEBJJDE00080C_1606449102493_2_TH.json', '4370_A1LCAIHDH00005Q_1608191253692_2_TH.json', '4717_A2LEBJJDE001208_1605948054849_2_TH.json', '3755_A2LEBJJDE001857_1608270022226_2_TH.json', '3263_A1LCAIHDH00014R_1608267742550_2_TH.json', '0425_A2LEBJJDE00079P_1607747513928_2_TH.json', '6078_A2LEBJJDE00093K_1606614004619_2_TH.json', '1080_A2LEBJJDE00092R_1607044953509_2_TH.json', '3977_A2LCBJCAC000073_1607311858232_2_TH.json', '1983_A2LEBJJDE00188L_1606370221670_2_TH.json', '5619_A2LEBJJDE00002B_1606559538210_2_TH.json', '9578_A2LEBJJDE00105K_1606535336127_2_TH.json', '2278_A2LEBJJDE00181Z_1606655520884_2_TH.json', '4970_A1LCAIHDH00010K_1608353493886_2_TH.json', '8802_A2LEBJJDE00174K_1608700177123_2_TH.json', '2950_A2LEBJJDE00084J_1606876542140_2_TH.json', '3006_A1LCAIHDH00007C_1607762668204_2_TH.json', '6440_A2LEBJJDE001352_1608615960362_2_TH.json', '7851_A2LEBJJDE00074P_1606134356707_2_TH.json', '2278_A2LEBJJDE00181Z_1606655741971_2_TH.json', '1080_A2LEBJJDE00092R_1606356335083_2_TH.json', '8606_A2LEBJJDE00155P_1606461168291_2_TH.json', '2278_A2LEBJJDE00181Z_1606655607886_2_TH.json', '5436_A2LEBJJDE00098K_1607233683079_2_TH.json', '3046_A2LEBJJDE00089J_1606294420232_2_TH.json', '6570_A2LEBJJDE001675_1607498847322_2_TH.json', '7985_A1LCAIHDH00011D_1607860240190_2_TH.json', '5438_A2LEBJJDE00159W_1606266624638_2_TH.json', '1963_A2LCBJCAC00003V_1608179478232_2_TH.json', '8606_A2LEBJJDE00155P_1606461522784_2_TH.json', '7851_A2LEBJJDE00074P_1607499776007_2_TH.json', '0770_A2LEBJJDE000865_1607171495642_2_TH.json', '8297_A2LEBJJDE001076_1607596628119_2_TH.json', '0616_A2LEBJJDE00004W_1606538123209_2_TH.json', '9447_A2LEBJJDE001951_1606130425553_2_TH.json', '4002_A2LEBJJDE00137N_1606443520286_2_TH.json', '7978_A2LEBJJDE00071B_1606619701611_2_TH.json', '4370_A1LCAIHDH00005Q_1607738654128_2_TH.json', '1981_A2LEBJJDE001493_1606532937413_2_TH.json', '5305_A2LEBJJDE00122T_1606553912107_2_TH.json', '9338_A2LEBJJDE00101D_1606539930143_2_TH.json', '7126_A2LEBJJDE001534_1606719168171_2_TH.json', '1080_A2LEBJJDE00092R_1607743004571_2_TH.json', '0770_A2LEBJJDE000865_1609650416719_2_TH.json', '3977_A2LEBJJDE00161C_1606700894304_2_TH.json', '8896_A2LEBJJDE001807_1606623813599_2_TH.json', '4717_A2LEBJJDE001208_1606370344053_2_TH.json', '8896_A2LEBJJDE001807_1606545096199_2_TH.json', '5415_A2LEBJJDE00032S_1606709990906_2_TH.json', '8896_A2LEBJJDE001807_1606962985157_2_TH.json', '8224_A2LEBJJDE000448_1606539362032_2_TH.json', '6775_A2LEBJJDE00022Y_1606538316908_2_TH.json', '7126_A2LEBJJDE001534_1606284467529_2_TH.json', '5030_A2LEBJJDE00186Z_1606293098197_2_TH.json', '3006_A1LCAIHDH00007C_1607759738562_2_TH.json', '8224_A2LEBJJDE000448_1606292336784_2_TH.json', '2996_A2LEBJJDE00083Q_1606028248945_2_TH.json', '2996_A2LEBJJDE00083Q_1606035464546_2_TH.json', '3065_A2LEBJJDE00103Y_1607856965713_2_TH.json', '8606_A2LEBJJDE00155P_1606461086618_2_TH.json', '4370_A1LCAIHDH00005Q_1607841858883_2_TH.json', '9447_A2LEBJJDE001951_1606209170559_2_TH.json', '1534_A2LEBJJDE00133G_1606983295680_2_TH.json', '5438_A2LEBJJDE00159W_1606266577279_2_TH.json', '5030_A2LEBJJDE00186Z_1606293377387_2_TH.json', '3263_A1LCAIHDH00014R_1607733533729_2_TH.json', '4370_A1LCAIHDH00005Q_1607822857291_2_TH.json', '5030_A2LEBJJDE00186Z_1606292896785_2_TH.json', '5619_A2LEBJJDE00002B_1607336309453_2_TH.json', '7851_A2LEBJJDE00074P_1607174431886_2_TH.json', '0663_A2LEBJJDE001716_1606302929353_2_TH.json', '4162_A2LEBJJDE00013X_1607649398445_2_TH.json', '1069_A2LEBJJDE00094D_1607579648166_2_TH.json', '5415_A2LEBJJDE00032S_1606735760642_2_TH.json', '6775_A2LEBJJDE00022Y_1606206960570_2_TH.json', '1221_A1LCAIHDH00009X_1608620396670_2_TH.json', '1069_A2LEBJJDE00094D_1606463722268_2_TH.json', '8999_A2LEBJJDE00001I_1606540516280_2_TH.json', '4307_A2LEBJJDE000683_1606660099780_2_TH.json', '3269_A2LEBJJDE00096Y_1608597270971_2_TH.json', '7988_A2LEBJJDE000357_1604810283861_2_TH.json', '4970_A1LCAIHDH00010K_1608345760894_2_TH.json', '3065_A2LEBJJDE00103Y_1606981543684_2_TH.json', '3977_A2LCBJCAC000073_1607311473476_2_TH.json', '7851_A2LEBJJDE00074P_1606644505332_2_TH.json', '5030_A2LEBJJDE00186Z_1606294946830_2_TH.json', '9527_A2LEBJJDE00110E_1606744872559_2_TH.json', '4002_A2LEBJJDE00137N_1606285675328_2_TH.json', '8281_A2LEBJJDE00055U_1606906813270_2_TH.json', '2996_A2LEBJJDE00083Q_1606376750050_2_TH.json', '4795_A2LEBJJDE00113S_1606467657012_2_TH.json', '3977_A2LCBJCAC000073_1607326075037_2_TH.json', '5305_A2LEBJJDE00122T_1606196198833_2_TH.json', '0715_A2LEBJJDE00175D_1607495295261_2_TH.json', '2278_A2LEBJJDE00181Z_1606655558458_2_TH.json', '3263_A1LCAIHDH00014R_1608253441839_2_TH.json', '3006_A1LCAIHDH00007C_1607853820860_2_TH.json', '4795_A2LEBJJDE00113S_1606463380698_2_TH.json', '4015_A2LEBJJDE00150P_1606701804010_2_TH.json', '3006_A1LCAIHDH00007C_1607852362820_2_TH.json', '0643_A2LEBJJDE00048F_1606712865386_2_TH.json', '7701_A1LCAIHDH000085_1608267015169_2_TH.json', '1069_A2LEBJJDE00094D_1606903904537_2_TH.json', '4970_A1LCAIHDH00010K_1608192903498_2_TH.json', '6825_A1LCAIHDH00018Y_1607656877080_2_TH.json', '6825_A1LCAIHDH00018Y_1607655732920_2_TH.json', '5305_A2LEBJJDE00122T_1606193999216_2_TH.json', '3755_A2LEBJJDE001857_1608270204373_2_TH.json', '8896_A2LEBJJDE001807_1607653693256_2_TH.json', '5030_A2LEBJJDE00182S_1606743707414_2_TH.json', '0617_A2LEBJJDE000815_1606613819548_2_TH.json', '1221_A1LCAIHDH00009X_1607663692069_2_TH.json', '5305_A2LEBJJDE00122T_1606551077830_2_TH.json', '8606_A2LEBJJDE00155P_1606460661509_2_TH.json', '7851_A2LEBJJDE00074P_1606133797960_2_TH.json', '6570_A2LEBJJDE001675_1607498776192_2_TH.json', '9527_A2LEBJJDE00110E_1606743914804_2_TH.json', '1963_A2LCBJCAC00003V_1607385645715_2_TH.json', '5305_A2LEBJJDE00122T_1606552607140_2_TH.json', '2996_A2LEBJJDE00083Q_1606631683599_2_TH.json', '3216_A1LCAIHDH00006J_1607856071948_2_TH.json', '7698_A2LEBJJDE00165J_1606215528075_2_TH.json', '2326_A2LEBJJDE001998_1607400799408_2_TH.json', '5415_A2LEBJJDE00032S_1606296623456_2_TH.json', '9414_A2LEBJJDE00033L_1608255563815_2_TH.json', '7366_A2LEBJJDE00143A_1604747305659_2_TH.json', '7418_A2LEBJJDE000724_1605946111762_2_TH.json', '8606_A2LEBJJDE00155P_1606460207284_2_TH.json', '7851_A2LEBJJDE00074P_1607170172083_2_TH.json', '1983_A2LEBJJDE00188L_1606370150925_2_TH.json', '7297_A2LEBJJDE00151I_1606701309614_2_TH.json', '0425_A2LEBJJDE00079P_1605793859554_2_TH.json', '2950_A2LEBJJDE00084J_1605953596626_2_TH.json', '3269_A2LEBJJDE00096Y_1608082917477_2_TH.json', '4015_A2LEBJJDE00150P_1606700580199_2_TH.json', '7851_A2LEBJJDE00074P_1606211803314_2_TH.json', '9527_A2LEBJJDE00110E_1606531666292_2_TH.json', '2327_A2LEBJJDE00091Y_1608517347389_2_TH.json', '0425_A2LEBJJDE00079P_1606552163188_2_TH.json', '0617_A2LEBJJDE000815_1606613953133_2_TH.json', '6078_A2LEBJJDE00093K_1606526416544_2_TH.json', '3006_A1LCAIHDH00007C_1607845246955_2_TH.json', '2023_A2LEBJJDE00018X_1607136430461_2_TH.json', '3832_A2LEBJJDE00191T_1606555267211_2_TH.json', '2585_A2LEBJJDE001302_1608083287632_2_TH.json', '7670_A1LCAIHDH000126_1607657351010_2_TH.json', '2278_A2LEBJJDE00181Z_1606655664072_2_TH.json', '3977_A2LEBJJDE00039E_1606216522296_2_TH.json', '7698_A2LEBJJDE00165J_1606459880485_2_TH.json', '3977_A2LEBJJDE00039E_1606216763112_2_TH.json', '0013_A2LEBJJDE00060O_1607142499980_2_TH.json', '2278_A2LEBJJDE00181Z_1606655897077_2_TH.json', '7985_A1LCAIHDH00011D_1608109775458_2_TH.json', '0013_A2LEBJJDE00060O_1606550900393_2_TH.json', '8606_A2LEBJJDE00155P_1606460758977_2_TH.json', '5438_A2LEBJJDE00159W_1606267015582_2_TH.json', '1221_A1LCAIHDH00009X_1608342544751_2_TH.json', '8212_A2LEBJJDE00070I_1607685986311_2_TH.json', '3065_A2LEBJJDE00103Y_1606646415714_2_TH.json', '4795_A2LEBJJDE00113S_1606021300416_2_TH.json', '2996_A2LEBJJDE00083Q_1606270739912_2_TH.json', '5030_A2LEBJJDE00186Z_1606740035167_2_TH.json', '3006_A1LCAIHDH00007C_1607747904349_2_TH.json', '4370_A1LCAIHDH00005Q_1608028605081_2_TH.json', '2278_A2LEBJJDE00181Z_1606655545430_2_TH.json', '7851_A2LEBJJDE00074P_1606626851642_2_TH.json', '3755_A2LEBJJDE001857_1607517075335_2_TH.json', '2950_A2LEBJJDE00084J_1606877685724_2_TH.json', '4070_A2LEBJJDE000266_1606634662016_2_TH.json', '0643_A2LEBJJDE00048F_1606711378217_2_TH.json', '2326_A2LEBJJDE00037S_1605945885738_2_TH.json', '8606_A2LEBJJDE00155P_1606461065459_2_TH.json', '7418_A2LEBJJDE00080C_1606267820724_2_TH.json', '0425_A2LEBJJDE00079P_1606611577885_2_TH.json', '5009_A1LCAIHDH00020E_1608289599794_2_TH.json', '8281_A2LEBJJDE00055U_1606298540128_2_TH.json', '0616_A2LEBJJDE00004W_1606626618637_2_TH.json', '2762_A2LEBJJDE000498_1607419158060_2_TH.json', '0770_A2LEBJJDE000865_1607236479272_2_TH.json', '4970_A1LCAIHDH00010K_1608099396190_2_TH.json', '4478_A2LEBJJDE00052G_1606728237712_2_TH.json', '9578_A2LEBJJDE00105K_1607839720058_2_TH.json', '6825_A1LCAIHDH00018Y_1607664049668_2_TH.json', '3263_A1LCAIHDH00014R_1607741909225_2_TH.json', '6078_A2LEBJJDE00160J_1606098950418_2_TH.json', '1071_A2LEBJJDE00173R_1606615040316_2_TH.json', '2585_A2LEBJJDE001302_1607129573864_2_TH.json', '3977_A2LEBJJDE00039E_1606216647543_2_TH.json', '7978_A2LEBJJDE00071B_1606619500766_2_TH.json', '8297_A2LEBJJDE001076_1608962787510_2_TH.json', '7978_A2LEBJJDE00071B_1606645462998_2_TH.json', '3085_A2LEBJJDE00128M_1606645414330_2_TH.json', '1719_A2LEBJJDE00138G_1607406523548_2_TH.json', '3977_A2LCBJCAC000073_1608001309528_2_TH.json', '5569_A2LEBJJDE001211_1606447626174_2_TH.json', '9578_A2LEBJJDE00105K_1608111895831_2_TH.json', '8802_A2LEBJJDE00174K_1608699918763_2_TH.json', '5619_A2LEBJJDE00002B_1606722368679_2_TH.json', '1981_A2LEBJJDE001493_1607254453752_2_TH.json', '8146_A2LEBJJDE00148A_1607650350817_2_TH.json', '5569_A2LEBJJDE001211_1606709070784_2_TH.json', '4307_A2LEBJJDE000683_1606654157458_2_TH.json', '7698_A2LEBJJDE00165J_1606609327066_2_TH.json', '5415_A2LEBJJDE00027Y_1606622474439_2_TH.json', '5438_A2LEBJJDE00159W_1606267103891_2_TH.json', '8337_A2LEBJJDE00109R_1606119715719_2_TH.json', '0770_A2LEBJJDE000865_1607504594418_2_TH.json', '1981_A2LEBJJDE001493_1606376891358_2_TH.json', '1983_A2LEBJJDE00188L_1606370136266_2_TH.json', '8212_A2LEBJJDE00070I_1607659357308_2_TH.json', '8802_A2LEBJJDE00174K_1608703250954_2_TH.json', '2278_A2LEBJJDE00181Z_1606655359883_2_TH.json', '2533_A2LEBJJDE000034_1608946790122_2_TH.json', '3006_A1LCAIHDH00007C_1608344935081_2_TH.json', '8802_A2LEBJJDE00174K_1608699140776_2_TH.json', '3085_A2LEBJJDE00128M_1606619882335_2_TH.json', '8606_A2LEBJJDE00155P_1606461322570_2_TH.json', '0715_A2LEBJJDE00175D_1608093008046_2_TH.json', '9578_A2LEBJJDE00105K_1606442798962_2_TH.json', '8896_A2LEBJJDE001807_1606119602020_2_TH.json', '4307_A2LEBJJDE000683_1606654390601_2_TH.json', '4267_A1LCAIHDH00016D_1607854439118_2_TH.json', '2522_A2LEBJJDE00014Q_1606300685660_2_TH.json', '1237_A2LEBJJDE001584_1606114286043_2_TH.json', '1221_A1LCAIHDH00009X_1608443090847_2_TH.json', '4970_A1LCAIHDH00010K_1608627694179_2_TH.json', '4307_A2LEBJJDE000683_1606659753305_2_TH.json', '7418_A2LEBJJDE00080C_1606115962966_2_TH.json', '5305_A2LEBJJDE00122T_1606197545830_2_TH.json', '2585_A2LEBJJDE001302_1606279922692_2_TH.json', '9527_A2LEBJJDE00110E_1606733122767_2_TH.json', '9414_A2LEBJJDE00033L_1608451314835_2_TH.json', '6570_A2LEBJJDE001675_1607320456644_2_TH.json', '2326_A2LEBJJDE001998_1607326859180_2_TH.json', '0556_A2LEBJJDE00041T_1606642579459_2_TH.json', '7229_A2LEBJJDE00142H_1606560531960_2_TH.json', '7366_A2LEBJJDE00088Q_1607648474636_2_TH.json', '1407_A2LEBJJDE001258_1606378724959_2_TH.json', '3006_A1LCAIHDH00007C_1607674316097_2_TH.json', '7418_A2LEBJJDE000724_1606032336893_2_TH.json', '3677_A2LEBJJDE00087X_1606532724138_2_TH.json', '2326_A2LEBJJDE001998_1607237801673_2_TH.json', '3977_A2LEBJJDE00039E_1606216870543_2_TH.json', '2326_A2LEBJJDE00037S_1607589008858_2_TH.json', '1195_A2LEBJJDE00197M_1606803546985_2_TH.json', '8100_A2LEBJJDE00010J_1606212685193_2_TH.json', '2950_A2LEBJJDE00084J_1606278496420_2_TH.json', '7701_A1LCAIHDH000085_1607674761452_2_TH.json', '1963_A2LCBJCAC00003V_1608164815382_2_TH.json', '3275_A2LEBJJDE001766_1606024982870_2_TH.json', '1221_A1LCAIHDH00009X_1608364272281_2_TH.json', '1221_A1LCAIHDH00009X_1608515899694_2_TH.json', '7297_A2LEBJJDE00151I_1606702377336_2_TH.json', '6825_A1LCAIHDH00018Y_1607676042806_2_TH.json', '6570_A2LEBJJDE001675_1607566910607_2_TH.json', '8281_A2LEBJJDE00055U_1606732733760_2_TH.json', '4810_A2LEBJJDE00177Y_1607588430262_2_TH.json', '7126_A2LEBJJDE001534_1606636659357_2_TH.json', '2996_A2LEBJJDE00083Q_1605946474119_2_TH.json', '4810_A2LEBJJDE00177Y_1606091155983_2_TH.json', '6570_A2LEBJJDE001675_1607393146947_2_TH.json', '5438_A2LEBJJDE00159W_1606267668256_2_TH.json', '0335_A2LEBJJDE000542_1607053443719_2_TH.json', '3275_A2LEBJJDE001766_1607759887991_2_TH.json', '1069_A2LEBJJDE00094D_1607138507507_2_TH.json', '4307_A2LEBJJDE000683_1606733658051_2_TH.json', '0643_A2LEBJJDE00048F_1606904424289_2_TH.json', '9527_A2LEBJJDE00110E_1606741400034_2_TH.json', '0663_A2LEBJJDE001716_1606454573057_2_TH.json', '0013_A2LEBJJDE00060O_1606706953049_2_TH.json', '3977_A2LEBJJDE00039E_1606216966400_2_TH.json', '6570_A2LEBJJDE001675_1607852521640_2_TH.json', '2996_A2LEBJJDE00083Q_1606614014578_2_TH.json', '1080_A2LEBJJDE00092R_1606009599236_2_TH.json', '1981_A2LEBJJDE001493_1606710889287_2_TH.json', '0013_A2LEBJJDE00060O_1605839548962_2_TH.json', '0770_A2LEBJJDE000865_1606626693807_2_TH.json', '9578_A2LEBJJDE00105K_1608446602025_2_TH.json', '3216_A1LCAIHDH00006J_1607657494647_2_TH.json', '0663_A2LEBJJDE001716_1606469949339_2_TH.json', '3065_A2LEBJJDE00103Y_1606617876763_2_TH.json', '7851_A2LEBJJDE00074P_1606644957539_2_TH.json', '4557_A2LEBJJDE00043F_1606373947183_2_TH.json', '6570_A2LEBJJDE001675_1607316914820_2_TH.json', '8000_A2LEBJJDE000956_1607762026280_2_TH.json', '6078_A2LEBJJDE00093K_1606611580539_2_TH.json', '7851_A2LEBJJDE00074P_1606538076191_2_TH.json', '3046_A2LEBJJDE00089J_1606447153896_2_TH.json', '0425_A2LEBJJDE00079P_1607747262770_2_TH.json', '5619_A2LEBJJDE00002B_1606357761511_2_TH.json', '7851_A2LEBJJDE00074P_1608359740234_2_TH.json', '4133_A1LCAIHDH000035_1607676055828_2_TH.json', '3269_A2LEBJJDE00096Y_1609204161499_2_TH.json', '4970_A1LCAIHDH00010K_1608351368506_2_TH.json', '1071_A2LEBJJDE00173R_1607653080984_2_TH.json', '8833_A2LEBJJDE00156I_1606275846584_2_TH.json', '4002_A2LEBJJDE00137N_1606461145199_2_TH.json', '9643_A2LEBJJDE00061H_1606723580562_2_TH.json', '3755_A2LEBJJDE001857_1608270046012_2_TH.json', '7229_A2LEBJJDE00142H_1606560736361_2_TH.json', '7670_A1LCAIHDH000126_1607569785329_2_TH.json', '3755_A2LEBJJDE001857_1608269977720_2_TH.json', '9244_A2LEBJJDE00154W_1607590715472_2_TH.json', '7126_A2LEBJJDE001534_1606368365795_2_TH.json', '9296_A2LEBJJDE00073W_1602469840361_2_TH.json', '3006_A1LCAIHDH00007C_1607661136373_2_TH.json', '9874_A2LEBJJDE00123M_1606810388094_2_TH.json', '1963_A2LCBJCAC00003V_1607387267969_2_TH.json', '5030_A2LEBJJDE00186Z_1606292919647_2_TH.json', '4659_A2LEBJJDE001349_1608198883656_2_TH.json', '4370_A1LCAIHDH00005Q_1607754330878_2_TH.json', '3977_A2LCBJCAC000073_1608010315989_2_TH.json', '4970_A1LCAIHDH00010K_1608258404857_2_TH.json', '8802_A2LEBJJDE00174K_1608700935389_2_TH.json', '5415_A2LEBJJDE00032S_1606727971231_2_TH.json', '6570_A2LEBJJDE001675_1607833346973_2_TH.json', '6818_A2LEBJJDE00170D_1606296240745_2_TH.json', '4133_A1LCAIHDH000035_1608200863408_2_TH.json', '3263_A1LCAIHDH00014R_1608253733960_2_TH.json', '7584_A2LEBJJDE00189E_1607732369054_2_TH.json', '3216_A1LCAIHDH00006J_1607661868310_2_TH.json', '1071_A2LEBJJDE00173R_1606615027571_2_TH.json', '8781_A2LEBJJDE000906_1607655559673_2_TH.json', '5305_A2LEBJJDE00122T_1606207322465_2_TH.json', '7418_A2LEBJJDE00080C_1606703809924_2_TH.json', '1743_A2LEBJJDE00031Z_1606277073460_2_TH.json', '2278_A2LEBJJDE00181Z_1606655596106_2_TH.json', '5030_A2LEBJJDE00186Z_1606741677033_2_TH.json', '3006_A1LCAIHDH00007C_1607651438924_2_TH.json', '3275_A2LEBJJDE001766_1606691951946_2_TH.json', '8606_A2LEBJJDE00155P_1606460332662_2_TH.json', '4307_A2LEBJJDE000683_1606733389666_2_TH.json', '2032_A2LEBJJDE00152B_1606042529603_2_TH.json', '0663_A2LEBJJDE001716_1606534642598_2_TH.json', '6440_A2LEBJJDE001352_1608363926099_2_TH.json', '4970_A1LCAIHDH00010K_1607744286522_2_TH.json', '4263_A2LEBJJDE00062A_1606463000620_2_TH.json', '1983_A2LEBJJDE00188L_1606370317639_2_TH.json', '8606_A2LEBJJDE00155P_1606461055078_2_TH.json', '7168_A2LEBJJDE00124F_1606277980458_2_TH.json', '0617_A2LEBJJDE000815_1606535063640_2_TH.json', '2688_A2LEBJJDE00115E_1606285861100_2_TH.json', '5415_A2LEBJJDE00027Y_1606453172555_2_TH.json', '3977_A2LCBJCAC000073_1608001179143_2_TH.json', '5438_A2LEBJJDE00159W_1606266670197_2_TH.json', '7297_A2LEBJJDE00151I_1606280173976_2_TH.json', '3269_A2LEBJJDE00096Y_1608084830834_2_TH.json', '5415_A2LEBJJDE00032S_1606202856026_2_TH.json', '2278_A2LEBJJDE00181Z_1606655455998_2_TH.json', '5436_A2LEBJJDE00098K_1606806290404_2_TH.json', '0425_A2LEBJJDE00079P_1606740624127_2_TH.json', '6437_A1LCAIHDH00019R_1607653968705_2_TH.json', '7851_A2LEBJJDE00074P_1606305023269_2_TH.json', '6570_A2LEBJJDE001675_1607408119846_2_TH.json', '1221_A1LCAIHDH00009X_1607676126583_2_TH.json', '2983_A2LEBJJDE001261_1606711590939_2_TH.json', '6570_A2LEBJJDE001675_1607497066093_2_TH.json', '9578_A2LEBJJDE00105K_1606617650307_2_TH.json', '4478_A2LEBJJDE00052G_1606210161573_2_TH.json', '5255_A2LEBJJDE00007B_1606289990117_2_TH.json', '3006_A1LCAIHDH00007C_1608362540566_2_TH.json', '7851_A2LEBJJDE00074P_1606653994213_2_TH.json', '1459_A2LEBJJDE00025D_1606036924704_2_TH.json', '0715_A2LEBJJDE00175D_1606882399166_2_TH.json', '4810_A2LEBJJDE00177Y_1607586327437_2_TH.json', '0617_A2LEBJJDE000815_1606214075330_2_TH.json', '0643_A2LEBJJDE00048F_1606720385611_2_TH.json', '9338_A2LEBJJDE00101D_1606539895719_2_TH.json', '5305_A2LEBJJDE00122T_1606209540453_2_TH.json', '4370_A1LCAIHDH00005Q_1607994251472_2_TH.json', '8896_A2LEBJJDE001807_1606456468412_2_TH.json', '2996_A2LEBJJDE00083Q_1606444286192_2_TH.json', '2278_A2LEBJJDE00181Z_1606653825513_2_TH.json', '0617_A2LEBJJDE000815_1606535106640_2_TH.json', '5415_A2LEBJJDE00032S_1606547457727_2_TH.json', '6825_A1LCAIHDH00018Y_1607751182581_2_TH.json', '1237_A2LEBJJDE001584_1606114686066_2_TH.json', '9447_A2LEBJJDE001951_1606019882801_2_TH.json', '2996_A2LEBJJDE00083Q_1606543132038_2_TH.json', '3755_A2LEBJJDE001857_1608269631247_2_TH.json', '1743_A2LEBJJDE00031Z_1606528911479_2_TH.json', '7229_A2LEBJJDE00142H_1606470102432_2_TH.json', '3339_A2LEBJJDE00057G_1606613229957_2_TH.json', '4370_A1LCAIHDH00005Q_1608519045151_2_TH.json', '2996_A2LEBJJDE00083Q_1606457785734_2_TH.json', '4795_A2LEBJJDE00113S_1606899394560_2_TH.json', '6121_A2LEBJJDE00183L_1606226396724_2_TH.json', '6718_A2LEBJJDE000451_1605942374443_2_TH.json', '7126_A2LEBJJDE001534_1606627897032_2_TH.json', '0616_A2LEBJJDE00004W_1607650426514_2_TH.json', '7297_A2LEBJJDE00151I_1606280089237_2_TH.json', '9447_A2LEBJJDE001951_1606019288712_2_TH.json', '3006_A1LCAIHDH00007C_1608372380328_2_TH.json', '8297_A2LEBJJDE001076_1607612547302_2_TH.json', '0733_A2LEBJJDE000084_1606100554112_2_TH.json', '2326_A2LEBJJDE001998_1608169523033_2_TH.json', '3977_A2LEBJJDE00039E_1606216819082_2_TH.json', '5438_A2LEBJJDE00159W_1606267394583_2_TH.json', '1981_A2LEBJJDE001493_1606710671490_2_TH.json', '7985_A1LCAIHDH00011D_1607754065068_2_TH.json', '4015_A2LEBJJDE00150P_1606705031198_2_TH.json', '7978_A2LEBJJDE00071B_1606544359644_2_TH.json', '4717_A2LEBJJDE001208_1606034210789_2_TH.json', '0617_A2LEBJJDE000815_1606214119841_2_TH.json', '8297_A2LEBJJDE001076_1607503463295_2_TH.json', '2326_A2LEBJJDE00037S_1606473694955_2_TH.json', '0715_A2LEBJJDE00175D_1606704583492_2_TH.json', '2800_A2LEBJJDE00036Z_1606441128310_2_TH.json', '1981_A2LEBJJDE001493_1607254426029_2_TH.json', '2278_A2LEBJJDE00181Z_1606653257284_2_TH.json', '3977_A2LCBJCAC000073_1607311210074_2_TH.json', '4795_A2LEBJJDE00113S_1606610800411_2_TH.json', '7698_A2LEBJJDE00165J_1606464466431_2_TH.json', '7985_A1LCAIHDH00011D_1607859478411_2_TH.json', '0616_A2LEBJJDE00004W_1606017492023_2_TH.json', '2278_A2LEBJJDE00181Z_1606655704163_2_TH.json', '6825_A1LCAIHDH00018Y_1608964986777_2_TH.json', '7366_A2LEBJJDE00088Q_1606889847304_2_TH.json', '7168_A2LEBJJDE00124F_1606301546455_2_TH.json', '9887_A2LEBJJDE00066H_1606187063059_2_TH.json', '1534_A2LEBJJDE00133G_1607844726674_2_TH.json', '5438_A2LEBJJDE00159W_1606267700660_2_TH.json', '6981_A2LEBJJDE00075I_1606533123366_2_TH.json', '0715_A2LEBJJDE00175D_1607495046489_2_TH.json', '1237_A2LEBJJDE001584_1606115047811_2_TH.json', '9338_A2LEBJJDE00101D_1606737819831_2_TH.json', '1983_A2LEBJJDE00188L_1606442117868_2_TH.json', '7988_A2LEBJJDE000357_1607407559701_2_TH.json', '4970_A1LCAIHDH00010K_1607669633215_2_TH.json', '3269_A2LEBJJDE00096Y_1607927080392_2_TH.json', '6570_A2LEBJJDE001675_1607491817113_2_TH.json', '4370_A1LCAIHDH00005Q_1607736242299_2_TH.json', '8606_A2LEBJJDE00155P_1606461404555_2_TH.json', '3755_A2LEBJJDE001857_1607517089869_2_TH.json', '9244_A2LEBJJDE00154W_1606129926978_2_TH.json', '9338_A2LEBJJDE00101D_1606737928585_2_TH.json', '5619_A2LEBJJDE00002B_1606294263659_2_TH.json', '7978_A2LEBJJDE00071B_1606719874157_2_TH.json', '4370_A1LCAIHDH00005Q_1608443960019_2_TH.json', '4267_A1LCAIHDH00016D_1607569757433_2_TH.json', '4370_A1LCAIHDH00005Q_1607932403486_2_TH.json', '9578_A2LEBJJDE00105K_1608006088218_2_TH.json', '8606_A2LEBJJDE00155P_1606460223193_2_TH.json', '9864_A2LEBJJDE001167_1607243804995_2_TH.json', '8212_A2LEBJJDE00070I_1606726698737_2_TH.json', '5030_A2LEBJJDE00186Z_1606740755718_2_TH.json', '0425_A2LEBJJDE00079P_1606606210810_2_TH.json', '1071_A2LEBJJDE00173R_1606092894853_2_TH.json', '3065_A2LEBJJDE00103Y_1607596137918_2_TH.json', '2326_A2LEBJJDE001998_1606808458017_2_TH.json', '2800_A2LEBJJDE00036Z_1607749123683_2_TH.json', '4919_A2LEBJJDE00064V_1605951888783_2_TH.json', '6570_A2LEBJJDE001675_1607564291691_2_TH.json', '4810_A2LEBJJDE00177Y_1607586131440_2_TH.json', '5305_A2LEBJJDE00122T_1606558691769_2_TH.json', '5415_A2LEBJJDE00032S_1606526042909_2_TH.json', '4478_A2LEBJJDE00052G_1606353890792_2_TH.json', '5750_A2LEBJJDE000589_1607851427417_2_TH.json', '1195_A2LEBJJDE00197M_1606874898170_2_TH.json', '4232_A2LEBJJDE00146O_1606474171277_2_TH.json', '1743_A2LEBJJDE00031Z_1606272386364_2_TH.json', '2762_A2LEBJJDE000498_1606642917020_2_TH.json', '9643_A2LEBJJDE00061H_1606028314342_2_TH.json', '2278_A2LEBJJDE00181Z_1606655303837_2_TH.json', '7366_A2LEBJJDE00088Q_1607648933505_2_TH.json', '5569_A2LEBJJDE001211_1606626731808_2_TH.json', '8146_A2LEBJJDE00148A_1606050582430_2_TH.json', '7851_A2LEBJJDE00074P_1606906363762_2_TH.json', '4133_A1LCAIHDH000035_1608181435201_2_TH.json', '2032_A2LEBJJDE00152B_1606625534083_2_TH.json', '2585_A2LEBJJDE001302_1606270797512_2_TH.json', '6367_A2LEBJJDE00038L_1606613434747_2_TH.json', '5305_A2LEBJJDE00122T_1606554975345_2_TH.json', '6437_A1LCAIHDH00019R_1607648688947_2_TH.json', '5438_A2LEBJJDE00159W_1606266323211_2_TH.json', '2326_A2LEBJJDE001998_1606211698016_2_TH.json', '3006_A1LCAIHDH00007C_1607999554057_2_TH.json', '8606_A2LEBJJDE00155P_1606460548466_2_TH.json', '5305_A2LEBJJDE00122T_1606552193522_2_TH.json', '1069_A2LEBJJDE00094D_1607155989688_2_TH.json', '4162_A2LEBJJDE00013X_1607652989908_2_TH.json', '7978_A2LEBJJDE00071B_1606545392582_2_TH.json', '2326_A2LEBJJDE001998_1607242331794_2_TH.json', '8281_A2LEBJJDE00055U_1603703635903_2_TH.json', '1221_A1LCAIHDH00009X_1608429296188_2_TH.json', '5030_A2LEBJJDE00186Z_1606293129441_2_TH.json', '5619_A2LEBJJDE00002B_1606723248971_2_TH.json', '8606_A2LEBJJDE00155P_1606460920457_2_TH.json', '8281_A2LEBJJDE00055U_1606037545052_2_TH.json', '6367_A2LEBJJDE00038L_1606615868077_2_TH.json', '0715_A2LEBJJDE00175D_1608812566093_2_TH.json', '4810_A2LEBJJDE00177Y_1607588493904_2_TH.json', '4002_A2LEBJJDE00137N_1606544741658_2_TH.json', '6570_A2LEBJJDE001675_1607593212460_2_TH.json', '4133_A1LCAIHDH000035_1608190908670_2_TH.json', '9202_A2LEBJJDE00082X_1606051761985_2_TH.json', '7418_A2LEBJJDE00080C_1606980705431_2_TH.json', '1963_A2LCBJCAC00003V_1608769362208_2_TH.json', '1983_A2LEBJJDE00188L_1606102111005_2_TH.json', '7366_A2LEBJJDE00088Q_1607648621219_2_TH.json', '1407_A2LEBJJDE001258_1606376716813_2_TH.json', '9817_A2LEBJJDE00193F_1606105551056_2_TH.json', '4795_A2LEBJJDE00113S_1607503113355_2_TH.json', '0425_A2LEBJJDE00079P_1606739096224_2_TH.json', '4810_A2LEBJJDE00177Y_1606384486868_2_TH.json', '8297_A2LEBJJDE001076_1607613662407_2_TH.json', '1963_A2LCBJCAC00003V_1607404439709_2_TH.json', '9244_A2LEBJJDE00154W_1607590837381_2_TH.json', '1069_A2LEBJJDE00094D_1607235034825_2_TH.json', '2585_A2LEBJJDE001302_1606617606594_2_TH.json', '0617_A2LEBJJDE000815_1606213982599_2_TH.json', '0770_A2LEBJJDE000865_1606646642535_2_TH.json', '0888_A2LEBJJDE001948_1606303857175_2_TH.json', '3755_A2LEBJJDE001857_1608269967686_2_TH.json', '5030_A2LEBJJDE00186Z_1606293037077_2_TH.json', '8000_A2LEBJJDE000956_1607661566754_2_TH.json', '0643_A2LEBJJDE00048F_1606711265640_2_TH.json', '3755_A2LEBJJDE001857_1608270336889_2_TH.json', '0703_A2LEBJJDE000774_1606024169926_2_TH.json', '9414_A2LEBJJDE00033L_1605521474634_2_TH.json', '8281_A2LEBJJDE00055U_1606730114301_2_TH.json', '3977_A2LEBJJDE00161C_1606370762472_2_TH.json', '2800_A2LEBJJDE00036Z_1606009781740_2_TH.json', '5569_A2LEBJJDE001211_1607822488293_2_TH.json', '4370_A1LCAIHDH00005Q_1608189966410_2_TH.json', '7701_A1LCAIHDH000085_1608360780375_2_TH.json', '2820_A2LEBJJDE00179K_1607147479365_2_TH.json', '9202_A2LEBJJDE00082X_1606138029635_2_TH.json', '2326_A2LEBJJDE001998_1606556028462_2_TH.json', '5619_A2LEBJJDE00002B_1606623721937_2_TH.json', '9338_A2LEBJJDE00101D_1606539813664_2_TH.json', '2996_A2LEBJJDE00083Q_1606008957752_2_TH.json', '1195_A2LEBJJDE00197M_1606803579949_2_TH.json', '7418_A2LEBJJDE00080C_1606703130587_2_TH.json', '4478_A2LEBJJDE00052G_1606356095551_2_TH.json', '7701_A1LCAIHDH000085_1607649920174_2_TH.json', '6570_A2LEBJJDE001675_1607831467434_2_TH.json', '2479_A2LEBJJDE00147H_1607656054115_2_TH.json', '3006_A1LCAIHDH00007C_1608012579719_2_TH.json', '7297_A2LEBJJDE00151I_1606280222809_2_TH.json', '4970_A1LCAIHDH00010K_1608028743392_2_TH.json', '4970_A1LCAIHDH00010K_1608428742195_2_TH.json', '0663_A2LEBJJDE001716_1606280355723_2_TH.json', '2996_A2LEBJJDE00083Q_1605943704716_2_TH.json', '3977_A2LCBJCAC000073_1608010302137_2_TH.json', '4370_A1LCAIHDH00005Q_1607764497060_2_TH.json', '2996_A2LEBJJDE00083Q_1606641825558_2_TH.json', '8224_A2LEBJJDE000448_1606288585691_2_TH.json', '6367_A2LEBJJDE00038L_1606028798678_2_TH.json', '5415_A2LEBJJDE00032S_1606729284386_2_TH.json', '9244_A2LEBJJDE00154W_1607590261261_2_TH.json', '9578_A2LEBJJDE00105K_1607403887252_2_TH.json', '9414_A2LEBJJDE00033L_1607144404530_2_TH.json', '6775_A2LEBJJDE00022Y_1606361828853_2_TH.json', '4795_A2LEBJJDE00113S_1607652297928_2_TH.json', '3977_A2LCBJCAC000073_1608001144735_2_TH.json', '6570_A2LEBJJDE001675_1607315399318_2_TH.json', '4478_A2LEBJJDE00052G_1606197965819_2_TH.json', '2404_A2LEBJJDE00020D_1606123913268_2_TH.json', '4810_A2LEBJJDE00177Y_1607588389899_2_TH.json', '5569_A2LEBJJDE001211_1607150615549_2_TH.json', '2720_A2LEBJJDE000401_1606462824467_2_TH.json', '1963_A2LCBJCAC00003V_1607407796673_2_TH.json', '0617_A2LEBJJDE000815_1605969373928_2_TH.json', '6818_A2LEBJJDE00170D_1605927110871_2_TH.json', '4370_A1LCAIHDH00005Q_1608106054633_2_TH.json', '9578_A2LEBJJDE00105K_1607067618557_2_TH.json', '6570_A2LEBJJDE001675_1607426239642_2_TH.json', '3977_A2LEBJJDE00161C_1606370232019_2_TH.json', '0715_A2LEBJJDE00175D_1607495591168_2_TH.json', '0425_A2LEBJJDE00079P_1606739199610_2_TH.json', '2326_A2LEBJJDE001998_1607662453289_2_TH.json', '3006_A1LCAIHDH00007C_1607842561727_2_TH.json', '4970_A1LCAIHDH00010K_1608608608230_2_TH.json', '1237_A2LEBJJDE001584_1606115426118_2_TH.json', '5009_A1LCAIHDH00020E_1607570105933_2_TH.json', '9874_A2LEBJJDE00123M_1606963534955_2_TH.json', '1743_A2LEBJJDE00031Z_1606207097633_2_TH.json', '4263_A2LEBJJDE00062A_1606462105119_2_TH.json', '3006_A1LCAIHDH00007C_1607841817820_2_TH.json', '0703_A2LEBJJDE000774_1606364533263_2_TH.json', '1743_A2LEBJJDE00031Z_1606370468599_2_TH.json', '0013_A2LEBJJDE00060O_1605949144786_2_TH.json', '0643_A2LEBJJDE00048F_1606712296927_2_TH.json', '7701_A1LCAIHDH000085_1607670420986_2_TH.json', '1069_A2LEBJJDE00094D_1606464004270_2_TH.json', '1963_A2LCBJCAC00003V_1607405250890_2_TH.json', '9905_A2LEBJJDE00042M_1606968679306_2_TH.json', '7670_A1LCAIHDH000126_1607735525336_2_TH.json', '5214_A2LEBJJDE001399_1607593715452_2_TH.json', '7366_A2LEBJJDE00088Q_1607648813739_2_TH.json', '1459_A2LEBJJDE00025D_1605941121265_2_TH.json', '5946_A2LEBJJDE00085C_1605942091541_2_TH.json', '2327_A2LEBJJDE00091Y_1608967794017_2_TH.json', '4015_A2LEBJJDE00150P_1606708262417_2_TH.json', '4795_A2LEBJJDE00113S_1606536964882_2_TH.json', '1221_A1LCAIHDH00009X_1607737196000_2_TH.json', '4557_A2LEBJJDE00043F_1606211797991_2_TH.json', '3269_A2LEBJJDE00096Y_1608081474004_2_TH.json', '9578_A2LEBJJDE00105K_1608448186804_2_TH.json', '3269_A2LEBJJDE00096Y_1608088816698_2_TH.json', '5438_A2LEBJJDE00159W_1606266435898_2_TH.json', '7851_A2LEBJJDE00074P_1607124100793_2_TH.json', '8802_A2LEBJJDE00174K_1608698657423_2_TH.json', '1981_A2LEBJJDE001493_1606531718504_2_TH.json', '2522_A2LEBJJDE00014Q_1605682773589_2_TH.json', '2820_A2LEBJJDE00179K_1607147132483_2_TH.json', '3858_A2LEBJJDE00076B_1607866469145_2_TH.json', '5030_A2LEBJJDE00186Z_1606740401486_2_TH.json', '3977_A2LCBJCAC000073_1607311624117_2_TH.json', '4370_A1LCAIHDH00005Q_1607736974050_2_TH.json', '2762_A2LEBJJDE000498_1606367678565_2_TH.json', '0663_A2LEBJJDE001716_1606713470631_2_TH.json', '0715_A2LEBJJDE00175D_1607495087368_2_TH.json', '1142_A2LEBJJDE00024K_1606280267660_2_TH.json', '8606_A2LEBJJDE00155P_1606460990596_2_TH.json', '5619_A2LEBJJDE00002B_1606702289860_2_TH.json', '1237_A2LEBJJDE001584_1606114867719_2_TH.json', '2820_A2LEBJJDE00179K_1605690484320_2_TH.json', '3365_A2LEBJJDE00106D_1606709936515_2_TH.json', '8896_A2LEBJJDE001807_1606456669246_2_TH.json', '4810_A2LEBJJDE00177Y_1606091237357_2_TH.json', '4162_A2LEBJJDE00013X_1607649162583_2_TH.json', '1142_A2LEBJJDE00024K_1606444434732_2_TH.json', '4970_A1LCAIHDH00010K_1608359101205_2_TH.json', '1963_A2LCBJCAC00003V_1607406742804_2_TH.json', '8802_A2LEBJJDE00174K_1606867625538_2_TH.json', '4002_A2LEBJJDE00137N_1606622715195_2_TH.json', '4015_A2LEBJJDE00150P_1606358737763_2_TH.json', '2585_A2LEBJJDE001302_1607648687018_2_TH.json', '3006_A1LCAIHDH00007C_1608433533521_2_TH.json', '3275_A2LEBJJDE001766_1606464728106_2_TH.json', '3977_A2LEBJJDE00161C_1606371023856_2_TH.json', '6729_A2LEBJJDE00028R_1606114476502_2_TH.json', '9338_A2LEBJJDE00101D_1606475392451_2_TH.json', '2278_A2LEBJJDE00181Z_1606655879856_2_TH.json', '4970_A1LCAIHDH00010K_1607570613346_2_TH.json', '4810_A2LEBJJDE00177Y_1606384417819_2_TH.json', '8212_A2LEBJJDE00070I_1606729317201_2_TH.json', '3006_A1LCAIHDH00007C_1607667235384_2_TH.json', '6818_A2LEBJJDE00170D_1606534553129_2_TH.json', '3006_A1LCAIHDH00007C_1607745341788_2_TH.json', '9874_A2LEBJJDE00123M_1606991804470_2_TH.json', '7297_A2LEBJJDE00151I_1606356938828_2_TH.json', '7701_A1LCAIHDH000085_1608267084148_2_TH.json', '8833_A2LEBJJDE00156I_1607659295171_2_TH.json', '1221_A1LCAIHDH00009X_1608534815593_2_TH.json', '9527_A2LEBJJDE00110E_1605683475333_2_TH.json', '4810_A2LEBJJDE00177Y_1607588594655_2_TH.json', '0643_A2LEBJJDE00048F_1606901782486_2_TH.json', '0715_A2LEBJJDE00175D_1607495370588_2_TH.json', '0616_A2LEBJJDE00004W_1606017672611_2_TH.json', '2326_A2LEBJJDE001998_1607323134661_2_TH.json', '3216_A1LCAIHDH00006J_1607769209409_2_TH.json', '9414_A2LEBJJDE00033L_1608099351253_2_TH.json', '5415_A2LEBJJDE00032S_1606379016098_2_TH.json', '4795_A2LEBJJDE00113S_1606371142915_2_TH.json', '0425_A2LEBJJDE00079P_1606551010279_2_TH.json', '7851_A2LEBJJDE00074P_1607138425700_2_TH.json', '3365_A2LEBJJDE00106D_1606289595805_2_TH.json', '6367_A2LEBJJDE00038L_1606540426427_2_TH.json', '4970_A1LCAIHDH00010K_1608029101918_2_TH.json', '1221_A1LCAIHDH00009X_1608345553229_2_TH.json', '8802_A2LEBJJDE00178R_1606736167550_2_TH.json', '8212_A2LEBJJDE00070I_1606704257711_2_TH.json', '9527_A2LEBJJDE00110E_1606123393680_2_TH.json', '4370_A1LCAIHDH00005Q_1608354873650_2_TH.json', '1221_A1LCAIHDH00009X_1608426871682_2_TH.json', '9578_A2LEBJJDE00105K_1606469629612_2_TH.json', '5619_A2LEBJJDE00002B_1606721953583_2_TH.json', '9447_A2LEBJJDE001951_1606019015917_2_TH.json', '1983_A2LEBJJDE00188L_1606442093356_2_TH.json', '7851_A2LEBJJDE00074P_1606207714339_2_TH.json', '6775_A2LEBJJDE00022Y_1606537836972_2_TH.json', '4810_A2LEBJJDE00177Y_1607589576314_2_TH.json', '3977_A2LCBJCAC000073_1607311353941_2_TH.json', '9643_A2LEBJJDE00061H_1606127583907_2_TH.json', '3263_A1LCAIHDH00014R_1608349584972_2_TH.json', '1237_A2LEBJJDE001584_1606114051378_2_TH.json', '3365_A2LEBJJDE00106D_1606021753441_2_TH.json', '4810_A2LEBJJDE00177Y_1606384599730_2_TH.json', '8297_A2LEBJJDE001076_1607322755114_2_TH.json', '1743_A2LEBJJDE00031Z_1606121082087_2_TH.json', '2278_A2LEBJJDE00181Z_1606653404889_2_TH.json', '6570_A2LEBJJDE001675_1607391648042_2_TH.json', '4970_A1LCAIHDH00010K_1607762714273_2_TH.json', '6570_A2LEBJJDE001675_1607319917614_2_TH.json', '3332_A2LEBJJDE00100K_1606015404311_2_TH.json', '3365_A2LEBJJDE00106D_1606304881009_2_TH.json', '7126_A2LEBJJDE001534_1606107570281_2_TH.json', '9527_A2LEBJJDE00110E_1606287452052_2_TH.json', '8606_A2LEBJJDE00155P_1606461298898_2_TH.json', '3006_A1LCAIHDH00007C_1608426157945_2_TH.json', '1237_A2LEBJJDE001584_1606114710548_2_TH.json', '9578_A2LEBJJDE00105K_1606618486135_2_TH.json', '1963_A2LCBJCAC00003V_1607387558160_2_TH.json', '2522_A2LEBJJDE00014Q_1606708318253_2_TH.json', '7851_A2LEBJJDE00074P_1608689863031_2_TH.json', '3269_A2LEBJJDE00096Y_1608254773260_2_TH.json', '1743_A2LEBJJDE00031Z_1606293004980_2_TH.json', '6121_A2LEBJJDE00183L_1606226377536_2_TH.json', '2585_A2LEBJJDE001302_1606359859464_2_TH.json', '4717_A2LEBJJDE001208_1606017034520_2_TH.json', '0013_A2LEBJJDE00060O_1606386383334_2_TH.json', '7698_A2LEBJJDE00165J_1606282977535_2_TH.json', '3065_A2LEBJJDE00103Y_1606544686374_2_TH.json', '1963_A2LCBJCAC00003V_1609223861395_2_TH.json', '8281_A2LEBJJDE00055U_1606730051293_2_TH.json', '4919_A2LEBJJDE00064V_1605931888531_2_TH.json', '5619_A2LEBJJDE00002B_1606727048670_2_TH.json', '7168_A2LEBJJDE00124F_1606275377874_2_TH.json', '1407_A2LEBJJDE001258_1606120204056_2_TH.json', '9414_A2LEBJJDE00033L_1604566732106_2_TH.json', '4810_A2LEBJJDE00177Y_1607588667657_2_TH.json', '4133_A1LCAIHDH000035_1608687774341_2_TH.json', '9905_A2LEBJJDE00042M_1607835511883_2_TH.json', '1981_A2LEBJJDE001493_1606633974009_2_TH.json', '6570_A2LEBJJDE001675_1607405255561_2_TH.json', '7366_A2LEBJJDE00088Q_1606892071885_2_TH.json', '2317_A2LEBJJDE00051N_1606033840565_2_TH.json', '7698_A2LEBJJDE00165J_1606544923029_2_TH.json', '2637_A2LEBJJDE00099D_1608626084870_2_TH.json', '4015_A2LEBJJDE00150P_1606706811181_2_TH.json', '3216_A1LCAIHDH00006J_1607661826466_2_TH.json', '0715_A2LEBJJDE00175D_1607495128253_2_TH.json', '5438_A2LEBJJDE00159W_1606267651846_2_TH.json', '6570_A2LEBJJDE001675_1607426156846_2_TH.json', '2800_A2LEBJJDE00036Z_1606271960106_2_TH.json', '4478_A2LEBJJDE00052G_1606370715377_2_TH.json', '8297_A2LEBJJDE001076_1607323045913_2_TH.json', '7366_A2LEBJJDE00088Q_1606888939437_2_TH.json', '2326_A2LEBJJDE001998_1607154153794_2_TH.json', '5438_A2LEBJJDE00159W_1606266420163_2_TH.json', '0663_A2LEBJJDE001716_1606277451341_2_TH.json', '5030_A2LEBJJDE00186Z_1606294321631_2_TH.json', '9244_A2LEBJJDE00154W_1606130153303_2_TH.json', '3263_A1LCAIHDH00014R_1608544158099_2_TH.json', '3046_A2LEBJJDE00089J_1606535713218_2_TH.json', '6570_A2LEBJJDE001675_1607315980714_2_TH.json', '8297_A2LEBJJDE001076_1606807914891_2_TH.json', '4795_A2LEBJJDE00113S_1606891644237_2_TH.json', '3006_A1LCAIHDH00007C_1608280221669_2_TH.json', '5415_A2LEBJJDE00032S_1606279025916_2_TH.json', '4370_A1LCAIHDH00005Q_1607857170427_2_TH.json', '1981_A2LEBJJDE001493_1606530293213_2_TH.json', '8281_A2LEBJJDE00055U_1606551291568_2_TH.json', '3275_A2LEBJJDE001766_1606691893488_2_TH.json', '9244_A2LEBJJDE00154W_1607590742457_2_TH.json', '7978_A2LEBJJDE00071B_1606546291110_2_TH.json', '7297_A2LEBJJDE00151I_1606357615442_2_TH.json', '7985_A1LCAIHDH00011D_1607570292341_2_TH.json', '9527_A2LEBJJDE00110E_1606111632858_2_TH.json', '9643_A2LEBJJDE00061H_1606640030219_2_TH.json', '5619_A2LEBJJDE00002B_1606111662166_2_TH.json', '2762_A2LEBJJDE000498_1606621494313_2_TH.json', '5569_A2LEBJJDE001211_1606352945378_2_TH.json', '7978_A2LEBJJDE00071B_1606729437147_2_TH.json', '3269_A2LEBJJDE00096Y_1608251043338_2_TH.json', '0425_A2LEBJJDE00079P_1606536500318_2_TH.json', '9414_A2LEBJJDE00033L_1607152599399_2_TH.json', '9874_A2LEBJJDE00123M_1606971370043_2_TH.json', '7978_A2LEBJJDE00071B_1606618903483_2_TH.json', '4478_A2LEBJJDE00052G_1606460000645_2_TH.json', '3977_A2LEBJJDE00161C_1606442147807_2_TH.json', '4267_A1LCAIHDH00016D_1608349940478_2_TH.json', '3755_A2LEBJJDE001857_1608270188971_2_TH.json', '9338_A2LEBJJDE00101D_1606744344505_2_TH.json', '0888_A2LEBJJDE001948_1606288141868_2_TH.json', '5415_A2LEBJJDE00027Y_1606297207165_2_TH.json', '3977_A2LCBJCAC000073_1608010156176_2_TH.json', '8281_A2LEBJJDE00055U_1606617790611_2_TH.json', '9643_A2LEBJJDE00061H_1606125721928_2_TH.json', '9874_A2LEBJJDE00123M_1607075999440_2_TH.json', '8896_A2LEBJJDE001807_1606784028727_2_TH.json', '4002_A2LEBJJDE00137N_1606183539579_2_TH.json', '3269_A2LEBJJDE00096Y_1608085683039_2_TH.json', '3977_A2LCBJCAC000073_1608000972078_2_TH.json', '7366_A2LEBJJDE00088Q_1607648883617_2_TH.json', '3263_A1LCAIHDH00014R_1608264587615_2_TH.json', '3677_A2LEBJJDE00087X_1606526170226_2_TH.json', '1069_A2LEBJJDE00094D_1607579526808_2_TH.json', '8224_A2LEBJJDE000448_1606292430653_2_TH.json', '9643_A2LEBJJDE00061H_1606120617107_2_TH.json', '3677_A2LEBJJDE00087X_1606619311123_2_TH.json', '3677_A2LEBJJDE00087X_1606009062508_2_TH.json', '6981_A2LEBJJDE00075I_1606368781908_2_TH.json', '3065_A2LEBJJDE00103Y_1607844435466_2_TH.json', '2469_A2LEBJJDE00019Q_1606268686347_2_TH.json', '9338_A2LEBJJDE00101D_1606738530619_2_TH.json', '2278_A2LEBJJDE00181Z_1606653811742_2_TH.json', '0643_A2LEBJJDE00048F_1607230972651_2_TH.json', '5415_A2LEBJJDE00032S_1606735728045_2_TH.json', '3977_A2LEBJJDE00161C_1606370315492_2_TH.json', '5030_A2LEBJJDE00186Z_1606292996408_2_TH.json', '4370_A1LCAIHDH00005Q_1607761568254_2_TH.json', '2278_A2LEBJJDE00181Z_1606656066125_2_TH.json', '5569_A2LEBJJDE001211_1606540132019_2_TH.json', '8297_A2LEBJJDE001076_1607596358128_2_TH.json', '4970_A1LCAIHDH00010K_1608010839928_2_TH.json', '5415_A2LEBJJDE00027Y_1606560496861_2_TH.json', '0663_A2LEBJJDE001716_1606453818107_2_TH.json', '3065_A2LEBJJDE00103Y_1606444137675_2_TH.json', '7126_A2LEBJJDE001534_1606627211354_2_TH.json', '4370_A1LCAIHDH00005Q_1608191580700_2_TH.json', '3065_A2LEBJJDE00103Y_1607856667517_2_TH.json', '9414_A2LEBJJDE00033L_1608017457846_2_TH.json', '3755_A2LEBJJDE001857_1608269701616_2_TH.json', '4002_A2LEBJJDE00137N_1606293581268_2_TH.json', '7366_A2LEBJJDE00088Q_1606889621241_2_TH.json', '6078_A2LEBJJDE00160J_1606098114784_2_TH.json', '3263_A1LCAIHDH00014R_1608713345405_2_TH.json', '1069_A2LEBJJDE00094D_1607847230083_2_TH.json', '7366_A2LEBJJDE00143A_1605958164121_2_TH.json', '3046_A2LEBJJDE00089J_1606291716388_2_TH.json', '7126_A2LEBJJDE001534_1605926640784_2_TH.json', '1983_A2LEBJJDE00188L_1606442168622_2_TH.json', '9356_A2LEBJJDE00192M_1604206462454_2_TH.json', '3216_A1LCAIHDH00006J_1608431078922_2_TH.json', '0616_A2LEBJJDE00004W_1606123310500_2_TH.json', '2709_A2LEBJJDE000216_1606299678429_2_TH.json', '3006_A1LCAIHDH00007C_1608368224457_2_TH.json', '3755_A2LEBJJDE001857_1608269614817_2_TH.json', '8833_A2LEBJJDE00156I_1606038665537_2_TH.json', '8606_A2LEBJJDE00155P_1606460090823_2_TH.json', '2479_A2LEBJJDE00147H_1607678699437_2_TH.json', '3216_A1LCAIHDH00006J_1607753695543_2_TH.json', '3269_A2LEBJJDE00096Y_1608253253497_2_TH.json', '9578_A2LEBJJDE00105K_1606619607690_2_TH.json', '6367_A2LEBJJDE00038L_1606617045974_2_TH.json', '8802_A2LEBJJDE00178R_1606736153798_2_TH.json', '2278_A2LEBJJDE00181Z_1606653320325_2_TH.json', '1983_A2LEBJJDE00188L_1606101686708_2_TH.json', '3858_A2LEBJJDE00076B_1607866348956_2_TH.json', '3006_A1LCAIHDH00007C_1608089832587_2_TH.json', '7418_A2LEBJJDE00080C_1606703920159_2_TH.json', '3365_A2LEBJJDE00106D_1606021482438_2_TH.json', '3677_A2LEBJJDE00087X_1606630791765_2_TH.json', '4370_A1LCAIHDH00005Q_1607843548931_2_TH.json', '6570_A2LEBJJDE001675_1607492450877_2_TH.json', '4478_A2LEBJJDE00052G_1606224186882_2_TH.json', '2278_A2LEBJJDE00181Z_1606653439648_2_TH.json', '5030_A2LEBJJDE00182S_1606174700272_2_TH.json', '0643_A2LEBJJDE00048F_1606723340875_2_TH.json', '1407_A2LEBJJDE001258_1606039697093_2_TH.json', '2404_A2LEBJJDE00020D_1606270606879_2_TH.json', '2720_A2LEBJJDE000401_1606537038713_2_TH.json', '2278_A2LEBJJDE00181Z_1606653342664_2_TH.json', '4810_A2LEBJJDE00177Y_1606384514353_2_TH.json', '9414_A2LEBJJDE00033L_1606707362995_2_TH.json', '6570_A2LEBJJDE001675_1607772918440_2_TH.json', '2278_A2LEBJJDE00181Z_1606655331458_2_TH.json', '4810_A2LEBJJDE00177Y_1607589529799_2_TH.json', '0013_A2LEBJJDE00060O_1606386400774_2_TH.json', '0013_A2LEBJJDE00060O_1606386237060_2_TH.json', '5415_A2LEBJJDE00032S_1606711846475_2_TH.json', '2709_A2LEBJJDE000216_1606100775402_2_TH.json', '3006_A1LCAIHDH00007C_1607765924710_2_TH.json', '9244_A2LEBJJDE00154W_1606789375185_2_TH.json', '1743_A2LEBJJDE00031Z_1606033206844_2_TH.json', '2278_A2LEBJJDE00181Z_1606653379066_2_TH.json', '7851_A2LEBJJDE00074P_1607500086651_2_TH.json', '2637_A2LEBJJDE00099D_1608357040913_2_TH.json', '5438_A2LEBJJDE00159W_1606266654933_2_TH.json', '1071_A2LEBJJDE00173R_1606615053262_2_TH.json', '0616_A2LEBJJDE00004W_1607651503453_2_TH.json', '8281_A2LEBJJDE00055U_1606540067792_2_TH.json', '4795_A2LEBJJDE00113S_1607751145756_2_TH.json', '9527_A2LEBJJDE00110E_1606040674102_2_TH.json', '9643_A2LEBJJDE00061H_1606712845806_2_TH.json', '5619_A2LEBJJDE00002B_1606354206843_2_TH.json', '4307_A2LEBJJDE000683_1606733710585_2_TH.json', '2637_A2LEBJJDE00099D_1607917474505_2_TH.json', '2800_A2LEBJJDE00036Z_1607574592082_2_TH.json', '5619_A2LEBJJDE00002B_1606469993882_2_TH.json', '3339_A2LEBJJDE00057G_1606101898700_2_TH.json', '4970_A1LCAIHDH00010K_1608372214509_2_TH.json', '3006_A1LCAIHDH00007C_1607672016565_2_TH.json', '3977_A2LEBJJDE00039E_1606217058745_2_TH.json', '9338_A2LEBJJDE00101D_1606475044633_2_TH.json', '0715_A2LEBJJDE00175D_1607495425533_2_TH.json', '3216_A1LCAIHDH00006J_1607855321023_2_TH.json', '9400_A2LEBJJDE00078W_1603685063398_2_TH.json', '3977_A2LCBJCAC000073_1607311145415_2_TH.json', '7297_A2LEBJJDE00151I_1606700272879_2_TH.json', '3977_A2LCBJCAC000073_1607311034342_2_TH.json', '3977_A2LCBJCAC000073_1607311284122_2_TH.json', '3006_A1LCAIHDH00007C_1607759349036_2_TH.json', '3977_A2LEBJJDE00161C_1606370776132_2_TH.json', '8606_A2LEBJJDE00155P_1606460162980_2_TH.json', '3755_A2LEBJJDE001857_1608270717754_2_TH.json', '3365_A2LEBJJDE00106D_1606736065384_2_TH.json', '3006_A1LCAIHDH00007C_1608367713973_2_TH.json', '8606_A2LEBJJDE00155P_1606460677711_2_TH.json', '5569_A2LEBJJDE001211_1605943825959_2_TH.json', '1963_A2LCBJCAC00003V_1607489708097_2_TH.json', '0425_A2LEBJJDE00079P_1606606064939_2_TH.json', '8297_A2LEBJJDE001076_1608519343412_2_TH.json', '3216_A1LCAIHDH00006J_1607742561332_2_TH.json', '9316_A2LEBJJDE00034E_1606536470441_2_TH.json', '9874_A2LEBJJDE00123M_1607163702799_2_TH.json', '0013_A2LEBJJDE00060O_1606386139601_2_TH.json', '5438_A2LEBJJDE00159W_1606267498206_2_TH.json', '4370_A1LCAIHDH00005Q_1608190398411_2_TH.json', '3677_A2LEBJJDE00087X_1606611831747_2_TH.json', '0617_A2LEBJJDE000815_1606200343671_2_TH.json', '4162_A2LEBJJDE00013X_1607651952100_2_TH.json', '6570_A2LEBJJDE001675_1607319641851_2_TH.json', '8896_A2LEBJJDE001807_1607300472554_2_TH.json', '4970_A1LCAIHDH00010K_1608455660056_2_TH.json', '3365_A2LEBJJDE00106D_1608352817245_2_TH.json', '7851_A2LEBJJDE00074P_1606697009156_2_TH.json', '4478_A2LEBJJDE00052G_1606717537032_2_TH.json', '3216_A1LCAIHDH00006J_1607657662698_2_TH.json', '7338_A2LEBJJDE00006I_1604559058766_2_TH.json', '0715_A2LEBJJDE00175D_1607495257185_2_TH.json', '4370_A1LCAIHDH00005Q_1607734981950_2_TH.json', '6570_A2LEBJJDE001675_1607320280144_2_TH.json', '3977_A2LEBJJDE00161C_1606370947755_2_TH.json', '6078_A2LEBJJDE00160J_1606098577363_2_TH.json', '4002_A2LEBJJDE00137N_1606445546588_2_TH.json', '6078_A2LEBJJDE00160J_1606097566168_2_TH.json', '5438_A2LEBJJDE00159W_1606267517556_2_TH.json', '7988_A2LEBJJDE000357_1606984234227_2_TH.json', '6121_A2LEBJJDE00183L_1606226278794_2_TH.json', '2585_A2LEBJJDE001302_1606466085436_2_TH.json', '7698_A2LEBJJDE00165J_1607751713841_2_TH.json', '9244_A2LEBJJDE00154W_1606791167003_2_TH.json', '6367_A2LEBJJDE00038L_1606898158950_2_TH.json', '4810_A2LEBJJDE00177Y_1606091693650_2_TH.json', '0770_A2LEBJJDE000865_1608537652476_2_TH.json', '5438_A2LEBJJDE00159W_1606265982771_2_TH.json', '0703_A2LEBJJDE000774_1606023951265_2_TH.json', '3263_A1LCAIHDH00014R_1607569759254_2_TH.json', '6078_A2LEBJJDE00160J_1606098252621_2_TH.json', '8896_A2LEBJJDE001807_1606456684603_2_TH.json', '3365_A2LEBJJDE00106D_1606208048249_2_TH.json', '2278_A2LEBJJDE00181Z_1606653269598_2_TH.json', '7985_A1LCAIHDH00011D_1607837840858_2_TH.json', '7229_A2LEBJJDE00142H_1606737680468_2_TH.json', '3755_A2LEBJJDE001857_1608270294529_2_TH.json', '1981_A2LEBJJDE001493_1606523468395_2_TH.json', '4795_A2LEBJJDE00113S_1606543906923_2_TH.json', '6981_A2LEBJJDE00075I_1606368600833_2_TH.json', '3006_A1LCAIHDH00007C_1608194956096_2_TH.json', '3006_A1LCAIHDH00007C_1608284173824_2_TH.json', '4795_A2LEBJJDE00113S_1606899657770_2_TH.json', '8896_A2LEBJJDE001807_1606456586404_2_TH.json', '8999_A2LEBJJDE00001I_1606301104429_2_TH.json', '1221_A1LCAIHDH00009X_1609127442914_2_TH.json', '1237_A2LEBJJDE001584_1606115304072_2_TH.json', '7418_A2LEBJJDE000724_1606028007776_2_TH.json', '6570_A2LEBJJDE001675_1607404069366_2_TH.json', '1407_A2LEBJJDE001258_1605950786144_2_TH.json', '7297_A2LEBJJDE00151I_1606282220679_2_TH.json', '3216_A1LCAIHDH00006J_1607739941277_2_TH.json', '8297_A2LEBJJDE001076_1608727803444_2_TH.json', '1237_A2LEBJJDE001584_1606115386966_2_TH.json', '2996_A2LEBJJDE00083Q_1606529419218_2_TH.json', '1221_A1LCAIHDH00009X_1608261309752_2_TH.json', '0617_A2LEBJJDE000815_1606214145962_2_TH.json', '5305_A2LEBJJDE00122T_1606547109519_2_TH.json', '3065_A2LEBJJDE00103Y_1606474690598_2_TH.json', '5415_A2LEBJJDE00032S_1606716474440_2_TH.json', '9864_A2LEBJJDE001167_1606013094320_2_TH.json', '9874_A2LEBJJDE00123M_1606553487393_2_TH.json', '9874_A2LEBJJDE00123M_1605955012509_2_TH.json', '5619_A2LEBJJDE00002B_1606048088010_2_TH.json', '5619_A2LEBJJDE00002B_1606721909573_2_TH.json', '0643_A2LEBJJDE00048F_1606711660168_2_TH.json', '1237_A2LEBJJDE001584_1606114788136_2_TH.json', '2326_A2LEBJJDE00037S_1606206058902_2_TH.json', '4133_A1LCAIHDH000035_1608191457159_2_TH.json', '7851_A2LEBJJDE00074P_1606540363349_2_TH.json', '3977_A2LEBJJDE00039E_1606216979279_2_TH.json', '5255_A2LEBJJDE00007B_1606105913235_2_TH.json', '6818_A2LEBJJDE00170D_1606263262675_2_TH.json', '3977_A2LCBJCAC000073_1607311681764_2_TH.json', '5030_A2LEBJJDE00182S_1606697384520_2_TH.json', '9527_A2LEBJJDE00110E_1606743633331_2_TH.json', '4015_A2LEBJJDE00150P_1606702157195_2_TH.json', '7418_A2LEBJJDE00080C_1606703448016_2_TH.json', '8366_A2LEBJJDE00039E_1606216943600_2_TH.json', '4307_A2LEBJJDE000683_1606733868843_2_TH.json', '5946_A2LEBJJDE00085C_1607588858582_2_TH.json', '5438_A2LEBJJDE00159W_1606267539389_2_TH.json', '7297_A2LEBJJDE00151I_1606700972009_2_TH.json', '1983_A2LEBJJDE00188L_1606370179849_2_TH.json', '3006_A1LCAIHDH00007C_1608356522126_2_TH.json', '1069_A2LEBJJDE00094D_1607579198546_2_TH.json', '9244_A2LEBJJDE00154W_1606726846156_2_TH.json', '3269_A2LEBJJDE00096Y_1608250547910_2_TH.json', '3937_A2LEBJJDE00046T_1606722778416_2_TH.json', '7698_A2LEBJJDE00165J_1606198323108_2_TH.json', '9905_A2LEBJJDE00042M_1606538637917_2_TH.json', '4307_A2LEBJJDE000683_1606733745966_2_TH.json', '1963_A2LCBJCAC00003V_1608517267977_2_TH.json', '2720_A2LEBJJDE000401_1606802817431_2_TH.json', '9643_A2LEBJJDE00061H_1606455847535_2_TH.json', '3365_A2LEBJJDE00106D_1606540344792_2_TH.json', '8896_A2LEBJJDE001807_1606527714266_2_TH.json', '6570_A2LEBJJDE001675_1607830703354_2_TH.json', '5438_A2LEBJJDE00159W_1606265864164_2_TH.json', '2720_A2LEBJJDE000401_1606554856761_2_TH.json', '4133_A1LCAIHDH000035_1607674835610_2_TH.json', '4795_A2LEBJJDE00113S_1606546412284_2_TH.json', '9244_A2LEBJJDE00154W_1606796279437_2_TH.json', '8297_A2LEBJJDE001076_1608720713937_2_TH.json', '3216_A1LCAIHDH00006J_1607739508502_2_TH.json', '3006_A1LCAIHDH00007C_1607758516450_2_TH.json', '6718_A2LEBJJDE000451_1607421457612_2_TH.json', '9244_A2LEBJJDE00154W_1606361871519_2_TH.json', '3006_A1LCAIHDH00007C_1607658870559_2_TH.json', '1195_A2LEBJJDE00197M_1608344957544_2_TH.json', '7851_A2LEBJJDE00074P_1607148959668_2_TH.json', '2996_A2LEBJJDE00083Q_1607593892108_2_TH.json', '2326_A2LEBJJDE00037S_1607589270523_2_TH.json', '8606_A2LEBJJDE00155P_1606461468017_2_TH.json', '3216_A1LCAIHDH00006J_1607680405646_2_TH.json', '9338_A2LEBJJDE00101D_1606738514416_2_TH.json', '3065_A2LEBJJDE00103Y_1606725174394_2_TH.json', '5415_A2LEBJJDE00032S_1606473364098_2_TH.json', '3006_A1LCAIHDH00007C_1607735702909_2_TH.json', '5438_A2LEBJJDE00159W_1606266154837_2_TH.json', '4267_A1LCAIHDH00016D_1608355385949_2_TH.json', '8606_A2LEBJJDE00155P_1606460314634_2_TH.json', '1080_A2LEBJJDE00092R_1606104599118_2_TH.json', '9316_A2LEBJJDE00034E_1606531040681_2_TH.json', '3332_A2LEBJJDE00100K_1606464786738_2_TH.json', '3977_A2LEBJJDE00161C_1606370734935_2_TH.json', '2278_A2LEBJJDE00181Z_1606653102516_2_TH.json', '0617_A2LEBJJDE000815_1606535616973_2_TH.json', '7366_A2LEBJJDE00088Q_1607649270348_2_TH.json', '9874_A2LEBJJDE00123M_1606557938209_2_TH.json', '5030_A2LEBJJDE00186Z_1606741636111_2_TH.json', '5030_A2LEBJJDE00182S_1606888134886_2_TH.json', '9414_A2LEBJJDE00033L_1606714088608_2_TH.json', '7229_A2LEBJJDE00142H_1606560303366_2_TH.json', '1069_A2LEBJJDE00094D_1607487582670_2_TH.json', '1963_A2LCBJCAC00003V_1608254220484_2_TH.json', '3006_A1LCAIHDH00007C_1607854782058_2_TH.json', '1981_A2LEBJJDE001493_1606523281684_2_TH.json', '5438_A2LEBJJDE00159W_1606266875976_2_TH.json', '8297_A2LEBJJDE001076_1607507857945_2_TH.json', '9447_A2LEBJJDE001951_1606304588682_2_TH.json', '7366_A2LEBJJDE00143A_1605922237269_2_TH.json', '5030_A2LEBJJDE00186Z_1606293233049_2_TH.json', '8896_A2LEBJJDE001807_1607653046129_2_TH.json', '3006_A1LCAIHDH00007C_1608354360316_2_TH.json', '4370_A1LCAIHDH00005Q_1608167298829_2_TH.json', '9578_A2LEBJJDE00105K_1606536604372_2_TH.json', '0013_A2LEBJJDE00060O_1605949385518_2_TH.json', '1221_A1LCAIHDH00009X_1608275526447_2_TH.json', '2326_A2LEBJJDE001998_1606795773481_2_TH.json', '9578_A2LEBJJDE00105K_1608620739119_2_TH.json', '7851_A2LEBJJDE00074P_1606298342254_2_TH.json', '8337_A2LEBJJDE00109R_1606115858441_2_TH.json', '9414_A2LEBJJDE00033L_1606189311745_2_TH.json', '3006_A1LCAIHDH00007C_1607762012000_2_TH.json', '5214_A2LEBJJDE001399_1607593301424_2_TH.json', '5214_A2LEBJJDE001399_1607596149783_2_TH.json', '9527_A2LEBJJDE00110E_1606743323341_2_TH.json', '1407_A2LEBJJDE001258_1606363684125_2_TH.json', '2800_A2LEBJJDE00036Z_1606026359606_2_TH.json', '3006_A1LCAIHDH00007C_1608280060017_2_TH.json', '2326_A2LEBJJDE001998_1606617135276_2_TH.json', '4307_A2LEBJJDE000683_1606659624661_2_TH.json', '4307_A2LEBJJDE000683_1606733933614_2_TH.json', '2720_A2LEBJJDE000401_1606718125373_2_TH.json', '7985_A1LCAIHDH00011D_1607838544990_2_TH.json', '3977_A2LCBJCAC000073_1607311163684_2_TH.json', '8281_A2LEBJJDE00055U_1605937221466_2_TH.json', '3006_A1LCAIHDH00007C_1607658585050_2_TH.json', '8606_A2LEBJJDE00155P_1606461179149_2_TH.json', '3216_A1LCAIHDH00006J_1607770526275_2_TH.json', '5009_A1LCAIHDH00020E_1608268697924_2_TH.json', '6825_A1LCAIHDH00018Y_1608026281456_2_TH.json', '5415_A2LEBJJDE00032S_1606558322174_2_TH.json', '1983_A2LEBJJDE00188L_1606442242573_2_TH.json', '3977_A2LEBJJDE00161C_1606370274053_2_TH.json', '3977_A2LEBJJDE00161C_1606370304110_2_TH.json', '5438_A2LEBJJDE00159W_1606266495901_2_TH.json', '4810_A2LEBJJDE00177Y_1606384643440_2_TH.json', '2469_A2LEBJJDE00019Q_1607753528178_2_TH.json', '5438_A2LEBJJDE00159W_1606265999023_2_TH.json', '9578_A2LEBJJDE00105K_1606022128577_2_TH.json', '4370_A1LCAIHDH00005Q_1608094613245_2_TH.json', '4970_A1LCAIHDH00010K_1608345216066_2_TH.json', '3263_A1LCAIHDH00014R_1608447689461_2_TH.json', '5030_A2LEBJJDE00182S_1606888046075_2_TH.json', '9887_A2LEBJJDE00066H_1605943968211_2_TH.json', '7418_A2LEBJJDE000724_1606452146032_2_TH.json', '1407_A2LEBJJDE001258_1606361645769_2_TH.json', '6078_A2LEBJJDE00160J_1606098085784_2_TH.json', '4370_A1LCAIHDH00005Q_1607763941773_2_TH.json', '3677_A2LEBJJDE00087X_1606120172010_2_TH.json', '5009_A1LCAIHDH00020E_1608874444282_2_TH.json', '4370_A1LCAIHDH00005Q_1607735712855_2_TH.json', '8896_A2LEBJJDE001807_1607653157291_2_TH.json', '0617_A2LEBJJDE000815_1606648650605_2_TH.json', '0616_A2LEBJJDE00004W_1606536965136_2_TH.json', '2996_A2LEBJJDE00083Q_1606445865575_2_TH.json', '3755_A2LEBJJDE001857_1608270218340_2_TH.json', '1743_A2LEBJJDE00031Z_1606279914869_2_TH.json', '0425_A2LEBJJDE00079P_1606739252195_2_TH.json', '8281_A2LEBJJDE00055U_1606723306567_2_TH.json', '3263_A1LCAIHDH00014R_1608258684337_2_TH.json', '3216_A1LCAIHDH00006J_1607856592103_2_TH.json', '5619_A2LEBJJDE00002B_1606357520389_2_TH.json', '0715_A2LEBJJDE00175D_1608812203981_2_TH.json', '2602_A1LCAIHDH00013Y_1607569611311_2_TH.json', '7418_A2LEBJJDE00080C_1606267394171_2_TH.json', '6570_A2LEBJJDE001675_1607773235901_2_TH.json', '2326_A2LEBJJDE00037S_1606615907700_2_TH.json', '6437_A1LCAIHDH00019R_1607653241554_2_TH.json', '9905_A2LEBJJDE00042M_1606381633777_2_TH.json', '5619_A2LEBJJDE00002B_1606722539776_2_TH.json', '9874_A2LEBJJDE00123M_1607054481610_2_TH.json', '8281_A2LEBJJDE00055U_1606544692661_2_TH.json', '4970_A1LCAIHDH00010K_1608096823067_2_TH.json', '9414_A2LEBJJDE00033L_1608428449843_2_TH.json', '5619_A2LEBJJDE00002B_1606032191307_2_TH.json', '1069_A2LEBJJDE00094D_1607838480312_2_TH.json', '2996_A2LEBJJDE00083Q_1606275484049_2_TH.json', '9527_A2LEBJJDE00110E_1606354582074_2_TH.json', '4970_A1LCAIHDH00010K_1608270717480_2_TH.json', '7229_A2LEBJJDE00142H_1606737593120_2_TH.json', '6570_A2LEBJJDE001675_1607498829912_2_TH.json', '0013_A2LEBJJDE00060O_1606550875999_2_TH.json', '0770_A2LEBJJDE000865_1606708541842_2_TH.json', '4810_A2LEBJJDE00177Y_1607586399641_2_TH.json', '5030_A2LEBJJDE00186Z_1606293472463_2_TH.json', '8102_A2LEBJJDE000633_1606723693176_2_TH.json', '3006_A1LCAIHDH00007C_1607759710001_2_TH.json', '4133_A1LCAIHDH000035_1607676536973_2_TH.json', '5305_A2LEBJJDE00122T_1606208728978_2_TH.json', '8999_A2LEBJJDE00001I_1606368185998_2_TH.json', '5438_A2LEBJJDE00159W_1606266771338_2_TH.json', '3755_A2LEBJJDE001857_1608270638749_2_TH.json', '0715_A2LEBJJDE00175D_1607495468829_2_TH.json', '0643_A2LEBJJDE00048F_1606733770323_2_TH.json', '2720_A2LEBJJDE000401_1606550609289_2_TH.json', '4263_A2LEBJJDE00062A_1606727282388_2_TH.json', '2278_A2LEBJJDE00181Z_1606655779534_2_TH.json', '2278_A2LEBJJDE00181Z_1606656145557_2_TH.json', '9447_A2LEBJJDE001951_1606304548356_2_TH.json', '2720_A2LEBJJDE000401_1606733378324_2_TH.json', '8802_A2LEBJJDE00174K_1606867048359_2_TH.json', '7851_A2LEBJJDE00074P_1606697957025_2_TH.json', '4370_A1LCAIHDH00005Q_1608105676027_2_TH.json', '5030_A2LEBJJDE00182S_1606888059427_2_TH.json', '3216_A1LCAIHDH00006J_1607843809202_2_TH.json', '1534_A2LEBJJDE00133G_1607159766362_2_TH.json', '0663_A2LEBJJDE001716_1606279267744_2_TH.json', '3365_A2LEBJJDE00106D_1606279289517_2_TH.json', '3216_A1LCAIHDH00006J_1607769096767_2_TH.json', '4370_A1LCAIHDH00005Q_1608190735775_2_TH.json', '7027_A2LEBJJDE001117_1602922543531_2_TH.json', '1981_A2LEBJJDE001493_1606892669985_2_TH.json', '8297_A2LEBJJDE001076_1607592523983_2_TH.json', '7978_A2LEBJJDE00071B_1606543755284_2_TH.json', '7851_A2LEBJJDE00074P_1607501148894_2_TH.json', '4970_A1LCAIHDH00010K_1608634292961_2_TH.json', '8212_A2LEBJJDE00070I_1607686350323_2_TH.json', '8896_A2LEBJJDE001807_1607157253050_2_TH.json', '9527_A2LEBJJDE00110E_1606531314774_2_TH.json', '1221_A1LCAIHDH00009X_1607928665028_2_TH.json', '4232_A2LEBJJDE00146O_1606631856634_2_TH.json', '5305_A2LEBJJDE00122T_1606550743740_2_TH.json', '5030_A2LEBJJDE00186Z_1606741387589_2_TH.json', '9338_A2LEBJJDE00101D_1606737803016_2_TH.json', '0013_A2LEBJJDE00060O_1606386474090_2_TH.json', '8000_A2LEBJJDE000956_1606540975388_2_TH.json', '8297_A2LEBJJDE001076_1607612661736_2_TH.json', '9338_A2LEBJJDE00101D_1606738073166_2_TH.json', '8606_A2LEBJJDE00155P_1606461437173_2_TH.json', '6825_A1LCAIHDH00018Y_1607670336536_2_TH.json', '4232_A2LEBJJDE00146O_1607012213631_2_TH.json', '8999_A2LEBJJDE00001I_1606540396639_2_TH.json', '2996_A2LEBJJDE00083Q_1606272486890_2_TH.json', '4970_A1LCAIHDH00010K_1607764594057_2_TH.json', '6570_A2LEBJJDE001675_1607830837849_2_TH.json', '4263_A2LEBJJDE00062A_1606477752540_2_TH.json', '7851_A2LEBJJDE00074P_1607175354692_2_TH.json', '4002_A2LEBJJDE00137N_1606544237546_2_TH.json', '7297_A2LEBJJDE00151I_1606359217488_2_TH.json', '4133_A1LCAIHDH000035_1608191181503_2_TH.json', '6775_A2LEBJJDE00022Y_1606526594731_2_TH.json', '3977_A2LCBJCAC000073_1607311243255_2_TH.json', '9447_A2LEBJJDE001951_1606020295153_2_TH.json', '0643_A2LEBJJDE00048F_1606720117267_2_TH.json', '1221_A1LCAIHDH00009X_1607735094244_2_TH.json', '0643_A2LEBJJDE00048F_1606813511847_2_TH.json', '3677_A2LEBJJDE00087X_1606533047907_2_TH.json', '9578_A2LEBJJDE00105K_1608793020862_2_TH.json', '5415_A2LEBJJDE00032S_1606198399781_2_TH.json', '3977_A2LEBJJDE00161C_1606442036771_2_TH.json', '3263_A1LCAIHDH00014R_1607832034474_2_TH.json', '8297_A2LEBJJDE001076_1608612587062_2_TH.json', '8297_A2LEBJJDE001076_1608611584688_2_TH.json', '9447_A2LEBJJDE001951_1606208988442_2_TH.json', '5849_A2LEBJJDE00015J_1605948296244_2_TH.json', '3755_A2LEBJJDE001857_1608269503311_2_TH.json', '7851_A2LEBJJDE00074P_1606646535268_2_TH.json', '9338_A2LEBJJDE00101D_1606628837435_2_TH.json', '4307_A2LEBJJDE000683_1606655792580_2_TH.json', '2278_A2LEBJJDE00181Z_1606653081526_2_TH.json', '9527_A2LEBJJDE00110E_1606533956336_2_TH.json', '4970_A1LCAIHDH00010K_1608604797637_2_TH.json', '2326_A2LEBJJDE001998_1607165575122_2_TH.json', '9316_A2LEBJJDE00034E_1606009744671_2_TH.json', '3977_A2LEBJJDE00039E_1606216912785_2_TH.json', '2326_A2LEBJJDE00037S_1606204913529_2_TH.json', '2326_A2LEBJJDE00056N_1607830232643_2_TH.json', '9578_A2LEBJJDE00105K_1606025343494_2_TH.json', '5030_A2LEBJJDE00186Z_1606740837364_2_TH.json', '5438_A2LEBJJDE00159W_1606266218005_2_TH.json', '3275_A2LEBJJDE001766_1607667678184_2_TH.json', '6570_A2LEBJJDE001675_1607841050650_2_TH.json', '4970_A1LCAIHDH00010K_1607763596592_2_TH.json', '5619_A2LEBJJDE00002B_1606723067012_2_TH.json', '6775_A2LEBJJDE00022Y_1607664463122_2_TH.json', '1940_A2LEBJJDE000307_1606367981525_2_TH.json', '7851_A2LEBJJDE00074P_1607152787397_2_TH.json', '4133_A1LCAIHDH000035_1608693021166_2_TH.json', '3275_A2LEBJJDE001766_1606365167057_2_TH.json', '3263_A1LCAIHDH00014R_1608348426817_2_TH.json', '9202_A2LEBJJDE00082X_1606486038848_2_TH.json', '5214_A2LEBJJDE001399_1607596245851_2_TH.json', '7978_A2LEBJJDE00071B_1606716745403_2_TH.json', '8297_A2LEBJJDE001076_1608953075767_2_TH.json', '9578_A2LEBJJDE00105K_1606619293291_2_TH.json', '6570_A2LEBJJDE001675_1607496591112_2_TH.json', '8802_A2LEBJJDE00174K_1608700081537_2_TH.json', '4970_A1LCAIHDH00010K_1608270343203_2_TH.json', '8000_A2LEBJJDE000956_1604636266372_2_TH.json', '3263_A1LCAIHDH00014R_1607822661066_2_TH.json', '3216_A1LCAIHDH00006J_1607661730556_2_TH.json', '2326_A2LEBJJDE001998_1606468806399_2_TH.json', '8606_A2LEBJJDE00155P_1606460636321_2_TH.json', '9244_A2LEBJJDE00154W_1606129833353_2_TH.json', '4810_A2LEBJJDE00177Y_1607588414470_2_TH.json', '3269_A2LEBJJDE00096Y_1608086406703_2_TH.json', '4970_A1LCAIHDH00010K_1607762222384_2_TH.json', '5030_A2LEBJJDE00186Z_1606741330972_2_TH.json', '5569_A2LEBJJDE001211_1607137551164_2_TH.json', '9874_A2LEBJJDE00123M_1606382780808_2_TH.json', '7985_A1LCAIHDH00011D_1607859682240_2_TH.json', '5305_A2LEBJJDE00122T_1606552884301_2_TH.json', '9578_A2LEBJJDE00105K_1606199904233_2_TH.json', '7851_A2LEBJJDE00074P_1607152882214_2_TH.json', '1983_A2LEBJJDE00188L_1606370235248_2_TH.json', '4370_A1LCAIHDH00005Q_1607821015497_2_TH.json', '7698_A2LEBJJDE00165J_1606460157883_2_TH.json', '6440_A2LEBJJDE001352_1607327793596_2_TH.json', '0715_A2LEBJJDE00175D_1607495445435_2_TH.json', '7851_A2LEBJJDE00074P_1607162580673_2_TH.json', '9447_A2LEBJJDE001951_1606129060671_2_TH.json', '6078_A2LEBJJDE00093K_1606525788607_2_TH.json', '4307_A2LEBJJDE000683_1606655452331_2_TH.json', '1221_A1LCAIHDH00009X_1608968425656_2_TH.json', '7701_A1LCAIHDH000085_1608266962289_2_TH.json', '2800_A2LEBJJDE00036Z_1606378870011_2_TH.json', '0617_A2LEBJJDE000815_1606214175289_2_TH.json', '3755_A2LEBJJDE001857_1608269729829_2_TH.json', '2326_A2LEBJJDE00037S_1605927590382_2_TH.json', '0616_A2LEBJJDE00004W_1606715499277_2_TH.json', '4810_A2LEBJJDE00177Y_1607586271628_2_TH.json', '5619_A2LEBJJDE00002B_1606700967468_2_TH.json', '0616_A2LEBJJDE00004W_1607650932662_2_TH.json', '8212_A2LEBJJDE00070I_1606708822978_2_TH.json', '1071_A2LEBJJDE00173R_1606615012438_2_TH.json', '3977_A2LEBJJDE00161C_1606371000817_2_TH.json', '7338_A2LEBJJDE00006I_1606707144336_2_TH.json', '0617_A2LEBJJDE000815_1606613775933_2_TH.json', '0643_A2LEBJJDE00048F_1606713494324_2_TH.json', '8606_A2LEBJJDE00155P_1606460785301_2_TH.json', '1963_A2LCBJCAC00003V_1608517619802_2_TH.json', '3263_A1LCAIHDH00014R_1608534385659_2_TH.json', '0715_A2LEBJJDE00175D_1607487884704_2_TH.json', '5939_A2LEBJJDE00129F_1606731522891_2_TH.json', '0715_A2LEBJJDE00175D_1607495176402_2_TH.json', '6570_A2LEBJJDE001675_1607772757838_2_TH.json', '9578_A2LEBJJDE00105K_1608189043474_2_TH.json', '4810_A2LEBJJDE00177Y_1606384371931_2_TH.json', '6818_A2LEBJJDE00170D_1606633465659_2_TH.json', '3858_A2LEBJJDE00076B_1607866876190_2_TH.json', '3216_A1LCAIHDH00006J_1607662372621_2_TH.json', '3006_A1LCAIHDH00007C_1607849349081_2_TH.json', '0770_A2LEBJJDE000865_1607314928773_2_TH.json', '3006_A1LCAIHDH00007C_1607760602561_2_TH.json', '6570_A2LEBJJDE001675_1607772873288_2_TH.json', '1983_A2LEBJJDE00188L_1606102497146_2_TH.json', '0715_A2LEBJJDE00175D_1606883979785_2_TH.json', '1407_A2LEBJJDE001258_1606289472942_2_TH.json', '8212_A2LEBJJDE00070I_1604717842848_2_TH.json', '5619_A2LEBJJDE00002B_1606722909498_2_TH.json', '7168_A2LEBJJDE00124F_1608428958494_2_TH.json', '3365_A2LEBJJDE00106D_1606450158576_2_TH.json', '6440_A2LEBJJDE001352_1607760151041_2_TH.json', '8212_A2LEBJJDE00070I_1607685788608_2_TH.json', '7851_A2LEBJJDE00074P_1606643372161_2_TH.json', '3977_A2LEBJJDE00161C_1606370828917_2_TH.json', '3977_A2LCBJCAC000073_1608001193521_2_TH.json', '3365_A2LEBJJDE00106D_1606207475815_2_TH.json', '1071_A2LEBJJDE00173R_1606092818257_2_TH.json', '1981_A2LEBJJDE001493_1606711074193_2_TH.json', '4795_A2LEBJJDE00113S_1606279714349_2_TH.json', '7670_A1LCAIHDH000126_1608793272671_2_TH.json', '5569_A2LEBJJDE001211_1606363744097_2_TH.json', '8606_A2LEBJJDE00155P_1606461140797_2_TH.json', '8999_A2LEBJJDE00001I_1606290272241_2_TH.json', '8896_A2LEBJJDE001807_1607653481243_2_TH.json', '8146_A2LEBJJDE00148A_1606640608127_2_TH.json', '3046_A2LEBJJDE00089J_1605848707889_2_TH.json', '5030_A2LEBJJDE00182S_1606174724507_2_TH.json', '1407_A2LEBJJDE001258_1606369773349_2_TH.json', '3677_A2LEBJJDE00087X_1607758683582_2_TH.json', '3269_A2LEBJJDE00096Y_1609204768300_2_TH.json', '3977_A2LEBJJDE00161C_1606442104859_2_TH.json', '9527_A2LEBJJDE00110E_1607611050779_2_TH.json', '7851_A2LEBJJDE00074P_1607166054055_2_TH.json', '0715_A2LEBJJDE00175D_1606275369098_2_TH.json', '0616_A2LEBJJDE00004W_1606027946953_2_TH.json', '0013_A2LEBJJDE00060O_1606386195243_2_TH.json', '7297_A2LEBJJDE00151I_1606358200133_2_TH.json', '7851_A2LEBJJDE00074P_1607179328502_2_TH.json', '6440_A2LEBJJDE001352_1607134025324_2_TH.json', '3977_A2LEBJJDE00161C_1606371117787_2_TH.json', '3216_A1LCAIHDH00006J_1607752692233_2_TH.json', '1221_A1LCAIHDH00009X_1607666214959_2_TH.json', '4795_A2LEBJJDE00113S_1607650765507_2_TH.json', '3216_A1LCAIHDH00006J_1608286258426_2_TH.json', '9244_A2LEBJJDE00154W_1606796259878_2_TH.json', '7985_A1LCAIHDH00011D_1607860175237_2_TH.json', '3269_A2LEBJJDE00096Y_1608089406310_2_TH.json', '9338_A2LEBJJDE00101D_1606738044783_2_TH.json', '4717_A2LEBJJDE001208_1605950321569_2_TH.json', '7701_A1LCAIHDH000085_1608266928970_2_TH.json', '3755_A2LEBJJDE001857_1607517050802_2_TH.json', '1069_A2LEBJJDE00094D_1607824789320_2_TH.json', '3677_A2LEBJJDE00087X_1606034914659_2_TH.json', '7978_A2LEBJJDE00071B_1607145462459_2_TH.json', '4370_A1LCAIHDH00005Q_1608252989053_2_TH.json', '5939_A2LEBJJDE00129F_1606533368612_2_TH.json', '3006_A1LCAIHDH00007C_1607650875464_2_TH.json', '5619_A2LEBJJDE00002B_1607911721308_2_TH.json', '3263_A1LCAIHDH00014R_1608181985157_2_TH.json', '6078_A2LEBJJDE00160J_1606098100180_2_TH.json', '7978_A2LEBJJDE00071B_1606619018158_2_TH.json', '0616_A2LEBJJDE00004W_1606707372824_2_TH.json', '3977_A2LCBJCAC000073_1608001294696_2_TH.json', '3977_A2LEBJJDE00039E_1606216846185_2_TH.json', '2327_A2LEBJJDE00091Y_1607227361648_2_TH.json', '0617_A2LEBJJDE000815_1606536114605_2_TH.json', '1981_A2LEBJJDE001493_1606723327491_2_TH.json', '4307_A2LEBJJDE000683_1606655530535_2_TH.json', '3216_A1LCAIHDH00006J_1607844047556_2_TH.json', '1221_A1LCAIHDH00009X_1608864769403_2_TH.json', '2996_A2LEBJJDE00083Q_1606550033894_2_TH.json', '8606_A2LEBJJDE00155P_1606460480872_2_TH.json', '0013_A2LEBJJDE00060O_1606550987791_2_TH.json', '1237_A2LEBJJDE001584_1606114430273_2_TH.json', '7126_A2LEBJJDE001534_1606441155638_2_TH.json', '6570_A2LEBJJDE001675_1607319457983_2_TH.json', '4133_A1LCAIHDH000035_1607674349119_2_TH.json', '5569_A2LEBJJDE001211_1606986235181_2_TH.json', '7978_A2LEBJJDE00071B_1606620532895_2_TH.json', '3216_A1LCAIHDH00006J_1607661890268_2_TH.json', '3977_A2LEBJJDE00161C_1606370532611_2_TH.json', '3332_A2LEBJJDE00100K_1605940811391_2_TH.json', '6570_A2LEBJJDE001675_1607500991161_2_TH.json', '8281_A2LEBJJDE00055U_1606303968842_2_TH.json', '3085_A2LEBJJDE00128M_1606645682319_2_TH.json', '4002_A2LEBJJDE00137N_1606376670498_2_TH.json', '3275_A2LEBJJDE001766_1606477425955_2_TH.json', '8606_A2LEBJJDE00155P_1606460944261_2_TH.json', '8896_A2LEBJJDE001807_1607653444150_2_TH.json', '1983_A2LEBJJDE00188L_1606442134951_2_TH.json', '9244_A2LEBJJDE00154W_1607590861784_2_TH.json', '1071_A2LEBJJDE00173R_1606615069922_2_TH.json', '7985_A1LCAIHDH00011D_1608460209569_2_TH.json', '4810_A2LEBJJDE00177Y_1607586197093_2_TH.json', '4970_A1LCAIHDH00010K_1608189952405_2_TH.json', '8896_A2LEBJJDE001807_1607653507077_2_TH.json', '1069_A2LEBJJDE00094D_1607251300940_2_TH.json', '3755_A2LEBJJDE001857_1608269670505_2_TH.json', '1221_A1LCAIHDH00009X_1608429342038_2_TH.json', '3216_A1LCAIHDH00006J_1607662150870_2_TH.json', '4370_A1LCAIHDH00005Q_1608029153022_2_TH.json', '0643_A2LEBJJDE00048F_1606712038427_2_TH.json', '9338_A2LEBJJDE00101D_1606540959749_2_TH.json', '0715_A2LEBJJDE00175D_1606704346716_2_TH.json', '1981_A2LEBJJDE001493_1606533246299_2_TH.json', '7985_A1LCAIHDH00011D_1608114282703_2_TH.json', '0425_A2LEBJJDE00079P_1606604082563_2_TH.json', '2278_A2LEBJJDE00181Z_1606655867561_2_TH.json', '5438_A2LEBJJDE00159W_1606266964266_2_TH.json', '5619_A2LEBJJDE00002B_1606723769818_2_TH.json', '5305_A2LEBJJDE00122T_1606558426625_2_TH.json', '5415_A2LEBJJDE00027Y_1606297150435_2_TH.json', '4307_A2LEBJJDE000683_1606655825088_2_TH.json', '0616_A2LEBJJDE00004W_1606982163572_2_TH.json', '5030_A2LEBJJDE00186Z_1606292859150_2_TH.json', '9874_A2LEBJJDE00123M_1607574665405_2_TH.json', '4810_A2LEBJJDE00177Y_1607589637199_2_TH.json', '2327_A2LEBJJDE00091Y_1606009340704_2_TH.json', '5415_A2LEBJJDE00032S_1606295211923_2_TH.json', '7978_A2LEBJJDE00071B_1606545856581_2_TH.json', '3065_A2LEBJJDE00103Y_1606707961558_2_TH.json', '9578_A2LEBJJDE00105K_1608088303152_2_TH.json', '5030_A2LEBJJDE00182S_1606888169512_2_TH.json', '9338_A2LEBJJDE00101D_1606539862327_2_TH.json', '9578_A2LEBJJDE00105K_1607999401462_2_TH.json', '2720_A2LEBJJDE000401_1606705845813_2_TH.json', '0616_A2LEBJJDE00004W_1606538584363_2_TH.json', '3677_A2LEBJJDE00087X_1607758238055_2_TH.json', '3216_A1LCAIHDH00006J_1607662730807_2_TH.json', '3977_A2LCBJCAC000073_1608000985460_2_TH.json', '7851_A2LEBJJDE00074P_1607140755473_2_TH.json', '8297_A2LEBJJDE001076_1609125754597_2_TH.json', '4002_A2LEBJJDE00137N_1606364761953_2_TH.json', '8999_A2LEBJJDE00001I_1606279363304_2_TH.json', '2278_A2LEBJJDE00181Z_1606653994418_2_TH.json', '2800_A2LEBJJDE00036Z_1606376637849_2_TH.json', '3263_A1LCAIHDH00014R_1607738478836_2_TH.json', '3006_A1LCAIHDH00007C_1607652451405_2_TH.json', '3977_A2LEBJJDE00161C_1606370815626_2_TH.json', '4970_A1LCAIHDH00010K_1608369268238_2_TH.json', '5438_A2LEBJJDE00159W_1606267409012_2_TH.json', '0425_A2LEBJJDE00079P_1605793890748_2_TH.json', '9244_A2LEBJJDE00154W_1607590762121_2_TH.json', '4267_A1LCAIHDH00016D_1608009780395_2_TH.json', '9578_A2LEBJJDE00105K_1607241401719_2_TH.json', '3365_A2LEBJJDE00106D_1606278198144_2_TH.json', '4717_A2LEBJJDE001208_1605949664547_2_TH.json', '0643_A2LEBJJDE00048F_1606711433638_2_TH.json', '7670_A1LCAIHDH000126_1607650340266_2_TH.json', '5438_A2LEBJJDE00159W_1606266520410_2_TH.json', '0643_A2LEBJJDE00048F_1606889175619_2_TH.json', '0715_A2LEBJJDE00175D_1608812150048_2_TH.json', '2379_A2LEBJJDE00172Y_1605860591217_2_TH.json', '7366_A2LEBJJDE00088Q_1607648922630_2_TH.json', '4370_A1LCAIHDH00005Q_1608080506518_2_TH.json', '0617_A2LEBJJDE000815_1605969435329_2_TH.json', '2996_A2LEBJJDE00083Q_1606444094558_2_TH.json', '4557_A2LEBJJDE00043F_1606119858383_2_TH.json', '8896_A2LEBJJDE001807_1606114122292_2_TH.json', '3046_A2LEBJJDE00089J_1606534334555_2_TH.json', '1459_A2LEBJJDE00025D_1606551882057_2_TH.json', '3263_A1LCAIHDH00014R_1608357418305_2_TH.json', '4015_A2LEBJJDE00150P_1606699106717_2_TH.json', '1237_A2LEBJJDE001584_1606114469914_2_TH.json', '0425_A2LEBJJDE00079P_1606607713909_2_TH.json', '4307_A2LEBJJDE000683_1606661700432_2_TH.json', '9400_A2LEBJJDE00078W_1605177534069_2_TH.json', '5438_A2LEBJJDE00159W_1606267597866_2_TH.json', '5939_A2LEBJJDE00129F_1606377900791_2_TH.json', '9527_A2LEBJJDE00110E_1606399017867_2_TH.json', '7229_A2LEBJJDE00142H_1606737644950_2_TH.json', '4263_A2LEBJJDE00062A_1606200344537_2_TH.json', '9874_A2LEBJJDE00123M_1607136391679_2_TH.json', '9578_A2LEBJJDE00105K_1608435060237_2_TH.json', '5415_A2LEBJJDE00027Y_1606296485836_2_TH.json', '2327_A2LEBJJDE00091Y_1606029230199_2_TH.json', '5619_A2LEBJJDE00002B_1609583769603_2_TH.json', '9356_A2LEBJJDE00192M_1607685003887_2_TH.json', '7670_A1LCAIHDH000126_1607660088809_2_TH.json', '5415_A2LEBJJDE00032S_1606473061218_2_TH.json', '7851_A2LEBJJDE00074P_1607067746101_2_TH.json', '3006_A1LCAIHDH00007C_1607848316182_2_TH.json', '8606_A2LEBJJDE00155P_1606460716576_2_TH.json', '9244_A2LEBJJDE00154W_1606130842428_2_TH.json', '8802_A2LEBJJDE00174K_1606867024685_2_TH.json', '5030_A2LEBJJDE00186Z_1606740576092_2_TH.json', '8802_A2LEBJJDE00174K_1608699366426_2_TH.json', '0733_A2LEBJJDE000084_1606295079876_2_TH.json', '2278_A2LEBJJDE00181Z_1606656119022_2_TH.json', '1221_A1LCAIHDH00009X_1607849811018_2_TH.json', '3339_A2LEBJJDE00057G_1605952482617_2_TH.json', '7366_A2LEBJJDE00088Q_1607648516106_2_TH.json', '7988_A2LEBJJDE000357_1603415998631_2_TH.json', '3006_A1LCAIHDH00007C_1607673645939_2_TH.json', '4478_A2LEBJJDE00052G_1606794196650_2_TH.json', '5569_A2LEBJJDE001211_1606372191350_2_TH.json', '7978_A2LEBJJDE00071B_1606550794471_2_TH.json', '4133_A1LCAIHDH000035_1608692622051_2_TH.json', '5214_A2LEBJJDE001399_1607591643246_2_TH.json', '3006_A1LCAIHDH00007C_1607759976325_2_TH.json', '1983_A2LEBJJDE00188L_1606442229412_2_TH.json', '4478_A2LEBJJDE00052G_1606209493972_2_TH.json', '7698_A2LEBJJDE00165J_1606547754567_2_TH.json', '3269_A2LEBJJDE00096Y_1608254044870_2_TH.json', '3046_A2LEBJJDE00089J_1606467182313_2_TH.json', '3269_A2LEBJJDE00096Y_1608083653586_2_TH.json', '8896_A2LEBJJDE001807_1607485134322_2_TH.json', '7366_A2LEBJJDE00088Q_1607648947153_2_TH.json', '2278_A2LEBJJDE00181Z_1606656054552_2_TH.json', '2720_A2LEBJJDE000401_1606538414770_2_TH.json', '3006_A1LCAIHDH00007C_1607677367832_2_TH.json', '1983_A2LEBJJDE00188L_1606101703170_2_TH.json', '8212_A2LEBJJDE00070I_1607686548458_2_TH.json', '4370_A1LCAIHDH00005Q_1607837222616_2_TH.json', '4478_A2LEBJJDE00052G_1606353588081_2_TH.json', '5569_A2LEBJJDE001211_1607825469345_2_TH.json', '0425_A2LEBJJDE00079P_1606739488700_2_TH.json', '3006_A1LCAIHDH00007C_1607659724409_2_TH.json', '2996_A2LEBJJDE00083Q_1606467614895_2_TH.json', '3977_A2LCBJCAC000073_1607311393835_2_TH.json', '3216_A1LCAIHDH00006J_1607661850714_2_TH.json', '3977_A2LCBJCAC000073_1607325729061_2_TH.json', '6078_A2LEBJJDE00093K_1606612423066_2_TH.json', '2326_A2LEBJJDE001998_1607847797297_2_TH.json', '1743_A2LEBJJDE00031Z_1606288665930_2_TH.json', '2800_A2LEBJJDE00036Z_1606025026115_2_TH.json', '7366_A2LEBJJDE00088Q_1607648971539_2_TH.json', '8000_A2LEBJJDE000956_1603684249887_2_TH.json', '3977_A2LEBJJDE00161C_1606370594978_2_TH.json', '3006_A1LCAIHDH00007C_1608199455814_2_TH.json', '2469_A2LEBJJDE00019Q_1606269144754_2_TH.json', '3006_A1LCAIHDH00007C_1607675286167_2_TH.json', '0616_A2LEBJJDE00004W_1607651300406_2_TH.json', '8281_A2LEBJJDE00055U_1606528452196_2_TH.json', '4970_A1LCAIHDH00010K_1607657892928_2_TH.json', '0715_A2LEBJJDE00175D_1606882913517_2_TH.json', '5415_A2LEBJJDE00027Y_1606810721358_2_TH.json', '6570_A2LEBJJDE001675_1607852391519_2_TH.json', '1983_A2LEBJJDE00188L_1606370329963_2_TH.json', '3006_A1LCAIHDH00007C_1608001802523_2_TH.json', '0617_A2LEBJJDE000815_1606535648138_2_TH.json', '3046_A2LEBJJDE00089J_1606545877530_2_TH.json', '3977_A2LEBJJDE00161C_1606442082186_2_TH.json', '4015_A2LEBJJDE00150P_1606359126153_2_TH.json', '4795_A2LEBJJDE00113S_1606441308830_2_TH.json', '3216_A1LCAIHDH00006J_1607657997496_2_TH.json', '3006_A1LCAIHDH00007C_1608001104566_2_TH.json', '5305_A2LEBJJDE00122T_1606554562170_2_TH.json', '1069_A2LEBJJDE00094D_1607563613477_2_TH.json', '1981_A2LEBJJDE001493_1606724505326_2_TH.json', '2996_A2LEBJJDE00083Q_1606289087871_2_TH.json', '5438_A2LEBJJDE00159W_1606267374232_2_TH.json', '8281_A2LEBJJDE00055U_1606454506939_2_TH.json', '9578_A2LEBJJDE00105K_1608452294423_2_TH.json', '5305_A2LEBJJDE00122T_1606207107502_2_TH.json', '8802_A2LEBJJDE00174K_1608699021154_2_TH.json', '5438_A2LEBJJDE00159W_1606266013071_2_TH.json', '3937_A2LEBJJDE00046T_1607647242906_2_TH.json', '5619_A2LEBJJDE00002B_1606359244970_2_TH.json', '3339_A2LEBJJDE00057G_1606043700325_2_TH.json', '4970_A1LCAIHDH00010K_1607846567323_2_TH.json', '9527_A2LEBJJDE00110E_1606362992192_2_TH.json', '1069_A2LEBJJDE00094D_1606722197791_2_TH.json', '5030_A2LEBJJDE00186Z_1606739676901_2_TH.json', '1407_A2LEBJJDE001258_1605952171467_2_TH.json', '9447_A2LEBJJDE001951_1606209120800_2_TH.json', '8146_A2LEBJJDE00148A_1606461900982_2_TH.json', '2326_A2LEBJJDE00037S_1607767866501_2_TH.json', '5030_A2LEBJJDE00186Z_1606739261494_2_TH.json', '3269_A2LEBJJDE00096Y_1608252266764_2_TH.json', '3588_A2LEBJJDE00108Y_1606384403594_2_TH.json', '2996_A2LEBJJDE00083Q_1606525726112_2_TH.json', '9643_A2LEBJJDE00061H_1606041210041_2_TH.json', '8281_A2LEBJJDE00055U_1606539072055_2_TH.json', '3269_A2LEBJJDE00096Y_1608596863871_2_TH.json', '4015_A2LEBJJDE00150P_1606701461427_2_TH.json', '4370_A1LCAIHDH00005Q_1607767577634_2_TH.json', '2404_A2LEBJJDE000175_1606880367227_2_TH.json', '2709_A2LEBJJDE000216_1606474237533_2_TH.json', '9414_A2LEBJJDE00033L_1606365215088_2_TH.json', '3977_A2LCBJCAC000073_1608010201508_2_TH.json', '5569_A2LEBJJDE001211_1606363360792_2_TH.json', '3977_A2LEBJJDE00161C_1606370963733_2_TH.json', '3006_A1LCAIHDH00007C_1608449864292_2_TH.json', '4267_A1LCAIHDH00016D_1608871914774_2_TH.json', '9202_A2LEBJJDE00082X_1606647573911_2_TH.json', '7851_A2LEBJJDE00074P_1606642958620_2_TH.json', '3269_A2LEBJJDE00096Y_1607927790570_2_TH.json', '0715_A2LEBJJDE00175D_1606707362028_2_TH.json', '3216_A1LCAIHDH00006J_1607852330175_2_TH.json', '5619_A2LEBJJDE00002B_1606358997448_2_TH.json', '6078_A2LEBJJDE00160J_1606097883581_2_TH.json', '8606_A2LEBJJDE00155P_1606460729411_2_TH.json', '9527_A2LEBJJDE00110E_1607610660391_2_TH.json', '9874_A2LEBJJDE00123M_1606803930361_2_TH.json', '6437_A1LCAIHDH00019R_1607653642856_2_TH.json', '4370_A1LCAIHDH00005Q_1607828705733_2_TH.json', '9578_A2LEBJJDE00105K_1608259965093_2_TH.json', '7698_A2LEBJJDE00165J_1606549046943_2_TH.json', '6825_A1LCAIHDH00018Y_1608176587150_2_TH.json', '8606_A2LEBJJDE00155P_1606461287854_2_TH.json', '3677_A2LEBJJDE00087X_1607758560600_2_TH.json', '2720_A2LEBJJDE000401_1606372161764_2_TH.json', '2720_A2LEBJJDE000401_1605941873482_2_TH.json', '3977_A2LCBJCAC000073_1607311648081_2_TH.json', '5415_A2LEBJJDE00032S_1606108360651_2_TH.json', '9202_A2LEBJJDE00082X_1605791739592_2_TH.json', '0013_A2LEBJJDE00060O_1606551051095_2_TH.json', '8212_A2LEBJJDE00070I_1606728241821_2_TH.json', '1981_A2LEBJJDE001493_1606636964183_2_TH.json', '8297_A2LEBJJDE001076_1607612992440_2_TH.json', '3269_A2LEBJJDE00096Y_1608086738277_2_TH.json', '4478_A2LEBJJDE00052G_1606303975657_2_TH.json', '7701_A1LCAIHDH000085_1607752098571_2_TH.json', '7851_A2LEBJJDE00074P_1606630700855_2_TH.json', '5415_A2LEBJJDE00032S_1606730244191_2_TH.json', '9578_A2LEBJJDE00105K_1606549964709_2_TH.json', '3216_A1LCAIHDH00006J_1607769354853_2_TH.json', '3216_A1LCAIHDH00006J_1607660964576_2_TH.json', '8606_A2LEBJJDE00155P_1606460281495_2_TH.json', '9414_A2LEBJJDE00033L_1605693563685_2_TH.json', '2996_A2LEBJJDE00083Q_1606009877929_2_TH.json', '9578_A2LEBJJDE00105K_1607583948160_2_TH.json', '4659_A2LEBJJDE001349_1607225136108_2_TH.json', '3065_A2LEBJJDE00103Y_1607856338462_2_TH.json', '0888_A2LEBJJDE001948_1606378773510_2_TH.json', '6437_A1LCAIHDH00019R_1607648511219_2_TH.json', '8281_A2LEBJJDE00055U_1606730008800_2_TH.json', '3977_A2LCBJCAC000073_1607311816098_2_TH.json', '4370_A1LCAIHDH00005Q_1607924321273_2_TH.json', '3677_A2LEBJJDE00087X_1606619624780_2_TH.json', '4810_A2LEBJJDE00177Y_1607589593681_2_TH.json', '7985_A1LCAIHDH00011D_1608459833021_2_TH.json', '6437_A1LCAIHDH00019R_1607655271610_2_TH.json', '7297_A2LEBJJDE00151I_1606699025246_2_TH.json', '7978_A2LEBJJDE00071B_1606618490292_2_TH.json', '1237_A2LEBJJDE001584_1606115474156_2_TH.json', '5009_A1LCAIHDH00020E_1608270223838_2_TH.json', '6775_A2LEBJJDE00022Y_1607654393689_2_TH.json', '1195_A2LEBJJDE00197M_1608444315917_2_TH.json', '7366_A2LEBJJDE00143A_1606545615691_2_TH.json', '7670_A1LCAIHDH000126_1608179307334_2_TH.json', '3755_A2LEBJJDE001857_1608270410188_2_TH.json', '0013_A2LEBJJDE00060O_1606550786388_2_TH.json', '4970_A1LCAIHDH00010K_1608006874711_2_TH.json', '7168_A2LEBJJDE00124F_1606293711273_2_TH.json', '3677_A2LEBJJDE00087X_1606546323364_2_TH.json', '4263_A2LEBJJDE00062A_1606463314215_2_TH.json', '1221_A1LCAIHDH00009X_1608447794629_2_TH.json', '7418_A2LEBJJDE00080C_1606703228472_2_TH.json', '6825_A1LCAIHDH00018Y_1607659888359_2_TH.json', '6570_A2LEBJJDE001675_1607830937635_2_TH.json', '3937_A2LEBJJDE00046T_1607610598067_2_TH.json', '3263_A1LCAIHDH00014R_1608623584495_2_TH.json', '9527_A2LEBJJDE00110E_1606893997165_2_TH.json', '3263_A1LCAIHDH00014R_1608613598970_2_TH.json', '6078_A2LEBJJDE00093K_1606611940872_2_TH.json', '3755_A2LEBJJDE001857_1608270654320_2_TH.json', '2326_A2LEBJJDE00037S_1606013267036_2_TH.json', '9527_A2LEBJJDE00110E_1607611166332_2_TH.json', '2950_A2LEBJJDE00084J_1605953449023_2_TH.json', '9578_A2LEBJJDE00105K_1607479991918_2_TH.json', '8212_A2LEBJJDE00070I_1606742053703_2_TH.json', '5438_A2LEBJJDE00159W_1606267579560_2_TH.json', '9643_A2LEBJJDE00061H_1606040981637_2_TH.json', '7297_A2LEBJJDE00151I_1606357302701_2_TH.json', '1142_A2LEBJJDE00024K_1606623355820_2_TH.json', '0617_A2LEBJJDE000815_1605969544219_2_TH.json', '6995_A2LEBJJDE00104R_1606538153818_2_TH.json', '9887_A2LEBJJDE00066H_1605943894370_2_TH.json', '3263_A1LCAIHDH00014R_1608264133642_2_TH.json', '9356_A2LEBJJDE00192M_1606295517593_2_TH.json', '0425_A2LEBJJDE00079P_1606609571634_2_TH.json', '7978_A2LEBJJDE00071B_1606731065580_2_TH.json', '1195_A2LEBJJDE00197M_1606803568832_2_TH.json', '4232_A2LEBJJDE00146O_1606896768543_2_TH.json', '3263_A1LCAIHDH00014R_1607830710224_2_TH.json', '4370_A1LCAIHDH00005Q_1607741742960_2_TH.json', '6825_A1LCAIHDH00018Y_1608176850950_2_TH.json', '7297_A2LEBJJDE00151I_1606703146237_2_TH.json', '2820_A2LEBJJDE00179K_1607147497448_2_TH.json', '6570_A2LEBJJDE001675_1607852423982_2_TH.json', '3085_A2LEBJJDE00128M_1606284429806_2_TH.json', '0663_A2LEBJJDE001716_1606367612455_2_TH.json', '5619_A2LEBJJDE00002B_1606189666417_2_TH.json', '1221_A1LCAIHDH00009X_1608429023089_2_TH.json', '8781_A2LEBJJDE000906_1607654509331_2_TH.json', '3755_A2LEBJJDE001857_1608269843059_2_TH.json', '1534_A2LEBJJDE00133G_1607159339418_2_TH.json', '1981_A2LEBJJDE001493_1606541644350_2_TH.json', '3006_A1LCAIHDH00007C_1607759190767_2_TH.json', '8297_A2LEBJJDE001076_1607596998869_2_TH.json', '0643_A2LEBJJDE00048F_1606725121275_2_TH.json', '4307_A2LEBJJDE000683_1606733697837_2_TH.json', '3977_A2LEBJJDE00161C_1606370552690_2_TH.json', '0643_A2LEBJJDE00048F_1606713219994_2_TH.json', '8606_A2LEBJJDE00155P_1606461380706_2_TH.json', '3977_A2LEBJJDE00039E_1606216933511_2_TH.json', '2983_A2LEBJJDE001261_1606441660720_2_TH.json', '9887_A2LEBJJDE00066H_1605943946375_2_TH.json', '1069_A2LEBJJDE00094D_1607054671887_2_TH.json', '1080_A2LEBJJDE00092R_1606716195315_2_TH.json', '9244_A2LEBJJDE00154W_1606796218435_2_TH.json', '9338_A2LEBJJDE00101D_1606738089954_2_TH.json', '5438_A2LEBJJDE00159W_1606266293122_2_TH.json', '1981_A2LEBJJDE001493_1606638553023_2_TH.json', '0643_A2LEBJJDE00048F_1606721399197_2_TH.json', '2278_A2LEBJJDE00181Z_1606655678096_2_TH.json', '1963_A2LCBJCAC00003V_1607403351651_2_TH.json', '3977_A2LCBJCAC000073_1608010143625_2_TH.json', '0770_A2LEBJJDE000865_1606281212586_2_TH.json', '2327_A2LEBJJDE00091Y_1608604867405_2_TH.json', '6775_A2LEBJJDE00022Y_1606465894055_2_TH.json', '3006_A1LCAIHDH00007C_1607925850998_2_TH.json', '9578_A2LEBJJDE00105K_1608090075942_2_TH.json', '3275_A2LEBJJDE001766_1606707672414_2_TH.json', '2996_A2LEBJJDE00083Q_1606459400098_2_TH.json', '1459_A2LEBJJDE00025D_1606529516236_2_TH.json', '4133_A1LCAIHDH000035_1607673739943_2_TH.json', '9338_A2LEBJJDE00101D_1606740720796_2_TH.json', '4478_A2LEBJJDE00052G_1606222492621_2_TH.json', '2327_A2LEBJJDE00091Y_1607674222719_2_TH.json', '4970_A1LCAIHDH00010K_1608354516482_2_TH.json', '4970_A1LCAIHDH00010K_1608089398540_2_TH.json', '0617_A2LEBJJDE000815_1606214132107_2_TH.json', '4970_A1LCAIHDH00010K_1607740299461_2_TH.json', '9578_A2LEBJJDE00105K_1607152718257_2_TH.json', '3216_A1LCAIHDH00006J_1607757315751_2_TH.json', '5415_A2LEBJJDE00032S_1606191066704_2_TH.json', '7168_A2LEBJJDE00124F_1606367852369_2_TH.json', '9414_A2LEBJJDE00033L_1606714683716_2_TH.json', '3046_A2LEBJJDE00089J_1606545993875_2_TH.json', '2278_A2LEBJJDE00181Z_1606653798431_2_TH.json', '8606_A2LEBJJDE00155P_1606460575315_2_TH.json', '9447_A2LEBJJDE001951_1606208953857_2_TH.json', '4267_A1LCAIHDH00016D_1608354600963_2_TH.json', '1407_A2LEBJJDE001258_1606363918156_2_TH.json', '5569_A2LEBJJDE001211_1606541279552_2_TH.json', '0715_A2LEBJJDE00175D_1606194161783_2_TH.json', '5569_A2LEBJJDE001211_1606525321054_2_TH.json', '8224_A2LEBJJDE000448_1606292414721_2_TH.json', '2585_A2LEBJJDE001302_1606535128996_2_TH.json', '1069_A2LEBJJDE00094D_1607054951079_2_TH.json', '1743_A2LEBJJDE00031Z_1606023651257_2_TH.json', '6570_A2LEBJJDE001675_1607318016479_2_TH.json', '7168_A2LEBJJDE00124F_1606301658034_2_TH.json', '5438_A2LEBJJDE00159W_1606267482909_2_TH.json', '0131_A2LEBJJDE00166C_1606125183231_2_TH.json', '3006_A1LCAIHDH00007C_1607659206971_2_TH.json', '8224_A2LEBJJDE000448_1606192512387_2_TH.json', '4263_A2LEBJJDE00062A_1606707071646_2_TH.json', '5030_A2LEBJJDE00186Z_1606740295473_2_TH.json', '1237_A2LEBJJDE001584_1606114970471_2_TH.json', '2278_A2LEBJJDE00181Z_1606653937345_2_TH.json', '1221_A1LCAIHDH00009X_1607907871439_2_TH.json', '2278_A2LEBJJDE00181Z_1606655959231_2_TH.json', '8896_A2LEBJJDE001807_1607154094846_2_TH.json', '4370_A1LCAIHDH00005Q_1607747193985_2_TH.json', '7366_A2LEBJJDE00088Q_1607658481001_2_TH.json', '7698_A2LEBJJDE00165J_1607674652651_2_TH.json', '1963_A2LCBJCAC00003V_1608179735296_2_TH.json', '7366_A2LEBJJDE00088Q_1607648422042_2_TH.json', '9578_A2LEBJJDE00105K_1608111005895_2_TH.json', '7985_A1LCAIHDH00011D_1607752646285_2_TH.json', '4970_A1LCAIHDH00010K_1608199308354_2_TH.json', '4970_A1LCAIHDH00010K_1608024397888_2_TH.json', '5415_A2LEBJJDE00027Y_1606446222922_2_TH.json', '8802_A2LEBJJDE00174K_1606866805161_2_TH.json', '4970_A1LCAIHDH00010K_1608614468067_2_TH.json', '9447_A2LEBJJDE001951_1606209048259_2_TH.json', '7851_A2LEBJJDE00074P_1606535508071_2_TH.json', '4307_A2LEBJJDE000683_1606733781558_2_TH.json', '9578_A2LEBJJDE00105K_1608286277005_2_TH.json', '4370_A1LCAIHDH00005Q_1608166841431_2_TH.json', '3006_A1LCAIHDH00007C_1608440472465_2_TH.json', '8802_A2LEBJJDE00174K_1608700811459_2_TH.json', '7418_A2LEBJJDE00080C_1606444091992_2_TH.json', '0425_A2LEBJJDE00079P_1606739291813_2_TH.json', '1237_A2LEBJJDE001584_1606114821972_2_TH.json', '3977_A2LEBJJDE00161C_1606370259827_2_TH.json', '8802_A2LEBJJDE00174K_1606867332895_2_TH.json', '2720_A2LEBJJDE000401_1607327951448_2_TH.json', '3977_A2LCBJCAC000073_1608010247996_2_TH.json', '2278_A2LEBJJDE00181Z_1606655570415_2_TH.json', '3046_A2LEBJJDE00089J_1607656865015_2_TH.json', '7670_A1LCAIHDH000126_1608289721236_2_TH.json', '9527_A2LEBJJDE00110E_1606394046940_2_TH.json', '3755_A2LEBJJDE001857_1608270688752_2_TH.json', '8999_A2LEBJJDE00001I_1606639862387_2_TH.json', '1142_A2LEBJJDE00024K_1606708377794_2_TH.json', '3977_A2LCBJCAC000073_1607325932513_2_TH.json', '6078_A2LEBJJDE00160J_1606098381603_2_TH.json', '2326_A2LEBJJDE001998_1608529452899_2_TH.json', '0616_A2LEBJJDE00004W_1607650278087_2_TH.json', '3755_A2LEBJJDE001857_1608270260745_2_TH.json', '3755_A2LEBJJDE001857_1608269714474_2_TH.json', '3263_A1LCAIHDH00014R_1608014418612_2_TH.json', '5849_A2LEBJJDE00015J_1606116933721_2_TH.json', '7978_A2LEBJJDE00071B_1606644778970_2_TH.json', '4478_A2LEBJJDE00052G_1606370543621_2_TH.json', '4810_A2LEBJJDE00177Y_1607586245169_2_TH.json', '9244_A2LEBJJDE00154W_1606796139012_2_TH.json', '8606_A2LEBJJDE00155P_1606461356765_2_TH.json', '5569_A2LEBJJDE001211_1607570279208_2_TH.json', '2720_A2LEBJJDE000401_1606293744312_2_TH.json', '8224_A2LEBJJDE000448_1606723126271_2_TH.json', '7366_A2LEBJJDE00088Q_1607648751163_2_TH.json', '4015_A2LEBJJDE00150P_1606280254371_2_TH.json', '8802_A2LEBJJDE00174K_1608703345867_2_TH.json', '3006_A1LCAIHDH00007C_1608265904789_2_TH.json', '7698_A2LEBJJDE00165J_1607674853668_2_TH.json', '3085_A2LEBJJDE00128M_1606645871365_2_TH.json', '3977_A2LEBJJDE00161C_1606370622008_2_TH.json', '0703_A2LEBJJDE000774_1606364765909_2_TH.json', '0425_A2LEBJJDE00079P_1607745138930_2_TH.json', '7988_A2LEBJJDE000357_1606630007879_2_TH.json', '3977_A2LCBJCAC000073_1607311926253_2_TH.json', '8833_A2LEBJJDE00156I_1606275918268_2_TH.json', '7851_A2LEBJJDE00074P_1606815948990_2_TH.json', '6825_A1LCAIHDH00018Y_1607656529429_2_TH.json', '8896_A2LEBJJDE001807_1607653197701_2_TH.json', '5619_A2LEBJJDE00002B_1606117649071_2_TH.json', '5415_A2LEBJJDE00032S_1606198107886_2_TH.json', '8606_A2LEBJJDE00155P_1606461190268_2_TH.json', '4970_A1LCAIHDH00010K_1608632114697_2_TH.json', '3006_A1LCAIHDH00007C_1607660638052_2_TH.json', '7851_A2LEBJJDE00074P_1607144539566_2_TH.json', '8802_A2LEBJJDE00174K_1606867181326_2_TH.json', '0770_A2LEBJJDE000865_1608291771765_2_TH.json', '4015_A2LEBJJDE00150P_1606700108355_2_TH.json', '1963_A2LCBJCAC00003V_1609302495805_2_TH.json', '1407_A2LEBJJDE001258_1606376451079_2_TH.json', '8281_A2LEBJJDE00055U_1607078186013_2_TH.json', '3006_A1LCAIHDH00007C_1608170169223_2_TH.json', '9338_A2LEBJJDE00101D_1606539781327_2_TH.json', '6995_A2LEBJJDE00104R_1606545573866_2_TH.json', '4478_A2LEBJJDE00052G_1606706058008_2_TH.json', '9527_A2LEBJJDE00110E_1607611600907_2_TH.json', '1237_A2LEBJJDE001584_1606114236317_2_TH.json', '9527_A2LEBJJDE00110E_1607609757386_2_TH.json', '2800_A2LEBJJDE00036Z_1606379101790_2_TH.json', '9244_A2LEBJJDE00154W_1607590324153_2_TH.json', '3263_A1LCAIHDH00014R_1608368408391_2_TH.json', '8606_A2LEBJJDE00155P_1606461367726_2_TH.json', '8224_A2LEBJJDE000448_1607392760444_2_TH.json', '3977_A2LCBJCAC000073_1608001052841_2_TH.json', '8781_A2LEBJJDE000906_1607655686877_2_TH.json', '0715_A2LEBJJDE00175D_1607495408384_2_TH.json', '2720_A2LEBJJDE000401_1607765022264_2_TH.json', '4162_A2LEBJJDE00013X_1607650241393_2_TH.json', '0616_A2LEBJJDE00004W_1605868068194_2_TH.json', '3977_A2LEBJJDE00161C_1606370800956_2_TH.json', '6775_A2LEBJJDE00022Y_1607653673190_2_TH.json', '7851_A2LEBJJDE00074P_1606304380996_2_TH.json', '1407_A2LEBJJDE001258_1606298946648_2_TH.json', '3755_A2LEBJJDE001857_1607592528862_2_TH.json', '1983_A2LEBJJDE00188L_1606102363216_2_TH.json', '5030_A2LEBJJDE00186Z_1606739992740_2_TH.json', '5619_A2LEBJJDE00002B_1606358346291_2_TH.json', '2720_A2LEBJJDE000401_1606454855740_2_TH.json', '4370_A1LCAIHDH00005Q_1608263110984_2_TH.json', '4970_A1LCAIHDH00010K_1607657423959_2_TH.json', '8606_A2LEBJJDE00155P_1606461022629_2_TH.json', '4970_A1LCAIHDH00010K_1607772695041_2_TH.json', '6437_A1LCAIHDH00019R_1607654196187_2_TH.json', '5415_A2LEBJJDE00032S_1606746553428_2_TH.json', '8896_A2LEBJJDE001807_1606552907745_2_TH.json', '1221_A1LCAIHDH00009X_1608960844880_2_TH.json', '4133_A1LCAIHDH000035_1608178351289_2_TH.json', '0715_A2LEBJJDE00175D_1606275729039_2_TH.json', '0770_A2LEBJJDE000865_1609124085199_2_TH.json', '7126_A2LEBJJDE001534_1606719364512_2_TH.json', '9338_A2LEBJJDE00101D_1606615541376_2_TH.json', '1983_A2LEBJJDE00188L_1606370165912_2_TH.json', '4970_A1LCAIHDH00010K_1607658358219_2_TH.json', '4970_A1LCAIHDH00010K_1608790589013_2_TH.json', '8896_A2LEBJJDE001807_1606555028633_2_TH.json', '4810_A2LEBJJDE00177Y_1607586410443_2_TH.json', '2278_A2LEBJJDE00181Z_1606653783335_2_TH.json', '9874_A2LEBJJDE00123M_1606900490228_2_TH.json', '9527_A2LEBJJDE00110E_1606031998584_2_TH.json', '9414_A2LEBJJDE00033L_1607408243663_2_TH.json', '4307_A2LEBJJDE000683_1606655203690_2_TH.json', '6570_A2LEBJJDE001675_1607830608714_2_TH.json', '6825_A1LCAIHDH00018Y_1607660244242_2_TH.json', '9874_A2LEBJJDE00123M_1607139920426_2_TH.json', '1407_A2LEBJJDE001258_1606362885563_2_TH.json', '1221_A1LCAIHDH00009X_1607754391817_2_TH.json', '9527_A2LEBJJDE00110E_1606547193374_2_TH.json', '2996_A2LEBJJDE00083Q_1606282690113_2_TH.json', '2762_A2LEBJJDE000498_1605954501698_2_TH.json', '7670_A1LCAIHDH000126_1607660326829_2_TH.json', '3006_A1LCAIHDH00007C_1608170122364_2_TH.json', '2720_A2LEBJJDE000401_1606630778325_2_TH.json', '4370_A1LCAIHDH00005Q_1608703864619_2_TH.json', '5619_A2LEBJJDE00002B_1606726857525_2_TH.json', '2278_A2LEBJJDE00181Z_1606656134130_2_TH.json', '0643_A2LEBJJDE00048F_1606278231600_2_TH.json', '2996_A2LEBJJDE00083Q_1606464894066_2_TH.json', '3755_A2LEBJJDE001857_1608270735792_2_TH.json', '8606_A2LEBJJDE00155P_1606460817943_2_TH.json', '5030_A2LEBJJDE00182S_1606888099517_2_TH.json', '4795_A2LEBJJDE00113S_1607654050485_2_TH.json', '4263_A2LEBJJDE00062A_1606461843652_2_TH.json', '9527_A2LEBJJDE00110E_1607750342185_2_TH.json', '4795_A2LEBJJDE00113S_1606733783865_2_TH.json', '4970_A1LCAIHDH00010K_1608370208866_2_TH.json', '2326_A2LEBJJDE00037S_1606538532376_2_TH.json', '8212_A2LEBJJDE00070I_1606621649264_2_TH.json', '1071_A2LEBJJDE00173R_1606092467304_2_TH.json', '2762_A2LEBJJDE000498_1606024320494_2_TH.json', '1069_A2LEBJJDE00094D_1606613174109_2_TH.json', '3977_A2LCBJCAC000073_1607325716054_2_TH.json', '3269_A2LEBJJDE00096Y_1607924381821_2_TH.json', '6981_A2LEBJJDE00075I_1606473953086_2_TH.json', '0643_A2LEBJJDE00048F_1607157913329_2_TH.json', '5415_A2LEBJJDE00032S_1606699981511_2_TH.json', '4810_A2LEBJJDE00177Y_1607586160812_2_TH.json', '1142_A2LEBJJDE00024K_1606196639874_2_TH.json', '8297_A2LEBJJDE001076_1608730151768_2_TH.json', '7229_A2LEBJJDE00142H_1605951356674_2_TH.json', '6078_A2LEBJJDE00160J_1606098065273_2_TH.json', '1981_A2LEBJJDE001493_1606532311197_2_TH.json', '2688_A2LEBJJDE00115E_1606352905053_2_TH.json', '8297_A2LEBJJDE001076_1607613797856_2_TH.json', '3269_A2LEBJJDE00096Y_1607926720571_2_TH.json', '5030_A2LEBJJDE00182S_1606888198014_2_TH.json', '1195_A2LEBJJDE00197M_1607400260800_2_TH.json', '8606_A2LEBJJDE00155P_1606460600007_2_TH.json', '6570_A2LEBJJDE001675_1607772898128_2_TH.json', '2762_A2LEBJJDE000498_1606021878558_2_TH.json', '1069_A2LEBJJDE00094D_1607160663768_2_TH.json', '1080_A2LEBJJDE00092R_1606009303851_2_TH.json', '2326_A2LEBJJDE00037S_1606198500058_2_TH.json', '3216_A1LCAIHDH00006J_1608437535964_2_TH.json', '9202_A2LEBJJDE00082X_1606787436915_2_TH.json', '4307_A2LEBJJDE000683_1606661159595_2_TH.json', '6570_A2LEBJJDE001675_1607773262889_2_TH.json', '2762_A2LEBJJDE000498_1606022715746_2_TH.json', '2278_A2LEBJJDE00181Z_1606655944885_2_TH.json', '0643_A2LEBJJDE00048F_1607247913309_2_TH.json', '3216_A1LCAIHDH00006J_1608019041378_2_TH.json', '3065_A2LEBJJDE00103Y_1606369573189_2_TH.json', '2637_A2LEBJJDE00099D_1606446677515_2_TH.json', '1080_A2LEBJJDE00092R_1606715902990_2_TH.json', '0643_A2LEBJJDE00048F_1606730477464_2_TH.json', '4970_A1LCAIHDH00010K_1608348163266_2_TH.json', '1080_A2LEBJJDE00092R_1606204387558_2_TH.json', '9874_A2LEBJJDE00123M_1606704224474_2_TH.json', '3755_A2LEBJJDE001857_1608270507822_2_TH.json', '3006_A1LCAIHDH00007C_1608021625981_2_TH.json', '8802_A2LEBJJDE00178R_1606204596064_2_TH.json', '3065_A2LEBJJDE00103Y_1606475123271_2_TH.json', '0715_A2LEBJJDE00175D_1606707136912_2_TH.json', '2996_A2LEBJJDE00083Q_1606528530456_2_TH.json', '1743_A2LEBJJDE00031Z_1606543603622_2_TH.json', '2278_A2LEBJJDE00181Z_1606653287225_2_TH.json', '5030_A2LEBJJDE00186Z_1606741562095_2_TH.json', '4970_A1LCAIHDH00010K_1608025918080_2_TH.json', '3977_A2LCBJCAC000073_1607311662948_2_TH.json', '4162_A2LEBJJDE00013X_1607651446841_2_TH.json', '0616_A2LEBJJDE00004W_1606706413990_2_TH.json', '4810_A2LEBJJDE00177Y_1607586423382_2_TH.json', '8802_A2LEBJJDE00178R_1606204619532_2_TH.json', '0617_A2LEBJJDE000815_1606613882568_2_TH.json', '6825_A1LCAIHDH00018Y_1607669665718_2_TH.json', '7126_A2LEBJJDE001534_1605850342893_2_TH.json', '1743_A2LEBJJDE00031Z_1606293963079_2_TH.json', '8781_A2LEBJJDE000906_1608086934441_2_TH.json', '9874_A2LEBJJDE00123M_1606970404119_2_TH.json', '4370_A1LCAIHDH00005Q_1607836087997_2_TH.json', '8212_A2LEBJJDE00070I_1606725633644_2_TH.json', '4810_A2LEBJJDE00177Y_1606091059969_2_TH.json', '8833_A2LEBJJDE00156I_1606038605728_2_TH.json', '4370_A1LCAIHDH00005Q_1608186557294_2_TH.json', '3006_A1LCAIHDH00007C_1608263799168_2_TH.json', '9817_A2LEBJJDE00193F_1606732512350_2_TH.json', '6825_A1LCAIHDH00018Y_1607569888682_2_TH.json', '2278_A2LEBJJDE00181Z_1606655469084_2_TH.json', '4162_A2LEBJJDE00013X_1607650630799_2_TH.json', '9244_A2LEBJJDE00154W_1607590704127_2_TH.json', '4263_A2LEBJJDE00062A_1606620144949_2_TH.json', '2688_A2LEBJJDE00115E_1606369694893_2_TH.json', '1719_A2LEBJJDE00138G_1606299763159_2_TH.json', '0715_A2LEBJJDE00175D_1608812347291_2_TH.json', '5030_A2LEBJJDE00182S_1606888031169_2_TH.json', '3755_A2LEBJJDE001857_1608270306332_2_TH.json', '8297_A2LEBJJDE001076_1607322927746_2_TH.json', '0643_A2LEBJJDE00048F_1606785431951_2_TH.json', '4370_A1LCAIHDH00005Q_1607907594010_2_TH.json', '3216_A1LCAIHDH00006J_1607913019815_2_TH.json', '5030_A2LEBJJDE00182S_1606888018925_2_TH.json', '7985_A1LCAIHDH00011D_1607754388084_2_TH.json', '9578_A2LEBJJDE00105K_1608451692580_2_TH.json', '2762_A2LEBJJDE000498_1606821913686_2_TH.json', '9244_A2LEBJJDE00154W_1607590600624_2_TH.json', '4002_A2LEBJJDE00137N_1606544929561_2_TH.json', '5569_A2LEBJJDE001211_1606618783526_2_TH.json', '4263_A2LEBJJDE00062A_1606284156386_2_TH.json', '3263_A1LCAIHDH00014R_1608448702078_2_TH.json', '8606_A2LEBJJDE00155P_1606461044589_2_TH.json', '4795_A2LEBJJDE00113S_1606899436234_2_TH.json', '3216_A1LCAIHDH00006J_1607841453943_2_TH.json', '3216_A1LCAIHDH00006J_1607679309097_2_TH.json', '3365_A2LEBJJDE00106D_1606735863476_2_TH.json', '8297_A2LEBJJDE001076_1607497532217_2_TH.json', '8297_A2LEBJJDE001076_1607596872377_2_TH.json', '3677_A2LEBJJDE00087X_1606007519338_2_TH.json', '4970_A1LCAIHDH00010K_1608096214512_2_TH.json', '1069_A2LEBJJDE00094D_1607054441808_2_TH.json', '4478_A2LEBJJDE00052G_1606451073866_2_TH.json', '0888_A2LEBJJDE001948_1606441090900_2_TH.json', '3977_A2LCBJCAC000073_1607311419703_2_TH.json', '9874_A2LEBJJDE00123M_1607154303977_2_TH.json', '2800_A2LEBJJDE00036Z_1605689691077_2_TH.json', '8606_A2LEBJJDE00155P_1606461238858_2_TH.json', '9527_A2LEBJJDE00110E_1606637085411_2_TH.json', '1195_A2LEBJJDE00197M_1606803850548_2_TH.json', '0715_A2LEBJJDE00175D_1607495355285_2_TH.json', '0556_A2LEBJJDE00041T_1606042708569_2_TH.json', '8802_A2LEBJJDE00174K_1606866891675_2_TH.json', '9578_A2LEBJJDE00105K_1608367081582_2_TH.json', '2720_A2LEBJJDE000401_1606528142924_2_TH.json', '4002_A2LEBJJDE00137N_1606296464133_2_TH.json', '3365_A2LEBJJDE00106D_1608369096966_2_TH.json', '8802_A2LEBJJDE00174K_1606867292204_2_TH.json', '0425_A2LEBJJDE00079P_1606600654781_2_TH.json', '2326_A2LEBJJDE001998_1608439921826_2_TH.json', '5438_A2LEBJJDE00159W_1606266809192_2_TH.json', '8896_A2LEBJJDE001807_1606456599118_2_TH.json', '3006_A1LCAIHDH00007C_1607761064692_2_TH.json', '4970_A1LCAIHDH00010K_1608001420956_2_TH.json', '1963_A2LCBJCAC00003V_1608171361610_2_TH.json', '3006_A1LCAIHDH00007C_1607651192297_2_TH.json', '3977_A2LEBJJDE00161C_1606370748368_2_TH.json', '9527_A2LEBJJDE00110E_1606282317778_2_TH.json', '9643_A2LEBJJDE00061H_1605951852757_2_TH.json', '5569_A2LEBJJDE001211_1607295458369_2_TH.json', '5619_A2LEBJJDE00002B_1606723447635_2_TH.json', '2585_A2LEBJJDE001302_1607646687344_2_TH.json', '6367_A2LEBJJDE00038L_1606547706454_2_TH.json', '3977_A2LCBJCAC000073_1607311733835_2_TH.json', '3263_A1LCAIHDH00014R_1607734891509_2_TH.json', '6078_A2LEBJJDE00093K_1606612786187_2_TH.json', '3677_A2LEBJJDE00087X_1607758267603_2_TH.json', '4133_A1LCAIHDH000035_1608191841665_2_TH.json', '0663_A2LEBJJDE001716_1606459085863_2_TH.json', '1069_A2LEBJJDE00094D_1608108447094_2_TH.json', '7366_A2LEBJJDE00088Q_1607648673148_2_TH.json', '2800_A2LEBJJDE00036Z_1606010082014_2_TH.json', '8781_A2LEBJJDE000906_1607757492819_2_TH.json', '8781_A2LEBJJDE000906_1607652909420_2_TH.json', '3216_A1LCAIHDH00006J_1608012577041_2_TH.json', '3263_A1LCAIHDH00014R_1608258436693_2_TH.json', '3275_A2LEBJJDE001766_1606199976687_2_TH.json', '8297_A2LEBJJDE001076_1607613558529_2_TH.json', '6995_A2LEBJJDE00104R_1606787823489_2_TH.json', '2996_A2LEBJJDE00083Q_1606379353260_2_TH.json', '3755_A2LEBJJDE001857_1608270172269_2_TH.json', '5305_A2LEBJJDE00122T_1606551305564_2_TH.json', '1195_A2LEBJJDE00197M_1608607226007_2_TH.json', '2762_A2LEBJJDE000498_1606028786732_2_TH.json', '8802_A2LEBJJDE00174K_1608698128111_2_TH.json', '4970_A1LCAIHDH00010K_1608346586976_2_TH.json', '7418_A2LEBJJDE00080C_1606980205334_2_TH.json', '8802_A2LEBJJDE00178R_1606204683766_2_TH.json', '4002_A2LEBJJDE00137N_1606547257468_2_TH.json', '3216_A1LCAIHDH00006J_1608279010787_2_TH.json', '4015_A2LEBJJDE00150P_1606357476811_2_TH.json', '8606_A2LEBJJDE00155P_1606461334206_2_TH.json', '1963_A2LCBJCAC00003V_1607386910319_2_TH.json', '8606_A2LEBJJDE00155P_1606460965021_2_TH.json', '6825_A1LCAIHDH00018Y_1607658154130_2_TH.json', '8896_A2LEBJJDE001807_1607653029061_2_TH.json', '4478_A2LEBJJDE00052G_1606454787387_2_TH.json', '8606_A2LEBJJDE00155P_1606460954137_2_TH.json', '6570_A2LEBJJDE001675_1607391274648_2_TH.json', '1069_A2LEBJJDE00094D_1608444358371_2_TH.json', '1069_A2LEBJJDE00094D_1606443403782_2_TH.json', '4970_A1LCAIHDH00010K_1608354184373_2_TH.json', '6718_A2LEBJJDE000451_1606464293011_2_TH.json', '4370_A1LCAIHDH00005Q_1608425951895_2_TH.json', '2278_A2LEBJJDE00181Z_1606653240159_2_TH.json', '2820_A2LEBJJDE00179K_1607147586218_2_TH.json', '2637_A2LEBJJDE00099D_1608630554674_2_TH.json', '8606_A2LEBJJDE00155P_1606460931040_2_TH.json', '1080_A2LEBJJDE00092R_1606119529070_2_TH.json', '6437_A1LCAIHDH00019R_1607650024097_2_TH.json', '4795_A2LEBJJDE00113S_1606546140249_2_TH.json', '6367_A2LEBJJDE00038L_1606616248983_2_TH.json', '9578_A2LEBJJDE00105K_1607741843941_2_TH.json', '9244_A2LEBJJDE00154W_1607590657682_2_TH.json', '0425_A2LEBJJDE00079P_1606739129407_2_TH.json', '8212_A2LEBJJDE00070I_1606726087154_2_TH.json', '3365_A2LEBJJDE00106D_1605851985384_2_TH.json', '7851_A2LEBJJDE00074P_1607502416629_2_TH.json', '4478_A2LEBJJDE00052G_1606788801214_2_TH.json', '7297_A2LEBJJDE00151I_1606699267056_2_TH.json', '3977_A2LCBJCAC000073_1607311547979_2_TH.json', '2404_A2LEBJJDE00020D_1609920522249_2_TH.json', '1963_A2LCBJCAC00003V_1608768818501_2_TH.json', '0715_A2LEBJJDE00175D_1607495606033_2_TH.json', '6367_A2LEBJJDE00038L_1606615969596_2_TH.json', '4162_A2LEBJJDE00013X_1607651013086_2_TH.json', '8212_A2LEBJJDE00070I_1607230877521_2_TH.json', '3977_A2LCBJCAC000073_1608001768845_2_TH.json', '1743_A2LEBJJDE00031Z_1606370129938_2_TH.json', '3977_A2LCBJCAC000073_1607325656408_2_TH.json', '1237_A2LEBJJDE001584_1606113704718_2_TH.json', '4015_A2LEBJJDE00150P_1606707924963_2_TH.json', '1743_A2LEBJJDE00031Z_1606299266976_2_TH.json', '0715_A2LEBJJDE00175D_1608812657928_2_TH.json', '8833_A2LEBJJDE00156I_1606038702620_2_TH.json', '3365_A2LEBJJDE00106D_1606388245809_2_TH.json', '9244_A2LEBJJDE00154W_1606796699094_2_TH.json', '3858_A2LEBJJDE00076B_1607866638110_2_TH.json', '4162_A2LEBJJDE00013X_1607649680331_2_TH.json', '8000_A2LEBJJDE000956_1606540133589_2_TH.json', '1080_A2LEBJJDE00092R_1606709544072_2_TH.json', '9527_A2LEBJJDE00110E_1607610783459_2_TH.json', '3006_A1LCAIHDH00007C_1608358170291_2_TH.json', '7670_A1LCAIHDH000126_1607650658688_2_TH.json', '2326_A2LEBJJDE00037S_1606027358273_2_TH.json', '8802_A2LEBJJDE00174K_1608703278683_2_TH.json', '8802_A2LEBJJDE00174K_1606867228095_2_TH.json', '4810_A2LEBJJDE00177Y_1607588362632_2_TH.json', '4002_A2LEBJJDE00137N_1606802051930_2_TH.json', '6367_A2LEBJJDE00038L_1606612920352_2_TH.json', '7366_A2LEBJJDE00088Q_1607648557486_2_TH.json', '9874_A2LEBJJDE00123M_1606905812275_2_TH.json', '0013_A2LEBJJDE00060O_1606706904475_2_TH.json', '8606_A2LEBJJDE00155P_1606461458151_2_TH.json', '9874_A2LEBJJDE00123M_1606737421057_2_TH.json', '4370_A1LCAIHDH00005Q_1607740932615_2_TH.json', '1221_A1LCAIHDH00009X_1608108331367_2_TH.json', '3977_A2LCBJCAC000073_1607311832585_2_TH.json', '2326_A2LEBJJDE00037S_1606461010773_2_TH.json', '8802_A2LEBJJDE00174K_1608703382417_2_TH.json', '4015_A2LEBJJDE00150P_1606356933331_2_TH.json', '2317_A2LEBJJDE00051N_1606372494494_2_TH.json', '6440_A2LEBJJDE001352_1608094352794_2_TH.json', '2327_A2LEBJJDE00091Y_1608432057398_2_TH.json', '4795_A2LEBJJDE00113S_1606454949331_2_TH.json', '6570_A2LEBJJDE001675_1607426307656_2_TH.json', '3977_A2LCBJCAC000073_1607325640319_2_TH.json', '1145_A2LEBJJDE00119L_1606042086191_2_TH.json', '8833_A2LEBJJDE00156I_1606275867971_2_TH.json', '9244_A2LEBJJDE00154W_1606726914108_2_TH.json', '5305_A2LEBJJDE00122T_1606205425721_2_TH.json', '8802_A2LEBJJDE00174K_1606866943454_2_TH.json', '9874_A2LEBJJDE00123M_1606896899665_2_TH.json', '2327_A2LEBJJDE00091Y_1608438387223_2_TH.json', '9874_A2LEBJJDE00123M_1606811044119_2_TH.json', '7698_A2LEBJJDE00165J_1606279440350_2_TH.json', '4970_A1LCAIHDH00010K_1607855545554_2_TH.json', '1981_A2LEBJJDE001493_1606724235063_2_TH.json', '3263_A1LCAIHDH00014R_1608263281182_2_TH.json', '0643_A2LEBJJDE00048F_1606716969603_2_TH.json', '7851_A2LEBJJDE00074P_1606658023176_2_TH.json', '2720_A2LEBJJDE000401_1606546453275_2_TH.json', '5030_A2LEBJJDE00186Z_1606293388660_2_TH.json', '4557_A2LEBJJDE00043F_1605951179269_2_TH.json', '1069_A2LEBJJDE00094D_1606020091351_2_TH.json', '3006_A1LCAIHDH00007C_1607754503993_2_TH.json', '3937_A2LEBJJDE00046T_1606731778987_2_TH.json', '4267_A1LCAIHDH00016D_1608360477071_2_TH.json', '9874_A2LEBJJDE00123M_1607746465814_2_TH.json', '2278_A2LEBJJDE00181Z_1606653158398_2_TH.json', '6570_A2LEBJJDE001675_1607591523544_2_TH.json', '9874_A2LEBJJDE00123M_1606112530125_2_TH.json', '3216_A1LCAIHDH00006J_1608274486868_2_TH.json', '2688_A2LEBJJDE00115E_1606207476545_2_TH.json', '7126_A2LEBJJDE001534_1606528686491_2_TH.json', '9527_A2LEBJJDE00110E_1606530714659_2_TH.json', '9447_A2LEBJJDE001951_1606209148452_2_TH.json', '9244_A2LEBJJDE00154W_1607590617868_2_TH.json', '7297_A2LEBJJDE00151I_1606280142629_2_TH.json', '1743_A2LEBJJDE00031Z_1606546925555_2_TH.json', '3977_A2LEBJJDE00161C_1606371036105_2_TH.json', '0733_A2LEBJJDE000084_1606441108988_2_TH.json', '1069_A2LEBJJDE00094D_1606468419495_2_TH.json', '8802_A2LEBJJDE00178R_1606204652006_2_TH.json', '6570_A2LEBJJDE001675_1607830806375_2_TH.json', '5750_A2LEBJJDE000589_1608947327246_2_TH.json', '8281_A2LEBJJDE00055U_1607059062900_2_TH.json', '3275_A2LEBJJDE001766_1606353398461_2_TH.json', '9338_A2LEBJJDE00101D_1606737880653_2_TH.json', '6775_A2LEBJJDE00022Y_1606526344844_2_TH.json', '6440_A2LEBJJDE001352_1607684799208_2_TH.json', '1069_A2LEBJJDE00094D_1606969277490_2_TH.json', '8896_A2LEBJJDE001807_1606623539781_2_TH.json', '3065_A2LEBJJDE00103Y_1607856040474_2_TH.json', '6440_A2LEBJJDE001352_1606546293950_2_TH.json', '4133_A1LCAIHDH000035_1608533137183_2_TH.json', '5415_A2LEBJJDE00032S_1606473668729_2_TH.json', '3977_A2LEBJJDE00039E_1606216833274_2_TH.json', '3677_A2LEBJJDE00087X_1607758394265_2_TH.json', '9202_A2LEBJJDE00082X_1606486099818_2_TH.json', '1195_A2LEBJJDE00197M_1605939965968_2_TH.json', '9316_A2LEBJJDE00034E_1605430724758_2_TH.json', '3216_A1LCAIHDH00006J_1607662960951_2_TH.json', '4370_A1LCAIHDH00005Q_1607764797738_2_TH.json', '8606_A2LEBJJDE00155P_1606460122584_2_TH.json', '7978_A2LEBJJDE00071B_1606728566272_2_TH.json', '9527_A2LEBJJDE00110E_1606634767448_2_TH.json', '7418_A2LEBJJDE00080C_1606703213412_2_TH.json', '4370_A1LCAIHDH00005Q_1607850418677_2_TH.json', '3006_A1LCAIHDH00007C_1607835118984_2_TH.json', '5569_A2LEBJJDE001211_1606718964229_2_TH.json', '7851_A2LEBJJDE00074P_1606642580673_2_TH.json', '3275_A2LEBJJDE001766_1607759946231_2_TH.json', '1534_A2LEBJJDE00133G_1607157934736_2_TH.json', '4002_A2LEBJJDE00137N_1606208321670_2_TH.json', '2762_A2LEBJJDE000498_1606976591036_2_TH.json', '1981_A2LEBJJDE001493_1606875665672_2_TH.json', '4795_A2LEBJJDE00113S_1607653134600_2_TH.json', '3263_A1LCAIHDH00014R_1608438064607_2_TH.json', '8606_A2LEBJJDE00155P_1606460444252_2_TH.json', '3046_A2LEBJJDE00089J_1606277615987_2_TH.json', '9578_A2LEBJJDE00105K_1607416594899_2_TH.json', '3677_A2LEBJJDE00087X_1606007489547_2_TH.json', '5438_A2LEBJJDE00159W_1606267222294_2_TH.json', '5415_A2LEBJJDE00027Y_1606725512498_2_TH.json', '7168_A2LEBJJDE00124F_1606214980236_2_TH.json', '3977_A2LCBJCAC000073_1607325958499_2_TH.json', '3977_A2LEBJJDE00161C_1606370645032_2_TH.json', '9578_A2LEBJJDE00105K_1608606712790_2_TH.json', '3977_A2LCBJCAC000073_1608010230400_2_TH.json', '3937_A2LEBJJDE00046T_1606722968659_2_TH.json', '7978_A2LEBJJDE00071B_1606544550911_2_TH.json', '2278_A2LEBJJDE00181Z_1606653843545_2_TH.json', '2800_A2LEBJJDE00036Z_1605864198706_2_TH.json', '3977_A2LEBJJDE00161C_1606370854841_2_TH.json', '2996_A2LEBJJDE00083Q_1606525893340_2_TH.json', '2996_A2LEBJJDE00083Q_1606459269089_2_TH.json', '6818_A2LEBJJDE00170D_1606544070681_2_TH.json', '3263_A1LCAIHDH00014R_1608441748677_2_TH.json', '5030_A2LEBJJDE00186Z_1606293056863_2_TH.json', '7698_A2LEBJJDE00165J_1606549070116_2_TH.json', '3006_A1LCAIHDH00007C_1607849972237_2_TH.json', '0616_A2LEBJJDE00004W_1606027600704_2_TH.json', '3006_A1LCAIHDH00007C_1607680706751_2_TH.json', '7701_A1LCAIHDH000085_1607674837795_2_TH.json', '3977_A2LCBJCAC000073_1607325539933_2_TH.json', '0643_A2LEBJJDE00048F_1606815325422_2_TH.json', '4015_A2LEBJJDE00150P_1606698846793_2_TH.json', '7229_A2LEBJJDE00142H_1606481706191_2_TH.json', '8781_A2LEBJJDE000906_1602738514756_2_TH.json', '5415_A2LEBJJDE00032S_1606041811281_2_TH.json', '0643_A2LEBJJDE00048F_1606724706900_2_TH.json', '0770_A2LEBJJDE000865_1606733877152_2_TH.json', '7985_A1LCAIHDH00011D_1607754701199_2_TH.json', '3977_A2LEBJJDE00161C_1606370665618_2_TH.json', '6825_A1LCAIHDH00018Y_1608111436973_2_TH.json', '4478_A2LEBJJDE00052G_1606349307697_2_TH.json', '0770_A2LEBJJDE000865_1608439214607_2_TH.json', '2327_A2LEBJJDE00091Y_1608533890425_2_TH.json', '4002_A2LEBJJDE00137N_1606379595355_2_TH.json', '3269_A2LEBJJDE00096Y_1608249874998_2_TH.json', '1221_A1LCAIHDH00009X_1607651241021_2_TH.json', '5436_A2LEBJJDE00098K_1607067376872_2_TH.json', '9578_A2LEBJJDE00105K_1606028497834_2_TH.json', '6367_A2LEBJJDE00038L_1608450973095_2_TH.json', '2709_A2LEBJJDE000216_1606301462403_2_TH.json', '4370_A1LCAIHDH00005Q_1608166586806_2_TH.json', '7978_A2LEBJJDE00071B_1606645850546_2_TH.json', '0643_A2LEBJJDE00048F_1606711221776_2_TH.json', '5436_A2LEBJJDE00098K_1606813542414_2_TH.json', '8802_A2LEBJJDE00174K_1608699073510_2_TH.json', '4015_A2LEBJJDE00150P_1606282064828_2_TH.json', '7168_A2LEBJJDE00124F_1606357727998_2_TH.json', '0013_A2LEBJJDE00060O_1606550913579_2_TH.json', '7698_A2LEBJJDE00165J_1607750921755_2_TH.json', '8896_A2LEBJJDE001807_1606456499590_2_TH.json', '4370_A1LCAIHDH00005Q_1607739763315_2_TH.json', '0643_A2LEBJJDE00048F_1606805281524_2_TH.json', '3065_A2LEBJJDE00103Y_1607742482744_2_TH.json', '7418_A2LEBJJDE000724_1606706480020_2_TH.json', '3006_A1LCAIHDH00007C_1607747558585_2_TH.json', '0013_A2LEBJJDE00060O_1606550888258_2_TH.json', '4795_A2LEBJJDE00113S_1606026542787_2_TH.json', '3677_A2LEBJJDE00087X_1606704775049_2_TH.json', '4015_A2LEBJJDE00150P_1606700343399_2_TH.json', '3269_A2LEBJJDE00096Y_1608597663922_2_TH.json', '2688_A2LEBJJDE00115E_1606538723390_2_TH.json', '3755_A2LEBJJDE001857_1608270316398_2_TH.json', '6775_A2LEBJJDE00022Y_1607479389088_2_TH.json', '9244_A2LEBJJDE00154W_1607590208907_2_TH.json', '6775_A2LEBJJDE00022Y_1606529530587_2_TH.json', '0616_A2LEBJJDE00004W_1606646037046_2_TH.json', '7698_A2LEBJJDE00165J_1606464811507_2_TH.json', '9527_A2LEBJJDE00110E_1607746483746_2_TH.json', '9414_A2LEBJJDE00033L_1609033414458_2_TH.json', '8606_A2LEBJJDE00155P_1606460176973_2_TH.json', '0715_A2LEBJJDE00175D_1606194644839_2_TH.json', '2469_A2LEBJJDE00019Q_1606268580330_2_TH.json', '9244_A2LEBJJDE00154W_1607590545444_2_TH.json', '0617_A2LEBJJDE000815_1606535597454_2_TH.json', '6995_A2LEBJJDE00104R_1606529644971_2_TH.json', '8833_A2LEBJJDE00156I_1606275896025_2_TH.json', '4133_A1LCAIHDH000035_1608264684854_2_TH.json', '0616_A2LEBJJDE00004W_1606017598861_2_TH.json', '7670_A1LCAIHDH000126_1607670753741_2_TH.json', '7978_A2LEBJJDE00071B_1606716951782_2_TH.json', '7851_A2LEBJJDE00074P_1606644420725_2_TH.json', '5436_A2LEBJJDE00098K_1607157504002_2_TH.json', '8606_A2LEBJJDE00155P_1606461344379_2_TH.json', '8297_A2LEBJJDE001076_1607323391689_2_TH.json', '3269_A2LEBJJDE00096Y_1607927399126_2_TH.json', '9578_A2LEBJJDE00105K_1608088190020_2_TH.json', '8366_A2LEBJJDE00039E_1606217084339_2_TH.json', '1743_A2LEBJJDE00031Z_1606027377630_2_TH.json', '1983_A2LEBJJDE00188L_1606442184914_2_TH.json', '7701_A1LCAIHDH000085_1607670359005_2_TH.json', '5438_A2LEBJJDE00159W_1606267559507_2_TH.json', '4370_A1LCAIHDH00005Q_1607683000150_2_TH.json', '0013_A2LEBJJDE00060O_1606550773142_2_TH.json', '4478_A2LEBJJDE00052G_1606709565386_2_TH.json', '3977_A2LCBJCAC000073_1607311526826_2_TH.json', '7366_A2LEBJJDE00088Q_1607648649073_2_TH.json', '8297_A2LEBJJDE001076_1608727905393_2_TH.json', '1963_A2LCBJCAC00003V_1608171737603_2_TH.json', '8366_A2LEBJJDE00196T_1606373599111_2_TH.json', '5438_A2LEBJJDE00159W_1606265738266_2_TH.json', '1080_A2LEBJJDE00092R_1606800706988_2_TH.json', '3006_A1LCAIHDH00007C_1608356490297_2_TH.json', '2585_A2LEBJJDE001302_1606466543906_2_TH.json', '3269_A2LEBJJDE00096Y_1608598171151_2_TH.json', '7985_A1LCAIHDH00011D_1608446420444_2_TH.json', '5569_A2LEBJJDE001211_1606637380956_2_TH.json', '8606_A2LEBJJDE00155P_1606461426002_2_TH.json', '9202_A2LEBJJDE00082X_1606051774856_2_TH.json', '3006_A1LCAIHDH00007C_1608091591133_2_TH.json', '2720_A2LEBJJDE000401_1606717781192_2_TH.json', '4267_A1LCAIHDH00016D_1608365430297_2_TH.json', '3006_A1LCAIHDH00007C_1608109525144_2_TH.json', '9887_A2LEBJJDE00066H_1605944019061_2_TH.json', '2278_A2LEBJJDE00181Z_1606653768170_2_TH.json', '8606_A2LEBJJDE00155P_1606461277269_2_TH.json', '1963_A2LCBJCAC00003V_1607406465440_2_TH.json', '6775_A2LEBJJDE00022Y_1608438437825_2_TH.json', '5436_A2LEBJJDE00098K_1607067960877_2_TH.json', '3275_A2LEBJJDE001766_1606352790802_2_TH.json', '3755_A2LEBJJDE001857_1608269817249_2_TH.json', '7701_A1LCAIHDH000085_1607651231449_2_TH.json', '8802_A2LEBJJDE00174K_1606867208674_2_TH.json', '3275_A2LEBJJDE001766_1606542530359_2_TH.json', '2326_A2LEBJJDE00056N_1607237212117_2_TH.json', '0643_A2LEBJJDE00048F_1606721730853_2_TH.json', '3365_A2LEBJJDE00106D_1606452508982_2_TH.json', '3085_A2LEBJJDE00128M_1606194613872_2_TH.json', '8337_A2LEBJJDE00109R_1605946229523_2_TH.json', '9527_A2LEBJJDE00110E_1606743077882_2_TH.json', '4370_A1LCAIHDH00005Q_1608518855468_2_TH.json', '3006_A1LCAIHDH00007C_1608279794934_2_TH.json', '6367_A2LEBJJDE00038L_1606613053753_2_TH.json', '4970_A1LCAIHDH00010K_1608451612533_2_TH.json', '0844_A2LEBJJDE00067A_1607397062025_2_TH.json', '0013_A2LEBJJDE00060O_1606550973883_2_TH.json', '5619_A2LEBJJDE00002B_1606376931340_2_TH.json', '5415_A2LEBJJDE00027Y_1606811087026_2_TH.json', '4557_A2LEBJJDE00043F_1606531304591_2_TH.json', '1069_A2LEBJJDE00094D_1607146277539_2_TH.json', '7698_A2LEBJJDE00165J_1606283697612_2_TH.json', '0715_A2LEBJJDE00175D_1607488698546_2_TH.json', '0643_A2LEBJJDE00048F_1606811935169_2_TH.json', '1069_A2LEBJJDE00094D_1606464358350_2_TH.json', '1195_A2LEBJJDE00197M_1607425852187_2_TH.json', '8337_A2LEBJJDE00109R_1602921144678_2_TH.json', '9202_A2LEBJJDE00082X_1606647590328_2_TH.json', '4015_A2LEBJJDE00150P_1606707490215_2_TH.json', '4810_A2LEBJJDE00177Y_1606384576975_2_TH.json', '6570_A2LEBJJDE001675_1607402835081_2_TH.json', '4370_A1LCAIHDH00005Q_1608519234727_2_TH.json', '6570_A2LEBJJDE001675_1607846682319_2_TH.json', '2585_A2LEBJJDE001302_1606615310123_2_TH.json', '6570_A2LEBJJDE001675_1607320084830_2_TH.json', '1983_A2LEBJJDE00188L_1606442203329_2_TH.json', '3065_A2LEBJJDE00103Y_1606527130379_2_TH.json', '5415_A2LEBJJDE00027Y_1606717393979_2_TH.json', '8606_A2LEBJJDE00155P_1606460523039_2_TH.json', '2278_A2LEBJJDE00181Z_1606655821320_2_TH.json', '2996_A2LEBJJDE00083Q_1606018947317_2_TH.json', '1221_A1LCAIHDH00009X_1608284031965_2_TH.json', '6121_A2LEBJJDE00183L_1606226298547_2_TH.json', '2032_A2LEBJJDE00152B_1606625653767_2_TH.json', '9527_A2LEBJJDE00110E_1606741149701_2_TH.json', '1237_A2LEBJJDE001584_1606114661287_2_TH.json', '3269_A2LEBJJDE00096Y_1608089889566_2_TH.json', '1981_A2LEBJJDE001493_1606723596854_2_TH.json', '3263_A1LCAIHDH00014R_1608533146388_2_TH.json', '2278_A2LEBJJDE00181Z_1606655533799_2_TH.json', '8606_A2LEBJJDE00155P_1606460264110_2_TH.json', '4015_A2LEBJJDE00150P_1606701026179_2_TH.json', '4970_A1LCAIHDH00010K_1607740956936_2_TH.json', '4133_A1LCAIHDH000035_1608775046238_2_TH.json', '0643_A2LEBJJDE00048F_1606710930515_2_TH.json', '5569_A2LEBJJDE001211_1606450106667_2_TH.json', '2326_A2LEBJJDE00037S_1606530008072_2_TH.json', '5619_A2LEBJJDE00002B_1606185228028_2_TH.json', '6775_A2LEBJJDE00022Y_1607653978911_2_TH.json', '7851_A2LEBJJDE00074P_1606805294270_2_TH.json', '6440_A2LEBJJDE001352_1607148255971_2_TH.json', '9447_A2LEBJJDE001951_1606130323070_2_TH.json', '5438_A2LEBJJDE00159W_1606266236568_2_TH.json', '5569_A2LEBJJDE001211_1607066163655_2_TH.json', '4133_A1LCAIHDH000035_1608698006548_2_TH.json', '9316_A2LEBJJDE00034E_1606269919031_2_TH.json', '7851_A2LEBJJDE00074P_1606792918136_2_TH.json', '8000_A2LEBJJDE000956_1607738135775_2_TH.json', '2326_A2LEBJJDE00037S_1607588972472_2_TH.json', '3755_A2LEBJJDE001857_1608270399209_2_TH.json', '7978_A2LEBJJDE00071B_1606728687226_2_TH.json', '3365_A2LEBJJDE00106D_1606707303345_2_TH.json', '7126_A2LEBJJDE001534_1606719909136_2_TH.json', '4970_A1LCAIHDH00010K_1608368509598_2_TH.json', '1221_A1LCAIHDH00009X_1608703969843_2_TH.json', '6440_A2LEBJJDE001352_1606615452479_2_TH.json', '9244_A2LEBJJDE00154W_1607590446967_2_TH.json', '3977_A2LEBJJDE00039E_1606217001757_2_TH.json', '7851_A2LEBJJDE00074P_1606737534770_2_TH.json', '3006_A1LCAIHDH00007C_1607944376077_2_TH.json', '4162_A2LEBJJDE00013X_1607652115284_2_TH.json', '3263_A1LCAIHDH00014R_1608364970795_2_TH.json', '0013_A2LEBJJDE00060O_1606550740713_2_TH.json', '4970_A1LCAIHDH00010K_1608356128150_2_TH.json', '5438_A2LEBJJDE00159W_1606265879662_2_TH.json', '1981_A2LEBJJDE001493_1606723851153_2_TH.json', '1221_A1LCAIHDH00009X_1608968342865_2_TH.json', '2278_A2LEBJJDE00181Z_1606655651984_2_TH.json', '0733_A2LEBJJDE000084_1606386153944_2_TH.json', '4795_A2LEBJJDE00113S_1606734487543_2_TH.json', '3977_A2LEBJJDE00161C_1606370290727_2_TH.json', '9578_A2LEBJJDE00105K_1606357047576_2_TH.json', '4795_A2LEBJJDE00113S_1606194351702_2_TH.json', '7851_A2LEBJJDE00074P_1607499290637_2_TH.json', '3977_A2LCBJCAC000073_1607311602760_2_TH.json', '1080_A2LEBJJDE00092R_1606104364032_2_TH.json', '3216_A1LCAIHDH00006J_1607661168715_2_TH.json', '9316_A2LEBJJDE00034E_1607391953093_2_TH.json', '9527_A2LEBJJDE00110E_1606393377118_2_TH.json', '5438_A2LEBJJDE00159W_1606265948277_2_TH.json', '7978_A2LEBJJDE00071B_1606728834922_2_TH.json', '0425_A2LEBJJDE00079P_1606739465072_2_TH.json', '0425_A2LEBJJDE00079P_1606739077850_2_TH.json', '4232_A2LEBJJDE00146O_1606896876008_2_TH.json', '8224_A2LEBJJDE000448_1606539331442_2_TH.json', '3977_A2LEBJJDE00161C_1606370515641_2_TH.json', '3677_A2LEBJJDE00087X_1606545264172_2_TH.json', '0616_A2LEBJJDE00004W_1606707119986_2_TH.json', '2800_A2LEBJJDE00036Z_1606439516575_2_TH.json', '3006_A1LCAIHDH00007C_1607759670333_2_TH.json', '0425_A2LEBJJDE00079P_1606739115095_2_TH.json', '7297_A2LEBJJDE00151I_1606699587798_2_TH.json', '3977_A2LCBJCAC000073_1608001027007_2_TH.json', '3263_A1LCAIHDH00014R_1607860640898_2_TH.json', '1069_A2LEBJJDE00094D_1607245400694_2_TH.json', '1237_A2LEBJJDE001584_1606115211964_2_TH.json', '4795_A2LEBJJDE00113S_1606027330602_2_TH.json', '3977_A2LCBJCAC000073_1608001112171_2_TH.json', '4162_A2LEBJJDE00013X_1607652749194_2_TH.json', '4263_A2LEBJJDE00062A_1606653245018_2_TH.json', '8606_A2LEBJJDE00155P_1606460071453_2_TH.json', '1221_A1LCAIHDH00009X_1608530437988_2_TH.json', '5619_A2LEBJJDE00002B_1606721653589_2_TH.json', '3365_A2LEBJJDE00106D_1606443644197_2_TH.json', '3832_A2LEBJJDE00191T_1605940927875_2_TH.json', '3216_A1LCAIHDH00006J_1607844372670_2_TH.json', '6570_A2LEBJJDE001675_1607391293837_2_TH.json', '4370_A1LCAIHDH00005Q_1608252825499_2_TH.json', '1743_A2LEBJJDE00031Z_1606272673641_2_TH.json', '1940_A2LEBJJDE000307_1605958365621_2_TH.json', '8606_A2LEBJJDE00155P_1606460239202_2_TH.json', '4717_A2LEBJJDE001208_1606036358463_2_TH.json', '6570_A2LEBJJDE001675_1607830869766_2_TH.json', '9244_A2LEBJJDE00154W_1606726929501_2_TH.json', '5214_A2LEBJJDE001399_1607589470221_2_TH.json', '9338_A2LEBJJDE00101D_1606475211909_2_TH.json', '2326_A2LEBJJDE001998_1606547217780_2_TH.json', '1221_A1LCAIHDH00009X_1607666582852_2_TH.json', '0616_A2LEBJJDE00004W_1606017765112_2_TH.json', '4370_A1LCAIHDH00005Q_1607738343558_2_TH.json', '4478_A2LEBJJDE00052G_1606369224382_2_TH.json', '1963_A2LCBJCAC00003V_1607491021601_2_TH.json', '5415_A2LEBJJDE00027Y_1606297095849_2_TH.json', '3977_A2LCBJCAC000073_1607311565499_2_TH.json', '7670_A1LCAIHDH000126_1607658430104_2_TH.json', '1743_A2LEBJJDE00031Z_1605948079345_2_TH.json', '3216_A1LCAIHDH00006J_1607853317445_2_TH.json', '2709_A2LEBJJDE000216_1606103260819_2_TH.json', '2278_A2LEBJJDE00181Z_1606656077137_2_TH.json', '1963_A2LCBJCAC00003V_1607490469182_2_TH.json', '8896_A2LEBJJDE001807_1607654288893_2_TH.json', '9316_A2LEBJJDE00034E_1606359297189_2_TH.json', '4263_A2LEBJJDE00062A_1606718564589_2_TH.json', '3755_A2LEBJJDE001857_1608269685708_2_TH.json', '5619_A2LEBJJDE00002B_1608432384559_2_TH.json', '9414_A2LEBJJDE00033L_1607152879914_2_TH.json', '7366_A2LEBJJDE00088Q_1607648717960_2_TH.json', '0770_A2LEBJJDE000865_1608112311709_2_TH.json', '2278_A2LEBJJDE00181Z_1606656159446_2_TH.json', '3365_A2LEBJJDE00106D_1606710060148_2_TH.json', '0715_A2LEBJJDE00175D_1606883509391_2_TH.json', '9578_A2LEBJJDE00105K_1608265021538_2_TH.json', '3977_A2LCBJCAC000073_1607311266241_2_TH.json', '7851_A2LEBJJDE00074P_1607135858756_2_TH.json', '5030_A2LEBJJDE00186Z_1606741782221_2_TH.json', '0425_A2LEBJJDE00079P_1606972473032_2_TH.json', '6570_A2LEBJJDE001675_1607318267313_2_TH.json', '6570_A2LEBJJDE001675_1607772815823_2_TH.json', '8224_A2LEBJJDE000448_1606539383863_2_TH.json', '1221_A1LCAIHDH00009X_1607653151108_2_TH.json', '2278_A2LEBJJDE00181Z_1606655690329_2_TH.json', '5415_A2LEBJJDE00027Y_1606615935235_2_TH.json', '2278_A2LEBJJDE00181Z_1606653393049_2_TH.json', '7366_A2LEBJJDE00143A_1605952201334_2_TH.json', '9338_A2LEBJJDE00101D_1606737702270_2_TH.json', '4263_A2LEBJJDE00062A_1606463156933_2_TH.json', '9578_A2LEBJJDE00105K_1606629264527_2_TH.json', '4795_A2LEBJJDE00113S_1606540704529_2_TH.json', '6367_A2LEBJJDE00038L_1606615895311_2_TH.json', '3977_A2LCBJCAC000073_1607311845603_2_TH.json', '8896_A2LEBJJDE001807_1605764952621_2_TH.json', '5030_A2LEBJJDE00182S_1606697161747_2_TH.json', '2637_A2LEBJJDE00099D_1608889126546_2_TH.json', '7701_A1LCAIHDH000085_1608267044481_2_TH.json', '7978_A2LEBJJDE00071B_1606545691638_2_TH.json', '2720_A2LEBJJDE000401_1606554316224_2_TH.json', '6775_A2LEBJJDE00022Y_1607226986498_2_TH.json', '0770_A2LEBJJDE000865_1607845837033_2_TH.json', '7366_A2LEBJJDE00088Q_1607658214990_2_TH.json', '0617_A2LEBJJDE000815_1606613914470_2_TH.json', '8212_A2LEBJJDE00070I_1606742287952_2_TH.json', '3977_A2LEBJJDE00039E_1606216903218_2_TH.json', '3977_A2LEBJJDE00039E_1606216624586_2_TH.json', '4970_A1LCAIHDH00010K_1608613354323_2_TH.json', '7229_A2LEBJJDE00142H_1606737572240_2_TH.json', '3977_A2LCBJCAC000073_1608010114752_2_TH.json', '8366_A2LEBJJDE00039E_1607483445743_2_TH.json', '4795_A2LEBJJDE00113S_1606733652599_2_TH.json', '3216_A1LCAIHDH00006J_1607770280853_2_TH.json', '3006_A1LCAIHDH00007C_1608453498956_2_TH.json', '5415_A2LEBJJDE00027Y_1606560481554_2_TH.json', '8606_A2LEBJJDE00155P_1606460249712_2_TH.json', '8606_A2LEBJJDE00155P_1606460467258_2_TH.json', '5415_A2LEBJJDE00027Y_1606641196220_2_TH.json', '4370_A1LCAIHDH00005Q_1607732986459_2_TH.json', '4478_A2LEBJJDE00052G_1606303899060_2_TH.json', '9578_A2LEBJJDE00105K_1607580114068_2_TH.json', '8212_A2LEBJJDE00070I_1606726315475_2_TH.json', '4232_A2LEBJJDE00146O_1606381470872_2_TH.json', '7978_A2LEBJJDE00071B_1606819845636_2_TH.json', '6825_A1LCAIHDH00018Y_1607664202838_2_TH.json', '2278_A2LEBJJDE00181Z_1606653966778_2_TH.json', '3006_A1LCAIHDH00007C_1607761385188_2_TH.json', '6078_A2LEBJJDE00160J_1606097957375_2_TH.json', '2950_A2LEBJJDE00084J_1606009753277_2_TH.json', '6570_A2LEBJJDE001675_1607318680540_2_TH.json', '4478_A2LEBJJDE00052G_1606454936027_2_TH.json', '3365_A2LEBJJDE00106D_1606736178172_2_TH.json', '2522_A2LEBJJDE00014Q_1606708357940_2_TH.json', '6570_A2LEBJJDE001675_1607492151223_2_TH.json', '3216_A1LCAIHDH00006J_1608780153091_2_TH.json', '6367_A2LEBJJDE00038L_1606616218456_2_TH.json', '4263_A2LEBJJDE00062A_1606613229013_2_TH.json', '7978_A2LEBJJDE00071B_1606548157701_2_TH.json', '1963_A2LCBJCAC00003V_1608180090597_2_TH.json', '3755_A2LEBJJDE001857_1608270148456_2_TH.json', '0770_A2LEBJJDE000865_1606376102541_2_TH.json', '0715_A2LEBJJDE00175D_1606195311938_2_TH.json', '9887_A2LEBJJDE00066H_1605943829912_2_TH.json', '8281_A2LEBJJDE00055U_1606962857996_2_TH.json', '4919_A2LEBJJDE00064V_1606113230622_2_TH.json', '6437_A1LCAIHDH00019R_1607650864939_2_TH.json', '3858_A2LEBJJDE00076B_1607866507153_2_TH.json', '7366_A2LEBJJDE00088Q_1606891168427_2_TH.json', '1237_A2LEBJJDE001584_1606114490649_2_TH.json', '8896_A2LEBJJDE001807_1607300410303_2_TH.json', '7985_A1LCAIHDH00011D_1607755441586_2_TH.json', '1221_A1LCAIHDH00009X_1607737285492_2_TH.json', '9244_A2LEBJJDE00154W_1606130815102_2_TH.json', '5619_A2LEBJJDE00002B_1606723624938_2_TH.json', '1743_A2LEBJJDE00031Z_1606267357339_2_TH.json', '2469_A2LEBJJDE00019Q_1605942401119_2_TH.json', '4307_A2LEBJJDE000683_1606660270348_2_TH.json', '2479_A2LEBJJDE00147H_1607661332514_2_TH.json', '2762_A2LEBJJDE000498_1606446805693_2_TH.json', '3977_A2LEBJJDE00161C_1606370988175_2_TH.json', '8224_A2LEBJJDE000448_1606539346728_2_TH.json', '9338_A2LEBJJDE00101D_1606741271455_2_TH.json', '9887_A2LEBJJDE00066H_1606187039960_2_TH.json', '9414_A2LEBJJDE00033L_1605754676523_2_TH.json', '7698_A2LEBJJDE00165J_1606548849848_2_TH.json', '3858_A2LEBJJDE00076B_1607866755454_2_TH.json', '9338_A2LEBJJDE00101D_1606738483237_2_TH.json', '4795_A2LEBJJDE00113S_1606734130658_2_TH.json', '8833_A2LEBJJDE00156I_1606275726995_2_TH.json', '1071_A2LEBJJDE00173R_1606092680418_2_TH.json', '2326_A2LEBJJDE001998_1606544080450_2_TH.json', '2950_A2LEBJJDE00084J_1605755502866_2_TH.json', '3977_A2LEBJJDE00039E_1606216602353_2_TH.json', '3339_A2LEBJJDE00057G_1606366255586_2_TH.json', '8146_A2LEBJJDE00148A_1607650916866_2_TH.json', '0715_A2LEBJJDE00175D_1606195611055_2_TH.json', '3755_A2LEBJJDE001857_1608270125933_2_TH.json', '8802_A2LEBJJDE00178R_1606736140490_2_TH.json', '9578_A2LEBJJDE00105K_1607745692133_2_TH.json', '9338_A2LEBJJDE00101D_1606624288075_2_TH.json', '5009_A1LCAIHDH00020E_1608289767268_2_TH.json', '3275_A2LEBJJDE001766_1606707979487_2_TH.json', '7418_A2LEBJJDE00080C_1606702749642_2_TH.json', '1963_A2LCBJCAC00003V_1607489450814_2_TH.json', '2820_A2LEBJJDE00179K_1607493641101_2_TH.json', '1963_A2LCBJCAC00003V_1607404669792_2_TH.json', '2585_A2LEBJJDE001302_1606272430043_2_TH.json', '5415_A2LEBJJDE00027Y_1606297180047_2_TH.json', '9338_A2LEBJJDE00101D_1606738020597_2_TH.json', '4795_A2LEBJJDE00113S_1607502893598_2_TH.json', '6718_A2LEBJJDE000451_1605695343130_2_TH.json', '0663_A2LEBJJDE001716_1606277695429_2_TH.json', '0770_A2LEBJJDE000865_1607684206039_2_TH.json', '3677_A2LEBJJDE00087X_1607678220579_2_TH.json', '5030_A2LEBJJDE00186Z_1606739818367_2_TH.json', '4810_A2LEBJJDE00177Y_1607589550099_2_TH.json', '9905_A2LEBJJDE00042M_1606203543720_2_TH.json', '7126_A2LEBJJDE001534_1606290072392_2_TH.json', '8896_A2LEBJJDE001807_1606455960324_2_TH.json', '9578_A2LEBJJDE00105K_1608084255477_2_TH.json', '2688_A2LEBJJDE00115E_1606368343213_2_TH.json', '2326_A2LEBJJDE001998_1607749136390_2_TH.json', '7027_A2LEBJJDE001117_1603952969862_2_TH.json', '4002_A2LEBJJDE00137N_1606810997546_2_TH.json', '4307_A2LEBJJDE000683_1606654074411_2_TH.json', '4267_A1LCAIHDH00016D_1607759090132_2_TH.json', '8781_A2LEBJJDE000906_1603427339734_2_TH.json', '8896_A2LEBJJDE001807_1607153742430_2_TH.json', '2996_A2LEBJJDE00083Q_1606279973575_2_TH.json', '0715_A2LEBJJDE00175D_1607495234152_2_TH.json', '1142_A2LEBJJDE00024K_1606730703656_2_TH.json', '3937_A2LEBJJDE00046T_1607610658641_2_TH.json', '6825_A1LCAIHDH00018Y_1608441648437_2_TH.json', '3677_A2LEBJJDE00087X_1606526088049_2_TH.json', '3977_A2LCBJCAC000073_1608001013586_2_TH.json', '3275_A2LEBJJDE001766_1605942501103_2_TH.json', '5255_A2LEBJJDE00007B_1605864399701_2_TH.json', '2800_A2LEBJJDE00036Z_1606556641037_2_TH.json', '6078_A2LEBJJDE00093K_1606538025038_2_TH.json', '7851_A2LEBJJDE00074P_1607138090780_2_TH.json', '1981_A2LEBJJDE001493_1606634600229_2_TH.json', '3269_A2LEBJJDE00096Y_1608088512941_2_TH.json', '1080_A2LEBJJDE00092R_1606716524087_2_TH.json', '4232_A2LEBJJDE00146O_1606526754673_2_TH.json', '9338_A2LEBJJDE00101D_1606738137683_2_TH.json', '6825_A1LCAIHDH00018Y_1608790569376_2_TH.json', '9527_A2LEBJJDE00110E_1606282633490_2_TH.json', '4015_A2LEBJJDE00150P_1606706424800_2_TH.json', '6981_A2LEBJJDE00075I_1606470634517_2_TH.json', '5415_A2LEBJJDE00032S_1606375619023_2_TH.json', '1407_A2LEBJJDE001258_1606293544841_2_TH.json', '4795_A2LEBJJDE00113S_1606277952125_2_TH.json', '5415_A2LEBJJDE00027Y_1606449059643_2_TH.json', '4370_A1LCAIHDH00005Q_1608190214801_2_TH.json', '2326_A2LEBJJDE001998_1608691318757_2_TH.json', '2479_A2LEBJJDE00147H_1607680308112_2_TH.json', '1963_A2LCBJCAC00003V_1607386597411_2_TH.json', '3275_A2LEBJJDE001766_1607759864999_2_TH.json', '1071_A2LEBJJDE00173R_1606092452473_2_TH.json', '7670_A1LCAIHDH000126_1608013262948_2_TH.json', '3216_A1LCAIHDH00006J_1607744756593_2_TH.json', '7978_A2LEBJJDE00071B_1606544090558_2_TH.json', '1195_A2LEBJJDE00197M_1607414045774_2_TH.json', '9817_A2LEBJJDE00193F_1606298436542_2_TH.json', '2278_A2LEBJJDE00181Z_1606655791365_2_TH.json', '2996_A2LEBJJDE00083Q_1606529847930_2_TH.json', '5415_A2LEBJJDE00027Y_1606297192863_2_TH.json', '2996_A2LEBJJDE00083Q_1606536422577_2_TH.json', '0663_A2LEBJJDE001716_1606276105493_2_TH.json', '7851_A2LEBJJDE00074P_1608525166674_2_TH.json', '5030_A2LEBJJDE00186Z_1606292880066_2_TH.json', '0770_A2LEBJJDE000865_1606533308412_2_TH.json', '2326_A2LEBJJDE00056N_1607846353377_2_TH.json', '0425_A2LEBJJDE00079P_1606739330465_2_TH.json', '3263_A1LCAIHDH00014R_1608285592524_2_TH.json', '1407_A2LEBJJDE001258_1606010279749_2_TH.json', '6367_A2LEBJJDE00038L_1606615930116_2_TH.json', '0663_A2LEBJJDE001716_1606472189238_2_TH.json', '7670_A1LCAIHDH000126_1607666248115_2_TH.json', '7418_A2LEBJJDE00080C_1606980886331_2_TH.json', '3216_A1LCAIHDH00006J_1608359144697_2_TH.json', '8212_A2LEBJJDE00070I_1606473827960_2_TH.json', '1071_A2LEBJJDE00173R_1606615114818_2_TH.json', '4795_A2LEBJJDE00113S_1606899645834_2_TH.json', '8896_A2LEBJJDE001807_1606456562412_2_TH.json', '1983_A2LEBJJDE00188L_1606370111090_2_TH.json', '8802_A2LEBJJDE00174K_1608703476951_2_TH.json', '5305_A2LEBJJDE00122T_1606551980053_2_TH.json', '1983_A2LEBJJDE00188L_1606370269541_2_TH.json', '3216_A1LCAIHDH00006J_1607668459187_2_TH.json', '8606_A2LEBJJDE00155P_1606460588947_2_TH.json', '0643_A2LEBJJDE00048F_1607231352518_2_TH.json', '3339_A2LEBJJDE00057G_1606028514138_2_TH.json', '4133_A1LCAIHDH000035_1607675478608_2_TH.json', '5946_A2LEBJJDE00085C_1605941187486_2_TH.json', '4263_A2LEBJJDE00062A_1606534245005_2_TH.json', '9905_A2LEBJJDE00042M_1606728319893_2_TH.json', '5009_A1LCAIHDH00020E_1608701982252_2_TH.json', '7126_A2LEBJJDE001534_1606296684512_2_TH.json', '3977_A2LCBJCAC000073_1608000953077_2_TH.json', '3006_A1LCAIHDH00007C_1607833505955_2_TH.json', '1981_A2LEBJJDE001493_1606730751136_2_TH.json', '1963_A2LCBJCAC00003V_1608769130923_2_TH.json', '3269_A2LEBJJDE00096Y_1608254287825_2_TH.json', '1963_A2LCBJCAC00003V_1607405806463_2_TH.json', '2720_A2LEBJJDE000401_1606553998270_2_TH.json', '3977_A2LEBJJDE00039E_1606216585850_2_TH.json', '1743_A2LEBJJDE00031Z_1605932824330_2_TH.json', '9414_A2LEBJJDE00033L_1607750889381_2_TH.json', '4133_A1LCAIHDH000035_1607674644888_2_TH.json', '0616_A2LEBJJDE00004W_1606706818708_2_TH.json', '4810_A2LEBJJDE00177Y_1607586258170_2_TH.json', '7851_A2LEBJJDE00074P_1606739776889_2_TH.json', '4370_A1LCAIHDH00005Q_1607736572098_2_TH.json', '2278_A2LEBJJDE00181Z_1606653143869_2_TH.json', '4002_A2LEBJJDE00137N_1606020634409_2_TH.json', '2278_A2LEBJJDE00181Z_1606653179101_2_TH.json', '5009_A1LCAIHDH00020E_1608528632804_2_TH.json', '9874_A2LEBJJDE00123M_1607151176319_2_TH.json', '7851_A2LEBJJDE00074P_1606815172720_2_TH.json', '9578_A2LEBJJDE00105K_1608525140201_2_TH.json', '1983_A2LEBJJDE00188L_1606370288066_2_TH.json', '7985_A1LCAIHDH00011D_1608883461828_2_TH.json', '1145_A2LEBJJDE00119L_1606806663504_2_TH.json', '5214_A2LEBJJDE001399_1607596970986_2_TH.json', '2762_A2LEBJJDE000498_1606634670778_2_TH.json', '4307_A2LEBJJDE000683_1606733902293_2_TH.json', '6440_A2LEBJJDE001352_1608005423677_2_TH.json', '5415_A2LEBJJDE00032S_1606191129336_2_TH.json', '7418_A2LEBJJDE00080C_1606704680926_2_TH.json', '4478_A2LEBJJDE00052G_1606370384741_2_TH.json', '5030_A2LEBJJDE00182S_1606733813495_2_TH.json', '9527_A2LEBJJDE00110E_1607940190467_2_TH.json', '3065_A2LEBJJDE00103Y_1607840992030_2_TH.json', '5030_A2LEBJJDE00186Z_1606739302330_2_TH.json', '8297_A2LEBJJDE001076_1607507668475_2_TH.json', '4478_A2LEBJJDE00052G_1606374594161_2_TH.json', '3332_A2LEBJJDE00100K_1606628094132_2_TH.json', '2585_A2LEBJJDE001302_1606466310682_2_TH.json', '5415_A2LEBJJDE00027Y_1606638013157_2_TH.json', '7418_A2LEBJJDE00080C_1606702832810_2_TH.json', '6775_A2LEBJJDE00022Y_1606622842089_2_TH.json', '8297_A2LEBJJDE001076_1606879867411_2_TH.json', '0715_A2LEBJJDE00175D_1606706871329_2_TH.json', '6570_A2LEBJJDE001675_1607770880722_2_TH.json', '4370_A1LCAIHDH00005Q_1607741314446_2_TH.json', '7126_A2LEBJJDE001534_1606210745133_2_TH.json', '4370_A1LCAIHDH00005Q_1608358913048_2_TH.json', '0715_A2LEBJJDE00175D_1606706633707_2_TH.json', '4717_A2LEBJJDE001208_1606373339117_2_TH.json', '5438_A2LEBJJDE00159W_1606266786854_2_TH.json', '7126_A2LEBJJDE001534_1605931831114_2_TH.json', '6437_A1LCAIHDH00019R_1607650523654_2_TH.json', '9414_A2LEBJJDE00033L_1606550123322_2_TH.json', '1221_A1LCAIHDH00009X_1608701915201_2_TH.json', '4795_A2LEBJJDE00113S_1606616065350_2_TH.json', '3275_A2LEBJJDE001766_1606439385407_2_TH.json', '5030_A2LEBJJDE00182S_1606699277541_2_TH.json', '1963_A2LCBJCAC00003V_1607405573461_2_TH.json', '3755_A2LEBJJDE001857_1608270091142_2_TH.json', '2278_A2LEBJJDE00181Z_1606655493812_2_TH.json', '3263_A1LCAIHDH00014R_1607831707645_2_TH.json', '8606_A2LEBJJDE00155P_1606460292653_2_TH.json', '9578_A2LEBJJDE00105K_1606907479458_2_TH.json', '9578_A2LEBJJDE00105K_1608454435380_2_TH.json', '6775_A2LEBJJDE00022Y_1607678493887_2_TH.json', '4970_A1LCAIHDH00010K_1608355030996_2_TH.json', '9244_A2LEBJJDE00154W_1607590416367_2_TH.json', '6981_A2LEBJJDE00075I_1607059298952_2_TH.json', '5438_A2LEBJJDE00159W_1606267466029_2_TH.json', '1142_A2LEBJJDE00024K_1606444206037_2_TH.json', '8606_A2LEBJJDE00155P_1606460795395_2_TH.json', '5569_A2LEBJJDE001211_1606635320672_2_TH.json', '3755_A2LEBJJDE001857_1608270251098_2_TH.json', '7418_A2LEBJJDE00080C_1606448942066_2_TH.json', '0663_A2LEBJJDE001716_1606790518260_2_TH.json', '8802_A2LEBJJDE00174K_1606866787812_2_TH.json', '7297_A2LEBJJDE00151I_1606700607764_2_TH.json', '9244_A2LEBJJDE00154W_1606796090268_2_TH.json', '2278_A2LEBJJDE00181Z_1606656098926_2_TH.json', '5415_A2LEBJJDE00032S_1606295729162_2_TH.json', '1069_A2LEBJJDE00094D_1606719013738_2_TH.json', '0013_A2LEBJJDE00060O_1606386426925_2_TH.json', '3977_A2LCBJCAC000073_1607325767305_2_TH.json', '5415_A2LEBJJDE00027Y_1606637836161_2_TH.json', '3339_A2LEBJJDE00057G_1605953019217_2_TH.json', '4370_A1LCAIHDH00005Q_1607907325081_2_TH.json', '2762_A2LEBJJDE000498_1606446553280_2_TH.json', '4232_A2LEBJJDE00146O_1606897761193_2_TH.json', '3755_A2LEBJJDE001857_1607591066452_2_TH.json', '3977_A2LCBJCAC000073_1607311189789_2_TH.json', '4370_A1LCAIHDH00005Q_1608191035708_2_TH.json', '3677_A2LEBJJDE00087X_1606632119439_2_TH.json', '9244_A2LEBJJDE00154W_1607590790617_2_TH.json', '1071_A2LEBJJDE00173R_1606092874596_2_TH.json', '3977_A2LCBJCAC000073_1608010362839_2_TH.json', '1631_A2LEBJJDE00163X_1605964005893_2_TH.json', '3085_A2LEBJJDE00128M_1606274892206_2_TH.json', '3977_A2LCBJCAC000073_1607311061336_2_TH.json', '7851_A2LEBJJDE00074P_1606905842379_2_TH.json', '1069_A2LEBJJDE00094D_1606471007748_2_TH.json', '0663_A2LEBJJDE001716_1606369412116_2_TH.json', '8606_A2LEBJJDE00155P_1606460433620_2_TH.json', '9874_A2LEBJJDE00123M_1607145177557_2_TH.json', '3275_A2LEBJJDE001766_1606692017009_2_TH.json', '2278_A2LEBJJDE00181Z_1606655480965_2_TH.json', '3269_A2LEBJJDE00096Y_1608083270588_2_TH.json', '1069_A2LEBJJDE00094D_1607577803550_2_TH.json', '3263_A1LCAIHDH00014R_1607731872901_2_TH.json', '7701_A1LCAIHDH000085_1607652565806_2_TH.json', '8896_A2LEBJJDE001807_1606527094132_2_TH.json', '3977_A2LEBJJDE00161C_1606442049990_2_TH.json', '3332_A2LEBJJDE00100K_1606615204939_2_TH.json', '8802_A2LEBJJDE00174K_1606866912542_2_TH.json', '9527_A2LEBJJDE00110E_1606532404511_2_TH.json', '3263_A1LCAIHDH00014R_1608255206610_2_TH.json', '7851_A2LEBJJDE00074P_1606532472775_2_TH.json', '0643_A2LEBJJDE00048F_1606785645113_2_TH.json', '6437_A1LCAIHDH00019R_1607653312520_2_TH.json', '2326_A2LEBJJDE001998_1607404708164_2_TH.json', '5030_A2LEBJJDE00186Z_1606293517244_2_TH.json', '7168_A2LEBJJDE00124F_1605930490195_2_TH.json', '9527_A2LEBJJDE00110E_1606399233903_2_TH.json', '4478_A2LEBJJDE00052G_1606449889563_2_TH.json', '3858_A2LEBJJDE00076B_1607867015577_2_TH.json', '5438_A2LEBJJDE00159W_1606267635151_2_TH.json', '2326_A2LEBJJDE00037S_1607589076266_2_TH.json', '0013_A2LEBJJDE00060O_1606386172558_2_TH.json', '1069_A2LEBJJDE00094D_1607067613624_2_TH.json', '8999_A2LEBJJDE00001I_1606290455016_2_TH.json', '5438_A2LEBJJDE00159W_1606266998031_2_TH.json', '1195_A2LEBJJDE00197M_1608438943372_2_TH.json', '5438_A2LEBJJDE00159W_1606266058823_2_TH.json', '4370_A1LCAIHDH00005Q_1607838654469_2_TH.json', '8606_A2LEBJJDE00155P_1606460535095_2_TH.json', '3263_A1LCAIHDH00014R_1607831212934_2_TH.json', '3269_A2LEBJJDE00096Y_1607926350631_2_TH.json', '1743_A2LEBJJDE00031Z_1606372448844_2_TH.json', '3977_A2LCBJCAC000073_1607325682531_2_TH.json', '7851_A2LEBJJDE00074P_1606654949850_2_TH.json', '2996_A2LEBJJDE00083Q_1606016993893_2_TH.json', '3937_A2LEBJJDE00046T_1605943220162_2_TH.json', '8833_A2LEBJJDE00156I_1606275882468_2_TH.json', '5750_A2LEBJJDE000589_1606270632379_2_TH.json', '3275_A2LEBJJDE001766_1606026784779_2_TH.json', '6078_A2LEBJJDE00093K_1606611350008_2_TH.json', '3263_A1LCAIHDH00014R_1608536204540_2_TH.json', '4307_A2LEBJJDE000683_1606660978333_2_TH.json', '4002_A2LEBJJDE00137N_1606016879526_2_TH.json', '6729_A2LEBJJDE00028R_1606119815505_2_TH.json', '5415_A2LEBJJDE00032S_1606469186853_2_TH.json', '4002_A2LEBJJDE00137N_1606545810017_2_TH.json', '7985_A1LCAIHDH00011D_1608106827701_2_TH.json', '1221_A1LCAIHDH00009X_1608429073966_2_TH.json', '9338_A2LEBJJDE00101D_1606553778936_2_TH.json', '3046_A2LEBJJDE00089J_1606120962844_2_TH.json', '3755_A2LEBJJDE001857_1607517100153_2_TH.json', '7168_A2LEBJJDE00124F_1605955694752_2_TH.json', '7418_A2LEBJJDE00080C_1606980355002_2_TH.json', '2800_A2LEBJJDE00036Z_1606529566038_2_TH.json', '0888_A2LEBJJDE001948_1608948077102_2_TH.json', '7851_A2LEBJJDE00074P_1606305246488_2_TH.json', '8212_A2LEBJJDE00070I_1606654878814_2_TH.json', '5009_A1LCAIHDH00020E_1608875698690_2_TH.json', '5438_A2LEBJJDE00159W_1606266840477_2_TH.json', '1142_A2LEBJJDE00024K_1606708721621_2_TH.json', '9414_A2LEBJJDE00033L_1606700290754_2_TH.json', '6775_A2LEBJJDE00022Y_1606453365323_2_TH.json', '5619_A2LEBJJDE00002B_1606700238750_2_TH.json', '8102_A2LEBJJDE000633_1606538311818_2_TH.json', '9400_A2LEBJJDE00078W_1606011997469_2_TH.json', '1743_A2LEBJJDE00031Z_1606271469116_2_TH.json', '7985_A1LCAIHDH00011D_1608179969369_2_TH.json', '5030_A2LEBJJDE00186Z_1606293221926_2_TH.json', '5415_A2LEBJJDE00032S_1606446706354_2_TH.json', '2278_A2LEBJJDE00181Z_1606655630541_2_TH.json', '3275_A2LEBJJDE001766_1606358017763_2_TH.json', '4015_A2LEBJJDE00150P_1606357765838_2_TH.json', '1142_A2LEBJJDE00024K_1606444614396_2_TH.json', '5030_A2LEBJJDE00186Z_1606293300815_2_TH.json', '5030_A2LEBJJDE00182S_1606888122172_2_TH.json', '6818_A2LEBJJDE00170D_1606549737481_2_TH.json', '9414_A2LEBJJDE00033L_1607412627458_2_TH.json', '9578_A2LEBJJDE00105K_1606630206055_2_TH.json', '4070_A2LEBJJDE000266_1606120256024_2_TH.json', '1963_A2LCBJCAC00003V_1607407525563_2_TH.json', '4795_A2LEBJJDE00113S_1607654316618_2_TH.json', '3755_A2LEBJJDE001857_1608270101602_2_TH.json', '1963_A2LCBJCAC00003V_1608173428766_2_TH.json', '3977_A2LCBJCAC000073_1608001079351_2_TH.json', '7851_A2LEBJJDE00074P_1606892569408_2_TH.json', '3269_A2LEBJJDE00096Y_1608252800087_2_TH.json', '1069_A2LEBJJDE00094D_1606983317182_2_TH.json', '8606_A2LEBJJDE00155P_1606461393187_2_TH.json', '5030_A2LEBJJDE00186Z_1606739635474_2_TH.json', '5415_A2LEBJJDE00032S_1606440838106_2_TH.json', '0770_A2LEBJJDE000865_1609043177399_2_TH.json', '3977_A2LCBJCAC000073_1607310985984_2_TH.json', '8606_A2LEBJJDE00155P_1606460189439_2_TH.json', '8999_A2LEBJJDE00001I_1606528700219_2_TH.json', '3977_A2LEBJJDE00161C_1606370691851_2_TH.json', '4263_A2LEBJJDE00062A_1606533976130_2_TH.json', '4015_A2LEBJJDE00150P_1606699412312_2_TH.json', '9316_A2LEBJJDE00034E_1606886720810_2_TH.json', '7698_A2LEBJJDE00165J_1606655712572_2_TH.json', '8896_A2LEBJJDE001807_1607652995432_2_TH.json', '6570_A2LEBJJDE001675_1607577867035_2_TH.json', '3216_A1LCAIHDH00006J_1607744921360_2_TH.json', '8999_A2LEBJJDE00001I_1606271597731_2_TH.json', '3977_A2LCBJCAC000073_1607311124923_2_TH.json', '3006_A1LCAIHDH00007C_1608437041154_2_TH.json', '2522_A2LEBJJDE00014Q_1605944120547_2_TH.json', '4370_A1LCAIHDH00005Q_1607940494331_2_TH.json', '4370_A1LCAIHDH00005Q_1607751477542_2_TH.json', '8102_A2LEBJJDE000633_1606216088027_2_TH.json', '2326_A2LEBJJDE00056N_1605864244980_2_TH.json', '2996_A2LEBJJDE00083Q_1606462189001_2_TH.json', '1459_A2LEBJJDE00025D_1605945140539_2_TH.json', '4970_A1LCAIHDH00010K_1608193335940_2_TH.json', '1963_A2LCBJCAC00003V_1607490141759_2_TH.json', '5619_A2LEBJJDE00002B_1606702540461_2_TH.json', '2983_A2LEBJJDE001261_1606470163354_2_TH.json', '2585_A2LEBJJDE001302_1606117151557_2_TH.json', '5030_A2LEBJJDE00182S_1606888146865_2_TH.json', '5619_A2LEBJJDE00002B_1606366634507_2_TH.json', '3065_A2LEBJJDE00103Y_1606548728847_2_TH.json', '8606_A2LEBJJDE00155P_1606461310995_2_TH.json', '9202_A2LEBJJDE00082X_1606486067603_2_TH.json', '9527_A2LEBJJDE00110E_1606637943532_2_TH.json', '5415_A2LEBJJDE00032S_1606191141101_2_TH.json', '4015_A2LEBJJDE00150P_1606283056598_2_TH.json', '8802_A2LEBJJDE00174K_1606867456914_2_TH.json', '4307_A2LEBJJDE000683_1606655566267_2_TH.json', '0013_A2LEBJJDE00060O_1606551027519_2_TH.json', '9244_A2LEBJJDE00154W_1606796353251_2_TH.json', '4795_A2LEBJJDE00113S_1607655216193_2_TH.json', '5438_A2LEBJJDE00159W_1606265965576_2_TH.json', '1069_A2LEBJJDE00094D_1607848468522_2_TH.json', '8224_A2LEBJJDE000448_1606292402043_2_TH.json', '0425_A2LEBJJDE00079P_1606551932075_2_TH.json', '4015_A2LEBJJDE00150P_1606699642943_2_TH.json', '5438_A2LEBJJDE00159W_1606265806409_2_TH.json', '2278_A2LEBJJDE00181Z_1606653428047_2_TH.json', '8297_A2LEBJJDE001076_1607330724855_2_TH.json', '1981_A2LEBJJDE001493_1606634311630_2_TH.json', '8297_A2LEBJJDE001076_1608171374432_2_TH.json', '6078_A2LEBJJDE00093K_1606613597229_2_TH.json', '3263_A1LCAIHDH00014R_1607758388126_2_TH.json', '4162_A2LEBJJDE00013X_1607650825014_2_TH.json', '6995_A2LEBJJDE00104R_1606198591608_2_TH.json', '7985_A1LCAIHDH00011D_1607752967063_2_TH.json', '1145_A2LEBJJDE00119L_1606453663805_2_TH.json', '0013_A2LEBJJDE00060O_1606550863301_2_TH.json', '4232_A2LEBJJDE00146O_1607012029940_2_TH.json', '9338_A2LEBJJDE00101D_1606628227402_2_TH.json', '8297_A2LEBJJDE001076_1607612405361_2_TH.json', '5415_A2LEBJJDE00032S_1606727244189_2_TH.json', '9527_A2LEBJJDE00110E_1606744318752_2_TH.json', '0770_A2LEBJJDE000865_1607843282685_2_TH.json', '7418_A2LEBJJDE00080C_1606702797401_2_TH.json', '6570_A2LEBJJDE001675_1607830962590_2_TH.json', '4002_A2LEBJJDE00137N_1606547212311_2_TH.json', '1963_A2LCBJCAC00003V_1607406138474_2_TH.json', '1237_A2LEBJJDE001584_1606114502888_2_TH.json', '4970_A1LCAIHDH00010K_1607828296143_2_TH.json', '2327_A2LEBJJDE00091Y_1606293336975_2_TH.json', '4810_A2LEBJJDE00177Y_1607589560256_2_TH.json', '2326_A2LEBJJDE001998_1607743186701_2_TH.json', '1983_A2LEBJJDE00188L_1606442255563_2_TH.json', '3365_A2LEBJJDE00106D_1606363999227_2_TH.json', '9905_A2LEBJJDE00042M_1606626141786_2_TH.json', '1142_A2LEBJJDE00024K_1605944053798_2_TH.json', '0616_A2LEBJJDE00004W_1606197392812_2_TH.json', '1981_A2LEBJJDE001493_1606701948731_2_TH.json', '2278_A2LEBJJDE00181Z_1606654054193_2_TH.json', '4478_A2LEBJJDE00052G_1606198271406_2_TH.json', '0425_A2LEBJJDE00079P_1606551697106_2_TH.json', '6570_A2LEBJJDE001675_1607773017984_2_TH.json', '8606_A2LEBJJDE00155P_1606460744499_2_TH.json', '8606_A2LEBJJDE00155P_1606468173469_2_TH.json', '7698_A2LEBJJDE00165J_1606548297515_2_TH.json', '8802_A2LEBJJDE00174K_1606867164754_2_TH.json', '1071_A2LEBJJDE00173R_1606092736330_2_TH.json', '3977_A2LCBJCAC000073_1607326051625_2_TH.json', '1195_A2LEBJJDE00197M_1607494717681_2_TH.json', '5438_A2LEBJJDE00159W_1606267070161_2_TH.json', '9527_A2LEBJJDE00110E_1608515826798_2_TH.json', '6367_A2LEBJJDE00038L_1607130496638_2_TH.json', '8212_A2LEBJJDE00070I_1607656676792_2_TH.json', '8606_A2LEBJJDE00155P_1606460360987_2_TH.json', '2327_A2LEBJJDE00091Y_1608434930655_2_TH.json', '4478_A2LEBJJDE00052G_1606210190952_2_TH.json', '2278_A2LEBJJDE00181Z_1606653894298_2_TH.json', '4810_A2LEBJJDE00177Y_1607588524532_2_TH.json', '9414_A2LEBJJDE00033L_1608259387552_2_TH.json', '2720_A2LEBJJDE000401_1607052744454_2_TH.json', '7851_A2LEBJJDE00074P_1606816253441_2_TH.json', '6367_A2LEBJJDE00038L_1606613121327_2_TH.json', '2326_A2LEBJJDE00037S_1606453685438_2_TH.json', '8802_A2LEBJJDE00174K_1608699400127_2_TH.json', '6437_A1LCAIHDH00019R_1607650207709_2_TH.json', '6367_A2LEBJJDE00038L_1606022377600_2_TH.json', '5438_A2LEBJJDE00159W_1606267346125_2_TH.json', '9578_A2LEBJJDE00105K_1608433143206_2_TH.json', '1069_A2LEBJJDE00094D_1607835561850_2_TH.json', '3006_A1LCAIHDH00007C_1607681017471_2_TH.json', '1071_A2LEBJJDE00173R_1606615083843_2_TH.json', '1407_A2LEBJJDE001258_1606298001021_2_TH.json', '4370_A1LCAIHDH00005Q_1608029442314_2_TH.json', '6570_A2LEBJJDE001675_1607830769658_2_TH.json', '1963_A2LCBJCAC00003V_1607390435421_2_TH.json', '5415_A2LEBJJDE00027Y_1606616111331_2_TH.json', '4478_A2LEBJJDE00052G_1606222607281_2_TH.json', '8606_A2LEBJJDE00155P_1606461227062_2_TH.json', '6775_A2LEBJJDE00022Y_1606527578918_2_TH.json', '4133_A1LCAIHDH000035_1608203795149_2_TH.json', '7988_A2LEBJJDE000357_1604829745772_2_TH.json', '7584_A2LEBJJDE00189E_1607701705706_2_TH.json', '3365_A2LEBJJDE00106D_1606735960537_2_TH.json', '7851_A2LEBJJDE00074P_1606304566109_2_TH.json', '8896_A2LEBJJDE001807_1606547059425_2_TH.json', '1069_A2LEBJJDE00094D_1606447872680_2_TH.json', '1069_A2LEBJJDE00094D_1607580145129_2_TH.json', '3977_A2LEBJJDE00161C_1606370901610_2_TH.json', '9578_A2LEBJJDE00105K_1608017913354_2_TH.json', '1743_A2LEBJJDE00031Z_1606379590198_2_TH.json', '9887_A2LEBJJDE00066H_1605943994420_2_TH.json', '8146_A2LEBJJDE00148A_1607650584126_2_TH.json', '9874_A2LEBJJDE00123M_1606720536536_2_TH.json', '8896_A2LEBJJDE001807_1606456652610_2_TH.json', '3216_A1LCAIHDH00006J_1607657154490_2_TH.json', '0013_A2LEBJJDE00060O_1606386513159_2_TH.json', '0013_A2LEBJJDE00060O_1606551038976_2_TH.json', '3365_A2LEBJJDE00106D_1608266765586_2_TH.json', '9527_A2LEBJJDE00110E_1606393633690_2_TH.json', '2585_A2LEBJJDE001302_1609033215799_2_TH.json', '0617_A2LEBJJDE000815_1606613865854_2_TH.json', '3677_A2LEBJJDE00087X_1606546340173_2_TH.json', '4795_A2LEBJJDE00113S_1606361952198_2_TH.json', '9874_A2LEBJJDE00123M_1606299791500_2_TH.json', '8999_A2LEBJJDE00001I_1603366130935_2_TH.json', '7297_A2LEBJJDE00151I_1606280239610_2_TH.json', '7670_A1LCAIHDH000126_1608716850507_2_TH.json', '8781_A2LEBJJDE000906_1607653126188_2_TH.json', '3263_A1LCAIHDH00014R_1608428605554_2_TH.json', '8606_A2LEBJJDE00155P_1606460493664_2_TH.json', '7939_A2LEBJJDE00023R_1606547062052_2_TH.json', '9316_A2LEBJJDE00034E_1607392632738_2_TH.json', '2996_A2LEBJJDE00083Q_1606288803943_2_TH.json', '0617_A2LEBJJDE000815_1606535884561_2_TH.json', '0616_A2LEBJJDE00004W_1606706638030_2_TH.json', '5030_A2LEBJJDE00186Z_1606292820947_2_TH.json', '9244_A2LEBJJDE00154W_1607590486925_2_TH.json', '0715_A2LEBJJDE00175D_1607495340224_2_TH.json', '3858_A2LEBJJDE00076B_1607866549516_2_TH.json', '3269_A2LEBJJDE00096Y_1608253648619_2_TH.json', '3677_A2LEBJJDE00087X_1607758164923_2_TH.json', '9527_A2LEBJJDE00110E_1606744481514_2_TH.json', '8896_A2LEBJJDE001807_1607164447208_2_TH.json', '4370_A1LCAIHDH00005Q_1607836984882_2_TH.json', '0425_A2LEBJJDE00079P_1606536469212_2_TH.json', '9527_A2LEBJJDE00110E_1607611378463_2_TH.json', '6437_A1LCAIHDH00019R_1607654449537_2_TH.json', '1940_A2LEBJJDE000307_1605694114438_2_TH.json', '8281_A2LEBJJDE00055U_1606632013304_2_TH.json', '5619_A2LEBJJDE00002B_1606721572032_2_TH.json', '4307_A2LEBJJDE000683_1606654245697_2_TH.json', '2379_A2LEBJJDE00172Y_1605861580133_2_TH.json', '0643_A2LEBJJDE00048F_1606884569658_2_TH.json', '4717_A2LEBJJDE001208_1605949385981_2_TH.json', '6825_A1LCAIHDH00018Y_1609232367035_2_TH.json', '1963_A2LCBJCAC00003V_1607491339379_2_TH.json', '1981_A2LEBJJDE001493_1606633683599_2_TH.json', '2585_A2LEBJJDE001302_1606005358594_2_TH.json', '7851_A2LEBJJDE00074P_1607164140276_2_TH.json', '7851_A2LEBJJDE00074P_1606644459346_2_TH.json', '1069_A2LEBJJDE00094D_1607150110582_2_TH.json', '7418_A2LEBJJDE00080C_1606703683556_2_TH.json', '9244_A2LEBJJDE00154W_1606130970338_2_TH.json', '9356_A2LEBJJDE00192M_1607686507096_2_TH.json', '1221_A1LCAIHDH00009X_1608456990386_2_TH.json', '3216_A1LCAIHDH00006J_1607661813348_2_TH.json', '3977_A2LCBJCAC000073_1608010349612_2_TH.json', '4307_A2LEBJJDE000683_1606733847414_2_TH.json', '3065_A2LEBJJDE00103Y_1606474444800_2_TH.json', '9338_A2LEBJJDE00101D_1606738560558_2_TH.json', '1963_A2LCBJCAC00003V_1607405010068_2_TH.json', '4307_A2LEBJJDE000683_1606653808526_2_TH.json', '6825_A1LCAIHDH00018Y_1607656111398_2_TH.json', '2950_A2LEBJJDE00084J_1606282527154_2_TH.json', '8111_A2LEBJJDE00112Z_1606702835457_2_TH.json', '1963_A2LCBJCAC00003V_1608180386783_2_TH.json', '8606_A2LEBJJDE00155P_1606460456865_2_TH.json', '0888_A2LEBJJDE001948_1606277279450_2_TH.json', '3977_A2LEBJJDE00161C_1606370877812_2_TH.json', '8297_A2LEBJJDE001076_1607612278903_2_TH.json', '0663_A2LEBJJDE001716_1606266370483_2_TH.json', '8802_A2LEBJJDE00174K_1606866839229_2_TH.json', '4795_A2LEBJJDE00113S_1606023562000_2_TH.json', '4478_A2LEBJJDE00052G_1606195806763_2_TH.json', '3275_A2LEBJJDE001766_1606035595641_2_TH.json', '2983_A2LEBJJDE001261_1606482659718_2_TH.json', '4232_A2LEBJJDE00146O_1605947861687_2_TH.json', '7985_A1LCAIHDH00011D_1607753565001_2_TH.json', '3275_A2LEBJJDE001766_1606362748632_2_TH.json', '3755_A2LEBJJDE001857_1608269882504_2_TH.json', '9338_A2LEBJJDE00101D_1606738302263_2_TH.json', '5030_A2LEBJJDE00186Z_1606741752587_2_TH.json', '1069_A2LEBJJDE00094D_1607759160021_2_TH.json', '5619_A2LEBJJDE00002B_1606721772815_2_TH.json', '1963_A2LCBJCAC00003V_1607391370235_2_TH.json', '9447_A2LEBJJDE001951_1606304481637_2_TH.json', '8100_A2LEBJJDE00010J_1606210482043_2_TH.json', '2996_A2LEBJJDE00083Q_1606030888408_2_TH.json', '3006_A1LCAIHDH00007C_1607737757515_2_TH.json', '7851_A2LEBJJDE00074P_1606134223061_2_TH.json', '0425_A2LEBJJDE00079P_1606739168256_2_TH.json', '0425_A2LEBJJDE00079P_1606551499327_2_TH.json', '8212_A2LEBJJDE00070I_1605947050175_2_TH.json', '2469_A2LEBJJDE00019Q_1605946163107_2_TH.json', '7670_A1LCAIHDH000126_1607945732630_2_TH.json', '4970_A1LCAIHDH00010K_1608267078485_2_TH.json', '0643_A2LEBJJDE00048F_1606100429358_2_TH.json', '4478_A2LEBJJDE00052G_1606210239269_2_TH.json', '2326_A2LEBJJDE001998_1608524623068_2_TH.json', '9578_A2LEBJJDE00105K_1606548184684_2_TH.json', '5415_A2LEBJJDE00032S_1606645996271_2_TH.json', '2326_A2LEBJJDE001998_1606355059271_2_TH.json', '7851_A2LEBJJDE00074P_1607159511157_2_TH.json', '0131_A2LEBJJDE00166C_1606125265829_2_TH.json', '8606_A2LEBJJDE00155P_1606460775103_2_TH.json', '3977_A2LCBJCAC000073_1607311706055_2_TH.json', '9578_A2LEBJJDE00105K_1606382453237_2_TH.json', '7366_A2LEBJJDE00088Q_1607648537466_2_TH.json', '8224_A2LEBJJDE000448_1606539314656_2_TH.json', '8337_A2LEBJJDE00109R_1606740643334_2_TH.json', '6437_A1LCAIHDH00019R_1607656643989_2_TH.json', '7366_A2LEBJJDE00088Q_1606889161150_2_TH.json', '9527_A2LEBJJDE00110E_1606707825298_2_TH.json', '7698_A2LEBJJDE00165J_1606547343099_2_TH.json', '2688_A2LEBJJDE00115E_1606368906103_2_TH.json', '8833_A2LEBJJDE00156I_1605964676236_2_TH.json', '4810_A2LEBJJDE00177Y_1607588455733_2_TH.json', '0013_A2LEBJJDE00060O_1606550754415_2_TH.json', '8606_A2LEBJJDE00155P_1606460650286_2_TH.json', '8781_A2LEBJJDE000906_1607667215897_2_TH.json', '0013_A2LEBJJDE00060O_1606386248930_2_TH.json', '5438_A2LEBJJDE00159W_1606267316294_2_TH.json', '7670_A1LCAIHDH000126_1610667841407_2_TH.json', '3365_A2LEBJJDE00106D_1606124195575_2_TH.json', '7366_A2LEBJJDE00143A_1605958319797_2_TH.json', '1983_A2LEBJJDE00188L_1606370344342_2_TH.json', '2688_A2LEBJJDE00115E_1607585667114_2_TH.json', '0616_A2LEBJJDE00004W_1606639171954_2_TH.json', '5438_A2LEBJJDE00159W_1606265700822_2_TH.json', '3216_A1LCAIHDH00006J_1607672107903_2_TH.json', '0770_A2LEBJJDE000865_1606554557092_2_TH.json', '3755_A2LEBJJDE001857_1608270676507_2_TH.json', '0643_A2LEBJJDE00048F_1607046824526_2_TH.json', '5009_A1LCAIHDH00020E_1608617606005_2_TH.json', '4370_A1LCAIHDH00005Q_1607737319468_2_TH.json', '2278_A2LEBJJDE00181Z_1606653882338_2_TH.json', '2800_A2LEBJJDE00036Z_1606370537769_2_TH.json', '7366_A2LEBJJDE00143A_1605955950744_2_TH.json', '3263_A1LCAIHDH00014R_1608347381383_2_TH.json', '3065_A2LEBJJDE00103Y_1606530506694_2_TH.json', '8999_A2LEBJJDE00001I_1606371914957_2_TH.json', '6437_A1LCAIHDH00019R_1607651106961_2_TH.json', '8366_A2LEBJJDE00039E_1606216499324_2_TH.json', '7126_A2LEBJJDE001534_1606026717968_2_TH.json', '5569_A2LEBJJDE001211_1607148289406_2_TH.json', '8281_A2LEBJJDE00055U_1606616448771_2_TH.json', '6437_A1LCAIHDH00019R_1607650350648_2_TH.json', '5619_A2LEBJJDE00002B_1606887682670_2_TH.json', '2278_A2LEBJJDE00181Z_1606655804088_2_TH.json', '0013_A2LEBJJDE00060O_1606706938441_2_TH.json', '0425_A2LEBJJDE00079P_1606739510002_2_TH.json', '6367_A2LEBJJDE00038L_1606898273113_2_TH.json', '4659_A2LEBJJDE001349_1606017808742_2_TH.json', '7168_A2LEBJJDE00124F_1606445181341_2_TH.json', '9864_A2LEBJJDE001167_1608428767927_2_TH.json', '2379_A2LEBJJDE00172Y_1605861276404_2_TH.json', '6981_A2LEBJJDE00075I_1606527304456_2_TH.json', '2479_A2LEBJJDE00147H_1607652114811_2_TH.json', '1195_A2LEBJJDE00197M_1607503107965_2_TH.json', '9356_A2LEBJJDE00192M_1606031216327_2_TH.json', '9578_A2LEBJJDE00105K_1606540218584_2_TH.json', '5849_A2LEBJJDE00015J_1606026471457_2_TH.json', '2720_A2LEBJJDE000401_1606639647961_2_TH.json', '1069_A2LEBJJDE00094D_1606469199159_2_TH.json', '2959_A2LEBJJDE00097R_1606106080439_2_TH.json', '1080_A2LEBJJDE00092R_1606104424568_2_TH.json', '3977_A2LCBJCAC000073_1607311378227_2_TH.json', '9578_A2LEBJJDE00105K_1606624557432_2_TH.json', '3006_A1LCAIHDH00007C_1608022076100_2_TH.json', '4002_A2LEBJJDE00137N_1606621643734_2_TH.json', '7978_A2LEBJJDE00071B_1606646241552_2_TH.json', '5569_A2LEBJJDE001211_1606719506890_2_TH.json', '8896_A2LEBJJDE001807_1607154499896_2_TH.json', '1069_A2LEBJJDE00094D_1606542973717_2_TH.json', '9578_A2LEBJJDE00105K_1606039469953_2_TH.json', '4370_A1LCAIHDH00005Q_1607837823949_2_TH.json', '1142_A2LEBJJDE00024K_1606458343486_2_TH.json', '3046_A2LEBJJDE00089J_1606467276946_2_TH.json', '0617_A2LEBJJDE000815_1606648983375_2_TH.json', '6570_A2LEBJJDE001675_1607497785710_2_TH.json', '5619_A2LEBJJDE00002B_1606536307948_2_TH.json', '5619_A2LEBJJDE00002B_1606722153828_2_TH.json', '5030_A2LEBJJDE00182S_1606888080684_2_TH.json', '0425_A2LEBJJDE00079P_1606740874489_2_TH.json', '4267_A1LCAIHDH00016D_1607569955445_2_TH.json', '8212_A2LEBJJDE00070I_1606019800469_2_TH.json', '5438_A2LEBJJDE00159W_1606267686201_2_TH.json', '1963_A2LCBJCAC00003V_1607390670982_2_TH.json', '0616_A2LEBJJDE00004W_1606549789071_2_TH.json', '2469_A2LEBJJDE00019Q_1606268994081_2_TH.json', '7978_A2LEBJJDE00071B_1606620830587_2_TH.json', '4795_A2LEBJJDE00113S_1607153227608_2_TH.json', '9864_A2LEBJJDE001167_1607680385455_2_TH.json', '3677_A2LEBJJDE00087X_1607759011237_2_TH.json', '3263_A1LCAIHDH00014R_1607831475185_2_TH.json', '6825_A1LCAIHDH00018Y_1608362319797_2_TH.json', '7978_A2LEBJJDE00071B_1606619334068_2_TH.json', '4070_A2LEBJJDE000266_1606627431002_2_TH.json', '3977_A2LCBJCAC000073_1608001230311_2_TH.json', '3006_A1LCAIHDH00007C_1607858294577_2_TH.json', '3269_A2LEBJJDE00096Y_1608082211470_2_TH.json', '4795_A2LEBJJDE00113S_1606733722687_2_TH.json', '1743_A2LEBJJDE00031Z_1606633346739_2_TH.json', '3006_A1LCAIHDH00007C_1607741607555_2_TH.json', '7229_A2LEBJJDE00142H_1606737540862_2_TH.json', '6367_A2LEBJJDE00038L_1606616342827_2_TH.json', '7126_A2LEBJJDE001534_1606460038990_2_TH.json', '1221_A1LCAIHDH00009X_1608343232622_2_TH.json', '1195_A2LEBJJDE00197M_1606803447139_2_TH.json', '4133_A1LCAIHDH000035_1607675163406_2_TH.json', '2278_A2LEBJJDE00181Z_1606653869548_2_TH.json', '9578_A2LEBJJDE00105K_1608444807234_2_TH.json', '9527_A2LEBJJDE00110E_1607610902233_2_TH.json', '2326_A2LEBJJDE00037S_1607589218546_2_TH.json', '2278_A2LEBJJDE00181Z_1606655990141_2_TH.json', '4970_A1LCAIHDH00010K_1607665555335_2_TH.json', '1981_A2LEBJJDE001493_1606704296508_2_TH.json', '9202_A2LEBJJDE00082X_1606383745531_2_TH.json', '8802_A2LEBJJDE00174K_1606867382921_2_TH.json', '3977_A2LCBJCAC000073_1608010129566_2_TH.json', '8814_A2LEBJJDE00118S_1607588360119_2_TH.json', '1195_A2LEBJJDE00197M_1606618006075_2_TH.json', '2326_A2LEBJJDE001998_1606727554442_2_TH.json', '7851_A2LEBJJDE00074P_1607154518405_2_TH.json', '5305_A2LEBJJDE00122T_1606208482925_2_TH.json', '3365_A2LEBJJDE00106D_1606133213650_2_TH.json', '4307_A2LEBJJDE000683_1606661341490_2_TH.json', '0663_A2LEBJJDE001716_1606269534970_2_TH.json', '7985_A1LCAIHDH00011D_1607755147160_2_TH.json', '0617_A2LEBJJDE000815_1606535825432_2_TH.json', '9202_A2LEBJJDE00082X_1606486136449_2_TH.json', '5438_A2LEBJJDE00159W_1606265835992_2_TH.json', '2032_A2LEBJJDE00152B_1606625507169_2_TH.json', '3006_A1LCAIHDH00007C_1607849770621_2_TH.json', '1981_A2LEBJJDE001493_1606638277742_2_TH.json', '0617_A2LEBJJDE000815_1606200399142_2_TH.json', '2278_A2LEBJJDE00181Z_1606656021200_2_TH.json', '0643_A2LEBJJDE00048F_1607131725416_2_TH.json', '7978_A2LEBJJDE00071B_1606729078946_2_TH.json', '5569_A2LEBJJDE001211_1606440536685_2_TH.json', '3263_A1LCAIHDH00014R_1608363183827_2_TH.json', '6437_A1LCAIHDH00019R_1607649123393_2_TH.json', '5030_A2LEBJJDE00186Z_1606741709825_2_TH.json', '8802_A2LEBJJDE00174K_1606866820064_2_TH.json', '4263_A2LEBJJDE00062A_1606455828649_2_TH.json', '7698_A2LEBJJDE00165J_1606463755291_2_TH.json', '7978_A2LEBJJDE00071B_1606546669198_2_TH.json', '9338_A2LEBJJDE00101D_1606742762533_2_TH.json', '5438_A2LEBJJDE00159W_1606266030057_2_TH.json', '1195_A2LEBJJDE00197M_1606807803311_2_TH.json', '9244_A2LEBJJDE00154W_1607590693095_2_TH.json', '3365_A2LEBJJDE00106D_1608278930510_2_TH.json', '7851_A2LEBJJDE00074P_1607176440684_2_TH.json', '1221_A1LCAIHDH00009X_1608428996691_2_TH.json', '2585_A2LEBJJDE001302_1606466765566_2_TH.json', '4307_A2LEBJJDE000683_1606733830777_2_TH.json', '1069_A2LEBJJDE00094D_1607232084094_2_TH.json', '8297_A2LEBJJDE001076_1607323469891_2_TH.json', '3006_A1LCAIHDH00007C_1607652274714_2_TH.json', '3006_A1LCAIHDH00007C_1608282260169_2_TH.json', '6437_A1LCAIHDH00019R_1607653277597_2_TH.json', '5939_A2LEBJJDE00129F_1606459743684_2_TH.json', '4478_A2LEBJJDE00052G_1606804619164_2_TH.json', '5415_A2LEBJJDE00027Y_1606443005204_2_TH.json', '2326_A2LEBJJDE00037S_1606630875552_2_TH.json', '3216_A1LCAIHDH00006J_1607851510393_2_TH.json', '3977_A2LCBJCAC000073_1607311106585_2_TH.json', '2032_A2LEBJJDE00152B_1606022196953_2_TH.json', '7978_A2LEBJJDE00071B_1606544781875_2_TH.json', '7229_A2LEBJJDE00142H_1606028255502_2_TH.json', '8297_A2LEBJJDE001076_1609045791468_2_TH.json', '9905_A2LEBJJDE00042M_1607684945204_2_TH.json', '8146_A2LEBJJDE00148A_1606387812977_2_TH.json', '8802_A2LEBJJDE00174K_1606867562941_2_TH.json', '9414_A2LEBJJDE00033L_1606531903047_2_TH.json', '9316_A2LEBJJDE00034E_1607053651618_2_TH.json', '3977_A2LCBJCAC000073_1607311304367_2_TH.json', '3065_A2LEBJJDE00103Y_1606646254195_2_TH.json', '0617_A2LEBJJDE000815_1606535148302_2_TH.json', '3755_A2LEBJJDE001857_1607583032532_2_TH.json', '6570_A2LEBJJDE001675_1607830717290_2_TH.json', '6367_A2LEBJJDE00038L_1606898244275_2_TH.json', '5030_A2LEBJJDE00186Z_1606740527425_2_TH.json', '9578_A2LEBJJDE00105K_1607414827052_2_TH.json', '9244_A2LEBJJDE00154W_1607590585400_2_TH.json', '8366_A2LEBJJDE00196T_1606299398418_2_TH.json', '3977_A2LCBJCAC000073_1607311226963_2_TH.json', '5030_A2LEBJJDE00182S_1606888007600_2_TH.json', '4795_A2LEBJJDE00113S_1606441335190_2_TH.json', '4557_A2LEBJJDE00043F_1606439131133_2_TH.json', '3977_A2LEBJJDE00161C_1606370889905_2_TH.json', '4133_A1LCAIHDH000035_1608178732057_2_TH.json', '1221_A1LCAIHDH00009X_1608968358716_2_TH.json', '3006_A1LCAIHDH00007C_1607658245228_2_TH.json', '9578_A2LEBJJDE00105K_1608350762473_2_TH.json', '0616_A2LEBJJDE00004W_1606618983145_2_TH.json', '5009_A1LCAIHDH00020E_1608290111037_2_TH.json', '3006_A1LCAIHDH00007C_1607836985458_2_TH.json', '4795_A2LEBJJDE00113S_1606899371319_2_TH.json', '3755_A2LEBJJDE001857_1608270033787_2_TH.json', '6367_A2LEBJJDE00038L_1606442760619_2_TH.json', '1963_A2LCBJCAC00003V_1608685542115_2_TH.json', '5415_A2LEBJJDE00027Y_1606630800254_2_TH.json', '3065_A2LEBJJDE00103Y_1608353430451_2_TH.json', '9527_A2LEBJJDE00110E_1606736775683_2_TH.json', '5415_A2LEBJJDE00032S_1606623477720_2_TH.json', '5030_A2LEBJJDE00186Z_1606293278801_2_TH.json', '3269_A2LEBJJDE00096Y_1608086049679_2_TH.json', '5619_A2LEBJJDE00002B_1606623516177_2_TH.json', '7418_A2LEBJJDE00080C_1606472410706_2_TH.json', '1963_A2LCBJCAC00003V_1608172230147_2_TH.json', '0715_A2LEBJJDE00175D_1607488345377_2_TH.json', '3216_A1LCAIHDH00006J_1607739749092_2_TH.json', '9527_A2LEBJJDE00110E_1606740906975_2_TH.json', '2637_A2LEBJJDE00099D_1606008661780_2_TH.json', '1983_A2LEBJJDE00188L_1606102220099_2_TH.json', '5438_A2LEBJJDE00159W_1606267268243_2_TH.json', '2278_A2LEBJJDE00181Z_1606655619069_2_TH.json', '2959_A2LEBJJDE00097R_1606021138008_2_TH.json', '3006_A1LCAIHDH00007C_1607751381242_2_TH.json', '6775_A2LEBJJDE00022Y_1607678689270_2_TH.json', '7126_A2LEBJJDE001534_1606104669150_2_TH.json', '8802_A2LEBJJDE00174K_1608698934289_2_TH.json', '2762_A2LEBJJDE000498_1606559642031_2_TH.json', '5569_A2LEBJJDE001211_1606985327545_2_TH.json', '8999_A2LEBJJDE00001I_1606458949414_2_TH.json', '3977_A2LCBJCAC000073_1608001252756_2_TH.json', '5030_A2LEBJJDE00182S_1606888215508_2_TH.json', '6440_A2LEBJJDE001352_1607238700579_2_TH.json', '5619_A2LEBJJDE00002B_1606721757200_2_TH.json', '4015_A2LEBJJDE00150P_1606282745679_2_TH.json', '3977_A2LEBJJDE00161C_1606370212453_2_TH.json', '8896_A2LEBJJDE001807_1607654831087_2_TH.json', '6570_A2LEBJJDE001675_1607398874097_2_TH.json', '9874_A2LEBJJDE00123M_1606473019081_2_TH.json', '1963_A2LCBJCAC00003V_1607489141031_2_TH.json', '1237_A2LEBJJDE001584_1606114776427_2_TH.json', '3263_A1LCAIHDH00014R_1607758695744_2_TH.json', '4478_A2LEBJJDE00052G_1606633813924_2_TH.json', '9527_A2LEBJJDE00110E_1606548351321_2_TH.json', '0770_A2LEBJJDE000865_1607672627686_2_TH.json', '4070_A2LEBJJDE000266_1606638917165_2_TH.json', '6121_A2LEBJJDE00183L_1606226202521_2_TH.json', '6437_A1LCAIHDH00019R_1607656852728_2_TH.json', '3046_A2LEBJJDE00089J_1606444829935_2_TH.json', '3677_A2LEBJJDE00087X_1606526132098_2_TH.json', '8606_A2LEBJJDE00155P_1606461259053_2_TH.json', '9244_A2LEBJJDE00154W_1607590810840_2_TH.json', '4717_A2LEBJJDE001208_1606037671841_2_TH.json', '9643_A2LEBJJDE00061H_1605937338233_2_TH.json', '0425_A2LEBJJDE00079P_1606739149385_2_TH.json', '0663_A2LEBJJDE001716_1606271683141_2_TH.json', '3269_A2LEBJJDE00096Y_1608082579420_2_TH.json', '8896_A2LEBJJDE001807_1606111461395_2_TH.json', '1237_A2LEBJJDE001584_1606114206316_2_TH.json', '3006_A1LCAIHDH00007C_1607677747057_2_TH.json', '5305_A2LEBJJDE00122T_1606553185909_2_TH.json']\n"
          ]
        }
      ]
    },
    {
      "cell_type": "code",
      "source": [
        "print(three_exist)"
      ],
      "metadata": {
        "colab": {
          "base_uri": "https://localhost:8080/"
        },
        "id": "b5bqz0MV-2R7",
        "outputId": "53eee293-d02c-4f74-a101-05feb9722c61"
      },
      "execution_count": 47,
      "outputs": [
        {
          "output_type": "stream",
          "name": "stdout",
          "text": [
            "['2688_A2LEBJJDE00115E_1607585844561_3_TH.json', '6440_A2LEBJJDE001352_1606183312175_3_TH.json', '4810_A2LEBJJDE00177Y_1606091225331_3_TH.json', '3085_A2LEBJJDE00128M_1606190739155_3_TH.json', '6078_A2LEBJJDE00160J_1606098339746_3_TH.json', '7366_A2LEBJJDE00088Q_1606990428297_3_TH.json', '3006_A1LCAIHDH00007C_1608347770229_3_TH.json', '0844_A2LEBJJDE00067A_1605863056399_3_TH.json', '0770_A2LEBJJDE000865_1606541360657_3_TH.json', '9202_A2LEBJJDE00082X_1606310691658_3_TH.json', '9578_A2LEBJJDE00105K_1605944055238_3_TH.json', '4370_A1LCAIHDH00005Q_1607929245283_3_TH.json', '9244_A2LEBJJDE00154W_1606796069817_3_TH.json', '6367_A2LEBJJDE00038L_1607575368063_3_TH.json', '9864_A2LEBJJDE001167_1608957263215_3_TH.json', '6121_A2LEBJJDE00183L_1606226229975_3_TH.json', '4919_A2LEBJJDE00064V_1606193008191_3_TH.json', '2326_A2LEBJJDE001998_1608196939722_3_TH.json', '6775_A2LEBJJDE00022Y_1605696960316_3_TH.json', '7418_A2LEBJJDE00080C_1606116088364_3_TH.json', '3977_A2LEBJJDE00161C_1606442092164_3_TH.json', '2326_A2LEBJJDE001998_1608261103744_3_TH.json', '3006_A1LCAIHDH00007C_1607845598851_3_TH.json', '9578_A2LEBJJDE00105K_1606021908672_3_TH.json', '9316_A2LEBJJDE00034E_1608006814422_3_TH.json', '4263_A2LEBJJDE00062A_1606529578656_3_TH.json', '9578_A2LEBJJDE00105K_1606805444937_3_TH.json', '6818_A2LEBJJDE00170D_1606108162698_3_TH.json', '3006_A1LCAIHDH00007C_1608026728823_3_TH.json', '0617_A2LEBJJDE000815_1606648676975_3_TH.json', '9447_A2LEBJJDE001951_1606124643588_3_TH.json', '9578_A2LEBJJDE00105K_1606039834301_3_TH.json', '2469_A2LEBJJDE00019Q_1605941121915_3_TH.json', '1237_A2LEBJJDE001584_1606114129389_3_TH.json', '8000_A2LEBJJDE000956_1604729624721_3_TH.json', '9338_A2LEBJJDE00101D_1606570081727_3_TH.json', '7978_A2LEBJJDE00071B_1606548342999_3_TH.json', '0715_A2LEBJJDE00175D_1608812119681_3_TH.json', '9414_A2LEBJJDE00033L_1606183261920_3_TH.json', '2585_A2LEBJJDE001302_1606630344884_3_TH.json', '4970_A1LCAIHDH00010K_1608365014837_3_TH.json', '7985_A1LCAIHDH00011D_1608458432583_3_TH.json', '4307_A2LEBJJDE000683_1606654323710_3_TH.json', '5009_A1LCAIHDH00020E_1608273035149_3_TH.json', '5438_A2LEBJJDE00159W_1606265721698_3_TH.json', '9447_A2LEBJJDE001951_1606020692323_3_TH.json', '8781_A2LEBJJDE000906_1607652624608_3_TH.json', '9578_A2LEBJJDE00105K_1606363658840_3_TH.json', '9338_A2LEBJJDE00101D_1606569010814_3_TH.json', '2637_A2LEBJJDE00099D_1608865885901_3_TH.json', '7988_A2LEBJJDE000357_1604810150994_3_TH.json', '8111_A2LEBJJDE00112Z_1603078318422_3_TH.json', '7701_A1LCAIHDH000085_1608882330246_3_TH.json', '4263_A2LEBJJDE00062A_1606727419143_3_TH.json', '4370_A1LCAIHDH00005Q_1607836633870_3_TH.json', '2720_A2LEBJJDE000401_1606726491909_3_TH.json', '3677_A2LEBJJDE00087X_1606010077712_3_TH.json', '2278_A2LEBJJDE00181Z_1606655716904_3_TH.json', '5030_A2LEBJJDE00186Z_1606739938872_3_TH.json', '9414_A2LEBJJDE00033L_1606193584828_3_TH.json', '1983_A2LEBJJDE00188L_1606101946336_3_TH.json', '3755_A2LEBJJDE001857_1608269541784_3_TH.json', '1407_A2LEBJJDE001258_1606017294121_3_TH.json', '5305_A2LEBJJDE00122T_1606210064966_3_TH.json', '3085_A2LEBJJDE00128M_1606117081045_3_TH.json', '9447_A2LEBJJDE001951_1606208969325_3_TH.json', '1071_A2LEBJJDE00173R_1606092506428_3_TH.json', '1743_A2LEBJJDE00031Z_1606019111303_3_TH.json', '1221_A1LCAIHDH00009X_1608529993973_3_TH.json', '5849_A2LEBJJDE00015J_1605947484293_3_TH.json', '5438_A2LEBJJDE00159W_1606266348902_3_TH.json', '8102_A2LEBJJDE000633_1606012700010_3_TH.json', '4133_A1LCAIHDH000035_1608204177160_3_TH.json', '4370_A1LCAIHDH00005Q_1608363525828_3_TH.json', '2585_A2LEBJJDE001302_1606617287238_3_TH.json', '4263_A2LEBJJDE00062A_1606278873651_3_TH.json', '5438_A2LEBJJDE00159W_1606267178744_3_TH.json', '5619_A2LEBJJDE00002B_1606614066418_3_TH.json', '3269_A2LEBJJDE00096Y_1609137559051_3_TH.json', '1071_A2LEBJJDE00173R_1606092767993_3_TH.json', '7978_A2LEBJJDE00071B_1606551980361_3_TH.json', '8802_A2LEBJJDE00174K_1608698849153_3_TH.json', '8999_A2LEBJJDE00001I_1606547934829_3_TH.json', '4970_A1LCAIHDH00010K_1608373183074_3_TH.json', '3269_A2LEBJJDE00096Y_1608596486688_3_TH.json', '3977_A2LEBJJDE00039E_1606216922684_3_TH.json', '1195_A2LEBJJDE00197M_1606803840478_3_TH.json', '1237_A2LEBJJDE001584_1606113840454_3_TH.json', '2637_A2LEBJJDE00099D_1607918767437_3_TH.json', '5849_A2LEBJJDE00015J_1606026793062_3_TH.json', '1080_A2LEBJJDE00092R_1606104535865_3_TH.json', '7027_A2LEBJJDE001117_1603609341639_3_TH.json', '4263_A2LEBJJDE00062A_1606200307878_3_TH.json', '3006_A1LCAIHDH00007C_1608020776963_3_TH.json', '6570_A2LEBJJDE001675_1607426055880_3_TH.json', '1237_A2LEBJJDE001584_1606115336978_3_TH.json', '4795_A2LEBJJDE00113S_1606029454008_3_TH.json', '9244_A2LEBJJDE00154W_1606130231294_3_TH.json', '5030_A2LEBJJDE00182S_1606174756390_3_TH.json', '2326_A2LEBJJDE001998_1607505576349_3_TH.json', '4133_A1LCAIHDH000035_1608190801014_3_TH.json', '9202_A2LEBJJDE00082X_1606310708492_3_TH.json', '8212_A2LEBJJDE00070I_1606554921628_3_TH.json', '8802_A2LEBJJDE00174K_1608700058248_3_TH.json', '4717_A2LEBJJDE001208_1606025194890_3_TH.json', '7229_A2LEBJJDE00142H_1606612687818_3_TH.json', '0715_A2LEBJJDE00175D_1607495151596_3_TH.json', '1071_A2LEBJJDE00173R_1606092486333_3_TH.json', '9338_A2LEBJJDE00101D_1606539915853_3_TH.json', '9447_A2LEBJJDE001951_1606124605088_3_TH.json', '6570_A2LEBJJDE001675_1607318933190_3_TH.json', '9874_A2LEBJJDE00123M_1606990113198_3_TH.json', '1407_A2LEBJJDE001258_1606018714089_3_TH.json', '3275_A2LEBJJDE001766_1605949837552_3_TH.json', '2326_A2LEBJJDE001998_1606199681068_3_TH.json', '2688_A2LEBJJDE00115E_1606444815938_3_TH.json', '7168_A2LEBJJDE00124F_1606277891698_3_TH.json', '5569_A2LEBJJDE001211_1606021796704_3_TH.json', '5569_A2LEBJJDE001211_1608430395912_3_TH.json', '8281_A2LEBJJDE00055U_1606449518198_3_TH.json', '9578_A2LEBJJDE00105K_1608430301687_3_TH.json', '6818_A2LEBJJDE00170D_1606283355617_3_TH.json', '3006_A1LCAIHDH00007C_1608192422799_3_TH.json', '0663_A2LEBJJDE001716_1606201785332_3_TH.json', '2762_A2LEBJJDE000498_1606032860831_3_TH.json', '7985_A1LCAIHDH00011D_1608458458921_3_TH.json', '5438_A2LEBJJDE00159W_1606266077265_3_TH.json', '9244_A2LEBJJDE00154W_1607590372914_3_TH.json', '0888_A2LEBJJDE001948_1605940559626_3_TH.json', '3365_A2LEBJJDE00106D_1606546106467_3_TH.json', '9864_A2LEBJJDE001167_1608697706140_3_TH.json', '9817_A2LEBJJDE00193F_1606104401704_3_TH.json', '1221_A1LCAIHDH00009X_1608969680012_3_TH.json', '5939_A2LEBJJDE00129F_1608284785218_3_TH.json', '1221_A1LCAIHDH00009X_1608462617321_3_TH.json', '7670_A1LCAIHDH000126_1607659779955_3_TH.json', '8366_A2LEBJJDE00196T_1606007849927_3_TH.json', '1071_A2LEBJJDE00173R_1606092752837_3_TH.json', '3263_A1LCAIHDH00014R_1607735777865_3_TH.json', '4370_A1LCAIHDH00005Q_1608608039250_3_TH.json', '1407_A2LEBJJDE001258_1606381793942_3_TH.json', '3006_A1LCAIHDH00007C_1607839852167_3_TH.json', '1145_A2LEBJJDE00119L_1605840804800_3_TH.json', '7027_A2LEBJJDE001117_1602988151264_3_TH.json', '0770_A2LEBJJDE000865_1608112116081_3_TH.json', '5569_A2LEBJJDE001211_1605951401362_3_TH.json', '6078_A2LEBJJDE00160J_1606097870445_3_TH.json', '4133_A1LCAIHDH000035_1608687693910_3_TH.json', '1743_A2LEBJJDE00031Z_1606113347069_3_TH.json', '1221_A1LCAIHDH00009X_1607925490225_3_TH.json', '3755_A2LEBJJDE001857_1608269997211_3_TH.json', '1221_A1LCAIHDH00009X_1608202679036_3_TH.json', '7366_A2LEBJJDE00143A_1605952113327_3_TH.json', '8212_A2LEBJJDE00070I_1606743147560_3_TH.json', '9244_A2LEBJJDE00154W_1607590276476_3_TH.json', '4263_A2LEBJJDE00062A_1606706946294_3_TH.json', '7297_A2LEBJJDE00151I_1606701894444_3_TH.json', '1080_A2LEBJJDE00092R_1606795511098_3_TH.json', '0888_A2LEBJJDE001948_1606552739347_3_TH.json', '6367_A2LEBJJDE00038L_1606616269149_3_TH.json', '6729_A2LEBJJDE00028R_1606205545505_3_TH.json', '9414_A2LEBJJDE00033L_1605949054597_3_TH.json', '4133_A1LCAIHDH000035_1608203549958_3_TH.json', '7126_A2LEBJJDE001534_1606544194903_3_TH.json', '5849_A2LEBJJDE00015J_1606026674223_3_TH.json', '3755_A2LEBJJDE001857_1608269744275_3_TH.json', '3216_A1LCAIHDH00006J_1608979429204_3_TH.json', '6121_A2LEBJJDE00183L_1606226445649_3_TH.json', '0715_A2LEBJJDE00175D_1608812046490_3_TH.json', '0616_A2LEBJJDE00004W_1606714826448_3_TH.json', '9244_A2LEBJJDE00154W_1606130392432_3_TH.json', '4015_A2LEBJJDE00150P_1606358367499_3_TH.json', '0425_A2LEBJJDE00079P_1606739315449_3_TH.json', '4263_A2LEBJJDE00062A_1606525386398_3_TH.json', '9864_A2LEBJJDE001167_1605941800151_3_TH.json', '4970_A1LCAIHDH00010K_1608010320782_3_TH.json', '6121_A2LEBJJDE00183L_1606226493382_3_TH.json', '3006_A1LCAIHDH00007C_1608027232773_3_TH.json', '3065_A2LEBJJDE00103Y_1606021178377_3_TH.json', '7297_A2LEBJJDE00151I_1606698715750_3_TH.json', '0643_A2LEBJJDE00048F_1607074708384_3_TH.json', '3216_A1LCAIHDH00006J_1608605258999_3_TH.json', '7670_A1LCAIHDH000126_1607659853034_3_TH.json', '1407_A2LEBJJDE001258_1606368779893_3_TH.json', '7670_A1LCAIHDH000126_1608952725855_3_TH.json', '3216_A1LCAIHDH00006J_1608431771530_3_TH.json', '3046_A2LEBJJDE00089J_1605940477287_3_TH.json', '1142_A2LEBJJDE00024K_1605853298271_3_TH.json', '2762_A2LEBJJDE000498_1606125915563_3_TH.json', '0733_A2LEBJJDE000084_1605863336095_3_TH.json', '6437_A1LCAIHDH00019R_1607648362268_3_TH.json', '6078_A2LEBJJDE00160J_1606098544123_3_TH.json', '3755_A2LEBJJDE001857_1608269805216_3_TH.json', '6367_A2LEBJJDE00038L_1606613327385_3_TH.json', '9316_A2LEBJJDE00034E_1606037470317_3_TH.json', '8802_A2LEBJJDE00174K_1608703410216_3_TH.json', '3046_A2LEBJJDE00089J_1606120914349_3_TH.json', '5619_A2LEBJJDE00002B_1606016671759_3_TH.json', '3755_A2LEBJJDE001857_1608270282968_3_TH.json', '8896_A2LEBJJDE001807_1606110114691_3_TH.json', '0715_A2LEBJJDE00175D_1606195974695_3_TH.json', '9643_A2LEBJJDE00061H_1606040658449_3_TH.json', '4370_A1LCAIHDH00005Q_1608190556562_3_TH.json', '2762_A2LEBJJDE000498_1606197188146_3_TH.json', '3006_A1LCAIHDH00007C_1608021858788_3_TH.json', '4307_A2LEBJJDE000683_1606654143611_3_TH.json', '9447_A2LEBJJDE001951_1606130399624_3_TH.json', '4717_A2LEBJJDE001208_1606014875658_3_TH.json', '2327_A2LEBJJDE00091Y_1608695973942_3_TH.json', '9202_A2LEBJJDE00082X_1606310761563_3_TH.json', '8606_A2LEBJJDE00155P_1606460401877_3_TH.json', '8146_A2LEBJJDE00148A_1607650773023_3_TH.json', '4717_A2LEBJJDE001208_1606207916961_3_TH.json', '3755_A2LEBJJDE001857_1608269526446_3_TH.json', '8102_A2LEBJJDE000633_1605956154486_3_TH.json', '1069_A2LEBJJDE00094D_1607142984268_3_TH.json', '0663_A2LEBJJDE001716_1606269662249_3_TH.json', '9578_A2LEBJJDE00105K_1606467545707_3_TH.json', '5009_A1LCAIHDH00020E_1608269420786_3_TH.json', '7851_A2LEBJJDE00074P_1606134096760_3_TH.json', '7126_A2LEBJJDE001534_1606286201463_3_TH.json', '2996_A2LEBJJDE00083Q_1606275000258_3_TH.json', '8224_A2LEBJJDE000448_1603960951081_3_TH.json', '2326_A2LEBJJDE00037S_1607590081489_3_TH.json', '0715_A2LEBJJDE00175D_1608812270231_3_TH.json', '1195_A2LEBJJDE00197M_1606803470768_3_TH.json', '5939_A2LEBJJDE00129F_1606621814266_3_TH.json', '9643_A2LEBJJDE00061H_1605938954653_3_TH.json', '6078_A2LEBJJDE00160J_1606098151948_3_TH.json', '7168_A2LEBJJDE00124F_1606014517812_3_TH.json', '9578_A2LEBJJDE00105K_1606617383005_3_TH.json', '0616_A2LEBJJDE00004W_1606017583923_3_TH.json', '3006_A1LCAIHDH00007C_1608170141457_3_TH.json', '2278_A2LEBJJDE00181Z_1606655582563_3_TH.json', '8000_A2LEBJJDE000956_1602738252095_3_TH.json', '0013_A2LEBJJDE00060O_1606386412941_3_TH.json', '1221_A1LCAIHDH00009X_1608964640520_3_TH.json', '6729_A2LEBJJDE00028R_1606124094133_3_TH.json', '5569_A2LEBJJDE001211_1608457021027_3_TH.json', '6078_A2LEBJJDE00160J_1606097916041_3_TH.json', '4370_A1LCAIHDH00005Q_1608174058336_3_TH.json', '5569_A2LEBJJDE001211_1606018409972_3_TH.json', '9202_A2LEBJJDE00082X_1605798357687_3_TH.json', '2637_A2LEBJJDE00099D_1605779962600_3_TH.json', '6775_A2LEBJJDE00022Y_1606644203449_3_TH.json', '3365_A2LEBJJDE00106D_1605861503137_3_TH.json', '4133_A1LCAIHDH000035_1608190463408_3_TH.json', '5569_A2LEBJJDE001211_1606106316403_3_TH.json', '3006_A1LCAIHDH00007C_1608450821370_3_TH.json', '3365_A2LEBJJDE00106D_1605944166106_3_TH.json', '4002_A2LEBJJDE00137N_1606811407369_3_TH.json', '2032_A2LEBJJDE00152B_1606625690860_3_TH.json', '6570_A2LEBJJDE001675_1607772952992_3_TH.json', '7978_A2LEBJJDE00071B_1606619202592_3_TH.json', '7701_A1LCAIHDH000085_1608267154397_3_TH.json', '3977_A2LCBJCAC000073_1608001065886_3_TH.json', '5849_A2LEBJJDE00015J_1606031994404_3_TH.json', '7297_A2LEBJJDE00151I_1606280044299_3_TH.json', '6570_A2LEBJJDE001675_1607521529943_3_TH.json', '3216_A1LCAIHDH00006J_1608276274668_3_TH.json', '1983_A2LEBJJDE00188L_1606102533036_3_TH.json', '9578_A2LEBJJDE00105K_1608631833743_3_TH.json', '2032_A2LEBJJDE00152B_1606625666353_3_TH.json', '3046_A2LEBJJDE00089J_1606120949596_3_TH.json', '7698_A2LEBJJDE00165J_1606115465367_3_TH.json', '3065_A2LEBJJDE00103Y_1606531143608_3_TH.json', '9202_A2LEBJJDE00082X_1606051725011_3_TH.json', '9527_A2LEBJJDE00110E_1606552143878_3_TH.json', '5030_A2LEBJJDE00186Z_1606740234227_3_TH.json', '5438_A2LEBJJDE00159W_1606266742403_3_TH.json', '0770_A2LEBJJDE000865_1609064786055_3_TH.json', '8297_A2LEBJJDE001076_1608521380092_3_TH.json', '9338_A2LEBJJDE00101D_1606744868090_3_TH.json', '3755_A2LEBJJDE001857_1608270137126_3_TH.json', '4070_A2LEBJJDE000266_1606117963308_3_TH.json', '4370_A1LCAIHDH00005Q_1608949208209_3_TH.json', '3755_A2LEBJJDE001857_1607573588511_3_TH.json', '9338_A2LEBJJDE00101D_1606185628349_3_TH.json', '9578_A2LEBJJDE00105K_1606091539428_3_TH.json', '6775_A2LEBJJDE00022Y_1607763501793_3_TH.json', '6078_A2LEBJJDE00160J_1606098463995_3_TH.json', '3365_A2LEBJJDE00106D_1606378764278_3_TH.json', '3977_A2LEBJJDE00161C_1606371012337_3_TH.json', '5619_A2LEBJJDE00002B_1606109561359_3_TH.json', '4370_A1LCAIHDH00005Q_1608358667045_3_TH.json', '2950_A2LEBJJDE00084J_1606009923607_3_TH.json', '6078_A2LEBJJDE00160J_1606098173859_3_TH.json', '3977_A2LEBJJDE00039E_1606216858288_3_TH.json', '3275_A2LEBJJDE001766_1605951698555_3_TH.json', '9447_A2LEBJJDE001951_1606018627154_3_TH.json', '0733_A2LEBJJDE000084_1605836810657_3_TH.json', '8212_A2LEBJJDE00070I_1605936336253_3_TH.json', '3006_A1LCAIHDH00007C_1608346711361_3_TH.json', '9244_A2LEBJJDE00154W_1606130439372_3_TH.json', '3006_A1LCAIHDH00007C_1608269680109_3_TH.json', '4970_A1LCAIHDH00010K_1607843210509_3_TH.json', '3006_A1LCAIHDH00007C_1608262866961_3_TH.json', '2720_A2LEBJJDE000401_1607146844551_3_TH.json', '9578_A2LEBJJDE00105K_1608443359967_3_TH.json', '8366_A2LEBJJDE00196T_1605945128220_3_TH.json', '3216_A1LCAIHDH00006J_1608357715630_3_TH.json', '9338_A2LEBJJDE00101D_1606743744698_3_TH.json', '7978_A2LEBJJDE00071B_1606547705149_3_TH.json', '1963_A2LCBJCAC00003V_1608599101064_3_TH.json', '9447_A2LEBJJDE001951_1606304710011_3_TH.json', '9244_A2LEBJJDE00154W_1606130336167_3_TH.json', '5438_A2LEBJJDE00159W_1606265753143_3_TH.json', '3065_A2LEBJJDE00103Y_1607856824754_3_TH.json', '1237_A2LEBJJDE001584_1606115519302_3_TH.json', '9244_A2LEBJJDE00154W_1606130874339_3_TH.json', '0888_A2LEBJJDE001948_1605943589955_3_TH.json', '4970_A1LCAIHDH00010K_1608258094432_3_TH.json', '7978_A2LEBJJDE00071B_1606618644892_3_TH.json', '9578_A2LEBJJDE00105K_1606192288359_3_TH.json', '9447_A2LEBJJDE001951_1606209072734_3_TH.json', '7418_A2LEBJJDE00080C_1606118734331_3_TH.json', '0715_A2LEBJJDE00175D_1608812637544_3_TH.json', '4659_A2LEBJJDE001349_1606543066104_3_TH.json', '5030_A2LEBJJDE00186Z_1606292943300_3_TH.json', '9338_A2LEBJJDE00101D_1606743235941_3_TH.json', '1145_A2LEBJJDE00119L_1606815295216_3_TH.json', '4002_A2LEBJJDE00137N_1606021946290_3_TH.json', '3006_A1LCAIHDH00007C_1607745854559_3_TH.json', '4810_A2LEBJJDE00177Y_1606091405007_3_TH.json', '7851_A2LEBJJDE00074P_1606298445673_3_TH.json', '7366_A2LEBJJDE00143A_1605954984272_3_TH.json', '3006_A1LCAIHDH00007C_1608439701300_3_TH.json', '0770_A2LEBJJDE000865_1606468747461_3_TH.json', '0617_A2LEBJJDE000815_1605969522739_3_TH.json', '3755_A2LEBJJDE001857_1607592848091_3_TH.json', '8224_A2LEBJJDE000448_1606292380238_3_TH.json', '3755_A2LEBJJDE001857_1608270008592_3_TH.json', '4370_A1LCAIHDH00005Q_1608357836616_3_TH.json', '3006_A1LCAIHDH00007C_1607676879441_3_TH.json', '1631_A2LEBJJDE00163X_1605964039977_3_TH.json', '1237_A2LEBJJDE001584_1606115266739_3_TH.json', '2720_A2LEBJJDE000401_1606616145195_3_TH.json', '2996_A2LEBJJDE00083Q_1606471369984_3_TH.json', '3977_A2LEBJJDE00039E_1606216705950_3_TH.json', '3677_A2LEBJJDE00087X_1606632193035_3_TH.json', '3755_A2LEBJJDE001857_1608270765136_3_TH.json', '7027_A2LEBJJDE001117_1606015096899_3_TH.json', '8297_A2LEBJJDE001076_1608270027578_3_TH.json', '1080_A2LEBJJDE00092R_1606008199719_3_TH.json', '4810_A2LEBJJDE00177Y_1606091601020_3_TH.json', '9643_A2LEBJJDE00061H_1606107795771_3_TH.json', '7126_A2LEBJJDE001534_1606182379861_3_TH.json', '1221_A1LCAIHDH00009X_1608456670151_3_TH.json', '2720_A2LEBJJDE000401_1607054763646_3_TH.json', '8297_A2LEBJJDE001076_1608730037475_3_TH.json', '2996_A2LEBJJDE00083Q_1606615814904_3_TH.json', '1071_A2LEBJJDE00173R_1606092713723_3_TH.json', '8802_A2LEBJJDE00174K_1608698011525_3_TH.json', '7366_A2LEBJJDE00143A_1605955735730_3_TH.json', '4717_A2LEBJJDE001208_1606188794198_3_TH.json', '4232_A2LEBJJDE00146O_1606793303393_3_TH.json', '7851_A2LEBJJDE00074P_1606658052248_3_TH.json', '9874_A2LEBJJDE00123M_1606978836832_3_TH.json', '2032_A2LEBJJDE00152B_1606625617402_3_TH.json', '1195_A2LEBJJDE00197M_1606803601148_3_TH.json', '7670_A1LCAIHDH000126_1609117709918_3_TH.json', '1071_A2LEBJJDE00173R_1606092613340_3_TH.json', '2326_A2LEBJJDE001998_1609671796237_3_TH.json', '5415_A2LEBJJDE00032S_1606027531937_3_TH.json', '7168_A2LEBJJDE00124F_1605943419379_3_TH.json', '2996_A2LEBJJDE00083Q_1606038607700_3_TH.json', '3006_A1LCAIHDH00007C_1608279765196_3_TH.json', '3006_A1LCAIHDH00007C_1608454597538_3_TH.json', '2278_A2LEBJJDE00181Z_1606655908606_3_TH.json', '7366_A2LEBJJDE00143A_1605954273211_3_TH.json', '1963_A2LCBJCAC00003V_1608768550021_3_TH.json', '1221_A1LCAIHDH00009X_1608606310085_3_TH.json', '2278_A2LEBJJDE00181Z_1606653416763_3_TH.json', '9338_A2LEBJJDE00101D_1606628483166_3_TH.json', '8297_A2LEBJJDE001076_1609040975881_3_TH.json', '6440_A2LEBJJDE001352_1607135970834_3_TH.json', '7698_A2LEBJJDE00165J_1606293971948_3_TH.json', '9244_A2LEBJJDE00154W_1607590672448_3_TH.json', '4370_A1LCAIHDH00005Q_1608104448372_3_TH.json', '6995_A2LEBJJDE00104R_1606040549648_3_TH.json', '5438_A2LEBJJDE00159W_1606266372116_3_TH.json', '4002_A2LEBJJDE00137N_1606622577016_3_TH.json', '7978_A2LEBJJDE00071B_1606551193340_3_TH.json', '0616_A2LEBJJDE00004W_1606981331034_3_TH.json', '7366_A2LEBJJDE00143A_1602815500318_3_TH.json', '8781_A2LEBJJDE000906_1605256384240_3_TH.json', '0643_A2LEBJJDE00048F_1606629292621_3_TH.json', '6995_A2LEBJJDE00104R_1606016795446_3_TH.json', '2032_A2LEBJJDE00152B_1606625520641_3_TH.json', '5644_A2LEBJJDE00198F_1606193604392_3_TH.json', '8999_A2LEBJJDE00001I_1603875830637_3_TH.json', '9316_A2LEBJJDE00034E_1609384045872_3_TH.json', '5619_A2LEBJJDE00002B_1606558880126_3_TH.json', '9905_A2LEBJJDE00042M_1608624117700_3_TH.json', '6367_A2LEBJJDE00038L_1606616138830_3_TH.json', '5849_A2LEBJJDE00015J_1606026514325_3_TH.json', '1080_A2LEBJJDE00092R_1605841767487_3_TH.json', '1071_A2LEBJJDE00173R_1606092838422_3_TH.json', '5415_A2LEBJJDE00032S_1606206973988_3_TH.json', '2996_A2LEBJJDE00083Q_1605947778054_3_TH.json', '6995_A2LEBJJDE00104R_1606453318143_3_TH.json', '3085_A2LEBJJDE00128M_1606183905405_3_TH.json', '5946_A2LEBJJDE00085C_1605835237765_3_TH.json', '1981_A2LEBJJDE001493_1606532625512_3_TH.json', '9578_A2LEBJJDE00105K_1606792488161_3_TH.json', '7988_A2LEBJJDE000357_1604807839007_3_TH.json', '0715_A2LEBJJDE00175D_1608812318991_3_TH.json', '4370_A1LCAIHDH00005Q_1607737759349_3_TH.json', '3006_A1LCAIHDH00007C_1608359369738_3_TH.json', '9338_A2LEBJJDE00101D_1606553598805_3_TH.json', '9338_A2LEBJJDE00101D_1606539659592_3_TH.json', '3755_A2LEBJJDE001857_1608272830023_3_TH.json', '9338_A2LEBJJDE00101D_1606191155055_3_TH.json', '2326_A2LEBJJDE00037S_1606446827114_3_TH.json', '9578_A2LEBJJDE00105K_1605861432760_3_TH.json', '2404_A2LEBJJDE000175_1606444648910_3_TH.json', '1237_A2LEBJJDE001584_1606115087047_3_TH.json', '0643_A2LEBJJDE00048F_1606883472149_3_TH.json', '1071_A2LEBJJDE00173R_1606092541369_3_TH.json', '3977_A2LEBJJDE00039E_1606216678914_3_TH.json', '1407_A2LEBJJDE001258_1606376584511_3_TH.json', '3275_A2LEBJJDE001766_1605960822094_3_TH.json', '1069_A2LEBJJDE00094D_1606728106443_3_TH.json', '9578_A2LEBJJDE00105K_1608711724144_3_TH.json', '4263_A2LEBJJDE00062A_1606455486239_3_TH.json', '1221_A1LCAIHDH00009X_1608952360937_3_TH.json', '8802_A2LEBJJDE00174K_1608701169769_3_TH.json', '6367_A2LEBJJDE00038L_1606212889039_3_TH.json', '1407_A2LEBJJDE001258_1606119688367_3_TH.json', '1195_A2LEBJJDE00197M_1608176190338_3_TH.json', '9905_A2LEBJJDE00042M_1608611619096_3_TH.json', '4717_A2LEBJJDE001208_1606026078266_3_TH.json', '9338_A2LEBJJDE00101D_1606643679809_3_TH.json', '2326_A2LEBJJDE00037S_1606200452399_3_TH.json', '2278_A2LEBJJDE00181Z_1606653982164_3_TH.json', '2996_A2LEBJJDE00083Q_1605931265316_3_TH.json', '8781_A2LEBJJDE000906_539482042_3_TH.json', '7418_A2LEBJJDE000724_1606181651525_3_TH.json', '4795_A2LEBJJDE00113S_1606027019827_3_TH.json', '0715_A2LEBJJDE00175D_1608812616593_3_TH.json', '3269_A2LEBJJDE00096Y_1609200894251_3_TH.json', '4478_A2LEBJJDE00052G_1606464444831_3_TH.json', '8297_A2LEBJJDE001076_1608727644126_3_TH.json', '5305_A2LEBJJDE00122T_1606551811481_3_TH.json', '5939_A2LEBJJDE00129F_1605921919074_3_TH.json', '2688_A2LEBJJDE00115E_1605945986353_3_TH.json', '2996_A2LEBJJDE00083Q_1606542958153_3_TH.json', '5438_A2LEBJJDE00159W_1606266043493_3_TH.json', '9244_A2LEBJJDE00154W_1606130786969_3_TH.json', '6121_A2LEBJJDE00183L_1606226071061_3_TH.json', '1080_A2LEBJJDE00092R_1605773651540_3_TH.json', '2800_A2LEBJJDE00036Z_1607568660912_3_TH.json', '0703_A2LEBJJDE000774_1605867985627_3_TH.json', '7988_A2LEBJJDE000357_1605954577014_3_TH.json', '3006_A1LCAIHDH00007C_1608196255316_3_TH.json', '3006_A1LCAIHDH00007C_1608185986375_3_TH.json', '0616_A2LEBJJDE00004W_1606716711477_3_TH.json', '5415_A2LEBJJDE00027Y_1606643764754_3_TH.json', '6570_A2LEBJJDE001675_1607492718458_3_TH.json', '3755_A2LEBJJDE001857_1608272776465_3_TH.json', '2479_A2LEBJJDE00147H_1607650693208_3_TH.json', '4307_A2LEBJJDE000683_1606654988437_3_TH.json', '3216_A1LCAIHDH00006J_1608517278604_3_TH.json', '2950_A2LEBJJDE00084J_1606122984828_3_TH.json', '8212_A2LEBJJDE00070I_1606017811929_3_TH.json', '9578_A2LEBJJDE00105K_1606033395079_3_TH.json', '5619_A2LEBJJDE00002B_1606112030682_3_TH.json', '8146_A2LEBJJDE00148A_1606198467067_3_TH.json', '4919_A2LEBJJDE00064V_1605930082849_3_TH.json', '8802_A2LEBJJDE00174K_1608700484067_3_TH.json', '9578_A2LEBJJDE00105K_1606032027300_3_TH.json', '9202_A2LEBJJDE00082X_1606383703228_3_TH.json', '4970_A1LCAIHDH00010K_1608350885006_3_TH.json', '3046_A2LEBJJDE00089J_1606444859428_3_TH.json', '8999_A2LEBJJDE00001I_1603352617558_3_TH.json', '2996_A2LEBJJDE00083Q_1606041152634_3_TH.json', '8281_A2LEBJJDE00055U_1606018051990_3_TH.json', '7978_A2LEBJJDE00071B_1606730937136_3_TH.json', '4795_A2LEBJJDE00113S_1605946177110_3_TH.json', '7978_A2LEBJJDE00071B_1606645660128_3_TH.json', '3006_A1LCAIHDH00007C_1608194141769_3_TH.json', '7126_A2LEBJJDE001534_1606444905429_3_TH.json', '0733_A2LEBJJDE000084_1606281212653_3_TH.json', '4810_A2LEBJJDE00177Y_1607586383961_3_TH.json', '7418_A2LEBJJDE000724_1605851312224_3_TH.json', '2996_A2LEBJJDE00083Q_1606034753137_3_TH.json', '4478_A2LEBJJDE00052G_1606384002884_3_TH.json', '9447_A2LEBJJDE001951_1606124625955_3_TH.json', '1071_A2LEBJJDE00173R_1606092699628_3_TH.json', '2800_A2LEBJJDE00036Z_1606009863113_3_TH.json', '0617_A2LEBJJDE000815_1606648231485_3_TH.json', '4557_A2LEBJJDE00043F_1605948496597_3_TH.json', '4133_A1LCAIHDH000035_1608178516946_3_TH.json', '1080_A2LEBJJDE00092R_1606010092228_3_TH.json', '9447_A2LEBJJDE001951_1606129038249_3_TH.json', '3065_A2LEBJJDE00103Y_1606125203024_3_TH.json', '1145_A2LEBJJDE00119L_1608513519941_3_TH.json', '7985_A1LCAIHDH00011D_1607570130094_3_TH.json', '4717_A2LEBJJDE001208_1606199481444_3_TH.json', '4478_A2LEBJJDE00052G_1606631489409_3_TH.json', '3977_A2LEBJJDE00039E_1606217071172_3_TH.json', '5255_A2LEBJJDE00007B_1606118188440_3_TH.json', '9643_A2LEBJJDE00061H_1606008869240_3_TH.json', '8212_A2LEBJJDE00070I_1605949263908_3_TH.json', '6440_A2LEBJJDE001352_1608944552999_3_TH.json', '9864_A2LEBJJDE001167_1607752700175_3_TH.json', '2688_A2LEBJJDE00115E_1606293019967_3_TH.json', '4002_A2LEBJJDE00137N_1605772686197_3_TH.json', '6775_A2LEBJJDE00022Y_1607654050400_3_TH.json', '6440_A2LEBJJDE001352_1608006304366_3_TH.json', '4717_A2LEBJJDE001208_1605942218135_3_TH.json', '4133_A1LCAIHDH000035_1608441289315_3_TH.json', '9338_A2LEBJJDE00101D_1606743967328_3_TH.json', '3977_A2LEBJJDE00039E_1606217035727_3_TH.json', '9316_A2LEBJJDE00034E_1608783493028_3_TH.json', '1631_A2LEBJJDE00163X_1605964020697_3_TH.json', '7851_A2LEBJJDE00074P_1606133960341_3_TH.json', '0770_A2LEBJJDE000865_1608441907297_3_TH.json', '4810_A2LEBJJDE00177Y_1606091661413_3_TH.json', '5438_A2LEBJJDE00159W_1606266477301_3_TH.json', '3977_A2LEBJJDE00039E_1606216882491_3_TH.json', '2278_A2LEBJJDE00181Z_1606655929865_3_TH.json', '2996_A2LEBJJDE00083Q_1606539188306_3_TH.json', '6729_A2LEBJJDE00028R_1606107510964_3_TH.json', '3006_A1LCAIHDH00007C_1608111154991_3_TH.json', '2996_A2LEBJJDE00083Q_1606029294311_3_TH.json', '2983_A2LEBJJDE001261_1606014261622_3_TH.json', '1145_A2LEBJJDE00119L_1606736880058_3_TH.json', '2326_A2LEBJJDE00037S_1605757890789_3_TH.json', '3263_A1LCAIHDH00014R_1608095750339_3_TH.json', '5849_A2LEBJJDE00015J_1606026585043_3_TH.json', '3755_A2LEBJJDE001857_1608272796242_3_TH.json', '4015_A2LEBJJDE00150P_1606281700357_3_TH.json', '7978_A2LEBJJDE00071B_1606645998453_3_TH.json', '3065_A2LEBJJDE00103Y_1606121691993_3_TH.json', '2996_A2LEBJJDE00083Q_1606353539744_3_TH.json', '5438_A2LEBJJDE00159W_1606267298808_3_TH.json', '3006_A1LCAIHDH00007C_1608433057241_3_TH.json', '7366_A2LEBJJDE00088Q_1605750161474_3_TH.json', '4795_A2LEBJJDE00113S_1606984048430_3_TH.json', '4133_A1LCAIHDH000035_1608959306128_3_TH.json', '3263_A1LCAIHDH00014R_1608269360271_3_TH.json', '3216_A1LCAIHDH00006J_1608350715381_3_TH.json', '1221_A1LCAIHDH00009X_1608429141484_3_TH.json', '3365_A2LEBJJDE00106D_1606383440661_3_TH.json', '5619_A2LEBJJDE00002B_1605947022701_3_TH.json', '1080_A2LEBJJDE00092R_1606788104911_3_TH.json', '9905_A2LEBJJDE00042M_1608860023504_3_TH.json', '8366_A2LEBJJDE00196T_1606188619464_3_TH.json', '1407_A2LEBJJDE001258_1606119541930_3_TH.json', '7698_A2LEBJJDE00165J_1606215939840_3_TH.json', '2637_A2LEBJJDE00099D_1608626357791_3_TH.json', '3275_A2LEBJJDE001766_1606540844291_3_TH.json', '4133_A1LCAIHDH000035_1608692304502_3_TH.json', '3977_A2LCBJCAC000073_1607325895795_3_TH.json', '3006_A1LCAIHDH00007C_1607822576710_3_TH.json', '7366_A2LEBJJDE00088Q_1605750313308_3_TH.json', '0715_A2LEBJJDE00175D_1608812432215_3_TH.json', '3755_A2LEBJJDE001857_1608269858244_3_TH.json', '9316_A2LEBJJDE00034E_1606267060632_3_TH.json', '5030_A2LEBJJDE00186Z_1606741951856_3_TH.json', '2585_A2LEBJJDE001302_1606120057362_3_TH.json', '8802_A2LEBJJDE00178R_1606204667017_3_TH.json', '9447_A2LEBJJDE001951_1606055093005_3_TH.json', '0715_A2LEBJJDE00175D_1608811933618_3_TH.json', '4370_A1LCAIHDH00005Q_1608104957215_3_TH.json', '1071_A2LEBJJDE00173R_1606092428112_3_TH.json', '3006_A1LCAIHDH00007C_1607835706247_3_TH.json', '1237_A2LEBJJDE001584_1606114102281_3_TH.json', '0616_A2LEBJJDE00004W_1605847518891_3_TH.json', '9338_A2LEBJJDE00101D_1606738004646_3_TH.json', '4307_A2LEBJJDE000683_1606733959504_3_TH.json', '2278_A2LEBJJDE00181Z_1606655382362_3_TH.json', '3588_A2LEBJJDE00108Y_1606369911406_3_TH.json', '7027_A2LEBJJDE001117_1603949553519_3_TH.json', '2996_A2LEBJJDE00083Q_1606017103962_3_TH.json', '6121_A2LEBJJDE00183L_1606226130992_3_TH.json', '2278_A2LEBJJDE00181Z_1606655319362_3_TH.json', '2278_A2LEBJJDE00181Z_1606655443120_3_TH.json', '0715_A2LEBJJDE00175D_1608812920126_3_TH.json', '3006_A1LCAIHDH00007C_1608370555541_3_TH.json', '4970_A1LCAIHDH00010K_1608524873531_3_TH.json', '3755_A2LEBJJDE001857_1608270327223_3_TH.json', '3006_A1LCAIHDH00007C_1608105360429_3_TH.json', '1719_A2LEBJJDE00138G_1606031997149_3_TH.json', '1237_A2LEBJJDE001584_1606114740043_3_TH.json', '8146_A2LEBJJDE00011C_1605869125942_3_TH.json', '1237_A2LEBJJDE001584_1606113405362_3_TH.json', '0715_A2LEBJJDE00175D_1608812596197_3_TH.json', '8297_A2LEBJJDE001076_1608613940473_3_TH.json', '3365_A2LEBJJDE00106D_1606184781947_3_TH.json', '2278_A2LEBJJDE00181Z_1606655729440_3_TH.json', '3365_A2LEBJJDE00106D_1605943607703_3_TH.json', '5438_A2LEBJJDE00159W_1606266124575_3_TH.json', '2278_A2LEBJJDE00181Z_1606654132881_3_TH.json', '5305_A2LEBJJDE00122T_1606210281419_3_TH.json', '1069_A2LEBJJDE00094D_1607144873059_3_TH.json', '3858_A2LEBJJDE00076B_1607866810436_3_TH.json', '1534_A2LEBJJDE00133G_1606117175606_3_TH.json', '9244_A2LEBJJDE00154W_1607590779719_3_TH.json', '5438_A2LEBJJDE00159W_1606266139969_3_TH.json', '8781_A2LEBJJDE000906_1603533689825_3_TH.json', '1195_A2LEBJJDE00197M_1606803500543_3_TH.json', '2327_A2LEBJJDE00091Y_1608515489266_3_TH.json', '5415_A2LEBJJDE00027Y_1606296963589_3_TH.json', '9356_A2LEBJJDE00192M_1606122566286_3_TH.json', '3977_A2LCBJCAC000073_1608010285280_3_TH.json', '6367_A2LEBJJDE00038L_1606616319620_3_TH.json', '1983_A2LEBJJDE00188L_1606101606230_3_TH.json', '3006_A1LCAIHDH00007C_1608269865276_3_TH.json', '2996_A2LEBJJDE00083Q_1606553993669_3_TH.json', '7851_A2LEBJJDE00074P_1608528086137_3_TH.json', '0733_A2LEBJJDE000084_1606448803237_3_TH.json', '0617_A2LEBJJDE000815_1606214497728_3_TH.json', '7229_A2LEBJJDE00142H_1606378445888_3_TH.json', '1743_A2LEBJJDE00031Z_1606300132459_3_TH.json', '8802_A2LEBJJDE00174K_1608706410122_3_TH.json', '9244_A2LEBJJDE00154W_1607590469532_3_TH.json', '4810_A2LEBJJDE00177Y_1606091174374_3_TH.json', '8281_A2LEBJJDE00055U_1605689002320_3_TH.json', '2996_A2LEBJJDE00083Q_1605864134865_3_TH.json', '7027_A2LEBJJDE001117_1606013912709_3_TH.json', '7978_A2LEBJJDE00071B_1606820299331_3_TH.json', '1069_A2LEBJJDE00094D_1607138094706_3_TH.json', '3006_A1LCAIHDH00007C_1607677983657_3_TH.json', '9578_A2LEBJJDE00105K_1608955215043_3_TH.json', '3065_A2LEBJJDE00103Y_1607856203826_3_TH.json', '4133_A1LCAIHDH000035_1608356193818_3_TH.json', '9338_A2LEBJJDE00101D_1606539943570_3_TH.json', '9338_A2LEBJJDE00101D_1606740918133_3_TH.json', '2326_A2LEBJJDE001998_1607662455002_3_TH.json', '5619_A2LEBJJDE00002B_1606037832028_3_TH.json', '1071_A2LEBJJDE00173R_1606092593174_3_TH.json', '4970_A1LCAIHDH00010K_1608358454633_3_TH.json', '8111_A2LEBJJDE00112Z_1605957157135_3_TH.json', '4478_A2LEBJJDE00052G_1606354211068_3_TH.json', '7978_A2LEBJJDE00071B_1606618764699_3_TH.json', '5619_A2LEBJJDE00002B_1605955303164_3_TH.json', '2278_A2LEBJJDE00181Z_1606656043528_3_TH.json', '9874_A2LEBJJDE00123M_1606896720309_3_TH.json', '3977_A2LEBJJDE00161C_1606370866151_3_TH.json', '6367_A2LEBJJDE00038L_1606613287112_3_TH.json', '3755_A2LEBJJDE001857_1608270057108_3_TH.json', '3046_A2LEBJJDE00089J_1605953970459_3_TH.json', '7418_A2LEBJJDE000724_1604811646650_3_TH.json', '3085_A2LEBJJDE00128M_1606186523846_3_TH.json', '3269_A2LEBJJDE00096Y_1607928125044_3_TH.json', '8833_A2LEBJJDE00156I_1606275943204_3_TH.json', '3755_A2LEBJJDE001857_1608270113845_3_TH.json', '7297_A2LEBJJDE00151I_1606281748152_3_TH.json', '1080_A2LEBJJDE00092R_1606007947317_3_TH.json', '4478_A2LEBJJDE00052G_1606708970500_3_TH.json', '8262_A2LEBJJDE00047M_1602749232911_3_TH.json', '7670_A1LCAIHDH000126_1608286299029_3_TH.json', '1983_A2LEBJJDE00188L_1606101903818_3_TH.json', '8781_A2LEBJJDE000906_1607147121412_3_TH.json', '4267_A1LCAIHDH00016D_1608349028636_3_TH.json', '2326_A2LEBJJDE00037S_1606205719328_3_TH.json', '5619_A2LEBJJDE00002B_1606721887357_3_TH.json', '3216_A1LCAIHDH00006J_1607747709306_3_TH.json', '7985_A1LCAIHDH00011D_1608870835753_3_TH.json', '3755_A2LEBJJDE001857_1608272848131_3_TH.json', '1069_A2LEBJJDE00094D_1606900122949_3_TH.json', '8297_A2LEBJJDE001076_1608539038849_3_TH.json', '7698_A2LEBJJDE00165J_1606115609449_3_TH.json', '3216_A1LCAIHDH00006J_1608979117419_3_TH.json', '4557_A2LEBJJDE00043F_1606212804611_3_TH.json', '2762_A2LEBJJDE000498_1605959545044_3_TH.json', '4232_A2LEBJJDE00146O_1606876653850_3_TH.json', '8297_A2LEBJJDE001076_1608947961742_3_TH.json', '2469_A2LEBJJDE00019Q_1605942285155_3_TH.json', '4810_A2LEBJJDE00177Y_1606091136885_3_TH.json', '0643_A2LEBJJDE00048F_1606789924943_3_TH.json', '2326_A2LEBJJDE001998_1608545522846_3_TH.json', '5619_A2LEBJJDE00002B_1606111469339_3_TH.json', '2032_A2LEBJJDE00152B_1606625707909_3_TH.json', '9338_A2LEBJJDE00101D_1606744653669_3_TH.json', '9578_A2LEBJJDE00105K_1607140196981_3_TH.json', '3085_A2LEBJJDE00128M_1606187712750_3_TH.json', '1981_A2LEBJJDE001493_1606702229254_3_TH.json', '3216_A1LCAIHDH00006J_1608287067478_3_TH.json', '3365_A2LEBJJDE00106D_1608451277171_3_TH.json', '4015_A2LEBJJDE00150P_1606358073606_3_TH.json', '6367_A2LEBJJDE00038L_1607414785695_3_TH.json', '5438_A2LEBJJDE00159W_1606267283877_3_TH.json', '1080_A2LEBJJDE00092R_1605843072294_3_TH.json', '1459_A2LEBJJDE00025D_1606120777495_3_TH.json', '2326_A2LEBJJDE00037S_1606205282039_3_TH.json', '9338_A2LEBJJDE00101D_1606643109950_3_TH.json', '3216_A1LCAIHDH00006J_1608107274717_3_TH.json', '2326_A2LEBJJDE001998_1608005430592_3_TH.json', '6995_A2LEBJJDE00104R_1605842474553_3_TH.json', '2637_A2LEBJJDE00099D_1608865055392_3_TH.json', '3006_A1LCAIHDH00007C_1607759470513_3_TH.json', '5619_A2LEBJJDE00002B_1605941032597_3_TH.json', '8281_A2LEBJJDE00055U_1606102095001_3_TH.json', '4070_A2LEBJJDE000266_1606017728495_3_TH.json', '2379_A2LEBJJDE00172Y_1605861787657_3_TH.json', '0617_A2LEBJJDE000815_1605969584008_3_TH.json', '9578_A2LEBJJDE00105K_1608430679403_3_TH.json', '2327_A2LEBJJDE00091Y_1608630002203_3_TH.json', '6775_A2LEBJJDE00022Y_1605837110425_3_TH.json', '3755_A2LEBJJDE001857_1608269956659_3_TH.json', '4307_A2LEBJJDE000683_1606659251804_3_TH.json', '4133_A1LCAIHDH000035_1607676836220_3_TH.json', '4002_A2LEBJJDE00137N_1606379861703_3_TH.json', '5849_A2LEBJJDE00015J_1605946156909_3_TH.json', '7985_A1LCAIHDH00011D_1607755606053_3_TH.json', '2278_A2LEBJJDE00181Z_1606655919218_3_TH.json', '5415_A2LEBJJDE00027Y_1606645822573_3_TH.json', '7366_A2LEBJJDE00143A_1605954687997_3_TH.json', '4307_A2LEBJJDE000683_1606659422180_3_TH.json', '8281_A2LEBJJDE00055U_1606988813131_3_TH.json', '3977_A2LEBJJDE00039E_1606216806562_3_TH.json', '8297_A2LEBJJDE001076_1608524602506_3_TH.json', '3006_A1LCAIHDH00007C_1608455934035_3_TH.json', '8281_A2LEBJJDE00055U_1607051280116_3_TH.json', '6367_A2LEBJJDE00038L_1606612955869_3_TH.json', '3937_A2LEBJJDE00046T_1605949287696_3_TH.json', '1407_A2LEBJJDE001258_1605936465159_3_TH.json', '3006_A1LCAIHDH00007C_1608288755514_3_TH.json', '7418_A2LEBJJDE00080C_1606117464533_3_TH.json', '9244_A2LEBJJDE00154W_1606130859054_3_TH.json', '3006_A1LCAIHDH00007C_1608012190074_3_TH.json', '4002_A2LEBJJDE00137N_1605939372290_3_TH.json', '1221_A1LCAIHDH00009X_1608428966682_3_TH.json', '2950_A2LEBJJDE00084J_1605944919504_3_TH.json', '3937_A2LEBJJDE00046T_1605945197657_3_TH.json', '1743_A2LEBJJDE00031Z_1606008266935_3_TH.json', '8802_A2LEBJJDE00174K_1608703113519_3_TH.json', '1983_A2LEBJJDE00188L_1606102455234_3_TH.json', '4810_A2LEBJJDE00177Y_1607589665678_3_TH.json', '9578_A2LEBJJDE00105K_1606448743814_3_TH.json', '5750_A2LEBJJDE000589_1608357725427_3_TH.json', '9316_A2LEBJJDE00034E_1606361008584_3_TH.json', '1407_A2LEBJJDE001258_1606202712274_3_TH.json', '6818_A2LEBJJDE00170D_1606272046526_3_TH.json', '6078_A2LEBJJDE00160J_1606098450115_3_TH.json', '9864_A2LEBJJDE001167_1608429960624_3_TH.json', '5438_A2LEBJJDE00159W_1606265790710_3_TH.json', '0617_A2LEBJJDE000815_1606648950690_3_TH.json', '6078_A2LEBJJDE00160J_1606097938423_3_TH.json', '1983_A2LEBJJDE00188L_1606102124768_3_TH.json', '7851_A2LEBJJDE00074P_1608522320915_3_TH.json', '7978_A2LEBJJDE00071B_1606644955439_3_TH.json', '3365_A2LEBJJDE00106D_1605849143411_3_TH.json', '8212_A2LEBJJDE00070I_1606641118677_3_TH.json', '3065_A2LEBJJDE00103Y_1607062970003_3_TH.json', '8297_A2LEBJJDE001076_1607508026577_3_TH.json', '1534_A2LEBJJDE00133G_1606983127987_3_TH.json', '7418_A2LEBJJDE00080C_1606117645540_3_TH.json', '0663_A2LEBJJDE001716_1606460066118_3_TH.json', '4970_A1LCAIHDH00010K_1608352093618_3_TH.json', '3006_A1LCAIHDH00007C_1608088742278_3_TH.json', '0888_A2LEBJJDE001948_1606266505128_3_TH.json', '2278_A2LEBJJDE00181Z_1606653923584_3_TH.json', '9338_A2LEBJJDE00101D_1606743492996_3_TH.json', '9578_A2LEBJJDE00105K_1605941315755_3_TH.json', '1071_A2LEBJJDE00173R_1606092655129_3_TH.json', '3006_A1LCAIHDH00007C_1608372646964_3_TH.json', '3275_A2LEBJJDE001766_1605942023190_3_TH.json', '4133_A1LCAIHDH000035_1608946758588_3_TH.json', '0770_A2LEBJJDE000865_1606904927324_3_TH.json', '7698_A2LEBJJDE00165J_1606609920090_3_TH.json', '4659_A2LEBJJDE001349_1605689094694_3_TH.json', '8802_A2LEBJJDE00174K_1608706304479_3_TH.json', '2720_A2LEBJJDE000401_1606631196920_3_TH.json', '9643_A2LEBJJDE00061H_1605951110280_3_TH.json', '2996_A2LEBJJDE00083Q_1606016698207_3_TH.json', '6729_A2LEBJJDE00028R_1606551318433_3_TH.json', '5438_A2LEBJJDE00159W_1606266699938_3_TH.json', '0770_A2LEBJJDE000865_1607059176704_3_TH.json', '1983_A2LEBJJDE00188L_1606102521196_3_TH.json', '7978_A2LEBJJDE00071B_1606546133600_3_TH.json', '7978_A2LEBJJDE00071B_1606820191107_3_TH.json', '8802_A2LEBJJDE00174K_1608699208765_3_TH.json', '8802_A2LEBJJDE00178R_1606204575654_3_TH.json', '1221_A1LCAIHDH00009X_1608429204999_3_TH.json', '2032_A2LEBJJDE00152B_1606029639264_3_TH.json', '8802_A2LEBJJDE00174K_1608698059040_3_TH.json', '1237_A2LEBJJDE001584_1606115030555_3_TH.json', '4002_A2LEBJJDE00137N_1606453993029_3_TH.json', '9316_A2LEBJJDE00034E_1606986542934_3_TH.json', '4370_A1LCAIHDH00005Q_1608359970590_3_TH.json', '5438_A2LEBJJDE00159W_1606267126044_3_TH.json', '3275_A2LEBJJDE001766_1605952838502_3_TH.json', '3677_A2LEBJJDE00087X_1606526120402_3_TH.json', '3755_A2LEBJJDE001857_1608272858830_3_TH.json', '9338_A2LEBJJDE00101D_1606553357708_3_TH.json', '1237_A2LEBJJDE001584_1606114763127_3_TH.json', '3977_A2LCBJCAC000073_1607137057118_3_TH.json', '2469_A2LEBJJDE00019Q_1605946411215_3_TH.json', '0013_A2LEBJJDE00060O_1605943763600_3_TH.json', '0733_A2LEBJJDE000084_1606465117663_3_TH.json', '8896_A2LEBJJDE001807_1606456722867_3_TH.json', '1221_A1LCAIHDH00009X_1607929313387_3_TH.json', '4970_A1LCAIHDH00010K_1608455283197_3_TH.json', '4370_A1LCAIHDH00005Q_1608105411759_3_TH.json', '7126_A2LEBJJDE001534_1606277516163_3_TH.json', '1080_A2LEBJJDE00092R_1606117288069_3_TH.json', '4263_A2LEBJJDE00062A_1608529154695_3_TH.json', '3216_A1LCAIHDH00006J_1608268238867_3_TH.json', '0616_A2LEBJJDE00004W_1606017549894_3_TH.json', '9527_A2LEBJJDE00110E_1606275995043_3_TH.json', '4810_A2LEBJJDE00177Y_1606091307382_3_TH.json', '4478_A2LEBJJDE00052G_1606804863445_3_TH.json', '8802_A2LEBJJDE00178R_1606204634128_3_TH.json', '1069_A2LEBJJDE00094D_1606461468041_3_TH.json', '4810_A2LEBJJDE00177Y_1607586369397_3_TH.json', '1080_A2LEBJJDE00092R_1606104491431_3_TH.json', '2950_A2LEBJJDE00084J_1606877819692_3_TH.json', '5569_A2LEBJJDE001211_1606018784250_3_TH.json', '8781_A2LEBJJDE000906_1607667014367_3_TH.json', '4370_A1LCAIHDH00005Q_1607907805617_3_TH.json', '5438_A2LEBJJDE00159W_1606267030764_3_TH.json', '7698_A2LEBJJDE00165J_1606608480855_3_TH.json', '8337_A2LEBJJDE00109R_1606015178659_3_TH.json', '5619_A2LEBJJDE00002B_1606039388330_3_TH.json', '6995_A2LEBJJDE00104R_1606795645446_3_TH.json', '9905_A2LEBJJDE00042M_1606457064410_3_TH.json', '3365_A2LEBJJDE00106D_1606444989905_3_TH.json', '8281_A2LEBJJDE00055U_1605864528472_3_TH.json', '1963_A2LCBJCAC00003V_1609290105839_3_TH.json', '3006_A1LCAIHDH00007C_1607999238326_3_TH.json', '9447_A2LEBJJDE001951_1606130353951_3_TH.json', '7366_A2LEBJJDE00088Q_1606890940115_3_TH.json', '1071_A2LEBJJDE00173R_1606092929643_3_TH.json', '3275_A2LEBJJDE001766_1606024335324_3_TH.json', '1221_A1LCAIHDH00009X_1607737254620_3_TH.json', '2326_A2LEBJJDE001998_1608626366108_3_TH.json', '5438_A2LEBJJDE00159W_1606266894480_3_TH.json', '9578_A2LEBJJDE00105K_1606296908332_3_TH.json', '5030_A2LEBJJDE00182S_1606174679866_3_TH.json', '1221_A1LCAIHDH00009X_1608354245470_3_TH.json', '1195_A2LEBJJDE00197M_1606803677501_3_TH.json', '7670_A1LCAIHDH000126_1608349502194_3_TH.json', '2996_A2LEBJJDE00083Q_1606009549502_3_TH.json', '3365_A2LEBJJDE00106D_1608204470375_3_TH.json', '7988_A2LEBJJDE000357_1605334609019_3_TH.json', '8802_A2LEBJJDE00174K_1608703191646_3_TH.json', '3332_A2LEBJJDE00100K_1605841336119_3_TH.json', '0643_A2LEBJJDE00048F_1607132025511_3_TH.json', '4002_A2LEBJJDE00137N_1606810813600_3_TH.json', '5030_A2LEBJJDE00186Z_1606741279366_3_TH.json', '9578_A2LEBJJDE00105K_1606895962087_3_TH.json', '1237_A2LEBJJDE001584_1606115161628_3_TH.json', '2327_A2LEBJJDE00091Y_1606010953880_3_TH.json', '6995_A2LEBJJDE00104R_1606187524455_3_TH.json', '3977_A2LEBJJDE00161C_1606442127900_3_TH.json', '6078_A2LEBJJDE00160J_1606097975311_3_TH.json', '1195_A2LEBJJDE00197M_1606803535623_3_TH.json', '9578_A2LEBJJDE00105K_1606887942119_3_TH.json', '6078_A2LEBJJDE00160J_1606097988267_3_TH.json', '4970_A1LCAIHDH00010K_1608365350066_3_TH.json', '9338_A2LEBJJDE00101D_1606738574271_3_TH.json', '8896_A2LEBJJDE001807_1605764978394_3_TH.json', '2688_A2LEBJJDE00115E_1606527472630_3_TH.json', '3275_A2LEBJJDE001766_1606037608331_3_TH.json', '1071_A2LEBJJDE00173R_1606092558174_3_TH.json', '3977_A2LEBJJDE00161C_1606370788529_3_TH.json', '1221_A1LCAIHDH00009X_1608870477502_3_TH.json', '6121_A2LEBJJDE00183L_1606226252588_3_TH.json', '1983_A2LEBJJDE00188L_1606370248095_3_TH.json', '2996_A2LEBJJDE00083Q_1608436396223_3_TH.json', '3216_A1LCAIHDH00006J_1608858081046_3_TH.json', '3755_A2LEBJJDE001857_1608270422628_3_TH.json', '3332_A2LEBJJDE00100K_1606277039429_3_TH.json', '1069_A2LEBJJDE00094D_1607145827911_3_TH.json', '6437_A1LCAIHDH00019R_1607657081212_3_TH.json']\n"
          ]
        }
      ]
    },
    {
      "cell_type": "code",
      "source": [
        "print(four_exist)"
      ],
      "metadata": {
        "colab": {
          "base_uri": "https://localhost:8080/"
        },
        "id": "CJBN9Hsl-5Zt",
        "outputId": "7d02bf5b-ca4b-4fae-9f04-d2ed456af475"
      },
      "execution_count": 48,
      "outputs": [
        {
          "output_type": "stream",
          "name": "stdout",
          "text": [
            "['7168_A2LEBJJDE00124F_1606277750797_4_LH.json', '7670_A1LCAIHDH000126_1607659798373_4_LH.json', '4263_A2LEBJJDE00062A_1606613447044_4_LH.json', '7851_A2LEBJJDE00074P_1607091136745_4_LH.json', '9244_A2LEBJJDE00154W_1607590354436_4_LH.json', '1142_A2LEBJJDE00024K_1606730197812_4_LH.json', '1069_A2LEBJJDE00094D_1606458258744_4_LH.json', '5619_A2LEBJJDE00002B_1606040304699_4_LH.json', '1983_A2LEBJJDE00188L_1606101773870_4_LH.json', '6995_A2LEBJJDE00104R_1606787381358_4_LH.json', '1983_A2LEBJJDE00188L_1606101857968_4_LH.json', '2996_A2LEBJJDE00083Q_1605950878038_4_LH.json', '5255_A2LEBJJDE00007B_1606101712869_4_LH.json', '1080_A2LEBJJDE00092R_1606124019620_4_LH.json', '5939_A2LEBJJDE00129F_1606527024559_4_LH.json', '5939_A2LEBJJDE00129F_1608280846116_4_LH.json', '8297_A2LEBJJDE001076_1608612190234_4_LH.json', '1080_A2LEBJJDE00092R_1606104507896_4_LH.json', '5438_A2LEBJJDE00159W_1606266639587_4_LH.json', '3275_A2LEBJJDE001766_1605961162557_4_LH.json', '8999_A2LEBJJDE00001I_1606008784419_4_LH.json', '1071_A2LEBJJDE00173R_1606092804205_4_LH.json', '1069_A2LEBJJDE00094D_1606468857901_4_LH.json', '7168_A2LEBJJDE00124F_1606450551593_4_LH.json', '8802_A2LEBJJDE00174K_1608701140254_4_LH.json', '1221_A1LCAIHDH00009X_1608428933334_4_LH.json', '4810_A2LEBJJDE00177Y_1606091728337_4_LH.json', '4307_A2LEBJJDE000683_1606655839122_4_LH.json', '9338_A2LEBJJDE00101D_1603948154563_4_LH.json', '2379_A2LEBJJDE00172Y_1605861743447_4_LH.json', '3006_A1LCAIHDH00007C_1608113309498_4_LH.json', '2720_A2LEBJJDE000401_1608354957868_4_LH.json', '1195_A2LEBJJDE00197M_1608347172785_4_LH.json', '1145_A2LEBJJDE00119L_1605944087412_4_LH.json', '1743_A2LEBJJDE00031Z_1606124333644_4_LH.json', '5939_A2LEBJJDE00129F_1606526799356_4_LH.json', '1237_A2LEBJJDE001584_1606113496471_4_LH.json', '5438_A2LEBJJDE00159W_1606266106133_4_LH.json', '1071_A2LEBJJDE00173R_1606092633811_4_LH.json', '1195_A2LEBJJDE00197M_1607922593316_4_LH.json', '3755_A2LEBJJDE001857_1608269601482_4_LH.json', '4810_A2LEBJJDE00177Y_1606091038897_4_LH.json', '2720_A2LEBJJDE000401_1606887554859_4_LH.json', '2404_A2LEBJJDE00020D_1605945551512_4_LH.json', '1069_A2LEBJJDE00094D_1606030313200_4_LH.json', '2996_A2LEBJJDE00083Q_1606009622545_4_LH.json', '4370_A1LCAIHDH00005Q_1607735330839_4_LH.json', '3006_A1LCAIHDH00007C_1608011020066_4_LH.json', '2533_A2LEBJJDE000034_1606022129599_4_LH.json', '3755_A2LEBJJDE001857_1608270778495_4_LH.json', '0888_A2LEBJJDE001948_1606555295600_4_LH.json', '5849_A2LEBJJDE00015J_1605944684227_4_LH.json', '8606_A2LEBJJDE00155P_1606461150531_4_LH.json', '8833_A2LEBJJDE00156I_1606038790396_4_LH.json', '5255_A2LEBJJDE00007B_1606287025880_4_LH.json', '3046_A2LEBJJDE00089J_1605953996152_4_LH.json', '0715_A2LEBJJDE00175D_1606194404348_4_LH.json', '5436_A2LEBJJDE00098K_1606189794959_4_LH.json', '1407_A2LEBJJDE001258_1606037853001_4_LH.json', '5849_A2LEBJJDE00015J_1606026637754_4_LH.json', '9356_A2LEBJJDE001443_1602915945780_4_LH.json', '3006_A1LCAIHDH00007C_1608367169629_4_LH.json', '1407_A2LEBJJDE001258_1605870732600_4_LH.json', '1963_A2LCBJCAC00003V_1608599614015_4_LH.json', '2326_A2LEBJJDE00037S_1606024871141_4_LH.json', '2585_A2LEBJJDE001302_1606011370675_4_LH.json', '0556_A2LEBJJDE00041T_1605950478740_4_LH.json', '4370_A1LCAIHDH00005Q_1608253173601_4_LH.json', '7978_A2LEBJJDE00071B_1606904924021_4_LH.json', '2602_A1LCAIHDH00013Y_1609580379119_4_LH.json', '9578_A2LEBJJDE00105K_1607575035208_4_LH.json', '5009_A1LCAIHDH00020E_1608268190066_4_LH.json', '2800_A2LEBJJDE00036Z_1606009897904_4_LH.json', '0616_A2LEBJJDE00004W_1606022103886_4_LH.json', '8146_A2LEBJJDE00148A_1606619546211_4_LH.json', '3275_A2LEBJJDE001766_1606038121251_4_LH.json', '0643_A2LEBJJDE00048F_1606711013524_4_LH.json', '1069_A2LEBJJDE00094D_1607160272639_4_LH.json', '4370_A1LCAIHDH00005Q_1608628007376_4_LH.json', '1983_A2LEBJJDE00188L_1606102470179_4_LH.json', '8337_A2LEBJJDE00109R_1606113648590_4_LH.json', '1237_A2LEBJJDE001584_1606115108320_4_LH.json', '1221_A1LCAIHDH00009X_1608968280819_4_LH.json', '1743_A2LEBJJDE00031Z_1606120820099_4_LH.json', '4263_A2LEBJJDE00062A_1606613355760_4_LH.json', '7126_A2LEBJJDE001534_1606272269598_4_LH.json', '1534_A2LEBJJDE00133G_1606978478985_4_LH.json', '3275_A2LEBJJDE001766_1606040220177_4_LH.json', '0643_A2LEBJJDE00048F_1606808937005_4_LH.json', '4970_A1LCAIHDH00010K_1608344389941_4_LH.json', '9202_A2LEBJJDE00082X_1606787187585_4_LH.json', '3832_A2LEBJJDE00191T_1605948799775_4_LH.json', '2800_A2LEBJJDE00036Z_1606026521501_4_LH.json', '7366_A2LEBJJDE00143A_1605955619550_4_LH.json', '7418_A2LEBJJDE000724_1605947484283_4_LH.json', '4970_A1LCAIHDH00010K_1608608318849_4_LH.json', '5619_A2LEBJJDE00002B_1605944676040_4_LH.json', '9202_A2LEBJJDE00082X_1604734017105_4_LH.json', '3216_A1LCAIHDH00006J_1608880390642_4_LH.json', '2762_A2LEBJJDE000498_1606196929399_4_LH.json', '9400_A2LEBJJDE00078W_1606012008518_4_LH.json', '8337_A2LEBJJDE00109R_1605844292945_4_LH.json', '3006_A1LCAIHDH00007C_1607569836459_4_LH.json', '9578_A2LEBJJDE00105K_1606010921144_4_LH.json', '9338_A2LEBJJDE00101D_1606745180176_4_LH.json', '8814_A2LEBJJDE00118S_1603072051977_4_LH.json', '3677_A2LEBJJDE00087X_1606120227659_4_LH.json', '3755_A2LEBJJDE001857_1608270351372_4_LH.json', '1221_A1LCAIHDH00009X_1608622966320_4_LH.json', '1459_A2LEBJJDE00025D_1605923369125_4_LH.json', '0703_A2LEBJJDE000774_1606008006485_4_LH.json', '5030_A2LEBJJDE00182S_1606697298539_4_LH.json', '2326_A2LEBJJDE00037S_1605945916215_4_LH.json', '5255_A2LEBJJDE00007B_1606195205443_4_LH.json', '6440_A2LEBJJDE001352_1608615504070_4_LH.json', '5569_A2LEBJJDE001211_1606118889828_4_LH.json', '4810_A2LEBJJDE00177Y_1606091092502_4_LH.json', '2326_A2LEBJJDE00037S_1606042497363_4_LH.json', '9202_A2LEBJJDE00082X_1606972765610_4_LH.json', '6078_A2LEBJJDE00160J_1606098668001_4_LH.json', '3006_A1LCAIHDH00007C_1608008840112_4_LH.json', '7978_A2LEBJJDE00071B_1606819373168_4_LH.json', '5438_A2LEBJJDE00159W_1606267331937_4_LH.json', '1237_A2LEBJJDE001584_1606115173103_4_LH.json', '9356_A2LEBJJDE00192M_1604223116583_4_LH.json', '1069_A2LEBJJDE00094D_1605779949047_4_LH.json', '4370_A1LCAIHDH00005Q_1607921618830_4_LH.json', '0643_A2LEBJJDE00048F_1606551206598_4_LH.json', '2326_A2LEBJJDE001998_1608440955597_4_LH.json', '1069_A2LEBJJDE00094D_1607130492081_4_LH.json', '1237_A2LEBJJDE001584_1606115359417_4_LH.json', '9527_A2LEBJJDE00110E_1606024177868_4_LH.json', '3365_A2LEBJJDE00106D_1605955016167_4_LH.json', '1237_A2LEBJJDE001584_1606115007054_4_LH.json', '7418_A2LEBJJDE000724_1606023645533_4_LH.json', '4919_A2LEBJJDE00064V_1606093213744_4_LH.json', '4478_A2LEBJJDE00052G_1606196075842_4_LH.json', '9578_A2LEBJJDE00105K_1608450189756_4_LH.json', '6437_A1LCAIHDH00019R_1607646825753_4_LH.json', '1963_A2LCBJCAC00003V_1609140217156_4_LH.json', '5438_A2LEBJJDE00159W_1606266610723_4_LH.json', '6775_A2LEBJJDE00022Y_1607653710928_4_LH.json', '3365_A2LEBJJDE00106D_1606032042752_4_LH.json', '2278_A2LEBJJDE00181Z_1606655394918_4_LH.json', '2720_A2LEBJJDE000401_1605942625469_4_LH.json', '1071_A2LEBJJDE00173R_1606092915884_4_LH.json', '0663_A2LEBJJDE001716_1606037148986_4_LH.json', '7126_A2LEBJJDE001534_1606528347165_4_LH.json', '7126_A2LEBJJDE001534_1606451343888_4_LH.json', '8102_A2LEBJJDE000633_1602665466739_4_LH.json', '5009_A1LCAIHDH00020E_1608269695679_4_LH.json', '4919_A2LEBJJDE00064V_1605953025453_4_LH.json', '3755_A2LEBJJDE001857_1608270747775_4_LH.json', '4232_A2LEBJJDE00146O_1606287690059_4_LH.json', '3755_A2LEBJJDE001857_1608269831896_4_LH.json', '4478_A2LEBJJDE00052G_1606911129245_4_LH.json', '1195_A2LEBJJDE00197M_1606101969067_4_LH.json', '4919_A2LEBJJDE00064V_1605780397059_4_LH.json', '9643_A2LEBJJDE00061H_1606642645300_4_LH.json', '3216_A1LCAIHDH00006J_1608517046264_4_LH.json', '2326_A2LEBJJDE00037S_1606031835295_4_LH.json', '9356_A2LEBJJDE00192M_1604198467384_4_LH.json', '9338_A2LEBJJDE00101D_1606539963077_4_LH.json', '4307_A2LEBJJDE000683_1606655867850_4_LH.json', '6078_A2LEBJJDE00160J_1606098483581_4_LH.json', '5009_A1LCAIHDH00020E_1608948760838_4_LH.json', '3046_A2LEBJJDE00089J_1605954034813_4_LH.json', '6825_A1LCAIHDH00018Y_1607908761181_4_LH.json', '7297_A2LEBJJDE00151I_1606700316948_4_LH.json', '1237_A2LEBJJDE001584_1606113782354_4_LH.json', '1981_A2LEBJJDE001493_1606881143970_4_LH.json', '5438_A2LEBJJDE00159W_1606265913222_4_LH.json', '6078_A2LEBJJDE00160J_1606098369100_4_LH.json', '5438_A2LEBJJDE00159W_1606266757260_4_LH.json', '0770_A2LEBJJDE000865_1608945980321_4_LH.json', '4370_A1LCAIHDH00005Q_1608114701108_4_LH.json', '8100_A2LEBJJDE00010J_1602998383448_4_LH.json', '8833_A2LEBJJDE00156I_1606038640641_4_LH.json', '3937_A2LEBJJDE00046T_1607646935508_4_LH.json', '9578_A2LEBJJDE00105K_1609059567027_4_LH.json', '9578_A2LEBJJDE00105K_1606270321332_4_LH.json', '5569_A2LEBJJDE001211_1606111721879_4_LH.json', '9244_A2LEBJJDE00154W_1606130487573_4_LH.json', '8802_A2LEBJJDE00178R_1605834940642_4_LH.json', '8802_A2LEBJJDE00174K_1608703430189_4_LH.json', '9447_A2LEBJJDE001951_1606209135168_4_LH.json', '1407_A2LEBJJDE001258_1606369307374_4_LH.json', '9578_A2LEBJJDE00105K_1608864017800_4_LH.json', '5305_A2LEBJJDE00122T_1606207617064_4_LH.json', '4370_A1LCAIHDH00005Q_1608014299206_4_LH.json', '4970_A1LCAIHDH00010K_1608438976113_4_LH.json', '3006_A1LCAIHDH00007C_1608274715461_4_LH.json', '1237_A2LEBJJDE001584_1606114752567_4_LH.json', '2637_A2LEBJJDE00099D_1605688307075_4_LH.json', '1407_A2LEBJJDE001258_1605946149146_4_LH.json', '5214_A2LEBJJDE001399_1607592128540_4_LH.json', '7988_A2LEBJJDE00002B_1605177445566_4_LH.json', '4970_A1LCAIHDH00010K_1609065105236_4_LH.json', '9578_A2LEBJJDE00105K_1606895413847_4_LH.json', '6818_A2LEBJJDE00170D_1605943687510_4_LH.json', '2379_A2LEBJJDE00172Y_1605861453107_4_LH.json', '3677_A2LEBJJDE00087X_1606120239637_4_LH.json', '8833_A2LEBJJDE00156I_1605964447076_4_LH.json', '6995_A2LEBJJDE00104R_1605948543365_4_LH.json', '3263_A1LCAIHDH00014R_1608359511348_4_LH.json', '1221_A1LCAIHDH00009X_1608428829209_4_LH.json', '1407_A2LEBJJDE001258_1606127471018_4_LH.json', '7978_A2LEBJJDE00071B_1606993292268_4_LH.json', '3677_A2LEBJJDE00087X_1606120149228_4_LH.json', '4307_A2LEBJJDE000683_1606655547569_4_LH.json', '9643_A2LEBJJDE00061H_1605836764991_4_LH.json', '8366_A2LEBJJDE00196T_1606028670149_4_LH.json', '8337_A2LEBJJDE00109R_1605854001153_4_LH.json', '4717_A2LEBJJDE001208_1605950053277_4_LH.json', '1237_A2LEBJJDE001584_1606115669102_4_LH.json', '1981_A2LEBJJDE001493_1606523314375_4_LH.json', '7851_A2LEBJJDE00074P_1606644286832_4_LH.json', '8297_A2LEBJJDE001076_1609126021978_4_LH.json', '7418_A2LEBJJDE000724_1605852583546_4_LH.json', '1631_A2LEBJJDE00163X_1605693337220_4_LH.json', '8100_A2LEBJJDE00010J_1609300311224_4_LH.json', '5030_A2LEBJJDE00186Z_1606740115629_4_LH.json', '4478_A2LEBJJDE00052G_1606910856531_4_LH.json', '9578_A2LEBJJDE00105K_1606193218591_4_LH.json', '7366_A2LEBJJDE00143A_1605922088754_4_LH.json', '1069_A2LEBJJDE00094D_1607130975085_4_LH.json', '1237_A2LEBJJDE001584_1606114416561_4_LH.json', '1407_A2LEBJJDE001258_1605955723548_4_LH.json', '7978_A2LEBJJDE00071B_1606208270362_4_LH.json', '3755_A2LEBJJDE001857_1608270069152_4_LH.json', '5569_A2LEBJJDE001211_1607049266426_4_LH.json', '5438_A2LEBJJDE00159W_1606265894836_4_LH.json', '2720_A2LEBJJDE000401_1608177620639_4_LH.json', '2379_A2LEBJJDE00172Y_1605861778082_4_LH.json', '9578_A2LEBJJDE00105K_1605933680046_4_LH.json', '9338_A2LEBJJDE00101D_1606026238086_4_LH.json', '1221_A1LCAIHDH00009X_1608615153755_4_LH.json', '1983_A2LEBJJDE00188L_1606101887759_4_LH.json', '9578_A2LEBJJDE00105K_1606020581793_4_LH.json', '7418_A2LEBJJDE00080C_1606115612657_4_LH.json', '4557_A2LEBJJDE00043F_1605956099980_4_LH.json', '9202_A2LEBJJDE00082X_1606138044656_4_LH.json', '8281_A2LEBJJDE00055U_1605933234991_4_LH.json', '3263_A1LCAIHDH00014R_1608264323111_4_LH.json', '6825_A1LCAIHDH00018Y_1608961957974_4_LH.json', '9356_A2LEBJJDE00192M_1606618665897_4_LH.json', '3006_A1LCAIHDH00007C_1608199818056_4_LH.json', '9316_A2LEBJJDE00034E_1606210370504_4_LH.json', '1237_A2LEBJJDE001584_1606115447708_4_LH.json', '1069_A2LEBJJDE00094D_1606107369594_4_LH.json', '8802_A2LEBJJDE00178R_1605834916791_4_LH.json', '1195_A2LEBJJDE00197M_1606102213272_4_LH.json', '1983_A2LEBJJDE00188L_1606102441177_4_LH.json', '6078_A2LEBJJDE00160J_1606098208596_4_LH.json', '3755_A2LEBJJDE001857_1608269870886_4_LH.json', '1983_A2LEBJJDE00188L_1606102483148_4_LH.json', '0425_A2LEBJJDE00079P_1605793665402_4_LH.json', '9338_A2LEBJJDE00101D_1606632540056_4_LH.json', '4717_A2LEBJJDE001208_1605954459142_4_LH.json', '8802_A2LEBJJDE00178R_1605835028140_4_LH.json', '0733_A2LEBJJDE000084_1605863710272_4_LH.json', '1195_A2LEBJJDE00197M_1606803946677_4_LH.json', '9578_A2LEBJJDE00105K_1608872862688_4_LH.json', '9244_A2LEBJJDE00154W_1606130212434_4_LH.json', '2487_A2LEBJJDE00050U_1605834321681_4_LH.json', '2720_A2LEBJJDE000401_1608455818679_4_LH.json', '6818_A2LEBJJDE00170D_1605952594943_4_LH.json', '3263_A1LCAIHDH00014R_1608347548566_4_LH.json', '8802_A2LEBJJDE00178R_1606212887273_4_LH.json', '6995_A2LEBJJDE00104R_1606529369165_4_LH.json', '2379_A2LEBJJDE00172Y_1605859999032_4_LH.json', '9414_A2LEBJJDE00033L_1604558026513_4_LH.json', '6078_A2LEBJJDE00160J_1606098268777_4_LH.json', '7418_A2LEBJJDE00080C_1606195669874_4_LH.json', '7366_A2LEBJJDE00143A_1605958529353_4_LH.json', '1069_A2LEBJJDE00094D_1607308325445_4_LH.json', '1237_A2LEBJJDE001584_1606114089364_4_LH.json', '9338_A2LEBJJDE00101D_1606628644041_4_LH.json', '1221_A1LCAIHDH00009X_1608009022913_4_LH.json', '9244_A2LEBJJDE00154W_1606796115186_4_LH.json', '5849_A2LEBJJDE00015J_1605947803708_4_LH.json', '3269_A2LEBJJDE00096Y_1609202973643_4_LH.json', '5438_A2LEBJJDE00159W_1606266262074_4_LH.json', '5415_A2LEBJJDE00027Y_1605951647867_4_LH.json', '7418_A2LEBJJDE00080C_1606195789261_4_LH.json', '3046_A2LEBJJDE00089J_1605937293377_4_LH.json', '1534_A2LEBJJDE00133G_1606101785535_4_LH.json', '1237_A2LEBJJDE001584_1606114674434_4_LH.json', '9578_A2LEBJJDE00105K_1608611794184_4_LH.json', '0888_A2LEBJJDE001948_1606106913859_4_LH.json', '8297_A2LEBJJDE001076_1608784944140_4_LH.json', '1459_A2LEBJJDE00025D_1606022198012_4_LH.json', '4263_A2LEBJJDE00062A_1606456159530_4_LH.json', '1237_A2LEBJJDE001584_1606114809131_4_LH.json', '3365_A2LEBJJDE00106D_1609126579315_4_LH.json', '3339_A2LEBJJDE00057G_1608965581479_4_LH.json', '8146_A2LEBJJDE00011C_1605869195363_4_LH.json', '3065_A2LEBJJDE00103Y_1606019097190_4_LH.json', '9874_A2LEBJJDE00123M_1609222654820_4_LH.json', '2327_A2LEBJJDE00091Y_1605935767188_4_LH.json', '3065_A2LEBJJDE00103Y_1606029473332_4_LH.json', '1983_A2LEBJJDE00188L_1606102261879_4_LH.json', '2326_A2LEBJJDE001998_1608257019997_4_LH.json', '9905_A2LEBJJDE00042M_1606181702722_4_LH.json', '5569_A2LEBJJDE001211_1608342769015_4_LH.json', '4970_A1LCAIHDH00010K_1608443269319_4_LH.json', '9202_A2LEBJJDE00082X_1606311149829_4_LH.json', '6078_A2LEBJJDE00160J_1606098408951_4_LH.json', '2379_A2LEBJJDE00172Y_1605860572265_4_LH.json', '3006_A1LCAIHDH00007C_1607921672562_4_LH.json', '1069_A2LEBJJDE00094D_1607051982826_4_LH.json', '5619_A2LEBJJDE00002B_1606114794128_4_LH.json', '6078_A2LEBJJDE00160J_1606097710199_4_LH.json', '7851_A2LEBJJDE00074P_1607511067979_4_LH.json', '7978_A2LEBJJDE00071B_1606729200018_4_LH.json', '3085_A2LEBJJDE00128M_1606199743243_4_LH.json', '8999_A2LEBJJDE00001I_1604741193982_4_LH.json', '2327_A2LEBJJDE00091Y_1605945640098_4_LH.json', '9338_A2LEBJJDE00101D_1606643421653_4_LH.json', '1080_A2LEBJJDE00092R_1606029151956_4_LH.json', '2326_A2LEBJJDE001998_1606201135628_4_LH.json', '9527_A2LEBJJDE00110E_1606012255097_4_LH.json', '8224_A2LEBJJDE000448_1605942436752_4_LH.json', '4002_A2LEBJJDE00137N_1606546176321_4_LH.json', '1237_A2LEBJJDE001584_1606115290946_4_LH.json', '3006_A1LCAIHDH00007C_1608107424883_4_LH.json', '8146_A2LEBJJDE00011C_1605869455302_4_LH.json', '1237_A2LEBJJDE001584_1606114994614_4_LH.json', '1221_A1LCAIHDH00009X_1608948646275_4_LH.json', '3006_A1LCAIHDH00007C_1608624056741_4_LH.json', '5438_A2LEBJJDE00159W_1606266404374_4_LH.json', '1743_A2LEBJJDE00031Z_1606126925632_4_LH.json', '4267_A1LCAIHDH00016D_1608706195868_4_LH.json', '6078_A2LEBJJDE00160J_1606098513951_4_LH.json', '7985_A1LCAIHDH00011D_1608882381454_4_LH.json', '3977_A2LEBJJDE00039E_1606216991849_4_LH.json', '6570_A2LEBJJDE001675_1607790667818_4_LH.json', '5030_A2LEBJJDE00182S_1606174603107_4_LH.json', '9527_A2LEBJJDE00110E_1606024200869_4_LH.json', '1981_A2LEBJJDE001901_1605850590429_4_LH.json', '9447_A2LEBJJDE001951_1606020976567_4_LH.json', '2996_A2LEBJJDE00083Q_1605949799330_4_LH.json', '1743_A2LEBJJDE00031Z_1605934119652_4_LH.json', '7698_A2LEBJJDE00165J_1606215286100_4_LH.json', '1983_A2LEBJJDE00188L_1606102277212_4_LH.json', '4002_A2LEBJJDE00137N_1605946522964_4_LH.json', '0617_A2LEBJJDE000815_1605969566646_4_LH.json', '1221_A1LCAIHDH00009X_1608429315000_4_LH.json', '7366_A2LEBJJDE00088Q_1606890508472_4_LH.json', '0616_A2LEBJJDE00004W_1605867930174_4_LH.json', '3977_A2LEBJJDE00039E_1606216636787_4_LH.json', '0556_A2LEBJJDE00041T_1606019563724_4_LH.json', '9244_A2LEBJJDE00154W_1606130468029_4_LH.json', '9400_A2LEBJJDE00078W_1605317429791_4_LH.json', '8999_A2LEBJJDE00001I_1603355499024_4_LH.json', '7229_A2LEBJJDE00142H_1603944600727_4_LH.json', '4162_A2LEBJJDE00013X_1607650468342_4_LH.json', '7988_A2LEBJJDE000357_1607139552253_4_LH.json', '0425_A2LEBJJDE00079P_1606600825464_4_LH.json', '1407_A2LEBJJDE001258_1606026052241_4_LH.json', '9244_A2LEBJJDE00154W_1606130169111_4_LH.json', '4370_A1LCAIHDH00005Q_1608878187052_4_LH.json', '7126_A2LEBJJDE001534_1606536227548_4_LH.json', '1237_A2LEBJJDE001584_1606115462374_4_LH.json', '9244_A2LEBJJDE00154W_1607590005836_4_LH.json', '9244_A2LEBJJDE00154W_1606130373114_4_LH.json', '4970_A1LCAIHDH00010K_1608361819895_4_LH.json', '9244_A2LEBJJDE00154W_1606130957333_4_LH.json', '4717_A2LEBJJDE001208_1606028712370_4_LH.json', '0616_A2LEBJJDE00004W_1606017858802_4_LH.json', '4970_A1LCAIHDH00010K_1608373505040_4_LH.json', '7698_A2LEBJJDE00165J_1606178630604_4_LH.json', '6367_A2LEBJJDE00038L_1606029107377_4_LH.json', '3365_A2LEBJJDE00106D_1608625727429_4_LH.json', '4795_A2LEBJJDE00113S_1606029978448_4_LH.json', '1071_A2LEBJJDE00173R_1606092579253_4_LH.json', '5255_A2LEBJJDE00007B_1606207998067_4_LH.json', '0733_A2LEBJJDE000084_1606448520775_4_LH.json', '6078_A2LEBJJDE00160J_1606097684599_4_LH.json', '3588_A2LEBJJDE00108Y_1606369289538_4_LH.json', '2720_A2LEBJJDE000401_1606195044529_4_LH.json', '3339_A2LEBJJDE00057G_1605931502753_4_LH.json', '1237_A2LEBJJDE001584_1606115195128_4_LH.json', '3065_A2LEBJJDE00103Y_1605949809087_4_LH.json', '4002_A2LEBJJDE00137N_1605841055795_4_LH.json', '8102_A2LEBJJDE000633_1606559306369_4_LH.json', '2996_A2LEBJJDE00083Q_1605861559946_4_LH.json', '7851_A2LEBJJDE00074P_1605950736522_4_LH.json', '7701_A1LCAIHDH000085_1608882202640_4_LH.json', '7978_A2LEBJJDE00071B_1606207940015_4_LH.json', '4133_A1LCAIHDH000035_1608693166282_4_LH.json', '7126_A2LEBJJDE001534_1606204876008_4_LH.json', '1080_A2LEBJJDE00092R_1607743003083_4_LH.json', '1983_A2LEBJJDE00188L_1606102509438_4_LH.json', '9578_A2LEBJJDE00105K_1608089017892_4_LH.json', '2983_A2LEBJJDE001261_1606199413027_4_LH.json', '9356_A2LEBJJDE00192M_1604839295303_4_LH.json', '1145_A2LEBJJDE00119L_1605952067012_4_LH.json', '7985_A1LCAIHDH00011D_1607837891102_4_LH.json', '6078_A2LEBJJDE00160J_1606097899195_4_LH.json', '1963_A2LCBJCAC00003V_1608598891174_4_LH.json', '7985_A1LCAIHDH00011D_1608870957135_4_LH.json', '9202_A2LEBJJDE00082X_1606051794846_4_LH.json', '1237_A2LEBJJDE001584_1606114003891_4_LH.json', '1221_A1LCAIHDH00009X_1608790382869_4_LH.json', '6078_A2LEBJJDE00160J_1606099438715_4_LH.json', '4919_A2LEBJJDE00064V_1606093857742_4_LH.json', '5569_A2LEBJJDE001211_1608430115623_4_LH.json', '7366_A2LEBJJDE00088Q_1606889394975_4_LH.json', '6078_A2LEBJJDE00093K_1605922268580_4_LH.json', '1237_A2LEBJJDE001584_1606114515201_4_LH.json', '0425_A2LEBJJDE00079P_1606614008911_4_LH.json', '9578_A2LEBJJDE00105K_1606615169096_4_LH.json', '7366_A2LEBJJDE00143A_1605954413917_4_LH.json', '8281_A2LEBJJDE00055U_1606119395533_4_LH.json', '9447_A2LEBJJDE001951_1606012248961_4_LH.json', '3006_A1LCAIHDH00007C_1608279820410_4_LH.json', '0616_A2LEBJJDE00004W_1606022361300_4_LH.json', '9244_A2LEBJJDE00154W_1606130187062_4_LH.json', '8224_A2LEBJJDE000448_1606191267082_4_LH.json', '7366_A2LEBJJDE00143A_1606461425255_4_LH.json', '4970_A1LCAIHDH00010K_1608689978988_4_LH.json', '9578_A2LEBJJDE00105K_1606549630485_4_LH.json', '1237_A2LEBJJDE001584_1606114259635_4_LH.json', '3046_A2LEBJJDE00089J_1606120988071_4_LH.json', '8337_A2LEBJJDE00109R_1605946012665_4_LH.json', '1534_A2LEBJJDE00133G_1607944853370_4_LH.json', '1221_A1LCAIHDH00009X_1608189529557_4_LH.json', '2983_A2LEBJJDE001261_1606183290023_4_LH.json', '4133_A1LCAIHDH000035_1608946928339_4_LH.json', '4717_A2LEBJJDE001208_1606279072970_4_LH.json', '4232_A2LEBJJDE00146O_1607049879662_4_LH.json', '3263_A1LCAIHDH00014R_1608269509481_4_LH.json', '7851_A2LEBJJDE00074P_1605950933644_4_LH.json', '7297_A2LEBJJDE00151I_1606701596572_4_LH.json', '3006_A1LCAIHDH00007C_1607739926930_4_LH.json', '5415_A2LEBJJDE00027Y_1606637682039_4_LH.json', '9338_A2LEBJJDE00101D_1606737683343_4_LH.json', '2996_A2LEBJJDE00083Q_1606019292746_4_LH.json', '5438_A2LEBJJDE00159W_1606266859544_4_LH.json', '8281_A2LEBJJDE00055U_1606974311408_4_LH.json', '9316_A2LEBJJDE00034E_1605835476700_4_LH.json', '8802_A2LEBJJDE00178R_1605834824762_4_LH.json', '9316_A2LEBJJDE00034E_1608623024765_4_LH.json', '5438_A2LEBJJDE00159W_1606265850935_4_LH.json', '0643_A2LEBJJDE00048F_1606816647430_4_LH.json', '8337_A2LEBJJDE00109R_1605782701114_4_LH.json', '9578_A2LEBJJDE00105K_1609131268895_4_LH.json', '8814_A2LEBJJDE00118S_1602814055660_4_LH.json', '8102_A2LEBJJDE000633_1606557283845_4_LH.json', '1237_A2LEBJJDE001584_1606115148653_4_LH.json', '3755_A2LEBJJDE001857_1608269910424_4_LH.json', '3588_A2LEBJJDE00108Y_1605955915973_4_LH.json', '6440_A2LEBJJDE001352_1605946950838_4_LH.json', '0617_A2LEBJJDE000815_1605969494020_4_LH.json', '9643_A2LEBJJDE00061H_1605935544431_4_LH.json', '8281_A2LEBJJDE00055U_1606303685932_4_LH.json', '1983_A2LEBJJDE00188L_1606101742928_4_LH.json', '4267_A1LCAIHDH00016D_1608873906213_4_LH.json', '3085_A2LEBJJDE00128M_1606201949842_4_LH.json', '8146_A2LEBJJDE00011C_1605869273064_4_LH.json', '1407_A2LEBJJDE001258_1605946477560_4_LH.json', '7670_A1LCAIHDH000126_1608868305011_4_LH.json', '6367_A2LEBJJDE00038L_1606616088146_4_LH.json', '9338_A2LEBJJDE00101D_1606695037925_4_LH.json', '7418_A2LEBJJDE00080C_1606119031435_4_LH.json', '9244_A2LEBJJDE00154W_1606130016041_4_LH.json', '1983_A2LEBJJDE00188L_1606101717250_4_LH.json', '1221_A1LCAIHDH00009X_1609041093731_4_LH.json', '3216_A1LCAIHDH00006J_1607859698289_4_LH.json', '5569_A2LEBJJDE001211_1608530773690_4_LH.json', '4970_A1LCAIHDH00010K_1608961524749_4_LH.json', '0643_A2LEBJJDE00048F_1606890556201_4_LH.json', '3006_A1LCAIHDH00007C_1608437460941_4_LH.json', '6078_A2LEBJJDE00160J_1606098688031_4_LH.json', '5619_A2LEBJJDE00002B_1606111210372_4_LH.json', '4133_A1LCAIHDH000035_1608715280330_4_LH.json', '9244_A2LEBJJDE00154W_1606129873033_4_LH.json', '1221_A1LCAIHDH00009X_1608796198622_4_LH.json', '0888_A2LEBJJDE001948_1605944364428_4_LH.json', '7126_A2LEBJJDE001534_1606532145020_4_LH.json', '1237_A2LEBJJDE001584_1606114301857_4_LH.json', '7985_A1LCAIHDH00011D_1607754117410_4_LH.json', '4263_A2LEBJJDE00062A_1606644635489_4_LH.json', '8337_A2LEBJJDE00109R_1606029224639_4_LH.json', '7126_A2LEBJJDE001534_1606626783708_4_LH.json', '1983_A2LEBJJDE00188L_1606101844595_4_LH.json', '3006_A1LCAIHDH00007C_1608616461841_4_LH.json', '5619_A2LEBJJDE00002B_1606043783829_4_LH.json', '0643_A2LEBJJDE00048F_1606805533308_4_LH.json', '3755_A2LEBJJDE001857_1608269945036_4_LH.json', '8146_A2LEBJJDE00148A_1606198941966_4_LH.json', '3006_A1LCAIHDH00007C_1608188267993_4_LH.json', '1069_A2LEBJJDE00094D_1606288380489_4_LH.json', '9578_A2LEBJJDE00105K_1608799189472_4_LH.json', '2379_A2LEBJJDE00172Y_1605861666908_4_LH.json', '4133_A1LCAIHDH000035_1607677198767_4_LH.json', '9244_A2LEBJJDE00154W_1606130927412_4_LH.json', '3677_A2LEBJJDE00087X_1606096521527_4_LH.json', '8000_A2LEBJJDE000956_1606887975365_4_LH.json', '1069_A2LEBJJDE00094D_1606622132257_4_LH.json', '1237_A2LEBJJDE001584_1606115371216_4_LH.json', '4370_A1LCAIHDH00005Q_1608606446798_4_LH.json', '4557_A2LEBJJDE00043F_1606212907501_4_LH.json', '3006_A1LCAIHDH00007C_1608451622993_4_LH.json', '8212_A2LEBJJDE00070I_1606030796457_4_LH.json', '9338_A2LEBJJDE00101D_1606569080603_4_LH.json', '9202_A2LEBJJDE00082X_1605744045558_4_LH.json', '6078_A2LEBJJDE00160J_1606098300856_4_LH.json', '3006_A1LCAIHDH00007C_1608438284512_4_LH.json', '3755_A2LEBJJDE001857_1608270160108_4_LH.json', '2585_A2LEBJJDE001302_1606023100699_4_LH.json', '3269_A2LEBJJDE00096Y_1608596143699_4_LH.json', '8281_A2LEBJJDE00055U_1605951963169_4_LH.json', '3046_A2LEBJJDE00089J_1605954239689_4_LH.json', '3006_A1LCAIHDH00007C_1608344132422_4_LH.json', '4307_A2LEBJJDE000683_1606659957964_4_LH.json', '1080_A2LEBJJDE00092R_1606016206481_4_LH.json', '7985_A1LCAIHDH00011D_1608459511616_4_LH.json', '2327_A2LEBJJDE00091Y_1606018988893_4_LH.json', '3755_A2LEBJJDE001857_1608269768699_4_LH.json', '9874_A2LEBJJDE00123M_1607059563290_4_LH.json', '0616_A2LEBJJDE00004W_1605866019992_4_LH.json', '9244_A2LEBJJDE00154W_1606796041327_4_LH.json', '2326_A2LEBJJDE00037S_1605867014188_4_LH.json', '8297_A2LEBJJDE001076_1607322533282_4_LH.json', '4557_A2LEBJJDE00043F_1606387327181_4_LH.json', '3755_A2LEBJJDE001857_1608269581576_4_LH.json', '9316_A2LEBJJDE00034E_1611638754254_4_LH.json', '1069_A2LEBJJDE00094D_1608277597293_4_LH.json', '6078_A2LEBJJDE00160J_1606098436817_4_LH.json', '8000_A2LEBJJDE000956_1606459090142_4_LH.json', '8337_A2LEBJJDE00109R_1605945800446_4_LH.json', '8281_A2LEBJJDE00055U_1606013172354_4_LH.json', '6995_A2LEBJJDE00104R_1606017489870_4_LH.json', '7126_A2LEBJJDE001534_1605944691142_4_LH.json', '1237_A2LEBJJDE001584_1606114272921_4_LH.json', '8802_A2LEBJJDE00178R_1605834963097_4_LH.json', '2996_A2LEBJJDE00083Q_1606009763893_4_LH.json', '8833_A2LEBJJDE00156I_1605931580025_4_LH.json', '0643_A2LEBJJDE00048F_1606628951320_4_LH.json', '3365_A2LEBJJDE00106D_1608360404626_4_LH.json', '8281_A2LEBJJDE00055U_1603448848470_4_LH.json', '2379_A2LEBJJDE00172Y_1605861628251_4_LH.json', '9578_A2LEBJJDE00105K_1606446927943_4_LH.json', '1237_A2LEBJJDE001584_1606113606555_4_LH.json', '9864_A2LEBJJDE001167_1607744534222_4_LH.json', '3006_A1LCAIHDH00007C_1608201488607_4_LH.json', '4133_A1LCAIHDH000035_1608692439802_4_LH.json', '2326_A2LEBJJDE00037S_1606639821673_4_LH.json', '3588_A2LEBJJDE00108Y_1606445976062_4_LH.json', '6995_A2LEBJJDE00104R_1606014108779_4_LH.json', '1983_A2LEBJJDE00188L_1606102178916_4_LH.json', '7985_A1LCAIHDH00011D_1608870971726_4_LH.json', '2278_A2LEBJJDE00181Z_1606656032675_4_LH.json', '2720_A2LEBJJDE000401_1606367243623_4_LH.json', '5849_A2LEBJJDE00015J_1605955978509_4_LH.json', '7701_A1LCAIHDH000085_1610172715604_4_LH.json', '0616_A2LEBJJDE00004W_1605945606130_4_LH.json', '4370_A1LCAIHDH00005Q_1608011608540_4_LH.json', '4002_A2LEBJJDE00137N_1605930233498_4_LH.json', '1983_A2LEBJJDE00188L_1606102335454_4_LH.json', '7418_A2LEBJJDE00080C_1606116240870_4_LH.json', '9244_A2LEBJJDE00154W_1606130675718_4_LH.json', '9643_A2LEBJJDE00061H_1606126177704_4_LH.json', '6078_A2LEBJJDE00160J_1606098326681_4_LH.json', '5569_A2LEBJJDE001211_1607927872677_4_LH.json', '6995_A2LEBJJDE00104R_1605949740891_4_LH.json', '3006_A1LCAIHDH00007C_1607679834651_4_LH.json', '7978_A2LEBJJDE00071B_1610156988657_4_LH.json', '6367_A2LEBJJDE00038L_1606613406061_4_LH.json', '8000_A2LEBJJDE000956_1606638571997_4_LH.json', '6078_A2LEBJJDE00160J_1606098638477_4_LH.json', '4267_A1LCAIHDH00016D_1608872619874_4_LH.json', '1983_A2LEBJJDE00188L_1606102248991_4_LH.json', '1069_A2LEBJJDE00094D_1607303586379_4_LH.json', '1145_A2LEBJJDE00119L_1605864101466_4_LH.json', '9578_A2LEBJJDE00105K_1609036974432_4_LH.json', '6729_A2LEBJJDE00028R_1606267695451_4_LH.json', '9874_A2LEBJJDE00123M_1607052587316_4_LH.json', '5030_A2LEBJJDE00182S_1606174633062_4_LH.json', '3006_A1LCAIHDH00007C_1607999485685_4_LH.json', '3085_A2LEBJJDE00128M_1606019092310_4_LH.json', '4810_A2LEBJJDE00177Y_1606091114599_4_LH.json', '8833_A2LEBJJDE00156I_1606038538777_4_LH.json', '5438_A2LEBJJDE00159W_1606266924304_4_LH.json', '1237_A2LEBJJDE001584_1606114909773_4_LH.json', '2379_A2LEBJJDE00172Y_1605860532497_4_LH.json', '8802_A2LEBJJDE00178R_1605834715417_4_LH.json', '6367_A2LEBJJDE00038L_1606616292885_4_LH.json', '6367_A2LEBJJDE00038L_1606612762621_4_LH.json', '3085_A2LEBJJDE00128M_1606194079471_4_LH.json', '3006_A1LCAIHDH00007C_1608364857422_4_LH.json', '6818_A2LEBJJDE00170D_1606533629710_4_LH.json', '0770_A2LEBJJDE000865_1606111197518_4_LH.json', '0616_A2LEBJJDE00004W_1606017829249_4_LH.json', '1963_A2LCBJCAC00003V_1608607513882_4_LH.json', '0844_A2LEBJJDE00067A_1605949911411_4_LH.json', '5750_A2LEBJJDE000589_1605948461839_4_LH.json', '1237_A2LEBJJDE001584_1606113454303_4_LH.json', '8802_A2LEBJJDE00174K_1608698235650_4_LH.json', '7698_A2LEBJJDE00165J_1606178378503_4_LH.json', '1983_A2LEBJJDE00188L_1606102036074_4_LH.json', '4070_A2LEBJJDE000266_1606700409953_4_LH.json', '1407_A2LEBJJDE001258_1606011780803_4_LH.json']\n"
          ]
        }
      ]
    },
    {
      "cell_type": "code",
      "source": [
        "print(five_exist)"
      ],
      "metadata": {
        "colab": {
          "base_uri": "https://localhost:8080/"
        },
        "id": "RmVnN1ZT-7M0",
        "outputId": "4d80b506-3c23-4c7a-e528-2dccae9e4059"
      },
      "execution_count": 49,
      "outputs": [
        {
          "output_type": "stream",
          "name": "stdout",
          "text": [
            "['5438_A2LEBJJDE00159W_1606266389394_5_RH.json', '2326_A2LEBJJDE001998_1609668111407_5_RH.json', '3275_A2LEBJJDE001766_1605949229215_5_RH.json', '9578_A2LEBJJDE00105K_1605946040904_5_RH.json', '3085_A2LEBJJDE00128M_1606033474941_5_RH.json', '0643_A2LEBJJDE00048F_1606632704103_5_RH.json', '1407_A2LEBJJDE001258_1605948290606_5_RH.json', '2602_A1LCAIHDH00013Y_1609579597726_5_RH.json', '8802_A2LEBJJDE00174K_1608699607350_5_RH.json', '1237_A2LEBJJDE001584_1606114699100_5_RH.json', '9874_A2LEBJJDE00123M_1608956486604_5_RH.json', '1237_A2LEBJJDE001584_1606114033196_5_RH.json', '7698_A2LEBJJDE00165J_1606114701958_5_RH.json', '4070_A2LEBJJDE000266_1605761377791_5_RH.json', '9578_A2LEBJJDE00105K_1608953645154_5_RH.json', '3006_A1LCAIHDH00007C_1608537805049_5_RH.json', '3755_A2LEBJJDE001857_1608270362084_5_RH.json', '4795_A2LEBJJDE00113S_1606024761458_5_RH.json', '9887_A2LEBJJDE00066H_1606187076935_5_RH.json', '9338_A2LEBJJDE00101D_1606737835036_5_RH.json', '6367_A2LEBJJDE00038L_1606022286101_5_RH.json', '7851_A2LEBJJDE00074P_1607125467621_5_RH.json', '1407_A2LEBJJDE001258_1606015907386_5_RH.json', '4795_A2LEBJJDE00113S_1605852735474_5_RH.json', '8146_A2LEBJJDE00148A_1606033164551_5_RH.json', '7338_A2LEBJJDE00006I_1605759285583_5_RH.json', '9202_A2LEBJJDE00082X_1606383716857_5_RH.json', '4263_A2LEBJJDE00062A_1606456457350_5_RH.json', '5030_A2LEBJJDE00186Z_1606739470501_5_RH.json', '0643_A2LEBJJDE00048F_1606098162727_5_RH.json', '9643_A2LEBJJDE00061H_1606035134407_5_RH.json', '4232_A2LEBJJDE00146O_1606371281912_5_RH.json', '4795_A2LEBJJDE00113S_1606899543987_5_RH.json', '7670_A1LCAIHDH000126_1608268268723_5_RH.json', '3006_A1LCAIHDH00007C_1607931591576_5_RH.json', '7418_A2LEBJJDE00080C_1606116387540_5_RH.json', '3263_A1LCAIHDH00014R_1608962467389_5_RH.json', '5849_A2LEBJJDE00015J_1606026819902_5_RH.json', '4267_A1LCAIHDH00016D_1608964053158_5_RH.json', '2379_A2LEBJJDE00172Y_1605860379335_5_RH.json', '7851_A2LEBJJDE00074P_1606552262318_5_RH.json', '3755_A2LEBJJDE001857_1608269921706_5_RH.json', '9864_A2LEBJJDE001167_1608342469718_5_RH.json', '9578_A2LEBJJDE00105K_1608608227955_5_RH.json', '1237_A2LEBJJDE001584_1606114559172_5_RH.json', '8212_A2LEBJJDE00070I_1605943477337_5_RH.json', '1983_A2LEBJJDE00188L_1606102309508_5_RH.json', '3006_A1LCAIHDH00007C_1608019518334_5_RH.json', '9905_A2LEBJJDE00042M_1608624943099_5_RH.json', '3275_A2LEBJJDE001766_1606034153226_5_RH.json', '5255_A2LEBJJDE00007B_1605934514799_5_RH.json', '1221_A1LCAIHDH00009X_1609061828958_5_RH.json', '2326_A2LEBJJDE001998_1608955876436_5_RH.json', '7229_A2LEBJJDE00142H_1605940315759_5_RH.json', '0770_A2LEBJJDE000865_1608978334811_5_RH.json', '5569_A2LEBJJDE001211_1608278790527_5_RH.json', '9578_A2LEBJJDE00105K_1606018185469_5_RH.json', '4810_A2LEBJJDE00177Y_1606091326659_5_RH.json', '0425_A2LEBJJDE00079P_1606604235481_5_RH.json', '9244_A2LEBJJDE00154W_1606130940567_5_RH.json', '8212_A2LEBJJDE00070I_1606021239086_5_RH.json', '8212_A2LEBJJDE00070I_1606035602624_5_RH.json', '3046_A2LEBJJDE00089J_1605848767656_5_RH.json', '4307_A2LEBJJDE000683_1606655885709_5_RH.json', '1237_A2LEBJJDE001584_1606115223778_5_RH.json', '1080_A2LEBJJDE00092R_1606904731582_5_RH.json', '2032_A2LEBJJDE00152B_1606625588428_5_RH.json', '3269_A2LEBJJDE00096Y_1609132075614_5_RH.json', '3269_A2LEBJJDE00096Y_1609202154535_5_RH.json', '7988_A2LEBJJDE000357_1603012956255_5_RH.json', '1080_A2LEBJJDE00092R_1606104965819_5_RH.json', '1983_A2LEBJJDE00188L_1606102295929_5_RH.json', '9356_A2LEBJJDE00192M_1604121907869_5_RH.json', '9316_A2LEBJJDE00034E_1605923560703_5_RH.json', '8000_A2LEBJJDE000956_1604739724977_5_RH.json', '9874_A2LEBJJDE00123M_1607069714128_5_RH.json', '0733_A2LEBJJDE000084_1606699794296_5_RH.json', '6995_A2LEBJJDE00104R_1606009574603_5_RH.json', '9527_A2LEBJJDE00110E_1606029565979_5_RH.json', '3755_A2LEBJJDE001857_1608269898834_5_RH.json', '4263_A2LEBJJDE00062A_1606533732801_5_RH.json', '5030_A2LEBJJDE00186Z_1606739433057_5_RH.json', '3065_A2LEBJJDE00103Y_1607835537655_5_RH.json', '4795_A2LEBJJDE00113S_1606193413492_5_RH.json', '2996_A2LEBJJDE00083Q_1606641983378_5_RH.json', '8833_A2LEBJJDE00156I_1605764152419_5_RH.json', '8146_A2LEBJJDE00148A_1605950178223_5_RH.json', '7978_A2LEBJJDE00071B_1606820091935_5_RH.json', '1080_A2LEBJJDE00092R_1606104625543_5_RH.json', '3755_A2LEBJJDE001857_1608272763871_5_RH.json', '6440_A2LEBJJDE001352_1605849049983_5_RH.json', '3006_A1LCAIHDH00007C_1608346999018_5_RH.json', '3006_A1LCAIHDH00007C_1608279854038_5_RH.json', '0733_A2LEBJJDE000084_1606453650033_5_RH.json', '8833_A2LEBJJDE00156I_1605965108300_5_RH.json', '4810_A2LEBJJDE00177Y_1606091452364_5_RH.json', '2032_A2LEBJJDE00152B_1606625603337_5_RH.json', '9578_A2LEBJJDE00105K_1608012561726_5_RH.json', '6995_A2LEBJJDE00104R_1606787824868_5_RH.json', '2800_A2LEBJJDE00036Z_1606029559599_5_RH.json', '1983_A2LEBJJDE00188L_1606102053591_5_RH.json', '7027_A2LEBJJDE001117_1605865462908_5_RH.json', '8224_A2LEBJJDE000448_1605940832662_5_RH.json', '4717_A2LEBJJDE001208_1605836101774_5_RH.json', '7366_A2LEBJJDE00088Q_1606889756769_5_RH.json', '0616_A2LEBJJDE00004W_1606025692136_5_RH.json', '5438_A2LEBJJDE00159W_1606265774381_5_RH.json', '2032_A2LEBJJDE00152B_1606625470409_5_RH.json', '3677_A2LEBJJDE00087X_1606007530331_5_RH.json', '5255_A2LEBJJDE00007B_1606206410273_5_RH.json', '3006_A1LCAIHDH00007C_1608708752028_5_RH.json', '4478_A2LEBJJDE00052G_1606197533849_5_RH.json', '2327_A2LEBJJDE00091Y_1606010512389_5_RH.json', '7670_A1LCAIHDH000126_1608777432775_5_RH.json', '7985_A1LCAIHDH00011D_1607755664841_5_RH.json', '1237_A2LEBJJDE001584_1606113539375_5_RH.json', '5849_A2LEBJJDE00015J_1606026540258_5_RH.json', '7701_A1LCAIHDH000085_1608882663631_5_RH.json', '8337_A2LEBJJDE00109R_1603438004943_5_RH.json', '8224_A2LEBJJDE000448_1606192530148_5_RH.json', '7338_A2LEBJJDE00006I_1605833096377_5_RH.json', '2032_A2LEBJJDE00152B_1606625678665_5_RH.json', '6718_A2LEBJJDE000451_1605766674770_5_RH.json', '2326_A2LEBJJDE001998_1609146124324_5_RH.json', '5619_A2LEBJJDE00002B_1606016307174_5_RH.json', '8802_A2LEBJJDE00174K_1608703089274_5_RH.json', '4370_A1LCAIHDH00005Q_1608608295846_5_RH.json', '3085_A2LEBJJDE00128M_1605954946864_5_RH.json', '3275_A2LEBJJDE001766_1606196540935_5_RH.json', '6775_A2LEBJJDE00022Y_1605696909590_5_RH.json', '1069_A2LEBJJDE00094D_1606635170363_5_RH.json', '8146_A2LEBJJDE00148A_1606032369867_5_RH.json', '5569_A2LEBJJDE001211_1606093428690_5_RH.json', '0425_A2LEBJJDE00079P_1605793992832_5_RH.json', '2379_A2LEBJJDE00172Y_1605861767978_5_RH.json', '5849_A2LEBJJDE00015J_1605927708708_5_RH.json', '9447_A2LEBJJDE001951_1605868638599_5_RH.json', '0715_A2LEBJJDE00175D_1608812236230_5_RH.json', '6078_A2LEBJJDE00160J_1606098422599_5_RH.json', '4810_A2LEBJJDE00177Y_1606091249242_5_RH.json', '7851_A2LEBJJDE00074P_1606799844569_5_RH.json', '7978_A2LEBJJDE00071B_1606620341786_5_RH.json', '7216_A2LEBJJDE000125_1608014290204_5_RH.json', '7126_A2LEBJJDE001534_1605950021058_5_RH.json', '3263_A1LCAIHDH00014R_1608444331054_5_RH.json', '8297_A2LEBJJDE001076_1609125879029_5_RH.json', '1237_A2LEBJJDE001584_1606114113860_5_RH.json', '7168_A2LEBJJDE00124F_1605946362216_5_RH.json', '0715_A2LEBJJDE00175D_1608811886101_5_RH.json', '6367_A2LEBJJDE00038L_1606031956139_5_RH.json', '4795_A2LEBJJDE00113S_1606979688096_5_RH.json', '6995_A2LEBJJDE00104R_1606012446046_5_RH.json', '3677_A2LEBJJDE00087X_1606018271079_5_RH.json', '9578_A2LEBJJDE00105K_1609039895679_5_RH.json', '9202_A2LEBJJDE00082X_1605970096097_5_RH.json', '9643_A2LEBJJDE00061H_1605853448550_5_RH.json', '2983_A2LEBJJDE001261_1606128283847_5_RH.json', '2637_A2LEBJJDE00099D_1605854448212_5_RH.json', '1407_A2LEBJJDE001258_1606209365493_5_RH.json', '4370_A1LCAIHDH00005Q_1607827717573_5_RH.json', '6995_A2LEBJJDE00104R_1606534582398_5_RH.json', '3006_A1LCAIHDH00007C_1608365801642_5_RH.json', '1237_A2LEBJJDE001584_1606115134350_5_RH.json', '0425_A2LEBJJDE00079P_1606536404622_5_RH.json', '2326_A2LEBJJDE00037S_1605769474336_5_RH.json', '8281_A2LEBJJDE00055U_1606034590479_5_RH.json', '6718_A2LEBJJDE000451_1605849262479_5_RH.json', '1221_A1LCAIHDH00009X_1607924552969_5_RH.json', '1145_A2LEBJJDE00119L_1606017671063_5_RH.json', '6078_A2LEBJJDE00160J_1606098497910_5_RH.json', '3755_A2LEBJJDE001857_1608269782027_5_RH.json', '4919_A2LEBJJDE00064V_1605852069241_5_RH.json', '1237_A2LEBJJDE001584_1606115279874_5_RH.json', '3046_A2LEBJJDE00089J_1605936853495_5_RH.json', '3275_A2LEBJJDE001766_1606031411018_5_RH.json', '4478_A2LEBJJDE00052G_1606370928922_5_RH.json', '4263_A2LEBJJDE00062A_1606448031739_5_RH.json', '1983_A2LEBJJDE00188L_1606101756504_5_RH.json', '4795_A2LEBJJDE00113S_1606899464554_5_RH.json', '1237_A2LEBJJDE001584_1606114181798_5_RH.json', '2327_A2LEBJJDE00091Y_1605859730106_5_RH.json', '4659_A2LEBJJDE001349_1605693612007_5_RH.json', '7216_A2LEBJJDE000125_1602576253725_5_RH.json', '8802_A2LEBJJDE00174K_1608699988255_5_RH.json', '4263_A2LEBJJDE00062A_1606456299508_5_RH.json', '2950_A2LEBJJDE00084J_1605838531562_5_RH.json', '7698_A2LEBJJDE00165J_1606215778960_5_RH.json', '4263_A2LEBJJDE00062A_1606200691228_5_RH.json', '8281_A2LEBJJDE00055U_1605850379936_5_RH.json', '4970_A1LCAIHDH00010K_1609226563425_5_RH.json', '4970_A1LCAIHDH00010K_1608530825112_5_RH.json', '9244_A2LEBJJDE00154W_1606129792225_5_RH.json', '0425_A2LEBJJDE00079P_1605793962611_5_RH.json', '0703_A2LEBJJDE000774_1605864962241_5_RH.json', '2326_A2LEBJJDE001998_1606029661835_5_RH.json', '4263_A2LEBJJDE00062A_1606530203254_5_RH.json', '1080_A2LEBJJDE00092R_1606124460637_5_RH.json', '5255_A2LEBJJDE00007B_1606204699751_5_RH.json', '7338_A2LEBJJDE00006I_1605156876364_5_RH.json', '4370_A1LCAIHDH00005Q_1608705089956_5_RH.json', '9874_A2LEBJJDE00123M_1606990214107_5_RH.json', '3263_A1LCAIHDH00014R_1609043461086_5_RH.json', '1407_A2LEBJJDE001258_1606031799882_5_RH.json', '7418_A2LEBJJDE00080C_1606118835092_5_RH.json', '8297_A2LEBJJDE001076_1608701046257_5_RH.json', '4795_A2LEBJJDE00113S_1605835831248_5_RH.json', '4263_A2LEBJJDE00062A_1606448370387_5_RH.json', '2404_A2LEBJJDE00020D_1606021353583_5_RH.json', '5569_A2LEBJJDE001211_1608442830601_5_RH.json', '4307_A2LEBJJDE000683_1606655915741_5_RH.json', '4133_A1LCAIHDH000035_1608959588040_5_RH.json', '0425_A2LEBJJDE00079P_1605794002923_5_RH.json', '1237_A2LEBJJDE001584_1606115121793_5_RH.json', '2278_A2LEBJJDE00181Z_1606655347826_5_RH.json', '0770_A2LEBJJDE000865_1606290743489_5_RH.json', '2327_A2LEBJJDE00091Y_1606200807443_5_RH.json', '2996_A2LEBJJDE00083Q_1606364335653_5_RH.json', '7978_A2LEBJJDE00071B_1606818862603_5_RH.json', '5569_A2LEBJJDE001211_1608442410546_5_RH.json', '1407_A2LEBJJDE001258_1606021033575_5_RH.json', '8802_A2LEBJJDE00174K_1608703066168_5_RH.json', '4810_A2LEBJJDE00177Y_1606091477766_5_RH.json', '6078_A2LEBJJDE00160J_1606097820101_5_RH.json', '0715_A2LEBJJDE00175D_1608812400273_5_RH.json', '3677_A2LEBJJDE00087X_1605849607664_5_RH.json', '1237_A2LEBJJDE001584_1606114570967_5_RH.json', '3263_A1LCAIHDH00014R_1608263702780_5_RH.json', '3275_A2LEBJJDE001766_1605941264617_5_RH.json', '1237_A2LEBJJDE001584_1606113426454_5_RH.json', '2379_A2LEBJJDE00172Y_1605860519735_5_RH.json', '3006_A1LCAIHDH00007C_1608273106853_5_RH.json', '7366_A2LEBJJDE00143A_1605958618402_5_RH.json', '9643_A2LEBJJDE00061H_1606017310690_5_RH.json', '9578_A2LEBJJDE00105K_1608459359672_5_RH.json', '3275_A2LEBJJDE001766_1606025656019_5_RH.json', '0616_A2LEBJJDE00004W_1605868438019_5_RH.json', '7366_A2LEBJJDE00088Q_1606891340126_5_RH.json', '4795_A2LEBJJDE00113S_1605849246282_5_RH.json', '2326_A2LEBJJDE001998_1608278137742_5_RH.json', '9578_A2LEBJJDE00105K_1606538049637_5_RH.json', '5009_A1LCAIHDH00020E_1608273231162_5_RH.json', '7978_A2LEBJJDE00071B_1606546517919_5_RH.json', '2032_A2LEBJJDE00152B_1606625629144_5_RH.json', '9338_A2LEBJJDE00101D_1606737978866_5_RH.json', '9578_A2LEBJJDE00105K_1606024613285_5_RH.json', '1983_A2LEBJJDE00188L_1606101729971_5_RH.json', '3677_A2LEBJJDE00087X_1606007549206_5_RH.json', '1743_A2LEBJJDE00031Z_1605924026719_5_RH.json', '8146_A2LEBJJDE00148A_1605934806577_5_RH.json', '4970_A1LCAIHDH00010K_1608705550160_5_RH.json', '0888_A2LEBJJDE001948_1605948392873_5_RH.json', '7297_A2LEBJJDE00151I_1606280260986_5_RH.json', '2326_A2LEBJJDE001998_1606959681624_5_RH.json', '9202_A2LEBJJDE00082X_1606565739584_5_RH.json', '4659_A2LEBJJDE001349_1605866617073_5_RH.json', '8802_A2LEBJJDE00174K_1608697872552_5_RH.json', '5939_A2LEBJJDE00129F_1606551929282_5_RH.json', '0770_A2LEBJJDE000865_1606809683084_5_RH.json', '5569_A2LEBJJDE001211_1606621345294_5_RH.json', '2688_A2LEBJJDE00115E_1605933661197_5_RH.json', '0616_A2LEBJJDE00004W_1606017745245_5_RH.json', '3755_A2LEBJJDE001857_1608272786780_5_RH.json', '3085_A2LEBJJDE00128M_1606193567299_5_RH.json', '8212_A2LEBJJDE00070I_1607071599291_5_RH.json', '3263_A1LCAIHDH00014R_1608640622850_5_RH.json', '7698_A2LEBJJDE00165J_1606091175750_5_RH.json', '9578_A2LEBJJDE00105K_1608953357728_5_RH.json', '7229_A2LEBJJDE00142H_1606008402691_5_RH.json', '7126_A2LEBJJDE001534_1606371462133_5_RH.json', '2326_A2LEBJJDE00037S_1605783609321_5_RH.json', '3365_A2LEBJJDE00106D_1608871924695_5_RH.json', '8146_A2LEBJJDE00011C_1605869161022_5_RH.json', '2522_A2LEBJJDE00014Q_1605782545853_5_RH.json', '8802_A2LEBJJDE00174K_1608698903566_5_RH.json', '1237_A2LEBJJDE001584_1606115412843_5_RH.json', '2278_A2LEBJJDE00181Z_1606653856572_5_RH.json', '4263_A2LEBJJDE00062A_1606536132991_5_RH.json', '3275_A2LEBJJDE001766_1606032892841_5_RH.json', '0770_A2LEBJJDE000865_1608447043413_5_RH.json', '2637_A2LEBJJDE00099D_1605925615989_5_RH.json', '1983_A2LEBJJDE00188L_1606101656995_5_RH.json', '5569_A2LEBJJDE001211_1608884078374_5_RH.json', '4370_A1LCAIHDH00005Q_1608865500390_5_RH.json', '0703_A2LEBJJDE000774_1606010115686_5_RH.json', '1069_A2LEBJJDE00094D_1606905549131_5_RH.json', '2379_A2LEBJJDE00172Y_1605861316848_5_RH.json', '2379_A2LEBJJDE00172Y_1605860429334_5_RH.json', '9578_A2LEBJJDE00105K_1608434322243_5_RH.json', '5619_A2LEBJJDE00002B_1606116678799_5_RH.json', '8802_A2LEBJJDE00174K_1608703302532_5_RH.json', '9244_A2LEBJJDE00154W_1606130590991_5_RH.json', '8999_A2LEBJJDE00001I_1604718732223_5_RH.json', '1145_A2LEBJJDE00119L_1605952408186_5_RH.json', '4795_A2LEBJJDE00113S_1606899678807_5_RH.json', '2326_A2LEBJJDE00037S_1606019778314_5_RH.json', '1221_A1LCAIHDH00009X_1609131115300_5_RH.json', '1221_A1LCAIHDH00009X_1607924836509_5_RH.json', '8262_A2LEBJJDE00047M_1602747494263_5_RH.json', '4919_A2LEBJJDE00064V_1605779356444_5_RH.json', '1237_A2LEBJJDE001584_1606115018982_5_RH.json', '1145_A2LEBJJDE00119L_1605952750123_5_RH.json', '4263_A2LEBJJDE00062A_1606449096400_5_RH.json']\n"
          ]
        }
      ]
    },
    {
      "cell_type": "code",
      "source": [
        "print(six_exist)"
      ],
      "metadata": {
        "colab": {
          "base_uri": "https://localhost:8080/"
        },
        "id": "-aCnOH0k-9qD",
        "outputId": "4f90161b-981f-47e0-a56c-c5a30ba35152"
      },
      "execution_count": 50,
      "outputs": [
        {
          "output_type": "stream",
          "name": "stdout",
          "text": [
            "['3275_A2LEBJJDE001766_1606200471630_6_BH.json', '2800_A2LEBJJDE00036Z_1605934724335_6_BH.json', '3006_A1LCAIHDH00007C_1608279332286_6_BH.json', '4307_A2LEBJJDE000683_1606654833520_6_BH.json', '4232_A2LEBJJDE00146O_1606968690585_6_BH.json', '4263_A2LEBJJDE00062A_1606623899042_6_BH.json', '9338_A2LEBJJDE00101D_1606112312850_6_BH.json', '7978_A2LEBJJDE00071B_1606645138876_6_BH.json', '5569_A2LEBJJDE001211_1609045041662_6_BH.json', '1069_A2LEBJJDE00094D_1607049085395_6_BH.json', '8111_A2LEBJJDE00112Z_1605946821048_6_BH.json', '2602_A1LCAIHDH00013Y_1609579741099_6_BH.json', '3365_A2LEBJJDE00106D_1606030600728_6_BH.json', '5849_A2LEBJJDE00015J_1605928590040_6_BH.json', '9338_A2LEBJJDE00101D_1606019987588_6_BH.json', '2326_A2LEBJJDE001998_1606210163089_6_BH.json', '2820_A2LEBJJDE00179K_1605694131266_6_BH.json', '3006_A1LCAIHDH00007C_1608612515526_6_BH.json', '7366_A2LEBJJDE00143A_1605955098808_6_BH.json', '2996_A2LEBJJDE00083Q_1605952612893_6_BH.json', '3332_A2LEBJJDE00100K_1605864790701_6_BH.json', '3085_A2LEBJJDE00128M_1606097565486_6_BH.json', '6825_A1LCAIHDH00018Y_1608277992113_6_BH.json', '3216_A1LCAIHDH00006J_1609561662580_6_BH.json', '4970_A1LCAIHDH00010K_1608539729369_6_BH.json', '1237_A2LEBJJDE001584_1606114848894_6_BH.json', '8281_A2LEBJJDE00055U_1605863376758_6_BH.json', '1221_A1LCAIHDH00009X_1608858479716_6_BH.json', '1237_A2LEBJJDE001584_1606115348083_6_BH.json', '1069_A2LEBJJDE00094D_1609046771495_6_BH.json', '4370_A1LCAIHDH00005Q_1608605205880_6_BH.json', '7978_A2LEBJJDE00071B_1606729735664_6_BH.json', '6367_A2LEBJJDE00038L_1606104696405_6_BH.json', '1237_A2LEBJJDE001584_1606114388582_6_BH.json', '1237_A2LEBJJDE001584_1606115236401_6_BH.json', '3263_A1LCAIHDH00014R_1608362006398_6_BH.json', '2404_A2LEBJJDE000175_1605841061370_6_BH.json', '2585_A2LEBJJDE001302_1606013189664_6_BH.json', '0425_A2LEBJJDE00079P_1605793691203_6_BH.json', '5849_A2LEBJJDE00015J_1605926133878_6_BH.json', '0888_A2LEBJJDE001948_1605945417329_6_BH.json', '0616_A2LEBJJDE00004W_1606017079989_6_BH.json', '6078_A2LEBJJDE00160J_1606098189827_6_BH.json', '8802_A2LEBJJDE00174K_1608699428423_6_BH.json', '1069_A2LEBJJDE00094D_1606616184091_6_BH.json', '2379_A2LEBJJDE00172Y_1605860357170_6_BH.json', '1407_A2LEBJJDE001258_1605931649980_6_BH.json', '7985_A1LCAIHDH00011D_1608871358830_6_BH.json', '9887_A2LEBJJDE00066H_1605943866155_6_BH.json', '0425_A2LEBJJDE00079P_1605793823284_6_BH.json', '7366_A2LEBJJDE00143A_1605921583748_6_BH.json', '4557_A2LEBJJDE00043F_1605837578140_6_BH.json', '2404_A2LEBJJDE000175_1605845375547_6_BH.json', '9643_A2LEBJJDE00061H_1606040256490_6_BH.json', '8146_A2LEBJJDE00148A_1606032014916_6_BH.json', '1983_A2LEBJJDE00188L_1606102558730_6_BH.json', '5939_A2LEBJJDE00129F_1606525725962_6_BH.json', '0770_A2LEBJJDE000865_1606119933738_6_BH.json', '9316_A2LEBJJDE00034E_1605337295250_6_BH.json', '2469_A2LEBJJDE00019Q_1605943493447_6_BH.json', '4133_A1LCAIHDH000035_1609407641722_6_BH.json', '2950_A2LEBJJDE00084J_1605763266626_6_BH.json', '0888_A2LEBJJDE001948_1605941352065_6_BH.json', '9244_A2LEBJJDE00154W_1606129900789_6_BH.json', '7418_A2LEBJJDE000724_1605849920306_6_BH.json', '7297_A2LEBJJDE00151I_1606702442231_6_BH.json', '3677_A2LEBJJDE00087X_1606028149905_6_BH.json', '7985_A1LCAIHDH00011D_1607860223894_6_BH.json', '2720_A2LEBJJDE000401_1606471991614_6_BH.json', '4263_A2LEBJJDE00062A_1606200417968_6_BH.json', '2032_A2LEBJJDE00152B_1606625548070_6_BH.json', '1743_A2LEBJJDE00031Z_1605865759604_6_BH.json', '3065_A2LEBJJDE00103Y_1605949638788_6_BH.json', '2820_A2LEBJJDE00179K_1605710499463_6_BH.json', '4263_A2LEBJJDE00062A_1606387187420_6_BH.json', '9338_A2LEBJJDE00101D_1606742977984_6_BH.json', '4133_A1LCAIHDH000035_1608693266397_6_BH.json', '1981_A2LEBJJDE001901_1605783153390_6_BH.json', '5255_A2LEBJJDE00007B_1606102326680_6_BH.json', '8896_A2LEBJJDE001807_1606119426948_6_BH.json', '1407_A2LEBJJDE001258_1606124006478_6_BH.json', '0733_A2LEBJJDE000084_1606269397346_6_BH.json', '3263_A1LCAIHDH00014R_1608965919336_6_BH.json', '2327_A2LEBJJDE00091Y_1608871383563_6_BH.json', '4370_A1LCAIHDH00005Q_1608799229307_6_BH.json', '2585_A2LEBJJDE001302_1605921458806_6_BH.json', '1069_A2LEBJJDE00094D_1607145184578_6_BH.json', '7988_A2LEBJJDE000357_1604719267618_6_BH.json', '2326_A2LEBJJDE00037S_1605769440725_6_BH.json', '3677_A2LEBJJDE00087X_1606120209463_6_BH.json', '2326_A2LEBJJDE00037S_1606446425382_6_BH.json', '4263_A2LEBJJDE00062A_1606200324124_6_BH.json', '9244_A2LEBJJDE00154W_1606130200527_6_BH.json', '1983_A2LEBJJDE00188L_1606102321893_6_BH.json', '4478_A2LEBJJDE00052G_1606209868735_6_BH.json', '7851_A2LEBJJDE00074P_1608977191701_6_BH.json', '7988_A2LEBJJDE000357_1605153043538_6_BH.json', '3365_A2LEBJJDE00106D_1606617312097_6_BH.json', '8146_A2LEBJJDE00148A_1602926493870_6_BH.json', '7988_A2LEBJJDE000357_1606032269856_6_BH.json', '9400_A2LEBJJDE00078W_1603433188650_6_BH.json', '6570_A2LEBJJDE001675_1607315115137_6_BH.json', '1963_A2LCBJCAC00003V_1609129435875_6_BH.json', '1069_A2LEBJJDE00094D_1606903427534_6_BH.json', '8100_A2LEBJJDE00010J_1605860096932_6_BH.json', '8896_A2LEBJJDE001807_1605765181582_6_BH.json', '2800_A2LEBJJDE00036Z_1605836055642_6_BH.json', '4717_A2LEBJJDE001208_1605949137606_6_BH.json', '9202_A2LEBJJDE00082X_1606137995963_6_BH.json', '5009_A1LCAIHDH00020E_1608948532591_6_BH.json', '2326_A2LEBJJDE00037S_1606461038450_6_BH.json', '1743_A2LEBJJDE00031Z_1605953462478_6_BH.json', '2479_A2LEBJJDE00147H_1605922561102_6_BH.json', '0425_A2LEBJJDE00079P_1606637425479_6_BH.json', '1237_A2LEBJJDE001584_1606114077081_6_BH.json', '9338_A2LEBJJDE00101D_1606553127592_6_BH.json', '3263_A1LCAIHDH00014R_1609043812728_6_BH.json', '3263_A1LCAIHDH00014R_1608777751162_6_BH.json', '7366_A2LEBJJDE00143A_1605956073896_6_BH.json', '9578_A2LEBJJDE00105K_1605864452913_6_BH.json', '7988_A2LEBJJDE000357_1604810271358_6_BH.json', '1237_A2LEBJJDE001584_1606115252601_6_BH.json', '2326_A2LEBJJDE00037S_1607589032173_6_BH.json', '8802_A2LEBJJDE00174K_1608700737890_6_BH.json', '1080_A2LEBJJDE00092R_1605955153463_6_BH.json', '1407_A2LEBJJDE001258_1606104267519_6_BH.json', '7701_A1LCAIHDH000085_1609566106455_6_BH.json', '2326_A2LEBJJDE001998_1608956228235_6_BH.json', '9578_A2LEBJJDE00105K_1606119729121_6_BH.json', '8366_A2LEBJJDE00196T_1606015457272_6_BH.json', '5009_A1LCAIHDH00020E_1608290327063_6_BH.json', '7670_A1LCAIHDH000126_1609467523244_6_BH.json', '0616_A2LEBJJDE00004W_1606021741936_6_BH.json', '9296_A2LEBJJDE00073W_1604114569708_6_BH.json', '8146_A2LEBJJDE00148A_1603781697194_6_BH.json', '6078_A2LEBJJDE00160J_1606098020132_6_BH.json', '6825_A1LCAIHDH00018Y_1609484158021_6_BH.json', '9356_A2LEBJJDE00192M_1607063779477_6_BH.json', '4133_A1LCAIHDH000035_1607674414669_6_BH.json', '3269_A2LEBJJDE00096Y_1609136118976_6_BH.json', '2996_A2LEBJJDE00083Q_1606616082691_6_BH.json', '8802_A2LEBJJDE00174K_1608698090131_6_BH.json', '4133_A1LCAIHDH000035_1608692855831_6_BH.json', '9447_A2LEBJJDE001951_1606018809371_6_BH.json', '3263_A1LCAIHDH00014R_1608713043136_6_BH.json', '5255_A2LEBJJDE00007B_1606803175915_6_BH.json', '6078_A2LEBJJDE00160J_1606098036132_6_BH.json', '3937_A2LEBJJDE00046T_1605929384070_6_BH.json', '6078_A2LEBJJDE00160J_1606098703573_6_BH.json', '6729_A2LEBJJDE00028R_1605694331945_6_BH.json', '8337_A2LEBJJDE00109R_1605853540813_6_BH.json', '8297_A2LEBJJDE001076_1608612326906_6_BH.json', '1237_A2LEBJJDE001584_1606115436452_6_BH.json', '7978_A2LEBJJDE00071B_1606207761743_6_BH.json', '7670_A1LCAIHDH000126_1609648809001_6_BH.json', '3365_A2LEBJJDE00106D_1608369164178_6_BH.json', '8802_A2LEBJJDE00178R_1606212131777_6_BH.json', '2379_A2LEBJJDE00172Y_1605861488340_6_BH.json', '9316_A2LEBJJDE00034E_1605768457038_6_BH.json', '8802_A2LEBJJDE00174K_1608699005537_6_BH.json', '7168_A2LEBJJDE00124F_1606011323127_6_BH.json', '1237_A2LEBJJDE001584_1606114225119_6_BH.json', '1237_A2LEBJJDE001584_1606113741527_6_BH.json', '2522_A2LEBJJDE00014Q_1605952686192_6_BH.json', '2326_A2LEBJJDE001998_1608626652600_6_BH.json', '4919_A2LEBJJDE00064V_1605682586664_6_BH.json', '3006_A1LCAIHDH00007C_1608363958408_6_BH.json', '3677_A2LEBJJDE00087X_1606029019854_6_BH.json', '0616_A2LEBJJDE00004W_1606019627220_6_BH.json', '7297_A2LEBJJDE00151I_1606700020133_6_BH.json', '2326_A2LEBJJDE00037S_1606204845643_6_BH.json', '1237_A2LEBJJDE001584_1606114836011_6_BH.json', '2709_A2LEBJJDE000216_1607078652350_6_BH.json', '8802_A2LEBJJDE00174K_1608701117100_6_BH.json', '5644_A2LEBJJDE00198F_1606015609281_6_BH.json', '7670_A1LCAIHDH000126_1609128609718_6_BH.json', '8366_A2LEBJJDE00196T_1604634197671_6_BH.json', '5619_A2LEBJJDE00002B_1605954996325_6_BH.json', '8366_A2LEBJJDE00196T_1605154223008_6_BH.json', '0770_A2LEBJJDE000865_1608807120890_6_BH.json', '9202_A2LEBJJDE00082X_1606051745106_6_BH.json', '2762_A2LEBJJDE000498_1606033843458_6_BH.json', '2522_A2LEBJJDE00014Q_1606979393860_6_BH.json', '1069_A2LEBJJDE00094D_1606026819071_6_BH.json', '8814_A2LEBJJDE00118S_1604731540243_6_BH.json', '1534_A2LEBJJDE00133G_1607072983774_6_BH.json', '0844_A2LEBJJDE00067A_1605839819910_6_BH.json', '4133_A1LCAIHDH000035_1609147896407_6_BH.json', '8802_A2LEBJJDE00178R_1605834350572_6_BH.json', '7418_A2LEBJJDE000724_1605785158055_6_BH.json', '7701_A1LCAIHDH000085_1610012542855_6_BH.json', '0425_A2LEBJJDE00079P_1606551350022_6_BH.json', '4263_A2LEBJJDE00062A_1606296981511_6_BH.json', '3085_A2LEBJJDE00128M_1606185048987_6_BH.json', '8802_A2LEBJJDE00174K_1608700894939_6_BH.json', '0617_A2LEBJJDE000815_1606648698881_6_BH.json', '2800_A2LEBJJDE00036Z_1605690390989_6_BH.json', '9202_A2LEBJJDE00082X_1606647516506_6_BH.json', '4267_A1LCAIHDH00016D_1608368685819_6_BH.json', '3755_A2LEBJJDE001857_1608270272310_6_BH.json', '6825_A1LCAIHDH00018Y_1609053948251_6_BH.json', '1069_A2LEBJJDE00094D_1605755882065_6_BH.json', '7366_A2LEBJJDE00088Q_1606890714244_6_BH.json', '5255_A2LEBJJDE00007B_1606109200750_6_BH.json', '3654_A2LEBJJDE00016C_1606101414683_6_BH.json', '7229_A2LEBJJDE00142H_1605951153350_6_BH.json', '8833_A2LEBJJDE00156I_1605932367647_6_BH.json', '8999_A2LEBJJDE00001I_1606459011150_6_BH.json', '1069_A2LEBJJDE00094D_1606028340490_6_BH.json', '3937_A2LEBJJDE00046T_1605924873143_6_BH.json']\n"
          ]
        }
      ]
    },
    {
      "cell_type": "code",
      "source": [
        "total_json = []"
      ],
      "metadata": {
        "id": "nJ-RnPBS_Eth"
      },
      "execution_count": 53,
      "outputs": []
    },
    {
      "cell_type": "code",
      "source": [
        "for json_list in [two_exist, three_exist, four_exist, five_exist, six_exist]:\n",
        "  for name in json_list:\n",
        "    total_json.append(name)"
      ],
      "metadata": {
        "id": "qMHRiOsp_ayR"
      },
      "execution_count": 54,
      "outputs": []
    },
    {
      "cell_type": "code",
      "source": [
        "print(len(total_json))\n",
        "\n",
        "# total_json: unique 한 개인의 json 이름"
      ],
      "metadata": {
        "colab": {
          "base_uri": "https://localhost:8080/"
        },
        "id": "JOaT7g6J_QHu",
        "outputId": "d2ed6fc5-0215-4485-f9c5-a35a390a337d"
      },
      "execution_count": 55,
      "outputs": [
        {
          "output_type": "stream",
          "name": "stdout",
          "text": [
            "6580\n"
          ]
        }
      ]
    },
    {
      "cell_type": "markdown",
      "source": [
        "+ 데이터 프레임 형성하기"
      ],
      "metadata": {
        "id": "A6vg69oJAUdU"
      }
    }
  ]
}