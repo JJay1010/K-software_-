{
  "cells": [
    {
      "cell_type": "markdown",
      "metadata": {
        "id": "view-in-github",
        "colab_type": "text"
      },
      "source": [
        "<a href=\"https://colab.research.google.com/github/JJay1010/K-software_-/blob/main/UnggyuLee/q4.ipynb\" target=\"_parent\"><img src=\"https://colab.research.google.com/assets/colab-badge.svg\" alt=\"Open In Colab\"/></a>"
      ]
    },
    {
      "cell_type": "code",
      "execution_count": null,
      "metadata": {
        "id": "O3V49Atzty8k",
        "outputId": "96a699c5-d282-4b30-c670-25fd3f232e1a"
      },
      "outputs": [
        {
          "name": "stdout",
          "output_type": "stream",
          "text": [
            "123\n",
            "{'image_id': '0013_A2LEBJJDE00060O_1606550825417_3', 'image_file_name': '0013_A2LEBJJDE00060O_1606550825417_3_TH.jpg', 'value_1': '0', 'value_2': '0', 'value_3': '0', 'value_4': '0', 'value_5': '0', 'value_6': '0'}\n"
          ]
        }
      ],
      "source": [
        "import glob\n",
        "import json\n",
        "#데이터 읽기\n",
        "\n",
        "rootDir = 'C:/Users/lee/Desktop/swbootcamp/p4/유형별 두피 이미지/Training/'\n",
        "\n",
        "labelDirs = glob.glob(rootDir+'**/*.json',recursive=True)\n",
        "imgDirs = glob.glob(rootDir+'**/*.jpg',recursive=True)\n",
        "\n",
        "\n",
        "with open(labelDirs[0],'r',encoding='UTF8') as file:\n",
        "            data = json.load(file)\n",
        "            print(data)\n",
        "            file.close()"
      ]
    },
    {
      "cell_type": "markdown",
      "metadata": {
        "id": "Aw2umnuity8n"
      },
      "source": [
        "라벨링 방식\n",
        "        val1    val2       val3     val4        val5    val6\n",
        "순서 : 미세각질,피지과다,모낭사이홍반,모낭홍반/농포,비듬,탈모\n",
        "(01) <-상관없음\n",
        "\n",
        "양호 : 000000\n",
        "건성 : 100000\n",
        "지성 : 010000\n",
        "민감성 : (01)01000\n",
        "지루성 : (01)11000\n",
        "염증성 : (01)(01)01(01)0\n",
        "비듬성 : (01)(01)0010\n",
        "탈모성 : 000001"
      ]
    },
    {
      "cell_type": "markdown",
      "metadata": {
        "id": "8budk_p8ty8p"
      },
      "source": [
        "내일할일\n",
        "json에서 value 1~ value6 값을 읽어서 어떤 상태인지 판단 후 전처리\n",
        "예) 이미지 1, 양호 와 같은 식으로 이미지와 라벨 매칭\n"
      ]
    }
  ],
  "metadata": {
    "kernelspec": {
      "display_name": "Python 3",
      "language": "python",
      "name": "python3"
    },
    "language_info": {
      "codemirror_mode": {
        "name": "ipython",
        "version": 3
      },
      "file_extension": ".py",
      "mimetype": "text/x-python",
      "name": "python",
      "nbconvert_exporter": "python",
      "pygments_lexer": "ipython3",
      "version": "3.11.1"
    },
    "orig_nbformat": 4,
    "vscode": {
      "interpreter": {
        "hash": "fb4bef162eea76c32d185d4fbbaf4e6d99a74107d7764426e2e9408f83c476c3"
      }
    },
    "colab": {
      "provenance": [],
      "include_colab_link": true
    }
  },
  "nbformat": 4,
  "nbformat_minor": 0
}