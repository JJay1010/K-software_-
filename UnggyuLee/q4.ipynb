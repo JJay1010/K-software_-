{
  "cells": [
    {
      "cell_type": "markdown",
      "metadata": {
        "id": "view-in-github",
        "colab_type": "text"
      },
      "source": [
        "<a href=\"https://colab.research.google.com/github/JJay1010/K-software_-/blob/main/UnggyuLee/q4.ipynb\" target=\"_parent\"><img src=\"https://colab.research.google.com/assets/colab-badge.svg\" alt=\"Open In Colab\"/></a>"
      ]
    },
    {
      "cell_type": "code",
      "execution_count": null,
      "metadata": {
        "id": "ehvNBq-cBwxu",
        "outputId": "9e03f94e-5335-4b38-f858-1a88b51bc484"
      },
      "outputs": [
        {
          "data": {
            "text/plain": [
              "'\\nfor lDir in labelDirs:\\n    length = length -1\\n    print(\"\\r남은수 : \",length,end=\\'\\')\\n    with open(labelDirs[0],\\'r\\',encoding=\\'UTF8\\') as file:\\n            data = json.load(file)\\n            #print(data)\\n            #print(data[\\'value_1\\']+data[\\'value_2\\']+data[\\'value_3\\']+data[\\'value_4\\']+data[\\'value_5\\']+data[\\'value_6\\'])\\n            encodedStatus = data[\\'value_1\\']+data[\\'value_2\\']+data[\\'value_3\\']+data[\\'value_4\\']+data[\\'value_5\\']+data[\\'value_6\\']\\n            labels.append(decodeStatus(encodedStatus))\\n        \\n            imgDir = (labelDirs[0].replace(\\'라벨\\',\\'원천\\')).replace(\\'json\\',\\'jpg\\')\\n            #print(imgDir)\\n            imgData = Image.open(imgDir)\\n            temp = np.array(imgData)\\n            temp =temp/255\\n            temp = temp.reshape(-1,width,height,3)\\n\\n            imgs.append(temp)\\n            imgData.close()\\n            file.close()\\n            '"
            ]
          },
          "execution_count": 111,
          "metadata": {},
          "output_type": "execute_result"
        }
      ],
      "source": [
        "import glob\n",
        "import json\n",
        "from PIL import Image\n",
        "import re\n",
        "import numpy as np\n",
        "import tensorflow\n",
        "#데이터 읽기import glob\n",
        "import numpy as np\n",
        "import pandas as pd\n",
        "import os\n",
        "\n",
        "from keras import Sequential\n",
        "from keras.layers import Conv2D, MaxPool2D\n",
        "from keras.layers import Flatten, Dense, Dropout\n",
        "import keras\n",
        "import matplotlib.pyplot as plt\n",
        "rootDir = 'C:/Users/lee/Desktop/swbootcamp/p4/유형별 두피 이미지/Training/'\n",
        "\n",
        "labelDirs = glob.glob(rootDir+'**/*.json',recursive=True)\n",
        "#imgDirs = glob.glob(rootDir+'**/*.jpg',recursive=True)\n",
        "\n",
        "imgs =[]\n",
        "labels = []\n",
        "width = 150\n",
        "height =150\n",
        "def decodeStatus(encodedStatus):\n",
        "    s0=re.compile('000000')\n",
        "    s1=re.compile('[123]00000')\n",
        "    s2=re.compile('0[123]0000')\n",
        "    s3=re.compile('[0123]0[123]000')\n",
        "    s4=re.compile('[0123][123][123]000')\n",
        "    s5=re.compile('[0123][0123]0[123][0123]0')\n",
        "    s6=re.compile('[0123][0123]00[123]0')\n",
        "    s7=re.compile('00000[123]')\n",
        "    if(s0.match(encodedStatus)):\n",
        "        return 0\n",
        "    elif(s1.match(encodedStatus)):\n",
        "        return 1\n",
        "    elif(s2.match(encodedStatus)):\n",
        "        return 2\n",
        "    elif(s3.match(encodedStatus)):\n",
        "        return 3\n",
        "    elif(s4.match(encodedStatus)):\n",
        "        return 4\n",
        "    elif(s5.match(encodedStatus)):\n",
        "        return 5\n",
        "    elif(s6.match(encodedStatus)):\n",
        "        return 6\n",
        "    elif(s7.match(encodedStatus)):\n",
        "        return 7\n",
        "    else:\n",
        "        #print(encodedStatus)\n",
        "        #print(\"abnormal pattern\")\n",
        "        return -1\n",
        "\n",
        "\"\"\"\n",
        "for lDir in labelDirs:\n",
        "    length = length -1\n",
        "    print(\"\\r남은수 : \",length,end='')\n",
        "    with open(labelDirs[0],'r',encoding='UTF8') as file:\n",
        "            data = json.load(file)\n",
        "            #print(data)\n",
        "            #print(data['value_1']+data['value_2']+data['value_3']+data['value_4']+data['value_5']+data['value_6'])\n",
        "            encodedStatus = data['value_1']+data['value_2']+data['value_3']+data['value_4']+data['value_5']+data['value_6']\n",
        "            labels.append(decodeStatus(encodedStatus))\n",
        "        \n",
        "            imgDir = (labelDirs[0].replace('라벨','원천')).replace('json','jpg')\n",
        "            #print(imgDir)\n",
        "            imgData = Image.open(imgDir)\n",
        "            temp = np.array(imgData)\n",
        "            temp =temp/255\n",
        "            temp = temp.reshape(-1,width,height,3)\n",
        "\n",
        "            imgs.append(temp)\n",
        "            imgData.close()\n",
        "            file.close()\n",
        "            \"\"\"\n",
        "#imgs=np.array(imgs)\n",
        "#imgs=imgs/255\n",
        "#imgs=imgs.reshape(-1,width,height,3)\n",
        "  \n",
        "\n"
      ]
    },
    {
      "cell_type": "code",
      "execution_count": null,
      "metadata": {
        "id": "fBI18tD2Bwxx"
      },
      "outputs": [],
      "source": []
    },
    {
      "cell_type": "markdown",
      "metadata": {
        "id": "hLXnhInYBwxy"
      },
      "source": []
    },
    {
      "cell_type": "markdown",
      "metadata": {
        "id": "JExoJrCWBwxz"
      },
      "source": [
        "라벨링 방식\n",
        "        val1    val2       val3     val4        val5    val6  \n",
        "순서 : 미세각질,피지과다,모낭사이홍반,모낭홍반/농포,비듬,탈모  \n",
        "(01) <-상관없음\n",
        "\n",
        "양호 : 000000                                   ->regex(000000)  \n",
        "건성 : 100000                                   ->regex(100000)  \n",
        "지성 : 010000                                   ->regex(010000)  \n",
        "민감성 : (01)01000                              ->regex([01]01000)  \n",
        "지루성 : (01)11000                              ->regex([01]11000)  \n",
        "염증성 : (01)(01)01(01)0                        ->regex([01][01]01[01]0)   \n",
        "비듬성 : (01)(01)0010                           ->regex([01][01]0010)  \n",
        "탈모성 : 000001                                 ->regex(000001)\n",
        "\n",
        "상태값 매핑 : 양호0 건성1 지성2 민감성3 지루성4 염증성5 비듬성6 탈모성7 그외-1"
      ]
    },
    {
      "cell_type": "markdown",
      "metadata": {
        "id": "EFUc7LdxBwxz"
      },
      "source": [
        "내일할일\n",
        "json에서 value 1~ value6 값을 읽어서 어떤 상태인지 판단 후 전처리\n",
        "예) 이미지 1, 양호 와 같은 식으로 이미지와 라벨 매칭\n"
      ]
    },
    {
      "cell_type": "code",
      "execution_count": null,
      "metadata": {
        "id": "wwUqw-YEBwxz",
        "outputId": "b8768e89-1ded-4780-e755-afef5f51e0ec"
      },
      "outputs": [
        {
          "name": "stdout",
          "output_type": "stream",
          "text": [
            "가나a\n"
          ]
        }
      ],
      "source": [
        "print('가'+'나'+'a')"
      ]
    },
    {
      "cell_type": "markdown",
      "metadata": {
        "id": "qE9XzaeRBwx0"
      },
      "source": [
        "2일차\n",
        "문제 : 너무 많은 데이터를 메모리에 올릴 수가 없다.  \n",
        "generator을 쓰면 가능\n",
        "\n",
        "generator 써도 노트북으로는 너무 많은 시간 소모\n",
        "데이터셋을 줄일 방법을 생각해본다."
      ]
    },
    {
      "cell_type": "code",
      "execution_count": null,
      "metadata": {
        "id": "_C3qDujHBwx0",
        "outputId": "d0319da7-88cb-4ede-92a6-bba8b71662f3"
      },
      "outputs": [
        {
          "name": "stdout",
          "output_type": "stream",
          "text": [
            "Model: \"sequential_77\"\n",
            "_________________________________________________________________\n",
            " Layer (type)                Output Shape              Param #   \n",
            "=================================================================\n",
            " conv2d_156 (Conv2D)         (None, 148, 148, 32)      896       \n",
            "                                                                 \n",
            " max_pooling2d_117 (MaxPooli  (None, 74, 74, 32)       0         \n",
            " ng2D)                                                           \n",
            "                                                                 \n",
            " flatten_78 (Flatten)        (None, 175232)            0         \n",
            "                                                                 \n",
            " dense_116 (Dense)           (None, 8)                 1401864   \n",
            "                                                                 \n",
            "=================================================================\n",
            "Total params: 1,402,760\n",
            "Trainable params: 1,402,760\n",
            "Non-trainable params: 0\n",
            "_________________________________________________________________\n",
            "843/843 [==============================] - 2337s 3s/step - loss: 1.1627\n"
          ]
        },
        {
          "data": {
            "text/plain": [
              "<keras.callbacks.History at 0x2123d3dc340>"
            ]
          },
          "execution_count": 113,
          "metadata": {},
          "output_type": "execute_result"
        }
      ],
      "source": [
        "\n",
        "import tensorflow as tf\n",
        "import keras\n",
        "#모델 빌드\n",
        "model = Sequential([\n",
        "    # 특징 추출기 (Feature Extractor)\n",
        "    Conv2D(input_shape=(width, height,3), kernel_size=(3, 3), filters=32),\n",
        "    MaxPool2D(strides=(2, 2)),\n",
        "    # 다차원 이미지 => 1차원\n",
        "    Flatten(),\n",
        "    # 분류기 (Classifier)\n",
        "    Dense(units=8, activation='softmax')\n",
        "])\n",
        "model.compile(loss=\"categorical_crossentropy\", optimizer=\"adam\")\n",
        "model.summary()\n",
        "length = 0\n",
        "def gen():\n",
        "    for lDir in labelDirs:\n",
        "        with open(lDir,'r',encoding='UTF8') as file:\n",
        "                data = json.load(file)\n",
        "                #print(data)\n",
        "                #print(data['value_1']+data['value_2']+data['value_3']+data['value_4']+data['value_5']+data['value_6'])\n",
        "                encodedStatus = data['value_1']+data['value_2']+data['value_3']+data['value_4']+data['value_5']+data['value_6']\n",
        "                \n",
        "        \n",
        "                imgDir = (lDir.replace('라벨','원천')).replace('json','jpg')\n",
        "                #print(imgDir)\n",
        "                imgData = np.array(Image.open(imgDir).resize((width,height)).convert('RGB'))\n",
        "                imgData = imgData/255 \n",
        "               \n",
        "            \n",
        "\n",
        "                label = decodeStatus(encodedStatus)\n",
        "                label=np.array(label)\n",
        "                label=keras.utils.to_categorical(label,8)\n",
        "                label=label.astype(np.int8)\n",
        "               \n",
        "\n",
        "                \n",
        "                yield(imgData,label)\n",
        "              \n",
        "d = tf.data.Dataset.from_generator(gen,(tf.int16,8),((width,height,3),(8)))\n",
        "d = d.batch(200)\n",
        "history = model.fit(d)\n"
      ]
    },
    {
      "cell_type": "markdown",
      "metadata": {
        "id": "hOhfXYGbBwx0"
      },
      "source": []
    }
  ],
  "metadata": {
    "kernelspec": {
      "display_name": "Python 3.9.13 64-bit",
      "language": "python",
      "name": "python3"
    },
    "language_info": {
      "codemirror_mode": {
        "name": "ipython",
        "version": 3
      },
      "file_extension": ".py",
      "mimetype": "text/x-python",
      "name": "python",
      "nbconvert_exporter": "python",
      "pygments_lexer": "ipython3",
      "version": "3.9.13"
    },
    "orig_nbformat": 4,
    "vscode": {
      "interpreter": {
        "hash": "376b4c866b97bcb537fd76243b4912a152612d1ec4b9d673c6b4cc2fbd99df03"
      }
    },
    "colab": {
      "provenance": [],
      "include_colab_link": true
    }
  },
  "nbformat": 4,
  "nbformat_minor": 0
}