{
  "cells": [
    {
      "cell_type": "markdown",
      "metadata": {
        "id": "view-in-github",
        "colab_type": "text"
      },
      "source": [
        "<a href=\"https://colab.research.google.com/github/JJay1010/K-software_-/blob/main/UnggyuLee/q5/q5.ipynb\" target=\"_parent\"><img src=\"https://colab.research.google.com/assets/colab-badge.svg\" alt=\"Open In Colab\"/></a>"
      ]
    },
    {
      "cell_type": "code",
      "execution_count": null,
      "metadata": {
        "id": "DcHmC5ubLKuq"
      },
      "outputs": [],
      "source": [
        "import pandas as pd\n",
        "import random\n",
        "import math\n",
        "import os\n",
        "\n",
        "from sentence_transformers import SentenceTransformer\n",
        "from sklearn.metrics.pairwise import cosine_similarity"
      ]
    },
    {
      "cell_type": "markdown",
      "metadata": {
        "id": "U0PUiABhLKut"
      },
      "source": [
        "모델 저장소 : https://huggingface.co/"
      ]
    },
    {
      "cell_type": "code",
      "execution_count": null,
      "metadata": {
        "id": "A4lSXj6VLKuv"
      },
      "outputs": [],
      "source": [
        "model = SentenceTransformer(\"jhgan/ko-sroberta-multitask\")"
      ]
    },
    {
      "cell_type": "code",
      "execution_count": null,
      "metadata": {
        "id": "do4Jr5TQLKuv"
      },
      "outputs": [],
      "source": [
        "'''\n",
        "fun fillNaN\n",
        "챗봇 대답이 NaN인 질문에 대한 챗봇대답을 생성하는 함수\n",
        "\n",
        "param df        : 대상 df\n",
        "param value     : '구분' 값\n",
        "'''\n",
        "\n",
        "def fillNaN(df, value):\n",
        "    temp1 = df[df['구분']==value].reset_index(drop=True)\n",
        "    index = random.randrange(len(temp1))\n",
        "    \n",
        "    return temp1.loc[index]['챗봇']\n",
        "\n",
        "'''\n",
        "fun chatBot\n",
        "챗봇 프로그램\n",
        "\n",
        "param data      : raw data\n",
        "prarm tempData  : data without NaN\n",
        "'''\n",
        "def chatBot(userInput,data,tempData):\n",
        "    print(userInput)\n",
        "    embedding = model.encode(userInput)\n",
        "    data['dist'] = data['embedding'].map(lambda x:cosine_similarity([embedding],[x]).squeeze())\n",
        "\n",
        "    result = data.loc[data['dist'].idxmax()]\n",
        "    resultBot = result['챗봇']\n",
        "    #resultAcc = result['dist']\n",
        "\n",
        "    if(isinstance(resultBot,float)):\n",
        "        resultSort = result['구분']\n",
        "        return fillNaN(tempData,resultSort)\n",
        "    return result\n",
        "\n",
        "def chatBotClient(data,tempData):\n",
        "    print('챗봇 \\'종료\\'입력 시 종료합니다\\n')\n",
        "    while(True):\n",
        "        userInput = input()\n",
        "        if(userInput=='종료'):\n",
        "            print('종료합니다')\n",
        "            return\n",
        "        print(chatBot(userInput,data,tempData)+'\\n',flush=True)\n",
        "\n",
        "\n"
      ]
    },
    {
      "cell_type": "code",
      "execution_count": null,
      "metadata": {
        "id": "131o4z69LKuw"
      },
      "outputs": [],
      "source": [
        "\n",
        "data = pd.read_excel('E:/q5/웰니스 대화 스크립트 데이터셋/웰니스_대화_스크립트_데이터셋.xlsx')\n",
        "tempData = data.dropna(how='any',axis=0)\n",
        "data['embedding'] = data.apply(lambda row: model.encode(row.유저), axis = 1)"
      ]
    },
    {
      "cell_type": "code",
      "execution_count": null,
      "metadata": {
        "id": "yqrml_WsLKuw",
        "outputId": "b4c3a91e-0ce0-4dee-bc9c-b14c0bbd9057"
      },
      "outputs": [
        {
          "name": "stdout",
          "output_type": "stream",
          "text": [
            "챗봇 '종료'입력 시 종료합니다\n",
            "\n",
            "배가 아파\n",
            "최근에 건강 때문에 힘드시군요. 건강을 잃은 것만큼 힘든 일은 없죠… 기운 내세요.\n",
            "\n",
            "걱정돼\n",
            "모든 문제는 해결되기 마련이잖아요. 마음을 편히 드세요.\n",
            "\n",
            "자살\n",
            "힘든 상황이시니 힘든 게 당연하다고 생각해요. 나쁜 감정을 잠깐 접어두는 게 도움이 될 거 같아요.\n",
            "\n",
            "종료합니다\n"
          ]
        }
      ],
      "source": [
        "chatBotClient(data,tempData)"
      ]
    },
    {
      "cell_type": "markdown",
      "metadata": {
        "id": "6GeI5-MYLKux"
      },
      "source": [
        "내일 할일  \n",
        "챗봇 대답이 누락된 위치에 대답 채워넣기  \n",
        "e.g) 감정/감정조절이상에는 3가지의 대답(a,b,c)이 존재한다.  \n",
        "감정/감정조절이상 구분에 속하고 대답이 NaN인 질문이 존재한다.  \n",
        "이 대답에 대해서 3가지의 대답 중 랜덤의 1개를 대답하게 한다.  \n",
        "처리완료\n"
      ]
    }
  ],
  "metadata": {
    "kernelspec": {
      "display_name": "Python 3",
      "language": "python",
      "name": "python3"
    },
    "language_info": {
      "codemirror_mode": {
        "name": "ipython",
        "version": 3
      },
      "file_extension": ".py",
      "mimetype": "text/x-python",
      "name": "python",
      "nbconvert_exporter": "python",
      "pygments_lexer": "ipython3",
      "version": "3.9.13"
    },
    "orig_nbformat": 4,
    "vscode": {
      "interpreter": {
        "hash": "865d8b2eb28e274047ba64063dfb6a2aabf0dfec4905d304d7a76618dae6fdd4"
      }
    },
    "colab": {
      "provenance": [],
      "include_colab_link": true
    }
  },
  "nbformat": 4,
  "nbformat_minor": 0
}