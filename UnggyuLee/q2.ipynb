{
 "cells": [
  {
   "attachments": {},
   "cell_type": "markdown",
   "metadata": {},
   "source": [
    "제목 : 약품식별 인공지능 개발을 위한 경구 약제 이미지 분류\n",
    "\n",
    "목표\n",
    "1. 이미지 데이터 전처리 및 데이터 확인\n",
    "2. 이미지 처리기술을 활용하여 경구 약제 이미지 분류\n",
    "\n",
    "사용 데이터셋\n",
    "\n",
    "https://aihub.or.kr/aihubdata/data/view.do?currMenu=115&topMenu=100&aihubDataSe=realm&dataSetSn=576\n",
    "\n",
    "내부의 \n",
    "ts_81_단일\n",
    "\n",
    "데이터 분석\n",
    "단일 알약에 대하여 다양한 각도 광원 등에서 촬영한 사진이 있다.\n",
    "라벨은 json파일로 주어지며 매우 다양한 데이터들이 존재한다.\n",
    "\n",
    "관심 데이터\n",
    "\n",
    "dl_mapping_code : 알약의 고유 id의 역할을 함\n",
    "\n",
    "(유형 : K-아이디) (예시 : K-111111)\n",
    "\n",
    "dl_name : 알약의 실제 이름 (유저출력용)  \n",
    "\n",
    "bbox : 사진 내 알약의 bounding box\n",
    "\n",
    "예시\n",
    "\n",
    "![](%EC%A0%9C%EB%AA%A9%20%EC%97%86%EC%9D%8C.png)\n",
    "\n",
    "\n",
    "데이터 전처리\n",
    "1. bbox의 좌표 단위로 사진 처리  \n",
    "PIL의 Image.crop(좌,상,우,하)쓰면될듯\n",
    "2. 이미지 사이즈 규격화는 1번 단계에서 처리된 이미지들 중 가장 큰 사진을 기준으로\n",
    "\n",
    "학습 및 검증\n",
    "꿀벌 과제와 유사하게 구현\n",
    "\n",
    "파일이 매우 크기 때문에 업로드 하기에는 제한되기에 로컬에서 작업"
   ]
  },
  {
   "cell_type": "code",
   "execution_count": 1,
   "metadata": {},
   "outputs": [
    {
     "name": "stdout",
     "output_type": "stream",
     "text": [
      "1\n"
     ]
    }
   ],
   "source": [
    "print(1)"
   ]
  }
 ],
 "metadata": {
  "kernelspec": {
   "display_name": "Python 3",
   "language": "python",
   "name": "python3"
  },
  "language_info": {
   "codemirror_mode": {
    "name": "ipython",
    "version": 3
   },
   "file_extension": ".py",
   "mimetype": "text/x-python",
   "name": "python",
   "nbconvert_exporter": "python",
   "pygments_lexer": "ipython3",
   "version": "3.10.9"
  },
  "orig_nbformat": 4,
  "vscode": {
   "interpreter": {
    "hash": "879b5953f4875d77391f7b79e67132ec00899bff159fe276e27ee7739d4db064"
   }
  }
 },
 "nbformat": 4,
 "nbformat_minor": 2
}
