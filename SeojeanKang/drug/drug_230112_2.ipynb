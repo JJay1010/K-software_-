{
  "nbformat": 4,
  "nbformat_minor": 0,
  "metadata": {
    "colab": {
      "provenance": [],
      "collapsed_sections": [
        "LZlrwfw3hY4p",
        "mVneUkvqg56A",
        "_A01_mCVhD0Y",
        "RbyWicH8bc-4",
        "lJ9iAvswuOxX"
      ],
      "authorship_tag": "ABX9TyO3KrbPh/IeftWIMxYsTSJK",
      "include_colab_link": true
    },
    "kernelspec": {
      "name": "python3",
      "display_name": "Python 3"
    },
    "language_info": {
      "name": "python"
    }
  },
  "cells": [
    {
      "cell_type": "markdown",
      "metadata": {
        "id": "view-in-github",
        "colab_type": "text"
      },
      "source": [
        "<a href=\"https://colab.research.google.com/github/JJay1010/K-software_-/blob/main/SeojeanKang/drug/drug_230112_2.ipynb\" target=\"_parent\"><img src=\"https://colab.research.google.com/assets/colab-badge.svg\" alt=\"Open In Colab\"/></a>"
      ]
    },
    {
      "cell_type": "markdown",
      "source": [
        "**일시**: 2023. 01. 12 (01.10~01.12 진행)\n",
        "\n",
        "**사용 데이터셋**: 경구약제 조합 5,000 조합 training - (TS_4_조합.zip, TL_4_조합.zip)\n",
        "\n",
        "(https://aihub.or.kr/aihubdata/data/view.do?currMenu=115&topMenu=100&aihubDataSe=realm&dataSetSn=576)\n",
        "\n",
        "\n",
        "**데이터셋 구축 목표**: 국내 유동되고 있는 경구약제 5,000종을 대상으로 약품식별 인공지능 개발 및 학습\n",
        "\n",
        "**환경**: 데이터 업로드하여 colab으로 작업\n",
        "\n",
        "---\n",
        "**개인 목표**: 이미지 데이터 전처리 연습\n",
        "\n",
        "\n",
        "**실행 내용**: 약제 조합 이미지 데이터 전처리 및 시각화 \n",
        "\n",
        "> img_to_json 으로 이미지 크롭하여 저장\n",
        ">\n",
        "> json 내용을 DataFrame으로 만들고, csv 파일로 저장하기\n",
        ">\n",
        "> 크롭한 이미지 tensor로 바꿔보기...\n",
        "\n",
        "**발생한 문제**: \n",
        "\n",
        "1) 이미지 파일 중 ~index.png는 크롭이 불가능하여 오류\n",
        "\n",
        "2) csv 저장할 때 한글이 깨지는 오류\n",
        "\n",
        "3) annotation에 bbox 중 일부 , 가 .로 입력된 오류\n",
        "\n",
        "**해결책**: \n",
        "\n",
        "1) re 수정하여 ~index.png를 제외한 사진 경로 리스트를 만듦\n",
        "\n",
        "2) utf-8이 아닌 utf-8-sig로 인코딩하여 해결\n",
        "\n",
        "3) bbox에 replace와 split으로 오류 수정 --> 새로운 오류 발견 \"ValueError: invalid literal for int() with base 10: ''\" ... 우선 100개만 끊어서 진행\n"
      ],
      "metadata": {
        "id": "Ec72hDnQkuEw"
      }
    },
    {
      "cell_type": "markdown",
      "source": [
        "##### import & unzip"
      ],
      "metadata": {
        "id": "LZlrwfw3hY4p"
      }
    },
    {
      "cell_type": "code",
      "source": [
        "import os\n",
        "import json\n",
        "import matplotlib.pyplot as plt\n",
        "import PIL as pil\n",
        "from PIL import Image\n",
        "import re\n",
        "import pandas as pd\n",
        "from google.colab import files\n",
        "\n",
        "import torch\n",
        "import numpy as np\n",
        "import torch.nn as nn\n",
        "import torch.nn.functional as F\n",
        "import torch.optim as optim\n",
        "from torchvision import datasets, transforms\n",
        "from torch.utils import data\n",
        "\n",
        "pd.set_option('display.max_columns', None)"
      ],
      "metadata": {
        "id": "6MejEdufwvZB"
      },
      "execution_count": 24,
      "outputs": []
    },
    {
      "cell_type": "code",
      "execution_count": 2,
      "metadata": {
        "colab": {
          "base_uri": "https://localhost:8080/"
        },
        "id": "9nJ5IJoFwPUE",
        "outputId": "9c204217-9d01-4727-cdf3-74c3f9c0ab5f"
      },
      "outputs": [
        {
          "output_type": "stream",
          "name": "stdout",
          "text": [
            "Mounted at /content/mydrive\n"
          ]
        }
      ],
      "source": [
        "from google.colab import drive\n",
        "drive.mount(\"/content/mydrive\")\n",
        "\n",
        "# 라벨링 데이터 압축 해제\n",
        "!mkdir druglabel\n",
        "!cd '/content/druglabel' # 압축을 풀 폴더 경로\n",
        "!unzip -qq '/content/mydrive/MyDrive/jan_prj/TL_4_조합.zip' -d '/content/druglabel' # 압축파일 경로\n",
        "\n",
        "# 사진 데이터 압축 해제\n",
        "!mkdir drugphoto\n",
        "!cd '/content/drugphoto' # 압축을 풀 폴더 경로\n",
        "!unzip -qq '/content/mydrive/MyDrive/jan_prj/TS_4_조합.zip' -d '/content/drugphoto' # 압축파일 경로"
      ]
    },
    {
      "cell_type": "markdown",
      "source": [
        "##### label, photo 데이터 압축 풀기 및 경로 리스트화"
      ],
      "metadata": {
        "id": "mVneUkvqg56A"
      }
    },
    {
      "cell_type": "code",
      "source": [
        "# json 레이블 경로 리스트로 만들기\n",
        "\n",
        "filepath = 'druglabel/'\n",
        "\n",
        "labeldir1 = [os.path.join(filepath, i) for i in os.listdir(filepath) if os.path.isdir(os.path.join(filepath, i))]\n",
        "\n",
        "labeldir2=[]\n",
        "for i in labeldir1:\n",
        "  fdir = os.listdir(i)\n",
        "  for j in fdir:\n",
        "    if os.path.isdir(os.path.join(i, j)):\n",
        "      labeldir2.append(i + '/' + j)\n",
        "\n",
        "labeldir3 = []\n",
        "for i in labeldir2:\n",
        "  fdir = os.listdir(i)\n",
        "  for j in fdir:\n",
        "    labeldir3.append(i + '/' + j)\n",
        "\n",
        "len(labeldir3)"
      ],
      "metadata": {
        "id": "ERkPbs_CwVgQ",
        "colab": {
          "base_uri": "https://localhost:8080/"
        },
        "outputId": "8770468f-cf38-4d2a-f4bb-9495ed1b68a4"
      },
      "execution_count": 4,
      "outputs": [
        {
          "output_type": "execute_result",
          "data": {
            "text/plain": [
              "5467"
            ]
          },
          "metadata": {},
          "execution_count": 4
        }
      ]
    },
    {
      "cell_type": "code",
      "source": [
        "# 사진 데이터 경로 리스트로 만들기\n",
        "photopath = 'drugphoto/'\n",
        "\n",
        "photodir1 = [os.path.join(photopath, i) for i in os.listdir(photopath) if os.path.isdir(os.path.join(photopath, i))]\n",
        "\n",
        "photodir2=[]\n",
        "for i in photodir1:\n",
        "  fdir = os.listdir(i)\n",
        "  for j in fdir:\n",
        "    photodir2.append(i + '/' + j)\n",
        "\n",
        "len(photodir2)"
      ],
      "metadata": {
        "id": "0w6KVhi4w1cc",
        "colab": {
          "base_uri": "https://localhost:8080/"
        },
        "outputId": "ad5351c1-7167-45e5-d8a0-ddd4f12945bb"
      },
      "execution_count": 5,
      "outputs": [
        {
          "output_type": "execute_result",
          "data": {
            "text/plain": [
              "2000"
            ]
          },
          "metadata": {},
          "execution_count": 5
        }
      ]
    },
    {
      "cell_type": "markdown",
      "source": [
        "##### img 파일로 json 불러 크롭"
      ],
      "metadata": {
        "id": "_A01_mCVhD0Y"
      }
    },
    {
      "cell_type": "code",
      "source": [
        "# 발견한 문제: index 그림은 크롭할 수 없음. \n",
        "# r'(K-[\\w-][^index]+)\\.png'로 수정하여 적용\n",
        "# photodir2에서 index 사진 삭제. \n",
        "\n",
        "pattern2 = r'(drugphoto\\/K-[\\w-][^index]+\\.png)'\n",
        "\n",
        "photodir3 = []\n",
        "for i in photodir2:\n",
        "  dir = re.findall(pattern2, i)\n",
        "  if dir:\n",
        "    photodir3.append(dir)\n",
        "\n",
        "# 1차원으로 변경\n",
        "photodir3 = [i[0] for i in photodir3]"
      ],
      "metadata": {
        "id": "GJ0jlr-I3a3k",
        "colab": {
          "base_uri": "https://localhost:8080/",
          "height": 35
        },
        "outputId": "113ff674-4e91-4cc4-cac4-1581c3cf06af"
      },
      "execution_count": null,
      "outputs": [
        {
          "output_type": "execute_result",
          "data": {
            "text/plain": [
              "'drugphoto/K-004543-010221-016548-021771/K-004543-010221-016548-021771_0_2_0_2_90_000_200.png'"
            ],
            "application/vnd.google.colaboratory.intrinsic+json": {
              "type": "string"
            }
          },
          "metadata": {},
          "execution_count": 88
        }
      ]
    },
    {
      "cell_type": "code",
      "source": [
        "# # bbox 일부 , 가 .로 입력된 오류\n",
        "# . 를 ,로 replace --> split으로 다시 리스트로 만듦 --> int 적용\n",
        "# 그랬더니 ValueError: invalid literal for int() with base 10: ''\n",
        "\n",
        "for k in photodir3[:10]:\n",
        "  img = Image.open(k)\n",
        "\n",
        "  pattern = r'(K-[\\w-]+)\\.png'\n",
        "  img_title = re.findall(pattern, k)\n",
        "  if img_title:\n",
        "    labels = [i for i in labeldir3 if img_title[0] in i]\n",
        "\n",
        "  for i in range(len(labels)):\n",
        "    label = open(labels[i])\n",
        "    label = json.load(label)\n",
        "    lbl_ant = label.get('annotations')\n",
        "    bbox = lbl_ant[0]['bbox']\n",
        "    bbox = str(bbox).replace('.',',')[1:-1]\n",
        "    bbox = bbox.split(',')\n",
        "    bbox = [int(i) for i in bbox]\n",
        "    print(bbox, end=' / ')"
      ],
      "metadata": {
        "colab": {
          "base_uri": "https://localhost:8080/"
        },
        "id": "rKCOXlFsQksJ",
        "outputId": "8a52f041-8dff-4160-b33f-0776df357dbd"
      },
      "execution_count": null,
      "outputs": [
        {
          "output_type": "stream",
          "name": "stdout",
          "text": [
            "[631, 169, 218, 213] / [120, 234, 209, 201] / [113, 781, 234, 226] / [627, 816, 191, 186] / [125, 875, 232, 228] / [664, 831, 216, 213] / [643, 293, 235, 225] / [185, 306, 188, 181] / [602, 165, 215, 214] / [105, 223, 202, 198] / [81, 737, 237, 234] / [601, 782, 192, 190] / [108, 195, 210, 201] / [649, 793, 213, 204] / [601, 98, 282, 481] / [97, 843, 331, 157] / [676, 869, 220, 211] / [141, 308, 206, 198] / [98, 664, 292, 494] / [566, 304, 328, 159] / [92, 187, 205, 199] / [624, 761, 213, 202] / [574, 81, 276, 472] / [65, 804, 329, 158] / [369, 247, 183, 181] / [593, 816, 201, 274] / [167, 609, 260, 662] / [424, 856, 189, 181] / [89, 240, 304, 264] / [545, 56, 261, 608] / [329, 189, 183, 180] / [550, 720, 309, 282] / [122, 517, 265, 650] / [630, 827, 221, 217] / [193, 711, 219, 358] / [589, 159, 240, 229] / [167, 202, 188, 185] / "
          ]
        }
      ]
    },
    {
      "cell_type": "code",
      "source": [
        "def img_to_json(imgfile):# 크롭한 이미지 리스트로 반환\n",
        "  img = Image.open(imgfile)\n",
        "\n",
        "  # img 경로에서 img_title 제목 추출\n",
        "  pattern = r'(K-[\\w-]+)\\.png'\n",
        "  img_title = re.findall(pattern, imgfile)\n",
        "  if img_title:\n",
        "    labels = [i for i in labeldir3 if img_title[0] in i]\n",
        "\n",
        "    cropped = []\n",
        "\n",
        "      # image crop\n",
        "    for i in range(len(labels)):\n",
        "      label = open(labels[i])\n",
        "      label = json.load(label)\n",
        "      lbl_ant = label.get('annotations')\n",
        "      bbox = lbl_ant[0]['bbox']\n",
        "      bbox = str(bbox).replace('.',',')[1:-1]\n",
        "      bbox = bbox.split(',')\n",
        "      bbox = [int(i) for i in bbox]\n",
        "      \n",
        "      x, y, w, h = bbox[0], bbox[1], bbox[2], bbox[3]\n",
        "\n",
        "      cropped_img = img.crop((x, y, x+w, y+h))\n",
        "      cropped.append(cropped_img)\n",
        "    \n",
        "    return cropped"
      ],
      "metadata": {
        "id": "Nk09c4lKYMjV"
      },
      "execution_count": null,
      "outputs": []
    },
    {
      "cell_type": "code",
      "source": [
        "# json labels만 추출\n",
        "def img_to_labels(imgfile):\n",
        "  img = Image.open(imgfile)\n",
        "\n",
        "  pattern = r'(K-[\\w-]+)\\.png'\n",
        "  img_title = re.findall(pattern, imgfile)\n",
        "  if img_title:\n",
        "    labels = [i for i in labeldir3 if img_title[0] in i]\n",
        "  return labels"
      ],
      "metadata": {
        "id": "nY7uDuh7du9U"
      },
      "execution_count": null,
      "outputs": []
    },
    {
      "cell_type": "markdown",
      "source": [
        "##### DataFrame을 csv 파일로 저장하기"
      ],
      "metadata": {
        "id": "RbyWicH8bc-4"
      }
    },
    {
      "cell_type": "code",
      "source": [
        "# imgfile 데이터를 받아 해당하는 json을 DataFrame화하는 함수\n",
        "def img_to_df(imgfile):\n",
        "  img = Image.open(imgfile)\n",
        "\n",
        "  pattern = r'(K-[\\w-]+)\\.png'\n",
        "  img_title = re.findall(pattern, imgfile)\n",
        "  \n",
        "  labels = [i for i in labeldir3 if img_title[0] in i]\n",
        "\n",
        "  img_info = []\n",
        "\n",
        "  for i in range(len(labels)):\n",
        "    label = open(labels[i])\n",
        "    label = json.load(label)\n",
        "\n",
        "    # json dataframe\n",
        "    # json에서 'image' 골라내 리스트화\n",
        "    lbl_image = label.get('images')\n",
        "    img_info.append(lbl_image[0])\n",
        "    \n",
        "  df = pd.json_normalize(img_info[0])\n",
        "  for info in img_info[1:]:\n",
        "    temp = pd.json_normalize(info)\n",
        "    df = df.append(temp)\n",
        "    df = df.reset_index(drop=True)\n",
        "\n",
        "  return df       # json images 데이터프레임으로 반환"
      ],
      "metadata": {
        "id": "rOUFRXZXbb5p"
      },
      "execution_count": 3,
      "outputs": []
    },
    {
      "cell_type": "code",
      "source": [
        "# 0번 인덱스 데이터로 칼럼 만들 겸 데이터프레임 만들기\n",
        "json_img = open(labeldir3[0])\n",
        "json_img = json.load(json_img)\n",
        "df_img = json_img.get('images')\n",
        "df_img = pd.json_normalize(df_img)\n",
        "df_img"
      ],
      "metadata": {
        "colab": {
          "base_uri": "https://localhost:8080/",
          "height": 388
        },
        "id": "lVJkS0HGc9Ga",
        "outputId": "d90a2858-ab23-46c2-db06-bd1c77e076e6"
      },
      "execution_count": 6,
      "outputs": [
        {
          "output_type": "execute_result",
          "data": {
            "text/plain": [
              "                                       file_name  width  height  \\\n",
              "0  K-005000-020238-031863_0_2_0_2_90_000_200.png    976    1280   \n",
              "\n",
              "                                         imgfile    drug_N drug_S back_color  \\\n",
              "0  K-005000-020238-031863_0_2_0_2_90_000_200.png  K-031863   정상알약     연회색 배경   \n",
              "\n",
              "  drug_dir light_color  camera_la  camera_lo  size dl_idx dl_mapping_code  \\\n",
              "0       앞면         주백색         90          0   200  31862        K-031863   \n",
              "\n",
              "           dl_name    dl_name_en  \\\n",
              "0  아질렉트정(라사길린메실산염)  Azilect Tab.   \n",
              "\n",
              "                                             img_key dl_material  \\\n",
              "0  http://connectdi.com/design/img/drug/147426780...    라사길린메실산염   \n",
              "\n",
              "        dl_material_en dl_custom_shape dl_company   dl_company_en  \\\n",
              "0  Rasagiline Mesylate         정제, 저작정   한국룬드벡(주)  Lundbeck Korea   \n",
              "\n",
              "                         di_company_mf di_company_mf_en   item_seq  \\\n",
              "0  Teva Pharmaceutical Industries Ltd.                   201309347   \n",
              "\n",
              "  di_item_permit_date        di_class_no di_etc_otc_code di_edi_code  \\\n",
              "0            20130913  [01190]기타의 중추신경용약           전문의약품   668000100   \n",
              "\n",
              "                                               chart drug_shape  thick  \\\n",
              "0  한쪽 면의 위쪽에 “GIL\", 아래쪽에 ”1“이 새겨진 흰색 또는 거의 흰색의 모서...         원형      3   \n",
              "\n",
              "   leng_long  leng_short print_front print_back color_class1 color_class2  \\\n",
              "0          8           8       GIL 1                      하양                \n",
              "\n",
              "  line_front line_back img_regist_ts form_code_name mark_code_front_anal  \\\n",
              "0                           20131224             나정                        \n",
              "\n",
              "  mark_code_back_anal mark_code_front_img mark_code_back_img mark_code_front  \\\n",
              "0                                                                              \n",
              "\n",
              "  mark_code_back change_date  id  \n",
              "0                   20210106   1  "
            ],
            "text/html": [
              "\n",
              "  <div id=\"df-9f409af7-8eb7-464f-b913-69b93df29659\">\n",
              "    <div class=\"colab-df-container\">\n",
              "      <div>\n",
              "<style scoped>\n",
              "    .dataframe tbody tr th:only-of-type {\n",
              "        vertical-align: middle;\n",
              "    }\n",
              "\n",
              "    .dataframe tbody tr th {\n",
              "        vertical-align: top;\n",
              "    }\n",
              "\n",
              "    .dataframe thead th {\n",
              "        text-align: right;\n",
              "    }\n",
              "</style>\n",
              "<table border=\"1\" class=\"dataframe\">\n",
              "  <thead>\n",
              "    <tr style=\"text-align: right;\">\n",
              "      <th></th>\n",
              "      <th>file_name</th>\n",
              "      <th>width</th>\n",
              "      <th>height</th>\n",
              "      <th>imgfile</th>\n",
              "      <th>drug_N</th>\n",
              "      <th>drug_S</th>\n",
              "      <th>back_color</th>\n",
              "      <th>drug_dir</th>\n",
              "      <th>light_color</th>\n",
              "      <th>camera_la</th>\n",
              "      <th>camera_lo</th>\n",
              "      <th>size</th>\n",
              "      <th>dl_idx</th>\n",
              "      <th>dl_mapping_code</th>\n",
              "      <th>dl_name</th>\n",
              "      <th>dl_name_en</th>\n",
              "      <th>img_key</th>\n",
              "      <th>dl_material</th>\n",
              "      <th>dl_material_en</th>\n",
              "      <th>dl_custom_shape</th>\n",
              "      <th>dl_company</th>\n",
              "      <th>dl_company_en</th>\n",
              "      <th>di_company_mf</th>\n",
              "      <th>di_company_mf_en</th>\n",
              "      <th>item_seq</th>\n",
              "      <th>di_item_permit_date</th>\n",
              "      <th>di_class_no</th>\n",
              "      <th>di_etc_otc_code</th>\n",
              "      <th>di_edi_code</th>\n",
              "      <th>chart</th>\n",
              "      <th>drug_shape</th>\n",
              "      <th>thick</th>\n",
              "      <th>leng_long</th>\n",
              "      <th>leng_short</th>\n",
              "      <th>print_front</th>\n",
              "      <th>print_back</th>\n",
              "      <th>color_class1</th>\n",
              "      <th>color_class2</th>\n",
              "      <th>line_front</th>\n",
              "      <th>line_back</th>\n",
              "      <th>img_regist_ts</th>\n",
              "      <th>form_code_name</th>\n",
              "      <th>mark_code_front_anal</th>\n",
              "      <th>mark_code_back_anal</th>\n",
              "      <th>mark_code_front_img</th>\n",
              "      <th>mark_code_back_img</th>\n",
              "      <th>mark_code_front</th>\n",
              "      <th>mark_code_back</th>\n",
              "      <th>change_date</th>\n",
              "      <th>id</th>\n",
              "    </tr>\n",
              "  </thead>\n",
              "  <tbody>\n",
              "    <tr>\n",
              "      <th>0</th>\n",
              "      <td>K-005000-020238-031863_0_2_0_2_90_000_200.png</td>\n",
              "      <td>976</td>\n",
              "      <td>1280</td>\n",
              "      <td>K-005000-020238-031863_0_2_0_2_90_000_200.png</td>\n",
              "      <td>K-031863</td>\n",
              "      <td>정상알약</td>\n",
              "      <td>연회색 배경</td>\n",
              "      <td>앞면</td>\n",
              "      <td>주백색</td>\n",
              "      <td>90</td>\n",
              "      <td>0</td>\n",
              "      <td>200</td>\n",
              "      <td>31862</td>\n",
              "      <td>K-031863</td>\n",
              "      <td>아질렉트정(라사길린메실산염)</td>\n",
              "      <td>Azilect Tab.</td>\n",
              "      <td>http://connectdi.com/design/img/drug/147426780...</td>\n",
              "      <td>라사길린메실산염</td>\n",
              "      <td>Rasagiline Mesylate</td>\n",
              "      <td>정제, 저작정</td>\n",
              "      <td>한국룬드벡(주)</td>\n",
              "      <td>Lundbeck Korea</td>\n",
              "      <td>Teva Pharmaceutical Industries Ltd.</td>\n",
              "      <td></td>\n",
              "      <td>201309347</td>\n",
              "      <td>20130913</td>\n",
              "      <td>[01190]기타의 중추신경용약</td>\n",
              "      <td>전문의약품</td>\n",
              "      <td>668000100</td>\n",
              "      <td>한쪽 면의 위쪽에 “GIL\", 아래쪽에 ”1“이 새겨진 흰색 또는 거의 흰색의 모서...</td>\n",
              "      <td>원형</td>\n",
              "      <td>3</td>\n",
              "      <td>8</td>\n",
              "      <td>8</td>\n",
              "      <td>GIL 1</td>\n",
              "      <td></td>\n",
              "      <td>하양</td>\n",
              "      <td></td>\n",
              "      <td></td>\n",
              "      <td></td>\n",
              "      <td>20131224</td>\n",
              "      <td>나정</td>\n",
              "      <td></td>\n",
              "      <td></td>\n",
              "      <td></td>\n",
              "      <td></td>\n",
              "      <td></td>\n",
              "      <td></td>\n",
              "      <td>20210106</td>\n",
              "      <td>1</td>\n",
              "    </tr>\n",
              "  </tbody>\n",
              "</table>\n",
              "</div>\n",
              "      <button class=\"colab-df-convert\" onclick=\"convertToInteractive('df-9f409af7-8eb7-464f-b913-69b93df29659')\"\n",
              "              title=\"Convert this dataframe to an interactive table.\"\n",
              "              style=\"display:none;\">\n",
              "        \n",
              "  <svg xmlns=\"http://www.w3.org/2000/svg\" height=\"24px\"viewBox=\"0 0 24 24\"\n",
              "       width=\"24px\">\n",
              "    <path d=\"M0 0h24v24H0V0z\" fill=\"none\"/>\n",
              "    <path d=\"M18.56 5.44l.94 2.06.94-2.06 2.06-.94-2.06-.94-.94-2.06-.94 2.06-2.06.94zm-11 1L8.5 8.5l.94-2.06 2.06-.94-2.06-.94L8.5 2.5l-.94 2.06-2.06.94zm10 10l.94 2.06.94-2.06 2.06-.94-2.06-.94-.94-2.06-.94 2.06-2.06.94z\"/><path d=\"M17.41 7.96l-1.37-1.37c-.4-.4-.92-.59-1.43-.59-.52 0-1.04.2-1.43.59L10.3 9.45l-7.72 7.72c-.78.78-.78 2.05 0 2.83L4 21.41c.39.39.9.59 1.41.59.51 0 1.02-.2 1.41-.59l7.78-7.78 2.81-2.81c.8-.78.8-2.07 0-2.86zM5.41 20L4 18.59l7.72-7.72 1.47 1.35L5.41 20z\"/>\n",
              "  </svg>\n",
              "      </button>\n",
              "      \n",
              "  <style>\n",
              "    .colab-df-container {\n",
              "      display:flex;\n",
              "      flex-wrap:wrap;\n",
              "      gap: 12px;\n",
              "    }\n",
              "\n",
              "    .colab-df-convert {\n",
              "      background-color: #E8F0FE;\n",
              "      border: none;\n",
              "      border-radius: 50%;\n",
              "      cursor: pointer;\n",
              "      display: none;\n",
              "      fill: #1967D2;\n",
              "      height: 32px;\n",
              "      padding: 0 0 0 0;\n",
              "      width: 32px;\n",
              "    }\n",
              "\n",
              "    .colab-df-convert:hover {\n",
              "      background-color: #E2EBFA;\n",
              "      box-shadow: 0px 1px 2px rgba(60, 64, 67, 0.3), 0px 1px 3px 1px rgba(60, 64, 67, 0.15);\n",
              "      fill: #174EA6;\n",
              "    }\n",
              "\n",
              "    [theme=dark] .colab-df-convert {\n",
              "      background-color: #3B4455;\n",
              "      fill: #D2E3FC;\n",
              "    }\n",
              "\n",
              "    [theme=dark] .colab-df-convert:hover {\n",
              "      background-color: #434B5C;\n",
              "      box-shadow: 0px 1px 3px 1px rgba(0, 0, 0, 0.15);\n",
              "      filter: drop-shadow(0px 1px 2px rgba(0, 0, 0, 0.3));\n",
              "      fill: #FFFFFF;\n",
              "    }\n",
              "  </style>\n",
              "\n",
              "      <script>\n",
              "        const buttonEl =\n",
              "          document.querySelector('#df-9f409af7-8eb7-464f-b913-69b93df29659 button.colab-df-convert');\n",
              "        buttonEl.style.display =\n",
              "          google.colab.kernel.accessAllowed ? 'block' : 'none';\n",
              "\n",
              "        async function convertToInteractive(key) {\n",
              "          const element = document.querySelector('#df-9f409af7-8eb7-464f-b913-69b93df29659');\n",
              "          const dataTable =\n",
              "            await google.colab.kernel.invokeFunction('convertToInteractive',\n",
              "                                                     [key], {});\n",
              "          if (!dataTable) return;\n",
              "\n",
              "          const docLinkHtml = 'Like what you see? Visit the ' +\n",
              "            '<a target=\"_blank\" href=https://colab.research.google.com/notebooks/data_table.ipynb>data table notebook</a>'\n",
              "            + ' to learn more about interactive tables.';\n",
              "          element.innerHTML = '';\n",
              "          dataTable['output_type'] = 'display_data';\n",
              "          await google.colab.output.renderOutput(dataTable, element);\n",
              "          const docLink = document.createElement('div');\n",
              "          docLink.innerHTML = docLinkHtml;\n",
              "          element.appendChild(docLink);\n",
              "        }\n",
              "      </script>\n",
              "    </div>\n",
              "  </div>\n",
              "  "
            ]
          },
          "metadata": {},
          "execution_count": 6
        }
      ]
    },
    {
      "cell_type": "code",
      "source": [
        "# DataFrame 작성\n",
        "for i in range(1, len(labeldir3)):\n",
        "  js = open(labeldir3[i])\n",
        "  try:\n",
        "    js = json.load(js)\n",
        "    jsdf = js.get('images')\n",
        "    jsdf = pd.json_normalize(jsdf)\n",
        "    df_img = df_img.append(jsdf)\n",
        "  except UnicodeDecodeError:\n",
        "    continue\n",
        "\n",
        "df_img = df_img.reset_index(drop=True)"
      ],
      "metadata": {
        "id": "fZL51wO4dK4J"
      },
      "execution_count": 7,
      "outputs": []
    },
    {
      "cell_type": "code",
      "source": [
        "# DataFrame을 csv로 저장 & 다운로드\n",
        "# encoding='utf-8' 로 해도 한글이 깨짐 --> encoding='utf-8-sig' 로 해결\n",
        "df_img.to_csv('drug_data.csv', encoding='utf-8-sig')\n",
        "files.download('drug_data.csv')"
      ],
      "metadata": {
        "colab": {
          "base_uri": "https://localhost:8080/",
          "height": 17
        },
        "id": "67enJ8D-dytK",
        "outputId": "a2d2d4ed-9ad7-4fa6-df2f-60983a71256c"
      },
      "execution_count": 27,
      "outputs": [
        {
          "output_type": "display_data",
          "data": {
            "text/plain": [
              "<IPython.core.display.Javascript object>"
            ],
            "application/javascript": [
              "\n",
              "    async function download(id, filename, size) {\n",
              "      if (!google.colab.kernel.accessAllowed) {\n",
              "        return;\n",
              "      }\n",
              "      const div = document.createElement('div');\n",
              "      const label = document.createElement('label');\n",
              "      label.textContent = `Downloading \"${filename}\": `;\n",
              "      div.appendChild(label);\n",
              "      const progress = document.createElement('progress');\n",
              "      progress.max = size;\n",
              "      div.appendChild(progress);\n",
              "      document.body.appendChild(div);\n",
              "\n",
              "      const buffers = [];\n",
              "      let downloaded = 0;\n",
              "\n",
              "      const channel = await google.colab.kernel.comms.open(id);\n",
              "      // Send a message to notify the kernel that we're ready.\n",
              "      channel.send({})\n",
              "\n",
              "      for await (const message of channel.messages) {\n",
              "        // Send a message to notify the kernel that we're ready.\n",
              "        channel.send({})\n",
              "        if (message.buffers) {\n",
              "          for (const buffer of message.buffers) {\n",
              "            buffers.push(buffer);\n",
              "            downloaded += buffer.byteLength;\n",
              "            progress.value = downloaded;\n",
              "          }\n",
              "        }\n",
              "      }\n",
              "      const blob = new Blob(buffers, {type: 'application/binary'});\n",
              "      const a = document.createElement('a');\n",
              "      a.href = window.URL.createObjectURL(blob);\n",
              "      a.download = filename;\n",
              "      div.appendChild(a);\n",
              "      a.click();\n",
              "      div.remove();\n",
              "    }\n",
              "  "
            ]
          },
          "metadata": {}
        },
        {
          "output_type": "display_data",
          "data": {
            "text/plain": [
              "<IPython.core.display.Javascript object>"
            ],
            "application/javascript": [
              "download(\"download_16cbc581-b8e1-4154-b3c2-32fd6b4887c8\", \"drug_data.csv\", 3633353)"
            ]
          },
          "metadata": {}
        }
      ]
    },
    {
      "cell_type": "markdown",
      "source": [
        "##### 텐서화"
      ],
      "metadata": {
        "id": "lJ9iAvswuOxX"
      }
    },
    {
      "cell_type": "code",
      "source": [
        "# ValueError: invalid literal for int() with base 10: ''\n",
        "# 이미지 전부 크롭하려고 했더니 어딘가에서 오류... 100개로 끊기\n",
        "\n",
        "individual = [] # [[cropped]]\n",
        "for i in photodir3[:100]:\n",
        "    individual.append(img_to_json(i))\n",
        "\n",
        "len(individual)"
      ],
      "metadata": {
        "id": "dccbAK54mxtf",
        "colab": {
          "base_uri": "https://localhost:8080/"
        },
        "outputId": "31adcf2c-dd41-4099-e404-01d3d6fbc15c"
      },
      "execution_count": null,
      "outputs": [
        {
          "output_type": "execute_result",
          "data": {
            "text/plain": [
              "100"
            ]
          },
          "metadata": {},
          "execution_count": 129
        }
      ]
    },
    {
      "cell_type": "code",
      "source": [
        "idv_crop =[i[j] for i in individual for j in range(len(i))]\n",
        "\n",
        "len(idv_crop)\n",
        "# 358개의 크롭된 이미지"
      ],
      "metadata": {
        "colab": {
          "base_uri": "https://localhost:8080/"
        },
        "id": "7VB3RZCv5kxp",
        "outputId": "014c2188-ce79-4d7f-e7f9-3dd87f864c7e"
      },
      "execution_count": null,
      "outputs": [
        {
          "output_type": "execute_result",
          "data": {
            "text/plain": [
              "358"
            ]
          },
          "metadata": {},
          "execution_count": 122
        }
      ]
    },
    {
      "cell_type": "code",
      "source": [
        "lbl = []\n",
        "for i in photodir3[:100]:\n",
        "    lbl.append(img_to_labels(i))\n",
        "\n",
        "lbls = [i[j] for i in lbl for j in range(len(i))]\n",
        "len(lbls) # 이미지와 레이블 개수 일치"
      ],
      "metadata": {
        "colab": {
          "base_uri": "https://localhost:8080/"
        },
        "id": "HklVUzumeRs1",
        "outputId": "ee11b39b-5940-45d5-afb4-75bbff1078f0"
      },
      "execution_count": null,
      "outputs": [
        {
          "output_type": "execute_result",
          "data": {
            "text/plain": [
              "358"
            ]
          },
          "metadata": {},
          "execution_count": 138
        }
      ]
    },
    {
      "cell_type": "code",
      "source": [
        "transform_drug = transforms.Compose([transforms.ToTensor(),\n",
        "                                     transforms.Resize((64, 64))])\n",
        "\n",
        "# tf = transform_drug(idv_crop[0])\n",
        "# tf.size() >> torch.Size([3, 64, 64])\n",
        "\n",
        "img_t = [transform_drug(i) for i in idv_crop]\n",
        "len(img_t)"
      ],
      "metadata": {
        "colab": {
          "base_uri": "https://localhost:8080/"
        },
        "id": "nTfceY8RMm42",
        "outputId": "9af683ae-d8ee-4ed5-9425-4ccfe230dea8"
      },
      "execution_count": null,
      "outputs": [
        {
          "output_type": "execute_result",
          "data": {
            "text/plain": [
              "358"
            ]
          },
          "metadata": {},
          "execution_count": 145
        }
      ]
    },
    {
      "cell_type": "code",
      "source": [
        "# train_loader = data.DataLoader(\n",
        "#     dataset = (img_t, lbls),\n",
        "#     batch_size = 20, shuffle = True\n",
        "# )\n",
        "\n",
        "# dataiter = iter(train_loader)\n",
        "# images, labels = next(dataiter)\n",
        "# images.shape, labels.shape"
      ],
      "metadata": {
        "id": "e2vO71x3aiWB"
      },
      "execution_count": null,
      "outputs": []
    },
    {
      "cell_type": "code",
      "source": [],
      "metadata": {
        "id": "c8vdl1w-a9ox"
      },
      "execution_count": null,
      "outputs": []
    }
  ]
}