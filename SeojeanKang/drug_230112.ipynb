{
  "nbformat": 4,
  "nbformat_minor": 0,
  "metadata": {
    "colab": {
      "provenance": [],
      "collapsed_sections": [
        "LZlrwfw3hY4p",
        "mVneUkvqg56A",
        "_A01_mCVhD0Y",
        "lJ9iAvswuOxX"
      ],
      "authorship_tag": "ABX9TyMoDCH7Jbw00eDVHCvtreUn",
      "include_colab_link": true
    },
    "kernelspec": {
      "name": "python3",
      "display_name": "Python 3"
    },
    "language_info": {
      "name": "python"
    }
  },
  "cells": [
    {
      "cell_type": "markdown",
      "metadata": {
        "id": "view-in-github",
        "colab_type": "text"
      },
      "source": [
        "<a href=\"https://colab.research.google.com/github/JJay1010/K-software_-/blob/main/SeojeanKang/drug_230112.ipynb\" target=\"_parent\"><img src=\"https://colab.research.google.com/assets/colab-badge.svg\" alt=\"Open In Colab\"/></a>"
      ]
    },
    {
      "cell_type": "markdown",
      "source": [
        "\n",
        "\n",
        "**일시**: 2023. 01. 11 (01.10~01.12 진행)\n",
        "\n",
        "**사용 데이터셋**: 경구약제 조합 5,000 조합 training - (TS_4_조합.zip, TL_4_조합.zip)\n",
        "\n",
        "(https://aihub.or.kr/aihubdata/data/view.do?currMenu=115&topMenu=100&aihubDataSe=realm&dataSetSn=576)\n",
        "\n",
        "\n",
        "**데이터셋 구축 목표**: 국내 유동되고 있는 경구약제 5,000종을 대상으로 약품식별 인공지능 개발 및 학습\n",
        "\n",
        "**환경**: 데이터 업로드하여 colab으로 작업\n",
        "\n",
        "---\n",
        "**개인 목표**: 이미지 데이터 전처리 연습\n",
        "\n",
        "\n",
        "**실행 내용**: 약제 조합 이미지 데이터 전처리 및 시각화 \n",
        "\n",
        "> img_to_json 으로 이미지 크롭하여 저장\n",
        ">\n",
        "> 크롭한 이미지 tensor로 바꿔보기...\n",
        "\n",
        "**발생한 문제**: \n",
        "\n",
        "1) 이미지 파일 중 ~index.png는 크롭이 불가능하여 오류\n",
        "\n",
        "2) annotation에 bbox 중 일부 , 가 .로 입력된 오류\n",
        "\n",
        "**해결책**: \n",
        "\n",
        "1) re 수정하여 ~index.png를 제외한 사진 경로 리스트를 만듦\n",
        "\n",
        "2) bbox에 replace와 split으로 오류 수정 --> 새로운 오류 발견 \"ValueError: invalid literal for int() with base 10: ''\" ... 우선 100개만 끊어서 진행\n"
      ],
      "metadata": {
        "id": "Ec72hDnQkuEw"
      }
    },
    {
      "cell_type": "markdown",
      "source": [
        "##### import & unzip"
      ],
      "metadata": {
        "id": "LZlrwfw3hY4p"
      }
    },
    {
      "cell_type": "code",
      "source": [
        "import os\n",
        "import json\n",
        "import matplotlib.pyplot as plt\n",
        "import PIL as pil\n",
        "from PIL import Image\n",
        "import re\n",
        "import pandas as pd\n",
        "\n",
        "import torch\n",
        "import numpy as np\n",
        "import torch.nn as nn\n",
        "import torch.nn.functional as F\n",
        "import torch.optim as optim\n",
        "from torchvision import datasets, transforms\n",
        "from torch.utils import data\n",
        "\n",
        "pd.set_option('display.max_columns', None)"
      ],
      "metadata": {
        "id": "6MejEdufwvZB"
      },
      "execution_count": 123,
      "outputs": []
    },
    {
      "cell_type": "code",
      "execution_count": 2,
      "metadata": {
        "colab": {
          "base_uri": "https://localhost:8080/"
        },
        "id": "9nJ5IJoFwPUE",
        "outputId": "d971b215-860f-484c-f1c3-20304ad56959"
      },
      "outputs": [
        {
          "output_type": "stream",
          "name": "stdout",
          "text": [
            "Mounted at /content/mydrive\n"
          ]
        }
      ],
      "source": [
        "from google.colab import drive\n",
        "drive.mount(\"/content/mydrive\")\n",
        "\n",
        "# 라벨링 데이터 압축 해제\n",
        "!mkdir druglabel\n",
        "!cd '/content/druglabel' # 압축을 풀 폴더 경로\n",
        "!unzip -qq '/content/mydrive/MyDrive/jan_prj/TL_4_조합.zip' -d '/content/druglabel' # 압축파일 경로\n",
        "\n",
        "# 사진 데이터 압축 해제\n",
        "!mkdir drugphoto\n",
        "!cd '/content/drugphoto' # 압축을 풀 폴더 경로\n",
        "!unzip -qq '/content/mydrive/MyDrive/jan_prj/TS_4_조합.zip' -d '/content/drugphoto' # 압축파일 경로"
      ]
    },
    {
      "cell_type": "markdown",
      "source": [
        "##### label, photo 데이터 압축 풀기 및 경로 리스트화"
      ],
      "metadata": {
        "id": "mVneUkvqg56A"
      }
    },
    {
      "cell_type": "code",
      "source": [
        "# json 레이블 경로 리스트로 만들기\n",
        "\n",
        "filepath = 'druglabel/'\n",
        "\n",
        "labeldir1 = [os.path.join(filepath, i) for i in os.listdir(filepath) if os.path.isdir(os.path.join(filepath, i))]\n",
        "\n",
        "labeldir2=[]\n",
        "for i in labeldir1:\n",
        "  fdir = os.listdir(i)\n",
        "  for j in fdir:\n",
        "    if os.path.isdir(os.path.join(i, j)):\n",
        "      labeldir2.append(i + '/' + j)\n",
        "\n",
        "labeldir3 = []\n",
        "for i in labeldir2:\n",
        "  fdir = os.listdir(i)\n",
        "  for j in fdir:\n",
        "    labeldir3.append(i + '/' + j)\n",
        "\n",
        "len(labeldir3)"
      ],
      "metadata": {
        "id": "ERkPbs_CwVgQ",
        "colab": {
          "base_uri": "https://localhost:8080/"
        },
        "outputId": "8f2a93ce-79e4-4a70-ec15-962b29104dfe"
      },
      "execution_count": 3,
      "outputs": [
        {
          "output_type": "execute_result",
          "data": {
            "text/plain": [
              "5467"
            ]
          },
          "metadata": {},
          "execution_count": 3
        }
      ]
    },
    {
      "cell_type": "code",
      "source": [
        "# 사진 데이터 경로 리스트로 만들기\n",
        "photopath = 'drugphoto/'\n",
        "\n",
        "photodir1 = [os.path.join(photopath, i) for i in os.listdir(photopath) if os.path.isdir(os.path.join(photopath, i))]\n",
        "\n",
        "photodir2=[]\n",
        "for i in photodir1:\n",
        "  fdir = os.listdir(i)\n",
        "  for j in fdir:\n",
        "    photodir2.append(i + '/' + j)\n",
        "\n",
        "len(photodir2)"
      ],
      "metadata": {
        "id": "0w6KVhi4w1cc",
        "colab": {
          "base_uri": "https://localhost:8080/"
        },
        "outputId": "0dd951ff-8c4a-41e2-8d58-00ded2d0fe36"
      },
      "execution_count": 4,
      "outputs": [
        {
          "output_type": "execute_result",
          "data": {
            "text/plain": [
              "2000"
            ]
          },
          "metadata": {},
          "execution_count": 4
        }
      ]
    },
    {
      "cell_type": "markdown",
      "source": [
        "##### img 파일로 json 불러 크롭"
      ],
      "metadata": {
        "id": "_A01_mCVhD0Y"
      }
    },
    {
      "cell_type": "code",
      "source": [
        "# 발견한 문제: index 그림은 크롭할 수 없음. \n",
        "# r'(K-[\\w-][^index]+)\\.png'로 수정하여 적용\n",
        "# photodir2에서 index 사진 삭제. \n",
        "\n",
        "pattern2 = r'(drugphoto\\/K-[\\w-][^index]+\\.png)'\n",
        "\n",
        "photodir3 = []\n",
        "for i in photodir2:\n",
        "  dir = re.findall(pattern2, i)\n",
        "  if dir:\n",
        "    photodir3.append(dir)\n",
        "\n",
        "# 1차원으로 변경\n",
        "photodir3 = [i[0] for i in photodir3]"
      ],
      "metadata": {
        "id": "GJ0jlr-I3a3k",
        "colab": {
          "base_uri": "https://localhost:8080/",
          "height": 35
        },
        "outputId": "113ff674-4e91-4cc4-cac4-1581c3cf06af"
      },
      "execution_count": 88,
      "outputs": [
        {
          "output_type": "execute_result",
          "data": {
            "text/plain": [
              "'drugphoto/K-004543-010221-016548-021771/K-004543-010221-016548-021771_0_2_0_2_90_000_200.png'"
            ],
            "application/vnd.google.colaboratory.intrinsic+json": {
              "type": "string"
            }
          },
          "metadata": {},
          "execution_count": 88
        }
      ]
    },
    {
      "cell_type": "code",
      "source": [
        "# # bbox 일부 , 가 .로 입력된 오류\n",
        "# . 를 ,로 replace --> split으로 다시 리스트로 만듦 --> int 적용\n",
        "# 그랬더니 ValueError: invalid literal for int() with base 10: ''\n",
        "\n",
        "for k in photodir3[:10]:\n",
        "  img = Image.open(k)\n",
        "\n",
        "  pattern = r'(K-[\\w-]+)\\.png'\n",
        "  img_title = re.findall(pattern, k)\n",
        "  if img_title:\n",
        "    labels = [i for i in labeldir3 if img_title[0] in i]\n",
        "\n",
        "  for i in range(len(labels)):\n",
        "    label = open(labels[i])\n",
        "    label = json.load(label)\n",
        "    lbl_ant = label.get('annotations')\n",
        "    bbox = lbl_ant[0]['bbox']\n",
        "    bbox = str(bbox).replace('.',',')[1:-1]\n",
        "    bbox = bbox.split(',')\n",
        "    bbox = [int(i) for i in bbox]\n",
        "    print(bbox, end=' / ')"
      ],
      "metadata": {
        "colab": {
          "base_uri": "https://localhost:8080/"
        },
        "id": "rKCOXlFsQksJ",
        "outputId": "8a52f041-8dff-4160-b33f-0776df357dbd"
      },
      "execution_count": 114,
      "outputs": [
        {
          "output_type": "stream",
          "name": "stdout",
          "text": [
            "[631, 169, 218, 213] / [120, 234, 209, 201] / [113, 781, 234, 226] / [627, 816, 191, 186] / [125, 875, 232, 228] / [664, 831, 216, 213] / [643, 293, 235, 225] / [185, 306, 188, 181] / [602, 165, 215, 214] / [105, 223, 202, 198] / [81, 737, 237, 234] / [601, 782, 192, 190] / [108, 195, 210, 201] / [649, 793, 213, 204] / [601, 98, 282, 481] / [97, 843, 331, 157] / [676, 869, 220, 211] / [141, 308, 206, 198] / [98, 664, 292, 494] / [566, 304, 328, 159] / [92, 187, 205, 199] / [624, 761, 213, 202] / [574, 81, 276, 472] / [65, 804, 329, 158] / [369, 247, 183, 181] / [593, 816, 201, 274] / [167, 609, 260, 662] / [424, 856, 189, 181] / [89, 240, 304, 264] / [545, 56, 261, 608] / [329, 189, 183, 180] / [550, 720, 309, 282] / [122, 517, 265, 650] / [630, 827, 221, 217] / [193, 711, 219, 358] / [589, 159, 240, 229] / [167, 202, 188, 185] / "
          ]
        }
      ]
    },
    {
      "cell_type": "code",
      "source": [
        "def img_to_json(imgfile):# 크롭한 이미지 리스트로 반환\n",
        "  img = Image.open(imgfile)\n",
        "\n",
        "  # img 경로에서 img_title 제목 추출\n",
        "  pattern = r'(K-[\\w-]+)\\.png'\n",
        "  img_title = re.findall(pattern, imgfile)\n",
        "  if img_title:\n",
        "    labels = [i for i in labeldir3 if img_title[0] in i]\n",
        "\n",
        "    cropped = []\n",
        "\n",
        "      # image crop\n",
        "    for i in range(len(labels)):\n",
        "      label = open(labels[i])\n",
        "      label = json.load(label)\n",
        "      lbl_ant = label.get('annotations')\n",
        "      bbox = lbl_ant[0]['bbox']\n",
        "      bbox = str(bbox).replace('.',',')[1:-1]\n",
        "      bbox = bbox.split(',')\n",
        "      bbox = [int(i) for i in bbox]\n",
        "      \n",
        "      x, y, w, h = bbox[0], bbox[1], bbox[2], bbox[3]\n",
        "\n",
        "      cropped_img = img.crop((x, y, x+w, y+h))\n",
        "      cropped.append(cropped_img)\n",
        "    \n",
        "    return cropped"
      ],
      "metadata": {
        "id": "Nk09c4lKYMjV"
      },
      "execution_count": 134,
      "outputs": []
    },
    {
      "cell_type": "code",
      "source": [
        "# json labels만 추출\n",
        "def img_to_labels(imgfile):\n",
        "  img = Image.open(imgfile)\n",
        "\n",
        "  pattern = r'(K-[\\w-]+)\\.png'\n",
        "  img_title = re.findall(pattern, imgfile)\n",
        "  if img_title:\n",
        "    labels = [i for i in labeldir3 if img_title[0] in i]\n",
        "  return labels"
      ],
      "metadata": {
        "id": "nY7uDuh7du9U"
      },
      "execution_count": 136,
      "outputs": []
    },
    {
      "cell_type": "markdown",
      "source": [
        "##### 텐서화"
      ],
      "metadata": {
        "id": "lJ9iAvswuOxX"
      }
    },
    {
      "cell_type": "code",
      "source": [
        "# ValueError: invalid literal for int() with base 10: ''\n",
        "# 이미지 전부 크롭하려고 했더니 어딘가에서 오류... 100개로 끊기\n",
        "\n",
        "individual = [] # [[cropped]]\n",
        "for i in photodir3[:100]:\n",
        "    individual.append(img_to_json(i))\n",
        "\n",
        "len(individual)"
      ],
      "metadata": {
        "id": "dccbAK54mxtf",
        "colab": {
          "base_uri": "https://localhost:8080/"
        },
        "outputId": "31adcf2c-dd41-4099-e404-01d3d6fbc15c"
      },
      "execution_count": 129,
      "outputs": [
        {
          "output_type": "execute_result",
          "data": {
            "text/plain": [
              "100"
            ]
          },
          "metadata": {},
          "execution_count": 129
        }
      ]
    },
    {
      "cell_type": "code",
      "source": [
        "idv_crop =[i[j] for i in individual for j in range(len(i))]\n",
        "\n",
        "len(idv_crop)\n",
        "# 358개의 크롭된 이미지"
      ],
      "metadata": {
        "colab": {
          "base_uri": "https://localhost:8080/"
        },
        "id": "7VB3RZCv5kxp",
        "outputId": "014c2188-ce79-4d7f-e7f9-3dd87f864c7e"
      },
      "execution_count": 122,
      "outputs": [
        {
          "output_type": "execute_result",
          "data": {
            "text/plain": [
              "358"
            ]
          },
          "metadata": {},
          "execution_count": 122
        }
      ]
    },
    {
      "cell_type": "code",
      "source": [
        "lbl = []\n",
        "for i in photodir3[:100]:\n",
        "    lbl.append(img_to_labels(i))\n",
        "\n",
        "lbls = [i[j] for i in lbl for j in range(len(i))]\n",
        "len(lbls) # 이미지와 레이블 개수 일치"
      ],
      "metadata": {
        "colab": {
          "base_uri": "https://localhost:8080/"
        },
        "id": "HklVUzumeRs1",
        "outputId": "ee11b39b-5940-45d5-afb4-75bbff1078f0"
      },
      "execution_count": 138,
      "outputs": [
        {
          "output_type": "execute_result",
          "data": {
            "text/plain": [
              "358"
            ]
          },
          "metadata": {},
          "execution_count": 138
        }
      ]
    },
    {
      "cell_type": "code",
      "source": [
        "transform_drug = transforms.Compose([transforms.ToTensor(),\n",
        "                                     transforms.Resize((64, 64))])\n",
        "\n",
        "# tf = transform_drug(idv_crop[0])\n",
        "# tf.size() >> torch.Size([3, 64, 64])\n",
        "\n",
        "img_t = [transform_drug(i) for i in idv_crop]\n",
        "len(img_t)"
      ],
      "metadata": {
        "colab": {
          "base_uri": "https://localhost:8080/"
        },
        "id": "nTfceY8RMm42",
        "outputId": "9af683ae-d8ee-4ed5-9425-4ccfe230dea8"
      },
      "execution_count": 145,
      "outputs": [
        {
          "output_type": "execute_result",
          "data": {
            "text/plain": [
              "358"
            ]
          },
          "metadata": {},
          "execution_count": 145
        }
      ]
    },
    {
      "cell_type": "code",
      "source": [
        "# train_loader = data.DataLoader(\n",
        "#     dataset = (img_t, lbls),\n",
        "#     batch_size = 20, shuffle = True\n",
        "# )\n",
        "\n",
        "# dataiter = iter(train_loader)\n",
        "# images, labels = next(dataiter)\n",
        "# images.shape, labels.shape"
      ],
      "metadata": {
        "id": "e2vO71x3aiWB"
      },
      "execution_count": 144,
      "outputs": []
    },
    {
      "cell_type": "code",
      "source": [],
      "metadata": {
        "id": "c8vdl1w-a9ox"
      },
      "execution_count": null,
      "outputs": []
    }
  ]
}