{
  "nbformat": 4,
  "nbformat_minor": 0,
  "metadata": {
    "colab": {
      "provenance": [],
      "toc_visible": true,
      "authorship_tag": "ABX9TyNkyKE9Txhs4RJNoDk8HMe+",
      "include_colab_link": true
    },
    "kernelspec": {
      "name": "python3",
      "display_name": "Python 3"
    },
    "language_info": {
      "name": "python"
    }
  },
  "cells": [
    {
      "cell_type": "markdown",
      "metadata": {
        "id": "view-in-github",
        "colab_type": "text"
      },
      "source": [
        "<a href=\"https://colab.research.google.com/github/JJay1010/K-software_-/blob/main/SuminLee/Project3_covid19.ipynb\" target=\"_parent\"><img src=\"https://colab.research.google.com/assets/colab-badge.svg\" alt=\"Open In Colab\"/></a>"
      ]
    },
    {
      "cell_type": "markdown",
      "source": [
        "**주제: 코로나 데이터 분석**\n",
        "\n",
        "이용 데이터: covid_19_data.csv\n",
        "\n",
        "(출처: https://www.kaggle.com/code/neelkudu28/covid-19-visualizations-predictions-forecasting?select=covid_19_data.csv&kernelSessionId=42044544)\n",
        "\n",
        "데이터 칼럼 (8개) : SNo (번호), ObservationDate (판정일), Province/State (주),\n",
        "\n",
        "Country/Region (국가/지역), Last Update (마지막 업데이트 날짜 시각), Confirmed (확진자 수),\n",
        "\n",
        "Deaths (사망자 수), Recovered (완치자 수)\n",
        "\n",
        "1) 무엇을 할 것인가?\n",
        "\n",
        "\n",
        "\n",
        "1.   데이터 분석으로 유의미한 정보를 얻기\n",
        "\n",
        "\n",
        "*   국가별로 월별 확진자 수 추이\n",
        "*   항목 추가\n",
        "\n",
        "\n",
        "\n",
        "\n",
        "\n"
      ],
      "metadata": {
        "id": "kcR93ZBJmYoS"
      }
    },
    {
      "cell_type": "markdown",
      "source": [
        "##1.데이터 로드"
      ],
      "metadata": {
        "id": "_M3c2vvsy6_U"
      }
    },
    {
      "cell_type": "code",
      "source": [
        "from google.colab import drive\n",
        "drive.mount('/content/drive')"
      ],
      "metadata": {
        "colab": {
          "base_uri": "https://localhost:8080/"
        },
        "id": "k5OyAVsmx5OQ",
        "outputId": "178e504e-61c7-44d9-fbe9-9ec9dc85b183"
      },
      "execution_count": 54,
      "outputs": [
        {
          "output_type": "stream",
          "name": "stdout",
          "text": [
            "Drive already mounted at /content/drive; to attempt to forcibly remount, call drive.mount(\"/content/drive\", force_remount=True).\n"
          ]
        }
      ]
    },
    {
      "cell_type": "code",
      "source": [
        "import pandas as pd\n",
        "import numpy as np\n",
        "import seaborn as sns\n",
        "import matplotlib.pyplot as plt"
      ],
      "metadata": {
        "id": "WCRBESy7yJhc"
      },
      "execution_count": 55,
      "outputs": []
    },
    {
      "cell_type": "code",
      "execution_count": 56,
      "metadata": {
        "id": "zoYIzjEpx3Z0"
      },
      "outputs": [],
      "source": [
        "df = pd.read_csv('/content/drive/MyDrive/Project3/DataSet/covid_19_data.csv')"
      ]
    },
    {
      "cell_type": "markdown",
      "source": [
        "## 2.데이터 전처리"
      ],
      "metadata": {
        "id": "oYlf88KV02UV"
      }
    },
    {
      "cell_type": "markdown",
      "source": [
        "**일단 데이터를 확인해보자**"
      ],
      "metadata": {
        "id": "MdZTDiYX09am"
      }
    },
    {
      "cell_type": "code",
      "source": [
        "df.head()"
      ],
      "metadata": {
        "colab": {
          "base_uri": "https://localhost:8080/",
          "height": 206
        },
        "id": "H0g-SSVtyRs1",
        "outputId": "d4491e69-6752-49c3-d20d-371f896209f0"
      },
      "execution_count": 57,
      "outputs": [
        {
          "output_type": "execute_result",
          "data": {
            "text/plain": [
              "   SNo ObservationDate Province/State  Country/Region      Last Update  \\\n",
              "0    1      01/22/2020          Anhui  Mainland China  1/22/2020 17:00   \n",
              "1    2      01/22/2020        Beijing  Mainland China  1/22/2020 17:00   \n",
              "2    3      01/22/2020      Chongqing  Mainland China  1/22/2020 17:00   \n",
              "3    4      01/22/2020         Fujian  Mainland China  1/22/2020 17:00   \n",
              "4    5      01/22/2020          Gansu  Mainland China  1/22/2020 17:00   \n",
              "\n",
              "   Confirmed  Deaths  Recovered  \n",
              "0        1.0     0.0        0.0  \n",
              "1       14.0     0.0        0.0  \n",
              "2        6.0     0.0        0.0  \n",
              "3        1.0     0.0        0.0  \n",
              "4        0.0     0.0        0.0  "
            ],
            "text/html": [
              "\n",
              "  <div id=\"df-cb96b868-b968-4966-b6f0-083a6f911139\">\n",
              "    <div class=\"colab-df-container\">\n",
              "      <div>\n",
              "<style scoped>\n",
              "    .dataframe tbody tr th:only-of-type {\n",
              "        vertical-align: middle;\n",
              "    }\n",
              "\n",
              "    .dataframe tbody tr th {\n",
              "        vertical-align: top;\n",
              "    }\n",
              "\n",
              "    .dataframe thead th {\n",
              "        text-align: right;\n",
              "    }\n",
              "</style>\n",
              "<table border=\"1\" class=\"dataframe\">\n",
              "  <thead>\n",
              "    <tr style=\"text-align: right;\">\n",
              "      <th></th>\n",
              "      <th>SNo</th>\n",
              "      <th>ObservationDate</th>\n",
              "      <th>Province/State</th>\n",
              "      <th>Country/Region</th>\n",
              "      <th>Last Update</th>\n",
              "      <th>Confirmed</th>\n",
              "      <th>Deaths</th>\n",
              "      <th>Recovered</th>\n",
              "    </tr>\n",
              "  </thead>\n",
              "  <tbody>\n",
              "    <tr>\n",
              "      <th>0</th>\n",
              "      <td>1</td>\n",
              "      <td>01/22/2020</td>\n",
              "      <td>Anhui</td>\n",
              "      <td>Mainland China</td>\n",
              "      <td>1/22/2020 17:00</td>\n",
              "      <td>1.0</td>\n",
              "      <td>0.0</td>\n",
              "      <td>0.0</td>\n",
              "    </tr>\n",
              "    <tr>\n",
              "      <th>1</th>\n",
              "      <td>2</td>\n",
              "      <td>01/22/2020</td>\n",
              "      <td>Beijing</td>\n",
              "      <td>Mainland China</td>\n",
              "      <td>1/22/2020 17:00</td>\n",
              "      <td>14.0</td>\n",
              "      <td>0.0</td>\n",
              "      <td>0.0</td>\n",
              "    </tr>\n",
              "    <tr>\n",
              "      <th>2</th>\n",
              "      <td>3</td>\n",
              "      <td>01/22/2020</td>\n",
              "      <td>Chongqing</td>\n",
              "      <td>Mainland China</td>\n",
              "      <td>1/22/2020 17:00</td>\n",
              "      <td>6.0</td>\n",
              "      <td>0.0</td>\n",
              "      <td>0.0</td>\n",
              "    </tr>\n",
              "    <tr>\n",
              "      <th>3</th>\n",
              "      <td>4</td>\n",
              "      <td>01/22/2020</td>\n",
              "      <td>Fujian</td>\n",
              "      <td>Mainland China</td>\n",
              "      <td>1/22/2020 17:00</td>\n",
              "      <td>1.0</td>\n",
              "      <td>0.0</td>\n",
              "      <td>0.0</td>\n",
              "    </tr>\n",
              "    <tr>\n",
              "      <th>4</th>\n",
              "      <td>5</td>\n",
              "      <td>01/22/2020</td>\n",
              "      <td>Gansu</td>\n",
              "      <td>Mainland China</td>\n",
              "      <td>1/22/2020 17:00</td>\n",
              "      <td>0.0</td>\n",
              "      <td>0.0</td>\n",
              "      <td>0.0</td>\n",
              "    </tr>\n",
              "  </tbody>\n",
              "</table>\n",
              "</div>\n",
              "      <button class=\"colab-df-convert\" onclick=\"convertToInteractive('df-cb96b868-b968-4966-b6f0-083a6f911139')\"\n",
              "              title=\"Convert this dataframe to an interactive table.\"\n",
              "              style=\"display:none;\">\n",
              "        \n",
              "  <svg xmlns=\"http://www.w3.org/2000/svg\" height=\"24px\"viewBox=\"0 0 24 24\"\n",
              "       width=\"24px\">\n",
              "    <path d=\"M0 0h24v24H0V0z\" fill=\"none\"/>\n",
              "    <path d=\"M18.56 5.44l.94 2.06.94-2.06 2.06-.94-2.06-.94-.94-2.06-.94 2.06-2.06.94zm-11 1L8.5 8.5l.94-2.06 2.06-.94-2.06-.94L8.5 2.5l-.94 2.06-2.06.94zm10 10l.94 2.06.94-2.06 2.06-.94-2.06-.94-.94-2.06-.94 2.06-2.06.94z\"/><path d=\"M17.41 7.96l-1.37-1.37c-.4-.4-.92-.59-1.43-.59-.52 0-1.04.2-1.43.59L10.3 9.45l-7.72 7.72c-.78.78-.78 2.05 0 2.83L4 21.41c.39.39.9.59 1.41.59.51 0 1.02-.2 1.41-.59l7.78-7.78 2.81-2.81c.8-.78.8-2.07 0-2.86zM5.41 20L4 18.59l7.72-7.72 1.47 1.35L5.41 20z\"/>\n",
              "  </svg>\n",
              "      </button>\n",
              "      \n",
              "  <style>\n",
              "    .colab-df-container {\n",
              "      display:flex;\n",
              "      flex-wrap:wrap;\n",
              "      gap: 12px;\n",
              "    }\n",
              "\n",
              "    .colab-df-convert {\n",
              "      background-color: #E8F0FE;\n",
              "      border: none;\n",
              "      border-radius: 50%;\n",
              "      cursor: pointer;\n",
              "      display: none;\n",
              "      fill: #1967D2;\n",
              "      height: 32px;\n",
              "      padding: 0 0 0 0;\n",
              "      width: 32px;\n",
              "    }\n",
              "\n",
              "    .colab-df-convert:hover {\n",
              "      background-color: #E2EBFA;\n",
              "      box-shadow: 0px 1px 2px rgba(60, 64, 67, 0.3), 0px 1px 3px 1px rgba(60, 64, 67, 0.15);\n",
              "      fill: #174EA6;\n",
              "    }\n",
              "\n",
              "    [theme=dark] .colab-df-convert {\n",
              "      background-color: #3B4455;\n",
              "      fill: #D2E3FC;\n",
              "    }\n",
              "\n",
              "    [theme=dark] .colab-df-convert:hover {\n",
              "      background-color: #434B5C;\n",
              "      box-shadow: 0px 1px 3px 1px rgba(0, 0, 0, 0.15);\n",
              "      filter: drop-shadow(0px 1px 2px rgba(0, 0, 0, 0.3));\n",
              "      fill: #FFFFFF;\n",
              "    }\n",
              "  </style>\n",
              "\n",
              "      <script>\n",
              "        const buttonEl =\n",
              "          document.querySelector('#df-cb96b868-b968-4966-b6f0-083a6f911139 button.colab-df-convert');\n",
              "        buttonEl.style.display =\n",
              "          google.colab.kernel.accessAllowed ? 'block' : 'none';\n",
              "\n",
              "        async function convertToInteractive(key) {\n",
              "          const element = document.querySelector('#df-cb96b868-b968-4966-b6f0-083a6f911139');\n",
              "          const dataTable =\n",
              "            await google.colab.kernel.invokeFunction('convertToInteractive',\n",
              "                                                     [key], {});\n",
              "          if (!dataTable) return;\n",
              "\n",
              "          const docLinkHtml = 'Like what you see? Visit the ' +\n",
              "            '<a target=\"_blank\" href=https://colab.research.google.com/notebooks/data_table.ipynb>data table notebook</a>'\n",
              "            + ' to learn more about interactive tables.';\n",
              "          element.innerHTML = '';\n",
              "          dataTable['output_type'] = 'display_data';\n",
              "          await google.colab.output.renderOutput(dataTable, element);\n",
              "          const docLink = document.createElement('div');\n",
              "          docLink.innerHTML = docLinkHtml;\n",
              "          element.appendChild(docLink);\n",
              "        }\n",
              "      </script>\n",
              "    </div>\n",
              "  </div>\n",
              "  "
            ]
          },
          "metadata": {},
          "execution_count": 57
        }
      ]
    },
    {
      "cell_type": "markdown",
      "source": [
        "**칼럼별 결측치 확인**"
      ],
      "metadata": {
        "id": "ZCqev6BErMak"
      }
    },
    {
      "cell_type": "code",
      "source": [
        "print(df['ObservationDate'].isnull().sum())\n",
        "print(df['Province/State'].isnull().sum())\n",
        "print(df['Country/Region'].isnull().sum())\n",
        "print(df['Confirmed'].isnull().sum())\n",
        "print(df['Deaths'].isnull().sum())\n",
        "print(df['Recovered'].isnull().sum())"
      ],
      "metadata": {
        "colab": {
          "base_uri": "https://localhost:8080/"
        },
        "id": "DIa8hSh61bEv",
        "outputId": "0b810063-e8fa-4f7a-bd84-c562fc866c29"
      },
      "execution_count": 58,
      "outputs": [
        {
          "output_type": "stream",
          "name": "stdout",
          "text": [
            "0\n",
            "31153\n",
            "0\n",
            "0\n",
            "0\n",
            "0\n"
          ]
        }
      ]
    },
    {
      "cell_type": "code",
      "source": [
        "len(df)"
      ],
      "metadata": {
        "colab": {
          "base_uri": "https://localhost:8080/"
        },
        "id": "f-0fZuW43wy4",
        "outputId": "2769e090-a91b-48da-8f14-fb9e7b1d1278"
      },
      "execution_count": 59,
      "outputs": [
        {
          "output_type": "execute_result",
          "data": {
            "text/plain": [
              "98252"
            ]
          },
          "metadata": {},
          "execution_count": 59
        }
      ]
    },
    {
      "cell_type": "markdown",
      "source": [
        "총 98,252개의 데이터 중 **'Province/State'** 칼럼이 null인 데이터가 31,153개이다. (약 32%)\n",
        "\n",
        "=> 무작위로 null 값인 것이 아니라 null 값인 국가가 있는 것이라면? 확인해보자."
      ],
      "metadata": {
        "id": "i5iFZHCprSVV"
      }
    },
    {
      "cell_type": "code",
      "source": [
        "#df[df.v1.isnull()]\n",
        "df[df['Province/State'].isnull()]"
      ],
      "metadata": {
        "colab": {
          "base_uri": "https://localhost:8080/",
          "height": 424
        },
        "id": "prLcGbTzsJJL",
        "outputId": "719a2da1-2cf5-4607-c435-271e13600f9f"
      },
      "execution_count": 60,
      "outputs": [
        {
          "output_type": "execute_result",
          "data": {
            "text/plain": [
              "         SNo ObservationDate Province/State      Country/Region  \\\n",
              "35        36      01/22/2020            NaN               Japan   \n",
              "36        37      01/22/2020            NaN            Thailand   \n",
              "37        38      01/22/2020            NaN         South Korea   \n",
              "73        74      01/23/2020            NaN               Japan   \n",
              "74        75      01/23/2020            NaN            Thailand   \n",
              "...      ...             ...            ...                 ...   \n",
              "97673  97674      08/29/2020            NaN  West Bank and Gaza   \n",
              "97674  97675      08/29/2020            NaN      Western Sahara   \n",
              "97675  97676      08/29/2020            NaN               Yemen   \n",
              "97676  97677      08/29/2020            NaN              Zambia   \n",
              "97677  97678      08/29/2020            NaN            Zimbabwe   \n",
              "\n",
              "               Last Update  Confirmed  Deaths  Recovered  \n",
              "35         1/22/2020 17:00        2.0     0.0        0.0  \n",
              "36         1/22/2020 17:00        2.0     0.0        0.0  \n",
              "37         1/22/2020 17:00        1.0     0.0        0.0  \n",
              "73           1/23/20 17:00        1.0     0.0        0.0  \n",
              "74           1/23/20 17:00        3.0     0.0        0.0  \n",
              "...                    ...        ...     ...        ...  \n",
              "97673  2020-08-30 04:28:22    21668.0   147.0    14631.0  \n",
              "97674  2020-08-30 04:28:22       10.0     1.0        8.0  \n",
              "97675  2020-08-30 04:28:22     1946.0   563.0     1113.0  \n",
              "97676  2020-08-30 04:28:22    11902.0   284.0    11092.0  \n",
              "97677  2020-08-30 04:28:22     6406.0   196.0     5056.0  \n",
              "\n",
              "[31153 rows x 8 columns]"
            ],
            "text/html": [
              "\n",
              "  <div id=\"df-31e6cad1-f521-48cc-9cce-c7c0c844dcf0\">\n",
              "    <div class=\"colab-df-container\">\n",
              "      <div>\n",
              "<style scoped>\n",
              "    .dataframe tbody tr th:only-of-type {\n",
              "        vertical-align: middle;\n",
              "    }\n",
              "\n",
              "    .dataframe tbody tr th {\n",
              "        vertical-align: top;\n",
              "    }\n",
              "\n",
              "    .dataframe thead th {\n",
              "        text-align: right;\n",
              "    }\n",
              "</style>\n",
              "<table border=\"1\" class=\"dataframe\">\n",
              "  <thead>\n",
              "    <tr style=\"text-align: right;\">\n",
              "      <th></th>\n",
              "      <th>SNo</th>\n",
              "      <th>ObservationDate</th>\n",
              "      <th>Province/State</th>\n",
              "      <th>Country/Region</th>\n",
              "      <th>Last Update</th>\n",
              "      <th>Confirmed</th>\n",
              "      <th>Deaths</th>\n",
              "      <th>Recovered</th>\n",
              "    </tr>\n",
              "  </thead>\n",
              "  <tbody>\n",
              "    <tr>\n",
              "      <th>35</th>\n",
              "      <td>36</td>\n",
              "      <td>01/22/2020</td>\n",
              "      <td>NaN</td>\n",
              "      <td>Japan</td>\n",
              "      <td>1/22/2020 17:00</td>\n",
              "      <td>2.0</td>\n",
              "      <td>0.0</td>\n",
              "      <td>0.0</td>\n",
              "    </tr>\n",
              "    <tr>\n",
              "      <th>36</th>\n",
              "      <td>37</td>\n",
              "      <td>01/22/2020</td>\n",
              "      <td>NaN</td>\n",
              "      <td>Thailand</td>\n",
              "      <td>1/22/2020 17:00</td>\n",
              "      <td>2.0</td>\n",
              "      <td>0.0</td>\n",
              "      <td>0.0</td>\n",
              "    </tr>\n",
              "    <tr>\n",
              "      <th>37</th>\n",
              "      <td>38</td>\n",
              "      <td>01/22/2020</td>\n",
              "      <td>NaN</td>\n",
              "      <td>South Korea</td>\n",
              "      <td>1/22/2020 17:00</td>\n",
              "      <td>1.0</td>\n",
              "      <td>0.0</td>\n",
              "      <td>0.0</td>\n",
              "    </tr>\n",
              "    <tr>\n",
              "      <th>73</th>\n",
              "      <td>74</td>\n",
              "      <td>01/23/2020</td>\n",
              "      <td>NaN</td>\n",
              "      <td>Japan</td>\n",
              "      <td>1/23/20 17:00</td>\n",
              "      <td>1.0</td>\n",
              "      <td>0.0</td>\n",
              "      <td>0.0</td>\n",
              "    </tr>\n",
              "    <tr>\n",
              "      <th>74</th>\n",
              "      <td>75</td>\n",
              "      <td>01/23/2020</td>\n",
              "      <td>NaN</td>\n",
              "      <td>Thailand</td>\n",
              "      <td>1/23/20 17:00</td>\n",
              "      <td>3.0</td>\n",
              "      <td>0.0</td>\n",
              "      <td>0.0</td>\n",
              "    </tr>\n",
              "    <tr>\n",
              "      <th>...</th>\n",
              "      <td>...</td>\n",
              "      <td>...</td>\n",
              "      <td>...</td>\n",
              "      <td>...</td>\n",
              "      <td>...</td>\n",
              "      <td>...</td>\n",
              "      <td>...</td>\n",
              "      <td>...</td>\n",
              "    </tr>\n",
              "    <tr>\n",
              "      <th>97673</th>\n",
              "      <td>97674</td>\n",
              "      <td>08/29/2020</td>\n",
              "      <td>NaN</td>\n",
              "      <td>West Bank and Gaza</td>\n",
              "      <td>2020-08-30 04:28:22</td>\n",
              "      <td>21668.0</td>\n",
              "      <td>147.0</td>\n",
              "      <td>14631.0</td>\n",
              "    </tr>\n",
              "    <tr>\n",
              "      <th>97674</th>\n",
              "      <td>97675</td>\n",
              "      <td>08/29/2020</td>\n",
              "      <td>NaN</td>\n",
              "      <td>Western Sahara</td>\n",
              "      <td>2020-08-30 04:28:22</td>\n",
              "      <td>10.0</td>\n",
              "      <td>1.0</td>\n",
              "      <td>8.0</td>\n",
              "    </tr>\n",
              "    <tr>\n",
              "      <th>97675</th>\n",
              "      <td>97676</td>\n",
              "      <td>08/29/2020</td>\n",
              "      <td>NaN</td>\n",
              "      <td>Yemen</td>\n",
              "      <td>2020-08-30 04:28:22</td>\n",
              "      <td>1946.0</td>\n",
              "      <td>563.0</td>\n",
              "      <td>1113.0</td>\n",
              "    </tr>\n",
              "    <tr>\n",
              "      <th>97676</th>\n",
              "      <td>97677</td>\n",
              "      <td>08/29/2020</td>\n",
              "      <td>NaN</td>\n",
              "      <td>Zambia</td>\n",
              "      <td>2020-08-30 04:28:22</td>\n",
              "      <td>11902.0</td>\n",
              "      <td>284.0</td>\n",
              "      <td>11092.0</td>\n",
              "    </tr>\n",
              "    <tr>\n",
              "      <th>97677</th>\n",
              "      <td>97678</td>\n",
              "      <td>08/29/2020</td>\n",
              "      <td>NaN</td>\n",
              "      <td>Zimbabwe</td>\n",
              "      <td>2020-08-30 04:28:22</td>\n",
              "      <td>6406.0</td>\n",
              "      <td>196.0</td>\n",
              "      <td>5056.0</td>\n",
              "    </tr>\n",
              "  </tbody>\n",
              "</table>\n",
              "<p>31153 rows × 8 columns</p>\n",
              "</div>\n",
              "      <button class=\"colab-df-convert\" onclick=\"convertToInteractive('df-31e6cad1-f521-48cc-9cce-c7c0c844dcf0')\"\n",
              "              title=\"Convert this dataframe to an interactive table.\"\n",
              "              style=\"display:none;\">\n",
              "        \n",
              "  <svg xmlns=\"http://www.w3.org/2000/svg\" height=\"24px\"viewBox=\"0 0 24 24\"\n",
              "       width=\"24px\">\n",
              "    <path d=\"M0 0h24v24H0V0z\" fill=\"none\"/>\n",
              "    <path d=\"M18.56 5.44l.94 2.06.94-2.06 2.06-.94-2.06-.94-.94-2.06-.94 2.06-2.06.94zm-11 1L8.5 8.5l.94-2.06 2.06-.94-2.06-.94L8.5 2.5l-.94 2.06-2.06.94zm10 10l.94 2.06.94-2.06 2.06-.94-2.06-.94-.94-2.06-.94 2.06-2.06.94z\"/><path d=\"M17.41 7.96l-1.37-1.37c-.4-.4-.92-.59-1.43-.59-.52 0-1.04.2-1.43.59L10.3 9.45l-7.72 7.72c-.78.78-.78 2.05 0 2.83L4 21.41c.39.39.9.59 1.41.59.51 0 1.02-.2 1.41-.59l7.78-7.78 2.81-2.81c.8-.78.8-2.07 0-2.86zM5.41 20L4 18.59l7.72-7.72 1.47 1.35L5.41 20z\"/>\n",
              "  </svg>\n",
              "      </button>\n",
              "      \n",
              "  <style>\n",
              "    .colab-df-container {\n",
              "      display:flex;\n",
              "      flex-wrap:wrap;\n",
              "      gap: 12px;\n",
              "    }\n",
              "\n",
              "    .colab-df-convert {\n",
              "      background-color: #E8F0FE;\n",
              "      border: none;\n",
              "      border-radius: 50%;\n",
              "      cursor: pointer;\n",
              "      display: none;\n",
              "      fill: #1967D2;\n",
              "      height: 32px;\n",
              "      padding: 0 0 0 0;\n",
              "      width: 32px;\n",
              "    }\n",
              "\n",
              "    .colab-df-convert:hover {\n",
              "      background-color: #E2EBFA;\n",
              "      box-shadow: 0px 1px 2px rgba(60, 64, 67, 0.3), 0px 1px 3px 1px rgba(60, 64, 67, 0.15);\n",
              "      fill: #174EA6;\n",
              "    }\n",
              "\n",
              "    [theme=dark] .colab-df-convert {\n",
              "      background-color: #3B4455;\n",
              "      fill: #D2E3FC;\n",
              "    }\n",
              "\n",
              "    [theme=dark] .colab-df-convert:hover {\n",
              "      background-color: #434B5C;\n",
              "      box-shadow: 0px 1px 3px 1px rgba(0, 0, 0, 0.15);\n",
              "      filter: drop-shadow(0px 1px 2px rgba(0, 0, 0, 0.3));\n",
              "      fill: #FFFFFF;\n",
              "    }\n",
              "  </style>\n",
              "\n",
              "      <script>\n",
              "        const buttonEl =\n",
              "          document.querySelector('#df-31e6cad1-f521-48cc-9cce-c7c0c844dcf0 button.colab-df-convert');\n",
              "        buttonEl.style.display =\n",
              "          google.colab.kernel.accessAllowed ? 'block' : 'none';\n",
              "\n",
              "        async function convertToInteractive(key) {\n",
              "          const element = document.querySelector('#df-31e6cad1-f521-48cc-9cce-c7c0c844dcf0');\n",
              "          const dataTable =\n",
              "            await google.colab.kernel.invokeFunction('convertToInteractive',\n",
              "                                                     [key], {});\n",
              "          if (!dataTable) return;\n",
              "\n",
              "          const docLinkHtml = 'Like what you see? Visit the ' +\n",
              "            '<a target=\"_blank\" href=https://colab.research.google.com/notebooks/data_table.ipynb>data table notebook</a>'\n",
              "            + ' to learn more about interactive tables.';\n",
              "          element.innerHTML = '';\n",
              "          dataTable['output_type'] = 'display_data';\n",
              "          await google.colab.output.renderOutput(dataTable, element);\n",
              "          const docLink = document.createElement('div');\n",
              "          docLink.innerHTML = docLinkHtml;\n",
              "          element.appendChild(docLink);\n",
              "        }\n",
              "      </script>\n",
              "    </div>\n",
              "  </div>\n",
              "  "
            ]
          },
          "metadata": {},
          "execution_count": 60
        }
      ]
    },
    {
      "cell_type": "code",
      "source": [
        "df[df['Country/Region'] == 'Japan']"
      ],
      "metadata": {
        "colab": {
          "base_uri": "https://localhost:8080/",
          "height": 424
        },
        "id": "J7aZpvpEsvaX",
        "outputId": "188e660f-76fd-495d-8c3c-32bc3b7337f4"
      },
      "execution_count": 61,
      "outputs": [
        {
          "output_type": "execute_result",
          "data": {
            "text/plain": [
              "         SNo ObservationDate Province/State Country/Region  \\\n",
              "35        36      01/22/2020            NaN          Japan   \n",
              "73        74      01/23/2020            NaN          Japan   \n",
              "119      120      01/24/2020            NaN          Japan   \n",
              "160      161      01/25/2020            NaN          Japan   \n",
              "206      207      01/26/2020            NaN          Japan   \n",
              "...      ...             ...            ...            ...   \n",
              "98195  98196      08/29/2020        Unknown          Japan   \n",
              "98227  98228      08/29/2020       Wakayama          Japan   \n",
              "98236  98237      08/29/2020       Yamagata          Japan   \n",
              "98237  98238      08/29/2020      Yamaguchi          Japan   \n",
              "98239  98240      08/29/2020      Yamanashi          Japan   \n",
              "\n",
              "               Last Update  Confirmed  Deaths  Recovered  \n",
              "35         1/22/2020 17:00        2.0     0.0        0.0  \n",
              "73           1/23/20 17:00        1.0     0.0        0.0  \n",
              "119          1/24/20 17:00        2.0     0.0        0.0  \n",
              "160          1/25/20 17:00        2.0     0.0        0.0  \n",
              "206          1/26/20 16:00        4.0     0.0        1.0  \n",
              "...                    ...        ...     ...        ...  \n",
              "98195  2020-08-30 04:28:22        8.0     0.0        8.0  \n",
              "98227  2020-08-30 04:28:22      230.0     5.0      210.0  \n",
              "98236  2020-08-30 04:28:22       77.0     1.0       76.0  \n",
              "98237  2020-08-30 04:28:22      158.0     0.0       87.0  \n",
              "98239  2020-08-30 04:28:22      172.0     3.0      147.0  \n",
              "\n",
              "[4682 rows x 8 columns]"
            ],
            "text/html": [
              "\n",
              "  <div id=\"df-747b73cd-3901-4cee-b2f3-776d83c529f8\">\n",
              "    <div class=\"colab-df-container\">\n",
              "      <div>\n",
              "<style scoped>\n",
              "    .dataframe tbody tr th:only-of-type {\n",
              "        vertical-align: middle;\n",
              "    }\n",
              "\n",
              "    .dataframe tbody tr th {\n",
              "        vertical-align: top;\n",
              "    }\n",
              "\n",
              "    .dataframe thead th {\n",
              "        text-align: right;\n",
              "    }\n",
              "</style>\n",
              "<table border=\"1\" class=\"dataframe\">\n",
              "  <thead>\n",
              "    <tr style=\"text-align: right;\">\n",
              "      <th></th>\n",
              "      <th>SNo</th>\n",
              "      <th>ObservationDate</th>\n",
              "      <th>Province/State</th>\n",
              "      <th>Country/Region</th>\n",
              "      <th>Last Update</th>\n",
              "      <th>Confirmed</th>\n",
              "      <th>Deaths</th>\n",
              "      <th>Recovered</th>\n",
              "    </tr>\n",
              "  </thead>\n",
              "  <tbody>\n",
              "    <tr>\n",
              "      <th>35</th>\n",
              "      <td>36</td>\n",
              "      <td>01/22/2020</td>\n",
              "      <td>NaN</td>\n",
              "      <td>Japan</td>\n",
              "      <td>1/22/2020 17:00</td>\n",
              "      <td>2.0</td>\n",
              "      <td>0.0</td>\n",
              "      <td>0.0</td>\n",
              "    </tr>\n",
              "    <tr>\n",
              "      <th>73</th>\n",
              "      <td>74</td>\n",
              "      <td>01/23/2020</td>\n",
              "      <td>NaN</td>\n",
              "      <td>Japan</td>\n",
              "      <td>1/23/20 17:00</td>\n",
              "      <td>1.0</td>\n",
              "      <td>0.0</td>\n",
              "      <td>0.0</td>\n",
              "    </tr>\n",
              "    <tr>\n",
              "      <th>119</th>\n",
              "      <td>120</td>\n",
              "      <td>01/24/2020</td>\n",
              "      <td>NaN</td>\n",
              "      <td>Japan</td>\n",
              "      <td>1/24/20 17:00</td>\n",
              "      <td>2.0</td>\n",
              "      <td>0.0</td>\n",
              "      <td>0.0</td>\n",
              "    </tr>\n",
              "    <tr>\n",
              "      <th>160</th>\n",
              "      <td>161</td>\n",
              "      <td>01/25/2020</td>\n",
              "      <td>NaN</td>\n",
              "      <td>Japan</td>\n",
              "      <td>1/25/20 17:00</td>\n",
              "      <td>2.0</td>\n",
              "      <td>0.0</td>\n",
              "      <td>0.0</td>\n",
              "    </tr>\n",
              "    <tr>\n",
              "      <th>206</th>\n",
              "      <td>207</td>\n",
              "      <td>01/26/2020</td>\n",
              "      <td>NaN</td>\n",
              "      <td>Japan</td>\n",
              "      <td>1/26/20 16:00</td>\n",
              "      <td>4.0</td>\n",
              "      <td>0.0</td>\n",
              "      <td>1.0</td>\n",
              "    </tr>\n",
              "    <tr>\n",
              "      <th>...</th>\n",
              "      <td>...</td>\n",
              "      <td>...</td>\n",
              "      <td>...</td>\n",
              "      <td>...</td>\n",
              "      <td>...</td>\n",
              "      <td>...</td>\n",
              "      <td>...</td>\n",
              "      <td>...</td>\n",
              "    </tr>\n",
              "    <tr>\n",
              "      <th>98195</th>\n",
              "      <td>98196</td>\n",
              "      <td>08/29/2020</td>\n",
              "      <td>Unknown</td>\n",
              "      <td>Japan</td>\n",
              "      <td>2020-08-30 04:28:22</td>\n",
              "      <td>8.0</td>\n",
              "      <td>0.0</td>\n",
              "      <td>8.0</td>\n",
              "    </tr>\n",
              "    <tr>\n",
              "      <th>98227</th>\n",
              "      <td>98228</td>\n",
              "      <td>08/29/2020</td>\n",
              "      <td>Wakayama</td>\n",
              "      <td>Japan</td>\n",
              "      <td>2020-08-30 04:28:22</td>\n",
              "      <td>230.0</td>\n",
              "      <td>5.0</td>\n",
              "      <td>210.0</td>\n",
              "    </tr>\n",
              "    <tr>\n",
              "      <th>98236</th>\n",
              "      <td>98237</td>\n",
              "      <td>08/29/2020</td>\n",
              "      <td>Yamagata</td>\n",
              "      <td>Japan</td>\n",
              "      <td>2020-08-30 04:28:22</td>\n",
              "      <td>77.0</td>\n",
              "      <td>1.0</td>\n",
              "      <td>76.0</td>\n",
              "    </tr>\n",
              "    <tr>\n",
              "      <th>98237</th>\n",
              "      <td>98238</td>\n",
              "      <td>08/29/2020</td>\n",
              "      <td>Yamaguchi</td>\n",
              "      <td>Japan</td>\n",
              "      <td>2020-08-30 04:28:22</td>\n",
              "      <td>158.0</td>\n",
              "      <td>0.0</td>\n",
              "      <td>87.0</td>\n",
              "    </tr>\n",
              "    <tr>\n",
              "      <th>98239</th>\n",
              "      <td>98240</td>\n",
              "      <td>08/29/2020</td>\n",
              "      <td>Yamanashi</td>\n",
              "      <td>Japan</td>\n",
              "      <td>2020-08-30 04:28:22</td>\n",
              "      <td>172.0</td>\n",
              "      <td>3.0</td>\n",
              "      <td>147.0</td>\n",
              "    </tr>\n",
              "  </tbody>\n",
              "</table>\n",
              "<p>4682 rows × 8 columns</p>\n",
              "</div>\n",
              "      <button class=\"colab-df-convert\" onclick=\"convertToInteractive('df-747b73cd-3901-4cee-b2f3-776d83c529f8')\"\n",
              "              title=\"Convert this dataframe to an interactive table.\"\n",
              "              style=\"display:none;\">\n",
              "        \n",
              "  <svg xmlns=\"http://www.w3.org/2000/svg\" height=\"24px\"viewBox=\"0 0 24 24\"\n",
              "       width=\"24px\">\n",
              "    <path d=\"M0 0h24v24H0V0z\" fill=\"none\"/>\n",
              "    <path d=\"M18.56 5.44l.94 2.06.94-2.06 2.06-.94-2.06-.94-.94-2.06-.94 2.06-2.06.94zm-11 1L8.5 8.5l.94-2.06 2.06-.94-2.06-.94L8.5 2.5l-.94 2.06-2.06.94zm10 10l.94 2.06.94-2.06 2.06-.94-2.06-.94-.94-2.06-.94 2.06-2.06.94z\"/><path d=\"M17.41 7.96l-1.37-1.37c-.4-.4-.92-.59-1.43-.59-.52 0-1.04.2-1.43.59L10.3 9.45l-7.72 7.72c-.78.78-.78 2.05 0 2.83L4 21.41c.39.39.9.59 1.41.59.51 0 1.02-.2 1.41-.59l7.78-7.78 2.81-2.81c.8-.78.8-2.07 0-2.86zM5.41 20L4 18.59l7.72-7.72 1.47 1.35L5.41 20z\"/>\n",
              "  </svg>\n",
              "      </button>\n",
              "      \n",
              "  <style>\n",
              "    .colab-df-container {\n",
              "      display:flex;\n",
              "      flex-wrap:wrap;\n",
              "      gap: 12px;\n",
              "    }\n",
              "\n",
              "    .colab-df-convert {\n",
              "      background-color: #E8F0FE;\n",
              "      border: none;\n",
              "      border-radius: 50%;\n",
              "      cursor: pointer;\n",
              "      display: none;\n",
              "      fill: #1967D2;\n",
              "      height: 32px;\n",
              "      padding: 0 0 0 0;\n",
              "      width: 32px;\n",
              "    }\n",
              "\n",
              "    .colab-df-convert:hover {\n",
              "      background-color: #E2EBFA;\n",
              "      box-shadow: 0px 1px 2px rgba(60, 64, 67, 0.3), 0px 1px 3px 1px rgba(60, 64, 67, 0.15);\n",
              "      fill: #174EA6;\n",
              "    }\n",
              "\n",
              "    [theme=dark] .colab-df-convert {\n",
              "      background-color: #3B4455;\n",
              "      fill: #D2E3FC;\n",
              "    }\n",
              "\n",
              "    [theme=dark] .colab-df-convert:hover {\n",
              "      background-color: #434B5C;\n",
              "      box-shadow: 0px 1px 3px 1px rgba(0, 0, 0, 0.15);\n",
              "      filter: drop-shadow(0px 1px 2px rgba(0, 0, 0, 0.3));\n",
              "      fill: #FFFFFF;\n",
              "    }\n",
              "  </style>\n",
              "\n",
              "      <script>\n",
              "        const buttonEl =\n",
              "          document.querySelector('#df-747b73cd-3901-4cee-b2f3-776d83c529f8 button.colab-df-convert');\n",
              "        buttonEl.style.display =\n",
              "          google.colab.kernel.accessAllowed ? 'block' : 'none';\n",
              "\n",
              "        async function convertToInteractive(key) {\n",
              "          const element = document.querySelector('#df-747b73cd-3901-4cee-b2f3-776d83c529f8');\n",
              "          const dataTable =\n",
              "            await google.colab.kernel.invokeFunction('convertToInteractive',\n",
              "                                                     [key], {});\n",
              "          if (!dataTable) return;\n",
              "\n",
              "          const docLinkHtml = 'Like what you see? Visit the ' +\n",
              "            '<a target=\"_blank\" href=https://colab.research.google.com/notebooks/data_table.ipynb>data table notebook</a>'\n",
              "            + ' to learn more about interactive tables.';\n",
              "          element.innerHTML = '';\n",
              "          dataTable['output_type'] = 'display_data';\n",
              "          await google.colab.output.renderOutput(dataTable, element);\n",
              "          const docLink = document.createElement('div');\n",
              "          docLink.innerHTML = docLinkHtml;\n",
              "          element.appendChild(docLink);\n",
              "        }\n",
              "      </script>\n",
              "    </div>\n",
              "  </div>\n",
              "  "
            ]
          },
          "metadata": {},
          "execution_count": 61
        }
      ]
    },
    {
      "cell_type": "markdown",
      "source": [
        "일본으로 확인을 해본 결과 무작위로 null 값이 있는 것임을 확인하였다."
      ],
      "metadata": {
        "id": "C0iZX3-wx2c_"
      }
    },
    {
      "cell_type": "markdown",
      "source": [
        "## 2.1.칼럼 추가 (날짜 데이터 분리)"
      ],
      "metadata": {
        "id": "F_XglZ6s3HV-"
      }
    },
    {
      "cell_type": "code",
      "source": [
        "import datetime\n",
        "df['ObservationDate'] = pd.to_datetime(df['ObservationDate'])"
      ],
      "metadata": {
        "id": "b1lFMnrDCzUV"
      },
      "execution_count": 62,
      "outputs": []
    },
    {
      "cell_type": "code",
      "source": [
        "df['year'] = df['ObservationDate'].dt.year #연도\n",
        "df['month'] = df['ObservationDate'].dt.month #월\n",
        "df['day'] = df['ObservationDate'].dt.day #일\n",
        "df['dayofweek'] = df['ObservationDate'].dt.dayofweek #요일 (월 = 0)"
      ],
      "metadata": {
        "id": "MHmrOrxhDnUI"
      },
      "execution_count": 63,
      "outputs": []
    },
    {
      "cell_type": "code",
      "source": [
        "df.head()"
      ],
      "metadata": {
        "colab": {
          "base_uri": "https://localhost:8080/",
          "height": 206
        },
        "id": "BScNpwb9EMZh",
        "outputId": "9df93c8a-b8e9-4e7d-e3b5-006d70f26ed7"
      },
      "execution_count": 64,
      "outputs": [
        {
          "output_type": "execute_result",
          "data": {
            "text/plain": [
              "   SNo ObservationDate Province/State  Country/Region      Last Update  \\\n",
              "0    1      2020-01-22          Anhui  Mainland China  1/22/2020 17:00   \n",
              "1    2      2020-01-22        Beijing  Mainland China  1/22/2020 17:00   \n",
              "2    3      2020-01-22      Chongqing  Mainland China  1/22/2020 17:00   \n",
              "3    4      2020-01-22         Fujian  Mainland China  1/22/2020 17:00   \n",
              "4    5      2020-01-22          Gansu  Mainland China  1/22/2020 17:00   \n",
              "\n",
              "   Confirmed  Deaths  Recovered  year  month  day  dayofweek  \n",
              "0        1.0     0.0        0.0  2020      1   22          2  \n",
              "1       14.0     0.0        0.0  2020      1   22          2  \n",
              "2        6.0     0.0        0.0  2020      1   22          2  \n",
              "3        1.0     0.0        0.0  2020      1   22          2  \n",
              "4        0.0     0.0        0.0  2020      1   22          2  "
            ],
            "text/html": [
              "\n",
              "  <div id=\"df-dddb8d69-f9a4-44df-a415-a7f2b0b2f267\">\n",
              "    <div class=\"colab-df-container\">\n",
              "      <div>\n",
              "<style scoped>\n",
              "    .dataframe tbody tr th:only-of-type {\n",
              "        vertical-align: middle;\n",
              "    }\n",
              "\n",
              "    .dataframe tbody tr th {\n",
              "        vertical-align: top;\n",
              "    }\n",
              "\n",
              "    .dataframe thead th {\n",
              "        text-align: right;\n",
              "    }\n",
              "</style>\n",
              "<table border=\"1\" class=\"dataframe\">\n",
              "  <thead>\n",
              "    <tr style=\"text-align: right;\">\n",
              "      <th></th>\n",
              "      <th>SNo</th>\n",
              "      <th>ObservationDate</th>\n",
              "      <th>Province/State</th>\n",
              "      <th>Country/Region</th>\n",
              "      <th>Last Update</th>\n",
              "      <th>Confirmed</th>\n",
              "      <th>Deaths</th>\n",
              "      <th>Recovered</th>\n",
              "      <th>year</th>\n",
              "      <th>month</th>\n",
              "      <th>day</th>\n",
              "      <th>dayofweek</th>\n",
              "    </tr>\n",
              "  </thead>\n",
              "  <tbody>\n",
              "    <tr>\n",
              "      <th>0</th>\n",
              "      <td>1</td>\n",
              "      <td>2020-01-22</td>\n",
              "      <td>Anhui</td>\n",
              "      <td>Mainland China</td>\n",
              "      <td>1/22/2020 17:00</td>\n",
              "      <td>1.0</td>\n",
              "      <td>0.0</td>\n",
              "      <td>0.0</td>\n",
              "      <td>2020</td>\n",
              "      <td>1</td>\n",
              "      <td>22</td>\n",
              "      <td>2</td>\n",
              "    </tr>\n",
              "    <tr>\n",
              "      <th>1</th>\n",
              "      <td>2</td>\n",
              "      <td>2020-01-22</td>\n",
              "      <td>Beijing</td>\n",
              "      <td>Mainland China</td>\n",
              "      <td>1/22/2020 17:00</td>\n",
              "      <td>14.0</td>\n",
              "      <td>0.0</td>\n",
              "      <td>0.0</td>\n",
              "      <td>2020</td>\n",
              "      <td>1</td>\n",
              "      <td>22</td>\n",
              "      <td>2</td>\n",
              "    </tr>\n",
              "    <tr>\n",
              "      <th>2</th>\n",
              "      <td>3</td>\n",
              "      <td>2020-01-22</td>\n",
              "      <td>Chongqing</td>\n",
              "      <td>Mainland China</td>\n",
              "      <td>1/22/2020 17:00</td>\n",
              "      <td>6.0</td>\n",
              "      <td>0.0</td>\n",
              "      <td>0.0</td>\n",
              "      <td>2020</td>\n",
              "      <td>1</td>\n",
              "      <td>22</td>\n",
              "      <td>2</td>\n",
              "    </tr>\n",
              "    <tr>\n",
              "      <th>3</th>\n",
              "      <td>4</td>\n",
              "      <td>2020-01-22</td>\n",
              "      <td>Fujian</td>\n",
              "      <td>Mainland China</td>\n",
              "      <td>1/22/2020 17:00</td>\n",
              "      <td>1.0</td>\n",
              "      <td>0.0</td>\n",
              "      <td>0.0</td>\n",
              "      <td>2020</td>\n",
              "      <td>1</td>\n",
              "      <td>22</td>\n",
              "      <td>2</td>\n",
              "    </tr>\n",
              "    <tr>\n",
              "      <th>4</th>\n",
              "      <td>5</td>\n",
              "      <td>2020-01-22</td>\n",
              "      <td>Gansu</td>\n",
              "      <td>Mainland China</td>\n",
              "      <td>1/22/2020 17:00</td>\n",
              "      <td>0.0</td>\n",
              "      <td>0.0</td>\n",
              "      <td>0.0</td>\n",
              "      <td>2020</td>\n",
              "      <td>1</td>\n",
              "      <td>22</td>\n",
              "      <td>2</td>\n",
              "    </tr>\n",
              "  </tbody>\n",
              "</table>\n",
              "</div>\n",
              "      <button class=\"colab-df-convert\" onclick=\"convertToInteractive('df-dddb8d69-f9a4-44df-a415-a7f2b0b2f267')\"\n",
              "              title=\"Convert this dataframe to an interactive table.\"\n",
              "              style=\"display:none;\">\n",
              "        \n",
              "  <svg xmlns=\"http://www.w3.org/2000/svg\" height=\"24px\"viewBox=\"0 0 24 24\"\n",
              "       width=\"24px\">\n",
              "    <path d=\"M0 0h24v24H0V0z\" fill=\"none\"/>\n",
              "    <path d=\"M18.56 5.44l.94 2.06.94-2.06 2.06-.94-2.06-.94-.94-2.06-.94 2.06-2.06.94zm-11 1L8.5 8.5l.94-2.06 2.06-.94-2.06-.94L8.5 2.5l-.94 2.06-2.06.94zm10 10l.94 2.06.94-2.06 2.06-.94-2.06-.94-.94-2.06-.94 2.06-2.06.94z\"/><path d=\"M17.41 7.96l-1.37-1.37c-.4-.4-.92-.59-1.43-.59-.52 0-1.04.2-1.43.59L10.3 9.45l-7.72 7.72c-.78.78-.78 2.05 0 2.83L4 21.41c.39.39.9.59 1.41.59.51 0 1.02-.2 1.41-.59l7.78-7.78 2.81-2.81c.8-.78.8-2.07 0-2.86zM5.41 20L4 18.59l7.72-7.72 1.47 1.35L5.41 20z\"/>\n",
              "  </svg>\n",
              "      </button>\n",
              "      \n",
              "  <style>\n",
              "    .colab-df-container {\n",
              "      display:flex;\n",
              "      flex-wrap:wrap;\n",
              "      gap: 12px;\n",
              "    }\n",
              "\n",
              "    .colab-df-convert {\n",
              "      background-color: #E8F0FE;\n",
              "      border: none;\n",
              "      border-radius: 50%;\n",
              "      cursor: pointer;\n",
              "      display: none;\n",
              "      fill: #1967D2;\n",
              "      height: 32px;\n",
              "      padding: 0 0 0 0;\n",
              "      width: 32px;\n",
              "    }\n",
              "\n",
              "    .colab-df-convert:hover {\n",
              "      background-color: #E2EBFA;\n",
              "      box-shadow: 0px 1px 2px rgba(60, 64, 67, 0.3), 0px 1px 3px 1px rgba(60, 64, 67, 0.15);\n",
              "      fill: #174EA6;\n",
              "    }\n",
              "\n",
              "    [theme=dark] .colab-df-convert {\n",
              "      background-color: #3B4455;\n",
              "      fill: #D2E3FC;\n",
              "    }\n",
              "\n",
              "    [theme=dark] .colab-df-convert:hover {\n",
              "      background-color: #434B5C;\n",
              "      box-shadow: 0px 1px 3px 1px rgba(0, 0, 0, 0.15);\n",
              "      filter: drop-shadow(0px 1px 2px rgba(0, 0, 0, 0.3));\n",
              "      fill: #FFFFFF;\n",
              "    }\n",
              "  </style>\n",
              "\n",
              "      <script>\n",
              "        const buttonEl =\n",
              "          document.querySelector('#df-dddb8d69-f9a4-44df-a415-a7f2b0b2f267 button.colab-df-convert');\n",
              "        buttonEl.style.display =\n",
              "          google.colab.kernel.accessAllowed ? 'block' : 'none';\n",
              "\n",
              "        async function convertToInteractive(key) {\n",
              "          const element = document.querySelector('#df-dddb8d69-f9a4-44df-a415-a7f2b0b2f267');\n",
              "          const dataTable =\n",
              "            await google.colab.kernel.invokeFunction('convertToInteractive',\n",
              "                                                     [key], {});\n",
              "          if (!dataTable) return;\n",
              "\n",
              "          const docLinkHtml = 'Like what you see? Visit the ' +\n",
              "            '<a target=\"_blank\" href=https://colab.research.google.com/notebooks/data_table.ipynb>data table notebook</a>'\n",
              "            + ' to learn more about interactive tables.';\n",
              "          element.innerHTML = '';\n",
              "          dataTable['output_type'] = 'display_data';\n",
              "          await google.colab.output.renderOutput(dataTable, element);\n",
              "          const docLink = document.createElement('div');\n",
              "          docLink.innerHTML = docLinkHtml;\n",
              "          element.appendChild(docLink);\n",
              "        }\n",
              "      </script>\n",
              "    </div>\n",
              "  </div>\n",
              "  "
            ]
          },
          "metadata": {},
          "execution_count": 64
        }
      ]
    },
    {
      "cell_type": "markdown",
      "source": [
        "**월별 확진자 추이 확인**"
      ],
      "metadata": {
        "id": "FBT7u1Uu3Yl7"
      }
    },
    {
      "cell_type": "code",
      "source": [
        "#fig,((ax1,ax2),(ax3,ax4),(ax5,ax6)) =plt.subplots(nrows=3, ncols=2)\n",
        "#fig.set_size_inches(20,18)\n",
        "\n",
        "sns.barplot(data=df, x=\"month\", y=\"Confirmed\")\n",
        "\n",
        "#sns.barplot(data=df, x=\"Country/Region\", y=\"Confirmed\", ax=ax3)\n",
        "# sns.barplot(data=df, x=\"Hour\", y=\"Rented Bike Count\", ax=ax4)\n",
        "# sns.barplot(data=df, x=\"Temperature(℃)\", y=\"Rented Bike Count\", ax=ax5)\n",
        "# sns.barplot(data=df, x=\"Rainfall(mm)\", y=\"Rented Bike Count\", ax=ax6)"
      ],
      "metadata": {
        "colab": {
          "base_uri": "https://localhost:8080/",
          "height": 297
        },
        "id": "Y6RGHAXkEaIA",
        "outputId": "b9ef3e77-e73e-421c-cea5-d42020096cea"
      },
      "execution_count": 65,
      "outputs": [
        {
          "output_type": "execute_result",
          "data": {
            "text/plain": [
              "<matplotlib.axes._subplots.AxesSubplot at 0x7fa2aff07100>"
            ]
          },
          "metadata": {},
          "execution_count": 65
        },
        {
          "output_type": "display_data",
          "data": {
            "text/plain": [
              "<Figure size 432x288 with 1 Axes>"
            ],
            "image/png": "[encoded data removed]"
          },
          "metadata": {
            "needs_background": "light"
          }
        }
      ]
    },
    {
      "cell_type": "markdown",
      "source": [
        "어느 나라의 데이터가 가장 많을까? 데이터가 많다고 확진자수가 많은 것일까?"
      ],
      "metadata": {
        "id": "5YT0zz043hiy"
      }
    },
    {
      "cell_type": "code",
      "source": [
        "# 가장 데이터가 많은 나라: US\n",
        "df['Country/Region'].value_counts()"
      ],
      "metadata": {
        "colab": {
          "base_uri": "https://localhost:8080/"
        },
        "id": "O8VzGhXRGlca",
        "outputId": "83214464-4790-4639-f57c-25623f9fe79c"
      },
      "execution_count": 66,
      "outputs": [
        {
          "output_type": "execute_result",
          "data": {
            "text/plain": [
              "US                     10906\n",
              "Russia                  7592\n",
              "Mainland China          6849\n",
              "Japan                   4682\n",
              "Mexico                  3347\n",
              "                       ...  \n",
              "North Ireland              1\n",
              "Channel Islands            1\n",
              "Cape Verde                 1\n",
              "Republic of Ireland        1\n",
              "East Timor                 1\n",
              "Name: Country/Region, Length: 223, dtype: int64"
            ]
          },
          "metadata": {},
          "execution_count": 66
        }
      ]
    },
    {
      "cell_type": "code",
      "source": [
        "# 나라 종류\n",
        "country = df['Country/Region'].unique()"
      ],
      "metadata": {
        "id": "1fTlo5y5970M"
      },
      "execution_count": 67,
      "outputs": []
    },
    {
      "cell_type": "code",
      "source": [
        "# 딕셔너리에 \"국가: 총 확진자수\" 를 담는다.\n",
        "dic = {}\n",
        "for country in country:\n",
        "  #print(country)\n",
        "  Confirmed_sum = df[df['Country/Region'] == country]['Confirmed'].sum()\n",
        "  dic[country] = Confirmed_sum\n",
        "print(dic)"
      ],
      "metadata": {
        "colab": {
          "base_uri": "https://localhost:8080/"
        },
        "id": "rspIJC1H-5_J",
        "outputId": "263c378f-90ad-4074-96a2-da69f4c9291f"
      },
      "execution_count": 68,
      "outputs": [
        {
          "output_type": "stream",
          "name": "stdout",
          "text": [
            "{'Mainland China': 16767917.0, 'Hong Kong': 287689.0, 'Macau': 7731.0, 'Taiwan': 71439.0, 'US': 396234081.0, 'Japan': 3641525.0, 'Thailand': 477409.0, 'South Korea': 2169954.0, 'Singapore': 5315142.0, 'Philippines': 7866843.0, 'Malaysia': 1178389.0, 'Vietnam': 68654.0, 'Australia': 1685474.0, 'Mexico': 31500257.0, 'Brazil': 194933354.0, 'Colombia': 21071787.0, 'France': 29770550.0, 'Nepal': 1545819.0, 'Canada': 13419076.0, 'Cambodia': 25630.0, 'Sri Lanka': 262146.0, 'Ivory Coast': 1167364.0, 'Germany': 28431964.0, 'Finland': 967038.0, 'United Arab Emirates': 5768319.0, 'India': 122656809.0, 'Italy': 35112643.0, 'UK': 37857807.0, 'Russia': 75257596.0, 'Sweden': 7717556.0, 'Spain': 38921479.0, 'Belgium': 8791371.0, 'Others': 26228.0, 'Egypt': 7310357.0, 'Iran': 30414143.0, 'Israel': 5629678.0, 'Lebanon': 452435.0, 'Iraq': 8623559.0, 'Oman': 5267943.0, 'Afghanistan': 3169169.0, 'Bahrain': 3261216.0, 'Kuwait': 5577579.0, 'Austria': 2799963.0, 'Algeria': 2394260.0, 'Croatia': 516305.0, 'Switzerland': 4940235.0, 'Pakistan': 22175349.0, 'Georgia': 127908.0, 'Greece': 582063.0, 'North Macedonia': 847575.0, 'Norway': 1333813.0, 'Romania': 4554754.0, 'Denmark': 1819206.0, 'Estonia': 288433.0, 'Netherlands': 7225248.0, 'San Marino': 98104.0, ' Azerbaijan': 1.0, 'Belarus': 6711726.0, 'Iceland': 287990.0, 'Lithuania': 266982.0, 'New Zealand': 229422.0, 'Nigeria': 3219827.0, 'North Ireland': 1.0, 'Ireland': 3465991.0, 'Luxembourg': 740103.0, 'Monaco': 16570.0, 'Qatar': 10145658.0, 'Ecuador': 7908068.0, 'Azerbaijan': 2252843.0, 'Czech Republic': 1791157.0, 'Armenia': 2938043.0, 'Dominican Republic': 5205701.0, 'Indonesia': 8468379.0, 'Portugal': 5623957.0, 'Andorra': 127158.0, 'Latvia': 161251.0, 'Morocco': 2292570.0, 'Saudi Arabia': 22058772.0, 'Senegal': 852834.0, 'Argentina': 13597651.0, 'Chile': 28681903.0, 'Jordan': 139385.0, 'Ukraine': 6199822.0, 'Saint Barthelemy': 17.0, 'Hungary': 556753.0, 'Faroe Islands': 10.0, 'Gibraltar': 7.0, 'Liechtenstein': 13444.0, 'Poland': 4558596.0, 'Tunisia': 197402.0, 'Palestine': 86.0, 'Bosnia and Herzegovina': 897072.0, 'Slovenia': 265088.0, 'South Africa': 29775470.0, 'Bhutan': 9320.0, 'Cameroon': 1445702.0, 'Costa Rica': 1224961.0, 'Peru': 35981065.0, 'Serbia': 2309760.0, 'Slovakia': 270079.0, 'Togo': 84326.0, 'Vatican City': 4.0, 'French Guiana': 117.0, 'Malta': 108718.0, 'Martinique': 172.0, 'Republic of Ireland': 21.0, 'Bulgaria': 867225.0, 'Maldives': 355443.0, 'Bangladesh': 17630785.0, 'Moldova': 2128208.0, 'Paraguay': 463845.0, 'Albania': 428662.0, 'Cyprus': 149924.0, 'St. Martin': 2.0, 'Brunei': 22860.0, 'occupied Palestinian territory': 25.0, \"('St. Martin',)\": 2.0, 'Burkina Faso': 136724.0, 'Channel Islands': 1.0, 'Holy See': 1748.0, 'Mongolia': 26762.0, 'Panama': 4943394.0, 'Bolivia': 5320994.0, 'Honduras': 2856752.0, 'Congo (Kinshasa)': 741768.0, 'Jamaica': 100957.0, 'Reunion': 137.0, 'Turkey': 26027218.0, 'Cuba': 321310.0, 'Guyana': 42249.0, 'Kazakhstan': 5718676.0, 'Cayman Islands': 3.0, 'Guadeloupe': 187.0, 'Ethiopia': 1318387.0, 'Sudan': 989977.0, 'Guinea': 675030.0, 'Antigua and Barbuda': 7539.0, 'Aruba': 19.0, 'Kenya': 1377173.0, 'Uruguay': 140626.0, 'Ghana': 2594510.0, 'Jersey': 6.0, 'Namibia': 159485.0, 'Seychelles': 8133.0, 'Trinidad and Tobago': 34175.0, 'Venezuela': 1413541.0, 'Curacao': 2.0, 'Eswatini': 179904.0, 'Gabon': 595567.0, 'Guatemala': 3257106.0, 'Guernsey': 3.0, 'Mauritania': 438375.0, 'Rwanda': 154830.0, 'Saint Lucia': 3071.0, 'Saint Vincent and the Grenadines': 4640.0, 'Suriname': 122666.0, 'Kosovo': 573751.0, 'Central African Republic': 352150.0, 'Congo (Brazzaville)': 222964.0, 'Equatorial Guinea': 308222.0, 'Uzbekistan': 1754388.0, 'Guam': 6.0, 'Puerto Rico': 3.0, 'Benin': 130156.0, 'Greenland': 3.0, 'Liberia': 92995.0, 'Mayotte': 21.0, 'Republic of the Congo': 1.0, 'Somalia': 313691.0, 'Tanzania': 66124.0, 'The Bahamas': 3.0, 'Barbados': 15399.0, 'Montenegro': 199100.0, 'The Gambia': 1.0, 'Kyrgyzstan': 1925455.0, 'Mauritius': 50863.0, 'Zambia': 418038.0, 'Djibouti': 511397.0, 'Gambia, The': 4.0, 'Bahamas, The': 10.0, 'Chad': 95873.0, 'El Salvador': 1157934.0, 'Fiji': 3174.0, 'Nicaragua': 272015.0, 'Madagascar': 640240.0, 'Haiti': 589742.0, 'Angola': 80879.0, 'Cabo Verde': 183292.0, 'Niger': 140473.0, 'Papua New Guinea': 9709.0, 'Zimbabwe': 213135.0, 'Cape Verde': 1.0, 'East Timor': 1.0, 'Eritrea': 21415.0, 'Uganda': 110314.0, 'Bahamas': 50921.0, 'Dominica': 2667.0, 'Gambia': 57155.0, 'Grenada': 3256.0, 'Mozambique': 145971.0, 'Syria': 71391.0, 'Timor-Leste': 3316.0, 'Belize': 14689.0, 'Laos': 2921.0, 'Libya': 305476.0, 'Diamond Princess': 112496.0, 'Guinea-Bissau': 191691.0, 'Mali': 237818.0, 'Saint Kitts and Nevis': 2333.0, 'West Bank and Gaza': 754221.0, 'Burma': 38801.0, 'MS Zaandam': 1367.0, 'Botswana': 52275.0, 'Burundi': 24907.0, 'Sierra Leone': 159298.0, 'Malawi': 248832.0, 'South Sudan': 199895.0, 'Western Sahara': 1231.0, 'Sao Tome and Principe': 76004.0, 'Yemen': 127748.0, 'Comoros': 29045.0, 'Tajikistan': 644566.0, 'Lesotho': 34722.0}\n"
          ]
        }
      ]
    },
    {
      "cell_type": "code",
      "source": [
        "#확진자 수가 많은 순으로 정렬\n",
        "sorted_country = sorted(dic.items(), key=lambda x: x[1], reverse=True)\n",
        "for country in sorted_country:\n",
        "  print(country)\n"
      ],
      "metadata": {
        "colab": {
          "base_uri": "https://localhost:8080/"
        },
        "id": "qeAWn35pDc2I",
        "outputId": "0604bd59-2c62-42a3-e131-6e1f147aa43f"
      },
      "execution_count": 69,
      "outputs": [
        {
          "output_type": "stream",
          "name": "stdout",
          "text": [
            "('US', 396234081.0)\n",
            "('Brazil', 194933354.0)\n",
            "('India', 122656809.0)\n",
            "('Russia', 75257596.0)\n",
            "('Spain', 38921479.0)\n",
            "('UK', 37857807.0)\n",
            "('Peru', 35981065.0)\n",
            "('Italy', 35112643.0)\n",
            "('Mexico', 31500257.0)\n",
            "('Iran', 30414143.0)\n",
            "('South Africa', 29775470.0)\n",
            "('France', 29770550.0)\n",
            "('Chile', 28681903.0)\n",
            "('Germany', 28431964.0)\n",
            "('Turkey', 26027218.0)\n",
            "('Pakistan', 22175349.0)\n",
            "('Saudi Arabia', 22058772.0)\n",
            "('Colombia', 21071787.0)\n",
            "('Bangladesh', 17630785.0)\n",
            "('Mainland China', 16767917.0)\n",
            "('Argentina', 13597651.0)\n",
            "('Canada', 13419076.0)\n",
            "('Qatar', 10145658.0)\n",
            "('Belgium', 8791371.0)\n",
            "('Iraq', 8623559.0)\n",
            "('Indonesia', 8468379.0)\n",
            "('Ecuador', 7908068.0)\n",
            "('Philippines', 7866843.0)\n",
            "('Sweden', 7717556.0)\n",
            "('Egypt', 7310357.0)\n",
            "('Netherlands', 7225248.0)\n",
            "('Belarus', 6711726.0)\n",
            "('Ukraine', 6199822.0)\n",
            "('United Arab Emirates', 5768319.0)\n",
            "('Kazakhstan', 5718676.0)\n",
            "('Israel', 5629678.0)\n",
            "('Portugal', 5623957.0)\n",
            "('Kuwait', 5577579.0)\n",
            "('Bolivia', 5320994.0)\n",
            "('Singapore', 5315142.0)\n",
            "('Oman', 5267943.0)\n",
            "('Dominican Republic', 5205701.0)\n",
            "('Panama', 4943394.0)\n",
            "('Switzerland', 4940235.0)\n",
            "('Poland', 4558596.0)\n",
            "('Romania', 4554754.0)\n",
            "('Japan', 3641525.0)\n",
            "('Ireland', 3465991.0)\n",
            "('Bahrain', 3261216.0)\n",
            "('Guatemala', 3257106.0)\n",
            "('Nigeria', 3219827.0)\n",
            "('Afghanistan', 3169169.0)\n",
            "('Armenia', 2938043.0)\n",
            "('Honduras', 2856752.0)\n",
            "('Austria', 2799963.0)\n",
            "('Ghana', 2594510.0)\n",
            "('Algeria', 2394260.0)\n",
            "('Serbia', 2309760.0)\n",
            "('Morocco', 2292570.0)\n",
            "('Azerbaijan', 2252843.0)\n",
            "('South Korea', 2169954.0)\n",
            "('Moldova', 2128208.0)\n",
            "('Kyrgyzstan', 1925455.0)\n",
            "('Denmark', 1819206.0)\n",
            "('Czech Republic', 1791157.0)\n",
            "('Uzbekistan', 1754388.0)\n",
            "('Australia', 1685474.0)\n",
            "('Nepal', 1545819.0)\n",
            "('Cameroon', 1445702.0)\n",
            "('Venezuela', 1413541.0)\n",
            "('Kenya', 1377173.0)\n",
            "('Norway', 1333813.0)\n",
            "('Ethiopia', 1318387.0)\n",
            "('Costa Rica', 1224961.0)\n",
            "('Malaysia', 1178389.0)\n",
            "('Ivory Coast', 1167364.0)\n",
            "('El Salvador', 1157934.0)\n",
            "('Sudan', 989977.0)\n",
            "('Finland', 967038.0)\n",
            "('Bosnia and Herzegovina', 897072.0)\n",
            "('Bulgaria', 867225.0)\n",
            "('Senegal', 852834.0)\n",
            "('North Macedonia', 847575.0)\n",
            "('West Bank and Gaza', 754221.0)\n",
            "('Congo (Kinshasa)', 741768.0)\n",
            "('Luxembourg', 740103.0)\n",
            "('Guinea', 675030.0)\n",
            "('Tajikistan', 644566.0)\n",
            "('Madagascar', 640240.0)\n",
            "('Gabon', 595567.0)\n",
            "('Haiti', 589742.0)\n",
            "('Greece', 582063.0)\n",
            "('Kosovo', 573751.0)\n",
            "('Hungary', 556753.0)\n",
            "('Croatia', 516305.0)\n",
            "('Djibouti', 511397.0)\n",
            "('Thailand', 477409.0)\n",
            "('Paraguay', 463845.0)\n",
            "('Lebanon', 452435.0)\n",
            "('Mauritania', 438375.0)\n",
            "('Albania', 428662.0)\n",
            "('Zambia', 418038.0)\n",
            "('Maldives', 355443.0)\n",
            "('Central African Republic', 352150.0)\n",
            "('Cuba', 321310.0)\n",
            "('Somalia', 313691.0)\n",
            "('Equatorial Guinea', 308222.0)\n",
            "('Libya', 305476.0)\n",
            "('Estonia', 288433.0)\n",
            "('Iceland', 287990.0)\n",
            "('Hong Kong', 287689.0)\n",
            "('Nicaragua', 272015.0)\n",
            "('Slovakia', 270079.0)\n",
            "('Lithuania', 266982.0)\n",
            "('Slovenia', 265088.0)\n",
            "('Sri Lanka', 262146.0)\n",
            "('Malawi', 248832.0)\n",
            "('Mali', 237818.0)\n",
            "('New Zealand', 229422.0)\n",
            "('Congo (Brazzaville)', 222964.0)\n",
            "('Zimbabwe', 213135.0)\n",
            "('South Sudan', 199895.0)\n",
            "('Montenegro', 199100.0)\n",
            "('Tunisia', 197402.0)\n",
            "('Guinea-Bissau', 191691.0)\n",
            "('Cabo Verde', 183292.0)\n",
            "('Eswatini', 179904.0)\n",
            "('Latvia', 161251.0)\n",
            "('Namibia', 159485.0)\n",
            "('Sierra Leone', 159298.0)\n",
            "('Rwanda', 154830.0)\n",
            "('Cyprus', 149924.0)\n",
            "('Mozambique', 145971.0)\n",
            "('Uruguay', 140626.0)\n",
            "('Niger', 140473.0)\n",
            "('Jordan', 139385.0)\n",
            "('Burkina Faso', 136724.0)\n",
            "('Benin', 130156.0)\n",
            "('Georgia', 127908.0)\n",
            "('Yemen', 127748.0)\n",
            "('Andorra', 127158.0)\n",
            "('Suriname', 122666.0)\n",
            "('Diamond Princess', 112496.0)\n",
            "('Uganda', 110314.0)\n",
            "('Malta', 108718.0)\n",
            "('Jamaica', 100957.0)\n",
            "('San Marino', 98104.0)\n",
            "('Chad', 95873.0)\n",
            "('Liberia', 92995.0)\n",
            "('Togo', 84326.0)\n",
            "('Angola', 80879.0)\n",
            "('Sao Tome and Principe', 76004.0)\n",
            "('Taiwan', 71439.0)\n",
            "('Syria', 71391.0)\n",
            "('Vietnam', 68654.0)\n",
            "('Tanzania', 66124.0)\n",
            "('Gambia', 57155.0)\n",
            "('Botswana', 52275.0)\n",
            "('Bahamas', 50921.0)\n",
            "('Mauritius', 50863.0)\n",
            "('Guyana', 42249.0)\n",
            "('Burma', 38801.0)\n",
            "('Lesotho', 34722.0)\n",
            "('Trinidad and Tobago', 34175.0)\n",
            "('Comoros', 29045.0)\n",
            "('Mongolia', 26762.0)\n",
            "('Others', 26228.0)\n",
            "('Cambodia', 25630.0)\n",
            "('Burundi', 24907.0)\n",
            "('Brunei', 22860.0)\n",
            "('Eritrea', 21415.0)\n",
            "('Monaco', 16570.0)\n",
            "('Barbados', 15399.0)\n",
            "('Belize', 14689.0)\n",
            "('Liechtenstein', 13444.0)\n",
            "('Papua New Guinea', 9709.0)\n",
            "('Bhutan', 9320.0)\n",
            "('Seychelles', 8133.0)\n",
            "('Macau', 7731.0)\n",
            "('Antigua and Barbuda', 7539.0)\n",
            "('Saint Vincent and the Grenadines', 4640.0)\n",
            "('Timor-Leste', 3316.0)\n",
            "('Grenada', 3256.0)\n",
            "('Fiji', 3174.0)\n",
            "('Saint Lucia', 3071.0)\n",
            "('Laos', 2921.0)\n",
            "('Dominica', 2667.0)\n",
            "('Saint Kitts and Nevis', 2333.0)\n",
            "('Holy See', 1748.0)\n",
            "('MS Zaandam', 1367.0)\n",
            "('Western Sahara', 1231.0)\n",
            "('Guadeloupe', 187.0)\n",
            "('Martinique', 172.0)\n",
            "('Reunion', 137.0)\n",
            "('French Guiana', 117.0)\n",
            "('Palestine', 86.0)\n",
            "('occupied Palestinian territory', 25.0)\n",
            "('Republic of Ireland', 21.0)\n",
            "('Mayotte', 21.0)\n",
            "('Aruba', 19.0)\n",
            "('Saint Barthelemy', 17.0)\n",
            "('Faroe Islands', 10.0)\n",
            "('Bahamas, The', 10.0)\n",
            "('Gibraltar', 7.0)\n",
            "('Jersey', 6.0)\n",
            "('Guam', 6.0)\n",
            "('Vatican City', 4.0)\n",
            "('Gambia, The', 4.0)\n",
            "('Cayman Islands', 3.0)\n",
            "('Guernsey', 3.0)\n",
            "('Puerto Rico', 3.0)\n",
            "('Greenland', 3.0)\n",
            "('The Bahamas', 3.0)\n",
            "('St. Martin', 2.0)\n",
            "(\"('St. Martin',)\", 2.0)\n",
            "('Curacao', 2.0)\n",
            "(' Azerbaijan', 1.0)\n",
            "('North Ireland', 1.0)\n",
            "('Channel Islands', 1.0)\n",
            "('Republic of the Congo', 1.0)\n",
            "('The Gambia', 1.0)\n",
            "('Cape Verde', 1.0)\n",
            "('East Timor', 1.0)\n"
          ]
        }
      ]
    },
    {
      "cell_type": "markdown",
      "source": [
        "어느 나라의 데이터가 가장 많을까? 데이터가 많다고 확진자수가 많은 것일까?\n",
        "\n",
        "\n",
        "1.   데이터 수가 많은 나라\n",
        "\n",
        "*   (1) US (2) Russia (3) Mainland China (4) Japan (5) Mexico\n",
        "\n",
        "2.   확진자 수가 많은 나라\n",
        "*   (1) US (2) Brazil (3) India (4) Russia (5) Spain\n",
        "\n",
        "=> 둘의 흐름이 어떻게 다를까?\n",
        "\n"
      ],
      "metadata": {
        "id": "q1gqYSwVEnCx"
      }
    },
    {
      "cell_type": "code",
      "source": [
        "#데이터 수가 많은 나라\n",
        "df_US = df[df['Country/Region'] == 'US']\n",
        "df_Russia = df[df['Country/Region'] == 'Russia']\n",
        "df_China  = df[df['Country/Region'] == 'Mainland China']"
      ],
      "metadata": {
        "id": "Hot9bCa09cvf"
      },
      "execution_count": 70,
      "outputs": []
    },
    {
      "cell_type": "code",
      "source": [
        "print(df['Confirmed'].sum())\n",
        "print(df_US['Confirmed'].sum())\n",
        "print(df_Russia['Confirmed'].sum())\n",
        "print(df_China['Confirmed'].sum())"
      ],
      "metadata": {
        "colab": {
          "base_uri": "https://localhost:8080/"
        },
        "id": "Dv-amYAHLYa6",
        "outputId": "31765c1e-883b-4e45-e1d4-d54d5d01ac68"
      },
      "execution_count": 71,
      "outputs": [
        {
          "output_type": "stream",
          "name": "stdout",
          "text": [
            "1517276871.0\n",
            "396234081.0\n",
            "75257596.0\n",
            "16767917.0\n"
          ]
        }
      ]
    },
    {
      "cell_type": "code",
      "source": [
        "#확진자 수가 많은 나라\n",
        "df_Brazil = df[df['Country/Region'] == 'Brazil']\n",
        "df_India = df[df['Country/Region'] == 'India']\n",
        "df_Spain  = df[df['Country/Region'] == 'Spain']"
      ],
      "metadata": {
        "id": "RRPLzJMVFqsy"
      },
      "execution_count": 72,
      "outputs": []
    },
    {
      "cell_type": "code",
      "source": [
        "print(df['Confirmed'].sum())\n",
        "print(df_Brazil['Confirmed'].sum())\n",
        "print(df_India['Confirmed'].sum())\n",
        "print(df_Spain['Confirmed'].sum())"
      ],
      "metadata": {
        "colab": {
          "base_uri": "https://localhost:8080/"
        },
        "id": "toLiu3ezHA4u",
        "outputId": "b412c3b2-3581-4694-a26a-c716dda438a1"
      },
      "execution_count": 73,
      "outputs": [
        {
          "output_type": "stream",
          "name": "stdout",
          "text": [
            "1517276871.0\n",
            "194933354.0\n",
            "122656809.0\n",
            "38921479.0\n"
          ]
        }
      ]
    },
    {
      "cell_type": "code",
      "source": [
        "#전세계 월별 확진자 수\n",
        "sns.barplot(data=df, x=\"month\", y=\"Confirmed\")"
      ],
      "metadata": {
        "colab": {
          "base_uri": "https://localhost:8080/",
          "height": 297
        },
        "id": "x97oHnIyICRJ",
        "outputId": "cfb49ef1-bc4f-4f76-ca46-a2d7e969fd7a"
      },
      "execution_count": 74,
      "outputs": [
        {
          "output_type": "execute_result",
          "data": {
            "text/plain": [
              "<matplotlib.axes._subplots.AxesSubplot at 0x7fa2afe54be0>"
            ]
          },
          "metadata": {},
          "execution_count": 74
        },
        {
          "output_type": "display_data",
          "data": {
            "text/plain": [
              "<Figure size 432x288 with 1 Axes>"
            ],
            "image/png": "[encoded data removed]"
          },
          "metadata": {
            "needs_background": "light"
          }
        }
      ]
    },
    {
      "cell_type": "code",
      "source": [
        "#데이터가 많은 나라의 확진자 수 (US, Russia, China)\n",
        "fig,((ax1,ax2, ax3)) =plt.subplots(nrows=1, ncols=3)\n",
        "fig.set_size_inches(25,8)\n",
        "\n",
        "sns.barplot(data=df_US, x=\"month\", y=\"Confirmed\", ax=ax1)\n",
        "sns.barplot(data=df_Russia, x=\"month\", y=\"Confirmed\", ax=ax2)\n",
        "sns.barplot(data=df_China, x=\"month\", y=\"Confirmed\", ax=ax3)"
      ],
      "metadata": {
        "colab": {
          "base_uri": "https://localhost:8080/",
          "height": 399
        },
        "id": "ABVfSCNr-ilQ",
        "outputId": "0e8e60e4-d2ae-4a50-abf6-46583ea8ffb3"
      },
      "execution_count": 75,
      "outputs": [
        {
          "output_type": "execute_result",
          "data": {
            "text/plain": [
              "<matplotlib.axes._subplots.AxesSubplot at 0x7fa2afdb75b0>"
            ]
          },
          "metadata": {},
          "execution_count": 75
        },
        {
          "output_type": "display_data",
          "data": {
            "text/plain": [
              "<Figure size 1800x576 with 3 Axes>"
            ],
            "image/png": "[encoded data removed]"
          },
          "metadata": {
            "needs_background": "light"
          }
        }
      ]
    },
    {
      "cell_type": "code",
      "source": [
        "#확진자 수가 많은 나라의 확진자 수 (Brazil, India, Spain)\n",
        "fig,((ax1,ax2, ax3)) =plt.subplots(nrows=1, ncols=3)\n",
        "fig.set_size_inches(25,8)\n",
        "\n",
        "sns.barplot(data=df_Brazil, x=\"month\", y=\"Confirmed\", ax=ax1)\n",
        "sns.barplot(data=df_India, x=\"month\", y=\"Confirmed\", ax=ax2)\n",
        "sns.barplot(data=df_Spain, x=\"month\", y=\"Confirmed\", ax=ax3)"
      ],
      "metadata": {
        "colab": {
          "base_uri": "https://localhost:8080/",
          "height": 400
        },
        "id": "189yQCiGISHZ",
        "outputId": "dae9998e-8ef3-442a-fe7f-68cdf229a905"
      },
      "execution_count": 76,
      "outputs": [
        {
          "output_type": "execute_result",
          "data": {
            "text/plain": [
              "<matplotlib.axes._subplots.AxesSubplot at 0x7fa2afc2b970>"
            ]
          },
          "metadata": {},
          "execution_count": 76
        },
        {
          "output_type": "display_data",
          "data": {
            "text/plain": [
              "<Figure size 1800x576 with 3 Axes>"
            ],
            "image/png": "[encoded data removed]"
          },
          "metadata": {
            "needs_background": "light"
          }
        }
      ]
    },
    {
      "cell_type": "markdown",
      "source": [
        "순서: 브라질, 인도, 스페인"
      ],
      "metadata": {
        "id": "jJCh1gaCLVP7"
      }
    },
    {
      "cell_type": "markdown",
      "source": [
        "전세계 월별 확진자 흐름: 갈수록 증가하면서 7, 8월에 집중되어 있다.\n",
        "\n",
        "전세계 월별 확진자 흐름과 비슷한 국가: US, Brazil\n",
        "\n",
        "전세계 월별 확진자 흐름과 다른 국가: Russia, China, India, Spain\n",
        "- ***어떻게 다른가?***\n",
        "- Russia: 5월에 집중되어 있다.\n",
        "- China: 중국에서 코로나가 시작되었다. 그래서 1월에도 확진자가 있고 월별로 고르게 분포한다.\n",
        "- India: 7, 8월에도 많은 확진자가 있지만 5월에 가장 많다.\n",
        "- Spain: 4월에 집중되어 있다.\n",
        "\n",
        "나의 생각\n",
        "- US의 확진자 수가 가장 많기 때문에 전세계 흐름과 비슷할 수밖에 없을 것이다. \n",
        "- 유독 집중된 달이 있는 국가들은 어떤 이유가 있는 것일까?\n"
      ],
      "metadata": {
        "id": "TLDRpdh-Ldft"
      }
    },
    {
      "cell_type": "markdown",
      "source": [
        "## 2.2 국가별 집중 감염"
      ],
      "metadata": {
        "id": "rGbwN6SzZ9Id"
      }
    },
    {
      "cell_type": "markdown",
      "source": [
        "1) ***Russia***: 5월에 집중되어 있다."
      ],
      "metadata": {
        "id": "L7hrzmS-bX2w"
      }
    },
    {
      "cell_type": "markdown",
      "source": [
        "<img src = \"https://drive.google.com/uc?id=1A5c6LarL7EVa8tjOcTag8FG1-UIzuywB\" height=300 width=550>\n",
        "<img src = \"https://drive.google.com/uc?id=1liW2qCGm_d0CfSSabwkhfSEITlM5EDbh\" height=500 width=550>\n",
        "\n",
        "참고 자료: 정민현, 민지영. (2022). 러시아의 코로나19 확산 동향과 \n",
        "경제회복 전망. KIEP 세계경제 포커스, Vol. 3 No. 19, 3-4.\n"
      ],
      "metadata": {
        "id": "C5-lgWTwf9H5"
      }
    },
    {
      "cell_type": "markdown",
      "source": [
        "***정리***\n",
        "- 유럽에서 코로나 감염자 유입, 코로나 휴가로 확산을 막을 수는 없었음, 안전수칙을 준수하지 않음, 총 검사 수 증가 => *코로나 급증*"
      ],
      "metadata": {
        "id": "Ga0173GVgu4Q"
      }
    }
  ]
}