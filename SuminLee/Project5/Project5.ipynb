{
  "nbformat": 4,
  "nbformat_minor": 0,
  "metadata": {
    "colab": {
      "provenance": [],
      "authorship_tag": "ABX9TyMD25mGBsfsKAcMQ0LYkNCz",
      "include_colab_link": true
    },
    "kernelspec": {
      "name": "python3",
      "display_name": "Python 3"
    },
    "language_info": {
      "name": "python"
    }
  },
  "cells": [
    {
      "cell_type": "markdown",
      "metadata": {
        "id": "view-in-github",
        "colab_type": "text"
      },
      "source": [
        "<a href=\"https://colab.research.google.com/github/JJay1010/K-software_-/blob/main/SuminLee/Project5/Project5.ipynb\" target=\"_parent\"><img src=\"https://colab.research.google.com/assets/colab-badge.svg\" alt=\"Open In Colab\"/></a>"
      ]
    },
    {
      "cell_type": "markdown",
      "source": [
        "주제: 심리상담 챗봇 만들기\n",
        "1월 25일\n",
        "- 자연어 처리 대략적인 이론 공부\n",
        "- 1. 모델 - BERT, Transformer\n",
        "- 2. 토큰화\n",
        "\n",
        "(아래 필기 자료 이미지)"
      ],
      "metadata": {
        "id": "IhhBvtMvV_Wj"
      }
    },
    {
      "cell_type": "markdown",
      "source": [
        "\n",
        "<img src = \"https://drive.google.com/uc?id=1bVupZjVkYyTMvFiHJFLh2-0k4M-T3bTU\" height=500 width=550>\n",
        "\n",
        "<img src = \"https://drive.google.com/uc?id=1UpFWCmnaODXub3AUupYHara17QgVyUgJ\" height=500 width=550>\n",
        "\n",
        "<img src = \"https://drive.google.com/uc?id=10MFog0IKQcQEp3kZ04YQftRY7iY5I3Hx\" height=500 width=550>\n",
        "\n",
        "<img src = \"https://drive.google.com/uc?id=1JaX5RQLLDyqSr4JSht9pmGOSOi9pnTAk\" height=500 width=550>\n",
        "\n",
        "<img src = \"https://drive.google.com/uc?id=1pFKRY9-Hlp92n60DNvoVmUrPwdO2pqvF\" height=500 width=550>\n",
        "\n",
        "<img src = \"https://drive.google.com/uc?id=1jBsUpuV23vTevZfd9SYmpZbpfDZknsL8\" height=500 width=550>\n",
        "\n",
        "<img src = \"https://drive.google.com/uc?id=1MFQlNs0Jq6KVTK6d1pO285ebFD6BFO5G\" height=500 width=550>\n",
        "\n",
        "<img src = \"https://drive.google.com/uc?id=1jfKpMsn3gMD7CRtSzCljY6-MjtblZpoW\" height=500 width=550>\n",
        "\n",
        "<img src = \"https://drive.google.com/uc?id=19MM6W3DqUyum-iMKkgBr7UYkwVZBv0fH\" height=500 width=550>\n",
        "\n",
        "<img src = \"https://drive.google.com/uc?id=1NiuZsmw7VgMjDNpz-GScfDIiBrw5pvS7\" height=500 width=550>\n",
        "\n"
      ],
      "metadata": {
        "id": "ufEsTS5hU4uK"
      }
    }
  ]
}