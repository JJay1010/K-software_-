{
  "nbformat": 4,
  "nbformat_minor": 0,
  "metadata": {
    "colab": {
      "provenance": [],
      "machine_shape": "hm",
      "authorship_tag": "ABX9TyOD402iEWV8MTvP2g0eIXDP",
      "include_colab_link": true
    },
    "kernelspec": {
      "name": "python3",
      "display_name": "Python 3"
    },
    "language_info": {
      "name": "python"
    },
    "accelerator": "GPU",
    "gpuClass": "premium"
  },
  "cells": [
    {
      "cell_type": "markdown",
      "metadata": {
        "id": "view-in-github",
        "colab_type": "text"
      },
      "source": [
        "<a href=\"https://colab.research.google.com/github/JJay1010/K-software_-/blob/main/SuminLee/Project4/Project4.ipynb\" target=\"_parent\"><img src=\"https://colab.research.google.com/assets/colab-badge.svg\" alt=\"Open In Colab\"/></a>"
      ]
    },
    {
      "cell_type": "markdown",
      "source": [
        "# 1.프로젝트 개요\n",
        "**Project 4: 두피 데이터 분석 시스템**\n",
        "1. 두피측정 빅데이터를 이용한 자동진단 및 제품 추천 시스템\n",
        "2. 필요 기술 스택: Python, Python Library(Pillow, Opencv), Deep Learning + Docker file\n",
        "\n",
        "3. 프로세스\n",
        "- json 데이터를 분석하여 증상별 상관관계를 찾는다.\n",
        "- 분석한 결과를 토대로 증상에 맞게 제품을 추천한다.\n",
        "- 두피 이미지로 강도를 예측한다.\n",
        "- 해결할 문제: json 데이터 분석과 이미지 예측 결과를 어떻게 엮어서 제품을 추천할 것인가?"
      ],
      "metadata": {
        "id": "N43D0LyVkVG7"
      }
    },
    {
      "cell_type": "markdown",
      "source": [
        "# 2.일자별 진행 상황\n",
        "1월 16일 작업 계획\n",
        "\n",
        "1) 도커 공부: 이미지와 컨테이너의 개념\n",
        "- image: container의 기본 레시피. 도커 파일을 빌드해서 만들 수 있다.\n",
        "- container: image로 만든 인스턴스\n",
        "\n",
        "\n",
        "2) 데이터 이해하기\n",
        "- 데이터셋 다운로드 및 확인\n",
        "- 무엇을 할 것인지 생각하기 (모델링 방향) => *일단 미세각질 이미지만 단계별 분류*"
      ],
      "metadata": {
        "id": "AfE9W5VmJEVm"
      }
    },
    {
      "cell_type": "markdown",
      "source": [
        "1월 17일\n",
        "\n",
        "1) 무엇을 할 것인지 생각하기\n",
        "- json 데이터를 분석하여 증상별 상관관계를 찾는다.\n",
        "- 분석한 결과가 맞는지 증명한다. (이론 등을 이용)\n",
        "- 증상에 맞게 제품을 추천한다. 이를 위해선 제품에 대한 조사가 필요하다.\n",
        "\n",
        "2) 미세각질, 탈모 데이터 분석\n",
        "- 시각화\n",
        "- 상관관계 분석\n"
      ],
      "metadata": {
        "id": "Fukb-KeBJRjb"
      }
    },
    {
      "cell_type": "markdown",
      "source": [
        "1월 18일\n",
        "\n",
        "1) 상관관계 분석 예제들 찾기\n",
        "\n",
        "2) docker 실습\n",
        "\n",
        "3) 이미지 데이터로 모델링 및 학습 진행\n",
        "- 정확도가 너무 낮다 => 튜닝 필요\n",
        "- fine tuning (미완)\n",
        "- 하이퍼 파라미터 튜닝 (진행 중) => 서치 알고리즘 더 찾아보기"
      ],
      "metadata": {
        "id": "z53e3DKEQCjl"
      }
    },
    {
      "cell_type": "markdown",
      "source": [
        "1월 19일\n",
        "\n",
        "2) 모델 만들기 (VGGnet 16)\n",
        "\n",
        "2) augmentation"
      ],
      "metadata": {
        "id": "cKOHh7gxotCQ"
      }
    },
    {
      "cell_type": "markdown",
      "source": [
        "1월 20일\n",
        "\n",
        "1) VGGnet 16으로 학습: 기존 데이터, 기존 데이터 + 변형 데이터\n",
        "\n",
        "2) 사전 학습된 Mobilenet으로 학습: 기존 데이터, 기존 데이터 + 변형 데이터"
      ],
      "metadata": {
        "id": "N_HN3unmfpK5"
      }
    },
    {
      "cell_type": "markdown",
      "source": [
        "# 3.1 데이터 분석 (미세각질)"
      ],
      "metadata": {
        "id": "aIqvIyp6PhUT"
      }
    },
    {
      "cell_type": "code",
      "execution_count": 1,
      "metadata": {
        "colab": {
          "base_uri": "https://localhost:8080/"
        },
        "id": "Vsq6xeZ6feFP",
        "outputId": "6dac28ff-32e6-4a75-e88d-a24f86fefb2e"
      },
      "outputs": [
        {
          "output_type": "stream",
          "name": "stdout",
          "text": [
            "Mounted at /content/drive\n"
          ]
        }
      ],
      "source": [
        "from google.colab import drive\n",
        "drive.mount('/content/drive')"
      ]
    },
    {
      "cell_type": "code",
      "source": [
        "#라이브러리\n",
        "from PIL import Image\n",
        "import os\n",
        "import json\n",
        "import pandas as pd\n",
        "import numpy as np\n",
        "from pandas import json_normalize\n",
        "\n",
        "import matplotlib.pyplot as plt\n",
        "import seaborn as sns\n",
        "\n",
        "from sklearn.model_selection import train_test_split\n",
        "\n",
        "import imageio #이미지 불러오기\n",
        "import skimage # Numpy배열로 이미지 객체를 다룬다.\n",
        "import skimage.io\n",
        "import skimage.transform\n",
        "\n",
        "import torch\n",
        "from torch.utils.data import Dataset\n",
        "from torchvision import datasets, transforms\n",
        "\n",
        "import tensorflow as tf"
      ],
      "metadata": {
        "id": "34ixjxCV4R5a"
      },
      "execution_count": 48,
      "outputs": []
    },
    {
      "cell_type": "code",
      "source": [
        "%cd /content/drive/MyDrive/Project4/Dataset/라벨_미세각질_0\n",
        "!unzip -qq '/content/drive/MyDrive/Project4/Dataset/[라벨]미세각질_0.양호.zip'"
      ],
      "metadata": {
        "id": "ZCnA4kma3OHP"
      },
      "execution_count": null,
      "outputs": []
    },
    {
      "cell_type": "code",
      "source": [
        "%cd /content/drive/MyDrive/Project4/Dataset/라벨_미세각질_1\n",
        "!unzip -qq '/content/drive/MyDrive/Project4/Dataset/[라벨]미세각질_1.경증.zip'"
      ],
      "metadata": {
        "colab": {
          "base_uri": "https://localhost:8080/"
        },
        "id": "YIP1k1iDeZo4",
        "outputId": "a4e80430-b047-4dc6-d626-d0e9ab89213a"
      },
      "execution_count": null,
      "outputs": [
        {
          "output_type": "stream",
          "name": "stdout",
          "text": [
            "/content/drive/MyDrive/Project4/Dataset/라벨_미세각질_1\n"
          ]
        }
      ]
    },
    {
      "cell_type": "code",
      "source": [
        "%cd /content/drive/MyDrive/Project4/Dataset/라벨_미세각질_2\n",
        "!unzip -qq '/content/drive/MyDrive/Project4/Dataset/[라벨]미세각질_2.중등도.zip'"
      ],
      "metadata": {
        "colab": {
          "base_uri": "https://localhost:8080/"
        },
        "id": "r06SaRXGeZwv",
        "outputId": "eb390776-d412-40ff-be97-53faad67af1d"
      },
      "execution_count": null,
      "outputs": [
        {
          "output_type": "stream",
          "name": "stdout",
          "text": [
            "/content/drive/MyDrive/Project4/Dataset/라벨_미세각질_2\n"
          ]
        }
      ]
    },
    {
      "cell_type": "code",
      "source": [
        "%cd /content/drive/MyDrive/Project4/Dataset/라벨_미세각질_3\n",
        "!unzip -qq '/content/drive/MyDrive/Project4/Dataset/[라벨]미세각질_3.중증.zip'"
      ],
      "metadata": {
        "colab": {
          "base_uri": "https://localhost:8080/"
        },
        "id": "OCCVsWt0ee5U",
        "outputId": "e7486146-a4cf-4268-8a02-1b01380a4799"
      },
      "execution_count": null,
      "outputs": [
        {
          "output_type": "stream",
          "name": "stdout",
          "text": [
            "/content/drive/MyDrive/Project4/Dataset/라벨_미세각질_3\n"
          ]
        }
      ]
    },
    {
      "cell_type": "code",
      "source": [
        "%cd /content/drive/MyDrive/Project4/Dataset/원천_미세각질\n",
        "!unzip -qq '/content/drive/MyDrive/Project4/Dataset/[원천]미세각질_0.양호.zip'"
      ],
      "metadata": {
        "colab": {
          "base_uri": "https://localhost:8080/"
        },
        "id": "F6rl4UBY3sM8",
        "outputId": "c0069095-82dc-45d2-a3ec-488653439c0b"
      },
      "execution_count": 33,
      "outputs": [
        {
          "output_type": "stream",
          "name": "stdout",
          "text": [
            "/content/drive/MyDrive/Project4/Dataset/원천_미세각질\n"
          ]
        }
      ]
    },
    {
      "cell_type": "code",
      "source": [
        "%cd /content/drive/MyDrive/Project4/Dataset/원천_미세각질\n",
        "!unzip -qq '/content/drive/MyDrive/Project4/Dataset/[원천]미세각질_1.경증.zip'"
      ],
      "metadata": {
        "colab": {
          "base_uri": "https://localhost:8080/"
        },
        "id": "VCqLnAvQqn5H",
        "outputId": "d54b5a76-ca86-47ac-cbc4-a24fcf157a7e"
      },
      "execution_count": 34,
      "outputs": [
        {
          "output_type": "stream",
          "name": "stdout",
          "text": [
            "/content/drive/MyDrive/Project4/Dataset/원천_미세각질\n"
          ]
        }
      ]
    },
    {
      "cell_type": "code",
      "source": [
        "%cd /content/drive/MyDrive/Project4/Dataset/원천_미세각질\n",
        "!unzip -qq '/content/drive/MyDrive/Project4/Dataset/[원천]미세각질_2.중등도.zip'"
      ],
      "metadata": {
        "colab": {
          "base_uri": "https://localhost:8080/"
        },
        "id": "gbjbLxiYqoJB",
        "outputId": "a579b16d-e7c0-42e5-c3de-7e20f5334b74"
      },
      "execution_count": 35,
      "outputs": [
        {
          "output_type": "stream",
          "name": "stdout",
          "text": [
            "/content/drive/MyDrive/Project4/Dataset/원천_미세각질\n"
          ]
        }
      ]
    },
    {
      "cell_type": "code",
      "source": [
        "%cd /content/drive/MyDrive/Project4/Dataset/원천_미세각질\n",
        "!unzip -qq '/content/drive/MyDrive/Project4/Dataset/[원천]미세각질_3.중증.zip'"
      ],
      "metadata": {
        "colab": {
          "base_uri": "https://localhost:8080/"
        },
        "id": "_fDim3s0qoVu",
        "outputId": "4471f604-06cf-4783-b8ab-8264d5082b9c"
      },
      "execution_count": 36,
      "outputs": [
        {
          "output_type": "stream",
          "name": "stdout",
          "text": [
            "/content/drive/MyDrive/Project4/Dataset/원천_미세각질\n"
          ]
        }
      ]
    },
    {
      "cell_type": "code",
      "source": [
        "li_1 = [\"라벨_미세각질_0\", \"라벨_미세각질_1\", \"라벨_미세각질_2\", \"라벨_미세각질_3\"]"
      ],
      "metadata": {
        "id": "w66cinf8fM1T"
      },
      "execution_count": 3,
      "outputs": []
    },
    {
      "cell_type": "code",
      "source": [
        "def openJson(li):\n",
        "  df = pd.DataFrame({'image_id':[], 'image_file_name':[], 'value_1':[],'value_2':[],'value_3':[],'value_4':[], 'value_5':[],'value_6':[]})\n",
        "\n",
        "  for folder in li:\n",
        "\n",
        "    path_jsons = \"/content/drive/MyDrive/Project4/Dataset/\"+folder+\"/\"\n",
        "    print(path_jsons)\n",
        "\n",
        "    json_list = (os.listdir(path_jsons)) #json 파일명 다 담기\n",
        "    print(len(json_list))\n",
        "\n",
        "    for i in range(0, len(json_list)):\n",
        "      example_file = open(path_jsons+json_list[i])\n",
        "      json_file = json.load(example_file)\n",
        "      df2 = pd.DataFrame.from_dict(json_file, orient=\"index\")\n",
        "      df2 = df2.transpose()\n",
        "      df = pd.concat([df,df2], ignore_index = True)\n",
        "\n",
        "  return df"
      ],
      "metadata": {
        "id": "gAvZPSoBqSim"
      },
      "execution_count": 4,
      "outputs": []
    },
    {
      "cell_type": "code",
      "source": [
        "df_1 = openJson(li_1)"
      ],
      "metadata": {
        "id": "GeRrhTS3DfiX",
        "outputId": "863f86d0-0b8d-455b-f083-1577c03e2dfe",
        "colab": {
          "base_uri": "https://localhost:8080/"
        }
      },
      "execution_count": 5,
      "outputs": [
        {
          "output_type": "stream",
          "name": "stdout",
          "text": [
            "/content/drive/MyDrive/Project4/Dataset/라벨_미세각질_0/\n",
            "152\n",
            "/content/drive/MyDrive/Project4/Dataset/라벨_미세각질_1/\n",
            "1267\n",
            "/content/drive/MyDrive/Project4/Dataset/라벨_미세각질_2/\n",
            "1568\n",
            "/content/drive/MyDrive/Project4/Dataset/라벨_미세각질_3/\n",
            "652\n"
          ]
        }
      ]
    },
    {
      "cell_type": "code",
      "source": [
        "df_1"
      ],
      "metadata": {
        "colab": {
          "base_uri": "https://localhost:8080/",
          "height": 424
        },
        "id": "bCZU2o7QdyTN",
        "outputId": "52f56984-834c-4fcb-e1b1-9d2c5a041edd"
      },
      "execution_count": 6,
      "outputs": [
        {
          "output_type": "execute_result",
          "data": {
            "text/plain": [
              "                                  image_id  \\\n",
              "0     7701_A1LCAIHDH000085_1610172715604_5   \n",
              "1     7978_A2LEBJJDE00071B_1606728948115_4   \n",
              "2     9414_A2LEBJJDE00033L_1605521474634_2   \n",
              "3     7670_A1LCAIHDH000126_1609648809001_6   \n",
              "4     8262_A2LEBJJDE00047M_1602749232911_3   \n",
              "...                                    ...   \n",
              "3634  1069_A2LEBJJDE00094D_1607579389669_6   \n",
              "3635  8146_A2LEBJJDE00148A_1607650916866_6   \n",
              "3636  4970_A1LCAIHDH00010K_1608001420956_2   \n",
              "3637  2278_A2LEBJJDE00181Z_1606653240159_2   \n",
              "3638  7366_A2LEBJJDE00088Q_1606891895638_2   \n",
              "\n",
              "                                  image_file_name value_1 value_2 value_3  \\\n",
              "0     7701_A1LCAIHDH000085_1610172715604_5_RH.jpg       0       0       0   \n",
              "1     7978_A2LEBJJDE00071B_1606728948115_4_LH.jpg       0       0       0   \n",
              "2     9414_A2LEBJJDE00033L_1605521474634_2_TH.jpg       0       0       0   \n",
              "3     7670_A1LCAIHDH000126_1609648809001_6_BH.jpg       0       0       0   \n",
              "4     8262_A2LEBJJDE00047M_1602749232911_3_TH.jpg       0       0       0   \n",
              "...                                           ...     ...     ...     ...   \n",
              "3634  1069_A2LEBJJDE00094D_1607579389669_6_BH.jpg       3       0       0   \n",
              "3635  8146_A2LEBJJDE00148A_1607650916866_6_BH.jpg       3       0       0   \n",
              "3636  4970_A1LCAIHDH00010K_1608001420956_2_TH.jpg       3       0       0   \n",
              "3637  2278_A2LEBJJDE00181Z_1606653240159_2_TH.jpg       3       0       1   \n",
              "3638  7366_A2LEBJJDE00088Q_1606891895638_2_TH.jpg       3       0       0   \n",
              "\n",
              "     value_4 value_5 value_6  \n",
              "0          0       0       0  \n",
              "1          0       0       0  \n",
              "2          0       0       0  \n",
              "3          0       0       0  \n",
              "4          0       0       0  \n",
              "...      ...     ...     ...  \n",
              "3634       0       3       0  \n",
              "3635       0       3       0  \n",
              "3636       0       0       0  \n",
              "3637       0       0       0  \n",
              "3638       0       1       0  \n",
              "\n",
              "[3639 rows x 8 columns]"
            ],
            "text/html": [
              "\n",
              "  <div id=\"df-08f0ab87-1d16-4794-8208-8f3484a28439\">\n",
              "    <div class=\"colab-df-container\">\n",
              "      <div>\n",
              "<style scoped>\n",
              "    .dataframe tbody tr th:only-of-type {\n",
              "        vertical-align: middle;\n",
              "    }\n",
              "\n",
              "    .dataframe tbody tr th {\n",
              "        vertical-align: top;\n",
              "    }\n",
              "\n",
              "    .dataframe thead th {\n",
              "        text-align: right;\n",
              "    }\n",
              "</style>\n",
              "<table border=\"1\" class=\"dataframe\">\n",
              "  <thead>\n",
              "    <tr style=\"text-align: right;\">\n",
              "      <th></th>\n",
              "      <th>image_id</th>\n",
              "      <th>image_file_name</th>\n",
              "      <th>value_1</th>\n",
              "      <th>value_2</th>\n",
              "      <th>value_3</th>\n",
              "      <th>value_4</th>\n",
              "      <th>value_5</th>\n",
              "      <th>value_6</th>\n",
              "    </tr>\n",
              "  </thead>\n",
              "  <tbody>\n",
              "    <tr>\n",
              "      <th>0</th>\n",
              "      <td>7701_A1LCAIHDH000085_1610172715604_5</td>\n",
              "      <td>7701_A1LCAIHDH000085_1610172715604_5_RH.jpg</td>\n",
              "      <td>0</td>\n",
              "      <td>0</td>\n",
              "      <td>0</td>\n",
              "      <td>0</td>\n",
              "      <td>0</td>\n",
              "      <td>0</td>\n",
              "    </tr>\n",
              "    <tr>\n",
              "      <th>1</th>\n",
              "      <td>7978_A2LEBJJDE00071B_1606728948115_4</td>\n",
              "      <td>7978_A2LEBJJDE00071B_1606728948115_4_LH.jpg</td>\n",
              "      <td>0</td>\n",
              "      <td>0</td>\n",
              "      <td>0</td>\n",
              "      <td>0</td>\n",
              "      <td>0</td>\n",
              "      <td>0</td>\n",
              "    </tr>\n",
              "    <tr>\n",
              "      <th>2</th>\n",
              "      <td>9414_A2LEBJJDE00033L_1605521474634_2</td>\n",
              "      <td>9414_A2LEBJJDE00033L_1605521474634_2_TH.jpg</td>\n",
              "      <td>0</td>\n",
              "      <td>0</td>\n",
              "      <td>0</td>\n",
              "      <td>0</td>\n",
              "      <td>0</td>\n",
              "      <td>0</td>\n",
              "    </tr>\n",
              "    <tr>\n",
              "      <th>3</th>\n",
              "      <td>7670_A1LCAIHDH000126_1609648809001_6</td>\n",
              "      <td>7670_A1LCAIHDH000126_1609648809001_6_BH.jpg</td>\n",
              "      <td>0</td>\n",
              "      <td>0</td>\n",
              "      <td>0</td>\n",
              "      <td>0</td>\n",
              "      <td>0</td>\n",
              "      <td>0</td>\n",
              "    </tr>\n",
              "    <tr>\n",
              "      <th>4</th>\n",
              "      <td>8262_A2LEBJJDE00047M_1602749232911_3</td>\n",
              "      <td>8262_A2LEBJJDE00047M_1602749232911_3_TH.jpg</td>\n",
              "      <td>0</td>\n",
              "      <td>0</td>\n",
              "      <td>0</td>\n",
              "      <td>0</td>\n",
              "      <td>0</td>\n",
              "      <td>0</td>\n",
              "    </tr>\n",
              "    <tr>\n",
              "      <th>...</th>\n",
              "      <td>...</td>\n",
              "      <td>...</td>\n",
              "      <td>...</td>\n",
              "      <td>...</td>\n",
              "      <td>...</td>\n",
              "      <td>...</td>\n",
              "      <td>...</td>\n",
              "      <td>...</td>\n",
              "    </tr>\n",
              "    <tr>\n",
              "      <th>3634</th>\n",
              "      <td>1069_A2LEBJJDE00094D_1607579389669_6</td>\n",
              "      <td>1069_A2LEBJJDE00094D_1607579389669_6_BH.jpg</td>\n",
              "      <td>3</td>\n",
              "      <td>0</td>\n",
              "      <td>0</td>\n",
              "      <td>0</td>\n",
              "      <td>3</td>\n",
              "      <td>0</td>\n",
              "    </tr>\n",
              "    <tr>\n",
              "      <th>3635</th>\n",
              "      <td>8146_A2LEBJJDE00148A_1607650916866_6</td>\n",
              "      <td>8146_A2LEBJJDE00148A_1607650916866_6_BH.jpg</td>\n",
              "      <td>3</td>\n",
              "      <td>0</td>\n",
              "      <td>0</td>\n",
              "      <td>0</td>\n",
              "      <td>3</td>\n",
              "      <td>0</td>\n",
              "    </tr>\n",
              "    <tr>\n",
              "      <th>3636</th>\n",
              "      <td>4970_A1LCAIHDH00010K_1608001420956_2</td>\n",
              "      <td>4970_A1LCAIHDH00010K_1608001420956_2_TH.jpg</td>\n",
              "      <td>3</td>\n",
              "      <td>0</td>\n",
              "      <td>0</td>\n",
              "      <td>0</td>\n",
              "      <td>0</td>\n",
              "      <td>0</td>\n",
              "    </tr>\n",
              "    <tr>\n",
              "      <th>3637</th>\n",
              "      <td>2278_A2LEBJJDE00181Z_1606653240159_2</td>\n",
              "      <td>2278_A2LEBJJDE00181Z_1606653240159_2_TH.jpg</td>\n",
              "      <td>3</td>\n",
              "      <td>0</td>\n",
              "      <td>1</td>\n",
              "      <td>0</td>\n",
              "      <td>0</td>\n",
              "      <td>0</td>\n",
              "    </tr>\n",
              "    <tr>\n",
              "      <th>3638</th>\n",
              "      <td>7366_A2LEBJJDE00088Q_1606891895638_2</td>\n",
              "      <td>7366_A2LEBJJDE00088Q_1606891895638_2_TH.jpg</td>\n",
              "      <td>3</td>\n",
              "      <td>0</td>\n",
              "      <td>0</td>\n",
              "      <td>0</td>\n",
              "      <td>1</td>\n",
              "      <td>0</td>\n",
              "    </tr>\n",
              "  </tbody>\n",
              "</table>\n",
              "<p>3639 rows × 8 columns</p>\n",
              "</div>\n",
              "      <button class=\"colab-df-convert\" onclick=\"convertToInteractive('df-08f0ab87-1d16-4794-8208-8f3484a28439')\"\n",
              "              title=\"Convert this dataframe to an interactive table.\"\n",
              "              style=\"display:none;\">\n",
              "        \n",
              "  <svg xmlns=\"http://www.w3.org/2000/svg\" height=\"24px\"viewBox=\"0 0 24 24\"\n",
              "       width=\"24px\">\n",
              "    <path d=\"M0 0h24v24H0V0z\" fill=\"none\"/>\n",
              "    <path d=\"M18.56 5.44l.94 2.06.94-2.06 2.06-.94-2.06-.94-.94-2.06-.94 2.06-2.06.94zm-11 1L8.5 8.5l.94-2.06 2.06-.94-2.06-.94L8.5 2.5l-.94 2.06-2.06.94zm10 10l.94 2.06.94-2.06 2.06-.94-2.06-.94-.94-2.06-.94 2.06-2.06.94z\"/><path d=\"M17.41 7.96l-1.37-1.37c-.4-.4-.92-.59-1.43-.59-.52 0-1.04.2-1.43.59L10.3 9.45l-7.72 7.72c-.78.78-.78 2.05 0 2.83L4 21.41c.39.39.9.59 1.41.59.51 0 1.02-.2 1.41-.59l7.78-7.78 2.81-2.81c.8-.78.8-2.07 0-2.86zM5.41 20L4 18.59l7.72-7.72 1.47 1.35L5.41 20z\"/>\n",
              "  </svg>\n",
              "      </button>\n",
              "      \n",
              "  <style>\n",
              "    .colab-df-container {\n",
              "      display:flex;\n",
              "      flex-wrap:wrap;\n",
              "      gap: 12px;\n",
              "    }\n",
              "\n",
              "    .colab-df-convert {\n",
              "      background-color: #E8F0FE;\n",
              "      border: none;\n",
              "      border-radius: 50%;\n",
              "      cursor: pointer;\n",
              "      display: none;\n",
              "      fill: #1967D2;\n",
              "      height: 32px;\n",
              "      padding: 0 0 0 0;\n",
              "      width: 32px;\n",
              "    }\n",
              "\n",
              "    .colab-df-convert:hover {\n",
              "      background-color: #E2EBFA;\n",
              "      box-shadow: 0px 1px 2px rgba(60, 64, 67, 0.3), 0px 1px 3px 1px rgba(60, 64, 67, 0.15);\n",
              "      fill: #174EA6;\n",
              "    }\n",
              "\n",
              "    [theme=dark] .colab-df-convert {\n",
              "      background-color: #3B4455;\n",
              "      fill: #D2E3FC;\n",
              "    }\n",
              "\n",
              "    [theme=dark] .colab-df-convert:hover {\n",
              "      background-color: #434B5C;\n",
              "      box-shadow: 0px 1px 3px 1px rgba(0, 0, 0, 0.15);\n",
              "      filter: drop-shadow(0px 1px 2px rgba(0, 0, 0, 0.3));\n",
              "      fill: #FFFFFF;\n",
              "    }\n",
              "  </style>\n",
              "\n",
              "      <script>\n",
              "        const buttonEl =\n",
              "          document.querySelector('#df-08f0ab87-1d16-4794-8208-8f3484a28439 button.colab-df-convert');\n",
              "        buttonEl.style.display =\n",
              "          google.colab.kernel.accessAllowed ? 'block' : 'none';\n",
              "\n",
              "        async function convertToInteractive(key) {\n",
              "          const element = document.querySelector('#df-08f0ab87-1d16-4794-8208-8f3484a28439');\n",
              "          const dataTable =\n",
              "            await google.colab.kernel.invokeFunction('convertToInteractive',\n",
              "                                                     [key], {});\n",
              "          if (!dataTable) return;\n",
              "\n",
              "          const docLinkHtml = 'Like what you see? Visit the ' +\n",
              "            '<a target=\"_blank\" href=https://colab.research.google.com/notebooks/data_table.ipynb>data table notebook</a>'\n",
              "            + ' to learn more about interactive tables.';\n",
              "          element.innerHTML = '';\n",
              "          dataTable['output_type'] = 'display_data';\n",
              "          await google.colab.output.renderOutput(dataTable, element);\n",
              "          const docLink = document.createElement('div');\n",
              "          docLink.innerHTML = docLinkHtml;\n",
              "          element.appendChild(docLink);\n",
              "        }\n",
              "      </script>\n",
              "    </div>\n",
              "  </div>\n",
              "  "
            ]
          },
          "metadata": {},
          "execution_count": 6
        }
      ]
    },
    {
      "cell_type": "markdown",
      "source": [
        "***value_1***: 미세각질(0,1,2,3 중 1개 값)\n",
        "\n",
        "***value_2***: 피지과다(0,1,2,3 중 1개 값)\n",
        "\n",
        "***value_3***: 모낭사이홍반(0,1,2,3 중 1개 값)\n",
        "\n",
        "***value_4***: 모낭홍반/농포(0,1,2,3 중 1개 값)\n",
        "\n",
        "***value_5***: 비듬(0,1,2,3 중 1개 값)\n",
        "\n",
        "***value_6***: 탈모(0,1,2,3 중 1개 값)"
      ],
      "metadata": {
        "id": "flVMNCd6gkBz"
      }
    },
    {
      "cell_type": "code",
      "source": [
        "#csv 저장\n",
        "df_1.to_csv('/content/drive/MyDrive/Project4/Dataset/df_1.csv',index=False)"
      ],
      "metadata": {
        "id": "XwfN-C2bh6n_"
      },
      "execution_count": 7,
      "outputs": []
    },
    {
      "cell_type": "code",
      "source": [
        "df_1 = pd.read_csv('/content/drive/MyDrive/Project4/Dataset/df_1.csv')"
      ],
      "metadata": {
        "id": "eM2Ol09r3eE5"
      },
      "execution_count": 3,
      "outputs": []
    },
    {
      "cell_type": "markdown",
      "source": [
        "## 3.1.1 시각화"
      ],
      "metadata": {
        "id": "L-nraOAEv0Lx"
      }
    },
    {
      "cell_type": "code",
      "source": [
        "# 그래프 x축 정렬을 위해 int 타입으로 변환\n",
        "df_1 = df_1.astype({'value_1':'int','value_2':'int', 'value_3':'int', 'value_4':'int', 'value_5':'int', 'value_6':'int'})"
      ],
      "metadata": {
        "id": "f6taJPrgHa9g"
      },
      "execution_count": 7,
      "outputs": []
    },
    {
      "cell_type": "code",
      "source": [
        "df_1.dtypes"
      ],
      "metadata": {
        "colab": {
          "base_uri": "https://localhost:8080/"
        },
        "id": "kfGmlkzBH3AJ",
        "outputId": "5add24be-ddde-4a17-9fcf-06622b7ce7fe"
      },
      "execution_count": 8,
      "outputs": [
        {
          "output_type": "execute_result",
          "data": {
            "text/plain": [
              "image_id           object\n",
              "image_file_name    object\n",
              "value_1             int64\n",
              "value_2             int64\n",
              "value_3             int64\n",
              "value_4             int64\n",
              "value_5             int64\n",
              "value_6             int64\n",
              "dtype: object"
            ]
          },
          "metadata": {},
          "execution_count": 8
        }
      ]
    },
    {
      "cell_type": "code",
      "source": [
        "#미세각질 데이터 분포\n",
        "plt.figure(figsize=(17,8))\n",
        "ax = sns.countplot(x='value_1', data=df_1)\n",
        "for p in ax.patches:\n",
        "    height = p.get_height()\n",
        "    ax.text(p.get_x() + p.get_width() / 2., height + 3, height, ha = 'center', size = 9)\n",
        "plt.show()"
      ],
      "metadata": {
        "colab": {
          "base_uri": "https://localhost:8080/",
          "height": 498
        },
        "id": "HKiv_E7viEhG",
        "outputId": "66db5d2b-c2a5-4d99-d3a3-b95835951ece"
      },
      "execution_count": 9,
      "outputs": [
        {
          "output_type": "display_data",
          "data": {
            "text/plain": [
              "<Figure size 1224x576 with 1 Axes>"
            ],
            "image/png": "[encoded data removed]"
          },
          "metadata": {
            "needs_background": "light"
          }
        }
      ]
    },
    {
      "cell_type": "code",
      "source": [
        "# 피지과다\n",
        "plt.figure(figsize=(17,8))\n",
        "ax = sns.countplot(x='value_1', data=df_1.sort_values(by = 'value_2'), hue='value_2')\n",
        "for p in ax.patches:\n",
        "    height = p.get_height()\n",
        "    ax.text(p.get_x() + p.get_width() / 2., height + 3, height, ha = 'center', size = 9)\n",
        "plt.show()"
      ],
      "metadata": {
        "colab": {
          "base_uri": "https://localhost:8080/",
          "height": 607
        },
        "id": "OgTqvQUAhOti",
        "outputId": "b6eed759-b2a7-445f-f3d6-907599d8e180"
      },
      "execution_count": 10,
      "outputs": [
        {
          "output_type": "stream",
          "name": "stderr",
          "text": [
            "WARNING:matplotlib.text:posx and posy should be finite values\n",
            "WARNING:matplotlib.text:posx and posy should be finite values\n",
            "WARNING:matplotlib.text:posx and posy should be finite values\n",
            "WARNING:matplotlib.text:posx and posy should be finite values\n",
            "WARNING:matplotlib.text:posx and posy should be finite values\n",
            "WARNING:matplotlib.text:posx and posy should be finite values\n"
          ]
        },
        {
          "output_type": "display_data",
          "data": {
            "text/plain": [
              "<Figure size 1224x576 with 1 Axes>"
            ],
            "image/png": "[encoded data removed]"
          },
          "metadata": {
            "needs_background": "light"
          }
        }
      ]
    },
    {
      "cell_type": "code",
      "source": [
        "# 모낭사이홍반\n",
        "plt.figure(figsize=(17,8))\n",
        "ax = sns.countplot(x='value_1', data=df_1.sort_values(by = 'value_3'), hue='value_3')\n",
        "for p in ax.patches:\n",
        "    height = p.get_height()\n",
        "    ax.text(p.get_x() + p.get_width() / 2., height + 3, height, ha = 'center', size = 9)\n",
        "plt.show()"
      ],
      "metadata": {
        "colab": {
          "base_uri": "https://localhost:8080/",
          "height": 607
        },
        "id": "FO9tMIf3iS-q",
        "outputId": "12f59c12-d9a4-433b-e812-9bf14aaad196"
      },
      "execution_count": 11,
      "outputs": [
        {
          "output_type": "stream",
          "name": "stderr",
          "text": [
            "WARNING:matplotlib.text:posx and posy should be finite values\n",
            "WARNING:matplotlib.text:posx and posy should be finite values\n",
            "WARNING:matplotlib.text:posx and posy should be finite values\n",
            "WARNING:matplotlib.text:posx and posy should be finite values\n",
            "WARNING:matplotlib.text:posx and posy should be finite values\n",
            "WARNING:matplotlib.text:posx and posy should be finite values\n"
          ]
        },
        {
          "output_type": "display_data",
          "data": {
            "text/plain": [
              "<Figure size 1224x576 with 1 Axes>"
            ],
            "image/png": "[encoded data removed]"
          },
          "metadata": {
            "needs_background": "light"
          }
        }
      ]
    },
    {
      "cell_type": "code",
      "source": [
        "# 모낭홍반/농포\n",
        "plt.figure(figsize=(17,8))\n",
        "ax = sns.countplot(x='value_1', data=df_1.sort_values(by = 'value_4'), hue='value_4')\n",
        "for p in ax.patches:\n",
        "    height = p.get_height()\n",
        "    ax.text(p.get_x() + p.get_width() / 2., height + 3, height, ha = 'center', size = 9)\n",
        "plt.show()"
      ],
      "metadata": {
        "colab": {
          "base_uri": "https://localhost:8080/",
          "height": 607
        },
        "id": "CjRSOPpiiTXn",
        "outputId": "a8c867b1-c941-4f2e-9da9-4d72690ca69b"
      },
      "execution_count": 12,
      "outputs": [
        {
          "output_type": "stream",
          "name": "stderr",
          "text": [
            "WARNING:matplotlib.text:posx and posy should be finite values\n",
            "WARNING:matplotlib.text:posx and posy should be finite values\n",
            "WARNING:matplotlib.text:posx and posy should be finite values\n",
            "WARNING:matplotlib.text:posx and posy should be finite values\n",
            "WARNING:matplotlib.text:posx and posy should be finite values\n",
            "WARNING:matplotlib.text:posx and posy should be finite values\n"
          ]
        },
        {
          "output_type": "display_data",
          "data": {
            "text/plain": [
              "<Figure size 1224x576 with 1 Axes>"
            ],
            "image/png": "[encoded data removed]"
          },
          "metadata": {
            "needs_background": "light"
          }
        }
      ]
    },
    {
      "cell_type": "code",
      "source": [
        "# 비듬\n",
        "plt.figure(figsize=(17,8))\n",
        "ax = sns.countplot(x='value_1', data=df_1.sort_values(by = 'value_5'), hue='value_5')\n",
        "for p in ax.patches:\n",
        "    height = p.get_height()\n",
        "    ax.text(p.get_x() + p.get_width() / 2., height + 3, height, ha = 'center', size = 9)\n",
        "plt.show()"
      ],
      "metadata": {
        "colab": {
          "base_uri": "https://localhost:8080/",
          "height": 607
        },
        "id": "xFYrITWkiTmb",
        "outputId": "cd536981-f2bf-4558-84d0-dc12dc3b7ff3"
      },
      "execution_count": 13,
      "outputs": [
        {
          "output_type": "stream",
          "name": "stderr",
          "text": [
            "WARNING:matplotlib.text:posx and posy should be finite values\n",
            "WARNING:matplotlib.text:posx and posy should be finite values\n",
            "WARNING:matplotlib.text:posx and posy should be finite values\n",
            "WARNING:matplotlib.text:posx and posy should be finite values\n",
            "WARNING:matplotlib.text:posx and posy should be finite values\n",
            "WARNING:matplotlib.text:posx and posy should be finite values\n"
          ]
        },
        {
          "output_type": "display_data",
          "data": {
            "text/plain": [
              "<Figure size 1224x576 with 1 Axes>"
            ],
            "image/png": "[encoded data removed]"
          },
          "metadata": {
            "needs_background": "light"
          }
        }
      ]
    },
    {
      "cell_type": "code",
      "source": [
        "# 탈모\n",
        "plt.figure(figsize=(17,8))\n",
        "ax = sns.countplot(x='value_1', data=df_1.sort_values(by = 'value_6'), hue='value_6')\n",
        "for p in ax.patches:\n",
        "    height = p.get_height()\n",
        "    ax.text(p.get_x() + p.get_width() / 2., height + 3, height, ha = 'center', size = 9)\n",
        "plt.show()"
      ],
      "metadata": {
        "colab": {
          "base_uri": "https://localhost:8080/",
          "height": 607
        },
        "id": "6HmiplNziTzN",
        "outputId": "c11be84a-fb87-4fa9-c122-3e6523f9178f"
      },
      "execution_count": 14,
      "outputs": [
        {
          "output_type": "stream",
          "name": "stderr",
          "text": [
            "WARNING:matplotlib.text:posx and posy should be finite values\n",
            "WARNING:matplotlib.text:posx and posy should be finite values\n",
            "WARNING:matplotlib.text:posx and posy should be finite values\n",
            "WARNING:matplotlib.text:posx and posy should be finite values\n",
            "WARNING:matplotlib.text:posx and posy should be finite values\n",
            "WARNING:matplotlib.text:posx and posy should be finite values\n"
          ]
        },
        {
          "output_type": "display_data",
          "data": {
            "text/plain": [
              "<Figure size 1224x576 with 1 Axes>"
            ],
            "image/png": "[encoded data removed]"
          },
          "metadata": {
            "needs_background": "light"
          }
        }
      ]
    },
    {
      "cell_type": "markdown",
      "source": [
        "count plot을 확인해본 결과,\n",
        "\n",
        "- value 2, 4 (피지과다, 모낭홍반/농포)는 미세각질 강도가 증가하여도 눈에 띄게 강도 0 값이 많은 것을 확인하였다.\n",
        "- ***가설 1: 미세각질과 피지과다/모낭홍반/농포는 동반되는 경우가 드물다.***\n",
        "\n",
        "- value 3 (모낭사이홍반)은 미세각질 강도가 증가함에 따라 강도 1, 2, 3을 합한 값이 0보다 확연히 많다. 증상이 있는 경우가 많다.\n",
        "- ***가설 2: 미세각질, 모낭사이홍반 증상은 함께 동반되는 경우가 많다.***\n",
        "\n",
        "\n",
        "\n",
        "=> 다른 데이터도 이러한 방법으로 확인할 수 있다.\n",
        "\n",
        "=> 제품을 추천할 때 유용할 것이다.\n",
        "\n",
        "***미세각질***\n",
        "- 두피표면의 천연보습인자(NMF) 부족과 피지선 기능이 저하되어 조기 박리증 증상을 보인다.\n",
        "- 잔 각질이 관찰되며 모공 주변으로 나이테 모양의 각질층을 형성한다.\n",
        "- 유수분의 부족으로 당김현상이나 가려움증을 호소한다.\n",
        "\n",
        "***피지과다***\n",
        "- 피지분비 과다로 두피 표면이 번들거리고 두피색은 탁하다.\n",
        "- 심한 경우 피지산화 및 세균으로 인한 악취, 떡비듬, 지루성염증을 동반하기도 한다.\n",
        "\n",
        "***모낭홍반/농포***\n",
        "- 두피가 붉은 색을 띠며 표면에 홍반이 확인되는 경우가 있다.\n",
        "- 세균감염으로 인한 염증이 있다.\n",
        "\n",
        "***모낭사이홍반***\n",
        "- 두피에 모세혈관 확장으로 인하여 홍반이나 출혈이 보인다.\n",
        "- 태양열이나 에어컨바람과 같은 약한 자극에도 두피가 쉽게 붉어지고 통증이 있을 수 있다.\n",
        "\n",
        "\n",
        "**미세각질 증상의 고객에게 제품을 추천한다면?**\n",
        "- 건성 두피용 (유수분 부족 해결)\n",
        "- 두피 염증은 크게 고려하지 않아도 된다.\n",
        "- 약한 자극에도 통증이 있기 때문에 민감성 제품 추천\n",
        "\n",
        "\n",
        "\n"
      ],
      "metadata": {
        "id": "pepmnPoJnTeR"
      }
    },
    {
      "cell_type": "markdown",
      "source": [
        "## 3.1.2 상관관계 분석\n",
        "***스피어만 상관 계수***\n",
        "- 스피어만 상관 계수는 두 데이터의 실제 값 대신 두 값의 **순위**를 사용해 상관 계수를 계산하는 방식이다.\n",
        "- 피어슨 상관 계수와 달리 **비선형 관계의 연관성을 파악할 수 있다**는 장점이 있다.\n",
        "- 또한, 연속형 데이터에 적합한 피어슨 상관 계수와 달리 **이산형 데이터, 순서형 데이터에 적용이 가능하다.**\n",
        "\n",
        "***=> 각 value의 값들이 이산형이므로 스피어만 상관 계수 사용***\n",
        "\n"
      ],
      "metadata": {
        "id": "sr3Ne0vDv57X"
      }
    },
    {
      "cell_type": "code",
      "source": [
        "cols = df_1.columns[[2,3,4,5,6,7]]\n",
        "sns.heatmap(df_1[cols].corr(method = 'spearman'), annot=True)\n",
        "plt.show()"
      ],
      "metadata": {
        "colab": {
          "base_uri": "https://localhost:8080/",
          "height": 270
        },
        "id": "ytLI5uIcu5xf",
        "outputId": "885d7104-e828-43bd-aed1-71a9be802f70"
      },
      "execution_count": 13,
      "outputs": [
        {
          "output_type": "display_data",
          "data": {
            "text/plain": [
              "<Figure size 432x288 with 2 Axes>"
            ],
            "image/png": "[encoded data removed]"
          },
          "metadata": {
            "needs_background": "light"
          }
        }
      ]
    },
    {
      "cell_type": "markdown",
      "source": [
        "# 3.2 데이터 분석 (탈모)"
      ],
      "metadata": {
        "id": "-fNFxy5cPy6I"
      }
    },
    {
      "cell_type": "code",
      "source": [
        "li_6 = [\"라벨_탈모_0\", \"라벨_탈모_1\", \"라벨_탈모_2\", \"라벨_탈모_3\"]"
      ],
      "metadata": {
        "id": "kMa5hdc7xl8R"
      },
      "execution_count": 16,
      "outputs": []
    },
    {
      "cell_type": "code",
      "source": [
        "%cd /content/drive/MyDrive/Project4/Dataset/라벨_탈모_0\n",
        "!unzip -qq '/content/drive/MyDrive/Project4/Dataset/[라벨]탈모_0.양호.zip'"
      ],
      "metadata": {
        "colab": {
          "base_uri": "https://localhost:8080/"
        },
        "id": "-QJWpqCEyzGr",
        "outputId": "f711a2fd-9eec-4c33-a8bb-413f847bb6e1"
      },
      "execution_count": null,
      "outputs": [
        {
          "output_type": "stream",
          "name": "stdout",
          "text": [
            "/content/drive/MyDrive/Project4/Dataset/라벨_탈모_0\n"
          ]
        }
      ]
    },
    {
      "cell_type": "code",
      "source": [
        "%cd /content/drive/MyDrive/Project4/Dataset/라벨_탈모_1\n",
        "!unzip -qq '/content/drive/MyDrive/Project4/Dataset/[라벨]탈모_1.경증.zip'"
      ],
      "metadata": {
        "colab": {
          "base_uri": "https://localhost:8080/"
        },
        "id": "RzyNAQQmy9-M",
        "outputId": "a1e8f928-7c0d-4c14-bd86-159b8998dc6c"
      },
      "execution_count": null,
      "outputs": [
        {
          "output_type": "stream",
          "name": "stdout",
          "text": [
            "/content/drive/MyDrive/Project4/Dataset/라벨_탈모_1\n"
          ]
        }
      ]
    },
    {
      "cell_type": "code",
      "source": [
        "%cd /content/drive/MyDrive/Project4/Dataset/라벨_탈모_2\n",
        "!unzip -qq '/content/drive/MyDrive/Project4/Dataset/[라벨]탈모_2.중등도.zip'"
      ],
      "metadata": {
        "colab": {
          "base_uri": "https://localhost:8080/"
        },
        "id": "t-zZskhby-EW",
        "outputId": "699dadb2-1fd0-4997-b45d-6fc109814e88"
      },
      "execution_count": null,
      "outputs": [
        {
          "output_type": "stream",
          "name": "stdout",
          "text": [
            "/content/drive/MyDrive/Project4/Dataset/라벨_탈모_2\n"
          ]
        }
      ]
    },
    {
      "cell_type": "code",
      "source": [
        "%cd /content/drive/MyDrive/Project4/Dataset/라벨_탈모_3\n",
        "!unzip -qq '/content/drive/MyDrive/Project4/Dataset/[라벨]탈모_3.중증.zip'"
      ],
      "metadata": {
        "colab": {
          "base_uri": "https://localhost:8080/"
        },
        "id": "5h5NnKqjy-Lc",
        "outputId": "58b4184f-f038-467e-ee39-a0cfccc50d49"
      },
      "execution_count": null,
      "outputs": [
        {
          "output_type": "stream",
          "name": "stdout",
          "text": [
            "/content/drive/MyDrive/Project4/Dataset/라벨_탈모_3\n"
          ]
        }
      ]
    },
    {
      "cell_type": "code",
      "source": [
        "df_6 = openJson(li_6)"
      ],
      "metadata": {
        "colab": {
          "base_uri": "https://localhost:8080/"
        },
        "id": "VDehd4ETyla3",
        "outputId": "7e4183db-b041-4d4a-b0ff-c311f7f5d17a"
      },
      "execution_count": 17,
      "outputs": [
        {
          "output_type": "stream",
          "name": "stdout",
          "text": [
            "/content/drive/MyDrive/Project4/Dataset/라벨_탈모_0/\n",
            "152\n",
            "/content/drive/MyDrive/Project4/Dataset/라벨_탈모_1/\n",
            "3813\n",
            "/content/drive/MyDrive/Project4/Dataset/라벨_탈모_2/\n",
            "1084\n",
            "/content/drive/MyDrive/Project4/Dataset/라벨_탈모_3/\n",
            "239\n"
          ]
        }
      ]
    },
    {
      "cell_type": "code",
      "source": [
        "df_6"
      ],
      "metadata": {
        "colab": {
          "base_uri": "https://localhost:8080/",
          "height": 424
        },
        "id": "vWOiCTnT2etN",
        "outputId": "1b6ecf3f-eedc-45c1-e251-9fd307c182c7"
      },
      "execution_count": 18,
      "outputs": [
        {
          "output_type": "execute_result",
          "data": {
            "text/plain": [
              "                                  image_id  \\\n",
              "0     8896_A2LEBJJDE001807_1606455960324_3   \n",
              "1         8781_A2LEBJJDE000906_539482042_3   \n",
              "2     8814_A2LEBJJDE00118S_1603072051977_4   \n",
              "3     9414_A2LEBJJDE00033L_1605521474634_6   \n",
              "4     7297_A2LEBJJDE00151I_1606701309614_4   \n",
              "...                                    ...   \n",
              "5279  1981_A2LEBJJDE001493_1606634009469_5   \n",
              "5280  0715_A2LEBJJDE00175D_1608812596197_3   \n",
              "5281  4370_A1LCAIHDH00005Q_1607837222616_5   \n",
              "5282  4970_A1LCAIHDH00010K_1608355030996_5   \n",
              "5283  8297_A2LEBJJDE001076_1607322755114_3   \n",
              "\n",
              "                                  image_file_name value_1 value_2 value_3  \\\n",
              "0     8896_A2LEBJJDE001807_1606455960324_3_TH.jpg       0       0       0   \n",
              "1         8781_A2LEBJJDE000906_539482042_3_TH.jpg       0       0       0   \n",
              "2     8814_A2LEBJJDE00118S_1603072051977_4_LH.jpg       0       0       0   \n",
              "3     9414_A2LEBJJDE00033L_1605521474634_6_BH.jpg       0       0       0   \n",
              "4     7297_A2LEBJJDE00151I_1606701309614_4_LH.jpg       0       0       0   \n",
              "...                                           ...     ...     ...     ...   \n",
              "5279  1981_A2LEBJJDE001493_1606634009469_5_RH.jpg       2       0       2   \n",
              "5280  0715_A2LEBJJDE00175D_1608812596197_3_TH.jpg       0       2       1   \n",
              "5281  4370_A1LCAIHDH00005Q_1607837222616_5_RH.jpg       1       0       0   \n",
              "5282  4970_A1LCAIHDH00010K_1608355030996_5_RH.jpg       0       1       0   \n",
              "5283  8297_A2LEBJJDE001076_1607322755114_3_TH.jpg       0       1       2   \n",
              "\n",
              "     value_4 value_5 value_6  \n",
              "0          0       0       0  \n",
              "1          0       0       0  \n",
              "2          0       0       0  \n",
              "3          0       0       0  \n",
              "4          0       0       0  \n",
              "...      ...     ...     ...  \n",
              "5279       0       0       3  \n",
              "5280       0       0       3  \n",
              "5281       0       0       3  \n",
              "5282       0       0       3  \n",
              "5283       0       0       3  \n",
              "\n",
              "[5284 rows x 8 columns]"
            ],
            "text/html": [
              "\n",
              "  <div id=\"df-58950465-4c52-4af6-8547-cecb2ce6c8de\">\n",
              "    <div class=\"colab-df-container\">\n",
              "      <div>\n",
              "<style scoped>\n",
              "    .dataframe tbody tr th:only-of-type {\n",
              "        vertical-align: middle;\n",
              "    }\n",
              "\n",
              "    .dataframe tbody tr th {\n",
              "        vertical-align: top;\n",
              "    }\n",
              "\n",
              "    .dataframe thead th {\n",
              "        text-align: right;\n",
              "    }\n",
              "</style>\n",
              "<table border=\"1\" class=\"dataframe\">\n",
              "  <thead>\n",
              "    <tr style=\"text-align: right;\">\n",
              "      <th></th>\n",
              "      <th>image_id</th>\n",
              "      <th>image_file_name</th>\n",
              "      <th>value_1</th>\n",
              "      <th>value_2</th>\n",
              "      <th>value_3</th>\n",
              "      <th>value_4</th>\n",
              "      <th>value_5</th>\n",
              "      <th>value_6</th>\n",
              "    </tr>\n",
              "  </thead>\n",
              "  <tbody>\n",
              "    <tr>\n",
              "      <th>0</th>\n",
              "      <td>8896_A2LEBJJDE001807_1606455960324_3</td>\n",
              "      <td>8896_A2LEBJJDE001807_1606455960324_3_TH.jpg</td>\n",
              "      <td>0</td>\n",
              "      <td>0</td>\n",
              "      <td>0</td>\n",
              "      <td>0</td>\n",
              "      <td>0</td>\n",
              "      <td>0</td>\n",
              "    </tr>\n",
              "    <tr>\n",
              "      <th>1</th>\n",
              "      <td>8781_A2LEBJJDE000906_539482042_3</td>\n",
              "      <td>8781_A2LEBJJDE000906_539482042_3_TH.jpg</td>\n",
              "      <td>0</td>\n",
              "      <td>0</td>\n",
              "      <td>0</td>\n",
              "      <td>0</td>\n",
              "      <td>0</td>\n",
              "      <td>0</td>\n",
              "    </tr>\n",
              "    <tr>\n",
              "      <th>2</th>\n",
              "      <td>8814_A2LEBJJDE00118S_1603072051977_4</td>\n",
              "      <td>8814_A2LEBJJDE00118S_1603072051977_4_LH.jpg</td>\n",
              "      <td>0</td>\n",
              "      <td>0</td>\n",
              "      <td>0</td>\n",
              "      <td>0</td>\n",
              "      <td>0</td>\n",
              "      <td>0</td>\n",
              "    </tr>\n",
              "    <tr>\n",
              "      <th>3</th>\n",
              "      <td>9414_A2LEBJJDE00033L_1605521474634_6</td>\n",
              "      <td>9414_A2LEBJJDE00033L_1605521474634_6_BH.jpg</td>\n",
              "      <td>0</td>\n",
              "      <td>0</td>\n",
              "      <td>0</td>\n",
              "      <td>0</td>\n",
              "      <td>0</td>\n",
              "      <td>0</td>\n",
              "    </tr>\n",
              "    <tr>\n",
              "      <th>4</th>\n",
              "      <td>7297_A2LEBJJDE00151I_1606701309614_4</td>\n",
              "      <td>7297_A2LEBJJDE00151I_1606701309614_4_LH.jpg</td>\n",
              "      <td>0</td>\n",
              "      <td>0</td>\n",
              "      <td>0</td>\n",
              "      <td>0</td>\n",
              "      <td>0</td>\n",
              "      <td>0</td>\n",
              "    </tr>\n",
              "    <tr>\n",
              "      <th>...</th>\n",
              "      <td>...</td>\n",
              "      <td>...</td>\n",
              "      <td>...</td>\n",
              "      <td>...</td>\n",
              "      <td>...</td>\n",
              "      <td>...</td>\n",
              "      <td>...</td>\n",
              "      <td>...</td>\n",
              "    </tr>\n",
              "    <tr>\n",
              "      <th>5279</th>\n",
              "      <td>1981_A2LEBJJDE001493_1606634009469_5</td>\n",
              "      <td>1981_A2LEBJJDE001493_1606634009469_5_RH.jpg</td>\n",
              "      <td>2</td>\n",
              "      <td>0</td>\n",
              "      <td>2</td>\n",
              "      <td>0</td>\n",
              "      <td>0</td>\n",
              "      <td>3</td>\n",
              "    </tr>\n",
              "    <tr>\n",
              "      <th>5280</th>\n",
              "      <td>0715_A2LEBJJDE00175D_1608812596197_3</td>\n",
              "      <td>0715_A2LEBJJDE00175D_1608812596197_3_TH.jpg</td>\n",
              "      <td>0</td>\n",
              "      <td>2</td>\n",
              "      <td>1</td>\n",
              "      <td>0</td>\n",
              "      <td>0</td>\n",
              "      <td>3</td>\n",
              "    </tr>\n",
              "    <tr>\n",
              "      <th>5281</th>\n",
              "      <td>4370_A1LCAIHDH00005Q_1607837222616_5</td>\n",
              "      <td>4370_A1LCAIHDH00005Q_1607837222616_5_RH.jpg</td>\n",
              "      <td>1</td>\n",
              "      <td>0</td>\n",
              "      <td>0</td>\n",
              "      <td>0</td>\n",
              "      <td>0</td>\n",
              "      <td>3</td>\n",
              "    </tr>\n",
              "    <tr>\n",
              "      <th>5282</th>\n",
              "      <td>4970_A1LCAIHDH00010K_1608355030996_5</td>\n",
              "      <td>4970_A1LCAIHDH00010K_1608355030996_5_RH.jpg</td>\n",
              "      <td>0</td>\n",
              "      <td>1</td>\n",
              "      <td>0</td>\n",
              "      <td>0</td>\n",
              "      <td>0</td>\n",
              "      <td>3</td>\n",
              "    </tr>\n",
              "    <tr>\n",
              "      <th>5283</th>\n",
              "      <td>8297_A2LEBJJDE001076_1607322755114_3</td>\n",
              "      <td>8297_A2LEBJJDE001076_1607322755114_3_TH.jpg</td>\n",
              "      <td>0</td>\n",
              "      <td>1</td>\n",
              "      <td>2</td>\n",
              "      <td>0</td>\n",
              "      <td>0</td>\n",
              "      <td>3</td>\n",
              "    </tr>\n",
              "  </tbody>\n",
              "</table>\n",
              "<p>5284 rows × 8 columns</p>\n",
              "</div>\n",
              "      <button class=\"colab-df-convert\" onclick=\"convertToInteractive('df-58950465-4c52-4af6-8547-cecb2ce6c8de')\"\n",
              "              title=\"Convert this dataframe to an interactive table.\"\n",
              "              style=\"display:none;\">\n",
              "        \n",
              "  <svg xmlns=\"http://www.w3.org/2000/svg\" height=\"24px\"viewBox=\"0 0 24 24\"\n",
              "       width=\"24px\">\n",
              "    <path d=\"M0 0h24v24H0V0z\" fill=\"none\"/>\n",
              "    <path d=\"M18.56 5.44l.94 2.06.94-2.06 2.06-.94-2.06-.94-.94-2.06-.94 2.06-2.06.94zm-11 1L8.5 8.5l.94-2.06 2.06-.94-2.06-.94L8.5 2.5l-.94 2.06-2.06.94zm10 10l.94 2.06.94-2.06 2.06-.94-2.06-.94-.94-2.06-.94 2.06-2.06.94z\"/><path d=\"M17.41 7.96l-1.37-1.37c-.4-.4-.92-.59-1.43-.59-.52 0-1.04.2-1.43.59L10.3 9.45l-7.72 7.72c-.78.78-.78 2.05 0 2.83L4 21.41c.39.39.9.59 1.41.59.51 0 1.02-.2 1.41-.59l7.78-7.78 2.81-2.81c.8-.78.8-2.07 0-2.86zM5.41 20L4 18.59l7.72-7.72 1.47 1.35L5.41 20z\"/>\n",
              "  </svg>\n",
              "      </button>\n",
              "      \n",
              "  <style>\n",
              "    .colab-df-container {\n",
              "      display:flex;\n",
              "      flex-wrap:wrap;\n",
              "      gap: 12px;\n",
              "    }\n",
              "\n",
              "    .colab-df-convert {\n",
              "      background-color: #E8F0FE;\n",
              "      border: none;\n",
              "      border-radius: 50%;\n",
              "      cursor: pointer;\n",
              "      display: none;\n",
              "      fill: #1967D2;\n",
              "      height: 32px;\n",
              "      padding: 0 0 0 0;\n",
              "      width: 32px;\n",
              "    }\n",
              "\n",
              "    .colab-df-convert:hover {\n",
              "      background-color: #E2EBFA;\n",
              "      box-shadow: 0px 1px 2px rgba(60, 64, 67, 0.3), 0px 1px 3px 1px rgba(60, 64, 67, 0.15);\n",
              "      fill: #174EA6;\n",
              "    }\n",
              "\n",
              "    [theme=dark] .colab-df-convert {\n",
              "      background-color: #3B4455;\n",
              "      fill: #D2E3FC;\n",
              "    }\n",
              "\n",
              "    [theme=dark] .colab-df-convert:hover {\n",
              "      background-color: #434B5C;\n",
              "      box-shadow: 0px 1px 3px 1px rgba(0, 0, 0, 0.15);\n",
              "      filter: drop-shadow(0px 1px 2px rgba(0, 0, 0, 0.3));\n",
              "      fill: #FFFFFF;\n",
              "    }\n",
              "  </style>\n",
              "\n",
              "      <script>\n",
              "        const buttonEl =\n",
              "          document.querySelector('#df-58950465-4c52-4af6-8547-cecb2ce6c8de button.colab-df-convert');\n",
              "        buttonEl.style.display =\n",
              "          google.colab.kernel.accessAllowed ? 'block' : 'none';\n",
              "\n",
              "        async function convertToInteractive(key) {\n",
              "          const element = document.querySelector('#df-58950465-4c52-4af6-8547-cecb2ce6c8de');\n",
              "          const dataTable =\n",
              "            await google.colab.kernel.invokeFunction('convertToInteractive',\n",
              "                                                     [key], {});\n",
              "          if (!dataTable) return;\n",
              "\n",
              "          const docLinkHtml = 'Like what you see? Visit the ' +\n",
              "            '<a target=\"_blank\" href=https://colab.research.google.com/notebooks/data_table.ipynb>data table notebook</a>'\n",
              "            + ' to learn more about interactive tables.';\n",
              "          element.innerHTML = '';\n",
              "          dataTable['output_type'] = 'display_data';\n",
              "          await google.colab.output.renderOutput(dataTable, element);\n",
              "          const docLink = document.createElement('div');\n",
              "          docLink.innerHTML = docLinkHtml;\n",
              "          element.appendChild(docLink);\n",
              "        }\n",
              "      </script>\n",
              "    </div>\n",
              "  </div>\n",
              "  "
            ]
          },
          "metadata": {},
          "execution_count": 18
        }
      ]
    },
    {
      "cell_type": "markdown",
      "source": [
        "## 3.2.1 시각화"
      ],
      "metadata": {
        "id": "TELiKBIrwwxH"
      }
    },
    {
      "cell_type": "code",
      "source": [
        "# 그래프 x축 정렬을 위해 int 타입으로 변환\n",
        "df_6 = df_6.astype({'value_1':'int','value_2':'int', 'value_3':'int', 'value_4':'int', 'value_5':'int', 'value_6':'int'})"
      ],
      "metadata": {
        "id": "4cty2qdXmQVI"
      },
      "execution_count": 19,
      "outputs": []
    },
    {
      "cell_type": "code",
      "source": [
        "plt.figure(figsize=(17,8))\n",
        "ax = sns.countplot(x='value_6', data=df_6)\n",
        "for p in ax.patches:\n",
        "    height = p.get_height()\n",
        "    ax.text(p.get_x() + p.get_width() / 2., height + 3, height, ha = 'center', size = 9)\n",
        "plt.show()"
      ],
      "metadata": {
        "colab": {
          "base_uri": "https://localhost:8080/",
          "height": 501
        },
        "outputId": "c0f581d5-fc04-45e4-f8a2-476bc95239ac",
        "id": "vqTaQ2g12ykv"
      },
      "execution_count": 20,
      "outputs": [
        {
          "output_type": "display_data",
          "data": {
            "text/plain": [
              "<Figure size 1224x576 with 1 Axes>"
            ],
            "image/png": "[encoded data removed]"
          },
          "metadata": {
            "needs_background": "light"
          }
        }
      ]
    },
    {
      "cell_type": "code",
      "source": [
        "# 미세각질\n",
        "plt.figure(figsize=(17,8))\n",
        "ax = sns.countplot(x='value_6', data=df_6.sort_values(by = 'value_1'), hue='value_1')\n",
        "for p in ax.patches:\n",
        "    height = p.get_height()\n",
        "    ax.text(p.get_x() + p.get_width() / 2., height + 3, height, ha = 'center', size = 9)\n",
        "plt.show()"
      ],
      "metadata": {
        "colab": {
          "base_uri": "https://localhost:8080/",
          "height": 607
        },
        "outputId": "564efc4d-1cab-46ae-dac7-1f6467c005a3",
        "id": "a7FxsXLW2yky"
      },
      "execution_count": 21,
      "outputs": [
        {
          "output_type": "stream",
          "name": "stderr",
          "text": [
            "WARNING:matplotlib.text:posx and posy should be finite values\n",
            "WARNING:matplotlib.text:posx and posy should be finite values\n",
            "WARNING:matplotlib.text:posx and posy should be finite values\n",
            "WARNING:matplotlib.text:posx and posy should be finite values\n",
            "WARNING:matplotlib.text:posx and posy should be finite values\n",
            "WARNING:matplotlib.text:posx and posy should be finite values\n"
          ]
        },
        {
          "output_type": "display_data",
          "data": {
            "text/plain": [
              "<Figure size 1224x576 with 1 Axes>"
            ],
            "image/png": "[encoded data removed]"
          },
          "metadata": {
            "needs_background": "light"
          }
        }
      ]
    },
    {
      "cell_type": "code",
      "source": [
        "# 피지과다\n",
        "plt.figure(figsize=(17,8))\n",
        "ax = sns.countplot(x='value_6', data=df_6.sort_values(by = 'value_2'), hue='value_2')\n",
        "for p in ax.patches:\n",
        "    height = p.get_height()\n",
        "    ax.text(p.get_x() + p.get_width() / 2., height + 3, height, ha = 'center', size = 9)\n",
        "plt.show()"
      ],
      "metadata": {
        "colab": {
          "base_uri": "https://localhost:8080/",
          "height": 643
        },
        "outputId": "625647f3-52c4-4d68-f8c0-92652e8a47ed",
        "id": "qpMeBb1w2ykw"
      },
      "execution_count": 22,
      "outputs": [
        {
          "output_type": "stream",
          "name": "stderr",
          "text": [
            "WARNING:matplotlib.text:posx and posy should be finite values\n",
            "WARNING:matplotlib.text:posx and posy should be finite values\n",
            "WARNING:matplotlib.text:posx and posy should be finite values\n",
            "WARNING:matplotlib.text:posx and posy should be finite values\n",
            "WARNING:matplotlib.text:posx and posy should be finite values\n",
            "WARNING:matplotlib.text:posx and posy should be finite values\n",
            "WARNING:matplotlib.text:posx and posy should be finite values\n",
            "WARNING:matplotlib.text:posx and posy should be finite values\n"
          ]
        },
        {
          "output_type": "display_data",
          "data": {
            "text/plain": [
              "<Figure size 1224x576 with 1 Axes>"
            ],
            "image/png": "[encoded data removed]"
          },
          "metadata": {
            "needs_background": "light"
          }
        }
      ]
    },
    {
      "cell_type": "code",
      "source": [
        "# 모낭사이홍반\n",
        "plt.figure(figsize=(17,8))\n",
        "ax = sns.countplot(x='value_6', data=df_6.sort_values(by = 'value_3'), hue='value_3')\n",
        "for p in ax.patches:\n",
        "    height = p.get_height()\n",
        "    ax.text(p.get_x() + p.get_width() / 2., height + 3, height, ha = 'center', size = 9)\n",
        "plt.show()"
      ],
      "metadata": {
        "colab": {
          "base_uri": "https://localhost:8080/",
          "height": 607
        },
        "outputId": "9ae1eff6-e6d2-4aa4-9aad-882eeeeefcd5",
        "id": "Jx4B9skk2ykx"
      },
      "execution_count": 23,
      "outputs": [
        {
          "output_type": "stream",
          "name": "stderr",
          "text": [
            "WARNING:matplotlib.text:posx and posy should be finite values\n",
            "WARNING:matplotlib.text:posx and posy should be finite values\n",
            "WARNING:matplotlib.text:posx and posy should be finite values\n",
            "WARNING:matplotlib.text:posx and posy should be finite values\n",
            "WARNING:matplotlib.text:posx and posy should be finite values\n",
            "WARNING:matplotlib.text:posx and posy should be finite values\n"
          ]
        },
        {
          "output_type": "display_data",
          "data": {
            "text/plain": [
              "<Figure size 1224x576 with 1 Axes>"
            ],
            "image/png": "[encoded data removed]"
          },
          "metadata": {
            "needs_background": "light"
          }
        }
      ]
    },
    {
      "cell_type": "code",
      "source": [
        "# 모낭홍반/농포\n",
        "plt.figure(figsize=(17,8))\n",
        "ax = sns.countplot(x='value_6', data=df_6.sort_values(by = 'value_4'), hue='value_4')\n",
        "for p in ax.patches:\n",
        "    height = p.get_height()\n",
        "    ax.text(p.get_x() + p.get_width() / 2., height + 3, height, ha = 'center', size = 9)\n",
        "plt.show()"
      ],
      "metadata": {
        "colab": {
          "base_uri": "https://localhost:8080/",
          "height": 607
        },
        "outputId": "ef8e741c-dcdb-46d5-b7b6-81de35ff29d2",
        "id": "icFMS3k-2ykx"
      },
      "execution_count": 24,
      "outputs": [
        {
          "output_type": "stream",
          "name": "stderr",
          "text": [
            "WARNING:matplotlib.text:posx and posy should be finite values\n",
            "WARNING:matplotlib.text:posx and posy should be finite values\n",
            "WARNING:matplotlib.text:posx and posy should be finite values\n",
            "WARNING:matplotlib.text:posx and posy should be finite values\n",
            "WARNING:matplotlib.text:posx and posy should be finite values\n",
            "WARNING:matplotlib.text:posx and posy should be finite values\n"
          ]
        },
        {
          "output_type": "display_data",
          "data": {
            "text/plain": [
              "<Figure size 1224x576 with 1 Axes>"
            ],
            "image/png": "[encoded data removed]"
          },
          "metadata": {
            "needs_background": "light"
          }
        }
      ]
    },
    {
      "cell_type": "code",
      "source": [
        "# 비듬\n",
        "plt.figure(figsize=(17,8))\n",
        "ax = sns.countplot(x='value_6', data=df_6.sort_values(by = 'value_5'), hue='value_5')\n",
        "for p in ax.patches:\n",
        "    height = p.get_height()\n",
        "    ax.text(p.get_x() + p.get_width() / 2., height + 3, height, ha = 'center', size = 9)\n",
        "plt.show()"
      ],
      "metadata": {
        "colab": {
          "base_uri": "https://localhost:8080/",
          "height": 607
        },
        "outputId": "7a9bc2a4-d432-482a-c71c-1729e69338ae",
        "id": "cK3-Qz5p2ykx"
      },
      "execution_count": 25,
      "outputs": [
        {
          "output_type": "stream",
          "name": "stderr",
          "text": [
            "WARNING:matplotlib.text:posx and posy should be finite values\n",
            "WARNING:matplotlib.text:posx and posy should be finite values\n",
            "WARNING:matplotlib.text:posx and posy should be finite values\n",
            "WARNING:matplotlib.text:posx and posy should be finite values\n",
            "WARNING:matplotlib.text:posx and posy should be finite values\n",
            "WARNING:matplotlib.text:posx and posy should be finite values\n"
          ]
        },
        {
          "output_type": "display_data",
          "data": {
            "text/plain": [
              "<Figure size 1224x576 with 1 Axes>"
            ],
            "image/png": "[encoded data removed]"
          },
          "metadata": {
            "needs_background": "light"
          }
        }
      ]
    },
    {
      "cell_type": "markdown",
      "source": [
        "count polt을 확인해본 결과,\n",
        "\n",
        "- value 1, 4 (미세각질, 모낭홍반/농포)는 탈모 강도가 증가하여도 눈에 띄게 강도 0 값이 많은 것을 확인하였다.\n",
        "- ***가설 1: 탈모와 미세각질/모낭홍반/농포는 동반되는 경우가 드물다.***\n",
        "- value 2, 3 (피지과다, 모낭사이홍반)은 탈모 강도가 증가함에 따라 증상이 있는 경우가 확연히 많았다.\n",
        "- ***가설 2: 탈모, 피지과다, 모낭사이홍반 증상은 함께 동반되는 경우가 많다.***\n",
        "\n",
        "\n",
        "***탈모***\n",
        "- 모발이 있어야 할 부위에 없거나 연모화가 빠르게 진행되는 것이 특징이다.\n",
        "- 유전, 호르몬, 환경 등 복합적인 영향이 원인이다.\n",
        "- 환경적인 탈모의 경우 가려움을 동반하기도 하고 비듬과 피지분비량이 증가한다고 한다.\n",
        "- 유전적인 탈모의 경우 특별한 이상이 관찰되지 않으며, 밀도가 급격히 낮아지는 것이 특징이다.\n",
        "\n",
        "***미세각질***\n",
        "- 두피표면의 천연보습인자(NMF) 부족과 피지선 기능이 저하되어 조기 박리증 증상을 보인다.\n",
        "- 잔 각질이 관찰되며 모공 주변으로 나이테 모양의 각질층을 형성한다.\n",
        "- 유수분의 부족으로 당김현상이나 가려움증을 호소한다.\n",
        "\n",
        "***모낭홍반/농포***\n",
        "- 두피가 붉은 색을 띠며 표면에 홍반이 확인되는 경우가 있다.\n",
        "- 세균감염으로 인한 염증이 있다.\n",
        "\n",
        "***피지과다***\n",
        "- 피지분비 과다로 두피 표면이 번들거리고 두피색은 탁하다.\n",
        "- 모공에 물이 고여있는 것처럼 관찰되며 모발밀도가 낮다.\n",
        "- 심한 경우 피지산화 및 세균으로 인한 악취, 떡비듬, 지루성염증을 동반하기도 한다.\n",
        "\n",
        "***모낭사이홍반***\n",
        "- 두피에 모세혈관 확장으로 인하여 홍반이나 출혈이 보인다.\n",
        "- 태양열이나 에어컨바람과 같은 약한 자극에도 두피가 쉽게 붉어지고 통증이 있을 수 있다.\n",
        "\n",
        "**탈모 증상의 고객에게 제품을 추천한다면?**\n",
        "- 지성 두피용 (유수분 부족 해결)\n",
        "- 약한 자극에도 통증이 있기 때문에 민감성 제품 추천\n",
        "- 두피 염증은 크게 고려하지 않아도 된다.\n",
        "\n"
      ],
      "metadata": {
        "id": "A3IFEk-2ic8h"
      }
    },
    {
      "cell_type": "markdown",
      "source": [
        "## 3.2.2 상관관계 분석"
      ],
      "metadata": {
        "id": "66domXYUw3Wq"
      }
    },
    {
      "cell_type": "code",
      "source": [
        "cols = df_6.columns[[2,3,4,5,6,7]]\n",
        "sns.heatmap(df_6[cols].corr(method = 'spearman'), annot=True, cmap=\"RdBu\")\n",
        "plt.show()"
      ],
      "metadata": {
        "colab": {
          "base_uri": "https://localhost:8080/",
          "height": 270
        },
        "id": "7vHD8L1mrht0",
        "outputId": "565d32db-41e0-4f3a-c20d-ff6399238c20"
      },
      "execution_count": 26,
      "outputs": [
        {
          "output_type": "display_data",
          "data": {
            "text/plain": [
              "<Figure size 432x288 with 2 Axes>"
            ],
            "image/png": "[encoded data removed]"
          },
          "metadata": {
            "needs_background": "light"
          }
        }
      ]
    },
    {
      "cell_type": "markdown",
      "source": [
        "# 4.이미지 처리"
      ],
      "metadata": {
        "id": "2Wetj9Ttgo31"
      }
    },
    {
      "cell_type": "markdown",
      "source": [
        "# 4.1 train/test set 준비"
      ],
      "metadata": {
        "id": "e1zGky8tpjF0"
      }
    },
    {
      "cell_type": "code",
      "source": [
        "train_df, test_df = train_test_split(df_1, test_size = 0.2, random_state=1, stratify=df_1['value_1'])"
      ],
      "metadata": {
        "id": "4W7b2HVepnp4"
      },
      "execution_count": 29,
      "outputs": []
    },
    {
      "cell_type": "code",
      "source": [
        "print(\"Train set rows: {}\".format(train_df.shape[0]))\n",
        "print(\"Test  set rows: {}\".format(test_df.shape[0]))"
      ],
      "metadata": {
        "colab": {
          "base_uri": "https://localhost:8080/"
        },
        "id": "MEqR2iE9p_4X",
        "outputId": "8fb822ce-10b3-4896-f873-16a466b43c9c"
      },
      "execution_count": 30,
      "outputs": [
        {
          "output_type": "stream",
          "name": "stdout",
          "text": [
            "Train set rows: 2911\n",
            "Test  set rows: 728\n"
          ]
        }
      ]
    },
    {
      "cell_type": "code",
      "source": [
        "path_images = \"/content/drive/MyDrive/Project4/Dataset/원천_미세각질/\""
      ],
      "metadata": {
        "id": "WcCS4iALuSTl"
      },
      "execution_count": 31,
      "outputs": []
    },
    {
      "cell_type": "code",
      "source": [
        "def read_image(file_name):\n",
        "  image = skimage.io.imread(path_images + file_name) / 255\n",
        "  image = skimage.transform.resize(image, (224, 224), mode='reflect')\n",
        "  #print(file_name)\n",
        "  return image[:,:,:3]"
      ],
      "metadata": {
        "id": "k58UA1PxrT-J"
      },
      "execution_count": 76,
      "outputs": []
    },
    {
      "cell_type": "code",
      "source": [
        "def categories_encoder(dataset, var):\n",
        "  X=np.stack(dataset['image_file_name'].apply(read_image))\n",
        "  y = pd.get_dummies(dataset[var], drop_first=False)\n",
        "  return X,y"
      ],
      "metadata": {
        "id": "EK-p0lh7r-Hq"
      },
      "execution_count": 77,
      "outputs": []
    },
    {
      "cell_type": "code",
      "source": [
        "X_train, y_train = categories_encoder(train_df, 'value_1')"
      ],
      "metadata": {
        "id": "sYG6hhCrPxLG"
      },
      "execution_count": 78,
      "outputs": []
    },
    {
      "cell_type": "code",
      "source": [
        "X_test, y_test = categories_encoder(test_df, 'value_1')"
      ],
      "metadata": {
        "id": "q1bgPCAuPzd8"
      },
      "execution_count": 79,
      "outputs": []
    },
    {
      "cell_type": "code",
      "source": [
        "#np 배열 저장\n",
        "np.save('/content/drive/MyDrive/Project4/Dataset/X_train_1', X_train)\n",
        "np.save('/content/drive/MyDrive/Project4/Dataset/X_test_1', X_test)"
      ],
      "metadata": {
        "id": "HS-8TXtUtddM"
      },
      "execution_count": 16,
      "outputs": []
    },
    {
      "cell_type": "code",
      "source": [
        "print(X_train.shape)\n",
        "print(y_train.shape)\n",
        "print(X_test.shape)\n",
        "print(y_test.shape)"
      ],
      "metadata": {
        "colab": {
          "base_uri": "https://localhost:8080/"
        },
        "id": "1wpOZihLsztH",
        "outputId": "37d0ac34-2a4b-4a42-b8d3-dada34533446"
      },
      "execution_count": 80,
      "outputs": [
        {
          "output_type": "stream",
          "name": "stdout",
          "text": [
            "(2911, 224, 224, 3)\n",
            "(2911, 4)\n",
            "(728, 224, 224, 3)\n",
            "(728, 4)\n"
          ]
        }
      ]
    },
    {
      "cell_type": "code",
      "source": [
        "#이미지 augmentation\n",
        "from skimage import transform\n",
        "from skimage.transform import rotate, AffineTransform\n",
        "from skimage.util import random_noise\n",
        "from skimage.filters import gaussian\n",
        "def read_image_2(file_name):\n",
        "  image = skimage.io.imread(path_images + file_name) / 255\n",
        "  image = skimage.transform.resize(image, (224, 224), mode='reflect')\n",
        "  #noised = random_noise(image, var=0.1**2)\n",
        "  image2 = rotate(image, angle=45)\n",
        "  tf = AffineTransform(shear=-0.5)\n",
        "  image2 = transform.warp(image2, tf, order=1, preserve_range=True)\n",
        "\n",
        "  #print(file_name)\n",
        "  return image2[:,:,:3]"
      ],
      "metadata": {
        "id": "9sjiuHyBoubn"
      },
      "execution_count": 81,
      "outputs": []
    },
    {
      "cell_type": "code",
      "source": [
        "def categories_encoder_2(dataset, var):\n",
        "  X=np.stack(dataset['image_file_name'].apply(read_image_2))\n",
        "  y = pd.get_dummies(dataset[var], drop_first=False)\n",
        "  return X,y"
      ],
      "metadata": {
        "id": "THwBJahRpO72"
      },
      "execution_count": 82,
      "outputs": []
    },
    {
      "cell_type": "code",
      "source": [
        "X_train_a, y_train_a = categories_encoder_2(train_df, 'value_1')"
      ],
      "metadata": {
        "id": "uTbdv0DCpzao"
      },
      "execution_count": 83,
      "outputs": []
    },
    {
      "cell_type": "code",
      "source": [
        "print(X_train_a.shape)\n",
        "print(y_train_a.shape)"
      ],
      "metadata": {
        "colab": {
          "base_uri": "https://localhost:8080/"
        },
        "id": "v2Oor2R5q5l9",
        "outputId": "a1234548-f20c-44c0-bd9f-4ebd88659f76"
      },
      "execution_count": 85,
      "outputs": [
        {
          "output_type": "stream",
          "name": "stdout",
          "text": [
            "(2911, 224, 224, 3)\n",
            "(2911, 4)\n"
          ]
        }
      ]
    },
    {
      "cell_type": "code",
      "source": [
        "#최종 학습 데이터셋\n",
        "X_train_final = np.concatenate((X_train, X_train_a), axis = 0)\n",
        "y_train_final = pd.concat([y_train, y_train_a], ignore_index=True)"
      ],
      "metadata": {
        "id": "KcIDAvZzvGm3"
      },
      "execution_count": 90,
      "outputs": []
    },
    {
      "cell_type": "code",
      "source": [
        "np.save('/content/drive/MyDrive/Project4/Dataset/X_train', X_train)"
      ],
      "metadata": {
        "id": "wQXrvhDBumrF"
      },
      "execution_count": 84,
      "outputs": []
    },
    {
      "cell_type": "code",
      "source": [
        "np.save('/content/drive/MyDrive/Project4/Dataset/X_train_a', X_train_a)"
      ],
      "metadata": {
        "id": "2zsEZbj4-D0l"
      },
      "execution_count": 86,
      "outputs": []
    },
    {
      "cell_type": "code",
      "source": [
        "y_train.to_csv('/content/drive/MyDrive/Project4/Dataset/y_train.csv')\n",
        "y_train_a.to_csv('/content/drive/MyDrive/Project4/Dataset/y_train_a.csv')"
      ],
      "metadata": {
        "id": "4drKqQwK-fen"
      },
      "execution_count": 87,
      "outputs": []
    },
    {
      "cell_type": "code",
      "source": [
        "np.save('/content/drive/MyDrive/Project4/Dataset/X_test', X_test)\n",
        "y_test.to_csv('/content/drive/MyDrive/Project4/Dataset/y_test.csv')"
      ],
      "metadata": {
        "id": "iZNBENnE_nlQ"
      },
      "execution_count": 88,
      "outputs": []
    },
    {
      "cell_type": "code",
      "source": [
        "#저장된 배열로 쓸 때\n",
        "X_train = np.load('/content/drive/MyDrive/Project4/Dataset/X_train.npy')\n",
        "y_train = pd.read_csv('/content/drive/MyDrive/Project4/Dataset/y_train.csv')\n",
        "\n",
        "X_train_a = np.load('/content/drive/MyDrive/Project4/Dataset/X_train_a.npy')\n",
        "y_train_a = pd.read_csv('/content/drive/MyDrive/Project4/Dataset/y_train_a.csv')\n",
        "\n",
        "X_test = np.load('/content/drive/MyDrive/Project4/Dataset/X_test.npy')\n",
        "y_test = pd.read_csv('/content/drive/MyDrive/Project4/Dataset/y_test.csv')"
      ],
      "metadata": {
        "id": "OQLcSeZn4n5O"
      },
      "execution_count": 16,
      "outputs": []
    },
    {
      "cell_type": "code",
      "source": [
        "print(X_train_final.shape)\n",
        "print(X_test.shape)\n",
        "print(y_train_final.shape)\n",
        "print(y_test.shape)"
      ],
      "metadata": {
        "colab": {
          "base_uri": "https://localhost:8080/"
        },
        "id": "t2feRY2c3cwH",
        "outputId": "84b7ba54-7bf9-447f-b348-6fb534f3c6a0"
      },
      "execution_count": 92,
      "outputs": [
        {
          "output_type": "stream",
          "name": "stdout",
          "text": [
            "(5822, 224, 224, 3)\n",
            "(728, 224, 224, 3)\n",
            "(5822, 4)\n",
            "(728, 4)\n"
          ]
        }
      ]
    },
    {
      "cell_type": "markdown",
      "source": [
        "# 4.2 모델링 및 학습"
      ],
      "metadata": {
        "id": "N1N_UwjGO5Kw"
      }
    },
    {
      "cell_type": "code",
      "source": [
        "#하이퍼 파라미터 생성\n",
        "INPUT_SHAPE = (224, 224, 3) # 입력 데이터가 들어가는 포멧 설정\n",
        "OUTPUT_SHAPE = 4 # 출력 데이터가 나오는 포멧 설정\n",
        "BATCH_SIZE = 64 # 한 번에 처리할 데이터량 설정\n",
        "EPOCHS = 70 # 신경망을 학습할 횟수\n",
        "VERBOSE = 1 # 학습 진행 상황 출력 모드 설정 "
      ],
      "metadata": {
        "id": "Eo_LOfZ2q2AL"
      },
      "execution_count": 97,
      "outputs": []
    },
    {
      "cell_type": "code",
      "source": [
        "#VGG net\n",
        "from keras.layers import BatchNormalization, Dropout, Activation\n",
        "\n",
        "from tensorflow.keras.models import Sequential\n",
        "from tensorflow.keras.layers import Conv2D, MaxPooling2D, Dense, Flatten, Dropout\n",
        "\n",
        "model = Sequential([\n",
        "  Conv2D(64, 3, strides=1, padding='same', input_shape=INPUT_SHAPE),\n",
        "  BatchNormalization(),\n",
        "  Activation(activation='relu'),\n",
        "  Conv2D(64, 3, strides=1, padding='same'),\n",
        "  BatchNormalization(),\n",
        "  Activation(activation='relu'),\n",
        "  MaxPooling2D((2,2), strides=2),\n",
        "\n",
        "  Conv2D(128, 3, strides=1, padding='same'),\n",
        "  BatchNormalization(),\n",
        "  Activation(activation='relu'),\n",
        "  Conv2D(128, 3, strides=1, padding='same'),\n",
        "  BatchNormalization(),\n",
        "  Activation(activation='relu'),\n",
        "  MaxPooling2D((2,2), strides=2),\n",
        "\n",
        "  Conv2D(256, 3, strides=1, padding='same'),\n",
        "  BatchNormalization(),\n",
        "  Activation(activation='relu'),\n",
        "  Conv2D(256, 3, strides=1, padding='same'),\n",
        "  BatchNormalization(),\n",
        "  Activation(activation='relu'),\n",
        "  Conv2D(256, 3, strides=1, padding='same'),\n",
        "  BatchNormalization(),\n",
        "  Activation(activation='relu'),\n",
        "  MaxPooling2D((2,2), strides=2),\n",
        "\n",
        "  Conv2D(512, 3, strides=1, padding='same'),\n",
        "  BatchNormalization(),\n",
        "  Activation(activation='relu'),\n",
        "  Conv2D(512, 3, strides=1, padding='same'),\n",
        "  BatchNormalization(),\n",
        "  Activation(activation='relu'),\n",
        "  Conv2D(512, 3, strides=1, padding='same'),\n",
        "  BatchNormalization(),\n",
        "  Activation(activation='relu'),\n",
        "  MaxPooling2D((2,2), strides=2),\n",
        "  MaxPooling2D((2,2), strides=2),\n",
        "\n",
        "  Flatten(),\n",
        "  Dense(4096, activation='relu'),\n",
        "  Dropout(0.5),\n",
        "  Dense(4096, activation='relu'),\n",
        "  Dropout(0.5),\n",
        "  Dense(4, activation='softmax')\n",
        "])\n"
      ],
      "metadata": {
        "id": "VMxt4bUsY3K2"
      },
      "execution_count": 129,
      "outputs": []
    },
    {
      "cell_type": "code",
      "metadata": {
        "id": "KbdHBgd-pJIV"
      },
      "source": [
        "adam = tf.keras.optimizers.Adam(learning_rate=0.001, beta_1=0.9, beta_2=0.999, epsilon=None, decay=0.0, amsgrad=False)\n",
        "model.compile(\n",
        "    optimizer=adam,\n",
        "    loss='categorical_crossentropy', \n",
        "    #categorical_crossentropy: 다중 분류 손실함수. 출력값이 원 핫 인코딩 된 결과로 나온다.\n",
        "    #각 샘플이 정확히 하나의 클래스에 속하는 경우 사용한다.\n",
        "    metrics=['accuracy']\n",
        ")"
      ],
      "execution_count": 130,
      "outputs": []
    },
    {
      "cell_type": "code",
      "metadata": {
        "colab": {
          "base_uri": "https://localhost:8080/"
        },
        "id": "yewE9fXRpKTg",
        "outputId": "17138a22-8ef1-4c8f-c092-ba68cceaa4e4"
      },
      "source": [
        "model.summary()"
      ],
      "execution_count": 131,
      "outputs": [
        {
          "output_type": "stream",
          "name": "stdout",
          "text": [
            "Model: \"sequential_11\"\n",
            "_________________________________________________________________\n",
            " Layer (type)                Output Shape              Param #   \n",
            "=================================================================\n",
            " conv2d_83 (Conv2D)          (None, 224, 224, 64)      1792      \n",
            "                                                                 \n",
            " batch_normalization_80 (Bat  (None, 224, 224, 64)     256       \n",
            " chNormalization)                                                \n",
            "                                                                 \n",
            " activation_80 (Activation)  (None, 224, 224, 64)      0         \n",
            "                                                                 \n",
            " conv2d_84 (Conv2D)          (None, 224, 224, 64)      36928     \n",
            "                                                                 \n",
            " batch_normalization_81 (Bat  (None, 224, 224, 64)     256       \n",
            " chNormalization)                                                \n",
            "                                                                 \n",
            " activation_81 (Activation)  (None, 224, 224, 64)      0         \n",
            "                                                                 \n",
            " max_pooling2d_40 (MaxPoolin  (None, 112, 112, 64)     0         \n",
            " g2D)                                                            \n",
            "                                                                 \n",
            " conv2d_85 (Conv2D)          (None, 112, 112, 128)     73856     \n",
            "                                                                 \n",
            " batch_normalization_82 (Bat  (None, 112, 112, 128)    512       \n",
            " chNormalization)                                                \n",
            "                                                                 \n",
            " activation_82 (Activation)  (None, 112, 112, 128)     0         \n",
            "                                                                 \n",
            " conv2d_86 (Conv2D)          (None, 112, 112, 128)     147584    \n",
            "                                                                 \n",
            " batch_normalization_83 (Bat  (None, 112, 112, 128)    512       \n",
            " chNormalization)                                                \n",
            "                                                                 \n",
            " activation_83 (Activation)  (None, 112, 112, 128)     0         \n",
            "                                                                 \n",
            " max_pooling2d_41 (MaxPoolin  (None, 56, 56, 128)      0         \n",
            " g2D)                                                            \n",
            "                                                                 \n",
            " conv2d_87 (Conv2D)          (None, 56, 56, 256)       295168    \n",
            "                                                                 \n",
            " batch_normalization_84 (Bat  (None, 56, 56, 256)      1024      \n",
            " chNormalization)                                                \n",
            "                                                                 \n",
            " activation_84 (Activation)  (None, 56, 56, 256)       0         \n",
            "                                                                 \n",
            " conv2d_88 (Conv2D)          (None, 56, 56, 256)       590080    \n",
            "                                                                 \n",
            " batch_normalization_85 (Bat  (None, 56, 56, 256)      1024      \n",
            " chNormalization)                                                \n",
            "                                                                 \n",
            " activation_85 (Activation)  (None, 56, 56, 256)       0         \n",
            "                                                                 \n",
            " conv2d_89 (Conv2D)          (None, 56, 56, 256)       590080    \n",
            "                                                                 \n",
            " batch_normalization_86 (Bat  (None, 56, 56, 256)      1024      \n",
            " chNormalization)                                                \n",
            "                                                                 \n",
            " activation_86 (Activation)  (None, 56, 56, 256)       0         \n",
            "                                                                 \n",
            " max_pooling2d_42 (MaxPoolin  (None, 28, 28, 256)      0         \n",
            " g2D)                                                            \n",
            "                                                                 \n",
            " conv2d_90 (Conv2D)          (None, 28, 28, 512)       1180160   \n",
            "                                                                 \n",
            " batch_normalization_87 (Bat  (None, 28, 28, 512)      2048      \n",
            " chNormalization)                                                \n",
            "                                                                 \n",
            " activation_87 (Activation)  (None, 28, 28, 512)       0         \n",
            "                                                                 \n",
            " conv2d_91 (Conv2D)          (None, 28, 28, 512)       2359808   \n",
            "                                                                 \n",
            " batch_normalization_88 (Bat  (None, 28, 28, 512)      2048      \n",
            " chNormalization)                                                \n",
            "                                                                 \n",
            " activation_88 (Activation)  (None, 28, 28, 512)       0         \n",
            "                                                                 \n",
            " conv2d_92 (Conv2D)          (None, 28, 28, 512)       2359808   \n",
            "                                                                 \n",
            " batch_normalization_89 (Bat  (None, 28, 28, 512)      2048      \n",
            " chNormalization)                                                \n",
            "                                                                 \n",
            " activation_89 (Activation)  (None, 28, 28, 512)       0         \n",
            "                                                                 \n",
            " max_pooling2d_43 (MaxPoolin  (None, 14, 14, 512)      0         \n",
            " g2D)                                                            \n",
            "                                                                 \n",
            " max_pooling2d_44 (MaxPoolin  (None, 7, 7, 512)        0         \n",
            " g2D)                                                            \n",
            "                                                                 \n",
            " flatten_8 (Flatten)         (None, 25088)             0         \n",
            "                                                                 \n",
            " dense_27 (Dense)            (None, 4096)              102764544 \n",
            "                                                                 \n",
            " dropout_19 (Dropout)        (None, 4096)              0         \n",
            "                                                                 \n",
            " dense_28 (Dense)            (None, 4096)              16781312  \n",
            "                                                                 \n",
            " dropout_20 (Dropout)        (None, 4096)              0         \n",
            "                                                                 \n",
            " dense_29 (Dense)            (None, 4)                 16388     \n",
            "                                                                 \n",
            "=================================================================\n",
            "Total params: 127,208,260\n",
            "Trainable params: 127,202,884\n",
            "Non-trainable params: 5,376\n",
            "_________________________________________________________________\n"
          ]
        }
      ]
    },
    {
      "cell_type": "code",
      "metadata": {
        "colab": {
          "base_uri": "https://localhost:8080/"
        },
        "id": "FvxF59Sf3tQ4",
        "outputId": "08a5f22d-6e6d-4d52-cddc-9c23920e3010"
      },
      "source": [
        "#추가 데이터 X\n",
        "from keras.callbacks import EarlyStopping \n",
        "early_stopping = EarlyStopping(patience=10)\n",
        "\n",
        "history = model.fit(\n",
        "    X_train, y_train,\n",
        "    epochs=EPOCHS,\n",
        "    batch_size=BATCH_SIZE,\n",
        "    verbose=VERBOSE,\n",
        "    validation_split=0.2,\n",
        ")"
      ],
      "execution_count": 101,
      "outputs": [
        {
          "output_type": "stream",
          "name": "stdout",
          "text": [
            "Epoch 1/70\n",
            "37/37 [==============================] - 12s 214ms/step - loss: 37.8915 - accuracy: 0.3505 - val_loss: 2.2552 - val_accuracy: 0.4460\n",
            "Epoch 2/70\n",
            "37/37 [==============================] - 6s 162ms/step - loss: 2.8640 - accuracy: 0.3857 - val_loss: 8.1173 - val_accuracy: 0.4322\n",
            "Epoch 3/70\n",
            "37/37 [==============================] - 6s 162ms/step - loss: 3.4921 - accuracy: 0.3810 - val_loss: 1.2034 - val_accuracy: 0.4322\n",
            "Epoch 4/70\n",
            "37/37 [==============================] - 6s 162ms/step - loss: 2.5736 - accuracy: 0.3875 - val_loss: 1.2754 - val_accuracy: 0.4322\n",
            "Epoch 5/70\n",
            "37/37 [==============================] - 6s 163ms/step - loss: 1.7783 - accuracy: 0.3643 - val_loss: 1.2705 - val_accuracy: 0.4322\n",
            "Epoch 6/70\n",
            "37/37 [==============================] - 6s 162ms/step - loss: 1.2564 - accuracy: 0.4034 - val_loss: 1.2836 - val_accuracy: 0.1818\n",
            "Epoch 7/70\n",
            "37/37 [==============================] - 6s 162ms/step - loss: 1.2319 - accuracy: 0.4029 - val_loss: 1.2656 - val_accuracy: 0.3448\n",
            "Epoch 8/70\n",
            "37/37 [==============================] - 6s 163ms/step - loss: 1.2151 - accuracy: 0.4029 - val_loss: 1.2451 - val_accuracy: 0.3448\n",
            "Epoch 9/70\n",
            "37/37 [==============================] - 6s 163ms/step - loss: 1.2119 - accuracy: 0.4089 - val_loss: 1.2421 - val_accuracy: 0.4288\n",
            "Epoch 10/70\n",
            "37/37 [==============================] - 6s 163ms/step - loss: 1.1968 - accuracy: 0.4201 - val_loss: 1.1952 - val_accuracy: 0.4322\n",
            "Epoch 11/70\n",
            "37/37 [==============================] - 6s 162ms/step - loss: 1.1895 - accuracy: 0.4008 - val_loss: 1.2248 - val_accuracy: 0.4322\n",
            "Epoch 12/70\n",
            "37/37 [==============================] - 6s 163ms/step - loss: 1.1789 - accuracy: 0.4188 - val_loss: 1.2040 - val_accuracy: 0.4322\n",
            "Epoch 13/70\n",
            "37/37 [==============================] - 6s 162ms/step - loss: 1.1755 - accuracy: 0.4334 - val_loss: 1.2153 - val_accuracy: 0.4322\n",
            "Epoch 14/70\n",
            "37/37 [==============================] - 6s 162ms/step - loss: 1.1670 - accuracy: 0.4197 - val_loss: 1.2060 - val_accuracy: 0.4340\n",
            "Epoch 15/70\n",
            "37/37 [==============================] - 6s 163ms/step - loss: 1.1719 - accuracy: 0.4244 - val_loss: 1.1933 - val_accuracy: 0.4357\n",
            "Epoch 16/70\n",
            "37/37 [==============================] - 6s 163ms/step - loss: 1.1652 - accuracy: 0.4274 - val_loss: 1.1826 - val_accuracy: 0.4305\n",
            "Epoch 17/70\n",
            "37/37 [==============================] - 6s 163ms/step - loss: 1.1670 - accuracy: 0.4321 - val_loss: 1.1817 - val_accuracy: 0.4374\n",
            "Epoch 18/70\n",
            "37/37 [==============================] - 6s 162ms/step - loss: 1.1661 - accuracy: 0.4420 - val_loss: 1.1891 - val_accuracy: 0.4202\n",
            "Epoch 19/70\n",
            "37/37 [==============================] - 6s 163ms/step - loss: 1.1550 - accuracy: 0.4274 - val_loss: 1.1981 - val_accuracy: 0.4340\n",
            "Epoch 20/70\n",
            "37/37 [==============================] - 6s 163ms/step - loss: 1.1571 - accuracy: 0.4300 - val_loss: 1.1582 - val_accuracy: 0.4391\n",
            "Epoch 21/70\n",
            "37/37 [==============================] - 6s 163ms/step - loss: 1.1536 - accuracy: 0.4429 - val_loss: 1.1867 - val_accuracy: 0.4031\n",
            "Epoch 22/70\n",
            "37/37 [==============================] - 6s 163ms/step - loss: 1.1336 - accuracy: 0.4480 - val_loss: 1.1839 - val_accuracy: 0.3945\n",
            "Epoch 23/70\n",
            "37/37 [==============================] - 6s 163ms/step - loss: 1.1289 - accuracy: 0.4626 - val_loss: 1.1307 - val_accuracy: 0.4734\n",
            "Epoch 24/70\n",
            "37/37 [==============================] - 6s 163ms/step - loss: 1.0839 - accuracy: 0.4897 - val_loss: 1.1862 - val_accuracy: 0.3774\n",
            "Epoch 25/70\n",
            "37/37 [==============================] - 6s 163ms/step - loss: 1.0654 - accuracy: 0.5077 - val_loss: 1.2981 - val_accuracy: 0.2727\n",
            "Epoch 26/70\n",
            "37/37 [==============================] - 6s 163ms/step - loss: 1.0347 - accuracy: 0.5180 - val_loss: 1.3039 - val_accuracy: 0.3465\n",
            "Epoch 27/70\n",
            "37/37 [==============================] - 6s 162ms/step - loss: 1.0640 - accuracy: 0.4910 - val_loss: 1.1499 - val_accuracy: 0.4563\n",
            "Epoch 28/70\n",
            "37/37 [==============================] - 6s 163ms/step - loss: 1.0791 - accuracy: 0.4747 - val_loss: 1.1118 - val_accuracy: 0.4134\n",
            "Epoch 29/70\n",
            "37/37 [==============================] - 6s 163ms/step - loss: 1.0475 - accuracy: 0.5125 - val_loss: 1.0504 - val_accuracy: 0.5214\n",
            "Epoch 30/70\n",
            "37/37 [==============================] - 6s 162ms/step - loss: 1.0304 - accuracy: 0.5279 - val_loss: 1.0975 - val_accuracy: 0.4511\n",
            "Epoch 31/70\n",
            "37/37 [==============================] - 6s 162ms/step - loss: 1.0120 - accuracy: 0.5275 - val_loss: 1.1135 - val_accuracy: 0.4477\n",
            "Epoch 32/70\n",
            "37/37 [==============================] - 6s 162ms/step - loss: 1.0095 - accuracy: 0.5279 - val_loss: 1.2550 - val_accuracy: 0.3962\n",
            "Epoch 33/70\n",
            "37/37 [==============================] - 6s 163ms/step - loss: 1.0168 - accuracy: 0.5193 - val_loss: 1.0297 - val_accuracy: 0.5094\n",
            "Epoch 34/70\n",
            "37/37 [==============================] - 6s 162ms/step - loss: 1.0082 - accuracy: 0.5348 - val_loss: 1.0361 - val_accuracy: 0.5197\n",
            "Epoch 35/70\n",
            "37/37 [==============================] - 6s 162ms/step - loss: 1.0232 - accuracy: 0.5447 - val_loss: 1.0446 - val_accuracy: 0.5352\n",
            "Epoch 36/70\n",
            "37/37 [==============================] - 6s 162ms/step - loss: 1.0017 - accuracy: 0.5382 - val_loss: 1.0574 - val_accuracy: 0.4906\n",
            "Epoch 37/70\n",
            "37/37 [==============================] - 6s 163ms/step - loss: 1.0045 - accuracy: 0.5210 - val_loss: 0.9958 - val_accuracy: 0.5283\n",
            "Epoch 38/70\n",
            "37/37 [==============================] - 6s 163ms/step - loss: 1.0158 - accuracy: 0.5331 - val_loss: 1.0129 - val_accuracy: 0.5369\n",
            "Epoch 39/70\n",
            "37/37 [==============================] - 6s 162ms/step - loss: 0.9987 - accuracy: 0.5477 - val_loss: 1.0222 - val_accuracy: 0.5352\n",
            "Epoch 40/70\n",
            "37/37 [==============================] - 6s 162ms/step - loss: 1.0024 - accuracy: 0.5292 - val_loss: 1.0113 - val_accuracy: 0.5523\n",
            "Epoch 41/70\n",
            "37/37 [==============================] - 6s 163ms/step - loss: 1.0088 - accuracy: 0.5357 - val_loss: 1.0353 - val_accuracy: 0.5626\n",
            "Epoch 42/70\n",
            "37/37 [==============================] - 6s 163ms/step - loss: 1.0217 - accuracy: 0.5219 - val_loss: 1.0828 - val_accuracy: 0.4889\n",
            "Epoch 43/70\n",
            "37/37 [==============================] - 6s 163ms/step - loss: 0.9682 - accuracy: 0.5687 - val_loss: 1.0050 - val_accuracy: 0.5249\n",
            "Epoch 44/70\n",
            "37/37 [==============================] - 6s 162ms/step - loss: 0.9980 - accuracy: 0.5537 - val_loss: 1.0383 - val_accuracy: 0.5386\n",
            "Epoch 45/70\n",
            "37/37 [==============================] - 6s 162ms/step - loss: 0.9793 - accuracy: 0.5627 - val_loss: 1.0634 - val_accuracy: 0.5197\n",
            "Epoch 46/70\n",
            "37/37 [==============================] - 6s 162ms/step - loss: 0.9944 - accuracy: 0.5546 - val_loss: 1.0134 - val_accuracy: 0.5317\n",
            "Epoch 47/70\n",
            "37/37 [==============================] - 6s 162ms/step - loss: 0.9778 - accuracy: 0.5747 - val_loss: 1.1197 - val_accuracy: 0.5060\n",
            "Epoch 48/70\n",
            "37/37 [==============================] - 6s 162ms/step - loss: 0.9645 - accuracy: 0.5743 - val_loss: 0.9846 - val_accuracy: 0.5660\n",
            "Epoch 49/70\n",
            "37/37 [==============================] - 6s 163ms/step - loss: 0.9452 - accuracy: 0.5683 - val_loss: 0.9523 - val_accuracy: 0.5626\n",
            "Epoch 50/70\n",
            "37/37 [==============================] - 6s 163ms/step - loss: 0.9428 - accuracy: 0.5657 - val_loss: 1.0266 - val_accuracy: 0.5180\n",
            "Epoch 51/70\n",
            "37/37 [==============================] - 6s 163ms/step - loss: 0.9327 - accuracy: 0.5833 - val_loss: 0.9895 - val_accuracy: 0.5609\n",
            "Epoch 52/70\n",
            "37/37 [==============================] - 6s 163ms/step - loss: 0.9505 - accuracy: 0.5627 - val_loss: 1.0088 - val_accuracy: 0.5146\n",
            "Epoch 53/70\n",
            "37/37 [==============================] - 6s 163ms/step - loss: 0.9356 - accuracy: 0.5687 - val_loss: 1.0397 - val_accuracy: 0.5163\n",
            "Epoch 54/70\n",
            "37/37 [==============================] - 6s 164ms/step - loss: 0.9300 - accuracy: 0.5795 - val_loss: 1.0229 - val_accuracy: 0.5300\n",
            "Epoch 55/70\n",
            "37/37 [==============================] - 6s 163ms/step - loss: 0.9211 - accuracy: 0.5842 - val_loss: 1.0172 - val_accuracy: 0.5214\n",
            "Epoch 56/70\n",
            "37/37 [==============================] - 6s 163ms/step - loss: 0.9239 - accuracy: 0.5799 - val_loss: 1.0796 - val_accuracy: 0.5232\n",
            "Epoch 57/70\n",
            "37/37 [==============================] - 6s 162ms/step - loss: 0.9294 - accuracy: 0.5855 - val_loss: 1.2529 - val_accuracy: 0.4374\n",
            "Epoch 58/70\n",
            "37/37 [==============================] - 6s 162ms/step - loss: 0.9192 - accuracy: 0.5782 - val_loss: 1.0561 - val_accuracy: 0.5163\n",
            "Epoch 59/70\n",
            "37/37 [==============================] - 6s 162ms/step - loss: 0.9094 - accuracy: 0.5932 - val_loss: 1.1592 - val_accuracy: 0.4700\n",
            "Epoch 60/70\n",
            "37/37 [==============================] - 6s 162ms/step - loss: 0.9211 - accuracy: 0.5803 - val_loss: 1.0159 - val_accuracy: 0.5403\n",
            "Epoch 61/70\n",
            "37/37 [==============================] - 6s 163ms/step - loss: 0.9239 - accuracy: 0.5808 - val_loss: 1.2306 - val_accuracy: 0.4580\n",
            "Epoch 62/70\n",
            "37/37 [==============================] - 6s 162ms/step - loss: 0.8879 - accuracy: 0.6005 - val_loss: 1.5944 - val_accuracy: 0.4717\n",
            "Epoch 63/70\n",
            "37/37 [==============================] - 6s 162ms/step - loss: 0.9125 - accuracy: 0.5790 - val_loss: 1.4256 - val_accuracy: 0.3842\n",
            "Epoch 64/70\n",
            "37/37 [==============================] - 6s 163ms/step - loss: 0.8757 - accuracy: 0.6044 - val_loss: 0.9790 - val_accuracy: 0.5780\n",
            "Epoch 65/70\n",
            "37/37 [==============================] - 6s 163ms/step - loss: 0.9139 - accuracy: 0.5842 - val_loss: 0.9555 - val_accuracy: 0.5489\n",
            "Epoch 66/70\n",
            "37/37 [==============================] - 6s 162ms/step - loss: 0.8938 - accuracy: 0.5906 - val_loss: 1.2408 - val_accuracy: 0.4322\n",
            "Epoch 67/70\n",
            "37/37 [==============================] - 6s 163ms/step - loss: 0.8964 - accuracy: 0.5906 - val_loss: 1.3645 - val_accuracy: 0.4151\n",
            "Epoch 68/70\n",
            "37/37 [==============================] - 6s 162ms/step - loss: 0.8656 - accuracy: 0.6125 - val_loss: 1.1450 - val_accuracy: 0.4580\n",
            "Epoch 69/70\n",
            "37/37 [==============================] - 6s 162ms/step - loss: 0.8804 - accuracy: 0.6022 - val_loss: 1.7352 - val_accuracy: 0.4220\n",
            "Epoch 70/70\n",
            "37/37 [==============================] - 6s 162ms/step - loss: 0.8796 - accuracy: 0.5838 - val_loss: 1.0138 - val_accuracy: 0.5489\n"
          ]
        }
      ]
    },
    {
      "cell_type": "code",
      "source": [
        "#결과 확인\n",
        "plt.figure(figsize=(14, 5))\n",
        "\n",
        "plt.subplot(1, 2, 1)\n",
        "plt.plot(history.history['accuracy'], label='Training Accuracy')\n",
        "plt.plot(history.history['val_accuracy'], label='Validation Accuracy')\n",
        "plt.legend(loc='lower right')\n",
        "plt.title('Training and Validation Accuracy')\n",
        "\n",
        "plt.subplot(1, 2, 2)\n",
        "plt.plot(history.history['loss'], label='Training Loss')\n",
        "plt.plot(history.history['val_loss'], label='Validation Loss')\n",
        "plt.legend(loc='upper right')\n",
        "plt.title('Training and Validation Loss')\n",
        "\n",
        "plt.show()"
      ],
      "metadata": {
        "id": "U4MOuawsv1nF",
        "outputId": "8356ebda-b7f2-4490-c398-f90a987c5d18",
        "colab": {
          "base_uri": "https://localhost:8080/",
          "height": 336
        }
      },
      "execution_count": 102,
      "outputs": [
        {
          "output_type": "display_data",
          "data": {
            "text/plain": [
              "<Figure size 1008x360 with 2 Axes>"
            ],
            "image/png": "[encoded data removed]"
          },
          "metadata": {
            "needs_background": "light"
          }
        }
      ]
    },
    {
      "cell_type": "code",
      "source": [
        "model.evaluate(X_test, y_test)"
      ],
      "metadata": {
        "id": "xNIIxIHHv-vK",
        "outputId": "99ff232c-a185-44ed-cc83-dca415c8f906",
        "colab": {
          "base_uri": "https://localhost:8080/"
        }
      },
      "execution_count": 103,
      "outputs": [
        {
          "output_type": "stream",
          "name": "stdout",
          "text": [
            "23/23 [==============================] - 1s 26ms/step - loss: 1.0161 - accuracy: 0.5357\n"
          ]
        },
        {
          "output_type": "execute_result",
          "data": {
            "text/plain": [
              "[1.0160630941390991, 0.5357142686843872]"
            ]
          },
          "metadata": {},
          "execution_count": 103
        }
      ]
    },
    {
      "cell_type": "code",
      "metadata": {
        "colab": {
          "base_uri": "https://localhost:8080/"
        },
        "outputId": "ddabf466-ea54-4b53-dd03-af4d5efa9232",
        "id": "JMQpDzxTwlQL"
      },
      "source": [
        "from keras.callbacks import EarlyStopping \n",
        "early_stopping = EarlyStopping(patience=10)\n",
        "\n",
        "history = model.fit(\n",
        "    X_train_final, y_train_final,\n",
        "    epochs=EPOCHS,\n",
        "    batch_size=BATCH_SIZE,\n",
        "    verbose=VERBOSE,\n",
        "    validation_split=0.2\n",
        ")"
      ],
      "execution_count": 132,
      "outputs": [
        {
          "output_type": "stream",
          "name": "stdout",
          "text": [
            "Epoch 1/70\n",
            "73/73 [==============================] - 14s 175ms/step - loss: 16.0280 - accuracy: 0.3751 - val_loss: 23.0153 - val_accuracy: 0.3468\n",
            "Epoch 2/70\n",
            "73/73 [==============================] - 12s 164ms/step - loss: 1.2216 - accuracy: 0.4024 - val_loss: 2.9499 - val_accuracy: 0.3468\n",
            "Epoch 3/70\n",
            "73/73 [==============================] - 12s 164ms/step - loss: 1.2349 - accuracy: 0.4088 - val_loss: 1.2055 - val_accuracy: 0.4180\n",
            "Epoch 4/70\n",
            "73/73 [==============================] - 12s 164ms/step - loss: 1.1944 - accuracy: 0.4183 - val_loss: 1.1889 - val_accuracy: 0.4180\n",
            "Epoch 5/70\n",
            "73/73 [==============================] - 12s 164ms/step - loss: 1.1796 - accuracy: 0.4217 - val_loss: 1.1942 - val_accuracy: 0.3468\n",
            "Epoch 6/70\n",
            "73/73 [==============================] - 12s 164ms/step - loss: 1.1741 - accuracy: 0.4194 - val_loss: 1.1920 - val_accuracy: 0.4180\n",
            "Epoch 7/70\n",
            "73/73 [==============================] - 12s 164ms/step - loss: 1.1726 - accuracy: 0.4224 - val_loss: 1.1889 - val_accuracy: 0.4180\n",
            "Epoch 8/70\n",
            "73/73 [==============================] - 12s 164ms/step - loss: 1.1706 - accuracy: 0.4320 - val_loss: 1.1886 - val_accuracy: 0.4180\n",
            "Epoch 9/70\n",
            "73/73 [==============================] - 12s 163ms/step - loss: 1.1678 - accuracy: 0.4340 - val_loss: 1.1884 - val_accuracy: 0.4180\n",
            "Epoch 10/70\n",
            "73/73 [==============================] - 12s 164ms/step - loss: 1.1679 - accuracy: 0.4340 - val_loss: 1.1896 - val_accuracy: 0.4180\n",
            "Epoch 11/70\n",
            "73/73 [==============================] - 12s 163ms/step - loss: 1.1682 - accuracy: 0.4335 - val_loss: 1.1904 - val_accuracy: 0.4180\n",
            "Epoch 12/70\n",
            "73/73 [==============================] - 12s 164ms/step - loss: 1.1714 - accuracy: 0.4305 - val_loss: 1.1893 - val_accuracy: 0.4180\n",
            "Epoch 13/70\n",
            "73/73 [==============================] - 12s 163ms/step - loss: 1.1699 - accuracy: 0.4329 - val_loss: 1.1883 - val_accuracy: 0.4180\n",
            "Epoch 14/70\n",
            "73/73 [==============================] - 12s 163ms/step - loss: 1.1704 - accuracy: 0.4318 - val_loss: 1.1904 - val_accuracy: 0.4180\n",
            "Epoch 15/70\n",
            "73/73 [==============================] - 12s 163ms/step - loss: 1.1691 - accuracy: 0.4344 - val_loss: 1.1884 - val_accuracy: 0.4180\n",
            "Epoch 16/70\n",
            "73/73 [==============================] - 12s 163ms/step - loss: 1.1686 - accuracy: 0.4318 - val_loss: 1.1901 - val_accuracy: 0.4180\n",
            "Epoch 17/70\n",
            "73/73 [==============================] - 12s 163ms/step - loss: 1.1695 - accuracy: 0.4338 - val_loss: 1.1881 - val_accuracy: 0.4180\n",
            "Epoch 18/70\n",
            "73/73 [==============================] - 12s 163ms/step - loss: 1.1752 - accuracy: 0.4267 - val_loss: 1.1924 - val_accuracy: 0.4189\n",
            "Epoch 19/70\n",
            "73/73 [==============================] - 12s 164ms/step - loss: 1.1728 - accuracy: 0.4314 - val_loss: 1.1900 - val_accuracy: 0.4180\n",
            "Epoch 20/70\n",
            "73/73 [==============================] - 12s 163ms/step - loss: 1.1736 - accuracy: 0.4335 - val_loss: 1.1893 - val_accuracy: 0.4180\n",
            "Epoch 21/70\n",
            "73/73 [==============================] - 12s 163ms/step - loss: 1.1687 - accuracy: 0.4342 - val_loss: 1.1881 - val_accuracy: 0.4180\n",
            "Epoch 22/70\n",
            "73/73 [==============================] - 12s 164ms/step - loss: 1.1688 - accuracy: 0.4338 - val_loss: 1.1929 - val_accuracy: 0.4180\n",
            "Epoch 23/70\n",
            "73/73 [==============================] - 12s 163ms/step - loss: 1.1736 - accuracy: 0.4333 - val_loss: 1.1886 - val_accuracy: 0.4180\n",
            "Epoch 24/70\n",
            "73/73 [==============================] - 12s 163ms/step - loss: 1.1690 - accuracy: 0.4338 - val_loss: 1.1883 - val_accuracy: 0.4180\n",
            "Epoch 25/70\n",
            "73/73 [==============================] - 12s 164ms/step - loss: 1.1678 - accuracy: 0.4340 - val_loss: 1.1880 - val_accuracy: 0.4180\n",
            "Epoch 26/70\n",
            "73/73 [==============================] - 12s 163ms/step - loss: 1.1692 - accuracy: 0.4340 - val_loss: 1.1899 - val_accuracy: 0.4180\n",
            "Epoch 27/70\n",
            "73/73 [==============================] - 12s 164ms/step - loss: 1.1685 - accuracy: 0.4340 - val_loss: 1.1894 - val_accuracy: 0.4180\n",
            "Epoch 28/70\n",
            "73/73 [==============================] - 12s 164ms/step - loss: 1.1686 - accuracy: 0.4340 - val_loss: 1.1887 - val_accuracy: 0.4180\n",
            "Epoch 29/70\n",
            "73/73 [==============================] - 12s 164ms/step - loss: 1.1690 - accuracy: 0.4340 - val_loss: 1.1910 - val_accuracy: 0.4180\n",
            "Epoch 30/70\n",
            "73/73 [==============================] - 12s 163ms/step - loss: 1.1685 - accuracy: 0.4340 - val_loss: 1.1881 - val_accuracy: 0.4180\n",
            "Epoch 31/70\n",
            "73/73 [==============================] - 12s 163ms/step - loss: 1.1683 - accuracy: 0.4340 - val_loss: 1.1901 - val_accuracy: 0.4180\n",
            "Epoch 32/70\n",
            "73/73 [==============================] - 12s 164ms/step - loss: 1.1686 - accuracy: 0.4340 - val_loss: 1.1914 - val_accuracy: 0.4180\n",
            "Epoch 33/70\n",
            "73/73 [==============================] - 12s 163ms/step - loss: 1.1684 - accuracy: 0.4340 - val_loss: 1.1880 - val_accuracy: 0.4180\n",
            "Epoch 34/70\n",
            "73/73 [==============================] - 12s 163ms/step - loss: 1.1676 - accuracy: 0.4340 - val_loss: 1.1900 - val_accuracy: 0.4180\n",
            "Epoch 35/70\n",
            "73/73 [==============================] - 12s 164ms/step - loss: 1.1689 - accuracy: 0.4340 - val_loss: 1.1888 - val_accuracy: 0.4180\n",
            "Epoch 36/70\n",
            "73/73 [==============================] - 12s 163ms/step - loss: 1.1692 - accuracy: 0.4340 - val_loss: 1.1894 - val_accuracy: 0.4180\n",
            "Epoch 37/70\n",
            "73/73 [==============================] - 12s 164ms/step - loss: 1.1686 - accuracy: 0.4340 - val_loss: 1.1909 - val_accuracy: 0.4180\n",
            "Epoch 38/70\n",
            "73/73 [==============================] - 12s 164ms/step - loss: 1.1695 - accuracy: 0.4340 - val_loss: 1.1883 - val_accuracy: 0.4180\n",
            "Epoch 39/70\n",
            "73/73 [==============================] - 12s 163ms/step - loss: 1.1683 - accuracy: 0.4340 - val_loss: 1.1900 - val_accuracy: 0.4180\n",
            "Epoch 40/70\n",
            "73/73 [==============================] - 12s 164ms/step - loss: 1.1690 - accuracy: 0.4359 - val_loss: 1.1906 - val_accuracy: 0.4180\n",
            "Epoch 41/70\n",
            "73/73 [==============================] - 12s 163ms/step - loss: 1.1679 - accuracy: 0.4331 - val_loss: 1.1885 - val_accuracy: 0.4180\n",
            "Epoch 42/70\n",
            "73/73 [==============================] - 12s 164ms/step - loss: 1.1680 - accuracy: 0.4340 - val_loss: 1.1884 - val_accuracy: 0.4180\n",
            "Epoch 43/70\n",
            "73/73 [==============================] - 12s 164ms/step - loss: 1.1681 - accuracy: 0.4338 - val_loss: 1.1900 - val_accuracy: 0.4180\n",
            "Epoch 44/70\n",
            "73/73 [==============================] - 12s 164ms/step - loss: 1.1682 - accuracy: 0.4340 - val_loss: 1.1896 - val_accuracy: 0.4180\n",
            "Epoch 45/70\n",
            "73/73 [==============================] - 12s 163ms/step - loss: 1.1690 - accuracy: 0.4338 - val_loss: 1.1898 - val_accuracy: 0.4180\n",
            "Epoch 46/70\n",
            "73/73 [==============================] - 12s 163ms/step - loss: 1.1698 - accuracy: 0.4340 - val_loss: 1.1901 - val_accuracy: 0.4180\n",
            "Epoch 47/70\n",
            "73/73 [==============================] - 12s 164ms/step - loss: 1.1696 - accuracy: 0.4340 - val_loss: 1.1890 - val_accuracy: 0.4180\n",
            "Epoch 48/70\n",
            "73/73 [==============================] - 12s 163ms/step - loss: 1.1686 - accuracy: 0.4340 - val_loss: 1.1887 - val_accuracy: 0.4180\n",
            "Epoch 49/70\n",
            "73/73 [==============================] - 12s 164ms/step - loss: 1.1689 - accuracy: 0.4340 - val_loss: 1.1880 - val_accuracy: 0.4180\n",
            "Epoch 50/70\n",
            "73/73 [==============================] - 12s 164ms/step - loss: 1.1683 - accuracy: 0.4320 - val_loss: 1.1888 - val_accuracy: 0.4180\n",
            "Epoch 51/70\n",
            "73/73 [==============================] - 12s 163ms/step - loss: 1.1702 - accuracy: 0.4333 - val_loss: 1.1895 - val_accuracy: 0.4180\n",
            "Epoch 52/70\n",
            "73/73 [==============================] - 12s 163ms/step - loss: 1.1693 - accuracy: 0.4340 - val_loss: 1.1903 - val_accuracy: 0.4180\n",
            "Epoch 53/70\n",
            "73/73 [==============================] - 12s 164ms/step - loss: 1.1676 - accuracy: 0.4340 - val_loss: 1.1903 - val_accuracy: 0.4180\n",
            "Epoch 54/70\n",
            "73/73 [==============================] - 12s 163ms/step - loss: 1.1690 - accuracy: 0.4340 - val_loss: 1.1908 - val_accuracy: 0.4180\n",
            "Epoch 55/70\n",
            "73/73 [==============================] - 12s 164ms/step - loss: 1.1685 - accuracy: 0.4340 - val_loss: 1.1907 - val_accuracy: 0.4180\n",
            "Epoch 56/70\n",
            "73/73 [==============================] - 12s 164ms/step - loss: 1.1697 - accuracy: 0.4340 - val_loss: 1.1885 - val_accuracy: 0.4180\n",
            "Epoch 57/70\n",
            "73/73 [==============================] - 12s 163ms/step - loss: 1.1680 - accuracy: 0.4340 - val_loss: 1.1897 - val_accuracy: 0.4180\n",
            "Epoch 58/70\n",
            "73/73 [==============================] - 12s 163ms/step - loss: 1.1687 - accuracy: 0.4333 - val_loss: 1.1895 - val_accuracy: 0.4180\n",
            "Epoch 59/70\n",
            "73/73 [==============================] - 12s 163ms/step - loss: 1.1694 - accuracy: 0.4338 - val_loss: 1.1898 - val_accuracy: 0.4180\n",
            "Epoch 60/70\n",
            "73/73 [==============================] - 12s 164ms/step - loss: 1.1687 - accuracy: 0.4340 - val_loss: 1.1892 - val_accuracy: 0.4180\n",
            "Epoch 61/70\n",
            "73/73 [==============================] - 12s 163ms/step - loss: 1.1695 - accuracy: 0.4340 - val_loss: 1.1898 - val_accuracy: 0.4180\n",
            "Epoch 62/70\n",
            "73/73 [==============================] - 12s 163ms/step - loss: 1.1691 - accuracy: 0.4340 - val_loss: 1.1899 - val_accuracy: 0.4180\n",
            "Epoch 63/70\n",
            "73/73 [==============================] - 12s 163ms/step - loss: 1.1681 - accuracy: 0.4340 - val_loss: 1.1884 - val_accuracy: 0.4180\n",
            "Epoch 64/70\n",
            "73/73 [==============================] - 12s 163ms/step - loss: 1.1678 - accuracy: 0.4340 - val_loss: 1.1893 - val_accuracy: 0.4180\n",
            "Epoch 65/70\n",
            "73/73 [==============================] - 12s 163ms/step - loss: 1.1693 - accuracy: 0.4340 - val_loss: 1.1894 - val_accuracy: 0.4180\n",
            "Epoch 66/70\n",
            "73/73 [==============================] - 12s 163ms/step - loss: 1.1669 - accuracy: 0.4340 - val_loss: 1.1927 - val_accuracy: 0.4180\n",
            "Epoch 67/70\n",
            "73/73 [==============================] - 12s 163ms/step - loss: 1.1687 - accuracy: 0.4340 - val_loss: 1.1917 - val_accuracy: 0.4180\n",
            "Epoch 68/70\n",
            "73/73 [==============================] - 12s 163ms/step - loss: 1.1685 - accuracy: 0.4340 - val_loss: 1.1922 - val_accuracy: 0.4180\n",
            "Epoch 69/70\n",
            "73/73 [==============================] - 12s 163ms/step - loss: 1.1672 - accuracy: 0.4340 - val_loss: 1.1884 - val_accuracy: 0.4180\n",
            "Epoch 70/70\n",
            "73/73 [==============================] - 12s 163ms/step - loss: 1.1689 - accuracy: 0.4340 - val_loss: 1.1883 - val_accuracy: 0.4180\n"
          ]
        }
      ]
    },
    {
      "cell_type": "code",
      "source": [
        "#결과 확인\n",
        "plt.figure(figsize=(14, 5))\n",
        "\n",
        "plt.subplot(1, 2, 1)\n",
        "plt.plot(history.history['accuracy'], label='Training Accuracy')\n",
        "plt.plot(history.history['val_accuracy'], label='Validation Accuracy')\n",
        "plt.legend(loc='lower right')\n",
        "plt.title('Training and Validation Accuracy')\n",
        "\n",
        "plt.subplot(1, 2, 2)\n",
        "plt.plot(history.history['loss'], label='Training Loss')\n",
        "plt.plot(history.history['val_loss'], label='Validation Loss')\n",
        "plt.legend(loc='upper right')\n",
        "plt.title('Training and Validation Loss')\n",
        "\n",
        "plt.show()"
      ],
      "metadata": {
        "outputId": "ba4fe4fc-5407-49e5-9ce2-bc62550c4ed2",
        "colab": {
          "base_uri": "https://localhost:8080/",
          "height": 336
        },
        "id": "KCyf-Ly4wlQM"
      },
      "execution_count": 133,
      "outputs": [
        {
          "output_type": "display_data",
          "data": {
            "text/plain": [
              "<Figure size 1008x360 with 2 Axes>"
            ],
            "image/png": "[encoded data removed]"
          },
          "metadata": {
            "needs_background": "light"
          }
        }
      ]
    },
    {
      "cell_type": "code",
      "source": [
        "model.evaluate(X_test, y_test)"
      ],
      "metadata": {
        "outputId": "ff8ad8a4-ad78-4a8b-fedf-0f0a751b98b2",
        "colab": {
          "base_uri": "https://localhost:8080/"
        },
        "id": "13d2ee-jwlQN"
      },
      "execution_count": 134,
      "outputs": [
        {
          "output_type": "stream",
          "name": "stdout",
          "text": [
            "23/23 [==============================] - 1s 26ms/step - loss: 1.1695 - accuracy: 0.4313\n"
          ]
        },
        {
          "output_type": "execute_result",
          "data": {
            "text/plain": [
              "[1.169503092765808, 0.4313186705112457]"
            ]
          },
          "metadata": {},
          "execution_count": 134
        }
      ]
    },
    {
      "cell_type": "code",
      "source": [
        "#lr을 더 낮추기\n",
        "adam = tf.keras.optimizers.Adam(learning_rate=0.0001, beta_1=0.9, beta_2=0.999, epsilon=None, decay=0.0, amsgrad=False)\n",
        "model.compile(\n",
        "    optimizer=adam,\n",
        "    loss='categorical_crossentropy', \n",
        "    #categorical_crossentropy: 다중 분류 손실함수. 출력값이 원 핫 인코딩 된 결과로 나온다.\n",
        "    #각 샘플이 정확히 하나의 클래스에 속하는 경우 사용한다.\n",
        "    metrics=['accuracy']\n",
        ")"
      ],
      "metadata": {
        "id": "zkYCF0b8CgwC"
      },
      "execution_count": 63,
      "outputs": []
    },
    {
      "cell_type": "code",
      "source": [
        "from keras.callbacks import EarlyStopping \n",
        "early_stopping = EarlyStopping(patience=10)\n",
        "\n",
        "history = model.fit(\n",
        "    X_train_final, y_train_final,\n",
        "    epochs=EPOCHS,\n",
        "    batch_size=BATCH_SIZE,\n",
        "    verbose=VERBOSE,\n",
        "    validation_split=0.2\n",
        ")"
      ],
      "metadata": {
        "colab": {
          "base_uri": "https://localhost:8080/"
        },
        "id": "qnIY8RrNCnJx",
        "outputId": "bafa7cec-a1f3-4041-864a-95d63032a67b"
      },
      "execution_count": 64,
      "outputs": [
        {
          "output_type": "stream",
          "name": "stdout",
          "text": [
            "Epoch 1/70\n",
            "73/73 [==============================] - 5s 47ms/step - loss: 2.1641 - accuracy: 0.3902 - val_loss: 1.2468 - val_accuracy: 0.3468\n",
            "Epoch 2/70\n",
            "73/73 [==============================] - 3s 41ms/step - loss: 1.2804 - accuracy: 0.4312 - val_loss: 1.7574 - val_accuracy: 0.3468\n",
            "Epoch 3/70\n",
            "73/73 [==============================] - 3s 42ms/step - loss: 1.1880 - accuracy: 0.4589 - val_loss: 2.0107 - val_accuracy: 0.3468\n",
            "Epoch 4/70\n",
            "73/73 [==============================] - 3s 41ms/step - loss: 1.1401 - accuracy: 0.4692 - val_loss: 2.3060 - val_accuracy: 0.3468\n",
            "Epoch 5/70\n",
            "73/73 [==============================] - 3s 41ms/step - loss: 1.0625 - accuracy: 0.4988 - val_loss: 2.6355 - val_accuracy: 0.3468\n",
            "Epoch 6/70\n",
            "73/73 [==============================] - 3s 41ms/step - loss: 1.0326 - accuracy: 0.5143 - val_loss: 2.0842 - val_accuracy: 0.3468\n",
            "Epoch 7/70\n",
            "73/73 [==============================] - 3s 42ms/step - loss: 1.0023 - accuracy: 0.5269 - val_loss: 1.7199 - val_accuracy: 0.3468\n",
            "Epoch 8/70\n",
            "73/73 [==============================] - 3s 42ms/step - loss: 0.9817 - accuracy: 0.5261 - val_loss: 1.2939 - val_accuracy: 0.4000\n",
            "Epoch 9/70\n",
            "73/73 [==============================] - 3s 41ms/step - loss: 0.9746 - accuracy: 0.5379 - val_loss: 1.0670 - val_accuracy: 0.4464\n",
            "Epoch 10/70\n",
            "73/73 [==============================] - 3s 42ms/step - loss: 0.9486 - accuracy: 0.5566 - val_loss: 1.0503 - val_accuracy: 0.4661\n",
            "Epoch 11/70\n",
            "73/73 [==============================] - 3s 42ms/step - loss: 0.9416 - accuracy: 0.5592 - val_loss: 1.0098 - val_accuracy: 0.5107\n",
            "Epoch 12/70\n",
            "73/73 [==============================] - 3s 41ms/step - loss: 0.9223 - accuracy: 0.5613 - val_loss: 0.9817 - val_accuracy: 0.5227\n",
            "Epoch 13/70\n",
            "73/73 [==============================] - 3s 42ms/step - loss: 0.9033 - accuracy: 0.5735 - val_loss: 1.2172 - val_accuracy: 0.4258\n",
            "Epoch 14/70\n",
            "73/73 [==============================] - 3s 42ms/step - loss: 0.8920 - accuracy: 0.5738 - val_loss: 1.4126 - val_accuracy: 0.3717\n",
            "Epoch 15/70\n",
            "73/73 [==============================] - 3s 42ms/step - loss: 0.8602 - accuracy: 0.5970 - val_loss: 1.2206 - val_accuracy: 0.4541\n",
            "Epoch 16/70\n",
            "73/73 [==============================] - 3s 42ms/step - loss: 0.8411 - accuracy: 0.6120 - val_loss: 1.0870 - val_accuracy: 0.5047\n",
            "Epoch 17/70\n",
            "73/73 [==============================] - 3s 42ms/step - loss: 0.8132 - accuracy: 0.6272 - val_loss: 0.9816 - val_accuracy: 0.5313\n",
            "Epoch 18/70\n",
            "73/73 [==============================] - 3s 42ms/step - loss: 0.7730 - accuracy: 0.6455 - val_loss: 1.7115 - val_accuracy: 0.3408\n",
            "Epoch 19/70\n",
            "73/73 [==============================] - 3s 42ms/step - loss: 0.7281 - accuracy: 0.6670 - val_loss: 1.1424 - val_accuracy: 0.4996\n",
            "Epoch 20/70\n",
            "73/73 [==============================] - 3s 42ms/step - loss: 0.6301 - accuracy: 0.7213 - val_loss: 1.4006 - val_accuracy: 0.3923\n",
            "Epoch 21/70\n",
            "73/73 [==============================] - 3s 42ms/step - loss: 0.5832 - accuracy: 0.7468 - val_loss: 2.1879 - val_accuracy: 0.3030\n",
            "Epoch 22/70\n",
            "73/73 [==============================] - 3s 42ms/step - loss: 0.5689 - accuracy: 0.7610 - val_loss: 1.2110 - val_accuracy: 0.4790\n",
            "Epoch 23/70\n",
            "73/73 [==============================] - 3s 42ms/step - loss: 0.4412 - accuracy: 0.8162 - val_loss: 1.6463 - val_accuracy: 0.4961\n",
            "Epoch 24/70\n",
            "73/73 [==============================] - 3s 42ms/step - loss: 0.3840 - accuracy: 0.8450 - val_loss: 2.7720 - val_accuracy: 0.3940\n",
            "Epoch 25/70\n",
            "73/73 [==============================] - 3s 42ms/step - loss: 0.3685 - accuracy: 0.8497 - val_loss: 3.5968 - val_accuracy: 0.3734\n",
            "Epoch 26/70\n",
            "73/73 [==============================] - 3s 42ms/step - loss: 0.3114 - accuracy: 0.8808 - val_loss: 2.7692 - val_accuracy: 0.4515\n",
            "Epoch 27/70\n",
            "73/73 [==============================] - 3s 42ms/step - loss: 0.2590 - accuracy: 0.9049 - val_loss: 2.2964 - val_accuracy: 0.4661\n",
            "Epoch 28/70\n",
            "73/73 [==============================] - 3s 42ms/step - loss: 0.2671 - accuracy: 0.8980 - val_loss: 1.9282 - val_accuracy: 0.4961\n",
            "Epoch 29/70\n",
            "73/73 [==============================] - 3s 42ms/step - loss: 0.1722 - accuracy: 0.9375 - val_loss: 3.4553 - val_accuracy: 0.3176\n",
            "Epoch 30/70\n",
            "73/73 [==============================] - 3s 42ms/step - loss: 0.1935 - accuracy: 0.9321 - val_loss: 2.7304 - val_accuracy: 0.3373\n",
            "Epoch 31/70\n",
            "73/73 [==============================] - 3s 42ms/step - loss: 0.1872 - accuracy: 0.9300 - val_loss: 1.4120 - val_accuracy: 0.5425\n",
            "Epoch 32/70\n",
            "73/73 [==============================] - 3s 42ms/step - loss: 0.1207 - accuracy: 0.9571 - val_loss: 4.1495 - val_accuracy: 0.3906\n",
            "Epoch 33/70\n",
            "73/73 [==============================] - 3s 41ms/step - loss: 0.1187 - accuracy: 0.9598 - val_loss: 2.9950 - val_accuracy: 0.4798\n",
            "Epoch 34/70\n",
            "73/73 [==============================] - 3s 42ms/step - loss: 0.1011 - accuracy: 0.9671 - val_loss: 2.4053 - val_accuracy: 0.4953\n",
            "Epoch 35/70\n",
            "73/73 [==============================] - 3s 41ms/step - loss: 0.1140 - accuracy: 0.9594 - val_loss: 2.8241 - val_accuracy: 0.5056\n",
            "Epoch 36/70\n",
            "73/73 [==============================] - 3s 41ms/step - loss: 0.0909 - accuracy: 0.9689 - val_loss: 2.5124 - val_accuracy: 0.5339\n",
            "Epoch 37/70\n",
            "73/73 [==============================] - 3s 41ms/step - loss: 0.0889 - accuracy: 0.9695 - val_loss: 3.4601 - val_accuracy: 0.5013\n",
            "Epoch 38/70\n",
            "73/73 [==============================] - 3s 41ms/step - loss: 0.0972 - accuracy: 0.9671 - val_loss: 3.7097 - val_accuracy: 0.4661\n",
            "Epoch 39/70\n",
            "73/73 [==============================] - 3s 41ms/step - loss: 0.1061 - accuracy: 0.9650 - val_loss: 2.9485 - val_accuracy: 0.5030\n",
            "Epoch 40/70\n",
            "73/73 [==============================] - 3s 41ms/step - loss: 0.0619 - accuracy: 0.9755 - val_loss: 3.0061 - val_accuracy: 0.5382\n",
            "Epoch 41/70\n",
            "73/73 [==============================] - 3s 41ms/step - loss: 0.1098 - accuracy: 0.9613 - val_loss: 6.2331 - val_accuracy: 0.3468\n",
            "Epoch 42/70\n",
            "73/73 [==============================] - 3s 41ms/step - loss: 0.0577 - accuracy: 0.9802 - val_loss: 3.9050 - val_accuracy: 0.4601\n",
            "Epoch 43/70\n",
            "73/73 [==============================] - 3s 42ms/step - loss: 0.0686 - accuracy: 0.9766 - val_loss: 8.0176 - val_accuracy: 0.3425\n",
            "Epoch 44/70\n",
            "73/73 [==============================] - 3s 41ms/step - loss: 0.0774 - accuracy: 0.9727 - val_loss: 2.6629 - val_accuracy: 0.5159\n",
            "Epoch 45/70\n",
            "73/73 [==============================] - 3s 42ms/step - loss: 0.0783 - accuracy: 0.9734 - val_loss: 2.1896 - val_accuracy: 0.5262\n",
            "Epoch 46/70\n",
            "73/73 [==============================] - 3s 41ms/step - loss: 0.0528 - accuracy: 0.9826 - val_loss: 2.8587 - val_accuracy: 0.5245\n",
            "Epoch 47/70\n",
            "73/73 [==============================] - 3s 41ms/step - loss: 0.0456 - accuracy: 0.9845 - val_loss: 5.3219 - val_accuracy: 0.4129\n",
            "Epoch 48/70\n",
            "73/73 [==============================] - 3s 41ms/step - loss: 0.0646 - accuracy: 0.9787 - val_loss: 3.0268 - val_accuracy: 0.5236\n",
            "Epoch 49/70\n",
            "73/73 [==============================] - 3s 42ms/step - loss: 0.0379 - accuracy: 0.9865 - val_loss: 3.3422 - val_accuracy: 0.5219\n",
            "Epoch 50/70\n",
            "73/73 [==============================] - 3s 42ms/step - loss: 0.0562 - accuracy: 0.9822 - val_loss: 10.1737 - val_accuracy: 0.2670\n",
            "Epoch 51/70\n",
            "73/73 [==============================] - 3s 41ms/step - loss: 0.0865 - accuracy: 0.9686 - val_loss: 3.1107 - val_accuracy: 0.5142\n",
            "Epoch 52/70\n",
            "73/73 [==============================] - 3s 42ms/step - loss: 0.0373 - accuracy: 0.9884 - val_loss: 2.5457 - val_accuracy: 0.5090\n",
            "Epoch 53/70\n",
            "73/73 [==============================] - 3s 42ms/step - loss: 0.0647 - accuracy: 0.9790 - val_loss: 3.3232 - val_accuracy: 0.4687\n",
            "Epoch 54/70\n",
            "73/73 [==============================] - 3s 41ms/step - loss: 0.0521 - accuracy: 0.9852 - val_loss: 3.6640 - val_accuracy: 0.4824\n",
            "Epoch 55/70\n",
            "73/73 [==============================] - 3s 41ms/step - loss: 0.0446 - accuracy: 0.9856 - val_loss: 4.1796 - val_accuracy: 0.4352\n",
            "Epoch 56/70\n",
            "73/73 [==============================] - 3s 41ms/step - loss: 0.0496 - accuracy: 0.9830 - val_loss: 2.5169 - val_accuracy: 0.5245\n",
            "Epoch 57/70\n",
            "73/73 [==============================] - 3s 41ms/step - loss: 0.0523 - accuracy: 0.9830 - val_loss: 3.9610 - val_accuracy: 0.4472\n",
            "Epoch 58/70\n",
            "73/73 [==============================] - 3s 42ms/step - loss: 0.0334 - accuracy: 0.9914 - val_loss: 2.9156 - val_accuracy: 0.5099\n",
            "Epoch 59/70\n",
            "73/73 [==============================] - 3s 42ms/step - loss: 0.0611 - accuracy: 0.9798 - val_loss: 2.7782 - val_accuracy: 0.5399\n",
            "Epoch 60/70\n",
            "73/73 [==============================] - 3s 42ms/step - loss: 0.0484 - accuracy: 0.9852 - val_loss: 2.9989 - val_accuracy: 0.4944\n",
            "Epoch 61/70\n",
            "73/73 [==============================] - 3s 42ms/step - loss: 0.0307 - accuracy: 0.9906 - val_loss: 4.0177 - val_accuracy: 0.4232\n",
            "Epoch 62/70\n",
            "73/73 [==============================] - 3s 42ms/step - loss: 0.0343 - accuracy: 0.9888 - val_loss: 3.0483 - val_accuracy: 0.5030\n",
            "Epoch 63/70\n",
            "73/73 [==============================] - 3s 42ms/step - loss: 0.0395 - accuracy: 0.9875 - val_loss: 3.3122 - val_accuracy: 0.4712\n",
            "Epoch 64/70\n",
            "73/73 [==============================] - 3s 41ms/step - loss: 0.0404 - accuracy: 0.9858 - val_loss: 3.7252 - val_accuracy: 0.4532\n",
            "Epoch 65/70\n",
            "73/73 [==============================] - 3s 41ms/step - loss: 0.0676 - accuracy: 0.9777 - val_loss: 6.6938 - val_accuracy: 0.4575\n",
            "Epoch 66/70\n",
            "73/73 [==============================] - 3s 42ms/step - loss: 0.0553 - accuracy: 0.9798 - val_loss: 4.3522 - val_accuracy: 0.5099\n",
            "Epoch 67/70\n",
            "73/73 [==============================] - 3s 41ms/step - loss: 0.0474 - accuracy: 0.9837 - val_loss: 2.9519 - val_accuracy: 0.4824\n",
            "Epoch 68/70\n",
            "73/73 [==============================] - 3s 42ms/step - loss: 0.0459 - accuracy: 0.9867 - val_loss: 3.6511 - val_accuracy: 0.4824\n",
            "Epoch 69/70\n",
            "73/73 [==============================] - 3s 41ms/step - loss: 0.0659 - accuracy: 0.9755 - val_loss: 10.2336 - val_accuracy: 0.3511\n",
            "Epoch 70/70\n",
            "73/73 [==============================] - 3s 42ms/step - loss: 0.0453 - accuracy: 0.9858 - val_loss: 2.7752 - val_accuracy: 0.4987\n"
          ]
        }
      ]
    },
    {
      "cell_type": "code",
      "source": [
        "#결과 확인\n",
        "plt.figure(figsize=(14, 5))\n",
        "\n",
        "plt.subplot(1, 2, 1)\n",
        "plt.plot(history.history['accuracy'], label='Training Accuracy')\n",
        "plt.plot(history.history['val_accuracy'], label='Validation Accuracy')\n",
        "plt.legend(loc='lower right')\n",
        "plt.title('Training and Validation Accuracy')\n",
        "\n",
        "plt.subplot(1, 2, 2)\n",
        "plt.plot(history.history['loss'], label='Training Loss')\n",
        "plt.plot(history.history['val_loss'], label='Validation Loss')\n",
        "plt.legend(loc='upper right')\n",
        "plt.title('Training and Validation Loss')\n",
        "\n",
        "plt.show()"
      ],
      "metadata": {
        "outputId": "812e3271-afd2-426b-b01b-f0256cc74d75",
        "colab": {
          "base_uri": "https://localhost:8080/",
          "height": 336
        },
        "id": "pTiOuGUPD08x"
      },
      "execution_count": 65,
      "outputs": [
        {
          "output_type": "display_data",
          "data": {
            "text/plain": [
              "<Figure size 1008x360 with 2 Axes>"
            ],
            "image/png": "[encoded data removed]"
          },
          "metadata": {
            "needs_background": "light"
          }
        }
      ]
    },
    {
      "cell_type": "code",
      "source": [
        "model.evaluate(X_test, y_test)"
      ],
      "metadata": {
        "outputId": "86446a2d-9f17-4529-a9ae-4d44b09da4c2",
        "colab": {
          "base_uri": "https://localhost:8080/"
        },
        "id": "jMz63HDQD088"
      },
      "execution_count": 66,
      "outputs": [
        {
          "output_type": "stream",
          "name": "stdout",
          "text": [
            "23/23 [==============================] - 0s 8ms/step - loss: 3.2064 - accuracy: 0.4904\n"
          ]
        },
        {
          "output_type": "execute_result",
          "data": {
            "text/plain": [
              "[3.206367254257202, 0.49038460850715637]"
            ]
          },
          "metadata": {},
          "execution_count": 66
        }
      ]
    },
    {
      "cell_type": "code",
      "source": [
        "from tensorflow.keras.applications.mobilenet import MobileNet, preprocess_input, decode_predictions"
      ],
      "metadata": {
        "id": "1gwxLBdDFAoF"
      },
      "execution_count": 116,
      "outputs": []
    },
    {
      "cell_type": "code",
      "source": [
        "base_model = tf.keras.applications.MobileNetV2(input_shape=INPUT_SHAPE,\n",
        "                                              include_top=False, \n",
        "                                              weights='imagenet')\n",
        "\n",
        "model = tf.keras.Sequential([\n",
        "  base_model,\n",
        "  tf.keras.layers.Conv2D(filters=32, kernel_size=3, activation='relu'),\n",
        "  tf.keras.layers.Dropout(0.2),\n",
        "  tf.keras.layers.GlobalAveragePooling2D(),\n",
        "  tf.keras.layers.Dense(units=4, activation='softmax')\n",
        "])"
      ],
      "metadata": {
        "id": "CGudAYp9RcK6"
      },
      "execution_count": 124,
      "outputs": []
    },
    {
      "cell_type": "code",
      "metadata": {
        "id": "dK2noZl6FcdH"
      },
      "source": [
        "adam = tf.keras.optimizers.Adam(learning_rate=0.001, beta_1=0.9, beta_2=0.999, epsilon=None, decay=0.0, amsgrad=False)\n",
        "model.compile(\n",
        "    optimizer=adam,\n",
        "    loss='categorical_crossentropy', \n",
        "    #categorical_crossentropy: 다중 분류 손실함수. 출력값이 원 핫 인코딩 된 결과로 나온다.\n",
        "    #각 샘플이 정확히 하나의 클래스에 속하는 경우 사용한다.\n",
        "    metrics=['accuracy']\n",
        ")"
      ],
      "execution_count": 125,
      "outputs": []
    },
    {
      "cell_type": "code",
      "metadata": {
        "colab": {
          "base_uri": "https://localhost:8080/"
        },
        "outputId": "4f824310-503f-4cf3-b6a7-aa3d9a4da8b1",
        "id": "qcNGPsWMFcdJ"
      },
      "source": [
        "model.summary()"
      ],
      "execution_count": 120,
      "outputs": [
        {
          "output_type": "stream",
          "name": "stdout",
          "text": [
            "Model: \"sequential_9\"\n",
            "_________________________________________________________________\n",
            " Layer (type)                Output Shape              Param #   \n",
            "=================================================================\n",
            " mobilenetv2_1.00_224 (Funct  (None, 7, 7, 1280)       2257984   \n",
            " ional)                                                          \n",
            "                                                                 \n",
            " conv2d_81 (Conv2D)          (None, 5, 5, 32)          368672    \n",
            "                                                                 \n",
            " dropout_17 (Dropout)        (None, 5, 5, 32)          0         \n",
            "                                                                 \n",
            " global_average_pooling2d_3   (None, 32)               0         \n",
            " (GlobalAveragePooling2D)                                        \n",
            "                                                                 \n",
            " dense_25 (Dense)            (None, 4)                 132       \n",
            "                                                                 \n",
            "=================================================================\n",
            "Total params: 2,626,788\n",
            "Trainable params: 2,592,676\n",
            "Non-trainable params: 34,112\n",
            "_________________________________________________________________\n"
          ]
        }
      ]
    },
    {
      "cell_type": "code",
      "metadata": {
        "colab": {
          "base_uri": "https://localhost:8080/"
        },
        "outputId": "98604599-1a0f-4c1b-80d4-cc8288f251a7",
        "id": "GKNURr-uFcdK"
      },
      "source": [
        "#추가 데이터 X\n",
        "from keras.callbacks import EarlyStopping \n",
        "early_stopping = EarlyStopping(patience=10)\n",
        "\n",
        "history = model.fit(\n",
        "    X_train, y_train,\n",
        "    epochs=EPOCHS,\n",
        "    batch_size=BATCH_SIZE,\n",
        "    verbose=VERBOSE,\n",
        "    validation_split=0.2,\n",
        ")"
      ],
      "execution_count": 121,
      "outputs": [
        {
          "output_type": "stream",
          "name": "stdout",
          "text": [
            "Epoch 1/70\n",
            "37/37 [==============================] - 18s 349ms/step - loss: 1.2276 - accuracy: 0.4669 - val_loss: 1.3070 - val_accuracy: 0.4391\n",
            "Epoch 2/70\n",
            "37/37 [==============================] - 11s 304ms/step - loss: 0.8595 - accuracy: 0.6035 - val_loss: 1.3245 - val_accuracy: 0.4494\n",
            "Epoch 3/70\n",
            "37/37 [==============================] - 12s 313ms/step - loss: 0.6922 - accuracy: 0.7126 - val_loss: 1.3486 - val_accuracy: 0.4271\n",
            "Epoch 4/70\n",
            "37/37 [==============================] - 11s 307ms/step - loss: 0.5816 - accuracy: 0.7547 - val_loss: 1.2981 - val_accuracy: 0.3310\n",
            "Epoch 5/70\n",
            "37/37 [==============================] - 11s 311ms/step - loss: 0.5352 - accuracy: 0.7874 - val_loss: 1.3080 - val_accuracy: 0.2453\n",
            "Epoch 6/70\n",
            "37/37 [==============================] - 11s 301ms/step - loss: 0.3756 - accuracy: 0.8531 - val_loss: 3.3043 - val_accuracy: 0.0429\n",
            "Epoch 7/70\n",
            "37/37 [==============================] - 11s 295ms/step - loss: 0.3813 - accuracy: 0.8557 - val_loss: 3.4276 - val_accuracy: 0.1046\n",
            "Epoch 8/70\n",
            "37/37 [==============================] - 11s 308ms/step - loss: 0.2975 - accuracy: 0.8814 - val_loss: 4.2163 - val_accuracy: 0.0875\n",
            "Epoch 9/70\n",
            "37/37 [==============================] - 12s 316ms/step - loss: 0.2477 - accuracy: 0.9076 - val_loss: 4.1841 - val_accuracy: 0.0429\n",
            "Epoch 10/70\n",
            "37/37 [==============================] - 12s 318ms/step - loss: 0.2351 - accuracy: 0.9111 - val_loss: 3.6331 - val_accuracy: 0.0497\n",
            "Epoch 11/70\n",
            "37/37 [==============================] - 11s 302ms/step - loss: 0.1712 - accuracy: 0.9377 - val_loss: 1.3503 - val_accuracy: 0.3654\n",
            "Epoch 12/70\n",
            "37/37 [==============================] - 11s 301ms/step - loss: 0.2703 - accuracy: 0.9055 - val_loss: 4.4402 - val_accuracy: 0.0549\n",
            "Epoch 13/70\n",
            "37/37 [==============================] - 11s 306ms/step - loss: 0.1247 - accuracy: 0.9566 - val_loss: 2.8133 - val_accuracy: 0.0703\n",
            "Epoch 14/70\n",
            "37/37 [==============================] - 12s 323ms/step - loss: 0.1263 - accuracy: 0.9549 - val_loss: 1.4237 - val_accuracy: 0.2985\n",
            "Epoch 15/70\n",
            "37/37 [==============================] - 11s 309ms/step - loss: 0.1589 - accuracy: 0.9403 - val_loss: 1.6711 - val_accuracy: 0.4374\n",
            "Epoch 16/70\n",
            "37/37 [==============================] - 11s 308ms/step - loss: 0.1184 - accuracy: 0.9575 - val_loss: 2.1173 - val_accuracy: 0.3722\n",
            "Epoch 17/70\n",
            "37/37 [==============================] - 11s 310ms/step - loss: 0.1400 - accuracy: 0.9472 - val_loss: 1.5112 - val_accuracy: 0.3636\n",
            "Epoch 18/70\n",
            "37/37 [==============================] - 11s 298ms/step - loss: 0.0866 - accuracy: 0.9738 - val_loss: 1.7929 - val_accuracy: 0.3362\n",
            "Epoch 19/70\n",
            "37/37 [==============================] - 12s 311ms/step - loss: 0.0997 - accuracy: 0.9708 - val_loss: 2.5215 - val_accuracy: 0.3671\n",
            "Epoch 20/70\n",
            "37/37 [==============================] - 12s 314ms/step - loss: 0.0888 - accuracy: 0.9686 - val_loss: 1.9537 - val_accuracy: 0.4545\n",
            "Epoch 21/70\n",
            "37/37 [==============================] - 12s 315ms/step - loss: 0.1239 - accuracy: 0.9553 - val_loss: 2.0072 - val_accuracy: 0.3791\n",
            "Epoch 22/70\n",
            "37/37 [==============================] - 12s 313ms/step - loss: 0.0940 - accuracy: 0.9712 - val_loss: 2.3944 - val_accuracy: 0.4099\n",
            "Epoch 23/70\n",
            "37/37 [==============================] - 11s 308ms/step - loss: 0.0626 - accuracy: 0.9794 - val_loss: 2.3779 - val_accuracy: 0.4443\n",
            "Epoch 24/70\n",
            "37/37 [==============================] - 12s 320ms/step - loss: 0.0564 - accuracy: 0.9824 - val_loss: 2.8322 - val_accuracy: 0.4597\n",
            "Epoch 25/70\n",
            "37/37 [==============================] - 11s 297ms/step - loss: 0.0540 - accuracy: 0.9811 - val_loss: 2.3834 - val_accuracy: 0.4168\n",
            "Epoch 26/70\n",
            "37/37 [==============================] - 12s 313ms/step - loss: 0.0600 - accuracy: 0.9798 - val_loss: 3.5438 - val_accuracy: 0.2436\n",
            "Epoch 27/70\n",
            "37/37 [==============================] - 11s 304ms/step - loss: 0.0549 - accuracy: 0.9802 - val_loss: 2.7470 - val_accuracy: 0.2007\n",
            "Epoch 28/70\n",
            "37/37 [==============================] - 11s 300ms/step - loss: 0.1473 - accuracy: 0.9519 - val_loss: 2.1567 - val_accuracy: 0.2316\n",
            "Epoch 29/70\n",
            "37/37 [==============================] - 11s 306ms/step - loss: 0.0624 - accuracy: 0.9811 - val_loss: 2.7268 - val_accuracy: 0.1252\n",
            "Epoch 30/70\n",
            "37/37 [==============================] - 11s 295ms/step - loss: 0.0902 - accuracy: 0.9665 - val_loss: 1.7054 - val_accuracy: 0.3225\n",
            "Epoch 31/70\n",
            "37/37 [==============================] - 11s 301ms/step - loss: 0.0577 - accuracy: 0.9828 - val_loss: 3.7923 - val_accuracy: 0.1818\n",
            "Epoch 32/70\n",
            "37/37 [==============================] - 11s 297ms/step - loss: 0.0921 - accuracy: 0.9742 - val_loss: 3.6547 - val_accuracy: 0.1870\n",
            "Epoch 33/70\n",
            "37/37 [==============================] - 11s 304ms/step - loss: 0.0876 - accuracy: 0.9686 - val_loss: 6.5160 - val_accuracy: 0.1818\n",
            "Epoch 34/70\n",
            "37/37 [==============================] - 11s 305ms/step - loss: 0.0396 - accuracy: 0.9850 - val_loss: 5.6328 - val_accuracy: 0.1852\n",
            "Epoch 35/70\n",
            "37/37 [==============================] - 11s 307ms/step - loss: 0.0288 - accuracy: 0.9897 - val_loss: 8.7030 - val_accuracy: 0.1801\n",
            "Epoch 36/70\n",
            "37/37 [==============================] - 12s 320ms/step - loss: 0.0478 - accuracy: 0.9837 - val_loss: 2.8247 - val_accuracy: 0.2110\n",
            "Epoch 37/70\n",
            "37/37 [==============================] - 11s 309ms/step - loss: 0.0432 - accuracy: 0.9884 - val_loss: 8.7859 - val_accuracy: 0.0412\n",
            "Epoch 38/70\n",
            "37/37 [==============================] - 10s 283ms/step - loss: 0.0463 - accuracy: 0.9863 - val_loss: 6.3482 - val_accuracy: 0.0429\n",
            "Epoch 39/70\n",
            "37/37 [==============================] - 12s 313ms/step - loss: 0.0775 - accuracy: 0.9734 - val_loss: 3.8439 - val_accuracy: 0.0806\n",
            "Epoch 40/70\n",
            "37/37 [==============================] - 11s 304ms/step - loss: 0.0893 - accuracy: 0.9716 - val_loss: 2.1211 - val_accuracy: 0.2710\n",
            "Epoch 41/70\n",
            "37/37 [==============================] - 11s 309ms/step - loss: 0.0375 - accuracy: 0.9884 - val_loss: 3.3264 - val_accuracy: 0.3036\n",
            "Epoch 42/70\n",
            "37/37 [==============================] - 11s 303ms/step - loss: 0.0537 - accuracy: 0.9841 - val_loss: 5.6775 - val_accuracy: 0.0583\n",
            "Epoch 43/70\n",
            "37/37 [==============================] - 12s 321ms/step - loss: 0.0450 - accuracy: 0.9832 - val_loss: 8.3557 - val_accuracy: 0.2161\n",
            "Epoch 44/70\n",
            "37/37 [==============================] - 11s 306ms/step - loss: 0.0746 - accuracy: 0.9790 - val_loss: 5.7197 - val_accuracy: 0.1321\n",
            "Epoch 45/70\n",
            "37/37 [==============================] - 11s 310ms/step - loss: 0.0397 - accuracy: 0.9854 - val_loss: 6.4083 - val_accuracy: 0.0755\n",
            "Epoch 46/70\n",
            "37/37 [==============================] - 11s 311ms/step - loss: 0.0161 - accuracy: 0.9944 - val_loss: 6.9993 - val_accuracy: 0.0995\n",
            "Epoch 47/70\n",
            "37/37 [==============================] - 11s 306ms/step - loss: 0.0074 - accuracy: 0.9966 - val_loss: 6.9871 - val_accuracy: 0.1475\n",
            "Epoch 48/70\n",
            "37/37 [==============================] - 11s 303ms/step - loss: 0.0062 - accuracy: 0.9987 - val_loss: 7.2575 - val_accuracy: 0.1509\n",
            "Epoch 49/70\n",
            "37/37 [==============================] - 12s 322ms/step - loss: 0.0982 - accuracy: 0.9695 - val_loss: 4.4674 - val_accuracy: 0.1990\n",
            "Epoch 50/70\n",
            "37/37 [==============================] - 11s 293ms/step - loss: 0.1250 - accuracy: 0.9545 - val_loss: 6.8288 - val_accuracy: 0.0995\n",
            "Epoch 51/70\n",
            "37/37 [==============================] - 11s 300ms/step - loss: 0.0382 - accuracy: 0.9910 - val_loss: 3.2517 - val_accuracy: 0.1338\n",
            "Epoch 52/70\n",
            "37/37 [==============================] - 11s 305ms/step - loss: 0.0318 - accuracy: 0.9914 - val_loss: 4.9403 - val_accuracy: 0.0995\n",
            "Epoch 53/70\n",
            "37/37 [==============================] - 11s 301ms/step - loss: 0.0345 - accuracy: 0.9905 - val_loss: 2.3532 - val_accuracy: 0.2882\n",
            "Epoch 54/70\n",
            "37/37 [==============================] - 11s 300ms/step - loss: 0.0350 - accuracy: 0.9884 - val_loss: 4.0010 - val_accuracy: 0.1475\n",
            "Epoch 55/70\n",
            "37/37 [==============================] - 12s 318ms/step - loss: 0.0377 - accuracy: 0.9854 - val_loss: 5.3027 - val_accuracy: 0.1149\n",
            "Epoch 56/70\n",
            "37/37 [==============================] - 11s 306ms/step - loss: 0.1067 - accuracy: 0.9678 - val_loss: 4.3272 - val_accuracy: 0.0549\n",
            "Epoch 57/70\n",
            "37/37 [==============================] - 12s 313ms/step - loss: 0.0671 - accuracy: 0.9807 - val_loss: 7.1836 - val_accuracy: 0.0412\n",
            "Epoch 58/70\n",
            "37/37 [==============================] - 11s 311ms/step - loss: 0.0436 - accuracy: 0.9828 - val_loss: 8.1928 - val_accuracy: 0.0566\n",
            "Epoch 59/70\n",
            "37/37 [==============================] - 12s 316ms/step - loss: 0.0272 - accuracy: 0.9897 - val_loss: 8.6611 - val_accuracy: 0.0635\n",
            "Epoch 60/70\n",
            "37/37 [==============================] - 11s 306ms/step - loss: 0.0198 - accuracy: 0.9927 - val_loss: 8.8264 - val_accuracy: 0.0635\n",
            "Epoch 61/70\n",
            "37/37 [==============================] - 12s 313ms/step - loss: 0.0270 - accuracy: 0.9910 - val_loss: 9.0066 - val_accuracy: 0.0549\n",
            "Epoch 62/70\n",
            "37/37 [==============================] - 11s 307ms/step - loss: 0.0241 - accuracy: 0.9927 - val_loss: 8.7617 - val_accuracy: 0.1132\n",
            "Epoch 63/70\n",
            "37/37 [==============================] - 11s 302ms/step - loss: 0.0125 - accuracy: 0.9966 - val_loss: 7.2000 - val_accuracy: 0.1269\n",
            "Epoch 64/70\n",
            "37/37 [==============================] - 11s 307ms/step - loss: 0.1041 - accuracy: 0.9669 - val_loss: 6.8383 - val_accuracy: 0.0549\n",
            "Epoch 65/70\n",
            "37/37 [==============================] - 12s 311ms/step - loss: 0.1084 - accuracy: 0.9639 - val_loss: 6.5769 - val_accuracy: 0.1887\n",
            "Epoch 66/70\n",
            "37/37 [==============================] - 11s 305ms/step - loss: 0.0429 - accuracy: 0.9845 - val_loss: 8.0728 - val_accuracy: 0.0600\n",
            "Epoch 67/70\n",
            "37/37 [==============================] - 11s 299ms/step - loss: 0.0363 - accuracy: 0.9858 - val_loss: 6.0637 - val_accuracy: 0.1835\n",
            "Epoch 68/70\n",
            "37/37 [==============================] - 11s 309ms/step - loss: 0.0234 - accuracy: 0.9927 - val_loss: 5.5166 - val_accuracy: 0.2607\n",
            "Epoch 69/70\n",
            "37/37 [==============================] - 12s 313ms/step - loss: 0.0627 - accuracy: 0.9794 - val_loss: 7.2039 - val_accuracy: 0.0635\n",
            "Epoch 70/70\n",
            "37/37 [==============================] - 12s 322ms/step - loss: 0.0421 - accuracy: 0.9845 - val_loss: 9.8914 - val_accuracy: 0.0583\n"
          ]
        }
      ]
    },
    {
      "cell_type": "code",
      "source": [
        "#결과 확인\n",
        "plt.figure(figsize=(14, 5))\n",
        "\n",
        "plt.subplot(1, 2, 1)\n",
        "plt.plot(history.history['accuracy'], label='Training Accuracy')\n",
        "plt.plot(history.history['val_accuracy'], label='Validation Accuracy')\n",
        "plt.legend(loc='lower right')\n",
        "plt.title('Training and Validation Accuracy')\n",
        "\n",
        "plt.subplot(1, 2, 2)\n",
        "plt.plot(history.history['loss'], label='Training Loss')\n",
        "plt.plot(history.history['val_loss'], label='Validation Loss')\n",
        "plt.legend(loc='upper right')\n",
        "plt.title('Training and Validation Loss')\n",
        "\n",
        "plt.show()"
      ],
      "metadata": {
        "outputId": "6a240604-b0b7-46e5-8a7c-6e3b01616210",
        "colab": {
          "base_uri": "https://localhost:8080/",
          "height": 336
        },
        "id": "-uCHwActFcdM"
      },
      "execution_count": 122,
      "outputs": [
        {
          "output_type": "display_data",
          "data": {
            "text/plain": [
              "<Figure size 1008x360 with 2 Axes>"
            ],
            "image/png": "[encoded data removed]"
          },
          "metadata": {
            "needs_background": "light"
          }
        }
      ]
    },
    {
      "cell_type": "code",
      "source": [
        "model.evaluate(X_test, y_test)"
      ],
      "metadata": {
        "outputId": "5d15a70f-66ab-4ab1-a484-f54966720872",
        "colab": {
          "base_uri": "https://localhost:8080/"
        },
        "id": "KgtI2c6dFcdN"
      },
      "execution_count": 123,
      "outputs": [
        {
          "output_type": "stream",
          "name": "stdout",
          "text": [
            "23/23 [==============================] - 1s 15ms/step - loss: 9.7842 - accuracy: 0.0481\n"
          ]
        },
        {
          "output_type": "execute_result",
          "data": {
            "text/plain": [
              "[9.784153938293457, 0.048076923936605453]"
            ]
          },
          "metadata": {},
          "execution_count": 123
        }
      ]
    },
    {
      "cell_type": "code",
      "metadata": {
        "colab": {
          "base_uri": "https://localhost:8080/"
        },
        "outputId": "4e24779d-9e4a-47d6-eefc-f850494583e8",
        "id": "7oxiAlhmVMTe"
      },
      "source": [
        "#추가 데이터 X\n",
        "from keras.callbacks import EarlyStopping \n",
        "early_stopping = EarlyStopping(patience=10)\n",
        "\n",
        "history = model.fit(\n",
        "    X_train_final, y_train_final,\n",
        "    epochs=EPOCHS,\n",
        "    batch_size=BATCH_SIZE,\n",
        "    verbose=VERBOSE,\n",
        "    validation_split=0.2,\n",
        ")"
      ],
      "execution_count": 126,
      "outputs": [
        {
          "output_type": "stream",
          "name": "stdout",
          "text": [
            "Epoch 1/70\n",
            "73/73 [==============================] - 30s 340ms/step - loss: 1.1292 - accuracy: 0.5242 - val_loss: 33.6864 - val_accuracy: 0.3502\n",
            "Epoch 2/70\n",
            "73/73 [==============================] - 21s 293ms/step - loss: 0.8171 - accuracy: 0.6371 - val_loss: 9.6120 - val_accuracy: 0.4584\n",
            "Epoch 3/70\n",
            "73/73 [==============================] - 23s 319ms/step - loss: 0.7128 - accuracy: 0.6899 - val_loss: 17.5392 - val_accuracy: 0.3940\n",
            "Epoch 4/70\n",
            "73/73 [==============================] - 22s 307ms/step - loss: 0.6212 - accuracy: 0.7415 - val_loss: 7.8561 - val_accuracy: 0.3528\n",
            "Epoch 5/70\n",
            "73/73 [==============================] - 21s 294ms/step - loss: 0.5566 - accuracy: 0.7666 - val_loss: 5.5154 - val_accuracy: 0.1734\n",
            "Epoch 6/70\n",
            "73/73 [==============================] - 22s 304ms/step - loss: 0.4821 - accuracy: 0.8102 - val_loss: 2.6079 - val_accuracy: 0.2112\n",
            "Epoch 7/70\n",
            "73/73 [==============================] - 22s 307ms/step - loss: 0.4134 - accuracy: 0.8344 - val_loss: 3.7207 - val_accuracy: 0.3725\n",
            "Epoch 8/70\n",
            "73/73 [==============================] - 23s 314ms/step - loss: 0.3476 - accuracy: 0.8630 - val_loss: 2.7994 - val_accuracy: 0.3536\n",
            "Epoch 9/70\n",
            "73/73 [==============================] - 22s 299ms/step - loss: 0.3170 - accuracy: 0.8720 - val_loss: 2.6360 - val_accuracy: 0.3691\n",
            "Epoch 10/70\n",
            "73/73 [==============================] - 23s 315ms/step - loss: 0.2439 - accuracy: 0.9049 - val_loss: 3.4340 - val_accuracy: 0.3262\n",
            "Epoch 11/70\n",
            "73/73 [==============================] - 22s 307ms/step - loss: 0.2130 - accuracy: 0.9158 - val_loss: 6.5630 - val_accuracy: 0.2069\n",
            "Epoch 12/70\n",
            "73/73 [==============================] - 22s 295ms/step - loss: 0.1902 - accuracy: 0.9285 - val_loss: 9.2214 - val_accuracy: 0.3099\n",
            "Epoch 13/70\n",
            "73/73 [==============================] - 22s 303ms/step - loss: 0.1631 - accuracy: 0.9362 - val_loss: 3.4352 - val_accuracy: 0.3597\n",
            "Epoch 14/70\n",
            "73/73 [==============================] - 22s 303ms/step - loss: 0.1392 - accuracy: 0.9498 - val_loss: 14.7969 - val_accuracy: 0.1897\n",
            "Epoch 15/70\n",
            "73/73 [==============================] - 23s 312ms/step - loss: 0.1600 - accuracy: 0.9433 - val_loss: 17.3892 - val_accuracy: 0.1906\n",
            "Epoch 16/70\n",
            "73/73 [==============================] - 22s 306ms/step - loss: 0.1632 - accuracy: 0.9371 - val_loss: 9.2103 - val_accuracy: 0.1906\n",
            "Epoch 17/70\n",
            "73/73 [==============================] - 23s 312ms/step - loss: 0.1018 - accuracy: 0.9618 - val_loss: 4.6614 - val_accuracy: 0.1262\n",
            "Epoch 18/70\n",
            "73/73 [==============================] - 23s 318ms/step - loss: 0.1441 - accuracy: 0.9500 - val_loss: 5.6337 - val_accuracy: 0.0858\n",
            "Epoch 19/70\n",
            "73/73 [==============================] - 22s 306ms/step - loss: 0.1181 - accuracy: 0.9583 - val_loss: 3.5805 - val_accuracy: 0.2455\n",
            "Epoch 20/70\n",
            "73/73 [==============================] - 23s 314ms/step - loss: 0.0842 - accuracy: 0.9714 - val_loss: 3.7704 - val_accuracy: 0.2824\n",
            "Epoch 21/70\n",
            "73/73 [==============================] - 22s 295ms/step - loss: 0.0941 - accuracy: 0.9631 - val_loss: 14.2890 - val_accuracy: 0.1906\n",
            "Epoch 22/70\n",
            "73/73 [==============================] - 21s 294ms/step - loss: 0.0795 - accuracy: 0.9719 - val_loss: 17.4065 - val_accuracy: 0.1906\n",
            "Epoch 23/70\n",
            "73/73 [==============================] - 22s 302ms/step - loss: 0.0885 - accuracy: 0.9699 - val_loss: 12.1349 - val_accuracy: 0.1991\n",
            "Epoch 24/70\n",
            "73/73 [==============================] - 21s 294ms/step - loss: 0.1107 - accuracy: 0.9611 - val_loss: 3.3374 - val_accuracy: 0.3734\n",
            "Epoch 25/70\n",
            "73/73 [==============================] - 23s 309ms/step - loss: 0.0891 - accuracy: 0.9680 - val_loss: 2.8212 - val_accuracy: 0.4429\n",
            "Epoch 26/70\n",
            "73/73 [==============================] - 22s 305ms/step - loss: 0.0768 - accuracy: 0.9751 - val_loss: 3.4983 - val_accuracy: 0.2824\n",
            "Epoch 27/70\n",
            "73/73 [==============================] - 22s 300ms/step - loss: 0.0972 - accuracy: 0.9654 - val_loss: 4.1168 - val_accuracy: 0.3030\n",
            "Epoch 28/70\n",
            "73/73 [==============================] - 23s 314ms/step - loss: 0.0719 - accuracy: 0.9751 - val_loss: 8.8995 - val_accuracy: 0.2146\n",
            "Epoch 29/70\n",
            "73/73 [==============================] - 22s 303ms/step - loss: 0.0509 - accuracy: 0.9828 - val_loss: 7.2356 - val_accuracy: 0.2446\n",
            "Epoch 30/70\n",
            "73/73 [==============================] - 22s 304ms/step - loss: 0.0758 - accuracy: 0.9742 - val_loss: 6.6333 - val_accuracy: 0.2197\n",
            "Epoch 31/70\n",
            "73/73 [==============================] - 23s 317ms/step - loss: 0.0666 - accuracy: 0.9772 - val_loss: 3.9106 - val_accuracy: 0.2318\n",
            "Epoch 32/70\n",
            "73/73 [==============================] - 23s 320ms/step - loss: 0.0997 - accuracy: 0.9626 - val_loss: 4.1317 - val_accuracy: 0.3399\n",
            "Epoch 33/70\n",
            "73/73 [==============================] - 23s 317ms/step - loss: 0.0618 - accuracy: 0.9779 - val_loss: 4.5589 - val_accuracy: 0.3906\n",
            "Epoch 34/70\n",
            "73/73 [==============================] - 23s 317ms/step - loss: 0.0646 - accuracy: 0.9781 - val_loss: 5.2764 - val_accuracy: 0.2755\n",
            "Epoch 35/70\n",
            "73/73 [==============================] - 22s 303ms/step - loss: 0.0441 - accuracy: 0.9869 - val_loss: 10.4115 - val_accuracy: 0.2155\n",
            "Epoch 36/70\n",
            "73/73 [==============================] - 21s 290ms/step - loss: 0.0398 - accuracy: 0.9863 - val_loss: 6.8309 - val_accuracy: 0.3047\n",
            "Epoch 37/70\n",
            "73/73 [==============================] - 22s 299ms/step - loss: 0.0487 - accuracy: 0.9835 - val_loss: 9.8399 - val_accuracy: 0.2163\n",
            "Epoch 38/70\n",
            "73/73 [==============================] - 23s 311ms/step - loss: 0.0990 - accuracy: 0.9693 - val_loss: 6.3731 - val_accuracy: 0.2627\n",
            "Epoch 39/70\n",
            "73/73 [==============================] - 22s 296ms/step - loss: 0.0731 - accuracy: 0.9734 - val_loss: 7.7153 - val_accuracy: 0.2120\n",
            "Epoch 40/70\n",
            "73/73 [==============================] - 23s 310ms/step - loss: 0.0518 - accuracy: 0.9835 - val_loss: 9.9527 - val_accuracy: 0.1966\n",
            "Epoch 41/70\n",
            "73/73 [==============================] - 24s 326ms/step - loss: 0.0351 - accuracy: 0.9875 - val_loss: 7.8291 - val_accuracy: 0.2721\n",
            "Epoch 42/70\n",
            "73/73 [==============================] - 23s 319ms/step - loss: 0.0424 - accuracy: 0.9841 - val_loss: 7.3372 - val_accuracy: 0.2240\n",
            "Epoch 43/70\n",
            "73/73 [==============================] - 22s 303ms/step - loss: 0.0595 - accuracy: 0.9787 - val_loss: 8.4048 - val_accuracy: 0.1957\n",
            "Epoch 44/70\n",
            "73/73 [==============================] - 22s 295ms/step - loss: 0.0612 - accuracy: 0.9809 - val_loss: 3.8377 - val_accuracy: 0.3339\n",
            "Epoch 45/70\n",
            "73/73 [==============================] - 21s 291ms/step - loss: 0.0620 - accuracy: 0.9811 - val_loss: 6.5338 - val_accuracy: 0.4232\n",
            "Epoch 46/70\n",
            "73/73 [==============================] - 22s 299ms/step - loss: 0.0218 - accuracy: 0.9925 - val_loss: 5.6939 - val_accuracy: 0.4609\n",
            "Epoch 47/70\n",
            "73/73 [==============================] - 22s 297ms/step - loss: 0.0434 - accuracy: 0.9848 - val_loss: 3.5458 - val_accuracy: 0.3227\n",
            "Epoch 48/70\n",
            "73/73 [==============================] - 23s 321ms/step - loss: 0.0510 - accuracy: 0.9845 - val_loss: 3.2955 - val_accuracy: 0.3717\n",
            "Epoch 49/70\n",
            "73/73 [==============================] - 23s 312ms/step - loss: 0.0454 - accuracy: 0.9848 - val_loss: 5.3621 - val_accuracy: 0.2944\n",
            "Epoch 50/70\n",
            "73/73 [==============================] - 22s 302ms/step - loss: 0.0789 - accuracy: 0.9710 - val_loss: 3.3286 - val_accuracy: 0.4026\n",
            "Epoch 51/70\n",
            "73/73 [==============================] - 22s 301ms/step - loss: 0.0858 - accuracy: 0.9693 - val_loss: 3.7614 - val_accuracy: 0.3167\n",
            "Epoch 52/70\n",
            "73/73 [==============================] - 22s 299ms/step - loss: 0.0757 - accuracy: 0.9766 - val_loss: 4.5578 - val_accuracy: 0.2412\n",
            "Epoch 53/70\n",
            "73/73 [==============================] - 23s 316ms/step - loss: 0.0691 - accuracy: 0.9766 - val_loss: 3.0219 - val_accuracy: 0.4326\n",
            "Epoch 54/70\n",
            "73/73 [==============================] - 23s 312ms/step - loss: 0.0464 - accuracy: 0.9856 - val_loss: 3.6175 - val_accuracy: 0.3597\n",
            "Epoch 55/70\n",
            "73/73 [==============================] - 22s 295ms/step - loss: 0.0455 - accuracy: 0.9867 - val_loss: 2.6563 - val_accuracy: 0.3940\n",
            "Epoch 56/70\n",
            "73/73 [==============================] - 22s 302ms/step - loss: 0.0339 - accuracy: 0.9880 - val_loss: 2.2347 - val_accuracy: 0.4489\n",
            "Epoch 57/70\n",
            "73/73 [==============================] - 21s 293ms/step - loss: 0.0320 - accuracy: 0.9890 - val_loss: 4.2554 - val_accuracy: 0.3554\n",
            "Epoch 58/70\n",
            "73/73 [==============================] - 22s 302ms/step - loss: 0.0485 - accuracy: 0.9837 - val_loss: 5.9348 - val_accuracy: 0.3004\n",
            "Epoch 59/70\n",
            "73/73 [==============================] - 21s 287ms/step - loss: 0.0302 - accuracy: 0.9882 - val_loss: 7.1429 - val_accuracy: 0.2953\n",
            "Epoch 60/70\n",
            "73/73 [==============================] - 22s 298ms/step - loss: 0.0372 - accuracy: 0.9882 - val_loss: 5.3348 - val_accuracy: 0.4403\n",
            "Epoch 61/70\n",
            "73/73 [==============================] - 23s 309ms/step - loss: 0.0325 - accuracy: 0.9890 - val_loss: 6.1526 - val_accuracy: 0.3554\n",
            "Epoch 62/70\n",
            "73/73 [==============================] - 21s 292ms/step - loss: 0.0402 - accuracy: 0.9863 - val_loss: 3.4943 - val_accuracy: 0.4146\n",
            "Epoch 63/70\n",
            "73/73 [==============================] - 22s 300ms/step - loss: 0.0388 - accuracy: 0.9869 - val_loss: 4.0441 - val_accuracy: 0.4129\n",
            "Epoch 64/70\n",
            "73/73 [==============================] - 22s 300ms/step - loss: 0.0738 - accuracy: 0.9762 - val_loss: 3.7831 - val_accuracy: 0.3674\n",
            "Epoch 65/70\n",
            "73/73 [==============================] - 22s 299ms/step - loss: 0.0542 - accuracy: 0.9817 - val_loss: 4.2399 - val_accuracy: 0.4215\n",
            "Epoch 66/70\n",
            "73/73 [==============================] - 22s 307ms/step - loss: 0.0366 - accuracy: 0.9884 - val_loss: 3.1083 - val_accuracy: 0.4326\n",
            "Epoch 67/70\n",
            "73/73 [==============================] - 23s 317ms/step - loss: 0.0323 - accuracy: 0.9914 - val_loss: 5.5793 - val_accuracy: 0.3845\n",
            "Epoch 68/70\n",
            "73/73 [==============================] - 22s 307ms/step - loss: 0.0256 - accuracy: 0.9921 - val_loss: 4.3489 - val_accuracy: 0.3605\n",
            "Epoch 69/70\n",
            "73/73 [==============================] - 22s 306ms/step - loss: 0.0294 - accuracy: 0.9890 - val_loss: 3.6742 - val_accuracy: 0.4395\n",
            "Epoch 70/70\n",
            "73/73 [==============================] - 23s 313ms/step - loss: 0.0304 - accuracy: 0.9884 - val_loss: 5.2687 - val_accuracy: 0.3133\n"
          ]
        }
      ]
    },
    {
      "cell_type": "code",
      "source": [
        "#결과 확인\n",
        "plt.figure(figsize=(14, 5))\n",
        "\n",
        "plt.subplot(1, 2, 1)\n",
        "plt.plot(history.history['accuracy'], label='Training Accuracy')\n",
        "plt.plot(history.history['val_accuracy'], label='Validation Accuracy')\n",
        "plt.legend(loc='lower right')\n",
        "plt.title('Training and Validation Accuracy')\n",
        "\n",
        "plt.subplot(1, 2, 2)\n",
        "plt.plot(history.history['loss'], label='Training Loss')\n",
        "plt.plot(history.history['val_loss'], label='Validation Loss')\n",
        "plt.legend(loc='upper right')\n",
        "plt.title('Training and Validation Loss')\n",
        "\n",
        "plt.show()"
      ],
      "metadata": {
        "outputId": "9981079d-4d7d-4e07-a01d-a190fa3c20c1",
        "colab": {
          "base_uri": "https://localhost:8080/",
          "height": 336
        },
        "id": "3X6V7SDsVMTl"
      },
      "execution_count": 127,
      "outputs": [
        {
          "output_type": "display_data",
          "data": {
            "text/plain": [
              "<Figure size 1008x360 with 2 Axes>"
            ],
            "image/png": "[encoded data removed]"
          },
          "metadata": {
            "needs_background": "light"
          }
        }
      ]
    },
    {
      "cell_type": "code",
      "source": [
        "model.evaluate(X_test, y_test)"
      ],
      "metadata": {
        "outputId": "70ae2693-b712-474e-84fd-b8edc17a735e",
        "colab": {
          "base_uri": "https://localhost:8080/"
        },
        "id": "flA-8_gWVMTl"
      },
      "execution_count": 128,
      "outputs": [
        {
          "output_type": "stream",
          "name": "stdout",
          "text": [
            "23/23 [==============================] - 0s 15ms/step - loss: 7.3521 - accuracy: 0.2349\n"
          ]
        },
        {
          "output_type": "execute_result",
          "data": {
            "text/plain": [
              "[7.352072715759277, 0.23489010334014893]"
            ]
          },
          "metadata": {},
          "execution_count": 128
        }
      ]
    }
  ]
}