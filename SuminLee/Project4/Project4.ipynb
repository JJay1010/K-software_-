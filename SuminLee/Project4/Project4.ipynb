{
  "nbformat": 4,
  "nbformat_minor": 0,
  "metadata": {
    "colab": {
      "provenance": [],
      "machine_shape": "hm",
      "authorship_tag": "ABX9TyNyt3kUDlyZvikga2HF91YU",
      "include_colab_link": true
    },
    "kernelspec": {
      "name": "python3",
      "display_name": "Python 3"
    },
    "language_info": {
      "name": "python"
    },
    "accelerator": "GPU",
    "gpuClass": "premium"
  },
  "cells": [
    {
      "cell_type": "markdown",
      "metadata": {
        "id": "view-in-github",
        "colab_type": "text"
      },
      "source": [
        "<a href=\"https://colab.research.google.com/github/JJay1010/K-software_-/blob/main/SuminLee/Project4/Project4.ipynb\" target=\"_parent\"><img src=\"https://colab.research.google.com/assets/colab-badge.svg\" alt=\"Open In Colab\"/></a>"
      ]
    },
    {
      "cell_type": "markdown",
      "source": [
        "# 1.프로젝트 개요\n",
        "**Project 4: 두피 데이터 분석 시스템**\n",
        "1. 두피측정 빅데이터를 이용한 자동진단 및 제품 추천 시스템\n",
        "2. 필요 기술 스택: Python, Python Library(Pillow, Opencv), Deep Learning + Docker file\n",
        "\n",
        "3. 프로세스\n",
        "- json 데이터를 분석하여 증상별 상관관계를 찾는다.\n",
        "- 분석한 결과를 토대로 증상에 맞게 제품을 추천한다.\n",
        "- 두피 이미지로 강도를 예측한다.\n",
        "- 해결할 문제: json 데이터 분석과 이미지 예측 결과를 어떻게 엮어서 제품을 추천할 것인가?"
      ],
      "metadata": {
        "id": "N43D0LyVkVG7"
      }
    },
    {
      "cell_type": "markdown",
      "source": [
        "# 2.일자별 진행 상황\n",
        "1월 16일 작업 계획\n",
        "\n",
        "1) 도커 공부: 이미지와 컨테이너의 개념\n",
        "- image: container의 기본 레시피. 도커 파일을 빌드해서 만들 수 있다.\n",
        "- container: image로 만든 인스턴스\n",
        "\n",
        "\n",
        "2) 데이터 이해하기\n",
        "- 데이터셋 다운로드 및 확인\n",
        "- 무엇을 할 것인지 생각하기 (모델링 방향) => *일단 미세각질 이미지만 단계별 분류*"
      ],
      "metadata": {
        "id": "AfE9W5VmJEVm"
      }
    },
    {
      "cell_type": "markdown",
      "source": [
        "1월 17일\n",
        "\n",
        "1) 무엇을 할 것인지 생각하기\n",
        "- json 데이터를 분석하여 증상별 상관관계를 찾는다.\n",
        "- 분석한 결과가 맞는지 증명한다. (이론 등을 이용)\n",
        "- 증상에 맞게 제품을 추천한다. 이를 위해선 제품에 대한 조사가 필요하다.\n",
        "\n",
        "2) 미세각질, 탈모 데이터 분석\n",
        "- 시각화\n",
        "- 상관관계 분석\n"
      ],
      "metadata": {
        "id": "Fukb-KeBJRjb"
      }
    },
    {
      "cell_type": "markdown",
      "source": [
        "1월 18일\n",
        "\n",
        "1) 상관관계 분석 예제들 찾기\n",
        "\n",
        "2) docker 실습\n",
        "\n",
        "3) 이미지 데이터로 모델링 및 학습 진행\n",
        "- 정확도가 너무 낮다 => 튜닝 필요\n",
        "- fine tuning (미완)\n",
        "- 하이퍼 파라미터 튜닝 (진행 중) => 서치 알고리즘 더 찾아보기"
      ],
      "metadata": {
        "id": "z53e3DKEQCjl"
      }
    },
    {
      "cell_type": "markdown",
      "source": [
        "1월 19일\n",
        "\n",
        "1) 이미지 정규화: 여러 범위로 적용해보기\n",
        "\n",
        "2) 모델 레이어 추가하기\n",
        "\n",
        "3) 제너레이터로 이미지 데이터 증강하기\n",
        "\n",
        "4) 하이퍼 파라미터 튜닝: 서치 알고리즘 더 찾아보기"
      ],
      "metadata": {
        "id": "cKOHh7gxotCQ"
      }
    },
    {
      "cell_type": "markdown",
      "source": [
        "# 3.1 데이터 분석 (미세각질)"
      ],
      "metadata": {
        "id": "aIqvIyp6PhUT"
      }
    },
    {
      "cell_type": "code",
      "execution_count": 1,
      "metadata": {
        "colab": {
          "base_uri": "https://localhost:8080/"
        },
        "id": "Vsq6xeZ6feFP",
        "outputId": "6dac28ff-32e6-4a75-e88d-a24f86fefb2e"
      },
      "outputs": [
        {
          "output_type": "stream",
          "name": "stdout",
          "text": [
            "Mounted at /content/drive\n"
          ]
        }
      ],
      "source": [
        "from google.colab import drive\n",
        "drive.mount('/content/drive')"
      ]
    },
    {
      "cell_type": "code",
      "source": [
        "#라이브러리\n",
        "from PIL import Image\n",
        "import os\n",
        "import json\n",
        "import pandas as pd\n",
        "import numpy as np\n",
        "from pandas import json_normalize\n",
        "\n",
        "import matplotlib.pyplot as plt\n",
        "import seaborn as sns\n",
        "\n",
        "from sklearn.model_selection import train_test_split\n",
        "\n",
        "import imageio #이미지 불러오기\n",
        "import skimage # Numpy배열로 이미지 객체를 다룬다.\n",
        "import skimage.io\n",
        "import skimage.transform\n",
        "\n",
        "import torch\n",
        "from torch.utils.data import Dataset\n",
        "from torchvision import datasets, transforms\n",
        "\n",
        "import tensorflow as tf"
      ],
      "metadata": {
        "id": "34ixjxCV4R5a"
      },
      "execution_count": 48,
      "outputs": []
    },
    {
      "cell_type": "code",
      "source": [
        "%cd /content/drive/MyDrive/Project4/Dataset/라벨_미세각질_0\n",
        "!unzip -qq '/content/drive/MyDrive/Project4/Dataset/[라벨]미세각질_0.양호.zip'"
      ],
      "metadata": {
        "id": "ZCnA4kma3OHP"
      },
      "execution_count": null,
      "outputs": []
    },
    {
      "cell_type": "code",
      "source": [
        "%cd /content/drive/MyDrive/Project4/Dataset/라벨_미세각질_1\n",
        "!unzip -qq '/content/drive/MyDrive/Project4/Dataset/[라벨]미세각질_1.경증.zip'"
      ],
      "metadata": {
        "colab": {
          "base_uri": "https://localhost:8080/"
        },
        "id": "YIP1k1iDeZo4",
        "outputId": "a4e80430-b047-4dc6-d626-d0e9ab89213a"
      },
      "execution_count": null,
      "outputs": [
        {
          "output_type": "stream",
          "name": "stdout",
          "text": [
            "/content/drive/MyDrive/Project4/Dataset/라벨_미세각질_1\n"
          ]
        }
      ]
    },
    {
      "cell_type": "code",
      "source": [
        "%cd /content/drive/MyDrive/Project4/Dataset/라벨_미세각질_2\n",
        "!unzip -qq '/content/drive/MyDrive/Project4/Dataset/[라벨]미세각질_2.중등도.zip'"
      ],
      "metadata": {
        "colab": {
          "base_uri": "https://localhost:8080/"
        },
        "id": "r06SaRXGeZwv",
        "outputId": "eb390776-d412-40ff-be97-53faad67af1d"
      },
      "execution_count": null,
      "outputs": [
        {
          "output_type": "stream",
          "name": "stdout",
          "text": [
            "/content/drive/MyDrive/Project4/Dataset/라벨_미세각질_2\n"
          ]
        }
      ]
    },
    {
      "cell_type": "code",
      "source": [
        "%cd /content/drive/MyDrive/Project4/Dataset/라벨_미세각질_3\n",
        "!unzip -qq '/content/drive/MyDrive/Project4/Dataset/[라벨]미세각질_3.중증.zip'"
      ],
      "metadata": {
        "colab": {
          "base_uri": "https://localhost:8080/"
        },
        "id": "OCCVsWt0ee5U",
        "outputId": "e7486146-a4cf-4268-8a02-1b01380a4799"
      },
      "execution_count": null,
      "outputs": [
        {
          "output_type": "stream",
          "name": "stdout",
          "text": [
            "/content/drive/MyDrive/Project4/Dataset/라벨_미세각질_3\n"
          ]
        }
      ]
    },
    {
      "cell_type": "code",
      "source": [
        "%cd /content/drive/MyDrive/Project4/Dataset/원천_미세각질\n",
        "!unzip -qq '/content/drive/MyDrive/Project4/Dataset/[원천]미세각질_0.양호.zip'"
      ],
      "metadata": {
        "colab": {
          "base_uri": "https://localhost:8080/"
        },
        "id": "F6rl4UBY3sM8",
        "outputId": "c0069095-82dc-45d2-a3ec-488653439c0b"
      },
      "execution_count": 33,
      "outputs": [
        {
          "output_type": "stream",
          "name": "stdout",
          "text": [
            "/content/drive/MyDrive/Project4/Dataset/원천_미세각질\n"
          ]
        }
      ]
    },
    {
      "cell_type": "code",
      "source": [
        "%cd /content/drive/MyDrive/Project4/Dataset/원천_미세각질\n",
        "!unzip -qq '/content/drive/MyDrive/Project4/Dataset/[원천]미세각질_1.경증.zip'"
      ],
      "metadata": {
        "colab": {
          "base_uri": "https://localhost:8080/"
        },
        "id": "VCqLnAvQqn5H",
        "outputId": "d54b5a76-ca86-47ac-cbc4-a24fcf157a7e"
      },
      "execution_count": 34,
      "outputs": [
        {
          "output_type": "stream",
          "name": "stdout",
          "text": [
            "/content/drive/MyDrive/Project4/Dataset/원천_미세각질\n"
          ]
        }
      ]
    },
    {
      "cell_type": "code",
      "source": [
        "%cd /content/drive/MyDrive/Project4/Dataset/원천_미세각질\n",
        "!unzip -qq '/content/drive/MyDrive/Project4/Dataset/[원천]미세각질_2.중등도.zip'"
      ],
      "metadata": {
        "colab": {
          "base_uri": "https://localhost:8080/"
        },
        "id": "gbjbLxiYqoJB",
        "outputId": "a579b16d-e7c0-42e5-c3de-7e20f5334b74"
      },
      "execution_count": 35,
      "outputs": [
        {
          "output_type": "stream",
          "name": "stdout",
          "text": [
            "/content/drive/MyDrive/Project4/Dataset/원천_미세각질\n"
          ]
        }
      ]
    },
    {
      "cell_type": "code",
      "source": [
        "%cd /content/drive/MyDrive/Project4/Dataset/원천_미세각질\n",
        "!unzip -qq '/content/drive/MyDrive/Project4/Dataset/[원천]미세각질_3.중증.zip'"
      ],
      "metadata": {
        "colab": {
          "base_uri": "https://localhost:8080/"
        },
        "id": "_fDim3s0qoVu",
        "outputId": "4471f604-06cf-4783-b8ab-8264d5082b9c"
      },
      "execution_count": 36,
      "outputs": [
        {
          "output_type": "stream",
          "name": "stdout",
          "text": [
            "/content/drive/MyDrive/Project4/Dataset/원천_미세각질\n"
          ]
        }
      ]
    },
    {
      "cell_type": "code",
      "source": [
        "li_1 = [\"라벨_미세각질_0\", \"라벨_미세각질_1\", \"라벨_미세각질_2\", \"라벨_미세각질_3\"]"
      ],
      "metadata": {
        "id": "w66cinf8fM1T"
      },
      "execution_count": 3,
      "outputs": []
    },
    {
      "cell_type": "code",
      "source": [
        "def openJson(li):\n",
        "  df = pd.DataFrame({'image_id':[], 'image_file_name':[], 'value_1':[],'value_2':[],'value_3':[],'value_4':[], 'value_5':[],'value_6':[]})\n",
        "\n",
        "  for folder in li:\n",
        "\n",
        "    path_jsons = \"/content/drive/MyDrive/Project4/Dataset/\"+folder+\"/\"\n",
        "    print(path_jsons)\n",
        "\n",
        "    json_list = (os.listdir(path_jsons)) #json 파일명 다 담기\n",
        "    print(len(json_list))\n",
        "\n",
        "    for i in range(0, len(json_list)):\n",
        "      example_file = open(path_jsons+json_list[i])\n",
        "      json_file = json.load(example_file)\n",
        "      df2 = pd.DataFrame.from_dict(json_file, orient=\"index\")\n",
        "      df2 = df2.transpose()\n",
        "      df = pd.concat([df,df2], ignore_index = True)\n",
        "\n",
        "  return df"
      ],
      "metadata": {
        "id": "gAvZPSoBqSim"
      },
      "execution_count": 4,
      "outputs": []
    },
    {
      "cell_type": "code",
      "source": [
        "df_1 = openJson(li_1)"
      ],
      "metadata": {
        "id": "GeRrhTS3DfiX",
        "outputId": "863f86d0-0b8d-455b-f083-1577c03e2dfe",
        "colab": {
          "base_uri": "https://localhost:8080/"
        }
      },
      "execution_count": 5,
      "outputs": [
        {
          "output_type": "stream",
          "name": "stdout",
          "text": [
            "/content/drive/MyDrive/Project4/Dataset/라벨_미세각질_0/\n",
            "152\n",
            "/content/drive/MyDrive/Project4/Dataset/라벨_미세각질_1/\n",
            "1267\n",
            "/content/drive/MyDrive/Project4/Dataset/라벨_미세각질_2/\n",
            "1568\n",
            "/content/drive/MyDrive/Project4/Dataset/라벨_미세각질_3/\n",
            "652\n"
          ]
        }
      ]
    },
    {
      "cell_type": "code",
      "source": [
        "df_1"
      ],
      "metadata": {
        "colab": {
          "base_uri": "https://localhost:8080/",
          "height": 424
        },
        "id": "bCZU2o7QdyTN",
        "outputId": "52f56984-834c-4fcb-e1b1-9d2c5a041edd"
      },
      "execution_count": 6,
      "outputs": [
        {
          "output_type": "execute_result",
          "data": {
            "text/plain": [
              "                                  image_id  \\\n",
              "0     7701_A1LCAIHDH000085_1610172715604_5   \n",
              "1     7978_A2LEBJJDE00071B_1606728948115_4   \n",
              "2     9414_A2LEBJJDE00033L_1605521474634_2   \n",
              "3     7670_A1LCAIHDH000126_1609648809001_6   \n",
              "4     8262_A2LEBJJDE00047M_1602749232911_3   \n",
              "...                                    ...   \n",
              "3634  1069_A2LEBJJDE00094D_1607579389669_6   \n",
              "3635  8146_A2LEBJJDE00148A_1607650916866_6   \n",
              "3636  4970_A1LCAIHDH00010K_1608001420956_2   \n",
              "3637  2278_A2LEBJJDE00181Z_1606653240159_2   \n",
              "3638  7366_A2LEBJJDE00088Q_1606891895638_2   \n",
              "\n",
              "                                  image_file_name value_1 value_2 value_3  \\\n",
              "0     7701_A1LCAIHDH000085_1610172715604_5_RH.jpg       0       0       0   \n",
              "1     7978_A2LEBJJDE00071B_1606728948115_4_LH.jpg       0       0       0   \n",
              "2     9414_A2LEBJJDE00033L_1605521474634_2_TH.jpg       0       0       0   \n",
              "3     7670_A1LCAIHDH000126_1609648809001_6_BH.jpg       0       0       0   \n",
              "4     8262_A2LEBJJDE00047M_1602749232911_3_TH.jpg       0       0       0   \n",
              "...                                           ...     ...     ...     ...   \n",
              "3634  1069_A2LEBJJDE00094D_1607579389669_6_BH.jpg       3       0       0   \n",
              "3635  8146_A2LEBJJDE00148A_1607650916866_6_BH.jpg       3       0       0   \n",
              "3636  4970_A1LCAIHDH00010K_1608001420956_2_TH.jpg       3       0       0   \n",
              "3637  2278_A2LEBJJDE00181Z_1606653240159_2_TH.jpg       3       0       1   \n",
              "3638  7366_A2LEBJJDE00088Q_1606891895638_2_TH.jpg       3       0       0   \n",
              "\n",
              "     value_4 value_5 value_6  \n",
              "0          0       0       0  \n",
              "1          0       0       0  \n",
              "2          0       0       0  \n",
              "3          0       0       0  \n",
              "4          0       0       0  \n",
              "...      ...     ...     ...  \n",
              "3634       0       3       0  \n",
              "3635       0       3       0  \n",
              "3636       0       0       0  \n",
              "3637       0       0       0  \n",
              "3638       0       1       0  \n",
              "\n",
              "[3639 rows x 8 columns]"
            ],
            "text/html": [
              "\n",
              "  <div id=\"df-08f0ab87-1d16-4794-8208-8f3484a28439\">\n",
              "    <div class=\"colab-df-container\">\n",
              "      <div>\n",
              "<style scoped>\n",
              "    .dataframe tbody tr th:only-of-type {\n",
              "        vertical-align: middle;\n",
              "    }\n",
              "\n",
              "    .dataframe tbody tr th {\n",
              "        vertical-align: top;\n",
              "    }\n",
              "\n",
              "    .dataframe thead th {\n",
              "        text-align: right;\n",
              "    }\n",
              "</style>\n",
              "<table border=\"1\" class=\"dataframe\">\n",
              "  <thead>\n",
              "    <tr style=\"text-align: right;\">\n",
              "      <th></th>\n",
              "      <th>image_id</th>\n",
              "      <th>image_file_name</th>\n",
              "      <th>value_1</th>\n",
              "      <th>value_2</th>\n",
              "      <th>value_3</th>\n",
              "      <th>value_4</th>\n",
              "      <th>value_5</th>\n",
              "      <th>value_6</th>\n",
              "    </tr>\n",
              "  </thead>\n",
              "  <tbody>\n",
              "    <tr>\n",
              "      <th>0</th>\n",
              "      <td>7701_A1LCAIHDH000085_1610172715604_5</td>\n",
              "      <td>7701_A1LCAIHDH000085_1610172715604_5_RH.jpg</td>\n",
              "      <td>0</td>\n",
              "      <td>0</td>\n",
              "      <td>0</td>\n",
              "      <td>0</td>\n",
              "      <td>0</td>\n",
              "      <td>0</td>\n",
              "    </tr>\n",
              "    <tr>\n",
              "      <th>1</th>\n",
              "      <td>7978_A2LEBJJDE00071B_1606728948115_4</td>\n",
              "      <td>7978_A2LEBJJDE00071B_1606728948115_4_LH.jpg</td>\n",
              "      <td>0</td>\n",
              "      <td>0</td>\n",
              "      <td>0</td>\n",
              "      <td>0</td>\n",
              "      <td>0</td>\n",
              "      <td>0</td>\n",
              "    </tr>\n",
              "    <tr>\n",
              "      <th>2</th>\n",
              "      <td>9414_A2LEBJJDE00033L_1605521474634_2</td>\n",
              "      <td>9414_A2LEBJJDE00033L_1605521474634_2_TH.jpg</td>\n",
              "      <td>0</td>\n",
              "      <td>0</td>\n",
              "      <td>0</td>\n",
              "      <td>0</td>\n",
              "      <td>0</td>\n",
              "      <td>0</td>\n",
              "    </tr>\n",
              "    <tr>\n",
              "      <th>3</th>\n",
              "      <td>7670_A1LCAIHDH000126_1609648809001_6</td>\n",
              "      <td>7670_A1LCAIHDH000126_1609648809001_6_BH.jpg</td>\n",
              "      <td>0</td>\n",
              "      <td>0</td>\n",
              "      <td>0</td>\n",
              "      <td>0</td>\n",
              "      <td>0</td>\n",
              "      <td>0</td>\n",
              "    </tr>\n",
              "    <tr>\n",
              "      <th>4</th>\n",
              "      <td>8262_A2LEBJJDE00047M_1602749232911_3</td>\n",
              "      <td>8262_A2LEBJJDE00047M_1602749232911_3_TH.jpg</td>\n",
              "      <td>0</td>\n",
              "      <td>0</td>\n",
              "      <td>0</td>\n",
              "      <td>0</td>\n",
              "      <td>0</td>\n",
              "      <td>0</td>\n",
              "    </tr>\n",
              "    <tr>\n",
              "      <th>...</th>\n",
              "      <td>...</td>\n",
              "      <td>...</td>\n",
              "      <td>...</td>\n",
              "      <td>...</td>\n",
              "      <td>...</td>\n",
              "      <td>...</td>\n",
              "      <td>...</td>\n",
              "      <td>...</td>\n",
              "    </tr>\n",
              "    <tr>\n",
              "      <th>3634</th>\n",
              "      <td>1069_A2LEBJJDE00094D_1607579389669_6</td>\n",
              "      <td>1069_A2LEBJJDE00094D_1607579389669_6_BH.jpg</td>\n",
              "      <td>3</td>\n",
              "      <td>0</td>\n",
              "      <td>0</td>\n",
              "      <td>0</td>\n",
              "      <td>3</td>\n",
              "      <td>0</td>\n",
              "    </tr>\n",
              "    <tr>\n",
              "      <th>3635</th>\n",
              "      <td>8146_A2LEBJJDE00148A_1607650916866_6</td>\n",
              "      <td>8146_A2LEBJJDE00148A_1607650916866_6_BH.jpg</td>\n",
              "      <td>3</td>\n",
              "      <td>0</td>\n",
              "      <td>0</td>\n",
              "      <td>0</td>\n",
              "      <td>3</td>\n",
              "      <td>0</td>\n",
              "    </tr>\n",
              "    <tr>\n",
              "      <th>3636</th>\n",
              "      <td>4970_A1LCAIHDH00010K_1608001420956_2</td>\n",
              "      <td>4970_A1LCAIHDH00010K_1608001420956_2_TH.jpg</td>\n",
              "      <td>3</td>\n",
              "      <td>0</td>\n",
              "      <td>0</td>\n",
              "      <td>0</td>\n",
              "      <td>0</td>\n",
              "      <td>0</td>\n",
              "    </tr>\n",
              "    <tr>\n",
              "      <th>3637</th>\n",
              "      <td>2278_A2LEBJJDE00181Z_1606653240159_2</td>\n",
              "      <td>2278_A2LEBJJDE00181Z_1606653240159_2_TH.jpg</td>\n",
              "      <td>3</td>\n",
              "      <td>0</td>\n",
              "      <td>1</td>\n",
              "      <td>0</td>\n",
              "      <td>0</td>\n",
              "      <td>0</td>\n",
              "    </tr>\n",
              "    <tr>\n",
              "      <th>3638</th>\n",
              "      <td>7366_A2LEBJJDE00088Q_1606891895638_2</td>\n",
              "      <td>7366_A2LEBJJDE00088Q_1606891895638_2_TH.jpg</td>\n",
              "      <td>3</td>\n",
              "      <td>0</td>\n",
              "      <td>0</td>\n",
              "      <td>0</td>\n",
              "      <td>1</td>\n",
              "      <td>0</td>\n",
              "    </tr>\n",
              "  </tbody>\n",
              "</table>\n",
              "<p>3639 rows × 8 columns</p>\n",
              "</div>\n",
              "      <button class=\"colab-df-convert\" onclick=\"convertToInteractive('df-08f0ab87-1d16-4794-8208-8f3484a28439')\"\n",
              "              title=\"Convert this dataframe to an interactive table.\"\n",
              "              style=\"display:none;\">\n",
              "        \n",
              "  <svg xmlns=\"http://www.w3.org/2000/svg\" height=\"24px\"viewBox=\"0 0 24 24\"\n",
              "       width=\"24px\">\n",
              "    <path d=\"M0 0h24v24H0V0z\" fill=\"none\"/>\n",
              "    <path d=\"M18.56 5.44l.94 2.06.94-2.06 2.06-.94-2.06-.94-.94-2.06-.94 2.06-2.06.94zm-11 1L8.5 8.5l.94-2.06 2.06-.94-2.06-.94L8.5 2.5l-.94 2.06-2.06.94zm10 10l.94 2.06.94-2.06 2.06-.94-2.06-.94-.94-2.06-.94 2.06-2.06.94z\"/><path d=\"M17.41 7.96l-1.37-1.37c-.4-.4-.92-.59-1.43-.59-.52 0-1.04.2-1.43.59L10.3 9.45l-7.72 7.72c-.78.78-.78 2.05 0 2.83L4 21.41c.39.39.9.59 1.41.59.51 0 1.02-.2 1.41-.59l7.78-7.78 2.81-2.81c.8-.78.8-2.07 0-2.86zM5.41 20L4 18.59l7.72-7.72 1.47 1.35L5.41 20z\"/>\n",
              "  </svg>\n",
              "      </button>\n",
              "      \n",
              "  <style>\n",
              "    .colab-df-container {\n",
              "      display:flex;\n",
              "      flex-wrap:wrap;\n",
              "      gap: 12px;\n",
              "    }\n",
              "\n",
              "    .colab-df-convert {\n",
              "      background-color: #E8F0FE;\n",
              "      border: none;\n",
              "      border-radius: 50%;\n",
              "      cursor: pointer;\n",
              "      display: none;\n",
              "      fill: #1967D2;\n",
              "      height: 32px;\n",
              "      padding: 0 0 0 0;\n",
              "      width: 32px;\n",
              "    }\n",
              "\n",
              "    .colab-df-convert:hover {\n",
              "      background-color: #E2EBFA;\n",
              "      box-shadow: 0px 1px 2px rgba(60, 64, 67, 0.3), 0px 1px 3px 1px rgba(60, 64, 67, 0.15);\n",
              "      fill: #174EA6;\n",
              "    }\n",
              "\n",
              "    [theme=dark] .colab-df-convert {\n",
              "      background-color: #3B4455;\n",
              "      fill: #D2E3FC;\n",
              "    }\n",
              "\n",
              "    [theme=dark] .colab-df-convert:hover {\n",
              "      background-color: #434B5C;\n",
              "      box-shadow: 0px 1px 3px 1px rgba(0, 0, 0, 0.15);\n",
              "      filter: drop-shadow(0px 1px 2px rgba(0, 0, 0, 0.3));\n",
              "      fill: #FFFFFF;\n",
              "    }\n",
              "  </style>\n",
              "\n",
              "      <script>\n",
              "        const buttonEl =\n",
              "          document.querySelector('#df-08f0ab87-1d16-4794-8208-8f3484a28439 button.colab-df-convert');\n",
              "        buttonEl.style.display =\n",
              "          google.colab.kernel.accessAllowed ? 'block' : 'none';\n",
              "\n",
              "        async function convertToInteractive(key) {\n",
              "          const element = document.querySelector('#df-08f0ab87-1d16-4794-8208-8f3484a28439');\n",
              "          const dataTable =\n",
              "            await google.colab.kernel.invokeFunction('convertToInteractive',\n",
              "                                                     [key], {});\n",
              "          if (!dataTable) return;\n",
              "\n",
              "          const docLinkHtml = 'Like what you see? Visit the ' +\n",
              "            '<a target=\"_blank\" href=https://colab.research.google.com/notebooks/data_table.ipynb>data table notebook</a>'\n",
              "            + ' to learn more about interactive tables.';\n",
              "          element.innerHTML = '';\n",
              "          dataTable['output_type'] = 'display_data';\n",
              "          await google.colab.output.renderOutput(dataTable, element);\n",
              "          const docLink = document.createElement('div');\n",
              "          docLink.innerHTML = docLinkHtml;\n",
              "          element.appendChild(docLink);\n",
              "        }\n",
              "      </script>\n",
              "    </div>\n",
              "  </div>\n",
              "  "
            ]
          },
          "metadata": {},
          "execution_count": 6
        }
      ]
    },
    {
      "cell_type": "markdown",
      "source": [
        "***value_1***: 미세각질(0,1,2,3 중 1개 값)\n",
        "\n",
        "***value_2***: 피지과다(0,1,2,3 중 1개 값)\n",
        "\n",
        "***value_3***: 모낭사이홍반(0,1,2,3 중 1개 값)\n",
        "\n",
        "***value_4***: 모낭홍반/농포(0,1,2,3 중 1개 값)\n",
        "\n",
        "***value_5***: 비듬(0,1,2,3 중 1개 값)\n",
        "\n",
        "***value_6***: 탈모(0,1,2,3 중 1개 값)"
      ],
      "metadata": {
        "id": "flVMNCd6gkBz"
      }
    },
    {
      "cell_type": "code",
      "source": [
        "#csv 저장\n",
        "df_1.to_csv('/content/drive/MyDrive/Project4/Dataset/df_1.csv',index=False)"
      ],
      "metadata": {
        "id": "XwfN-C2bh6n_"
      },
      "execution_count": 7,
      "outputs": []
    },
    {
      "cell_type": "code",
      "source": [
        "df_1 = pd.read_csv('/content/drive/MyDrive/Project4/Dataset/df_1.csv')"
      ],
      "metadata": {
        "id": "eM2Ol09r3eE5"
      },
      "execution_count": 3,
      "outputs": []
    },
    {
      "cell_type": "markdown",
      "source": [
        "## 3.1.1 시각화"
      ],
      "metadata": {
        "id": "L-nraOAEv0Lx"
      }
    },
    {
      "cell_type": "code",
      "source": [
        "# 그래프 x축 정렬을 위해 int 타입으로 변환\n",
        "df_1 = df_1.astype({'value_1':'int','value_2':'int', 'value_3':'int', 'value_4':'int', 'value_5':'int', 'value_6':'int'})"
      ],
      "metadata": {
        "id": "f6taJPrgHa9g"
      },
      "execution_count": 7,
      "outputs": []
    },
    {
      "cell_type": "code",
      "source": [
        "df_1.dtypes"
      ],
      "metadata": {
        "colab": {
          "base_uri": "https://localhost:8080/"
        },
        "id": "kfGmlkzBH3AJ",
        "outputId": "5add24be-ddde-4a17-9fcf-06622b7ce7fe"
      },
      "execution_count": 8,
      "outputs": [
        {
          "output_type": "execute_result",
          "data": {
            "text/plain": [
              "image_id           object\n",
              "image_file_name    object\n",
              "value_1             int64\n",
              "value_2             int64\n",
              "value_3             int64\n",
              "value_4             int64\n",
              "value_5             int64\n",
              "value_6             int64\n",
              "dtype: object"
            ]
          },
          "metadata": {},
          "execution_count": 8
        }
      ]
    },
    {
      "cell_type": "code",
      "source": [
        "#미세각질 데이터 분포\n",
        "plt.figure(figsize=(17,8))\n",
        "ax = sns.countplot(x='value_1', data=df_1)\n",
        "for p in ax.patches:\n",
        "    height = p.get_height()\n",
        "    ax.text(p.get_x() + p.get_width() / 2., height + 3, height, ha = 'center', size = 9)\n",
        "plt.show()"
      ],
      "metadata": {
        "colab": {
          "base_uri": "https://localhost:8080/",
          "height": 498
        },
        "id": "HKiv_E7viEhG",
        "outputId": "66db5d2b-c2a5-4d99-d3a3-b95835951ece"
      },
      "execution_count": 9,
      "outputs": [
        {
          "output_type": "display_data",
          "data": {
            "text/plain": [
              "<Figure size 1224x576 with 1 Axes>"
            ],
            "image/png": "[encoded data removed]"
          },
          "metadata": {
            "needs_background": "light"
          }
        }
      ]
    },
    {
      "cell_type": "code",
      "source": [
        "# 피지과다\n",
        "plt.figure(figsize=(17,8))\n",
        "ax = sns.countplot(x='value_1', data=df_1.sort_values(by = 'value_2'), hue='value_2')\n",
        "for p in ax.patches:\n",
        "    height = p.get_height()\n",
        "    ax.text(p.get_x() + p.get_width() / 2., height + 3, height, ha = 'center', size = 9)\n",
        "plt.show()"
      ],
      "metadata": {
        "colab": {
          "base_uri": "https://localhost:8080/",
          "height": 607
        },
        "id": "OgTqvQUAhOti",
        "outputId": "b6eed759-b2a7-445f-f3d6-907599d8e180"
      },
      "execution_count": 10,
      "outputs": [
        {
          "output_type": "stream",
          "name": "stderr",
          "text": [
            "WARNING:matplotlib.text:posx and posy should be finite values\n",
            "WARNING:matplotlib.text:posx and posy should be finite values\n",
            "WARNING:matplotlib.text:posx and posy should be finite values\n",
            "WARNING:matplotlib.text:posx and posy should be finite values\n",
            "WARNING:matplotlib.text:posx and posy should be finite values\n",
            "WARNING:matplotlib.text:posx and posy should be finite values\n"
          ]
        },
        {
          "output_type": "display_data",
          "data": {
            "text/plain": [
              "<Figure size 1224x576 with 1 Axes>"
            ],
            "image/png": "[encoded data removed]"
          },
          "metadata": {
            "needs_background": "light"
          }
        }
      ]
    },
    {
      "cell_type": "code",
      "source": [
        "# 모낭사이홍반\n",
        "plt.figure(figsize=(17,8))\n",
        "ax = sns.countplot(x='value_1', data=df_1.sort_values(by = 'value_3'), hue='value_3')\n",
        "for p in ax.patches:\n",
        "    height = p.get_height()\n",
        "    ax.text(p.get_x() + p.get_width() / 2., height + 3, height, ha = 'center', size = 9)\n",
        "plt.show()"
      ],
      "metadata": {
        "colab": {
          "base_uri": "https://localhost:8080/",
          "height": 607
        },
        "id": "FO9tMIf3iS-q",
        "outputId": "12f59c12-d9a4-433b-e812-9bf14aaad196"
      },
      "execution_count": 11,
      "outputs": [
        {
          "output_type": "stream",
          "name": "stderr",
          "text": [
            "WARNING:matplotlib.text:posx and posy should be finite values\n",
            "WARNING:matplotlib.text:posx and posy should be finite values\n",
            "WARNING:matplotlib.text:posx and posy should be finite values\n",
            "WARNING:matplotlib.text:posx and posy should be finite values\n",
            "WARNING:matplotlib.text:posx and posy should be finite values\n",
            "WARNING:matplotlib.text:posx and posy should be finite values\n"
          ]
        },
        {
          "output_type": "display_data",
          "data": {
            "text/plain": [
              "<Figure size 1224x576 with 1 Axes>"
            ],
            "image/png": "[encoded data removed]"
          },
          "metadata": {
            "needs_background": "light"
          }
        }
      ]
    },
    {
      "cell_type": "code",
      "source": [
        "# 모낭홍반/농포\n",
        "plt.figure(figsize=(17,8))\n",
        "ax = sns.countplot(x='value_1', data=df_1.sort_values(by = 'value_4'), hue='value_4')\n",
        "for p in ax.patches:\n",
        "    height = p.get_height()\n",
        "    ax.text(p.get_x() + p.get_width() / 2., height + 3, height, ha = 'center', size = 9)\n",
        "plt.show()"
      ],
      "metadata": {
        "colab": {
          "base_uri": "https://localhost:8080/",
          "height": 607
        },
        "id": "CjRSOPpiiTXn",
        "outputId": "a8c867b1-c941-4f2e-9da9-4d72690ca69b"
      },
      "execution_count": 12,
      "outputs": [
        {
          "output_type": "stream",
          "name": "stderr",
          "text": [
            "WARNING:matplotlib.text:posx and posy should be finite values\n",
            "WARNING:matplotlib.text:posx and posy should be finite values\n",
            "WARNING:matplotlib.text:posx and posy should be finite values\n",
            "WARNING:matplotlib.text:posx and posy should be finite values\n",
            "WARNING:matplotlib.text:posx and posy should be finite values\n",
            "WARNING:matplotlib.text:posx and posy should be finite values\n"
          ]
        },
        {
          "output_type": "display_data",
          "data": {
            "text/plain": [
              "<Figure size 1224x576 with 1 Axes>"
            ],
            "image/png": "[encoded data removed]"
          },
          "metadata": {
            "needs_background": "light"
          }
        }
      ]
    },
    {
      "cell_type": "code",
      "source": [
        "# 비듬\n",
        "plt.figure(figsize=(17,8))\n",
        "ax = sns.countplot(x='value_1', data=df_1.sort_values(by = 'value_5'), hue='value_5')\n",
        "for p in ax.patches:\n",
        "    height = p.get_height()\n",
        "    ax.text(p.get_x() + p.get_width() / 2., height + 3, height, ha = 'center', size = 9)\n",
        "plt.show()"
      ],
      "metadata": {
        "colab": {
          "base_uri": "https://localhost:8080/",
          "height": 607
        },
        "id": "xFYrITWkiTmb",
        "outputId": "cd536981-f2bf-4558-84d0-dc12dc3b7ff3"
      },
      "execution_count": 13,
      "outputs": [
        {
          "output_type": "stream",
          "name": "stderr",
          "text": [
            "WARNING:matplotlib.text:posx and posy should be finite values\n",
            "WARNING:matplotlib.text:posx and posy should be finite values\n",
            "WARNING:matplotlib.text:posx and posy should be finite values\n",
            "WARNING:matplotlib.text:posx and posy should be finite values\n",
            "WARNING:matplotlib.text:posx and posy should be finite values\n",
            "WARNING:matplotlib.text:posx and posy should be finite values\n"
          ]
        },
        {
          "output_type": "display_data",
          "data": {
            "text/plain": [
              "<Figure size 1224x576 with 1 Axes>"
            ],
            "image/png": "[encoded data removed]"
          },
          "metadata": {
            "needs_background": "light"
          }
        }
      ]
    },
    {
      "cell_type": "code",
      "source": [
        "# 탈모\n",
        "plt.figure(figsize=(17,8))\n",
        "ax = sns.countplot(x='value_1', data=df_1.sort_values(by = 'value_6'), hue='value_6')\n",
        "for p in ax.patches:\n",
        "    height = p.get_height()\n",
        "    ax.text(p.get_x() + p.get_width() / 2., height + 3, height, ha = 'center', size = 9)\n",
        "plt.show()"
      ],
      "metadata": {
        "colab": {
          "base_uri": "https://localhost:8080/",
          "height": 607
        },
        "id": "6HmiplNziTzN",
        "outputId": "c11be84a-fb87-4fa9-c122-3e6523f9178f"
      },
      "execution_count": 14,
      "outputs": [
        {
          "output_type": "stream",
          "name": "stderr",
          "text": [
            "WARNING:matplotlib.text:posx and posy should be finite values\n",
            "WARNING:matplotlib.text:posx and posy should be finite values\n",
            "WARNING:matplotlib.text:posx and posy should be finite values\n",
            "WARNING:matplotlib.text:posx and posy should be finite values\n",
            "WARNING:matplotlib.text:posx and posy should be finite values\n",
            "WARNING:matplotlib.text:posx and posy should be finite values\n"
          ]
        },
        {
          "output_type": "display_data",
          "data": {
            "text/plain": [
              "<Figure size 1224x576 with 1 Axes>"
            ],
            "image/png": "[encoded data removed]"
          },
          "metadata": {
            "needs_background": "light"
          }
        }
      ]
    },
    {
      "cell_type": "markdown",
      "source": [
        "count plot을 확인해본 결과,\n",
        "\n",
        "- value 2, 4 (피지과다, 모낭홍반/농포)는 미세각질 강도가 증가하여도 눈에 띄게 강도 0 값이 많은 것을 확인하였다.\n",
        "- ***가설 1: 미세각질과 피지과다/모낭홍반/농포는 동반되는 경우가 드물다.***\n",
        "\n",
        "- value 3 (모낭사이홍반)은 미세각질 강도가 증가함에 따라 강도 1, 2, 3을 합한 값이 0보다 확연히 많다. 증상이 있는 경우가 많다.\n",
        "- ***가설 2: 미세각질, 모낭사이홍반 증상은 함께 동반되는 경우가 많다.***\n",
        "\n",
        "\n",
        "\n",
        "=> 다른 데이터도 이러한 방법으로 확인할 수 있다.\n",
        "\n",
        "=> 제품을 추천할 때 유용할 것이다.\n",
        "\n",
        "***미세각질***\n",
        "- 두피표면의 천연보습인자(NMF) 부족과 피지선 기능이 저하되어 조기 박리증 증상을 보인다.\n",
        "- 잔 각질이 관찰되며 모공 주변으로 나이테 모양의 각질층을 형성한다.\n",
        "- 유수분의 부족으로 당김현상이나 가려움증을 호소한다.\n",
        "\n",
        "***피지과다***\n",
        "- 피지분비 과다로 두피 표면이 번들거리고 두피색은 탁하다.\n",
        "- 심한 경우 피지산화 및 세균으로 인한 악취, 떡비듬, 지루성염증을 동반하기도 한다.\n",
        "\n",
        "***모낭홍반/농포***\n",
        "- 두피가 붉은 색을 띠며 표면에 홍반이 확인되는 경우가 있다.\n",
        "- 세균감염으로 인한 염증이 있다.\n",
        "\n",
        "***모낭사이홍반***\n",
        "- 두피에 모세혈관 확장으로 인하여 홍반이나 출혈이 보인다.\n",
        "- 태양열이나 에어컨바람과 같은 약한 자극에도 두피가 쉽게 붉어지고 통증이 있을 수 있다.\n",
        "\n",
        "\n",
        "**미세각질 증상의 고객에게 제품을 추천한다면?**\n",
        "- 건성 두피용 (유수분 부족 해결)\n",
        "- 두피 염증은 크게 고려하지 않아도 된다.\n",
        "- 약한 자극에도 통증이 있기 때문에 민감성 제품 추천\n",
        "\n",
        "\n",
        "\n"
      ],
      "metadata": {
        "id": "pepmnPoJnTeR"
      }
    },
    {
      "cell_type": "markdown",
      "source": [
        "## 3.1.2 상관관계 분석\n",
        "***스피어만 상관 계수***\n",
        "- 스피어만 상관 계수는 두 데이터의 실제 값 대신 두 값의 **순위**를 사용해 상관 계수를 계산하는 방식이다.\n",
        "- 피어슨 상관 계수와 달리 **비선형 관계의 연관성을 파악할 수 있다**는 장점이 있다.\n",
        "- 또한, 연속형 데이터에 적합한 피어슨 상관 계수와 달리 **이산형 데이터, 순서형 데이터에 적용이 가능하다.**\n",
        "\n",
        "***=> 각 value의 값들이 이산형이므로 스피어만 상관 계수 사용***\n",
        "\n"
      ],
      "metadata": {
        "id": "sr3Ne0vDv57X"
      }
    },
    {
      "cell_type": "code",
      "source": [
        "cols = df_1.columns[[2,3,4,5,6,7]]\n",
        "sns.heatmap(df_1[cols].corr(method = 'spearman'), annot=True)\n",
        "plt.show()"
      ],
      "metadata": {
        "colab": {
          "base_uri": "https://localhost:8080/",
          "height": 270
        },
        "id": "ytLI5uIcu5xf",
        "outputId": "885d7104-e828-43bd-aed1-71a9be802f70"
      },
      "execution_count": 13,
      "outputs": [
        {
          "output_type": "display_data",
          "data": {
            "text/plain": [
              "<Figure size 432x288 with 2 Axes>"
            ],
            "image/png": "[encoded data removed]"
          },
          "metadata": {
            "needs_background": "light"
          }
        }
      ]
    },
    {
      "cell_type": "markdown",
      "source": [
        "# 3.2 데이터 분석 (탈모)"
      ],
      "metadata": {
        "id": "-fNFxy5cPy6I"
      }
    },
    {
      "cell_type": "code",
      "source": [
        "li_6 = [\"라벨_탈모_0\", \"라벨_탈모_1\", \"라벨_탈모_2\", \"라벨_탈모_3\"]"
      ],
      "metadata": {
        "id": "kMa5hdc7xl8R"
      },
      "execution_count": 16,
      "outputs": []
    },
    {
      "cell_type": "code",
      "source": [
        "%cd /content/drive/MyDrive/Project4/Dataset/라벨_탈모_0\n",
        "!unzip -qq '/content/drive/MyDrive/Project4/Dataset/[라벨]탈모_0.양호.zip'"
      ],
      "metadata": {
        "colab": {
          "base_uri": "https://localhost:8080/"
        },
        "id": "-QJWpqCEyzGr",
        "outputId": "f711a2fd-9eec-4c33-a8bb-413f847bb6e1"
      },
      "execution_count": null,
      "outputs": [
        {
          "output_type": "stream",
          "name": "stdout",
          "text": [
            "/content/drive/MyDrive/Project4/Dataset/라벨_탈모_0\n"
          ]
        }
      ]
    },
    {
      "cell_type": "code",
      "source": [
        "%cd /content/drive/MyDrive/Project4/Dataset/라벨_탈모_1\n",
        "!unzip -qq '/content/drive/MyDrive/Project4/Dataset/[라벨]탈모_1.경증.zip'"
      ],
      "metadata": {
        "colab": {
          "base_uri": "https://localhost:8080/"
        },
        "id": "RzyNAQQmy9-M",
        "outputId": "a1e8f928-7c0d-4c14-bd86-159b8998dc6c"
      },
      "execution_count": null,
      "outputs": [
        {
          "output_type": "stream",
          "name": "stdout",
          "text": [
            "/content/drive/MyDrive/Project4/Dataset/라벨_탈모_1\n"
          ]
        }
      ]
    },
    {
      "cell_type": "code",
      "source": [
        "%cd /content/drive/MyDrive/Project4/Dataset/라벨_탈모_2\n",
        "!unzip -qq '/content/drive/MyDrive/Project4/Dataset/[라벨]탈모_2.중등도.zip'"
      ],
      "metadata": {
        "colab": {
          "base_uri": "https://localhost:8080/"
        },
        "id": "t-zZskhby-EW",
        "outputId": "699dadb2-1fd0-4997-b45d-6fc109814e88"
      },
      "execution_count": null,
      "outputs": [
        {
          "output_type": "stream",
          "name": "stdout",
          "text": [
            "/content/drive/MyDrive/Project4/Dataset/라벨_탈모_2\n"
          ]
        }
      ]
    },
    {
      "cell_type": "code",
      "source": [
        "%cd /content/drive/MyDrive/Project4/Dataset/라벨_탈모_3\n",
        "!unzip -qq '/content/drive/MyDrive/Project4/Dataset/[라벨]탈모_3.중증.zip'"
      ],
      "metadata": {
        "colab": {
          "base_uri": "https://localhost:8080/"
        },
        "id": "5h5NnKqjy-Lc",
        "outputId": "58b4184f-f038-467e-ee39-a0cfccc50d49"
      },
      "execution_count": null,
      "outputs": [
        {
          "output_type": "stream",
          "name": "stdout",
          "text": [
            "/content/drive/MyDrive/Project4/Dataset/라벨_탈모_3\n"
          ]
        }
      ]
    },
    {
      "cell_type": "code",
      "source": [
        "df_6 = openJson(li_6)"
      ],
      "metadata": {
        "colab": {
          "base_uri": "https://localhost:8080/"
        },
        "id": "VDehd4ETyla3",
        "outputId": "7e4183db-b041-4d4a-b0ff-c311f7f5d17a"
      },
      "execution_count": 17,
      "outputs": [
        {
          "output_type": "stream",
          "name": "stdout",
          "text": [
            "/content/drive/MyDrive/Project4/Dataset/라벨_탈모_0/\n",
            "152\n",
            "/content/drive/MyDrive/Project4/Dataset/라벨_탈모_1/\n",
            "3813\n",
            "/content/drive/MyDrive/Project4/Dataset/라벨_탈모_2/\n",
            "1084\n",
            "/content/drive/MyDrive/Project4/Dataset/라벨_탈모_3/\n",
            "239\n"
          ]
        }
      ]
    },
    {
      "cell_type": "code",
      "source": [
        "df_6"
      ],
      "metadata": {
        "colab": {
          "base_uri": "https://localhost:8080/",
          "height": 424
        },
        "id": "vWOiCTnT2etN",
        "outputId": "1b6ecf3f-eedc-45c1-e251-9fd307c182c7"
      },
      "execution_count": 18,
      "outputs": [
        {
          "output_type": "execute_result",
          "data": {
            "text/plain": [
              "                                  image_id  \\\n",
              "0     8896_A2LEBJJDE001807_1606455960324_3   \n",
              "1         8781_A2LEBJJDE000906_539482042_3   \n",
              "2     8814_A2LEBJJDE00118S_1603072051977_4   \n",
              "3     9414_A2LEBJJDE00033L_1605521474634_6   \n",
              "4     7297_A2LEBJJDE00151I_1606701309614_4   \n",
              "...                                    ...   \n",
              "5279  1981_A2LEBJJDE001493_1606634009469_5   \n",
              "5280  0715_A2LEBJJDE00175D_1608812596197_3   \n",
              "5281  4370_A1LCAIHDH00005Q_1607837222616_5   \n",
              "5282  4970_A1LCAIHDH00010K_1608355030996_5   \n",
              "5283  8297_A2LEBJJDE001076_1607322755114_3   \n",
              "\n",
              "                                  image_file_name value_1 value_2 value_3  \\\n",
              "0     8896_A2LEBJJDE001807_1606455960324_3_TH.jpg       0       0       0   \n",
              "1         8781_A2LEBJJDE000906_539482042_3_TH.jpg       0       0       0   \n",
              "2     8814_A2LEBJJDE00118S_1603072051977_4_LH.jpg       0       0       0   \n",
              "3     9414_A2LEBJJDE00033L_1605521474634_6_BH.jpg       0       0       0   \n",
              "4     7297_A2LEBJJDE00151I_1606701309614_4_LH.jpg       0       0       0   \n",
              "...                                           ...     ...     ...     ...   \n",
              "5279  1981_A2LEBJJDE001493_1606634009469_5_RH.jpg       2       0       2   \n",
              "5280  0715_A2LEBJJDE00175D_1608812596197_3_TH.jpg       0       2       1   \n",
              "5281  4370_A1LCAIHDH00005Q_1607837222616_5_RH.jpg       1       0       0   \n",
              "5282  4970_A1LCAIHDH00010K_1608355030996_5_RH.jpg       0       1       0   \n",
              "5283  8297_A2LEBJJDE001076_1607322755114_3_TH.jpg       0       1       2   \n",
              "\n",
              "     value_4 value_5 value_6  \n",
              "0          0       0       0  \n",
              "1          0       0       0  \n",
              "2          0       0       0  \n",
              "3          0       0       0  \n",
              "4          0       0       0  \n",
              "...      ...     ...     ...  \n",
              "5279       0       0       3  \n",
              "5280       0       0       3  \n",
              "5281       0       0       3  \n",
              "5282       0       0       3  \n",
              "5283       0       0       3  \n",
              "\n",
              "[5284 rows x 8 columns]"
            ],
            "text/html": [
              "\n",
              "  <div id=\"df-58950465-4c52-4af6-8547-cecb2ce6c8de\">\n",
              "    <div class=\"colab-df-container\">\n",
              "      <div>\n",
              "<style scoped>\n",
              "    .dataframe tbody tr th:only-of-type {\n",
              "        vertical-align: middle;\n",
              "    }\n",
              "\n",
              "    .dataframe tbody tr th {\n",
              "        vertical-align: top;\n",
              "    }\n",
              "\n",
              "    .dataframe thead th {\n",
              "        text-align: right;\n",
              "    }\n",
              "</style>\n",
              "<table border=\"1\" class=\"dataframe\">\n",
              "  <thead>\n",
              "    <tr style=\"text-align: right;\">\n",
              "      <th></th>\n",
              "      <th>image_id</th>\n",
              "      <th>image_file_name</th>\n",
              "      <th>value_1</th>\n",
              "      <th>value_2</th>\n",
              "      <th>value_3</th>\n",
              "      <th>value_4</th>\n",
              "      <th>value_5</th>\n",
              "      <th>value_6</th>\n",
              "    </tr>\n",
              "  </thead>\n",
              "  <tbody>\n",
              "    <tr>\n",
              "      <th>0</th>\n",
              "      <td>8896_A2LEBJJDE001807_1606455960324_3</td>\n",
              "      <td>8896_A2LEBJJDE001807_1606455960324_3_TH.jpg</td>\n",
              "      <td>0</td>\n",
              "      <td>0</td>\n",
              "      <td>0</td>\n",
              "      <td>0</td>\n",
              "      <td>0</td>\n",
              "      <td>0</td>\n",
              "    </tr>\n",
              "    <tr>\n",
              "      <th>1</th>\n",
              "      <td>8781_A2LEBJJDE000906_539482042_3</td>\n",
              "      <td>8781_A2LEBJJDE000906_539482042_3_TH.jpg</td>\n",
              "      <td>0</td>\n",
              "      <td>0</td>\n",
              "      <td>0</td>\n",
              "      <td>0</td>\n",
              "      <td>0</td>\n",
              "      <td>0</td>\n",
              "    </tr>\n",
              "    <tr>\n",
              "      <th>2</th>\n",
              "      <td>8814_A2LEBJJDE00118S_1603072051977_4</td>\n",
              "      <td>8814_A2LEBJJDE00118S_1603072051977_4_LH.jpg</td>\n",
              "      <td>0</td>\n",
              "      <td>0</td>\n",
              "      <td>0</td>\n",
              "      <td>0</td>\n",
              "      <td>0</td>\n",
              "      <td>0</td>\n",
              "    </tr>\n",
              "    <tr>\n",
              "      <th>3</th>\n",
              "      <td>9414_A2LEBJJDE00033L_1605521474634_6</td>\n",
              "      <td>9414_A2LEBJJDE00033L_1605521474634_6_BH.jpg</td>\n",
              "      <td>0</td>\n",
              "      <td>0</td>\n",
              "      <td>0</td>\n",
              "      <td>0</td>\n",
              "      <td>0</td>\n",
              "      <td>0</td>\n",
              "    </tr>\n",
              "    <tr>\n",
              "      <th>4</th>\n",
              "      <td>7297_A2LEBJJDE00151I_1606701309614_4</td>\n",
              "      <td>7297_A2LEBJJDE00151I_1606701309614_4_LH.jpg</td>\n",
              "      <td>0</td>\n",
              "      <td>0</td>\n",
              "      <td>0</td>\n",
              "      <td>0</td>\n",
              "      <td>0</td>\n",
              "      <td>0</td>\n",
              "    </tr>\n",
              "    <tr>\n",
              "      <th>...</th>\n",
              "      <td>...</td>\n",
              "      <td>...</td>\n",
              "      <td>...</td>\n",
              "      <td>...</td>\n",
              "      <td>...</td>\n",
              "      <td>...</td>\n",
              "      <td>...</td>\n",
              "      <td>...</td>\n",
              "    </tr>\n",
              "    <tr>\n",
              "      <th>5279</th>\n",
              "      <td>1981_A2LEBJJDE001493_1606634009469_5</td>\n",
              "      <td>1981_A2LEBJJDE001493_1606634009469_5_RH.jpg</td>\n",
              "      <td>2</td>\n",
              "      <td>0</td>\n",
              "      <td>2</td>\n",
              "      <td>0</td>\n",
              "      <td>0</td>\n",
              "      <td>3</td>\n",
              "    </tr>\n",
              "    <tr>\n",
              "      <th>5280</th>\n",
              "      <td>0715_A2LEBJJDE00175D_1608812596197_3</td>\n",
              "      <td>0715_A2LEBJJDE00175D_1608812596197_3_TH.jpg</td>\n",
              "      <td>0</td>\n",
              "      <td>2</td>\n",
              "      <td>1</td>\n",
              "      <td>0</td>\n",
              "      <td>0</td>\n",
              "      <td>3</td>\n",
              "    </tr>\n",
              "    <tr>\n",
              "      <th>5281</th>\n",
              "      <td>4370_A1LCAIHDH00005Q_1607837222616_5</td>\n",
              "      <td>4370_A1LCAIHDH00005Q_1607837222616_5_RH.jpg</td>\n",
              "      <td>1</td>\n",
              "      <td>0</td>\n",
              "      <td>0</td>\n",
              "      <td>0</td>\n",
              "      <td>0</td>\n",
              "      <td>3</td>\n",
              "    </tr>\n",
              "    <tr>\n",
              "      <th>5282</th>\n",
              "      <td>4970_A1LCAIHDH00010K_1608355030996_5</td>\n",
              "      <td>4970_A1LCAIHDH00010K_1608355030996_5_RH.jpg</td>\n",
              "      <td>0</td>\n",
              "      <td>1</td>\n",
              "      <td>0</td>\n",
              "      <td>0</td>\n",
              "      <td>0</td>\n",
              "      <td>3</td>\n",
              "    </tr>\n",
              "    <tr>\n",
              "      <th>5283</th>\n",
              "      <td>8297_A2LEBJJDE001076_1607322755114_3</td>\n",
              "      <td>8297_A2LEBJJDE001076_1607322755114_3_TH.jpg</td>\n",
              "      <td>0</td>\n",
              "      <td>1</td>\n",
              "      <td>2</td>\n",
              "      <td>0</td>\n",
              "      <td>0</td>\n",
              "      <td>3</td>\n",
              "    </tr>\n",
              "  </tbody>\n",
              "</table>\n",
              "<p>5284 rows × 8 columns</p>\n",
              "</div>\n",
              "      <button class=\"colab-df-convert\" onclick=\"convertToInteractive('df-58950465-4c52-4af6-8547-cecb2ce6c8de')\"\n",
              "              title=\"Convert this dataframe to an interactive table.\"\n",
              "              style=\"display:none;\">\n",
              "        \n",
              "  <svg xmlns=\"http://www.w3.org/2000/svg\" height=\"24px\"viewBox=\"0 0 24 24\"\n",
              "       width=\"24px\">\n",
              "    <path d=\"M0 0h24v24H0V0z\" fill=\"none\"/>\n",
              "    <path d=\"M18.56 5.44l.94 2.06.94-2.06 2.06-.94-2.06-.94-.94-2.06-.94 2.06-2.06.94zm-11 1L8.5 8.5l.94-2.06 2.06-.94-2.06-.94L8.5 2.5l-.94 2.06-2.06.94zm10 10l.94 2.06.94-2.06 2.06-.94-2.06-.94-.94-2.06-.94 2.06-2.06.94z\"/><path d=\"M17.41 7.96l-1.37-1.37c-.4-.4-.92-.59-1.43-.59-.52 0-1.04.2-1.43.59L10.3 9.45l-7.72 7.72c-.78.78-.78 2.05 0 2.83L4 21.41c.39.39.9.59 1.41.59.51 0 1.02-.2 1.41-.59l7.78-7.78 2.81-2.81c.8-.78.8-2.07 0-2.86zM5.41 20L4 18.59l7.72-7.72 1.47 1.35L5.41 20z\"/>\n",
              "  </svg>\n",
              "      </button>\n",
              "      \n",
              "  <style>\n",
              "    .colab-df-container {\n",
              "      display:flex;\n",
              "      flex-wrap:wrap;\n",
              "      gap: 12px;\n",
              "    }\n",
              "\n",
              "    .colab-df-convert {\n",
              "      background-color: #E8F0FE;\n",
              "      border: none;\n",
              "      border-radius: 50%;\n",
              "      cursor: pointer;\n",
              "      display: none;\n",
              "      fill: #1967D2;\n",
              "      height: 32px;\n",
              "      padding: 0 0 0 0;\n",
              "      width: 32px;\n",
              "    }\n",
              "\n",
              "    .colab-df-convert:hover {\n",
              "      background-color: #E2EBFA;\n",
              "      box-shadow: 0px 1px 2px rgba(60, 64, 67, 0.3), 0px 1px 3px 1px rgba(60, 64, 67, 0.15);\n",
              "      fill: #174EA6;\n",
              "    }\n",
              "\n",
              "    [theme=dark] .colab-df-convert {\n",
              "      background-color: #3B4455;\n",
              "      fill: #D2E3FC;\n",
              "    }\n",
              "\n",
              "    [theme=dark] .colab-df-convert:hover {\n",
              "      background-color: #434B5C;\n",
              "      box-shadow: 0px 1px 3px 1px rgba(0, 0, 0, 0.15);\n",
              "      filter: drop-shadow(0px 1px 2px rgba(0, 0, 0, 0.3));\n",
              "      fill: #FFFFFF;\n",
              "    }\n",
              "  </style>\n",
              "\n",
              "      <script>\n",
              "        const buttonEl =\n",
              "          document.querySelector('#df-58950465-4c52-4af6-8547-cecb2ce6c8de button.colab-df-convert');\n",
              "        buttonEl.style.display =\n",
              "          google.colab.kernel.accessAllowed ? 'block' : 'none';\n",
              "\n",
              "        async function convertToInteractive(key) {\n",
              "          const element = document.querySelector('#df-58950465-4c52-4af6-8547-cecb2ce6c8de');\n",
              "          const dataTable =\n",
              "            await google.colab.kernel.invokeFunction('convertToInteractive',\n",
              "                                                     [key], {});\n",
              "          if (!dataTable) return;\n",
              "\n",
              "          const docLinkHtml = 'Like what you see? Visit the ' +\n",
              "            '<a target=\"_blank\" href=https://colab.research.google.com/notebooks/data_table.ipynb>data table notebook</a>'\n",
              "            + ' to learn more about interactive tables.';\n",
              "          element.innerHTML = '';\n",
              "          dataTable['output_type'] = 'display_data';\n",
              "          await google.colab.output.renderOutput(dataTable, element);\n",
              "          const docLink = document.createElement('div');\n",
              "          docLink.innerHTML = docLinkHtml;\n",
              "          element.appendChild(docLink);\n",
              "        }\n",
              "      </script>\n",
              "    </div>\n",
              "  </div>\n",
              "  "
            ]
          },
          "metadata": {},
          "execution_count": 18
        }
      ]
    },
    {
      "cell_type": "markdown",
      "source": [
        "## 3.2.1 시각화"
      ],
      "metadata": {
        "id": "TELiKBIrwwxH"
      }
    },
    {
      "cell_type": "code",
      "source": [
        "# 그래프 x축 정렬을 위해 int 타입으로 변환\n",
        "df_6 = df_6.astype({'value_1':'int','value_2':'int', 'value_3':'int', 'value_4':'int', 'value_5':'int', 'value_6':'int'})"
      ],
      "metadata": {
        "id": "4cty2qdXmQVI"
      },
      "execution_count": 19,
      "outputs": []
    },
    {
      "cell_type": "code",
      "source": [
        "plt.figure(figsize=(17,8))\n",
        "ax = sns.countplot(x='value_6', data=df_6)\n",
        "for p in ax.patches:\n",
        "    height = p.get_height()\n",
        "    ax.text(p.get_x() + p.get_width() / 2., height + 3, height, ha = 'center', size = 9)\n",
        "plt.show()"
      ],
      "metadata": {
        "colab": {
          "base_uri": "https://localhost:8080/",
          "height": 501
        },
        "outputId": "c0f581d5-fc04-45e4-f8a2-476bc95239ac",
        "id": "vqTaQ2g12ykv"
      },
      "execution_count": 20,
      "outputs": [
        {
          "output_type": "display_data",
          "data": {
            "text/plain": [
              "<Figure size 1224x576 with 1 Axes>"
            ],
            "image/png": "[encoded data removed]"
          },
          "metadata": {
            "needs_background": "light"
          }
        }
      ]
    },
    {
      "cell_type": "code",
      "source": [
        "# 미세각질\n",
        "plt.figure(figsize=(17,8))\n",
        "ax = sns.countplot(x='value_6', data=df_6.sort_values(by = 'value_1'), hue='value_1')\n",
        "for p in ax.patches:\n",
        "    height = p.get_height()\n",
        "    ax.text(p.get_x() + p.get_width() / 2., height + 3, height, ha = 'center', size = 9)\n",
        "plt.show()"
      ],
      "metadata": {
        "colab": {
          "base_uri": "https://localhost:8080/",
          "height": 607
        },
        "outputId": "564efc4d-1cab-46ae-dac7-1f6467c005a3",
        "id": "a7FxsXLW2yky"
      },
      "execution_count": 21,
      "outputs": [
        {
          "output_type": "stream",
          "name": "stderr",
          "text": [
            "WARNING:matplotlib.text:posx and posy should be finite values\n",
            "WARNING:matplotlib.text:posx and posy should be finite values\n",
            "WARNING:matplotlib.text:posx and posy should be finite values\n",
            "WARNING:matplotlib.text:posx and posy should be finite values\n",
            "WARNING:matplotlib.text:posx and posy should be finite values\n",
            "WARNING:matplotlib.text:posx and posy should be finite values\n"
          ]
        },
        {
          "output_type": "display_data",
          "data": {
            "text/plain": [
              "<Figure size 1224x576 with 1 Axes>"
            ],
            "image/png": "[encoded data removed]"
          },
          "metadata": {
            "needs_background": "light"
          }
        }
      ]
    },
    {
      "cell_type": "code",
      "source": [
        "# 피지과다\n",
        "plt.figure(figsize=(17,8))\n",
        "ax = sns.countplot(x='value_6', data=df_6.sort_values(by = 'value_2'), hue='value_2')\n",
        "for p in ax.patches:\n",
        "    height = p.get_height()\n",
        "    ax.text(p.get_x() + p.get_width() / 2., height + 3, height, ha = 'center', size = 9)\n",
        "plt.show()"
      ],
      "metadata": {
        "colab": {
          "base_uri": "https://localhost:8080/",
          "height": 643
        },
        "outputId": "625647f3-52c4-4d68-f8c0-92652e8a47ed",
        "id": "qpMeBb1w2ykw"
      },
      "execution_count": 22,
      "outputs": [
        {
          "output_type": "stream",
          "name": "stderr",
          "text": [
            "WARNING:matplotlib.text:posx and posy should be finite values\n",
            "WARNING:matplotlib.text:posx and posy should be finite values\n",
            "WARNING:matplotlib.text:posx and posy should be finite values\n",
            "WARNING:matplotlib.text:posx and posy should be finite values\n",
            "WARNING:matplotlib.text:posx and posy should be finite values\n",
            "WARNING:matplotlib.text:posx and posy should be finite values\n",
            "WARNING:matplotlib.text:posx and posy should be finite values\n",
            "WARNING:matplotlib.text:posx and posy should be finite values\n"
          ]
        },
        {
          "output_type": "display_data",
          "data": {
            "text/plain": [
              "<Figure size 1224x576 with 1 Axes>"
            ],
            "image/png": "[encoded data removed]"
          },
          "metadata": {
            "needs_background": "light"
          }
        }
      ]
    },
    {
      "cell_type": "code",
      "source": [
        "# 모낭사이홍반\n",
        "plt.figure(figsize=(17,8))\n",
        "ax = sns.countplot(x='value_6', data=df_6.sort_values(by = 'value_3'), hue='value_3')\n",
        "for p in ax.patches:\n",
        "    height = p.get_height()\n",
        "    ax.text(p.get_x() + p.get_width() / 2., height + 3, height, ha = 'center', size = 9)\n",
        "plt.show()"
      ],
      "metadata": {
        "colab": {
          "base_uri": "https://localhost:8080/",
          "height": 607
        },
        "outputId": "9ae1eff6-e6d2-4aa4-9aad-882eeeeefcd5",
        "id": "Jx4B9skk2ykx"
      },
      "execution_count": 23,
      "outputs": [
        {
          "output_type": "stream",
          "name": "stderr",
          "text": [
            "WARNING:matplotlib.text:posx and posy should be finite values\n",
            "WARNING:matplotlib.text:posx and posy should be finite values\n",
            "WARNING:matplotlib.text:posx and posy should be finite values\n",
            "WARNING:matplotlib.text:posx and posy should be finite values\n",
            "WARNING:matplotlib.text:posx and posy should be finite values\n",
            "WARNING:matplotlib.text:posx and posy should be finite values\n"
          ]
        },
        {
          "output_type": "display_data",
          "data": {
            "text/plain": [
              "<Figure size 1224x576 with 1 Axes>"
            ],
            "image/png": "[encoded data removed]"
          },
          "metadata": {
            "needs_background": "light"
          }
        }
      ]
    },
    {
      "cell_type": "code",
      "source": [
        "# 모낭홍반/농포\n",
        "plt.figure(figsize=(17,8))\n",
        "ax = sns.countplot(x='value_6', data=df_6.sort_values(by = 'value_4'), hue='value_4')\n",
        "for p in ax.patches:\n",
        "    height = p.get_height()\n",
        "    ax.text(p.get_x() + p.get_width() / 2., height + 3, height, ha = 'center', size = 9)\n",
        "plt.show()"
      ],
      "metadata": {
        "colab": {
          "base_uri": "https://localhost:8080/",
          "height": 607
        },
        "outputId": "ef8e741c-dcdb-46d5-b7b6-81de35ff29d2",
        "id": "icFMS3k-2ykx"
      },
      "execution_count": 24,
      "outputs": [
        {
          "output_type": "stream",
          "name": "stderr",
          "text": [
            "WARNING:matplotlib.text:posx and posy should be finite values\n",
            "WARNING:matplotlib.text:posx and posy should be finite values\n",
            "WARNING:matplotlib.text:posx and posy should be finite values\n",
            "WARNING:matplotlib.text:posx and posy should be finite values\n",
            "WARNING:matplotlib.text:posx and posy should be finite values\n",
            "WARNING:matplotlib.text:posx and posy should be finite values\n"
          ]
        },
        {
          "output_type": "display_data",
          "data": {
            "text/plain": [
              "<Figure size 1224x576 with 1 Axes>"
            ],
            "image/png": "[encoded data removed]"
          },
          "metadata": {
            "needs_background": "light"
          }
        }
      ]
    },
    {
      "cell_type": "code",
      "source": [
        "# 비듬\n",
        "plt.figure(figsize=(17,8))\n",
        "ax = sns.countplot(x='value_6', data=df_6.sort_values(by = 'value_5'), hue='value_5')\n",
        "for p in ax.patches:\n",
        "    height = p.get_height()\n",
        "    ax.text(p.get_x() + p.get_width() / 2., height + 3, height, ha = 'center', size = 9)\n",
        "plt.show()"
      ],
      "metadata": {
        "colab": {
          "base_uri": "https://localhost:8080/",
          "height": 607
        },
        "outputId": "7a9bc2a4-d432-482a-c71c-1729e69338ae",
        "id": "cK3-Qz5p2ykx"
      },
      "execution_count": 25,
      "outputs": [
        {
          "output_type": "stream",
          "name": "stderr",
          "text": [
            "WARNING:matplotlib.text:posx and posy should be finite values\n",
            "WARNING:matplotlib.text:posx and posy should be finite values\n",
            "WARNING:matplotlib.text:posx and posy should be finite values\n",
            "WARNING:matplotlib.text:posx and posy should be finite values\n",
            "WARNING:matplotlib.text:posx and posy should be finite values\n",
            "WARNING:matplotlib.text:posx and posy should be finite values\n"
          ]
        },
        {
          "output_type": "display_data",
          "data": {
            "text/plain": [
              "<Figure size 1224x576 with 1 Axes>"
            ],
            "image/png": "[encoded data removed]"
          },
          "metadata": {
            "needs_background": "light"
          }
        }
      ]
    },
    {
      "cell_type": "markdown",
      "source": [
        "count polt을 확인해본 결과,\n",
        "\n",
        "- value 1, 4 (미세각질, 모낭홍반/농포)는 탈모 강도가 증가하여도 눈에 띄게 강도 0 값이 많은 것을 확인하였다.\n",
        "- ***가설 1: 탈모와 미세각질/모낭홍반/농포는 동반되는 경우가 드물다.***\n",
        "- value 2, 3 (피지과다, 모낭사이홍반)은 탈모 강도가 증가함에 따라 증상이 있는 경우가 확연히 많았다.\n",
        "- ***가설 2: 탈모, 피지과다, 모낭사이홍반 증상은 함께 동반되는 경우가 많다.***\n",
        "\n",
        "\n",
        "***탈모***\n",
        "- 모발이 있어야 할 부위에 없거나 연모화가 빠르게 진행되는 것이 특징이다.\n",
        "- 유전, 호르몬, 환경 등 복합적인 영향이 원인이다.\n",
        "- 환경적인 탈모의 경우 가려움을 동반하기도 하고 비듬과 피지분비량이 증가한다고 한다.\n",
        "- 유전적인 탈모의 경우 특별한 이상이 관찰되지 않으며, 밀도가 급격히 낮아지는 것이 특징이다.\n",
        "\n",
        "***미세각질***\n",
        "- 두피표면의 천연보습인자(NMF) 부족과 피지선 기능이 저하되어 조기 박리증 증상을 보인다.\n",
        "- 잔 각질이 관찰되며 모공 주변으로 나이테 모양의 각질층을 형성한다.\n",
        "- 유수분의 부족으로 당김현상이나 가려움증을 호소한다.\n",
        "\n",
        "***모낭홍반/농포***\n",
        "- 두피가 붉은 색을 띠며 표면에 홍반이 확인되는 경우가 있다.\n",
        "- 세균감염으로 인한 염증이 있다.\n",
        "\n",
        "***피지과다***\n",
        "- 피지분비 과다로 두피 표면이 번들거리고 두피색은 탁하다.\n",
        "- 모공에 물이 고여있는 것처럼 관찰되며 모발밀도가 낮다.\n",
        "- 심한 경우 피지산화 및 세균으로 인한 악취, 떡비듬, 지루성염증을 동반하기도 한다.\n",
        "\n",
        "***모낭사이홍반***\n",
        "- 두피에 모세혈관 확장으로 인하여 홍반이나 출혈이 보인다.\n",
        "- 태양열이나 에어컨바람과 같은 약한 자극에도 두피가 쉽게 붉어지고 통증이 있을 수 있다.\n",
        "\n",
        "**탈모 증상의 고객에게 제품을 추천한다면?**\n",
        "- 지성 두피용 (유수분 부족 해결)\n",
        "- 약한 자극에도 통증이 있기 때문에 민감성 제품 추천\n",
        "- 두피 염증은 크게 고려하지 않아도 된다.\n",
        "\n"
      ],
      "metadata": {
        "id": "A3IFEk-2ic8h"
      }
    },
    {
      "cell_type": "markdown",
      "source": [
        "## 3.2.2 상관관계 분석"
      ],
      "metadata": {
        "id": "66domXYUw3Wq"
      }
    },
    {
      "cell_type": "code",
      "source": [
        "cols = df_6.columns[[2,3,4,5,6,7]]\n",
        "sns.heatmap(df_6[cols].corr(method = 'spearman'), annot=True, cmap=\"RdBu\")\n",
        "plt.show()"
      ],
      "metadata": {
        "colab": {
          "base_uri": "https://localhost:8080/",
          "height": 270
        },
        "id": "7vHD8L1mrht0",
        "outputId": "565d32db-41e0-4f3a-c20d-ff6399238c20"
      },
      "execution_count": 26,
      "outputs": [
        {
          "output_type": "display_data",
          "data": {
            "text/plain": [
              "<Figure size 432x288 with 2 Axes>"
            ],
            "image/png": "[encoded data removed]"
          },
          "metadata": {
            "needs_background": "light"
          }
        }
      ]
    },
    {
      "cell_type": "markdown",
      "source": [
        "# 4.이미지 처리"
      ],
      "metadata": {
        "id": "2Wetj9Ttgo31"
      }
    },
    {
      "cell_type": "markdown",
      "source": [
        "# 4.1 train/test set 준비"
      ],
      "metadata": {
        "id": "e1zGky8tpjF0"
      }
    },
    {
      "cell_type": "code",
      "source": [
        "train_df, test_df = train_test_split(df_1, test_size = 0.2, random_state=1, stratify=df_1['value_1'])"
      ],
      "metadata": {
        "id": "4W7b2HVepnp4"
      },
      "execution_count": 29,
      "outputs": []
    },
    {
      "cell_type": "code",
      "source": [
        "print(\"Train set rows: {}\".format(train_df.shape[0]))\n",
        "print(\"Test  set rows: {}\".format(test_df.shape[0]))"
      ],
      "metadata": {
        "colab": {
          "base_uri": "https://localhost:8080/"
        },
        "id": "MEqR2iE9p_4X",
        "outputId": "8fb822ce-10b3-4896-f873-16a466b43c9c"
      },
      "execution_count": 30,
      "outputs": [
        {
          "output_type": "stream",
          "name": "stdout",
          "text": [
            "Train set rows: 2911\n",
            "Test  set rows: 728\n"
          ]
        }
      ]
    },
    {
      "cell_type": "code",
      "source": [
        "path_images = \"/content/drive/MyDrive/Project4/Dataset/원천_미세각질/\""
      ],
      "metadata": {
        "id": "WcCS4iALuSTl"
      },
      "execution_count": 31,
      "outputs": []
    },
    {
      "cell_type": "code",
      "source": [
        "def read_image(file_name):\n",
        "  image = skimage.io.imread(path_images + file_name) / 255\n",
        "  image = skimage.transform.resize(image, (224, 224), mode='reflect')\n",
        "  #print(file_name)\n",
        "  return image[:,:,:3]"
      ],
      "metadata": {
        "id": "k58UA1PxrT-J"
      },
      "execution_count": 76,
      "outputs": []
    },
    {
      "cell_type": "code",
      "source": [
        "def categories_encoder(dataset, var):\n",
        "  X=np.stack(dataset['image_file_name'].apply(read_image))\n",
        "  y = pd.get_dummies(dataset[var], drop_first=False)\n",
        "  return X,y"
      ],
      "metadata": {
        "id": "EK-p0lh7r-Hq"
      },
      "execution_count": 77,
      "outputs": []
    },
    {
      "cell_type": "code",
      "source": [
        "X_train, y_train = categories_encoder(train_df, 'value_1')"
      ],
      "metadata": {
        "id": "sYG6hhCrPxLG"
      },
      "execution_count": 78,
      "outputs": []
    },
    {
      "cell_type": "code",
      "source": [
        "X_test, y_test = categories_encoder(test_df, 'value_1')"
      ],
      "metadata": {
        "id": "q1bgPCAuPzd8"
      },
      "execution_count": 79,
      "outputs": []
    },
    {
      "cell_type": "code",
      "source": [
        "#np 배열 저장\n",
        "np.save('/content/drive/MyDrive/Project4/Dataset/X_train_1', X_train)\n",
        "np.save('/content/drive/MyDrive/Project4/Dataset/X_test_1', X_test)"
      ],
      "metadata": {
        "id": "HS-8TXtUtddM"
      },
      "execution_count": 16,
      "outputs": []
    },
    {
      "cell_type": "code",
      "source": [
        "print(X_train.shape)\n",
        "print(y_train.shape)\n",
        "print(X_test.shape)\n",
        "print(y_test.shape)"
      ],
      "metadata": {
        "colab": {
          "base_uri": "https://localhost:8080/"
        },
        "id": "1wpOZihLsztH",
        "outputId": "37d0ac34-2a4b-4a42-b8d3-dada34533446"
      },
      "execution_count": 80,
      "outputs": [
        {
          "output_type": "stream",
          "name": "stdout",
          "text": [
            "(2911, 224, 224, 3)\n",
            "(2911, 4)\n",
            "(728, 224, 224, 3)\n",
            "(728, 4)\n"
          ]
        }
      ]
    },
    {
      "cell_type": "code",
      "source": [
        "#이미지 augmentation\n",
        "from skimage import transform\n",
        "from skimage.transform import rotate, AffineTransform\n",
        "from skimage.util import random_noise\n",
        "from skimage.filters import gaussian\n",
        "def read_image_2(file_name):\n",
        "  image = skimage.io.imread(path_images + file_name) / 255\n",
        "  image = skimage.transform.resize(image, (224, 224), mode='reflect')\n",
        "  #noised = random_noise(image, var=0.1**2)\n",
        "  image2 = rotate(image, angle=45)\n",
        "  tf = AffineTransform(shear=-0.5)\n",
        "  image2 = transform.warp(image2, tf, order=1, preserve_range=True)\n",
        "\n",
        "  #print(file_name)\n",
        "  return image2[:,:,:3]"
      ],
      "metadata": {
        "id": "9sjiuHyBoubn"
      },
      "execution_count": 81,
      "outputs": []
    },
    {
      "cell_type": "code",
      "source": [
        "def categories_encoder_2(dataset, var):\n",
        "  X=np.stack(dataset['image_file_name'].apply(read_image_2))\n",
        "  y = pd.get_dummies(dataset[var], drop_first=False)\n",
        "  return X,y"
      ],
      "metadata": {
        "id": "THwBJahRpO72"
      },
      "execution_count": 82,
      "outputs": []
    },
    {
      "cell_type": "code",
      "source": [
        "X_train_a, y_train_a = categories_encoder_2(train_df, 'value_1')"
      ],
      "metadata": {
        "id": "uTbdv0DCpzao"
      },
      "execution_count": 83,
      "outputs": []
    },
    {
      "cell_type": "code",
      "source": [
        "print(X_train_a.shape)\n",
        "print(y_train_a.shape)"
      ],
      "metadata": {
        "colab": {
          "base_uri": "https://localhost:8080/"
        },
        "id": "v2Oor2R5q5l9",
        "outputId": "a1234548-f20c-44c0-bd9f-4ebd88659f76"
      },
      "execution_count": 85,
      "outputs": [
        {
          "output_type": "stream",
          "name": "stdout",
          "text": [
            "(2911, 224, 224, 3)\n",
            "(2911, 4)\n"
          ]
        }
      ]
    },
    {
      "cell_type": "code",
      "source": [
        "#최종 학습 데이터셋\n",
        "X_train_final = np.concatenate((X_train, X_train_a), axis = 0)\n",
        "y_train_final = pd.concat([y_train, y_train_a], ignore_index=True)"
      ],
      "metadata": {
        "id": "KcIDAvZzvGm3"
      },
      "execution_count": 90,
      "outputs": []
    },
    {
      "cell_type": "code",
      "source": [
        "np.save('/content/drive/MyDrive/Project4/Dataset/X_train', X_train)"
      ],
      "metadata": {
        "id": "wQXrvhDBumrF"
      },
      "execution_count": 84,
      "outputs": []
    },
    {
      "cell_type": "code",
      "source": [
        "np.save('/content/drive/MyDrive/Project4/Dataset/X_train_a', X_train_a)"
      ],
      "metadata": {
        "id": "2zsEZbj4-D0l"
      },
      "execution_count": 86,
      "outputs": []
    },
    {
      "cell_type": "code",
      "source": [
        "y_train.to_csv('/content/drive/MyDrive/Project4/Dataset/y_train.csv')\n",
        "y_train_a.to_csv('/content/drive/MyDrive/Project4/Dataset/y_train_a.csv')"
      ],
      "metadata": {
        "id": "4drKqQwK-fen"
      },
      "execution_count": 87,
      "outputs": []
    },
    {
      "cell_type": "code",
      "source": [
        "np.save('/content/drive/MyDrive/Project4/Dataset/X_test', X_test)\n",
        "y_test.to_csv('/content/drive/MyDrive/Project4/Dataset/y_test.csv')"
      ],
      "metadata": {
        "id": "iZNBENnE_nlQ"
      },
      "execution_count": 88,
      "outputs": []
    },
    {
      "cell_type": "code",
      "source": [
        "#저장된 배열로 쓸 때\n",
        "X_train = np.load('/content/drive/MyDrive/Project4/Dataset/X_train.npy')\n",
        "y_train = pd.read_csv('/content/drive/MyDrive/Project4/Dataset/y_train.csv')\n",
        "\n",
        "X_train_a = np.load('/content/drive/MyDrive/Project4/Dataset/X_train_a.npy')\n",
        "y_train_a = pd.read_csv('/content/drive/MyDrive/Project4/Dataset/y_train_a.csv')\n",
        "\n",
        "X_test = np.load('/content/drive/MyDrive/Project4/Dataset/X_test.npy')\n",
        "y_test = pd.read_csv('/content/drive/MyDrive/Project4/Dataset/y_test.csv')"
      ],
      "metadata": {
        "id": "OQLcSeZn4n5O"
      },
      "execution_count": 16,
      "outputs": []
    },
    {
      "cell_type": "code",
      "source": [
        "print(X_train_final.shape)\n",
        "print(X_test.shape)\n",
        "print(y_train_final.shape)\n",
        "print(y_test.shape)"
      ],
      "metadata": {
        "colab": {
          "base_uri": "https://localhost:8080/"
        },
        "id": "t2feRY2c3cwH",
        "outputId": "84b7ba54-7bf9-447f-b348-6fb534f3c6a0"
      },
      "execution_count": 92,
      "outputs": [
        {
          "output_type": "stream",
          "name": "stdout",
          "text": [
            "(5822, 224, 224, 3)\n",
            "(728, 224, 224, 3)\n",
            "(5822, 4)\n",
            "(728, 4)\n"
          ]
        }
      ]
    },
    {
      "cell_type": "markdown",
      "source": [
        "# 4.2 모델링 및 학습"
      ],
      "metadata": {
        "id": "N1N_UwjGO5Kw"
      }
    },
    {
      "cell_type": "code",
      "source": [
        "#하이퍼 파라미터 생성\n",
        "INPUT_SHAPE = (100, 100, 3) # 입력 데이터가 들어가는 포멧 설정\n",
        "OUTPUT_SHAPE = 4 # 출력 데이터가 나오는 포멧 설정\n",
        "BATCH_SIZE = 64 # 한 번에 처리할 데이터량 설정\n",
        "EPOCHS = 70 # 신경망을 학습할 횟수\n",
        "VERBOSE = 1 # 학습 진행 상황 출력 모드 설정 "
      ],
      "metadata": {
        "id": "Eo_LOfZ2q2AL"
      },
      "execution_count": 46,
      "outputs": []
    },
    {
      "cell_type": "code",
      "source": [
        "#VGG net\n",
        "from keras.layers import BatchNormalization, Dropout, Activation\n",
        "\n",
        "from tensorflow.keras.models import Sequential\n",
        "from tensorflow.keras.layers import Conv2D, MaxPooling2D, Dense, Flatten, Dropout\n",
        "\n",
        "model = Sequential([\n",
        "  Conv2D(64, 3, strides=1, padding='same', input_shape=INPUT_SHAPE),\n",
        "  BatchNormalization(),\n",
        "  Activation(activation='relu'),\n",
        "  Conv2D(64, 3, strides=1, padding='same'),\n",
        "  BatchNormalization(),\n",
        "  Activation(activation='relu'),\n",
        "  MaxPooling2D((2,2), strides=2),\n",
        "\n",
        "  Conv2D(128, 3, strides=1, padding='same'),\n",
        "  BatchNormalization(),\n",
        "  Activation(activation='relu'),\n",
        "  Conv2D(128, 3, strides=1, padding='same'),\n",
        "  BatchNormalization(),\n",
        "  Activation(activation='relu'),\n",
        "  MaxPooling2D((2,2), strides=2),\n",
        "\n",
        "  Conv2D(256, 3, strides=1, padding='same'),\n",
        "  BatchNormalization(),\n",
        "  Activation(activation='relu'),\n",
        "  Conv2D(256, 3, strides=1, padding='same'),\n",
        "  BatchNormalization(),\n",
        "  Activation(activation='relu'),\n",
        "  Conv2D(256, 3, strides=1, padding='same'),\n",
        "  BatchNormalization(),\n",
        "  Activation(activation='relu'),\n",
        "  MaxPooling2D((2,2), strides=2),\n",
        "\n",
        "  Conv2D(512, 3, strides=1, padding='same'),\n",
        "  BatchNormalization(),\n",
        "  Activation(activation='relu'),\n",
        "  Conv2D(512, 3, strides=1, padding='same'),\n",
        "  BatchNormalization(),\n",
        "  Activation(activation='relu'),\n",
        "  Conv2D(512, 3, strides=1, padding='same'),\n",
        "  BatchNormalization(),\n",
        "  Activation(activation='relu'),\n",
        "  MaxPooling2D((2,2), strides=2),\n",
        "  MaxPooling2D((2,2), strides=2),\n",
        "\n",
        "  Flatten(),\n",
        "  Dense(4096, activation='relu'),\n",
        "  Dropout(0.5),\n",
        "  Dense(4096, activation='relu'),\n",
        "  Dropout(0.5),\n",
        "  Dense(4, activation='softmax')\n",
        "])\n"
      ],
      "metadata": {
        "id": "VMxt4bUsY3K2"
      },
      "execution_count": 67,
      "outputs": []
    },
    {
      "cell_type": "code",
      "metadata": {
        "id": "KbdHBgd-pJIV"
      },
      "source": [
        "adam = tf.keras.optimizers.Adam(learning_rate=0.001, beta_1=0.9, beta_2=0.999, epsilon=None, decay=0.0, amsgrad=False)\n",
        "model.compile(\n",
        "    optimizer=adam,\n",
        "    loss='categorical_crossentropy', \n",
        "    #categorical_crossentropy: 다중 분류 손실함수. 출력값이 원 핫 인코딩 된 결과로 나온다.\n",
        "    #각 샘플이 정확히 하나의 클래스에 속하는 경우 사용한다.\n",
        "    metrics=['accuracy']\n",
        ")"
      ],
      "execution_count": 68,
      "outputs": []
    },
    {
      "cell_type": "code",
      "metadata": {
        "colab": {
          "base_uri": "https://localhost:8080/"
        },
        "id": "yewE9fXRpKTg",
        "outputId": "6e3849d5-ada7-4d0b-9ed3-f41d14f71c53"
      },
      "source": [
        "model.summary()"
      ],
      "execution_count": 51,
      "outputs": [
        {
          "output_type": "stream",
          "name": "stdout",
          "text": [
            "Model: \"sequential_1\"\n",
            "_________________________________________________________________\n",
            " Layer (type)                Output Shape              Param #   \n",
            "=================================================================\n",
            " conv2d_10 (Conv2D)          (None, 100, 100, 64)      1792      \n",
            "                                                                 \n",
            " batch_normalization_10 (Bat  (None, 100, 100, 64)     256       \n",
            " chNormalization)                                                \n",
            "                                                                 \n",
            " activation_10 (Activation)  (None, 100, 100, 64)      0         \n",
            "                                                                 \n",
            " conv2d_11 (Conv2D)          (None, 100, 100, 64)      36928     \n",
            "                                                                 \n",
            " batch_normalization_11 (Bat  (None, 100, 100, 64)     256       \n",
            " chNormalization)                                                \n",
            "                                                                 \n",
            " activation_11 (Activation)  (None, 100, 100, 64)      0         \n",
            "                                                                 \n",
            " max_pooling2d_5 (MaxPooling  (None, 50, 50, 64)       0         \n",
            " 2D)                                                             \n",
            "                                                                 \n",
            " conv2d_12 (Conv2D)          (None, 50, 50, 128)       73856     \n",
            "                                                                 \n",
            " batch_normalization_12 (Bat  (None, 50, 50, 128)      512       \n",
            " chNormalization)                                                \n",
            "                                                                 \n",
            " activation_12 (Activation)  (None, 50, 50, 128)       0         \n",
            "                                                                 \n",
            " conv2d_13 (Conv2D)          (None, 50, 50, 128)       147584    \n",
            "                                                                 \n",
            " batch_normalization_13 (Bat  (None, 50, 50, 128)      512       \n",
            " chNormalization)                                                \n",
            "                                                                 \n",
            " activation_13 (Activation)  (None, 50, 50, 128)       0         \n",
            "                                                                 \n",
            " max_pooling2d_6 (MaxPooling  (None, 25, 25, 128)      0         \n",
            " 2D)                                                             \n",
            "                                                                 \n",
            " conv2d_14 (Conv2D)          (None, 25, 25, 256)       295168    \n",
            "                                                                 \n",
            " batch_normalization_14 (Bat  (None, 25, 25, 256)      1024      \n",
            " chNormalization)                                                \n",
            "                                                                 \n",
            " activation_14 (Activation)  (None, 25, 25, 256)       0         \n",
            "                                                                 \n",
            " conv2d_15 (Conv2D)          (None, 25, 25, 256)       590080    \n",
            "                                                                 \n",
            " batch_normalization_15 (Bat  (None, 25, 25, 256)      1024      \n",
            " chNormalization)                                                \n",
            "                                                                 \n",
            " activation_15 (Activation)  (None, 25, 25, 256)       0         \n",
            "                                                                 \n",
            " conv2d_16 (Conv2D)          (None, 25, 25, 256)       590080    \n",
            "                                                                 \n",
            " batch_normalization_16 (Bat  (None, 25, 25, 256)      1024      \n",
            " chNormalization)                                                \n",
            "                                                                 \n",
            " activation_16 (Activation)  (None, 25, 25, 256)       0         \n",
            "                                                                 \n",
            " max_pooling2d_7 (MaxPooling  (None, 12, 12, 256)      0         \n",
            " 2D)                                                             \n",
            "                                                                 \n",
            " conv2d_17 (Conv2D)          (None, 12, 12, 512)       1180160   \n",
            "                                                                 \n",
            " batch_normalization_17 (Bat  (None, 12, 12, 512)      2048      \n",
            " chNormalization)                                                \n",
            "                                                                 \n",
            " activation_17 (Activation)  (None, 12, 12, 512)       0         \n",
            "                                                                 \n",
            " conv2d_18 (Conv2D)          (None, 12, 12, 512)       2359808   \n",
            "                                                                 \n",
            " batch_normalization_18 (Bat  (None, 12, 12, 512)      2048      \n",
            " chNormalization)                                                \n",
            "                                                                 \n",
            " activation_18 (Activation)  (None, 12, 12, 512)       0         \n",
            "                                                                 \n",
            " conv2d_19 (Conv2D)          (None, 12, 12, 512)       2359808   \n",
            "                                                                 \n",
            " batch_normalization_19 (Bat  (None, 12, 12, 512)      2048      \n",
            " chNormalization)                                                \n",
            "                                                                 \n",
            " activation_19 (Activation)  (None, 12, 12, 512)       0         \n",
            "                                                                 \n",
            " max_pooling2d_8 (MaxPooling  (None, 6, 6, 512)        0         \n",
            " 2D)                                                             \n",
            "                                                                 \n",
            " max_pooling2d_9 (MaxPooling  (None, 3, 3, 512)        0         \n",
            " 2D)                                                             \n",
            "                                                                 \n",
            " flatten_1 (Flatten)         (None, 4608)              0         \n",
            "                                                                 \n",
            " dense_3 (Dense)             (None, 4096)              18878464  \n",
            "                                                                 \n",
            " dropout_2 (Dropout)         (None, 4096)              0         \n",
            "                                                                 \n",
            " dense_4 (Dense)             (None, 4096)              16781312  \n",
            "                                                                 \n",
            " dropout_3 (Dropout)         (None, 4096)              0         \n",
            "                                                                 \n",
            " dense_5 (Dense)             (None, 4)                 16388     \n",
            "                                                                 \n",
            "=================================================================\n",
            "Total params: 43,322,180\n",
            "Trainable params: 43,316,804\n",
            "Non-trainable params: 5,376\n",
            "_________________________________________________________________\n"
          ]
        }
      ]
    },
    {
      "cell_type": "code",
      "metadata": {
        "colab": {
          "base_uri": "https://localhost:8080/"
        },
        "id": "FvxF59Sf3tQ4",
        "outputId": "ada0c61c-a2d5-46ed-eefb-467777525827"
      },
      "source": [
        "#추가 데이터 X\n",
        "from keras.callbacks import EarlyStopping \n",
        "early_stopping = EarlyStopping(patience=10)\n",
        "\n",
        "history = model.fit(\n",
        "    X_train, y_train,\n",
        "    epochs=EPOCHS,\n",
        "    batch_size=BATCH_SIZE,\n",
        "    verbose=VERBOSE,\n",
        "    validation_split=0.2,\n",
        ")"
      ],
      "execution_count": 52,
      "outputs": [
        {
          "output_type": "stream",
          "name": "stdout",
          "text": [
            "Epoch 1/70\n",
            "37/37 [==============================] - 3s 52ms/step - loss: 8.3803 - accuracy: 0.3587 - val_loss: 1.3144 - val_accuracy: 0.4322\n",
            "Epoch 2/70\n",
            "37/37 [==============================] - 2s 41ms/step - loss: 1.3351 - accuracy: 0.4175 - val_loss: 1.2079 - val_accuracy: 0.3448\n",
            "Epoch 3/70\n",
            "37/37 [==============================] - 2s 41ms/step - loss: 1.3027 - accuracy: 0.4171 - val_loss: 1.1884 - val_accuracy: 0.3448\n",
            "Epoch 4/70\n",
            "37/37 [==============================] - 2s 41ms/step - loss: 1.2402 - accuracy: 0.4137 - val_loss: 1.1755 - val_accuracy: 0.4322\n",
            "Epoch 5/70\n",
            "37/37 [==============================] - 2s 41ms/step - loss: 1.2425 - accuracy: 0.4321 - val_loss: 1.1739 - val_accuracy: 0.4322\n",
            "Epoch 6/70\n",
            "37/37 [==============================] - 2s 41ms/step - loss: 1.2215 - accuracy: 0.4115 - val_loss: 1.1755 - val_accuracy: 0.4322\n",
            "Epoch 7/70\n",
            "37/37 [==============================] - 2s 42ms/step - loss: 1.2216 - accuracy: 0.4171 - val_loss: 1.1721 - val_accuracy: 0.4322\n",
            "Epoch 8/70\n",
            "37/37 [==============================] - 2s 41ms/step - loss: 1.2231 - accuracy: 0.4270 - val_loss: 1.1753 - val_accuracy: 0.4322\n",
            "Epoch 9/70\n",
            "37/37 [==============================] - 2s 41ms/step - loss: 1.1834 - accuracy: 0.4283 - val_loss: 1.1767 - val_accuracy: 0.4322\n",
            "Epoch 10/70\n",
            "37/37 [==============================] - 2s 41ms/step - loss: 1.1893 - accuracy: 0.4223 - val_loss: 1.1767 - val_accuracy: 0.3448\n",
            "Epoch 11/70\n",
            "37/37 [==============================] - 2s 41ms/step - loss: 1.1897 - accuracy: 0.4205 - val_loss: 1.1973 - val_accuracy: 0.3722\n",
            "Epoch 12/70\n",
            "37/37 [==============================] - 2s 41ms/step - loss: 1.2362 - accuracy: 0.4227 - val_loss: 1.1735 - val_accuracy: 0.3482\n",
            "Epoch 13/70\n",
            "37/37 [==============================] - 2s 41ms/step - loss: 1.1867 - accuracy: 0.4149 - val_loss: 1.1765 - val_accuracy: 0.4322\n",
            "Epoch 14/70\n",
            "37/37 [==============================] - 2s 42ms/step - loss: 1.1824 - accuracy: 0.4373 - val_loss: 1.1690 - val_accuracy: 0.3962\n",
            "Epoch 15/70\n",
            "37/37 [==============================] - 2s 41ms/step - loss: 1.2039 - accuracy: 0.4197 - val_loss: 1.1603 - val_accuracy: 0.3842\n",
            "Epoch 16/70\n",
            "37/37 [==============================] - 2s 41ms/step - loss: 1.1677 - accuracy: 0.4274 - val_loss: 1.1691 - val_accuracy: 0.4305\n",
            "Epoch 17/70\n",
            "37/37 [==============================] - 2s 41ms/step - loss: 1.1375 - accuracy: 0.4450 - val_loss: 1.1265 - val_accuracy: 0.4614\n",
            "Epoch 18/70\n",
            "37/37 [==============================] - 2s 42ms/step - loss: 1.1273 - accuracy: 0.4661 - val_loss: 1.6980 - val_accuracy: 0.2161\n",
            "Epoch 19/70\n",
            "37/37 [==============================] - 2s 42ms/step - loss: 1.0935 - accuracy: 0.4716 - val_loss: 2.1333 - val_accuracy: 0.2075\n",
            "Epoch 20/70\n",
            "37/37 [==============================] - 2s 41ms/step - loss: 1.0645 - accuracy: 0.4893 - val_loss: 1.7310 - val_accuracy: 0.2573\n",
            "Epoch 21/70\n",
            "37/37 [==============================] - 2s 41ms/step - loss: 1.0418 - accuracy: 0.4888 - val_loss: 1.4249 - val_accuracy: 0.3842\n",
            "Epoch 22/70\n",
            "37/37 [==============================] - 2s 41ms/step - loss: 1.0320 - accuracy: 0.5000 - val_loss: 1.0728 - val_accuracy: 0.4648\n",
            "Epoch 23/70\n",
            "37/37 [==============================] - 2s 42ms/step - loss: 1.0545 - accuracy: 0.4802 - val_loss: 1.1290 - val_accuracy: 0.4768\n",
            "Epoch 24/70\n",
            "37/37 [==============================] - 2s 42ms/step - loss: 1.0143 - accuracy: 0.5210 - val_loss: 1.0321 - val_accuracy: 0.5043\n",
            "Epoch 25/70\n",
            "37/37 [==============================] - 2s 41ms/step - loss: 1.0094 - accuracy: 0.5344 - val_loss: 1.4022 - val_accuracy: 0.3636\n",
            "Epoch 26/70\n",
            "37/37 [==============================] - 2s 41ms/step - loss: 1.0177 - accuracy: 0.5030 - val_loss: 1.1306 - val_accuracy: 0.5026\n",
            "Epoch 27/70\n",
            "37/37 [==============================] - 2s 41ms/step - loss: 0.9891 - accuracy: 0.5318 - val_loss: 1.0106 - val_accuracy: 0.5437\n",
            "Epoch 28/70\n",
            "37/37 [==============================] - 2s 41ms/step - loss: 1.0035 - accuracy: 0.5361 - val_loss: 1.5197 - val_accuracy: 0.3619\n",
            "Epoch 29/70\n",
            "37/37 [==============================] - 2s 41ms/step - loss: 0.9675 - accuracy: 0.5524 - val_loss: 1.0824 - val_accuracy: 0.5043\n",
            "Epoch 30/70\n",
            "37/37 [==============================] - 2s 41ms/step - loss: 0.9954 - accuracy: 0.5438 - val_loss: 1.2871 - val_accuracy: 0.3945\n",
            "Epoch 31/70\n",
            "37/37 [==============================] - 2s 41ms/step - loss: 1.0095 - accuracy: 0.5438 - val_loss: 1.4564 - val_accuracy: 0.3602\n",
            "Epoch 32/70\n",
            "37/37 [==============================] - 2s 41ms/step - loss: 0.9587 - accuracy: 0.5580 - val_loss: 1.2330 - val_accuracy: 0.4168\n",
            "Epoch 33/70\n",
            "37/37 [==============================] - 2s 41ms/step - loss: 0.9464 - accuracy: 0.5640 - val_loss: 1.4683 - val_accuracy: 0.3602\n",
            "Epoch 34/70\n",
            "37/37 [==============================] - 2s 41ms/step - loss: 0.9408 - accuracy: 0.5653 - val_loss: 0.9910 - val_accuracy: 0.5455\n",
            "Epoch 35/70\n",
            "37/37 [==============================] - 2s 41ms/step - loss: 0.9759 - accuracy: 0.5485 - val_loss: 1.9867 - val_accuracy: 0.3431\n",
            "Epoch 36/70\n",
            "37/37 [==============================] - 2s 41ms/step - loss: 0.9533 - accuracy: 0.5601 - val_loss: 1.5690 - val_accuracy: 0.3636\n",
            "Epoch 37/70\n",
            "37/37 [==============================] - 2s 41ms/step - loss: 0.9374 - accuracy: 0.5623 - val_loss: 0.9604 - val_accuracy: 0.5575\n",
            "Epoch 38/70\n",
            "37/37 [==============================] - 2s 41ms/step - loss: 0.9377 - accuracy: 0.5550 - val_loss: 1.0276 - val_accuracy: 0.5420\n",
            "Epoch 39/70\n",
            "37/37 [==============================] - 2s 41ms/step - loss: 0.9338 - accuracy: 0.5808 - val_loss: 1.1044 - val_accuracy: 0.4751\n",
            "Epoch 40/70\n",
            "37/37 [==============================] - 2s 42ms/step - loss: 0.9007 - accuracy: 0.5756 - val_loss: 1.3651 - val_accuracy: 0.4580\n",
            "Epoch 41/70\n",
            "37/37 [==============================] - 2s 41ms/step - loss: 0.9394 - accuracy: 0.5799 - val_loss: 2.5095 - val_accuracy: 0.3499\n",
            "Epoch 42/70\n",
            "37/37 [==============================] - 2s 41ms/step - loss: 0.9303 - accuracy: 0.5752 - val_loss: 1.6611 - val_accuracy: 0.3739\n",
            "Epoch 43/70\n",
            "37/37 [==============================] - 2s 41ms/step - loss: 0.9221 - accuracy: 0.5808 - val_loss: 0.9920 - val_accuracy: 0.5283\n",
            "Epoch 44/70\n",
            "37/37 [==============================] - 2s 41ms/step - loss: 0.8917 - accuracy: 0.5885 - val_loss: 1.2244 - val_accuracy: 0.4734\n",
            "Epoch 45/70\n",
            "37/37 [==============================] - 2s 41ms/step - loss: 0.8839 - accuracy: 0.6031 - val_loss: 1.3601 - val_accuracy: 0.4151\n",
            "Epoch 46/70\n",
            "37/37 [==============================] - 2s 41ms/step - loss: 0.9394 - accuracy: 0.5747 - val_loss: 2.2819 - val_accuracy: 0.3945\n",
            "Epoch 47/70\n",
            "37/37 [==============================] - 2s 41ms/step - loss: 0.9009 - accuracy: 0.5915 - val_loss: 2.0650 - val_accuracy: 0.3396\n",
            "Epoch 48/70\n",
            "37/37 [==============================] - 2s 41ms/step - loss: 0.9202 - accuracy: 0.5627 - val_loss: 0.9933 - val_accuracy: 0.5420\n",
            "Epoch 49/70\n",
            "37/37 [==============================] - 2s 41ms/step - loss: 0.8700 - accuracy: 0.6048 - val_loss: 2.0046 - val_accuracy: 0.3465\n",
            "Epoch 50/70\n",
            "37/37 [==============================] - 2s 41ms/step - loss: 0.8925 - accuracy: 0.5846 - val_loss: 1.5773 - val_accuracy: 0.3979\n",
            "Epoch 51/70\n",
            "37/37 [==============================] - 2s 41ms/step - loss: 0.8236 - accuracy: 0.6220 - val_loss: 1.8790 - val_accuracy: 0.3482\n",
            "Epoch 52/70\n",
            "37/37 [==============================] - 2s 41ms/step - loss: 0.8321 - accuracy: 0.6220 - val_loss: 1.6397 - val_accuracy: 0.3105\n",
            "Epoch 53/70\n",
            "37/37 [==============================] - 2s 41ms/step - loss: 0.8416 - accuracy: 0.6108 - val_loss: 3.6698 - val_accuracy: 0.0926\n",
            "Epoch 54/70\n",
            "37/37 [==============================] - 2s 41ms/step - loss: 0.8118 - accuracy: 0.6383 - val_loss: 1.3895 - val_accuracy: 0.4031\n",
            "Epoch 55/70\n",
            "37/37 [==============================] - 2s 41ms/step - loss: 0.7674 - accuracy: 0.6409 - val_loss: 2.1493 - val_accuracy: 0.2847\n",
            "Epoch 56/70\n",
            "37/37 [==============================] - 2s 41ms/step - loss: 0.7898 - accuracy: 0.6336 - val_loss: 1.1666 - val_accuracy: 0.4940\n",
            "Epoch 57/70\n",
            "37/37 [==============================] - 2s 41ms/step - loss: 0.7960 - accuracy: 0.6297 - val_loss: 1.3796 - val_accuracy: 0.4305\n",
            "Epoch 58/70\n",
            "37/37 [==============================] - 2s 41ms/step - loss: 0.7566 - accuracy: 0.6641 - val_loss: 1.8337 - val_accuracy: 0.3636\n",
            "Epoch 59/70\n",
            "37/37 [==============================] - 2s 41ms/step - loss: 0.7700 - accuracy: 0.6413 - val_loss: 1.7517 - val_accuracy: 0.2967\n",
            "Epoch 60/70\n",
            "37/37 [==============================] - 2s 42ms/step - loss: 0.7234 - accuracy: 0.6800 - val_loss: 3.9552 - val_accuracy: 0.1149\n",
            "Epoch 61/70\n",
            "37/37 [==============================] - 2s 41ms/step - loss: 0.7424 - accuracy: 0.6787 - val_loss: 2.0407 - val_accuracy: 0.2967\n",
            "Epoch 62/70\n",
            "37/37 [==============================] - 2s 41ms/step - loss: 0.7391 - accuracy: 0.6731 - val_loss: 4.4860 - val_accuracy: 0.1921\n",
            "Epoch 63/70\n",
            "37/37 [==============================] - 2s 41ms/step - loss: 0.6997 - accuracy: 0.7027 - val_loss: 1.4874 - val_accuracy: 0.4168\n",
            "Epoch 64/70\n",
            "37/37 [==============================] - 2s 41ms/step - loss: 0.6473 - accuracy: 0.7354 - val_loss: 2.0052 - val_accuracy: 0.4185\n",
            "Epoch 65/70\n",
            "37/37 [==============================] - 2s 41ms/step - loss: 0.6890 - accuracy: 0.6847 - val_loss: 1.4987 - val_accuracy: 0.3997\n",
            "Epoch 66/70\n",
            "37/37 [==============================] - 2s 42ms/step - loss: 0.6817 - accuracy: 0.7096 - val_loss: 2.1731 - val_accuracy: 0.3345\n",
            "Epoch 67/70\n",
            "37/37 [==============================] - 2s 42ms/step - loss: 0.6795 - accuracy: 0.7079 - val_loss: 1.6573 - val_accuracy: 0.4014\n",
            "Epoch 68/70\n",
            "37/37 [==============================] - 2s 41ms/step - loss: 0.6515 - accuracy: 0.7401 - val_loss: 1.4566 - val_accuracy: 0.5214\n",
            "Epoch 69/70\n",
            "37/37 [==============================] - 2s 41ms/step - loss: 0.6653 - accuracy: 0.7105 - val_loss: 2.4625 - val_accuracy: 0.2590\n",
            "Epoch 70/70\n",
            "37/37 [==============================] - 2s 41ms/step - loss: 0.5695 - accuracy: 0.7693 - val_loss: 2.0808 - val_accuracy: 0.3671\n"
          ]
        }
      ]
    },
    {
      "cell_type": "code",
      "source": [
        "#결과 확인\n",
        "plt.figure(figsize=(14, 5))\n",
        "\n",
        "plt.subplot(1, 2, 1)\n",
        "plt.plot(history.history['accuracy'], label='Training Accuracy')\n",
        "plt.plot(history.history['val_accuracy'], label='Validation Accuracy')\n",
        "plt.legend(loc='lower right')\n",
        "plt.title('Training and Validation Accuracy')\n",
        "\n",
        "plt.subplot(1, 2, 2)\n",
        "plt.plot(history.history['loss'], label='Training Loss')\n",
        "plt.plot(history.history['val_loss'], label='Validation Loss')\n",
        "plt.legend(loc='upper right')\n",
        "plt.title('Training and Validation Loss')\n",
        "\n",
        "plt.show()"
      ],
      "metadata": {
        "id": "U4MOuawsv1nF",
        "outputId": "cc0f7307-514c-46d1-a7de-9d6b3d062346",
        "colab": {
          "base_uri": "https://localhost:8080/",
          "height": 336
        }
      },
      "execution_count": 54,
      "outputs": [
        {
          "output_type": "display_data",
          "data": {
            "text/plain": [
              "<Figure size 1008x360 with 2 Axes>"
            ],
            "image/png": "[encoded data removed]"
          },
          "metadata": {
            "needs_background": "light"
          }
        }
      ]
    },
    {
      "cell_type": "code",
      "source": [
        "model.evaluate(X_test, y_test)"
      ],
      "metadata": {
        "id": "xNIIxIHHv-vK",
        "outputId": "39953e33-f1a7-48b2-81b1-33167513cb68",
        "colab": {
          "base_uri": "https://localhost:8080/"
        }
      },
      "execution_count": 55,
      "outputs": [
        {
          "output_type": "stream",
          "name": "stdout",
          "text": [
            "23/23 [==============================] - 0s 8ms/step - loss: 2.1679 - accuracy: 0.3379\n"
          ]
        },
        {
          "output_type": "execute_result",
          "data": {
            "text/plain": [
              "[2.1678593158721924, 0.33791208267211914]"
            ]
          },
          "metadata": {},
          "execution_count": 55
        }
      ]
    },
    {
      "cell_type": "code",
      "metadata": {
        "colab": {
          "base_uri": "https://localhost:8080/"
        },
        "outputId": "a406a293-50f1-4783-955a-ee9b5558df02",
        "id": "JMQpDzxTwlQL"
      },
      "source": [
        "from keras.callbacks import EarlyStopping \n",
        "early_stopping = EarlyStopping(patience=10)\n",
        "\n",
        "history = model.fit(\n",
        "    X_train_final, y_train_final,\n",
        "    epochs=EPOCHS,\n",
        "    batch_size=BATCH_SIZE,\n",
        "    verbose=VERBOSE,\n",
        "    validation_split=0.2\n",
        ")"
      ],
      "execution_count": 69,
      "outputs": [
        {
          "output_type": "stream",
          "name": "stdout",
          "text": [
            "Epoch 1/70\n",
            "73/73 [==============================] - 5s 47ms/step - loss: 5.0161 - accuracy: 0.3861 - val_loss: 1.2014 - val_accuracy: 0.4180\n",
            "Epoch 2/70\n",
            "73/73 [==============================] - 3s 41ms/step - loss: 1.3610 - accuracy: 0.3983 - val_loss: 1.2270 - val_accuracy: 0.4180\n",
            "Epoch 3/70\n",
            "73/73 [==============================] - 3s 41ms/step - loss: 1.2278 - accuracy: 0.4071 - val_loss: 1.2058 - val_accuracy: 0.4180\n",
            "Epoch 4/70\n",
            "73/73 [==============================] - 3s 41ms/step - loss: 1.2038 - accuracy: 0.4026 - val_loss: 1.2124 - val_accuracy: 0.4180\n",
            "Epoch 5/70\n",
            "73/73 [==============================] - 3s 41ms/step - loss: 1.1795 - accuracy: 0.4144 - val_loss: 1.2164 - val_accuracy: 0.4180\n",
            "Epoch 6/70\n",
            "73/73 [==============================] - 3s 41ms/step - loss: 1.1532 - accuracy: 0.4297 - val_loss: 1.1705 - val_accuracy: 0.4180\n",
            "Epoch 7/70\n",
            "73/73 [==============================] - 3s 41ms/step - loss: 1.1248 - accuracy: 0.4642 - val_loss: 1.3499 - val_accuracy: 0.3459\n",
            "Epoch 8/70\n",
            "73/73 [==============================] - 3s 41ms/step - loss: 1.1102 - accuracy: 0.4595 - val_loss: 1.2911 - val_accuracy: 0.3468\n",
            "Epoch 9/70\n",
            "73/73 [==============================] - 3s 42ms/step - loss: 1.1036 - accuracy: 0.4829 - val_loss: 1.1213 - val_accuracy: 0.4498\n",
            "Epoch 10/70\n",
            "73/73 [==============================] - 3s 41ms/step - loss: 1.1042 - accuracy: 0.4866 - val_loss: 1.0999 - val_accuracy: 0.4532\n",
            "Epoch 11/70\n",
            "73/73 [==============================] - 3s 41ms/step - loss: 1.0875 - accuracy: 0.4870 - val_loss: 1.0941 - val_accuracy: 0.4601\n",
            "Epoch 12/70\n",
            "73/73 [==============================] - 3s 41ms/step - loss: 1.0842 - accuracy: 0.4909 - val_loss: 1.1034 - val_accuracy: 0.4180\n",
            "Epoch 13/70\n",
            "73/73 [==============================] - 3s 41ms/step - loss: 1.0807 - accuracy: 0.4904 - val_loss: 1.1254 - val_accuracy: 0.4652\n",
            "Epoch 14/70\n",
            "73/73 [==============================] - 3s 41ms/step - loss: 1.0867 - accuracy: 0.4917 - val_loss: 1.1673 - val_accuracy: 0.4429\n",
            "Epoch 15/70\n",
            "73/73 [==============================] - 3s 41ms/step - loss: 1.0763 - accuracy: 0.4909 - val_loss: 1.1109 - val_accuracy: 0.4275\n",
            "Epoch 16/70\n",
            "73/73 [==============================] - 3s 41ms/step - loss: 1.0789 - accuracy: 0.4997 - val_loss: 1.1697 - val_accuracy: 0.4026\n",
            "Epoch 17/70\n",
            "73/73 [==============================] - 3s 41ms/step - loss: 1.0708 - accuracy: 0.5014 - val_loss: 1.0695 - val_accuracy: 0.4884\n",
            "Epoch 18/70\n",
            "73/73 [==============================] - 3s 41ms/step - loss: 1.0788 - accuracy: 0.4937 - val_loss: 1.1096 - val_accuracy: 0.4386\n",
            "Epoch 19/70\n",
            "73/73 [==============================] - 3s 41ms/step - loss: 1.0675 - accuracy: 0.5023 - val_loss: 1.0601 - val_accuracy: 0.4798\n",
            "Epoch 20/70\n",
            "73/73 [==============================] - 3s 41ms/step - loss: 1.0746 - accuracy: 0.5031 - val_loss: 1.1079 - val_accuracy: 0.4601\n",
            "Epoch 21/70\n",
            "73/73 [==============================] - 3s 41ms/step - loss: 1.0651 - accuracy: 0.4922 - val_loss: 1.1174 - val_accuracy: 0.4395\n",
            "Epoch 22/70\n",
            "73/73 [==============================] - 3s 41ms/step - loss: 1.0548 - accuracy: 0.5003 - val_loss: 1.0590 - val_accuracy: 0.4481\n",
            "Epoch 23/70\n",
            "73/73 [==============================] - 3s 41ms/step - loss: 1.0729 - accuracy: 0.4919 - val_loss: 1.3349 - val_accuracy: 0.3639\n",
            "Epoch 24/70\n",
            "73/73 [==============================] - 3s 41ms/step - loss: 1.0574 - accuracy: 0.5091 - val_loss: 1.0495 - val_accuracy: 0.4712\n",
            "Epoch 25/70\n",
            "73/73 [==============================] - 3s 41ms/step - loss: 1.0681 - accuracy: 0.4980 - val_loss: 1.0877 - val_accuracy: 0.4489\n",
            "Epoch 26/70\n",
            "73/73 [==============================] - 3s 41ms/step - loss: 1.0513 - accuracy: 0.5044 - val_loss: 1.2156 - val_accuracy: 0.4000\n",
            "Epoch 27/70\n",
            "73/73 [==============================] - 3s 41ms/step - loss: 1.0508 - accuracy: 0.5072 - val_loss: 1.0601 - val_accuracy: 0.4180\n",
            "Epoch 28/70\n",
            "73/73 [==============================] - 3s 41ms/step - loss: 1.0457 - accuracy: 0.5158 - val_loss: 1.3096 - val_accuracy: 0.4189\n",
            "Epoch 29/70\n",
            "73/73 [==============================] - 3s 41ms/step - loss: 1.0381 - accuracy: 0.5177 - val_loss: 1.0730 - val_accuracy: 0.4180\n",
            "Epoch 30/70\n",
            "73/73 [==============================] - 3s 41ms/step - loss: 1.0447 - accuracy: 0.5061 - val_loss: 1.2695 - val_accuracy: 0.4180\n",
            "Epoch 31/70\n",
            "73/73 [==============================] - 3s 41ms/step - loss: 1.0541 - accuracy: 0.5059 - val_loss: 1.2272 - val_accuracy: 0.4352\n",
            "Epoch 32/70\n",
            "73/73 [==============================] - 3s 41ms/step - loss: 1.0615 - accuracy: 0.4990 - val_loss: 1.0921 - val_accuracy: 0.4661\n",
            "Epoch 33/70\n",
            "73/73 [==============================] - 3s 41ms/step - loss: 1.0462 - accuracy: 0.5042 - val_loss: 1.1367 - val_accuracy: 0.4730\n",
            "Epoch 34/70\n",
            "73/73 [==============================] - 3s 41ms/step - loss: 1.0576 - accuracy: 0.5005 - val_loss: 1.2138 - val_accuracy: 0.3914\n",
            "Epoch 35/70\n",
            "73/73 [==============================] - 3s 41ms/step - loss: 1.0377 - accuracy: 0.5108 - val_loss: 1.0574 - val_accuracy: 0.4652\n",
            "Epoch 36/70\n",
            "73/73 [==============================] - 3s 41ms/step - loss: 1.0364 - accuracy: 0.5061 - val_loss: 1.1249 - val_accuracy: 0.4395\n",
            "Epoch 37/70\n",
            "73/73 [==============================] - 3s 41ms/step - loss: 1.0527 - accuracy: 0.5033 - val_loss: 1.2530 - val_accuracy: 0.4455\n",
            "Epoch 38/70\n",
            "73/73 [==============================] - 3s 41ms/step - loss: 1.0479 - accuracy: 0.5014 - val_loss: 1.0908 - val_accuracy: 0.4498\n",
            "Epoch 39/70\n",
            "73/73 [==============================] - 3s 41ms/step - loss: 1.0525 - accuracy: 0.5035 - val_loss: 1.1132 - val_accuracy: 0.4155\n",
            "Epoch 40/70\n",
            "73/73 [==============================] - 3s 41ms/step - loss: 1.0332 - accuracy: 0.5181 - val_loss: 1.1488 - val_accuracy: 0.4455\n",
            "Epoch 41/70\n",
            "73/73 [==============================] - 3s 41ms/step - loss: 1.0251 - accuracy: 0.5136 - val_loss: 1.4449 - val_accuracy: 0.3468\n",
            "Epoch 42/70\n",
            "73/73 [==============================] - 3s 41ms/step - loss: 1.0245 - accuracy: 0.5072 - val_loss: 1.1426 - val_accuracy: 0.4180\n",
            "Epoch 43/70\n",
            "73/73 [==============================] - 3s 41ms/step - loss: 1.0297 - accuracy: 0.5184 - val_loss: 1.0494 - val_accuracy: 0.5064\n",
            "Epoch 44/70\n",
            "73/73 [==============================] - 3s 41ms/step - loss: 1.0414 - accuracy: 0.5123 - val_loss: 1.2274 - val_accuracy: 0.4197\n",
            "Epoch 45/70\n",
            "73/73 [==============================] - 3s 41ms/step - loss: 1.0258 - accuracy: 0.5175 - val_loss: 1.0981 - val_accuracy: 0.4627\n",
            "Epoch 46/70\n",
            "73/73 [==============================] - 3s 41ms/step - loss: 1.0321 - accuracy: 0.5093 - val_loss: 1.1217 - val_accuracy: 0.4438\n",
            "Epoch 47/70\n",
            "73/73 [==============================] - 3s 41ms/step - loss: 1.0371 - accuracy: 0.4937 - val_loss: 1.0886 - val_accuracy: 0.4189\n",
            "Epoch 48/70\n",
            "73/73 [==============================] - 3s 41ms/step - loss: 1.0328 - accuracy: 0.4941 - val_loss: 1.0988 - val_accuracy: 0.4429\n",
            "Epoch 49/70\n",
            "73/73 [==============================] - 3s 41ms/step - loss: 1.0495 - accuracy: 0.5020 - val_loss: 1.2653 - val_accuracy: 0.4180\n",
            "Epoch 50/70\n",
            "73/73 [==============================] - 3s 41ms/step - loss: 1.0115 - accuracy: 0.5199 - val_loss: 1.1709 - val_accuracy: 0.4764\n",
            "Epoch 51/70\n",
            "73/73 [==============================] - 3s 41ms/step - loss: 1.0065 - accuracy: 0.5147 - val_loss: 1.0904 - val_accuracy: 0.4489\n",
            "Epoch 52/70\n",
            "73/73 [==============================] - 3s 41ms/step - loss: 1.0115 - accuracy: 0.5102 - val_loss: 1.0466 - val_accuracy: 0.4730\n",
            "Epoch 53/70\n",
            "73/73 [==============================] - 3s 41ms/step - loss: 1.0043 - accuracy: 0.5134 - val_loss: 1.9421 - val_accuracy: 0.3494\n",
            "Epoch 54/70\n",
            "73/73 [==============================] - 3s 41ms/step - loss: 1.0007 - accuracy: 0.5154 - val_loss: 1.0230 - val_accuracy: 0.5013\n",
            "Epoch 55/70\n",
            "73/73 [==============================] - 3s 41ms/step - loss: 0.9690 - accuracy: 0.5272 - val_loss: 1.2511 - val_accuracy: 0.4180\n",
            "Epoch 56/70\n",
            "73/73 [==============================] - 3s 41ms/step - loss: 0.9815 - accuracy: 0.5300 - val_loss: 1.2106 - val_accuracy: 0.4326\n",
            "Epoch 57/70\n",
            "73/73 [==============================] - 3s 41ms/step - loss: 1.0593 - accuracy: 0.5072 - val_loss: 1.2387 - val_accuracy: 0.4180\n",
            "Epoch 58/70\n",
            "73/73 [==============================] - 3s 41ms/step - loss: 1.0826 - accuracy: 0.4947 - val_loss: 1.2111 - val_accuracy: 0.4180\n",
            "Epoch 59/70\n",
            "73/73 [==============================] - 3s 41ms/step - loss: 1.0647 - accuracy: 0.5003 - val_loss: 1.2205 - val_accuracy: 0.4180\n",
            "Epoch 60/70\n",
            "73/73 [==============================] - 3s 41ms/step - loss: 1.0618 - accuracy: 0.5001 - val_loss: 1.2245 - val_accuracy: 0.4180\n",
            "Epoch 61/70\n",
            "73/73 [==============================] - 3s 41ms/step - loss: 1.0501 - accuracy: 0.5053 - val_loss: 1.0302 - val_accuracy: 0.4987\n",
            "Epoch 62/70\n",
            "73/73 [==============================] - 3s 41ms/step - loss: 1.0465 - accuracy: 0.5108 - val_loss: 1.1795 - val_accuracy: 0.4292\n",
            "Epoch 63/70\n",
            "73/73 [==============================] - 3s 41ms/step - loss: 1.0293 - accuracy: 0.5132 - val_loss: 1.0133 - val_accuracy: 0.4953\n",
            "Epoch 64/70\n",
            "73/73 [==============================] - 3s 42ms/step - loss: 1.0195 - accuracy: 0.5154 - val_loss: 1.2953 - val_accuracy: 0.4129\n",
            "Epoch 65/70\n",
            "73/73 [==============================] - 3s 41ms/step - loss: 0.9908 - accuracy: 0.5145 - val_loss: 1.0161 - val_accuracy: 0.4695\n",
            "Epoch 66/70\n",
            "73/73 [==============================] - 3s 41ms/step - loss: 0.9828 - accuracy: 0.5239 - val_loss: 1.1177 - val_accuracy: 0.4172\n",
            "Epoch 67/70\n",
            "73/73 [==============================] - 3s 41ms/step - loss: 0.9593 - accuracy: 0.5351 - val_loss: 1.3037 - val_accuracy: 0.4283\n",
            "Epoch 68/70\n",
            "73/73 [==============================] - 3s 41ms/step - loss: 0.9829 - accuracy: 0.5388 - val_loss: 1.4009 - val_accuracy: 0.3485\n",
            "Epoch 69/70\n",
            "73/73 [==============================] - 3s 41ms/step - loss: 0.9476 - accuracy: 0.5347 - val_loss: 0.9912 - val_accuracy: 0.4961\n",
            "Epoch 70/70\n",
            "73/73 [==============================] - 3s 42ms/step - loss: 0.9545 - accuracy: 0.5364 - val_loss: 1.0325 - val_accuracy: 0.4876\n"
          ]
        }
      ]
    },
    {
      "cell_type": "code",
      "source": [
        "#결과 확인\n",
        "plt.figure(figsize=(14, 5))\n",
        "\n",
        "plt.subplot(1, 2, 1)\n",
        "plt.plot(history.history['accuracy'], label='Training Accuracy')\n",
        "plt.plot(history.history['val_accuracy'], label='Validation Accuracy')\n",
        "plt.legend(loc='lower right')\n",
        "plt.title('Training and Validation Accuracy')\n",
        "\n",
        "plt.subplot(1, 2, 2)\n",
        "plt.plot(history.history['loss'], label='Training Loss')\n",
        "plt.plot(history.history['val_loss'], label='Validation Loss')\n",
        "plt.legend(loc='upper right')\n",
        "plt.title('Training and Validation Loss')\n",
        "\n",
        "plt.show()"
      ],
      "metadata": {
        "outputId": "bb781adb-bb16-475e-97a2-6024b33ceb1e",
        "colab": {
          "base_uri": "https://localhost:8080/",
          "height": 336
        },
        "id": "KCyf-Ly4wlQM"
      },
      "execution_count": 70,
      "outputs": [
        {
          "output_type": "display_data",
          "data": {
            "text/plain": [
              "<Figure size 1008x360 with 2 Axes>"
            ],
            "image/png": "[encoded data removed]"
          },
          "metadata": {
            "needs_background": "light"
          }
        }
      ]
    },
    {
      "cell_type": "code",
      "source": [
        "model.evaluate(X_test, y_test)"
      ],
      "metadata": {
        "outputId": "e80565ba-b312-47b4-a6ec-e198e63168c8",
        "colab": {
          "base_uri": "https://localhost:8080/"
        },
        "id": "13d2ee-jwlQN"
      },
      "execution_count": 71,
      "outputs": [
        {
          "output_type": "stream",
          "name": "stdout",
          "text": [
            "23/23 [==============================] - 0s 9ms/step - loss: 1.0575 - accuracy: 0.5261\n"
          ]
        },
        {
          "output_type": "execute_result",
          "data": {
            "text/plain": [
              "[1.0574524402618408, 0.526098906993866]"
            ]
          },
          "metadata": {},
          "execution_count": 71
        }
      ]
    },
    {
      "cell_type": "code",
      "source": [
        "#lr을 더 낮추기\n",
        "adam = tf.keras.optimizers.Adam(learning_rate=0.0001, beta_1=0.9, beta_2=0.999, epsilon=None, decay=0.0, amsgrad=False)\n",
        "model.compile(\n",
        "    optimizer=adam,\n",
        "    loss='categorical_crossentropy', \n",
        "    #categorical_crossentropy: 다중 분류 손실함수. 출력값이 원 핫 인코딩 된 결과로 나온다.\n",
        "    #각 샘플이 정확히 하나의 클래스에 속하는 경우 사용한다.\n",
        "    metrics=['accuracy']\n",
        ")"
      ],
      "metadata": {
        "id": "zkYCF0b8CgwC"
      },
      "execution_count": 63,
      "outputs": []
    },
    {
      "cell_type": "code",
      "source": [
        "from keras.callbacks import EarlyStopping \n",
        "early_stopping = EarlyStopping(patience=10)\n",
        "\n",
        "history = model.fit(\n",
        "    X_train_final, y_train_final,\n",
        "    epochs=EPOCHS,\n",
        "    batch_size=BATCH_SIZE,\n",
        "    verbose=VERBOSE,\n",
        "    validation_split=0.2\n",
        ")"
      ],
      "metadata": {
        "colab": {
          "base_uri": "https://localhost:8080/"
        },
        "id": "qnIY8RrNCnJx",
        "outputId": "bafa7cec-a1f3-4041-864a-95d63032a67b"
      },
      "execution_count": 64,
      "outputs": [
        {
          "output_type": "stream",
          "name": "stdout",
          "text": [
            "Epoch 1/70\n",
            "73/73 [==============================] - 5s 47ms/step - loss: 2.1641 - accuracy: 0.3902 - val_loss: 1.2468 - val_accuracy: 0.3468\n",
            "Epoch 2/70\n",
            "73/73 [==============================] - 3s 41ms/step - loss: 1.2804 - accuracy: 0.4312 - val_loss: 1.7574 - val_accuracy: 0.3468\n",
            "Epoch 3/70\n",
            "73/73 [==============================] - 3s 42ms/step - loss: 1.1880 - accuracy: 0.4589 - val_loss: 2.0107 - val_accuracy: 0.3468\n",
            "Epoch 4/70\n",
            "73/73 [==============================] - 3s 41ms/step - loss: 1.1401 - accuracy: 0.4692 - val_loss: 2.3060 - val_accuracy: 0.3468\n",
            "Epoch 5/70\n",
            "73/73 [==============================] - 3s 41ms/step - loss: 1.0625 - accuracy: 0.4988 - val_loss: 2.6355 - val_accuracy: 0.3468\n",
            "Epoch 6/70\n",
            "73/73 [==============================] - 3s 41ms/step - loss: 1.0326 - accuracy: 0.5143 - val_loss: 2.0842 - val_accuracy: 0.3468\n",
            "Epoch 7/70\n",
            "73/73 [==============================] - 3s 42ms/step - loss: 1.0023 - accuracy: 0.5269 - val_loss: 1.7199 - val_accuracy: 0.3468\n",
            "Epoch 8/70\n",
            "73/73 [==============================] - 3s 42ms/step - loss: 0.9817 - accuracy: 0.5261 - val_loss: 1.2939 - val_accuracy: 0.4000\n",
            "Epoch 9/70\n",
            "73/73 [==============================] - 3s 41ms/step - loss: 0.9746 - accuracy: 0.5379 - val_loss: 1.0670 - val_accuracy: 0.4464\n",
            "Epoch 10/70\n",
            "73/73 [==============================] - 3s 42ms/step - loss: 0.9486 - accuracy: 0.5566 - val_loss: 1.0503 - val_accuracy: 0.4661\n",
            "Epoch 11/70\n",
            "73/73 [==============================] - 3s 42ms/step - loss: 0.9416 - accuracy: 0.5592 - val_loss: 1.0098 - val_accuracy: 0.5107\n",
            "Epoch 12/70\n",
            "73/73 [==============================] - 3s 41ms/step - loss: 0.9223 - accuracy: 0.5613 - val_loss: 0.9817 - val_accuracy: 0.5227\n",
            "Epoch 13/70\n",
            "73/73 [==============================] - 3s 42ms/step - loss: 0.9033 - accuracy: 0.5735 - val_loss: 1.2172 - val_accuracy: 0.4258\n",
            "Epoch 14/70\n",
            "73/73 [==============================] - 3s 42ms/step - loss: 0.8920 - accuracy: 0.5738 - val_loss: 1.4126 - val_accuracy: 0.3717\n",
            "Epoch 15/70\n",
            "73/73 [==============================] - 3s 42ms/step - loss: 0.8602 - accuracy: 0.5970 - val_loss: 1.2206 - val_accuracy: 0.4541\n",
            "Epoch 16/70\n",
            "73/73 [==============================] - 3s 42ms/step - loss: 0.8411 - accuracy: 0.6120 - val_loss: 1.0870 - val_accuracy: 0.5047\n",
            "Epoch 17/70\n",
            "73/73 [==============================] - 3s 42ms/step - loss: 0.8132 - accuracy: 0.6272 - val_loss: 0.9816 - val_accuracy: 0.5313\n",
            "Epoch 18/70\n",
            "73/73 [==============================] - 3s 42ms/step - loss: 0.7730 - accuracy: 0.6455 - val_loss: 1.7115 - val_accuracy: 0.3408\n",
            "Epoch 19/70\n",
            "73/73 [==============================] - 3s 42ms/step - loss: 0.7281 - accuracy: 0.6670 - val_loss: 1.1424 - val_accuracy: 0.4996\n",
            "Epoch 20/70\n",
            "73/73 [==============================] - 3s 42ms/step - loss: 0.6301 - accuracy: 0.7213 - val_loss: 1.4006 - val_accuracy: 0.3923\n",
            "Epoch 21/70\n",
            "73/73 [==============================] - 3s 42ms/step - loss: 0.5832 - accuracy: 0.7468 - val_loss: 2.1879 - val_accuracy: 0.3030\n",
            "Epoch 22/70\n",
            "73/73 [==============================] - 3s 42ms/step - loss: 0.5689 - accuracy: 0.7610 - val_loss: 1.2110 - val_accuracy: 0.4790\n",
            "Epoch 23/70\n",
            "73/73 [==============================] - 3s 42ms/step - loss: 0.4412 - accuracy: 0.8162 - val_loss: 1.6463 - val_accuracy: 0.4961\n",
            "Epoch 24/70\n",
            "73/73 [==============================] - 3s 42ms/step - loss: 0.3840 - accuracy: 0.8450 - val_loss: 2.7720 - val_accuracy: 0.3940\n",
            "Epoch 25/70\n",
            "73/73 [==============================] - 3s 42ms/step - loss: 0.3685 - accuracy: 0.8497 - val_loss: 3.5968 - val_accuracy: 0.3734\n",
            "Epoch 26/70\n",
            "73/73 [==============================] - 3s 42ms/step - loss: 0.3114 - accuracy: 0.8808 - val_loss: 2.7692 - val_accuracy: 0.4515\n",
            "Epoch 27/70\n",
            "73/73 [==============================] - 3s 42ms/step - loss: 0.2590 - accuracy: 0.9049 - val_loss: 2.2964 - val_accuracy: 0.4661\n",
            "Epoch 28/70\n",
            "73/73 [==============================] - 3s 42ms/step - loss: 0.2671 - accuracy: 0.8980 - val_loss: 1.9282 - val_accuracy: 0.4961\n",
            "Epoch 29/70\n",
            "73/73 [==============================] - 3s 42ms/step - loss: 0.1722 - accuracy: 0.9375 - val_loss: 3.4553 - val_accuracy: 0.3176\n",
            "Epoch 30/70\n",
            "73/73 [==============================] - 3s 42ms/step - loss: 0.1935 - accuracy: 0.9321 - val_loss: 2.7304 - val_accuracy: 0.3373\n",
            "Epoch 31/70\n",
            "73/73 [==============================] - 3s 42ms/step - loss: 0.1872 - accuracy: 0.9300 - val_loss: 1.4120 - val_accuracy: 0.5425\n",
            "Epoch 32/70\n",
            "73/73 [==============================] - 3s 42ms/step - loss: 0.1207 - accuracy: 0.9571 - val_loss: 4.1495 - val_accuracy: 0.3906\n",
            "Epoch 33/70\n",
            "73/73 [==============================] - 3s 41ms/step - loss: 0.1187 - accuracy: 0.9598 - val_loss: 2.9950 - val_accuracy: 0.4798\n",
            "Epoch 34/70\n",
            "73/73 [==============================] - 3s 42ms/step - loss: 0.1011 - accuracy: 0.9671 - val_loss: 2.4053 - val_accuracy: 0.4953\n",
            "Epoch 35/70\n",
            "73/73 [==============================] - 3s 41ms/step - loss: 0.1140 - accuracy: 0.9594 - val_loss: 2.8241 - val_accuracy: 0.5056\n",
            "Epoch 36/70\n",
            "73/73 [==============================] - 3s 41ms/step - loss: 0.0909 - accuracy: 0.9689 - val_loss: 2.5124 - val_accuracy: 0.5339\n",
            "Epoch 37/70\n",
            "73/73 [==============================] - 3s 41ms/step - loss: 0.0889 - accuracy: 0.9695 - val_loss: 3.4601 - val_accuracy: 0.5013\n",
            "Epoch 38/70\n",
            "73/73 [==============================] - 3s 41ms/step - loss: 0.0972 - accuracy: 0.9671 - val_loss: 3.7097 - val_accuracy: 0.4661\n",
            "Epoch 39/70\n",
            "73/73 [==============================] - 3s 41ms/step - loss: 0.1061 - accuracy: 0.9650 - val_loss: 2.9485 - val_accuracy: 0.5030\n",
            "Epoch 40/70\n",
            "73/73 [==============================] - 3s 41ms/step - loss: 0.0619 - accuracy: 0.9755 - val_loss: 3.0061 - val_accuracy: 0.5382\n",
            "Epoch 41/70\n",
            "73/73 [==============================] - 3s 41ms/step - loss: 0.1098 - accuracy: 0.9613 - val_loss: 6.2331 - val_accuracy: 0.3468\n",
            "Epoch 42/70\n",
            "73/73 [==============================] - 3s 41ms/step - loss: 0.0577 - accuracy: 0.9802 - val_loss: 3.9050 - val_accuracy: 0.4601\n",
            "Epoch 43/70\n",
            "73/73 [==============================] - 3s 42ms/step - loss: 0.0686 - accuracy: 0.9766 - val_loss: 8.0176 - val_accuracy: 0.3425\n",
            "Epoch 44/70\n",
            "73/73 [==============================] - 3s 41ms/step - loss: 0.0774 - accuracy: 0.9727 - val_loss: 2.6629 - val_accuracy: 0.5159\n",
            "Epoch 45/70\n",
            "73/73 [==============================] - 3s 42ms/step - loss: 0.0783 - accuracy: 0.9734 - val_loss: 2.1896 - val_accuracy: 0.5262\n",
            "Epoch 46/70\n",
            "73/73 [==============================] - 3s 41ms/step - loss: 0.0528 - accuracy: 0.9826 - val_loss: 2.8587 - val_accuracy: 0.5245\n",
            "Epoch 47/70\n",
            "73/73 [==============================] - 3s 41ms/step - loss: 0.0456 - accuracy: 0.9845 - val_loss: 5.3219 - val_accuracy: 0.4129\n",
            "Epoch 48/70\n",
            "73/73 [==============================] - 3s 41ms/step - loss: 0.0646 - accuracy: 0.9787 - val_loss: 3.0268 - val_accuracy: 0.5236\n",
            "Epoch 49/70\n",
            "73/73 [==============================] - 3s 42ms/step - loss: 0.0379 - accuracy: 0.9865 - val_loss: 3.3422 - val_accuracy: 0.5219\n",
            "Epoch 50/70\n",
            "73/73 [==============================] - 3s 42ms/step - loss: 0.0562 - accuracy: 0.9822 - val_loss: 10.1737 - val_accuracy: 0.2670\n",
            "Epoch 51/70\n",
            "73/73 [==============================] - 3s 41ms/step - loss: 0.0865 - accuracy: 0.9686 - val_loss: 3.1107 - val_accuracy: 0.5142\n",
            "Epoch 52/70\n",
            "73/73 [==============================] - 3s 42ms/step - loss: 0.0373 - accuracy: 0.9884 - val_loss: 2.5457 - val_accuracy: 0.5090\n",
            "Epoch 53/70\n",
            "73/73 [==============================] - 3s 42ms/step - loss: 0.0647 - accuracy: 0.9790 - val_loss: 3.3232 - val_accuracy: 0.4687\n",
            "Epoch 54/70\n",
            "73/73 [==============================] - 3s 41ms/step - loss: 0.0521 - accuracy: 0.9852 - val_loss: 3.6640 - val_accuracy: 0.4824\n",
            "Epoch 55/70\n",
            "73/73 [==============================] - 3s 41ms/step - loss: 0.0446 - accuracy: 0.9856 - val_loss: 4.1796 - val_accuracy: 0.4352\n",
            "Epoch 56/70\n",
            "73/73 [==============================] - 3s 41ms/step - loss: 0.0496 - accuracy: 0.9830 - val_loss: 2.5169 - val_accuracy: 0.5245\n",
            "Epoch 57/70\n",
            "73/73 [==============================] - 3s 41ms/step - loss: 0.0523 - accuracy: 0.9830 - val_loss: 3.9610 - val_accuracy: 0.4472\n",
            "Epoch 58/70\n",
            "73/73 [==============================] - 3s 42ms/step - loss: 0.0334 - accuracy: 0.9914 - val_loss: 2.9156 - val_accuracy: 0.5099\n",
            "Epoch 59/70\n",
            "73/73 [==============================] - 3s 42ms/step - loss: 0.0611 - accuracy: 0.9798 - val_loss: 2.7782 - val_accuracy: 0.5399\n",
            "Epoch 60/70\n",
            "73/73 [==============================] - 3s 42ms/step - loss: 0.0484 - accuracy: 0.9852 - val_loss: 2.9989 - val_accuracy: 0.4944\n",
            "Epoch 61/70\n",
            "73/73 [==============================] - 3s 42ms/step - loss: 0.0307 - accuracy: 0.9906 - val_loss: 4.0177 - val_accuracy: 0.4232\n",
            "Epoch 62/70\n",
            "73/73 [==============================] - 3s 42ms/step - loss: 0.0343 - accuracy: 0.9888 - val_loss: 3.0483 - val_accuracy: 0.5030\n",
            "Epoch 63/70\n",
            "73/73 [==============================] - 3s 42ms/step - loss: 0.0395 - accuracy: 0.9875 - val_loss: 3.3122 - val_accuracy: 0.4712\n",
            "Epoch 64/70\n",
            "73/73 [==============================] - 3s 41ms/step - loss: 0.0404 - accuracy: 0.9858 - val_loss: 3.7252 - val_accuracy: 0.4532\n",
            "Epoch 65/70\n",
            "73/73 [==============================] - 3s 41ms/step - loss: 0.0676 - accuracy: 0.9777 - val_loss: 6.6938 - val_accuracy: 0.4575\n",
            "Epoch 66/70\n",
            "73/73 [==============================] - 3s 42ms/step - loss: 0.0553 - accuracy: 0.9798 - val_loss: 4.3522 - val_accuracy: 0.5099\n",
            "Epoch 67/70\n",
            "73/73 [==============================] - 3s 41ms/step - loss: 0.0474 - accuracy: 0.9837 - val_loss: 2.9519 - val_accuracy: 0.4824\n",
            "Epoch 68/70\n",
            "73/73 [==============================] - 3s 42ms/step - loss: 0.0459 - accuracy: 0.9867 - val_loss: 3.6511 - val_accuracy: 0.4824\n",
            "Epoch 69/70\n",
            "73/73 [==============================] - 3s 41ms/step - loss: 0.0659 - accuracy: 0.9755 - val_loss: 10.2336 - val_accuracy: 0.3511\n",
            "Epoch 70/70\n",
            "73/73 [==============================] - 3s 42ms/step - loss: 0.0453 - accuracy: 0.9858 - val_loss: 2.7752 - val_accuracy: 0.4987\n"
          ]
        }
      ]
    },
    {
      "cell_type": "code",
      "source": [
        "#결과 확인\n",
        "plt.figure(figsize=(14, 5))\n",
        "\n",
        "plt.subplot(1, 2, 1)\n",
        "plt.plot(history.history['accuracy'], label='Training Accuracy')\n",
        "plt.plot(history.history['val_accuracy'], label='Validation Accuracy')\n",
        "plt.legend(loc='lower right')\n",
        "plt.title('Training and Validation Accuracy')\n",
        "\n",
        "plt.subplot(1, 2, 2)\n",
        "plt.plot(history.history['loss'], label='Training Loss')\n",
        "plt.plot(history.history['val_loss'], label='Validation Loss')\n",
        "plt.legend(loc='upper right')\n",
        "plt.title('Training and Validation Loss')\n",
        "\n",
        "plt.show()"
      ],
      "metadata": {
        "outputId": "812e3271-afd2-426b-b01b-f0256cc74d75",
        "colab": {
          "base_uri": "https://localhost:8080/",
          "height": 336
        },
        "id": "pTiOuGUPD08x"
      },
      "execution_count": 65,
      "outputs": [
        {
          "output_type": "display_data",
          "data": {
            "text/plain": [
              "<Figure size 1008x360 with 2 Axes>"
            ],
            "image/png": "[encoded data removed]"
          },
          "metadata": {
            "needs_background": "light"
          }
        }
      ]
    },
    {
      "cell_type": "code",
      "source": [
        "model.evaluate(X_test, y_test)"
      ],
      "metadata": {
        "outputId": "86446a2d-9f17-4529-a9ae-4d44b09da4c2",
        "colab": {
          "base_uri": "https://localhost:8080/"
        },
        "id": "jMz63HDQD088"
      },
      "execution_count": 66,
      "outputs": [
        {
          "output_type": "stream",
          "name": "stdout",
          "text": [
            "23/23 [==============================] - 0s 8ms/step - loss: 3.2064 - accuracy: 0.4904\n"
          ]
        },
        {
          "output_type": "execute_result",
          "data": {
            "text/plain": [
              "[3.206367254257202, 0.49038460850715637]"
            ]
          },
          "metadata": {},
          "execution_count": 66
        }
      ]
    },
    {
      "cell_type": "code",
      "source": [
        "from tensorflow.keras.applications.mobilenet import MobileNet, preprocess_input, decode_predictions\n",
        " \n",
        "model = MobileNet(weights='imagenet')\n"
      ],
      "metadata": {
        "colab": {
          "base_uri": "https://localhost:8080/"
        },
        "id": "1gwxLBdDFAoF",
        "outputId": "433f0779-d968-4012-c19c-0dacf043a498"
      },
      "execution_count": 72,
      "outputs": [
        {
          "output_type": "stream",
          "name": "stdout",
          "text": [
            "Downloading data from https://storage.googleapis.com/tensorflow/keras-applications/mobilenet/mobilenet_1_0_224_tf.h5\n",
            "17225924/17225924 [==============================] - 0s 0us/step\n"
          ]
        }
      ]
    },
    {
      "cell_type": "code",
      "metadata": {
        "id": "dK2noZl6FcdH"
      },
      "source": [
        "adam = tf.keras.optimizers.Adam(learning_rate=0.001, beta_1=0.9, beta_2=0.999, epsilon=None, decay=0.0, amsgrad=False)\n",
        "model.compile(\n",
        "    optimizer=adam,\n",
        "    loss='categorical_crossentropy', \n",
        "    #categorical_crossentropy: 다중 분류 손실함수. 출력값이 원 핫 인코딩 된 결과로 나온다.\n",
        "    #각 샘플이 정확히 하나의 클래스에 속하는 경우 사용한다.\n",
        "    metrics=['accuracy']\n",
        ")"
      ],
      "execution_count": 73,
      "outputs": []
    },
    {
      "cell_type": "code",
      "metadata": {
        "colab": {
          "base_uri": "https://localhost:8080/"
        },
        "outputId": "5e926f9e-c503-49a9-80db-95b05cba2594",
        "id": "qcNGPsWMFcdJ"
      },
      "source": [
        "model.summary()"
      ],
      "execution_count": 74,
      "outputs": [
        {
          "output_type": "stream",
          "name": "stdout",
          "text": [
            "Model: \"mobilenet_1.00_224\"\n",
            "_________________________________________________________________\n",
            " Layer (type)                Output Shape              Param #   \n",
            "=================================================================\n",
            " input_1 (InputLayer)        [(None, 224, 224, 3)]     0         \n",
            "                                                                 \n",
            " conv1 (Conv2D)              (None, 112, 112, 32)      864       \n",
            "                                                                 \n",
            " conv1_bn (BatchNormalizatio  (None, 112, 112, 32)     128       \n",
            " n)                                                              \n",
            "                                                                 \n",
            " conv1_relu (ReLU)           (None, 112, 112, 32)      0         \n",
            "                                                                 \n",
            " conv_dw_1 (DepthwiseConv2D)  (None, 112, 112, 32)     288       \n",
            "                                                                 \n",
            " conv_dw_1_bn (BatchNormaliz  (None, 112, 112, 32)     128       \n",
            " ation)                                                          \n",
            "                                                                 \n",
            " conv_dw_1_relu (ReLU)       (None, 112, 112, 32)      0         \n",
            "                                                                 \n",
            " conv_pw_1 (Conv2D)          (None, 112, 112, 64)      2048      \n",
            "                                                                 \n",
            " conv_pw_1_bn (BatchNormaliz  (None, 112, 112, 64)     256       \n",
            " ation)                                                          \n",
            "                                                                 \n",
            " conv_pw_1_relu (ReLU)       (None, 112, 112, 64)      0         \n",
            "                                                                 \n",
            " conv_pad_2 (ZeroPadding2D)  (None, 113, 113, 64)      0         \n",
            "                                                                 \n",
            " conv_dw_2 (DepthwiseConv2D)  (None, 56, 56, 64)       576       \n",
            "                                                                 \n",
            " conv_dw_2_bn (BatchNormaliz  (None, 56, 56, 64)       256       \n",
            " ation)                                                          \n",
            "                                                                 \n",
            " conv_dw_2_relu (ReLU)       (None, 56, 56, 64)        0         \n",
            "                                                                 \n",
            " conv_pw_2 (Conv2D)          (None, 56, 56, 128)       8192      \n",
            "                                                                 \n",
            " conv_pw_2_bn (BatchNormaliz  (None, 56, 56, 128)      512       \n",
            " ation)                                                          \n",
            "                                                                 \n",
            " conv_pw_2_relu (ReLU)       (None, 56, 56, 128)       0         \n",
            "                                                                 \n",
            " conv_dw_3 (DepthwiseConv2D)  (None, 56, 56, 128)      1152      \n",
            "                                                                 \n",
            " conv_dw_3_bn (BatchNormaliz  (None, 56, 56, 128)      512       \n",
            " ation)                                                          \n",
            "                                                                 \n",
            " conv_dw_3_relu (ReLU)       (None, 56, 56, 128)       0         \n",
            "                                                                 \n",
            " conv_pw_3 (Conv2D)          (None, 56, 56, 128)       16384     \n",
            "                                                                 \n",
            " conv_pw_3_bn (BatchNormaliz  (None, 56, 56, 128)      512       \n",
            " ation)                                                          \n",
            "                                                                 \n",
            " conv_pw_3_relu (ReLU)       (None, 56, 56, 128)       0         \n",
            "                                                                 \n",
            " conv_pad_4 (ZeroPadding2D)  (None, 57, 57, 128)       0         \n",
            "                                                                 \n",
            " conv_dw_4 (DepthwiseConv2D)  (None, 28, 28, 128)      1152      \n",
            "                                                                 \n",
            " conv_dw_4_bn (BatchNormaliz  (None, 28, 28, 128)      512       \n",
            " ation)                                                          \n",
            "                                                                 \n",
            " conv_dw_4_relu (ReLU)       (None, 28, 28, 128)       0         \n",
            "                                                                 \n",
            " conv_pw_4 (Conv2D)          (None, 28, 28, 256)       32768     \n",
            "                                                                 \n",
            " conv_pw_4_bn (BatchNormaliz  (None, 28, 28, 256)      1024      \n",
            " ation)                                                          \n",
            "                                                                 \n",
            " conv_pw_4_relu (ReLU)       (None, 28, 28, 256)       0         \n",
            "                                                                 \n",
            " conv_dw_5 (DepthwiseConv2D)  (None, 28, 28, 256)      2304      \n",
            "                                                                 \n",
            " conv_dw_5_bn (BatchNormaliz  (None, 28, 28, 256)      1024      \n",
            " ation)                                                          \n",
            "                                                                 \n",
            " conv_dw_5_relu (ReLU)       (None, 28, 28, 256)       0         \n",
            "                                                                 \n",
            " conv_pw_5 (Conv2D)          (None, 28, 28, 256)       65536     \n",
            "                                                                 \n",
            " conv_pw_5_bn (BatchNormaliz  (None, 28, 28, 256)      1024      \n",
            " ation)                                                          \n",
            "                                                                 \n",
            " conv_pw_5_relu (ReLU)       (None, 28, 28, 256)       0         \n",
            "                                                                 \n",
            " conv_pad_6 (ZeroPadding2D)  (None, 29, 29, 256)       0         \n",
            "                                                                 \n",
            " conv_dw_6 (DepthwiseConv2D)  (None, 14, 14, 256)      2304      \n",
            "                                                                 \n",
            " conv_dw_6_bn (BatchNormaliz  (None, 14, 14, 256)      1024      \n",
            " ation)                                                          \n",
            "                                                                 \n",
            " conv_dw_6_relu (ReLU)       (None, 14, 14, 256)       0         \n",
            "                                                                 \n",
            " conv_pw_6 (Conv2D)          (None, 14, 14, 512)       131072    \n",
            "                                                                 \n",
            " conv_pw_6_bn (BatchNormaliz  (None, 14, 14, 512)      2048      \n",
            " ation)                                                          \n",
            "                                                                 \n",
            " conv_pw_6_relu (ReLU)       (None, 14, 14, 512)       0         \n",
            "                                                                 \n",
            " conv_dw_7 (DepthwiseConv2D)  (None, 14, 14, 512)      4608      \n",
            "                                                                 \n",
            " conv_dw_7_bn (BatchNormaliz  (None, 14, 14, 512)      2048      \n",
            " ation)                                                          \n",
            "                                                                 \n",
            " conv_dw_7_relu (ReLU)       (None, 14, 14, 512)       0         \n",
            "                                                                 \n",
            " conv_pw_7 (Conv2D)          (None, 14, 14, 512)       262144    \n",
            "                                                                 \n",
            " conv_pw_7_bn (BatchNormaliz  (None, 14, 14, 512)      2048      \n",
            " ation)                                                          \n",
            "                                                                 \n",
            " conv_pw_7_relu (ReLU)       (None, 14, 14, 512)       0         \n",
            "                                                                 \n",
            " conv_dw_8 (DepthwiseConv2D)  (None, 14, 14, 512)      4608      \n",
            "                                                                 \n",
            " conv_dw_8_bn (BatchNormaliz  (None, 14, 14, 512)      2048      \n",
            " ation)                                                          \n",
            "                                                                 \n",
            " conv_dw_8_relu (ReLU)       (None, 14, 14, 512)       0         \n",
            "                                                                 \n",
            " conv_pw_8 (Conv2D)          (None, 14, 14, 512)       262144    \n",
            "                                                                 \n",
            " conv_pw_8_bn (BatchNormaliz  (None, 14, 14, 512)      2048      \n",
            " ation)                                                          \n",
            "                                                                 \n",
            " conv_pw_8_relu (ReLU)       (None, 14, 14, 512)       0         \n",
            "                                                                 \n",
            " conv_dw_9 (DepthwiseConv2D)  (None, 14, 14, 512)      4608      \n",
            "                                                                 \n",
            " conv_dw_9_bn (BatchNormaliz  (None, 14, 14, 512)      2048      \n",
            " ation)                                                          \n",
            "                                                                 \n",
            " conv_dw_9_relu (ReLU)       (None, 14, 14, 512)       0         \n",
            "                                                                 \n",
            " conv_pw_9 (Conv2D)          (None, 14, 14, 512)       262144    \n",
            "                                                                 \n",
            " conv_pw_9_bn (BatchNormaliz  (None, 14, 14, 512)      2048      \n",
            " ation)                                                          \n",
            "                                                                 \n",
            " conv_pw_9_relu (ReLU)       (None, 14, 14, 512)       0         \n",
            "                                                                 \n",
            " conv_dw_10 (DepthwiseConv2D  (None, 14, 14, 512)      4608      \n",
            " )                                                               \n",
            "                                                                 \n",
            " conv_dw_10_bn (BatchNormali  (None, 14, 14, 512)      2048      \n",
            " zation)                                                         \n",
            "                                                                 \n",
            " conv_dw_10_relu (ReLU)      (None, 14, 14, 512)       0         \n",
            "                                                                 \n",
            " conv_pw_10 (Conv2D)         (None, 14, 14, 512)       262144    \n",
            "                                                                 \n",
            " conv_pw_10_bn (BatchNormali  (None, 14, 14, 512)      2048      \n",
            " zation)                                                         \n",
            "                                                                 \n",
            " conv_pw_10_relu (ReLU)      (None, 14, 14, 512)       0         \n",
            "                                                                 \n",
            " conv_dw_11 (DepthwiseConv2D  (None, 14, 14, 512)      4608      \n",
            " )                                                               \n",
            "                                                                 \n",
            " conv_dw_11_bn (BatchNormali  (None, 14, 14, 512)      2048      \n",
            " zation)                                                         \n",
            "                                                                 \n",
            " conv_dw_11_relu (ReLU)      (None, 14, 14, 512)       0         \n",
            "                                                                 \n",
            " conv_pw_11 (Conv2D)         (None, 14, 14, 512)       262144    \n",
            "                                                                 \n",
            " conv_pw_11_bn (BatchNormali  (None, 14, 14, 512)      2048      \n",
            " zation)                                                         \n",
            "                                                                 \n",
            " conv_pw_11_relu (ReLU)      (None, 14, 14, 512)       0         \n",
            "                                                                 \n",
            " conv_pad_12 (ZeroPadding2D)  (None, 15, 15, 512)      0         \n",
            "                                                                 \n",
            " conv_dw_12 (DepthwiseConv2D  (None, 7, 7, 512)        4608      \n",
            " )                                                               \n",
            "                                                                 \n",
            " conv_dw_12_bn (BatchNormali  (None, 7, 7, 512)        2048      \n",
            " zation)                                                         \n",
            "                                                                 \n",
            " conv_dw_12_relu (ReLU)      (None, 7, 7, 512)         0         \n",
            "                                                                 \n",
            " conv_pw_12 (Conv2D)         (None, 7, 7, 1024)        524288    \n",
            "                                                                 \n",
            " conv_pw_12_bn (BatchNormali  (None, 7, 7, 1024)       4096      \n",
            " zation)                                                         \n",
            "                                                                 \n",
            " conv_pw_12_relu (ReLU)      (None, 7, 7, 1024)        0         \n",
            "                                                                 \n",
            " conv_dw_13 (DepthwiseConv2D  (None, 7, 7, 1024)       9216      \n",
            " )                                                               \n",
            "                                                                 \n",
            " conv_dw_13_bn (BatchNormali  (None, 7, 7, 1024)       4096      \n",
            " zation)                                                         \n",
            "                                                                 \n",
            " conv_dw_13_relu (ReLU)      (None, 7, 7, 1024)        0         \n",
            "                                                                 \n",
            " conv_pw_13 (Conv2D)         (None, 7, 7, 1024)        1048576   \n",
            "                                                                 \n",
            " conv_pw_13_bn (BatchNormali  (None, 7, 7, 1024)       4096      \n",
            " zation)                                                         \n",
            "                                                                 \n",
            " conv_pw_13_relu (ReLU)      (None, 7, 7, 1024)        0         \n",
            "                                                                 \n",
            " global_average_pooling2d (G  (None, 1, 1, 1024)       0         \n",
            " lobalAveragePooling2D)                                          \n",
            "                                                                 \n",
            " dropout (Dropout)           (None, 1, 1, 1024)        0         \n",
            "                                                                 \n",
            " conv_preds (Conv2D)         (None, 1, 1, 1000)        1025000   \n",
            "                                                                 \n",
            " reshape_2 (Reshape)         (None, 1000)              0         \n",
            "                                                                 \n",
            " predictions (Activation)    (None, 1000)              0         \n",
            "                                                                 \n",
            "=================================================================\n",
            "Total params: 4,253,864\n",
            "Trainable params: 4,231,976\n",
            "Non-trainable params: 21,888\n",
            "_________________________________________________________________\n"
          ]
        }
      ]
    },
    {
      "cell_type": "code",
      "metadata": {
        "colab": {
          "base_uri": "https://localhost:8080/",
          "height": 686
        },
        "outputId": "9683640a-4e5f-4e04-c860-c61b5a5972b4",
        "id": "GKNURr-uFcdK"
      },
      "source": [
        "#추가 데이터 X\n",
        "from keras.callbacks import EarlyStopping \n",
        "early_stopping = EarlyStopping(patience=10)\n",
        "\n",
        "history = model.fit(\n",
        "    X_train, y_train,\n",
        "    epochs=EPOCHS,\n",
        "    batch_size=BATCH_SIZE,\n",
        "    verbose=VERBOSE,\n",
        "    validation_split=0.2,\n",
        ")"
      ],
      "execution_count": 75,
      "outputs": [
        {
          "output_type": "stream",
          "name": "stdout",
          "text": [
            "Epoch 1/70\n"
          ]
        },
        {
          "output_type": "error",
          "ename": "ValueError",
          "evalue": "ignored",
          "traceback": [
            "\u001b[0;31m---------------------------------------------------------------------------\u001b[0m",
            "\u001b[0;31mValueError\u001b[0m                                Traceback (most recent call last)",
            "\u001b[0;32m<ipython-input-75-f83e2d0b6f32>\u001b[0m in \u001b[0;36m<module>\u001b[0;34m\u001b[0m\n\u001b[1;32m      3\u001b[0m \u001b[0mearly_stopping\u001b[0m \u001b[0;34m=\u001b[0m \u001b[0mEarlyStopping\u001b[0m\u001b[0;34m(\u001b[0m\u001b[0mpatience\u001b[0m\u001b[0;34m=\u001b[0m\u001b[0;36m10\u001b[0m\u001b[0;34m)\u001b[0m\u001b[0;34m\u001b[0m\u001b[0;34m\u001b[0m\u001b[0m\n\u001b[1;32m      4\u001b[0m \u001b[0;34m\u001b[0m\u001b[0m\n\u001b[0;32m----> 5\u001b[0;31m history = model.fit(\n\u001b[0m\u001b[1;32m      6\u001b[0m     \u001b[0mX_train\u001b[0m\u001b[0;34m,\u001b[0m \u001b[0my_train\u001b[0m\u001b[0;34m,\u001b[0m\u001b[0;34m\u001b[0m\u001b[0;34m\u001b[0m\u001b[0m\n\u001b[1;32m      7\u001b[0m     \u001b[0mepochs\u001b[0m\u001b[0;34m=\u001b[0m\u001b[0mEPOCHS\u001b[0m\u001b[0;34m,\u001b[0m\u001b[0;34m\u001b[0m\u001b[0;34m\u001b[0m\u001b[0m\n",
            "\u001b[0;32m/usr/local/lib/python3.8/dist-packages/keras/utils/traceback_utils.py\u001b[0m in \u001b[0;36merror_handler\u001b[0;34m(*args, **kwargs)\u001b[0m\n\u001b[1;32m     65\u001b[0m     \u001b[0;32mexcept\u001b[0m \u001b[0mException\u001b[0m \u001b[0;32mas\u001b[0m \u001b[0me\u001b[0m\u001b[0;34m:\u001b[0m  \u001b[0;31m# pylint: disable=broad-except\u001b[0m\u001b[0;34m\u001b[0m\u001b[0;34m\u001b[0m\u001b[0m\n\u001b[1;32m     66\u001b[0m       \u001b[0mfiltered_tb\u001b[0m \u001b[0;34m=\u001b[0m \u001b[0m_process_traceback_frames\u001b[0m\u001b[0;34m(\u001b[0m\u001b[0me\u001b[0m\u001b[0;34m.\u001b[0m\u001b[0m__traceback__\u001b[0m\u001b[0;34m)\u001b[0m\u001b[0;34m\u001b[0m\u001b[0;34m\u001b[0m\u001b[0m\n\u001b[0;32m---> 67\u001b[0;31m       \u001b[0;32mraise\u001b[0m \u001b[0me\u001b[0m\u001b[0;34m.\u001b[0m\u001b[0mwith_traceback\u001b[0m\u001b[0;34m(\u001b[0m\u001b[0mfiltered_tb\u001b[0m\u001b[0;34m)\u001b[0m \u001b[0;32mfrom\u001b[0m \u001b[0;32mNone\u001b[0m\u001b[0;34m\u001b[0m\u001b[0;34m\u001b[0m\u001b[0m\n\u001b[0m\u001b[1;32m     68\u001b[0m     \u001b[0;32mfinally\u001b[0m\u001b[0;34m:\u001b[0m\u001b[0;34m\u001b[0m\u001b[0;34m\u001b[0m\u001b[0m\n\u001b[1;32m     69\u001b[0m       \u001b[0;32mdel\u001b[0m \u001b[0mfiltered_tb\u001b[0m\u001b[0;34m\u001b[0m\u001b[0;34m\u001b[0m\u001b[0m\n",
            "\u001b[0;32m/usr/local/lib/python3.8/dist-packages/keras/engine/training.py\u001b[0m in \u001b[0;36mtf__train_function\u001b[0;34m(iterator)\u001b[0m\n\u001b[1;32m     13\u001b[0m                 \u001b[0;32mtry\u001b[0m\u001b[0;34m:\u001b[0m\u001b[0;34m\u001b[0m\u001b[0;34m\u001b[0m\u001b[0m\n\u001b[1;32m     14\u001b[0m                     \u001b[0mdo_return\u001b[0m \u001b[0;34m=\u001b[0m \u001b[0;32mTrue\u001b[0m\u001b[0;34m\u001b[0m\u001b[0;34m\u001b[0m\u001b[0m\n\u001b[0;32m---> 15\u001b[0;31m                     \u001b[0mretval_\u001b[0m \u001b[0;34m=\u001b[0m \u001b[0mag__\u001b[0m\u001b[0;34m.\u001b[0m\u001b[0mconverted_call\u001b[0m\u001b[0;34m(\u001b[0m\u001b[0mag__\u001b[0m\u001b[0;34m.\u001b[0m\u001b[0mld\u001b[0m\u001b[0;34m(\u001b[0m\u001b[0mstep_function\u001b[0m\u001b[0;34m)\u001b[0m\u001b[0;34m,\u001b[0m \u001b[0;34m(\u001b[0m\u001b[0mag__\u001b[0m\u001b[0;34m.\u001b[0m\u001b[0mld\u001b[0m\u001b[0;34m(\u001b[0m\u001b[0mself\u001b[0m\u001b[0;34m)\u001b[0m\u001b[0;34m,\u001b[0m \u001b[0mag__\u001b[0m\u001b[0;34m.\u001b[0m\u001b[0mld\u001b[0m\u001b[0;34m(\u001b[0m\u001b[0miterator\u001b[0m\u001b[0;34m)\u001b[0m\u001b[0;34m)\u001b[0m\u001b[0;34m,\u001b[0m \u001b[0;32mNone\u001b[0m\u001b[0;34m,\u001b[0m \u001b[0mfscope\u001b[0m\u001b[0;34m)\u001b[0m\u001b[0;34m\u001b[0m\u001b[0;34m\u001b[0m\u001b[0m\n\u001b[0m\u001b[1;32m     16\u001b[0m                 \u001b[0;32mexcept\u001b[0m\u001b[0;34m:\u001b[0m\u001b[0;34m\u001b[0m\u001b[0;34m\u001b[0m\u001b[0m\n\u001b[1;32m     17\u001b[0m                     \u001b[0mdo_return\u001b[0m \u001b[0;34m=\u001b[0m \u001b[0;32mFalse\u001b[0m\u001b[0;34m\u001b[0m\u001b[0;34m\u001b[0m\u001b[0m\n",
            "\u001b[0;31mValueError\u001b[0m: in user code:\n\n    File \"/usr/local/lib/python3.8/dist-packages/keras/engine/training.py\", line 1051, in train_function  *\n        return step_function(self, iterator)\n    File \"/usr/local/lib/python3.8/dist-packages/keras/engine/training.py\", line 1040, in step_function  **\n        outputs = model.distribute_strategy.run(run_step, args=(data,))\n    File \"/usr/local/lib/python3.8/dist-packages/keras/engine/training.py\", line 1030, in run_step  **\n        outputs = model.train_step(data)\n    File \"/usr/local/lib/python3.8/dist-packages/keras/engine/training.py\", line 889, in train_step\n        y_pred = self(x, training=True)\n    File \"/usr/local/lib/python3.8/dist-packages/keras/utils/traceback_utils.py\", line 67, in error_handler\n        raise e.with_traceback(filtered_tb) from None\n    File \"/usr/local/lib/python3.8/dist-packages/keras/engine/input_spec.py\", line 264, in assert_input_compatibility\n        raise ValueError(f'Input {input_index} of layer \"{layer_name}\" is '\n\n    ValueError: Input 0 of layer \"mobilenet_1.00_224\" is incompatible with the layer: expected shape=(None, 224, 224, 3), found shape=(None, 100, 100, 3)\n"
          ]
        }
      ]
    },
    {
      "cell_type": "code",
      "source": [
        "#결과 확인\n",
        "plt.figure(figsize=(14, 5))\n",
        "\n",
        "plt.subplot(1, 2, 1)\n",
        "plt.plot(history.history['accuracy'], label='Training Accuracy')\n",
        "plt.plot(history.history['val_accuracy'], label='Validation Accuracy')\n",
        "plt.legend(loc='lower right')\n",
        "plt.title('Training and Validation Accuracy')\n",
        "\n",
        "plt.subplot(1, 2, 2)\n",
        "plt.plot(history.history['loss'], label='Training Loss')\n",
        "plt.plot(history.history['val_loss'], label='Validation Loss')\n",
        "plt.legend(loc='upper right')\n",
        "plt.title('Training and Validation Loss')\n",
        "\n",
        "plt.show()"
      ],
      "metadata": {
        "outputId": "cc0f7307-514c-46d1-a7de-9d6b3d062346",
        "colab": {
          "base_uri": "https://localhost:8080/",
          "height": 336
        },
        "id": "-uCHwActFcdM"
      },
      "execution_count": null,
      "outputs": [
        {
          "output_type": "display_data",
          "data": {
            "text/plain": [
              "<Figure size 1008x360 with 2 Axes>"
            ],
            "image/png": "[encoded data removed]"
          },
          "metadata": {
            "needs_background": "light"
          }
        }
      ]
    },
    {
      "cell_type": "code",
      "source": [
        "model.evaluate(X_test, y_test)"
      ],
      "metadata": {
        "outputId": "39953e33-f1a7-48b2-81b1-33167513cb68",
        "colab": {
          "base_uri": "https://localhost:8080/"
        },
        "id": "KgtI2c6dFcdN"
      },
      "execution_count": null,
      "outputs": [
        {
          "output_type": "stream",
          "name": "stdout",
          "text": [
            "23/23 [==============================] - 0s 8ms/step - loss: 2.1679 - accuracy: 0.3379\n"
          ]
        },
        {
          "output_type": "execute_result",
          "data": {
            "text/plain": [
              "[2.1678593158721924, 0.33791208267211914]"
            ]
          },
          "metadata": {},
          "execution_count": 55
        }
      ]
    },
    {
      "cell_type": "markdown",
      "source": [
        "# 4.3 하이퍼 파라미터 튜닝"
      ],
      "metadata": {
        "id": "RI90zA9fOvhL"
      }
    },
    {
      "cell_type": "code",
      "source": [
        "from tensorflow.keras.regularizers import L1, L2\n",
        "from sklearn.model_selection import RandomizedSearchCV\n",
        "from tensorflow.keras.wrappers.scikit_learn import KerasClassifier\n",
        "\n",
        "def build_model_rscv(nodes, L1_values, L2_values, dropout_values):\n",
        "\n",
        "  model = Sequential([\n",
        "  Conv2D(filters=32, kernel_size=(3, 3), activation='relu', input_shape=INPUT_SHAPE),\n",
        "  MaxPooling2D(pool_size=(2, 2)), \n",
        "\n",
        "  Flatten(),\n",
        "\n",
        "  Dense(nodes, activation='relu', kernel_regularizer=L2(L2_values)),\n",
        "  Dropout(dropout_values),\n",
        "\n",
        "  Dense(nodes, activation='relu', activity_regularizer=L1(L1_values)),\n",
        "  Dropout(dropout_values),\n",
        "\n",
        "  Dense(4, activation='softmax')\n",
        "  ])\n",
        "\n",
        "  model.compile(\n",
        "    optimizer='adam',\n",
        "    loss='categorical_crossentropy', \n",
        "\n",
        "    metrics=['accuracy']\n",
        "  )\n",
        "\n",
        "  return model"
      ],
      "metadata": {
        "id": "rZqOd2uzGTT8"
      },
      "execution_count": 41,
      "outputs": []
    },
    {
      "cell_type": "code",
      "source": [
        "temp_rscv = KerasClassifier(build_fn=build_model_rscv, verbose=0)"
      ],
      "metadata": {
        "colab": {
          "base_uri": "https://localhost:8080/"
        },
        "id": "nZNKeW1vHTgE",
        "outputId": "c37c1315-dad1-4cff-8069-29941039e2f9"
      },
      "execution_count": 42,
      "outputs": [
        {
          "output_type": "stream",
          "name": "stderr",
          "text": [
            "<ipython-input-42-a580792a4654>:1: DeprecationWarning: KerasClassifier is deprecated, use Sci-Keras (https://github.com/adriangb/scikeras) instead. See https://www.adriangb.com/scikeras/stable/migration.html for help migrating.\n",
            "  temp_rscv = KerasClassifier(build_fn=build_model_rscv, verbose=0)\n"
          ]
        }
      ]
    },
    {
      "cell_type": "code",
      "source": [
        "import random\n",
        "\n",
        "nodes=[random.randint(64, 128) for n in range(5)]\n",
        "L1_values=[random.uniform(0, 0.000001) for n in range(5)]\n",
        "L2_values=[random.uniform(0, 0.000001) for n in range(5)]\n",
        "dropout_values=[random.uniform(0, 1) for n in range(5)]\n",
        "batch_sizes=[random.randint(32, 64) for n in range(5)]\n",
        "epochs=[random.choice(range(30, 160, 10)) for n in range(5)]"
      ],
      "metadata": {
        "id": "kG46CFcWHcBC"
      },
      "execution_count": 47,
      "outputs": []
    },
    {
      "cell_type": "code",
      "source": [
        "params = dict(nodes=nodes,\n",
        "              L1_values=L1_values,\n",
        "              L2_values=L2_values,\n",
        "              dropout_values=dropout_values,\n",
        "              batch_size=batch_sizes,\n",
        "              epochs=epochs\n",
        "              )"
      ],
      "metadata": {
        "id": "GIFNvZU4H6cT"
      },
      "execution_count": 48,
      "outputs": []
    },
    {
      "cell_type": "code",
      "source": [
        "model_best = RandomizedSearchCV(estimator=temp_rscv,\n",
        "                                param_distributions=params,\n",
        "                                n_iter=10,\n",
        "                                cv=3,\n",
        "                                scoring='accuracy',\n",
        "                                verbose=1,\n",
        "                                n_jobs=-1\n",
        "                                )"
      ],
      "metadata": {
        "id": "sUFwRQKPIOuT"
      },
      "execution_count": 49,
      "outputs": []
    },
    {
      "cell_type": "code",
      "source": [
        "history = model_best.fit(\n",
        "    X_train, y_train,\n",
        "    validation_split=0.2\n",
        ")"
      ],
      "metadata": {
        "colab": {
          "base_uri": "https://localhost:8080/"
        },
        "id": "hCM_-cFtIVRm",
        "outputId": "eadb85b2-5f2b-4e2c-a8ff-909677f0dfbb"
      },
      "execution_count": 50,
      "outputs": [
        {
          "output_type": "stream",
          "name": "stdout",
          "text": [
            "Fitting 3 folds for each of 10 candidates, totalling 30 fits\n"
          ]
        },
        {
          "output_type": "stream",
          "name": "stderr",
          "text": [
            "/usr/local/lib/python3.8/dist-packages/joblib/externals/loky/process_executor.py:700: UserWarning: A worker stopped while some jobs were given to the executor. This can be caused by a too short worker timeout or by a memory leak.\n",
            "  warnings.warn(\n",
            "/usr/local/lib/python3.8/dist-packages/sklearn/model_selection/_search.py:969: UserWarning: One or more of the test scores are non-finite: [nan nan nan nan nan nan nan nan nan nan]\n",
            "  warnings.warn(\n"
          ]
        }
      ]
    },
    {
      "cell_type": "code",
      "source": [
        "rs = pd.DataFrame(model_best.cv_results_).sort_values(by='rank_test_score').head()\n",
        "rs.T"
      ],
      "metadata": {
        "colab": {
          "base_uri": "https://localhost:8080/",
          "height": 644
        },
        "id": "c1IKBFNYOEGf",
        "outputId": "c577b286-5861-49d2-b101-e33c638d8964"
      },
      "execution_count": 51,
      "outputs": [
        {
          "output_type": "execute_result",
          "data": {
            "text/plain": [
              "                                                                      0  \\\n",
              "mean_fit_time                                                 69.860762   \n",
              "std_fit_time                                                  13.899386   \n",
              "mean_score_time                                                1.314526   \n",
              "std_score_time                                                 0.814512   \n",
              "param_nodes                                                          69   \n",
              "param_epochs                                                         90   \n",
              "param_dropout_values                                           0.474649   \n",
              "param_batch_size                                                     63   \n",
              "param_L2_values                                                     0.0   \n",
              "param_L1_values                                                0.000001   \n",
              "params                {'nodes': 69, 'epochs': 90, 'dropout_values': ...   \n",
              "split0_test_score                                                   NaN   \n",
              "split1_test_score                                                   NaN   \n",
              "split2_test_score                                                   NaN   \n",
              "mean_test_score                                                     NaN   \n",
              "std_test_score                                                      NaN   \n",
              "rank_test_score                                                       1   \n",
              "\n",
              "                                                                      1  \\\n",
              "mean_fit_time                                                 99.552037   \n",
              "std_fit_time                                                   1.574385   \n",
              "mean_score_time                                                0.754752   \n",
              "std_score_time                                                 0.095335   \n",
              "param_nodes                                                          89   \n",
              "param_epochs                                                        140   \n",
              "param_dropout_values                                           0.435152   \n",
              "param_batch_size                                                     63   \n",
              "param_L2_values                                                0.000001   \n",
              "param_L1_values                                                     0.0   \n",
              "params                {'nodes': 89, 'epochs': 140, 'dropout_values':...   \n",
              "split0_test_score                                                   NaN   \n",
              "split1_test_score                                                   NaN   \n",
              "split2_test_score                                                   NaN   \n",
              "mean_test_score                                                     NaN   \n",
              "std_test_score                                                      NaN   \n",
              "rank_test_score                                                       2   \n",
              "\n",
              "                                                                      2  \\\n",
              "mean_fit_time                                                100.664553   \n",
              "std_fit_time                                                  32.290038   \n",
              "mean_score_time                                                0.760037   \n",
              "std_score_time                                                 0.287182   \n",
              "param_nodes                                                          78   \n",
              "param_epochs                                                        130   \n",
              "param_dropout_values                                           0.885669   \n",
              "param_batch_size                                                     63   \n",
              "param_L2_values                                                     0.0   \n",
              "param_L1_values                                                     0.0   \n",
              "params                {'nodes': 78, 'epochs': 130, 'dropout_values':...   \n",
              "split0_test_score                                                   NaN   \n",
              "split1_test_score                                                   NaN   \n",
              "split2_test_score                                                   NaN   \n",
              "mean_test_score                                                     NaN   \n",
              "std_test_score                                                      NaN   \n",
              "rank_test_score                                                       3   \n",
              "\n",
              "                                                                      3  \\\n",
              "mean_fit_time                                                 76.114082   \n",
              "std_fit_time                                                  14.605508   \n",
              "mean_score_time                                                0.966445   \n",
              "std_score_time                                                  0.21938   \n",
              "param_nodes                                                          69   \n",
              "param_epochs                                                         90   \n",
              "param_dropout_values                                           0.885669   \n",
              "param_batch_size                                                     63   \n",
              "param_L2_values                                                     0.0   \n",
              "param_L1_values                                                0.000001   \n",
              "params                {'nodes': 69, 'epochs': 90, 'dropout_values': ...   \n",
              "split0_test_score                                                   NaN   \n",
              "split1_test_score                                                   NaN   \n",
              "split2_test_score                                                   NaN   \n",
              "mean_test_score                                                     NaN   \n",
              "std_test_score                                                      NaN   \n",
              "rank_test_score                                                       4   \n",
              "\n",
              "                                                                      4  \n",
              "mean_fit_time                                                 70.050294  \n",
              "std_fit_time                                                  11.191937  \n",
              "mean_score_time                                                0.855877  \n",
              "std_score_time                                                 0.308996  \n",
              "param_nodes                                                          69  \n",
              "param_epochs                                                         90  \n",
              "param_dropout_values                                           0.783383  \n",
              "param_batch_size                                                     33  \n",
              "param_L2_values                                                     0.0  \n",
              "param_L1_values                                                     0.0  \n",
              "params                {'nodes': 69, 'epochs': 90, 'dropout_values': ...  \n",
              "split0_test_score                                                   NaN  \n",
              "split1_test_score                                                   NaN  \n",
              "split2_test_score                                                   NaN  \n",
              "mean_test_score                                                     NaN  \n",
              "std_test_score                                                      NaN  \n",
              "rank_test_score                                                       5  "
            ],
            "text/html": [
              "\n",
              "  <div id=\"df-d2dbabba-22d5-4e3a-aba6-c9439ff04c3c\">\n",
              "    <div class=\"colab-df-container\">\n",
              "      <div>\n",
              "<style scoped>\n",
              "    .dataframe tbody tr th:only-of-type {\n",
              "        vertical-align: middle;\n",
              "    }\n",
              "\n",
              "    .dataframe tbody tr th {\n",
              "        vertical-align: top;\n",
              "    }\n",
              "\n",
              "    .dataframe thead th {\n",
              "        text-align: right;\n",
              "    }\n",
              "</style>\n",
              "<table border=\"1\" class=\"dataframe\">\n",
              "  <thead>\n",
              "    <tr style=\"text-align: right;\">\n",
              "      <th></th>\n",
              "      <th>0</th>\n",
              "      <th>1</th>\n",
              "      <th>2</th>\n",
              "      <th>3</th>\n",
              "      <th>4</th>\n",
              "    </tr>\n",
              "  </thead>\n",
              "  <tbody>\n",
              "    <tr>\n",
              "      <th>mean_fit_time</th>\n",
              "      <td>69.860762</td>\n",
              "      <td>99.552037</td>\n",
              "      <td>100.664553</td>\n",
              "      <td>76.114082</td>\n",
              "      <td>70.050294</td>\n",
              "    </tr>\n",
              "    <tr>\n",
              "      <th>std_fit_time</th>\n",
              "      <td>13.899386</td>\n",
              "      <td>1.574385</td>\n",
              "      <td>32.290038</td>\n",
              "      <td>14.605508</td>\n",
              "      <td>11.191937</td>\n",
              "    </tr>\n",
              "    <tr>\n",
              "      <th>mean_score_time</th>\n",
              "      <td>1.314526</td>\n",
              "      <td>0.754752</td>\n",
              "      <td>0.760037</td>\n",
              "      <td>0.966445</td>\n",
              "      <td>0.855877</td>\n",
              "    </tr>\n",
              "    <tr>\n",
              "      <th>std_score_time</th>\n",
              "      <td>0.814512</td>\n",
              "      <td>0.095335</td>\n",
              "      <td>0.287182</td>\n",
              "      <td>0.21938</td>\n",
              "      <td>0.308996</td>\n",
              "    </tr>\n",
              "    <tr>\n",
              "      <th>param_nodes</th>\n",
              "      <td>69</td>\n",
              "      <td>89</td>\n",
              "      <td>78</td>\n",
              "      <td>69</td>\n",
              "      <td>69</td>\n",
              "    </tr>\n",
              "    <tr>\n",
              "      <th>param_epochs</th>\n",
              "      <td>90</td>\n",
              "      <td>140</td>\n",
              "      <td>130</td>\n",
              "      <td>90</td>\n",
              "      <td>90</td>\n",
              "    </tr>\n",
              "    <tr>\n",
              "      <th>param_dropout_values</th>\n",
              "      <td>0.474649</td>\n",
              "      <td>0.435152</td>\n",
              "      <td>0.885669</td>\n",
              "      <td>0.885669</td>\n",
              "      <td>0.783383</td>\n",
              "    </tr>\n",
              "    <tr>\n",
              "      <th>param_batch_size</th>\n",
              "      <td>63</td>\n",
              "      <td>63</td>\n",
              "      <td>63</td>\n",
              "      <td>63</td>\n",
              "      <td>33</td>\n",
              "    </tr>\n",
              "    <tr>\n",
              "      <th>param_L2_values</th>\n",
              "      <td>0.0</td>\n",
              "      <td>0.000001</td>\n",
              "      <td>0.0</td>\n",
              "      <td>0.0</td>\n",
              "      <td>0.0</td>\n",
              "    </tr>\n",
              "    <tr>\n",
              "      <th>param_L1_values</th>\n",
              "      <td>0.000001</td>\n",
              "      <td>0.0</td>\n",
              "      <td>0.0</td>\n",
              "      <td>0.000001</td>\n",
              "      <td>0.0</td>\n",
              "    </tr>\n",
              "    <tr>\n",
              "      <th>params</th>\n",
              "      <td>{'nodes': 69, 'epochs': 90, 'dropout_values': ...</td>\n",
              "      <td>{'nodes': 89, 'epochs': 140, 'dropout_values':...</td>\n",
              "      <td>{'nodes': 78, 'epochs': 130, 'dropout_values':...</td>\n",
              "      <td>{'nodes': 69, 'epochs': 90, 'dropout_values': ...</td>\n",
              "      <td>{'nodes': 69, 'epochs': 90, 'dropout_values': ...</td>\n",
              "    </tr>\n",
              "    <tr>\n",
              "      <th>split0_test_score</th>\n",
              "      <td>NaN</td>\n",
              "      <td>NaN</td>\n",
              "      <td>NaN</td>\n",
              "      <td>NaN</td>\n",
              "      <td>NaN</td>\n",
              "    </tr>\n",
              "    <tr>\n",
              "      <th>split1_test_score</th>\n",
              "      <td>NaN</td>\n",
              "      <td>NaN</td>\n",
              "      <td>NaN</td>\n",
              "      <td>NaN</td>\n",
              "      <td>NaN</td>\n",
              "    </tr>\n",
              "    <tr>\n",
              "      <th>split2_test_score</th>\n",
              "      <td>NaN</td>\n",
              "      <td>NaN</td>\n",
              "      <td>NaN</td>\n",
              "      <td>NaN</td>\n",
              "      <td>NaN</td>\n",
              "    </tr>\n",
              "    <tr>\n",
              "      <th>mean_test_score</th>\n",
              "      <td>NaN</td>\n",
              "      <td>NaN</td>\n",
              "      <td>NaN</td>\n",
              "      <td>NaN</td>\n",
              "      <td>NaN</td>\n",
              "    </tr>\n",
              "    <tr>\n",
              "      <th>std_test_score</th>\n",
              "      <td>NaN</td>\n",
              "      <td>NaN</td>\n",
              "      <td>NaN</td>\n",
              "      <td>NaN</td>\n",
              "      <td>NaN</td>\n",
              "    </tr>\n",
              "    <tr>\n",
              "      <th>rank_test_score</th>\n",
              "      <td>1</td>\n",
              "      <td>2</td>\n",
              "      <td>3</td>\n",
              "      <td>4</td>\n",
              "      <td>5</td>\n",
              "    </tr>\n",
              "  </tbody>\n",
              "</table>\n",
              "</div>\n",
              "      <button class=\"colab-df-convert\" onclick=\"convertToInteractive('df-d2dbabba-22d5-4e3a-aba6-c9439ff04c3c')\"\n",
              "              title=\"Convert this dataframe to an interactive table.\"\n",
              "              style=\"display:none;\">\n",
              "        \n",
              "  <svg xmlns=\"http://www.w3.org/2000/svg\" height=\"24px\"viewBox=\"0 0 24 24\"\n",
              "       width=\"24px\">\n",
              "    <path d=\"M0 0h24v24H0V0z\" fill=\"none\"/>\n",
              "    <path d=\"M18.56 5.44l.94 2.06.94-2.06 2.06-.94-2.06-.94-.94-2.06-.94 2.06-2.06.94zm-11 1L8.5 8.5l.94-2.06 2.06-.94-2.06-.94L8.5 2.5l-.94 2.06-2.06.94zm10 10l.94 2.06.94-2.06 2.06-.94-2.06-.94-.94-2.06-.94 2.06-2.06.94z\"/><path d=\"M17.41 7.96l-1.37-1.37c-.4-.4-.92-.59-1.43-.59-.52 0-1.04.2-1.43.59L10.3 9.45l-7.72 7.72c-.78.78-.78 2.05 0 2.83L4 21.41c.39.39.9.59 1.41.59.51 0 1.02-.2 1.41-.59l7.78-7.78 2.81-2.81c.8-.78.8-2.07 0-2.86zM5.41 20L4 18.59l7.72-7.72 1.47 1.35L5.41 20z\"/>\n",
              "  </svg>\n",
              "      </button>\n",
              "      \n",
              "  <style>\n",
              "    .colab-df-container {\n",
              "      display:flex;\n",
              "      flex-wrap:wrap;\n",
              "      gap: 12px;\n",
              "    }\n",
              "\n",
              "    .colab-df-convert {\n",
              "      background-color: #E8F0FE;\n",
              "      border: none;\n",
              "      border-radius: 50%;\n",
              "      cursor: pointer;\n",
              "      display: none;\n",
              "      fill: #1967D2;\n",
              "      height: 32px;\n",
              "      padding: 0 0 0 0;\n",
              "      width: 32px;\n",
              "    }\n",
              "\n",
              "    .colab-df-convert:hover {\n",
              "      background-color: #E2EBFA;\n",
              "      box-shadow: 0px 1px 2px rgba(60, 64, 67, 0.3), 0px 1px 3px 1px rgba(60, 64, 67, 0.15);\n",
              "      fill: #174EA6;\n",
              "    }\n",
              "\n",
              "    [theme=dark] .colab-df-convert {\n",
              "      background-color: #3B4455;\n",
              "      fill: #D2E3FC;\n",
              "    }\n",
              "\n",
              "    [theme=dark] .colab-df-convert:hover {\n",
              "      background-color: #434B5C;\n",
              "      box-shadow: 0px 1px 3px 1px rgba(0, 0, 0, 0.15);\n",
              "      filter: drop-shadow(0px 1px 2px rgba(0, 0, 0, 0.3));\n",
              "      fill: #FFFFFF;\n",
              "    }\n",
              "  </style>\n",
              "\n",
              "      <script>\n",
              "        const buttonEl =\n",
              "          document.querySelector('#df-d2dbabba-22d5-4e3a-aba6-c9439ff04c3c button.colab-df-convert');\n",
              "        buttonEl.style.display =\n",
              "          google.colab.kernel.accessAllowed ? 'block' : 'none';\n",
              "\n",
              "        async function convertToInteractive(key) {\n",
              "          const element = document.querySelector('#df-d2dbabba-22d5-4e3a-aba6-c9439ff04c3c');\n",
              "          const dataTable =\n",
              "            await google.colab.kernel.invokeFunction('convertToInteractive',\n",
              "                                                     [key], {});\n",
              "          if (!dataTable) return;\n",
              "\n",
              "          const docLinkHtml = 'Like what you see? Visit the ' +\n",
              "            '<a target=\"_blank\" href=https://colab.research.google.com/notebooks/data_table.ipynb>data table notebook</a>'\n",
              "            + ' to learn more about interactive tables.';\n",
              "          element.innerHTML = '';\n",
              "          dataTable['output_type'] = 'display_data';\n",
              "          await google.colab.output.renderOutput(dataTable, element);\n",
              "          const docLink = document.createElement('div');\n",
              "          docLink.innerHTML = docLinkHtml;\n",
              "          element.appendChild(docLink);\n",
              "        }\n",
              "      </script>\n",
              "    </div>\n",
              "  </div>\n",
              "  "
            ]
          },
          "metadata": {},
          "execution_count": 51
        }
      ]
    }
  ]
}