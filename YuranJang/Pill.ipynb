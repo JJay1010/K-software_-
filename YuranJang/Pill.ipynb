{
  "nbformat": 4,
  "nbformat_minor": 0,
  "metadata": {
    "colab": {
      "provenance": [],
      "mount_file_id": "1aX75vSI3ABCbADm_R9p1JUhWShDliufN",
      "authorship_tag": "ABX9TyMfwgJfR/c8etconuC655Qh",
      "include_colab_link": true
    },
    "kernelspec": {
      "name": "python3",
      "display_name": "Python 3"
    },
    "language_info": {
      "name": "python"
    },
    "gpuClass": "standard",
    "accelerator": "GPU"
  },
  "cells": [
    {
      "cell_type": "markdown",
      "metadata": {
        "id": "view-in-github",
        "colab_type": "text"
      },
      "source": [
        "<a href=\"https://colab.research.google.com/github/JJay1010/K-software_-/blob/main/YuranJang/Pill.ipynb\" target=\"_parent\"><img src=\"https://colab.research.google.com/assets/colab-badge.svg\" alt=\"Open In Colab\"/></a>"
      ]
    },
    {
      "cell_type": "code",
      "execution_count": 1,
      "metadata": {
        "id": "SW4n9tcr2Zxm"
      },
      "outputs": [],
      "source": [
        "import tensorflow as tf\n",
        "import pandas as pd\n",
        "import numpy as np\n",
        "import os\n",
        "from sklearn.model_selection import train_test_split\n",
        "import cv2\n",
        "import glob\n",
        "import PIL\n",
        "from PIL import Image\n",
        "import json"
      ]
    },
    {
      "cell_type": "markdown",
      "source": [
        "텍스트데이터 가져오기"
      ],
      "metadata": {
        "id": "H0BMxak2786S"
      }
    },
    {
      "cell_type": "code",
      "source": [
        "mother_path = '/content/drive/MyDrive/med_labels'\n",
        "folder_list = os.listdir(mother_path)\n",
        "path_list = []\n",
        "for folder in folder_list:\n",
        "    path1 = mother_path + \"/\" + folder\n",
        "    folder_list2 = os.listdir(path1)\n",
        "    for folder2 in folder_list2:\n",
        "      path2 = path1 + '/' + folder2\n",
        "      path_list.append(path2)"
      ],
      "metadata": {
        "id": "wDIysyGvuDmD"
      },
      "execution_count": 2,
      "outputs": []
    },
    {
      "cell_type": "code",
      "source": [
        "print(type(path_list))\n",
        "print(path_list[0])"
      ],
      "metadata": {
        "colab": {
          "base_uri": "https://localhost:8080/"
        },
        "id": "d9jeh_k-yS3R",
        "outputId": "8cb9e3ca-b961-410a-a6f7-8762e3f52134"
      },
      "execution_count": 3,
      "outputs": [
        {
          "output_type": "stream",
          "name": "stdout",
          "text": [
            "<class 'list'>\n",
            "/content/drive/MyDrive/med_labels/K-004378-005002-005094-019552_json/K-004378\n"
          ]
        }
      ]
    },
    {
      "cell_type": "code",
      "source": [
        "output_list = []\n",
        "for path in path_list:\n",
        "  output = glob.glob(path + '/*.json')\n",
        "  for i in range(len(output)):\n",
        "    if output[i] == \"\":\n",
        "      pass\n",
        "    else:\n",
        "      output_list.append(output[i])"
      ],
      "metadata": {
        "id": "zCPLNAau0rud"
      },
      "execution_count": 4,
      "outputs": []
    },
    {
      "cell_type": "code",
      "source": [
        "print(output_list[0])"
      ],
      "metadata": {
        "colab": {
          "base_uri": "https://localhost:8080/"
        },
        "id": "H8SUpdEN43vJ",
        "outputId": "4f2f4b3a-f50c-47e0-9a62-2ff0e3b31858"
      },
      "execution_count": 5,
      "outputs": [
        {
          "output_type": "stream",
          "name": "stdout",
          "text": [
            "/content/drive/MyDrive/med_labels/K-004378-005002-005094-019552_json/K-004378/K-004378-005002-005094-019552_0_2_0_2_90_000_200.json\n"
          ]
        }
      ]
    },
    {
      "cell_type": "code",
      "source": [
        "example_file = open(output_list[0])\n",
        "json_file = json.load(example_file)"
      ],
      "metadata": {
        "id": "CY-9Mowbuf6u"
      },
      "execution_count": 6,
      "outputs": []
    },
    {
      "cell_type": "code",
      "source": [
        "print(json_file)"
      ],
      "metadata": {
        "colab": {
          "base_uri": "https://localhost:8080/"
        },
        "id": "xrEDs2Si6xkr",
        "outputId": "676d0bd0-9666-478d-8fc2-c2b9cbc5b241"
      },
      "execution_count": 7,
      "outputs": [
        {
          "output_type": "stream",
          "name": "stdout",
          "text": [
            "{'images': [{'file_name': 'K-004378-005002-005094-019552_0_2_0_2_90_000_200.png', 'width': 976, 'height': 1280, 'imgfile': 'K-004378-005002-005094-019552_0_2_0_2_90_000_200.png', 'drug_N': 'K-004378', 'drug_S': '정상알약', 'back_color': '연회색 배경', 'drug_dir': '앞면', 'light_color': '주백색', 'camera_la': 90, 'camera_lo': 0, 'size': 200, 'dl_idx': '4377', 'dl_mapping_code': 'K-004378', 'dl_name': '타이레놀정500mg', 'dl_name_en': 'Tylenol Tab. 500mg', 'img_key': 'http://connectdi.com/design/img/drug/147427630838400132.jpg', 'dl_material': '아세트아미노펜', 'dl_material_en': 'Acetaminophen', 'dl_custom_shape': '정제, 저작정', 'dl_company': '(주)한국얀센', 'dl_company_en': 'Janssen Korea', 'di_company_mf': '', 'di_company_mf_en': '', 'item_seq': 199303108, 'di_item_permit_date': '20010404', 'di_class_no': '[01140]해열.진통.소염제', 'di_etc_otc_code': '일반의약품', 'di_edi_code': '646900720', 'chart': '백색의 장방형 필름코팅정제', 'drug_shape': '장방형', 'thick': 6.5, 'leng_long': 17.5, 'leng_short': 7.2, 'print_front': 'TYLENOL', 'print_back': '500', 'color_class1': '하양', 'color_class2': '', 'line_front': '', 'line_back': '', 'img_regist_ts': '20041222', 'form_code_name': '필름코팅정', 'mark_code_front_anal': '', 'mark_code_back_anal': '', 'mark_code_front_img': '', 'mark_code_back_img': '', 'mark_code_front': '', 'mark_code_back': '', 'change_date': '20200113', 'id': 1}], 'type': 'instances', 'annotations': [{'area': 96180, 'iscrowd': 0, 'bbox': [595, 700, 210, 458], 'category_id': 1, 'ignore': 0, 'segmentation': [], 'id': 1, 'image_id': 1}], 'categories': [{'supercategory': 'pill', 'id': 1, 'name': 'Drug'}]}\n"
          ]
        }
      ]
    },
    {
      "cell_type": "code",
      "source": [
        "json_file.get('images')"
      ],
      "metadata": {
        "colab": {
          "base_uri": "https://localhost:8080/"
        },
        "id": "Gezkpqta60oB",
        "outputId": "119c5168-107f-4393-e612-7ff91d4ff18a"
      },
      "execution_count": 8,
      "outputs": [
        {
          "output_type": "execute_result",
          "data": {
            "text/plain": [
              "[{'file_name': 'K-004378-005002-005094-019552_0_2_0_2_90_000_200.png',\n",
              "  'width': 976,\n",
              "  'height': 1280,\n",
              "  'imgfile': 'K-004378-005002-005094-019552_0_2_0_2_90_000_200.png',\n",
              "  'drug_N': 'K-004378',\n",
              "  'drug_S': '정상알약',\n",
              "  'back_color': '연회색 배경',\n",
              "  'drug_dir': '앞면',\n",
              "  'light_color': '주백색',\n",
              "  'camera_la': 90,\n",
              "  'camera_lo': 0,\n",
              "  'size': 200,\n",
              "  'dl_idx': '4377',\n",
              "  'dl_mapping_code': 'K-004378',\n",
              "  'dl_name': '타이레놀정500mg',\n",
              "  'dl_name_en': 'Tylenol Tab. 500mg',\n",
              "  'img_key': 'http://connectdi.com/design/img/drug/147427630838400132.jpg',\n",
              "  'dl_material': '아세트아미노펜',\n",
              "  'dl_material_en': 'Acetaminophen',\n",
              "  'dl_custom_shape': '정제, 저작정',\n",
              "  'dl_company': '(주)한국얀센',\n",
              "  'dl_company_en': 'Janssen Korea',\n",
              "  'di_company_mf': '',\n",
              "  'di_company_mf_en': '',\n",
              "  'item_seq': 199303108,\n",
              "  'di_item_permit_date': '20010404',\n",
              "  'di_class_no': '[01140]해열.진통.소염제',\n",
              "  'di_etc_otc_code': '일반의약품',\n",
              "  'di_edi_code': '646900720',\n",
              "  'chart': '백색의 장방형 필름코팅정제',\n",
              "  'drug_shape': '장방형',\n",
              "  'thick': 6.5,\n",
              "  'leng_long': 17.5,\n",
              "  'leng_short': 7.2,\n",
              "  'print_front': 'TYLENOL',\n",
              "  'print_back': '500',\n",
              "  'color_class1': '하양',\n",
              "  'color_class2': '',\n",
              "  'line_front': '',\n",
              "  'line_back': '',\n",
              "  'img_regist_ts': '20041222',\n",
              "  'form_code_name': '필름코팅정',\n",
              "  'mark_code_front_anal': '',\n",
              "  'mark_code_back_anal': '',\n",
              "  'mark_code_front_img': '',\n",
              "  'mark_code_back_img': '',\n",
              "  'mark_code_front': '',\n",
              "  'mark_code_back': '',\n",
              "  'change_date': '20200113',\n",
              "  'id': 1}]"
            ]
          },
          "metadata": {},
          "execution_count": 8
        }
      ]
    },
    {
      "cell_type": "markdown",
      "source": [
        "이미지데이터 가져오기"
      ],
      "metadata": {
        "id": "e1BtVhM2-PDu"
      }
    },
    {
      "cell_type": "code",
      "source": [
        "%cd /content/drive/MyDrive\n",
        "!unzip -qq \"/content/drive/MyDrive/med_images.zip\""
      ],
      "metadata": {
        "colab": {
          "base_uri": "https://localhost:8080/"
        },
        "id": "wYGBtsWS-Orj",
        "outputId": "8b0ec9dd-da24-4055-9266-c84357e36dab"
      },
      "execution_count": 13,
      "outputs": [
        {
          "output_type": "stream",
          "name": "stdout",
          "text": [
            "/content/drive/MyDrive\n"
          ]
        }
      ]
    },
    {
      "cell_type": "code",
      "source": [
        "img_dir_path = '/content/drive/MyDrive/med_images'\n",
        "img_path_list = glob.glob(img_dir_path + '/*/*.png')"
      ],
      "metadata": {
        "id": "6jfSezJ18tU5"
      },
      "execution_count": 10,
      "outputs": []
    },
    {
      "cell_type": "code",
      "source": [
        "print(len(img_path_list))"
      ],
      "metadata": {
        "colab": {
          "base_uri": "https://localhost:8080/"
        },
        "id": "iVqLo6r9CVDs",
        "outputId": "bcac2c75-82c4-4492-a2ae-5e1ea187e9cf"
      },
      "execution_count": 11,
      "outputs": [
        {
          "output_type": "stream",
          "name": "stdout",
          "text": [
            "2000\n"
          ]
        }
      ]
    },
    {
      "cell_type": "code",
      "source": [
        "print(img_path_list[0])"
      ],
      "metadata": {
        "colab": {
          "base_uri": "https://localhost:8080/"
        },
        "id": "Bu-QKa5zCbEu",
        "outputId": "9bbbe55d-e3b7-4e65-b2e9-1e529482492c"
      },
      "execution_count": 12,
      "outputs": [
        {
          "output_type": "stream",
          "name": "stdout",
          "text": [
            "/content/med_images/K-004378-022627-025438-038954/K-004378-022627-025438-038954_index.png\n"
          ]
        }
      ]
    },
    {
      "cell_type": "code",
      "source": [],
      "metadata": {
        "id": "qB6YuRAgCiCr"
      },
      "execution_count": null,
      "outputs": []
    }
  ]
}